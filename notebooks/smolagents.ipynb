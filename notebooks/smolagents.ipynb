{
 "cells": [
  {
   "cell_type": "markdown",
   "id": "17c21521",
   "metadata": {},
   "source": [
    "# Overview of [smolagents](https://huggingface.co/docs/smolagents)"
   ]
  },
  {
   "cell_type": "code",
   "execution_count": 1,
   "id": "86808b28",
   "metadata": {},
   "outputs": [
    {
     "name": "stderr",
     "output_type": "stream",
     "text": [
      "\u001b[32m2025-04-20 13:02:20.612\u001b[0m | \u001b[34m\u001b[1mDEBUG   \u001b[0m | \u001b[36mtravel_agent.qdrant.client\u001b[0m:\u001b[36mcreate_client\u001b[0m:\u001b[36m12\u001b[0m - \u001b[34m\u001b[1mConnecting to Qdrant at https://21a1c8c4-0d63-4176-9930-ee7848dafd2f.eu-central-1-0.aws.cloud.qdrant.io\u001b[0m\n",
      "\u001b[32m2025-04-20 13:02:21.014\u001b[0m | \u001b[32m\u001b[1mSUCCESS \u001b[0m | \u001b[36mtravel_agent.qdrant.client\u001b[0m:\u001b[36mcreate_client\u001b[0m:\u001b[36m22\u001b[0m - \u001b[32m\u001b[1mconnected: title='qdrant - vector search engine' version='1.13.6' commit='4db98ecdbf66bedbce268ec26865ea446d0bba7b'\u001b[0m\n"
     ]
    },
    {
     "name": "stdout",
     "output_type": "stream",
     "text": [
      "Available embed models:\n",
      "- cointegrated/rubert-tiny2\n",
      "- DeepPavlov/rubert-base-cased-sentence\n",
      "- ai-forever/sbert_large_nlu_ru\n",
      "- ai-forever/sbert_large_mt_nlu_ru\n",
      "- sentence-transformers/distiluse-base-multilingual-cased-v1\n",
      "- sentence-transformers/distiluse-base-multilingual-cased-v2\n",
      "- sentence-transformers/paraphrase-multilingual-MiniLM-L12-v2\n",
      "- sentence-transformers/paraphrase-multilingual-mpnet-base-v2\n",
      "- intfloat/multilingual-e5-large\n",
      "- intfloat/multilingual-e5-base\n",
      "- intfloat/multilingual-e5-small\n",
      "- ai-forever/ru-en-RoSBERTa\n",
      "- sergeyzh/BERTA\n"
     ]
    }
   ],
   "source": [
    "import os\n",
    "\n",
    "from smolagents import LiteLLMModel, ToolCallingAgent\n",
    "\n",
    "from travel_agent.qdrant import client as qdrant_client\n",
    "from travel_agent.retrieval.embedding.embedding_generation import MODELS_PROMPTS\n",
    "from travel_agent.retrieval.smolagents.prompts import RUS_PROMPT_TEMPLATES\n",
    "from travel_agent.retrieval.smolagents.tool import TravelReviewQueryTool\n",
    "\n",
    "if not os.getenv(\"QDRANT_URL\"):\n",
    "    print(\"Set QDRANT_URL and QDRANT_API_KEY env\")\n",
    "    exit(1)\n",
    "\n",
    "print(f\"Available embed models:\\n- {'\\n- '.join(MODELS_PROMPTS.keys())}\")"
   ]
  },
  {
   "cell_type": "code",
   "execution_count": 2,
   "id": "c33b8241",
   "metadata": {},
   "outputs": [
    {
     "name": "stdout",
     "output_type": "stream",
     "text": [
      "Привет! Да, я здесь. - Это Кизару. Как я могу помочь вам сегодня?\n"
     ]
    }
   ],
   "source": [
    "# Replace with your favourite local model\n",
    "MODEL_NAME = \"hf.co/IlyaGusev/saiga_nemo_12b_gguf:Q4_0\"\n",
    "model_id = f\"ollama_chat/{MODEL_NAME}\"\n",
    "\n",
    "\n",
    "model = LiteLLMModel(\n",
    "    model_id=model_id,\n",
    "    api_base=os.getenv(\"OLLAMA_URL\", \"http://127.0.0.1:11434\"),\n",
    "    num_ctx=8192,  # ollama default is 2048 which will fail horribly. 8192 works for easy tasks, more is better. Check https://huggingface.co/spaces/NyxKrage/LLM-Model-VRAM-Calculator to calculate how much VRAM this will need for the selected model.\n",
    ")\n",
    "\n",
    "test_response = model([{\"role\": \"user\", \"content\": [{\"text\": \"Алло, это Кизару у телефона?\", \"type\": \"text\"}]}]).content\n",
    "print(test_response)\n",
    "assert test_response"
   ]
  },
  {
   "cell_type": "code",
   "execution_count": 3,
   "id": "80984aec",
   "metadata": {},
   "outputs": [
    {
     "name": "stderr",
     "output_type": "stream",
     "text": [
      "\u001b[32m2025-04-20 13:02:27.964\u001b[0m | \u001b[1mINFO    \u001b[0m | \u001b[36mtravel_agent.retrieval.smolagents.tool\u001b[0m:\u001b[36m__init__\u001b[0m:\u001b[36m70\u001b[0m - \u001b[1mUsing device: mps\u001b[0m\n"
     ]
    }
   ],
   "source": [
    "embed_model_name = \"intfloat/multilingual-e5-base\"\n",
    "collection_name = \"moskva_intfloat_multilingual_e5_base\"\n",
    "\n",
    "\n",
    "review_search_tool = TravelReviewQueryTool(embed_model_name, qdrant_client, collection_name)\n",
    "\n",
    "\n",
    "agent = ToolCallingAgent(tools=[review_search_tool], model=model, max_steps=3, verbosity_level=2)"
   ]
  },
  {
   "cell_type": "code",
   "execution_count": 4,
   "id": "d0dbf3d5",
   "metadata": {},
   "outputs": [
    {
     "name": "stdout",
     "output_type": "stream",
     "text": [
      "You are an expert assistant who can solve any task using tool calls. You will be given a task to solve as best you can.\n",
      "To do so, you have been given access to some tools.\n",
      "\n",
      "The tool call you write is an action: after the tool is executed, you will get the result of the tool call as an \"observation\".\n",
      "This Action/Observation can repeat N times, you should take several steps when needed.\n",
      "\n",
      "You can use the result of the previous action as input for the next action.\n",
      "The observation will always be a string: it can represent a file, like \"image_1.jpg\".\n",
      "Then you can use it as input for the next action. You can do it for instance as follows:\n",
      "\n",
      "Observation: \"image_1.jpg\"\n",
      "\n",
      "Action:\n",
      "{\n",
      "  \"name\": \"image_transformer\",\n",
      "  \"arguments\": {\"image\": \"image_1.jpg\"}\n",
      "}\n",
      "\n",
      "To provide the final answer to the task, use an action blob with \"name\": \"final_answer\" tool. It is the only way to complete the task, else you will be stuck on a loop. So your final output should look like this:\n",
      "Action:\n",
      "{\n",
      "  \"name\": \"final_answer\",\n",
      "  \"arguments\": {\"answer\": \"insert your final answer here\"}\n",
      "}\n",
      "\n",
      "\n",
      "Here are a few examples using notional tools:\n",
      "---\n",
      "Task: \"Generate an image of the oldest person in this document.\"\n",
      "\n",
      "Action:\n",
      "{\n",
      "  \"name\": \"document_qa\",\n",
      "  \"arguments\": {\"document\": \"document.pdf\", \"question\": \"Who is the oldest person mentioned?\"}\n",
      "}\n",
      "Observation: \"The oldest person in the document is John Doe, a 55 year old lumberjack living in Newfoundland.\"\n",
      "\n",
      "Action:\n",
      "{\n",
      "  \"name\": \"image_generator\",\n",
      "  \"arguments\": {\"prompt\": \"A portrait of John Doe, a 55-year-old man living in Canada.\"}\n",
      "}\n",
      "Observation: \"image.png\"\n",
      "\n",
      "Action:\n",
      "{\n",
      "  \"name\": \"final_answer\",\n",
      "  \"arguments\": \"image.png\"\n",
      "}\n",
      "\n",
      "---\n",
      "Task: \"What is the result of the following operation: 5 + 3 + 1294.678?\"\n",
      "\n",
      "Action:\n",
      "{\n",
      "    \"name\": \"python_interpreter\",\n",
      "    \"arguments\": {\"code\": \"5 + 3 + 1294.678\"}\n",
      "}\n",
      "Observation: 1302.678\n",
      "\n",
      "Action:\n",
      "{\n",
      "  \"name\": \"final_answer\",\n",
      "  \"arguments\": \"1302.678\"\n",
      "}\n",
      "\n",
      "---\n",
      "Task: \"Which city has the highest population , Guangzhou or Shanghai?\"\n",
      "\n",
      "Action:\n",
      "{\n",
      "    \"name\": \"search\",\n",
      "    \"arguments\": \"Population Guangzhou\"\n",
      "}\n",
      "Observation: ['Guangzhou has a population of 15 million inhabitants as of 2021.']\n",
      "\n",
      "\n",
      "Action:\n",
      "{\n",
      "    \"name\": \"search\",\n",
      "    \"arguments\": \"Population Shanghai\"\n",
      "}\n",
      "Observation: '26 million (2019)'\n",
      "\n",
      "Action:\n",
      "{\n",
      "  \"name\": \"final_answer\",\n",
      "  \"arguments\": \"Shanghai\"\n",
      "}\n",
      "\n",
      "Above example were using notional tools that might not exist for you. You only have access to these tools:\n",
      "- travel_review_query: Использует семантический поиск для извлечения отзывов на различные заведения. Важно: не упоминайте весь текст отзыва в ответе. Разрешено использовать только смысл содержания, например: \"Посетители отмечают, что в заведении чисто и комфортно\"\n",
      "    Takes inputs: {'query': {'type': 'string', 'description': 'Запрос для поиска отзыва. Должен быть семантически близок к искомым отзывам, например: посоветуй хорошую кофейню в Москве.'}, 'min_rating': {'type': 'integer', 'description': 'Опциональное поле, фильтр минимального рейтинга (от 1 до 5)', 'nullable': True}, 'address': {'type': 'string', 'description': 'Опциональное поле, ключевое слово из адреса (город или улица), например: \"Москва\", \"улица Энгельса\"', 'nullable': True}, 'rubrics': {'type': 'string', 'description': 'Опциональное поле, использовать его только если не получилось получить подходящих результатов по параметру \"query\". Аргумент можно получить из утилиты get_existing_travel_review_rubrics', 'nullable': True}}\n",
      "    Returns an output of type: string\n",
      "- final_answer: Provides a final answer to the given problem.\n",
      "    Takes inputs: {'answer': {'type': 'any', 'description': 'The final answer to the problem'}}\n",
      "    Returns an output of type: any\n",
      "\n",
      "Here are the rules you should always follow to solve your task:\n",
      "1. ALWAYS provide a tool call, else you will fail.\n",
      "2. Always use the right arguments for the tools. Never use variable names as the action arguments, use the value instead.\n",
      "3. Call a tool only when needed: do not call the search agent if you do not need information, try to solve the task yourself.\n",
      "If no tool call is needed, use final_answer tool to return your answer.\n",
      "4. Never re-do a tool call that you previously did with the exact same parameters.\n",
      "\n",
      "Now Begin!\n"
     ]
    }
   ],
   "source": [
    "print(agent.system_prompt)"
   ]
  },
  {
   "cell_type": "code",
   "execution_count": 5,
   "id": "09c78b79",
   "metadata": {},
   "outputs": [
    {
     "data": {
      "text/html": [
       "<pre style=\"white-space:pre;overflow-x:auto;line-height:normal;font-family:Menlo,'DejaVu Sans Mono',consolas,'Courier New',monospace\"><span style=\"color: #d4b702; text-decoration-color: #d4b702\">╭──────────────────────────────────────────────────── </span><span style=\"color: #d4b702; text-decoration-color: #d4b702; font-weight: bold\">New run</span><span style=\"color: #d4b702; text-decoration-color: #d4b702\"> ────────────────────────────────────────────────────╮</span>\n",
       "<span style=\"color: #d4b702; text-decoration-color: #d4b702\">│</span>                                                                                                                 <span style=\"color: #d4b702; text-decoration-color: #d4b702\">│</span>\n",
       "<span style=\"color: #d4b702; text-decoration-color: #d4b702\">│</span> <span style=\"font-weight: bold\">Что ты думаешь о римской империи?</span>                                                                               <span style=\"color: #d4b702; text-decoration-color: #d4b702\">│</span>\n",
       "<span style=\"color: #d4b702; text-decoration-color: #d4b702\">│</span>                                                                                                                 <span style=\"color: #d4b702; text-decoration-color: #d4b702\">│</span>\n",
       "<span style=\"color: #d4b702; text-decoration-color: #d4b702\">╰─ LiteLLMModel - ollama_chat/hf.co/IlyaGusev/saiga_nemo_12b_gguf:Q4_0 ───────────────────────────────────────────╯</span>\n",
       "</pre>\n"
      ],
      "text/plain": [
       "\u001b[38;2;212;183;2m╭─\u001b[0m\u001b[38;2;212;183;2m───────────────────────────────────────────────────\u001b[0m\u001b[38;2;212;183;2m \u001b[0m\u001b[1;38;2;212;183;2mNew run\u001b[0m\u001b[38;2;212;183;2m \u001b[0m\u001b[38;2;212;183;2m───────────────────────────────────────────────────\u001b[0m\u001b[38;2;212;183;2m─╮\u001b[0m\n",
       "\u001b[38;2;212;183;2m│\u001b[0m                                                                                                                 \u001b[38;2;212;183;2m│\u001b[0m\n",
       "\u001b[38;2;212;183;2m│\u001b[0m \u001b[1mЧто ты думаешь о римской империи?\u001b[0m                                                                               \u001b[38;2;212;183;2m│\u001b[0m\n",
       "\u001b[38;2;212;183;2m│\u001b[0m                                                                                                                 \u001b[38;2;212;183;2m│\u001b[0m\n",
       "\u001b[38;2;212;183;2m╰─\u001b[0m\u001b[38;2;212;183;2m LiteLLMModel - ollama_chat/hf.co/IlyaGusev/saiga_nemo_12b_gguf:Q4_0 \u001b[0m\u001b[38;2;212;183;2m──────────────────────────────────────────\u001b[0m\u001b[38;2;212;183;2m─╯\u001b[0m\n"
      ]
     },
     "metadata": {},
     "output_type": "display_data"
    },
    {
     "data": {
      "text/html": [
       "<pre style=\"white-space:pre;overflow-x:auto;line-height:normal;font-family:Menlo,'DejaVu Sans Mono',consolas,'Courier New',monospace\"><span style=\"color: #d4b702; text-decoration-color: #d4b702\">━━━━━━━━━━━━━━━━━━━━━━━━━━━━━━━━━━━━━━━━━━━━━━━━━━━━━ </span><span style=\"font-weight: bold\">Step </span><span style=\"color: #008080; text-decoration-color: #008080; font-weight: bold\">1</span><span style=\"color: #d4b702; text-decoration-color: #d4b702\"> ━━━━━━━━━━━━━━━━━━━━━━━━━━━━━━━━━━━━━━━━━━━━━━━━━━━━━━</span>\n",
       "</pre>\n"
      ],
      "text/plain": [
       "\u001b[38;2;212;183;2m━━━━━━━━━━━━━━━━━━━━━━━━━━━━━━━━━━━━━━━━━━━━━━━━━━━━━ \u001b[0m\u001b[1mStep \u001b[0m\u001b[1;36m1\u001b[0m\u001b[38;2;212;183;2m ━━━━━━━━━━━━━━━━━━━━━━━━━━━━━━━━━━━━━━━━━━━━━━━━━━━━━━\u001b[0m\n"
      ]
     },
     "metadata": {},
     "output_type": "display_data"
    },
    {
     "data": {
      "text/html": [
       "<pre style=\"white-space:pre;overflow-x:auto;line-height:normal;font-family:Menlo,'DejaVu Sans Mono',consolas,'Courier New',monospace\"><span style=\"font-weight: bold; font-style: italic\">Output message of the LLM:</span> <span style=\"color: #d4b702; text-decoration-color: #d4b702\">────────────────────────────────────────────────────────────────────────────────────────</span>\n",
       "<span style=\"color: #e6edf3; text-decoration-color: #e6edf3; background-color: #0d1117\">{</span><span style=\"background-color: #0d1117\">                                                                                                                  </span>\n",
       "<span style=\"color: #e6edf3; text-decoration-color: #e6edf3; background-color: #0d1117\">  \"name\": \"final_answer\",</span><span style=\"background-color: #0d1117\">                                                                                          </span>\n",
       "<span style=\"color: #e6edf3; text-decoration-color: #e6edf3; background-color: #0d1117\">  \"arguments\": {</span><span style=\"background-color: #0d1117\">                                                                                                   </span>\n",
       "<span style=\"color: #e6edf3; text-decoration-color: #e6edf3; background-color: #0d1117\">    \"answer\": \"Римская империя была одним из величайших государств в истории человечества, известным своими </span><span style=\"background-color: #0d1117\">       </span>\n",
       "<span style=\"color: #e6edf3; text-decoration-color: #e6edf3; background-color: #0d1117\">значительными достижениями в области права, архитектуры, инженерии и культуры. Она оставила после себя наследие в </span><span style=\"background-color: #0d1117\"> </span>\n",
       "<span style=\"color: #e6edf3; text-decoration-color: #e6edf3; background-color: #0d1117\">виде правовых систем, мостов, дорог и искусства, которое до сих пор оказывает влияние на современный мир.\"</span><span style=\"background-color: #0d1117\">         </span>\n",
       "<span style=\"color: #e6edf3; text-decoration-color: #e6edf3; background-color: #0d1117\">  }</span><span style=\"background-color: #0d1117\">                                                                                                                </span>\n",
       "<span style=\"color: #e6edf3; text-decoration-color: #e6edf3; background-color: #0d1117\">}</span><span style=\"background-color: #0d1117\">                                                                                                                  </span>\n",
       "</pre>\n"
      ],
      "text/plain": [
       "\u001b[1;3mOutput message of the LLM:\u001b[0m \u001b[38;2;212;183;2m────────────────────────────────────────────────────────────────────────────────────────\u001b[0m\n",
       "\u001b[38;2;230;237;243;48;2;13;17;23m{\u001b[0m\u001b[48;2;13;17;23m                                                                                                                  \u001b[0m\n",
       "\u001b[38;2;230;237;243;48;2;13;17;23m \u001b[0m\u001b[38;2;230;237;243;48;2;13;17;23m \u001b[0m\u001b[38;2;230;237;243;48;2;13;17;23m\"name\":\u001b[0m\u001b[38;2;230;237;243;48;2;13;17;23m \u001b[0m\u001b[38;2;230;237;243;48;2;13;17;23m\"final_answer\",\u001b[0m\u001b[48;2;13;17;23m                                                                                          \u001b[0m\n",
       "\u001b[38;2;230;237;243;48;2;13;17;23m \u001b[0m\u001b[38;2;230;237;243;48;2;13;17;23m \u001b[0m\u001b[38;2;230;237;243;48;2;13;17;23m\"arguments\":\u001b[0m\u001b[38;2;230;237;243;48;2;13;17;23m \u001b[0m\u001b[38;2;230;237;243;48;2;13;17;23m{\u001b[0m\u001b[48;2;13;17;23m                                                                                                   \u001b[0m\n",
       "\u001b[38;2;230;237;243;48;2;13;17;23m \u001b[0m\u001b[38;2;230;237;243;48;2;13;17;23m \u001b[0m\u001b[38;2;230;237;243;48;2;13;17;23m \u001b[0m\u001b[38;2;230;237;243;48;2;13;17;23m \u001b[0m\u001b[38;2;230;237;243;48;2;13;17;23m\"answer\":\u001b[0m\u001b[38;2;230;237;243;48;2;13;17;23m \u001b[0m\u001b[38;2;230;237;243;48;2;13;17;23m\"Римская\u001b[0m\u001b[38;2;230;237;243;48;2;13;17;23m \u001b[0m\u001b[38;2;230;237;243;48;2;13;17;23mимперия\u001b[0m\u001b[38;2;230;237;243;48;2;13;17;23m \u001b[0m\u001b[38;2;230;237;243;48;2;13;17;23mбыла\u001b[0m\u001b[38;2;230;237;243;48;2;13;17;23m \u001b[0m\u001b[38;2;230;237;243;48;2;13;17;23mодним\u001b[0m\u001b[38;2;230;237;243;48;2;13;17;23m \u001b[0m\u001b[38;2;230;237;243;48;2;13;17;23mиз\u001b[0m\u001b[38;2;230;237;243;48;2;13;17;23m \u001b[0m\u001b[38;2;230;237;243;48;2;13;17;23mвеличайших\u001b[0m\u001b[38;2;230;237;243;48;2;13;17;23m \u001b[0m\u001b[38;2;230;237;243;48;2;13;17;23mгосударств\u001b[0m\u001b[38;2;230;237;243;48;2;13;17;23m \u001b[0m\u001b[38;2;230;237;243;48;2;13;17;23mв\u001b[0m\u001b[38;2;230;237;243;48;2;13;17;23m \u001b[0m\u001b[38;2;230;237;243;48;2;13;17;23mистории\u001b[0m\u001b[38;2;230;237;243;48;2;13;17;23m \u001b[0m\u001b[38;2;230;237;243;48;2;13;17;23mчеловечества,\u001b[0m\u001b[38;2;230;237;243;48;2;13;17;23m \u001b[0m\u001b[38;2;230;237;243;48;2;13;17;23mизвестным\u001b[0m\u001b[38;2;230;237;243;48;2;13;17;23m \u001b[0m\u001b[38;2;230;237;243;48;2;13;17;23mсвоими\u001b[0m\u001b[38;2;230;237;243;48;2;13;17;23m \u001b[0m\u001b[48;2;13;17;23m       \u001b[0m\n",
       "\u001b[38;2;230;237;243;48;2;13;17;23mзначительными\u001b[0m\u001b[38;2;230;237;243;48;2;13;17;23m \u001b[0m\u001b[38;2;230;237;243;48;2;13;17;23mдостижениями\u001b[0m\u001b[38;2;230;237;243;48;2;13;17;23m \u001b[0m\u001b[38;2;230;237;243;48;2;13;17;23mв\u001b[0m\u001b[38;2;230;237;243;48;2;13;17;23m \u001b[0m\u001b[38;2;230;237;243;48;2;13;17;23mобласти\u001b[0m\u001b[38;2;230;237;243;48;2;13;17;23m \u001b[0m\u001b[38;2;230;237;243;48;2;13;17;23mправа,\u001b[0m\u001b[38;2;230;237;243;48;2;13;17;23m \u001b[0m\u001b[38;2;230;237;243;48;2;13;17;23mархитектуры,\u001b[0m\u001b[38;2;230;237;243;48;2;13;17;23m \u001b[0m\u001b[38;2;230;237;243;48;2;13;17;23mинженерии\u001b[0m\u001b[38;2;230;237;243;48;2;13;17;23m \u001b[0m\u001b[38;2;230;237;243;48;2;13;17;23mи\u001b[0m\u001b[38;2;230;237;243;48;2;13;17;23m \u001b[0m\u001b[38;2;230;237;243;48;2;13;17;23mкультуры.\u001b[0m\u001b[38;2;230;237;243;48;2;13;17;23m \u001b[0m\u001b[38;2;230;237;243;48;2;13;17;23mОна\u001b[0m\u001b[38;2;230;237;243;48;2;13;17;23m \u001b[0m\u001b[38;2;230;237;243;48;2;13;17;23mоставила\u001b[0m\u001b[38;2;230;237;243;48;2;13;17;23m \u001b[0m\u001b[38;2;230;237;243;48;2;13;17;23mпосле\u001b[0m\u001b[38;2;230;237;243;48;2;13;17;23m \u001b[0m\u001b[38;2;230;237;243;48;2;13;17;23mсебя\u001b[0m\u001b[38;2;230;237;243;48;2;13;17;23m \u001b[0m\u001b[38;2;230;237;243;48;2;13;17;23mнаследие\u001b[0m\u001b[38;2;230;237;243;48;2;13;17;23m \u001b[0m\u001b[38;2;230;237;243;48;2;13;17;23mв\u001b[0m\u001b[38;2;230;237;243;48;2;13;17;23m \u001b[0m\u001b[48;2;13;17;23m \u001b[0m\n",
       "\u001b[38;2;230;237;243;48;2;13;17;23mвиде\u001b[0m\u001b[38;2;230;237;243;48;2;13;17;23m \u001b[0m\u001b[38;2;230;237;243;48;2;13;17;23mправовых\u001b[0m\u001b[38;2;230;237;243;48;2;13;17;23m \u001b[0m\u001b[38;2;230;237;243;48;2;13;17;23mсистем,\u001b[0m\u001b[38;2;230;237;243;48;2;13;17;23m \u001b[0m\u001b[38;2;230;237;243;48;2;13;17;23mмостов,\u001b[0m\u001b[38;2;230;237;243;48;2;13;17;23m \u001b[0m\u001b[38;2;230;237;243;48;2;13;17;23mдорог\u001b[0m\u001b[38;2;230;237;243;48;2;13;17;23m \u001b[0m\u001b[38;2;230;237;243;48;2;13;17;23mи\u001b[0m\u001b[38;2;230;237;243;48;2;13;17;23m \u001b[0m\u001b[38;2;230;237;243;48;2;13;17;23mискусства,\u001b[0m\u001b[38;2;230;237;243;48;2;13;17;23m \u001b[0m\u001b[38;2;230;237;243;48;2;13;17;23mкоторое\u001b[0m\u001b[38;2;230;237;243;48;2;13;17;23m \u001b[0m\u001b[38;2;230;237;243;48;2;13;17;23mдо\u001b[0m\u001b[38;2;230;237;243;48;2;13;17;23m \u001b[0m\u001b[38;2;230;237;243;48;2;13;17;23mсих\u001b[0m\u001b[38;2;230;237;243;48;2;13;17;23m \u001b[0m\u001b[38;2;230;237;243;48;2;13;17;23mпор\u001b[0m\u001b[38;2;230;237;243;48;2;13;17;23m \u001b[0m\u001b[38;2;230;237;243;48;2;13;17;23mоказывает\u001b[0m\u001b[38;2;230;237;243;48;2;13;17;23m \u001b[0m\u001b[38;2;230;237;243;48;2;13;17;23mвлияние\u001b[0m\u001b[38;2;230;237;243;48;2;13;17;23m \u001b[0m\u001b[38;2;230;237;243;48;2;13;17;23mна\u001b[0m\u001b[38;2;230;237;243;48;2;13;17;23m \u001b[0m\u001b[38;2;230;237;243;48;2;13;17;23mсовременный\u001b[0m\u001b[38;2;230;237;243;48;2;13;17;23m \u001b[0m\u001b[38;2;230;237;243;48;2;13;17;23mмир.\"\u001b[0m\u001b[48;2;13;17;23m         \u001b[0m\n",
       "\u001b[38;2;230;237;243;48;2;13;17;23m \u001b[0m\u001b[38;2;230;237;243;48;2;13;17;23m \u001b[0m\u001b[38;2;230;237;243;48;2;13;17;23m}\u001b[0m\u001b[48;2;13;17;23m                                                                                                                \u001b[0m\n",
       "\u001b[38;2;230;237;243;48;2;13;17;23m}\u001b[0m\u001b[48;2;13;17;23m                                                                                                                  \u001b[0m\n"
      ]
     },
     "metadata": {},
     "output_type": "display_data"
    },
    {
     "data": {
      "text/html": [
       "<pre style=\"white-space:pre;overflow-x:auto;line-height:normal;font-family:Menlo,'DejaVu Sans Mono',consolas,'Courier New',monospace\">╭─────────────────────────────────────────────────────────────────────────────────────────────────────────────────╮\n",
       "│ Calling tool: 'final_answer' with arguments: {'answer': 'Римская империя была одним из величайших государств в  │\n",
       "│ истории человечества, известным своими значительными достижениями в области права, архитектуры, инженерии и     │\n",
       "│ культуры. Она оставила после себя наследие в виде правовых систем, мостов, дорог и искусства, которое до сих    │\n",
       "│ пор оказывает влияние на современный мир.'}                                                                     │\n",
       "╰─────────────────────────────────────────────────────────────────────────────────────────────────────────────────╯\n",
       "</pre>\n"
      ],
      "text/plain": [
       "╭─────────────────────────────────────────────────────────────────────────────────────────────────────────────────╮\n",
       "│ Calling tool: 'final_answer' with arguments: {'answer': 'Римская империя была одним из величайших государств в  │\n",
       "│ истории человечества, известным своими значительными достижениями в области права, архитектуры, инженерии и     │\n",
       "│ культуры. Она оставила после себя наследие в виде правовых систем, мостов, дорог и искусства, которое до сих    │\n",
       "│ пор оказывает влияние на современный мир.'}                                                                     │\n",
       "╰─────────────────────────────────────────────────────────────────────────────────────────────────────────────────╯\n"
      ]
     },
     "metadata": {},
     "output_type": "display_data"
    },
    {
     "data": {
      "text/html": [
       "<pre style=\"white-space:pre;overflow-x:auto;line-height:normal;font-family:Menlo,'DejaVu Sans Mono',consolas,'Courier New',monospace\"><span style=\"color: #d4b702; text-decoration-color: #d4b702; font-weight: bold\">Final answer: Римская империя была одним из величайших государств в истории человечества, известным своими </span>\n",
       "<span style=\"color: #d4b702; text-decoration-color: #d4b702; font-weight: bold\">значительными достижениями в области права, архитектуры, инженерии и культуры. Она оставила после себя наследие в </span>\n",
       "<span style=\"color: #d4b702; text-decoration-color: #d4b702; font-weight: bold\">виде правовых систем, мостов, дорог и искусства, которое до сих пор оказывает влияние на современный мир.</span>\n",
       "</pre>\n"
      ],
      "text/plain": [
       "\u001b[1;38;2;212;183;2mFinal answer: Римская империя была одним из величайших государств в истории человечества, известным своими \u001b[0m\n",
       "\u001b[1;38;2;212;183;2mзначительными достижениями в области права, архитектуры, инженерии и культуры. Она оставила после себя наследие в \u001b[0m\n",
       "\u001b[1;38;2;212;183;2mвиде правовых систем, мостов, дорог и искусства, которое до сих пор оказывает влияние на современный мир.\u001b[0m\n"
      ]
     },
     "metadata": {},
     "output_type": "display_data"
    },
    {
     "data": {
      "text/html": [
       "<pre style=\"white-space:pre;overflow-x:auto;line-height:normal;font-family:Menlo,'DejaVu Sans Mono',consolas,'Courier New',monospace\"><span style=\"color: #7f7f7f; text-decoration-color: #7f7f7f\">[Step 1: Duration 14.08 seconds| Input tokens: 1,431 | Output tokens: 99]</span>\n",
       "</pre>\n"
      ],
      "text/plain": [
       "\u001b[2m[Step 1: Duration 14.08 seconds| Input tokens: 1,431 | Output tokens: 99]\u001b[0m\n"
      ]
     },
     "metadata": {},
     "output_type": "display_data"
    },
    {
     "data": {
      "text/plain": [
       "'Римская империя была одним из величайших государств в истории человечества, известным своими значительными достижениями в области права, архитектуры, инженерии и культуры. Она оставила после себя наследие в виде правовых систем, мостов, дорог и искусства, которое до сих пор оказывает влияние на современный мир.'"
      ]
     },
     "execution_count": 5,
     "metadata": {},
     "output_type": "execute_result"
    }
   ],
   "source": [
    "# Sanity check\n",
    "agent.run(\"Что ты думаешь о римской империи?\")"
   ]
  },
  {
   "cell_type": "code",
   "execution_count": 4,
   "id": "3c8b695d",
   "metadata": {},
   "outputs": [
    {
     "data": {
      "text/html": [
       "<pre style=\"white-space:pre;overflow-x:auto;line-height:normal;font-family:Menlo,'DejaVu Sans Mono',consolas,'Courier New',monospace\"><span style=\"color: #d4b702; text-decoration-color: #d4b702\">╭──────────────────────────────────────────────────── </span><span style=\"color: #d4b702; text-decoration-color: #d4b702; font-weight: bold\">New run</span><span style=\"color: #d4b702; text-decoration-color: #d4b702\"> ────────────────────────────────────────────────────╮</span>\n",
       "<span style=\"color: #d4b702; text-decoration-color: #d4b702\">│</span>                                                                                                                 <span style=\"color: #d4b702; text-decoration-color: #d4b702\">│</span>\n",
       "<span style=\"color: #d4b702; text-decoration-color: #d4b702\">│</span> <span style=\"font-weight: bold\">Я бы хотел посетить японский ресторан. Можешь ли посоветовать хороший в Москве?</span>                                 <span style=\"color: #d4b702; text-decoration-color: #d4b702\">│</span>\n",
       "<span style=\"color: #d4b702; text-decoration-color: #d4b702\">│</span>                                                                                                                 <span style=\"color: #d4b702; text-decoration-color: #d4b702\">│</span>\n",
       "<span style=\"color: #d4b702; text-decoration-color: #d4b702\">╰─ LiteLLMModel - ollama_chat/hf.co/IlyaGusev/saiga_nemo_12b_gguf:Q4_0 ───────────────────────────────────────────╯</span>\n",
       "</pre>\n"
      ],
      "text/plain": [
       "\u001b[38;2;212;183;2m╭─\u001b[0m\u001b[38;2;212;183;2m───────────────────────────────────────────────────\u001b[0m\u001b[38;2;212;183;2m \u001b[0m\u001b[1;38;2;212;183;2mNew run\u001b[0m\u001b[38;2;212;183;2m \u001b[0m\u001b[38;2;212;183;2m───────────────────────────────────────────────────\u001b[0m\u001b[38;2;212;183;2m─╮\u001b[0m\n",
       "\u001b[38;2;212;183;2m│\u001b[0m                                                                                                                 \u001b[38;2;212;183;2m│\u001b[0m\n",
       "\u001b[38;2;212;183;2m│\u001b[0m \u001b[1mЯ бы хотел посетить японский ресторан. Можешь ли посоветовать хороший в Москве?\u001b[0m                                 \u001b[38;2;212;183;2m│\u001b[0m\n",
       "\u001b[38;2;212;183;2m│\u001b[0m                                                                                                                 \u001b[38;2;212;183;2m│\u001b[0m\n",
       "\u001b[38;2;212;183;2m╰─\u001b[0m\u001b[38;2;212;183;2m LiteLLMModel - ollama_chat/hf.co/IlyaGusev/saiga_nemo_12b_gguf:Q4_0 \u001b[0m\u001b[38;2;212;183;2m──────────────────────────────────────────\u001b[0m\u001b[38;2;212;183;2m─╯\u001b[0m\n"
      ]
     },
     "metadata": {},
     "output_type": "display_data"
    },
    {
     "data": {
      "text/html": [
       "<pre style=\"white-space:pre;overflow-x:auto;line-height:normal;font-family:Menlo,'DejaVu Sans Mono',consolas,'Courier New',monospace\"><span style=\"color: #d4b702; text-decoration-color: #d4b702\">━━━━━━━━━━━━━━━━━━━━━━━━━━━━━━━━━━━━━━━━━━━━━━━━━━━━━ </span><span style=\"font-weight: bold\">Step </span><span style=\"color: #008080; text-decoration-color: #008080; font-weight: bold\">1</span><span style=\"color: #d4b702; text-decoration-color: #d4b702\"> ━━━━━━━━━━━━━━━━━━━━━━━━━━━━━━━━━━━━━━━━━━━━━━━━━━━━━━</span>\n",
       "</pre>\n"
      ],
      "text/plain": [
       "\u001b[38;2;212;183;2m━━━━━━━━━━━━━━━━━━━━━━━━━━━━━━━━━━━━━━━━━━━━━━━━━━━━━ \u001b[0m\u001b[1mStep \u001b[0m\u001b[1;36m1\u001b[0m\u001b[38;2;212;183;2m ━━━━━━━━━━━━━━━━━━━━━━━━━━━━━━━━━━━━━━━━━━━━━━━━━━━━━━\u001b[0m\n"
      ]
     },
     "metadata": {},
     "output_type": "display_data"
    },
    {
     "data": {
      "text/html": [
       "<pre style=\"white-space:pre;overflow-x:auto;line-height:normal;font-family:Menlo,'DejaVu Sans Mono',consolas,'Courier New',monospace\"><span style=\"font-weight: bold; font-style: italic\">Output message of the LLM:</span> <span style=\"color: #d4b702; text-decoration-color: #d4b702\">────────────────────────────────────────────────────────────────────────────────────────</span>\n",
       "<span style=\"color: #e6edf3; text-decoration-color: #e6edf3; background-color: #0d1117\">{</span><span style=\"background-color: #0d1117\">                                                                                                                  </span>\n",
       "<span style=\"color: #e6edf3; text-decoration-color: #e6edf3; background-color: #0d1117\">  \"name\": \"travel_review_query\",</span><span style=\"background-color: #0d1117\">                                                                                   </span>\n",
       "<span style=\"color: #e6edf3; text-decoration-color: #e6edf3; background-color: #0d1117\">  \"arguments\": {</span><span style=\"background-color: #0d1117\">                                                                                                   </span>\n",
       "<span style=\"color: #e6edf3; text-decoration-color: #e6edf3; background-color: #0d1117\">    \"query\": \"посоветуй хороший японский ресторан в Москве\",</span><span style=\"background-color: #0d1117\">                                                       </span>\n",
       "<span style=\"color: #e6edf3; text-decoration-color: #e6edf3; background-color: #0d1117\">    \"min_rating\": 4</span><span style=\"background-color: #0d1117\">                                                                                                </span>\n",
       "<span style=\"color: #e6edf3; text-decoration-color: #e6edf3; background-color: #0d1117\">  }</span><span style=\"background-color: #0d1117\">                                                                                                                </span>\n",
       "<span style=\"color: #e6edf3; text-decoration-color: #e6edf3; background-color: #0d1117\">}</span><span style=\"background-color: #0d1117\">                                                                                                                  </span>\n",
       "</pre>\n"
      ],
      "text/plain": [
       "\u001b[1;3mOutput message of the LLM:\u001b[0m \u001b[38;2;212;183;2m────────────────────────────────────────────────────────────────────────────────────────\u001b[0m\n",
       "\u001b[38;2;230;237;243;48;2;13;17;23m{\u001b[0m\u001b[48;2;13;17;23m                                                                                                                  \u001b[0m\n",
       "\u001b[38;2;230;237;243;48;2;13;17;23m \u001b[0m\u001b[38;2;230;237;243;48;2;13;17;23m \u001b[0m\u001b[38;2;230;237;243;48;2;13;17;23m\"name\":\u001b[0m\u001b[38;2;230;237;243;48;2;13;17;23m \u001b[0m\u001b[38;2;230;237;243;48;2;13;17;23m\"travel_review_query\",\u001b[0m\u001b[48;2;13;17;23m                                                                                   \u001b[0m\n",
       "\u001b[38;2;230;237;243;48;2;13;17;23m \u001b[0m\u001b[38;2;230;237;243;48;2;13;17;23m \u001b[0m\u001b[38;2;230;237;243;48;2;13;17;23m\"arguments\":\u001b[0m\u001b[38;2;230;237;243;48;2;13;17;23m \u001b[0m\u001b[38;2;230;237;243;48;2;13;17;23m{\u001b[0m\u001b[48;2;13;17;23m                                                                                                   \u001b[0m\n",
       "\u001b[38;2;230;237;243;48;2;13;17;23m \u001b[0m\u001b[38;2;230;237;243;48;2;13;17;23m \u001b[0m\u001b[38;2;230;237;243;48;2;13;17;23m \u001b[0m\u001b[38;2;230;237;243;48;2;13;17;23m \u001b[0m\u001b[38;2;230;237;243;48;2;13;17;23m\"query\":\u001b[0m\u001b[38;2;230;237;243;48;2;13;17;23m \u001b[0m\u001b[38;2;230;237;243;48;2;13;17;23m\"посоветуй\u001b[0m\u001b[38;2;230;237;243;48;2;13;17;23m \u001b[0m\u001b[38;2;230;237;243;48;2;13;17;23mхороший\u001b[0m\u001b[38;2;230;237;243;48;2;13;17;23m \u001b[0m\u001b[38;2;230;237;243;48;2;13;17;23mяпонский\u001b[0m\u001b[38;2;230;237;243;48;2;13;17;23m \u001b[0m\u001b[38;2;230;237;243;48;2;13;17;23mресторан\u001b[0m\u001b[38;2;230;237;243;48;2;13;17;23m \u001b[0m\u001b[38;2;230;237;243;48;2;13;17;23mв\u001b[0m\u001b[38;2;230;237;243;48;2;13;17;23m \u001b[0m\u001b[38;2;230;237;243;48;2;13;17;23mМоскве\",\u001b[0m\u001b[48;2;13;17;23m                                                       \u001b[0m\n",
       "\u001b[38;2;230;237;243;48;2;13;17;23m \u001b[0m\u001b[38;2;230;237;243;48;2;13;17;23m \u001b[0m\u001b[38;2;230;237;243;48;2;13;17;23m \u001b[0m\u001b[38;2;230;237;243;48;2;13;17;23m \u001b[0m\u001b[38;2;230;237;243;48;2;13;17;23m\"min_rating\":\u001b[0m\u001b[38;2;230;237;243;48;2;13;17;23m \u001b[0m\u001b[38;2;230;237;243;48;2;13;17;23m4\u001b[0m\u001b[48;2;13;17;23m                                                                                                \u001b[0m\n",
       "\u001b[38;2;230;237;243;48;2;13;17;23m \u001b[0m\u001b[38;2;230;237;243;48;2;13;17;23m \u001b[0m\u001b[38;2;230;237;243;48;2;13;17;23m}\u001b[0m\u001b[48;2;13;17;23m                                                                                                                \u001b[0m\n",
       "\u001b[38;2;230;237;243;48;2;13;17;23m}\u001b[0m\u001b[48;2;13;17;23m                                                                                                                  \u001b[0m\n"
      ]
     },
     "metadata": {},
     "output_type": "display_data"
    },
    {
     "data": {
      "text/html": [
       "<pre style=\"white-space:pre;overflow-x:auto;line-height:normal;font-family:Menlo,'DejaVu Sans Mono',consolas,'Courier New',monospace\">╭─────────────────────────────────────────────────────────────────────────────────────────────────────────────────╮\n",
       "│ Calling tool: 'travel_review_query' with arguments: {'query': 'посоветуй хороший японский ресторан в Москве',   │\n",
       "│ 'min_rating': 4}                                                                                                │\n",
       "╰─────────────────────────────────────────────────────────────────────────────────────────────────────────────────╯\n",
       "</pre>\n"
      ],
      "text/plain": [
       "╭─────────────────────────────────────────────────────────────────────────────────────────────────────────────────╮\n",
       "│ Calling tool: 'travel_review_query' with arguments: {'query': 'посоветуй хороший японский ресторан в Москве',   │\n",
       "│ 'min_rating': 4}                                                                                                │\n",
       "╰─────────────────────────────────────────────────────────────────────────────────────────────────────────────────╯\n"
      ]
     },
     "metadata": {},
     "output_type": "display_data"
    },
    {
     "name": "stderr",
     "output_type": "stream",
     "text": [
      "\u001b[32m2025-04-20 13:02:38.674\u001b[0m | \u001b[34m\u001b[1mDEBUG   \u001b[0m | \u001b[36mtravel_agent.retrieval.smolagents.tool\u001b[0m:\u001b[36mforward\u001b[0m:\u001b[36m107\u001b[0m - \u001b[34m\u001b[1mfilters: [FieldCondition(key='rating', match=None, range=Range(lt=None, gt=None, gte=4.0, lte=None), geo_bounding_box=None, geo_radius=None, geo_polygon=None, values_count=None)]\u001b[0m\n"
     ]
    },
    {
     "data": {
      "text/html": [
       "<pre style=\"white-space:pre;overflow-x:auto;line-height:normal;font-family:Menlo,'DejaVu Sans Mono',consolas,'Courier New',monospace\">Observations: Найденные отзывы о местах:\n",
       "\n",
       "=== Отзыв на Izumi ===\n",
       "Адрес: Москва, Мясницкая улица, 38с1\n",
       "Рейтинг: <span style=\"color: #008080; text-decoration-color: #008080; font-weight: bold\">5.0</span>\n",
       "Категории: |<span style=\"color: #008000; text-decoration-color: #008000\">'Ресторан'</span>, <span style=\"color: #008000; text-decoration-color: #008000\">'Бар, паб'</span>, <span style=\"color: #008000; text-decoration-color: #008000\">'Караоке-клуб'</span><span style=\"font-weight: bold\">]</span>\n",
       "Текст: Одно из самых любимых заведений японской кухни в Москве!  За адекватную цену вы получите действительно \n",
       "вкусное, похожее на настоящее, японское блюдо. Разнообразное меню и изобилие различных видов саке. Приятный \n",
       "интерьер. Отдельно хочется отметить удобную функцию вызова официанта с помощью кнопочки на столе :<span style=\"font-weight: bold\">)</span> \n",
       "\n",
       "=== Отзыв на Tsunami Sushi &amp; Cocktails ===\n",
       "Адрес: Москва, Благовещенский переулок, 1А\n",
       "Рейтинг: <span style=\"color: #008080; text-decoration-color: #008080; font-weight: bold\">5.0</span>\n",
       "Категории: |<span style=\"color: #008000; text-decoration-color: #008000\">'Ресторан'</span>, <span style=\"color: #008000; text-decoration-color: #008000\">'Бар, паб'</span>, <span style=\"color: #008000; text-decoration-color: #008000\">'Суши-бар'</span><span style=\"font-weight: bold\">]</span>\n",
       "Текст: Бомбически! Хотела поесть действительно вкусных роллов и не прогадала с выбором места. Приятный интерьер в \n",
       "стиле неонового Токио, техно/хаус музыка, которая не отвлекает от ужина, а только добавляет атмосферы. Посадка \n",
       "практически полная, но разговоры не мешали, шумно не было.  Брали роллы Мега Лосось, Радуга, Нигири с лососем и оши\n",
       "с гребешком. Очень вкусно и очень сытно. Рыба свежая, сочетания вкусов потрясающие. Муж брал коктейли и тоже \n",
       "остался доволен.  UPD <span style=\"color: #008080; text-decoration-color: #008080; font-weight: bold\">17</span> июня <span style=\"color: #008080; text-decoration-color: #008080; font-weight: bold\">2023</span>: Выбрала Tsunami, чтобы вдвоём с мужем отпраздновать мой день рождения. Как \n",
       "всегда безукаризненное обслуживание, наивкуснейшая еда, шикарная атмосфера. Пока люимое заведение японской кухни в \n",
       "Москве, куда действительно хочется возвращаться. \n",
       "\n",
       "=== Отзыв на Тануки ===\n",
       "Адрес: Москва, Новокосинская улица, <span style=\"color: #008080; text-decoration-color: #008080; font-weight: bold\">36</span>\n",
       "Рейтинг: <span style=\"color: #008080; text-decoration-color: #008080; font-weight: bold\">4.0</span>\n",
       "Категории: |<span style=\"color: #008000; text-decoration-color: #008000\">'Ресторан'</span>, <span style=\"color: #008000; text-decoration-color: #008000\">'Суши-бар'</span>, <span style=\"color: #008000; text-decoration-color: #008000\">'Доставка еды и обедов'</span><span style=\"font-weight: bold\">]</span>\n",
       "Текст: Всем привет! Идём в <span style=\"color: #008000; text-decoration-color: #008000\">\"Тануки\"</span><span style=\"font-weight: bold\">)</span>: роллы и суши да, вкусно, качественно, порции конечно уменьшились, но в целом \n",
       "приемлимо. С детьми там можно отдохнуть, есть детская комната, в сбб и вс работают аниматоры, шум и гам стоит \n",
       "знатный!<span style=\"font-weight: bold\">))</span>. Если идти туда  без детей  на любителя,  было бы другое приличное место, хоть маленький ресторанчик, в \n",
       "Новокосино, я бы выбрала другое, без детских воплей и криков. А так  добро пожаловать, выпейте побольше пива, или \n",
       "что покрепче и шум вам ни почём!<span style=\"font-weight: bold\">)</span>😂 Обслуживание, сервис  хорошие, но не сказать, что бы впечатляющие🤷‍♂️ Вобщем, в \n",
       "Новокосино у вас всего <span style=\"color: #008080; text-decoration-color: #008080; font-weight: bold\">2</span> варианта приличного кафе <span style=\"font-weight: bold\">(</span>на ресторан это не тянет, хоть как посмотри<span style=\"font-weight: bold\">)</span> либо японская кухня\n",
       "и это <span style=\"color: #008000; text-decoration-color: #008000\">\"Тануки\"</span>, либо узбекская и это <span style=\"color: #008000; text-decoration-color: #008000\">\"Чайхона\"</span>,  удивительно, что в столице России приходится делать такой выбор! \n",
       "Если отзыв прочитает какойлибо ресторатор, то  прямо обращаюсь: <span style=\"color: #008000; text-decoration-color: #008000\">\"Откройте пожалуйста в Новокосино   кафе, с  </span>\n",
       "<span style=\"color: #008000; text-decoration-color: #008000\">привычной нам всем русской кухней!\"</span> \n",
       "\n",
       "=== Отзыв на Izumi ===\n",
       "Адрес: Москва, Мясницкая улица, 38с1\n",
       "Рейтинг: <span style=\"color: #008080; text-decoration-color: #008080; font-weight: bold\">5.0</span>\n",
       "Категории: |<span style=\"color: #008000; text-decoration-color: #008000\">'Ресторан'</span>, <span style=\"color: #008000; text-decoration-color: #008000\">'Бар, паб'</span>, <span style=\"color: #008000; text-decoration-color: #008000\">'Караоке-клуб'</span><span style=\"font-weight: bold\">]</span>\n",
       "Текст: Прекрасное место с великолепным тихим антуражем. Был днём, с друзьями. Еда от японского шефа на любой вкус, \n",
       "и для тех кто не любит рыбу и морепродукты и для тех кто их обожает. Я лично ел Тонкацу Рамен, мне очень \n",
       "понравилось, в отличии от большинства мест в Москве где всëтаки готовится под ожидания русских, тут именно что \n",
       "необычный вкус явно не из того  тех что можно попробовать в други местах.   Именно тут я пожалуй понял что именно \n",
       "японцы имеют ввиду по умами вкусом, реально очень плотный и при этом совершенно нежирный бульон просто пропитан \n",
       "вкусом который в других кухнях встречается довольно редко даже при самом поедании мяса. Однозначно рекомендую, \n",
       "однако предупреждаю что напитки как алко так и без состоят изо льда на <span style=\"color: #008080; text-decoration-color: #008080; font-weight: bold\">80</span>%. \n",
       "\n",
       "=== Отзыв на Якитория ===\n",
       "Адрес: Москва, улица Маршала Полубоярова, <span style=\"color: #008080; text-decoration-color: #008080; font-weight: bold\">1</span>\n",
       "Рейтинг: <span style=\"color: #008080; text-decoration-color: #008080; font-weight: bold\">5.0</span>\n",
       "Категории: |<span style=\"color: #008000; text-decoration-color: #008000\">'Суши-бар'</span>, <span style=\"color: #008000; text-decoration-color: #008000\">'Ресторан'</span>, <span style=\"color: #008000; text-decoration-color: #008000\">'Доставка еды и обедов'</span><span style=\"font-weight: bold\">]</span>\n",
       "Текст: Очень хороший  ресторанчик японской кухни. Заказываю всегда отсюда если хочется роллов. Очень вкусные \n",
       "горячие роллы. Детям также будет интересно перекусить тут.\n",
       "</pre>\n"
      ],
      "text/plain": [
       "Observations: Найденные отзывы о местах:\n",
       "\n",
       "=== Отзыв на Izumi ===\n",
       "Адрес: Москва, Мясницкая улица, 38с1\n",
       "Рейтинг: \u001b[1;36m5.0\u001b[0m\n",
       "Категории: |\u001b[32m'Ресторан'\u001b[0m, \u001b[32m'Бар, паб'\u001b[0m, \u001b[32m'Караоке-клуб'\u001b[0m\u001b[1m]\u001b[0m\n",
       "Текст: Одно из самых любимых заведений японской кухни в Москве!  За адекватную цену вы получите действительно \n",
       "вкусное, похожее на настоящее, японское блюдо. Разнообразное меню и изобилие различных видов саке. Приятный \n",
       "интерьер. Отдельно хочется отметить удобную функцию вызова официанта с помощью кнопочки на столе :\u001b[1m)\u001b[0m \n",
       "\n",
       "=== Отзыв на Tsunami Sushi & Cocktails ===\n",
       "Адрес: Москва, Благовещенский переулок, 1А\n",
       "Рейтинг: \u001b[1;36m5.0\u001b[0m\n",
       "Категории: |\u001b[32m'Ресторан'\u001b[0m, \u001b[32m'Бар, паб'\u001b[0m, \u001b[32m'Суши-бар'\u001b[0m\u001b[1m]\u001b[0m\n",
       "Текст: Бомбически! Хотела поесть действительно вкусных роллов и не прогадала с выбором места. Приятный интерьер в \n",
       "стиле неонового Токио, техно/хаус музыка, которая не отвлекает от ужина, а только добавляет атмосферы. Посадка \n",
       "практически полная, но разговоры не мешали, шумно не было.  Брали роллы Мега Лосось, Радуга, Нигири с лососем и оши\n",
       "с гребешком. Очень вкусно и очень сытно. Рыба свежая, сочетания вкусов потрясающие. Муж брал коктейли и тоже \n",
       "остался доволен.  UPD \u001b[1;36m17\u001b[0m июня \u001b[1;36m2023\u001b[0m: Выбрала Tsunami, чтобы вдвоём с мужем отпраздновать мой день рождения. Как \n",
       "всегда безукаризненное обслуживание, наивкуснейшая еда, шикарная атмосфера. Пока люимое заведение японской кухни в \n",
       "Москве, куда действительно хочется возвращаться. \n",
       "\n",
       "=== Отзыв на Тануки ===\n",
       "Адрес: Москва, Новокосинская улица, \u001b[1;36m36\u001b[0m\n",
       "Рейтинг: \u001b[1;36m4.0\u001b[0m\n",
       "Категории: |\u001b[32m'Ресторан'\u001b[0m, \u001b[32m'Суши-бар'\u001b[0m, \u001b[32m'Доставка еды и обедов'\u001b[0m\u001b[1m]\u001b[0m\n",
       "Текст: Всем привет! Идём в \u001b[32m\"Тануки\"\u001b[0m\u001b[1m)\u001b[0m: роллы и суши да, вкусно, качественно, порции конечно уменьшились, но в целом \n",
       "приемлимо. С детьми там можно отдохнуть, есть детская комната, в сбб и вс работают аниматоры, шум и гам стоит \n",
       "знатный!\u001b[1m)\u001b[0m\u001b[1m)\u001b[0m. Если идти туда  без детей  на любителя,  было бы другое приличное место, хоть маленький ресторанчик, в \n",
       "Новокосино, я бы выбрала другое, без детских воплей и криков. А так  добро пожаловать, выпейте побольше пива, или \n",
       "что покрепче и шум вам ни почём!\u001b[1m)\u001b[0m😂 Обслуживание, сервис  хорошие, но не сказать, что бы впечатляющие🤷‍♂️ Вобщем, в \n",
       "Новокосино у вас всего \u001b[1;36m2\u001b[0m варианта приличного кафе \u001b[1m(\u001b[0mна ресторан это не тянет, хоть как посмотри\u001b[1m)\u001b[0m либо японская кухня\n",
       "и это \u001b[32m\"Тануки\"\u001b[0m, либо узбекская и это \u001b[32m\"Чайхона\"\u001b[0m,  удивительно, что в столице России приходится делать такой выбор! \n",
       "Если отзыв прочитает какойлибо ресторатор, то  прямо обращаюсь: \u001b[32m\"Откройте пожалуйста в Новокосино   кафе, с  \u001b[0m\n",
       "\u001b[32mпривычной нам всем русской кухней!\"\u001b[0m \n",
       "\n",
       "=== Отзыв на Izumi ===\n",
       "Адрес: Москва, Мясницкая улица, 38с1\n",
       "Рейтинг: \u001b[1;36m5.0\u001b[0m\n",
       "Категории: |\u001b[32m'Ресторан'\u001b[0m, \u001b[32m'Бар, паб'\u001b[0m, \u001b[32m'Караоке-клуб'\u001b[0m\u001b[1m]\u001b[0m\n",
       "Текст: Прекрасное место с великолепным тихим антуражем. Был днём, с друзьями. Еда от японского шефа на любой вкус, \n",
       "и для тех кто не любит рыбу и морепродукты и для тех кто их обожает. Я лично ел Тонкацу Рамен, мне очень \n",
       "понравилось, в отличии от большинства мест в Москве где всëтаки готовится под ожидания русских, тут именно что \n",
       "необычный вкус явно не из того  тех что можно попробовать в други местах.   Именно тут я пожалуй понял что именно \n",
       "японцы имеют ввиду по умами вкусом, реально очень плотный и при этом совершенно нежирный бульон просто пропитан \n",
       "вкусом который в других кухнях встречается довольно редко даже при самом поедании мяса. Однозначно рекомендую, \n",
       "однако предупреждаю что напитки как алко так и без состоят изо льда на \u001b[1;36m80\u001b[0m%. \n",
       "\n",
       "=== Отзыв на Якитория ===\n",
       "Адрес: Москва, улица Маршала Полубоярова, \u001b[1;36m1\u001b[0m\n",
       "Рейтинг: \u001b[1;36m5.0\u001b[0m\n",
       "Категории: |\u001b[32m'Суши-бар'\u001b[0m, \u001b[32m'Ресторан'\u001b[0m, \u001b[32m'Доставка еды и обедов'\u001b[0m\u001b[1m]\u001b[0m\n",
       "Текст: Очень хороший  ресторанчик японской кухни. Заказываю всегда отсюда если хочется роллов. Очень вкусные \n",
       "горячие роллы. Детям также будет интересно перекусить тут.\n"
      ]
     },
     "metadata": {},
     "output_type": "display_data"
    },
    {
     "data": {
      "text/html": [
       "<pre style=\"white-space:pre;overflow-x:auto;line-height:normal;font-family:Menlo,'DejaVu Sans Mono',consolas,'Courier New',monospace\"><span style=\"color: #7f7f7f; text-decoration-color: #7f7f7f\">[Step 1: Duration 5.82 seconds| Input tokens: 1,573 | Output tokens: 49]</span>\n",
       "</pre>\n"
      ],
      "text/plain": [
       "\u001b[2m[Step 1: Duration 5.82 seconds| Input tokens: 1,573 | Output tokens: 49]\u001b[0m\n"
      ]
     },
     "metadata": {},
     "output_type": "display_data"
    },
    {
     "data": {
      "text/html": [
       "<pre style=\"white-space:pre;overflow-x:auto;line-height:normal;font-family:Menlo,'DejaVu Sans Mono',consolas,'Courier New',monospace\"><span style=\"color: #d4b702; text-decoration-color: #d4b702\">━━━━━━━━━━━━━━━━━━━━━━━━━━━━━━━━━━━━━━━━━━━━━━━━━━━━━ </span><span style=\"font-weight: bold\">Step </span><span style=\"color: #008080; text-decoration-color: #008080; font-weight: bold\">2</span><span style=\"color: #d4b702; text-decoration-color: #d4b702\"> ━━━━━━━━━━━━━━━━━━━━━━━━━━━━━━━━━━━━━━━━━━━━━━━━━━━━━━</span>\n",
       "</pre>\n"
      ],
      "text/plain": [
       "\u001b[38;2;212;183;2m━━━━━━━━━━━━━━━━━━━━━━━━━━━━━━━━━━━━━━━━━━━━━━━━━━━━━ \u001b[0m\u001b[1mStep \u001b[0m\u001b[1;36m2\u001b[0m\u001b[38;2;212;183;2m ━━━━━━━━━━━━━━━━━━━━━━━━━━━━━━━━━━━━━━━━━━━━━━━━━━━━━━\u001b[0m\n"
      ]
     },
     "metadata": {},
     "output_type": "display_data"
    },
    {
     "data": {
      "text/html": [
       "<pre style=\"white-space:pre;overflow-x:auto;line-height:normal;font-family:Menlo,'DejaVu Sans Mono',consolas,'Courier New',monospace\"><span style=\"font-weight: bold; font-style: italic\">Output message of the LLM:</span> <span style=\"color: #d4b702; text-decoration-color: #d4b702\">────────────────────────────────────────────────────────────────────────────────────────</span>\n",
       "<span style=\"color: #e6edf3; text-decoration-color: #e6edf3; background-color: #0d1117\">{ \"name\": \"final_answer\", \"arguments\": {\"answer\": \"На основе отзывов рекомендую посетить следующие места:\\n\\n- </span><span style=\"background-color: #0d1117\">    </span>\n",
       "<span style=\"color: #e6edf3; text-decoration-color: #e6edf3; background-color: #0d1117; font-weight: bold\">**Изюми**</span><span style=\"color: #e6edf3; text-decoration-color: #e6edf3; background-color: #0d1117\"> (Мясницкая улица, 38с1) - отличный выбор для спокойной встречи с друзьями и разнообразного меню. Особенно</span>\n",
       "<span style=\"color: #e6edf3; text-decoration-color: #e6edf3; background-color: #0d1117\">стоит отметить аутентичную кухню японского шефа.\\n- </span><span style=\"color: #e6edf3; text-decoration-color: #e6edf3; background-color: #0d1117; font-weight: bold\">**Tsunami Sushi &amp; Cocktails**</span><span style=\"color: #e6edf3; text-decoration-color: #e6edf3; background-color: #0d1117\"> (Благовещенский переулок, 1А) - </span><span style=\"background-color: #0d1117\"> </span>\n",
       "<span style=\"color: #e6edf3; text-decoration-color: #e6edf3; background-color: #0d1117\">подойдет тем, кто ценит атмосферу ночного Токио и разнообразие вкусов в роллах. Отличный выбор для вечернего </span><span style=\"background-color: #0d1117\">      </span>\n",
       "<span style=\"color: #e6edf3; text-decoration-color: #e6edf3; background-color: #0d1117\">посещения.\\n\\nОба ресторана заслуживают высоких оценок и рекомендаций по качеству еды.\"}}</span><span style=\"background-color: #0d1117\">                          </span>\n",
       "</pre>\n"
      ],
      "text/plain": [
       "\u001b[1;3mOutput message of the LLM:\u001b[0m \u001b[38;2;212;183;2m────────────────────────────────────────────────────────────────────────────────────────\u001b[0m\n",
       "\u001b[38;2;230;237;243;48;2;13;17;23m{\u001b[0m\u001b[38;2;230;237;243;48;2;13;17;23m \u001b[0m\u001b[38;2;230;237;243;48;2;13;17;23m\"name\":\u001b[0m\u001b[38;2;230;237;243;48;2;13;17;23m \u001b[0m\u001b[38;2;230;237;243;48;2;13;17;23m\"final_answer\",\u001b[0m\u001b[38;2;230;237;243;48;2;13;17;23m \u001b[0m\u001b[38;2;230;237;243;48;2;13;17;23m\"arguments\":\u001b[0m\u001b[38;2;230;237;243;48;2;13;17;23m \u001b[0m\u001b[38;2;230;237;243;48;2;13;17;23m{\"answer\":\u001b[0m\u001b[38;2;230;237;243;48;2;13;17;23m \u001b[0m\u001b[38;2;230;237;243;48;2;13;17;23m\"На\u001b[0m\u001b[38;2;230;237;243;48;2;13;17;23m \u001b[0m\u001b[38;2;230;237;243;48;2;13;17;23mоснове\u001b[0m\u001b[38;2;230;237;243;48;2;13;17;23m \u001b[0m\u001b[38;2;230;237;243;48;2;13;17;23mотзывов\u001b[0m\u001b[38;2;230;237;243;48;2;13;17;23m \u001b[0m\u001b[38;2;230;237;243;48;2;13;17;23mрекомендую\u001b[0m\u001b[38;2;230;237;243;48;2;13;17;23m \u001b[0m\u001b[38;2;230;237;243;48;2;13;17;23mпосетить\u001b[0m\u001b[38;2;230;237;243;48;2;13;17;23m \u001b[0m\u001b[38;2;230;237;243;48;2;13;17;23mследующие\u001b[0m\u001b[38;2;230;237;243;48;2;13;17;23m \u001b[0m\u001b[38;2;230;237;243;48;2;13;17;23mместа:\u001b[0m\u001b[38;2;230;237;243;48;2;13;17;23m\\n\u001b[0m\u001b[38;2;230;237;243;48;2;13;17;23m\\n\u001b[0m\u001b[38;2;230;237;243;48;2;13;17;23m-\u001b[0m\u001b[38;2;230;237;243;48;2;13;17;23m \u001b[0m\u001b[48;2;13;17;23m    \u001b[0m\n",
       "\u001b[1;38;2;230;237;243;48;2;13;17;23m**Изюми**\u001b[0m\u001b[38;2;230;237;243;48;2;13;17;23m \u001b[0m\u001b[38;2;230;237;243;48;2;13;17;23m(Мясницкая\u001b[0m\u001b[38;2;230;237;243;48;2;13;17;23m \u001b[0m\u001b[38;2;230;237;243;48;2;13;17;23mулица,\u001b[0m\u001b[38;2;230;237;243;48;2;13;17;23m \u001b[0m\u001b[38;2;230;237;243;48;2;13;17;23m38с1)\u001b[0m\u001b[38;2;230;237;243;48;2;13;17;23m \u001b[0m\u001b[38;2;230;237;243;48;2;13;17;23m-\u001b[0m\u001b[38;2;230;237;243;48;2;13;17;23m \u001b[0m\u001b[38;2;230;237;243;48;2;13;17;23mотличный\u001b[0m\u001b[38;2;230;237;243;48;2;13;17;23m \u001b[0m\u001b[38;2;230;237;243;48;2;13;17;23mвыбор\u001b[0m\u001b[38;2;230;237;243;48;2;13;17;23m \u001b[0m\u001b[38;2;230;237;243;48;2;13;17;23mдля\u001b[0m\u001b[38;2;230;237;243;48;2;13;17;23m \u001b[0m\u001b[38;2;230;237;243;48;2;13;17;23mспокойной\u001b[0m\u001b[38;2;230;237;243;48;2;13;17;23m \u001b[0m\u001b[38;2;230;237;243;48;2;13;17;23mвстречи\u001b[0m\u001b[38;2;230;237;243;48;2;13;17;23m \u001b[0m\u001b[38;2;230;237;243;48;2;13;17;23mс\u001b[0m\u001b[38;2;230;237;243;48;2;13;17;23m \u001b[0m\u001b[38;2;230;237;243;48;2;13;17;23mдрузьями\u001b[0m\u001b[38;2;230;237;243;48;2;13;17;23m \u001b[0m\u001b[38;2;230;237;243;48;2;13;17;23mи\u001b[0m\u001b[38;2;230;237;243;48;2;13;17;23m \u001b[0m\u001b[38;2;230;237;243;48;2;13;17;23mразнообразного\u001b[0m\u001b[38;2;230;237;243;48;2;13;17;23m \u001b[0m\u001b[38;2;230;237;243;48;2;13;17;23mменю.\u001b[0m\u001b[38;2;230;237;243;48;2;13;17;23m \u001b[0m\u001b[38;2;230;237;243;48;2;13;17;23mОсобенно\u001b[0m\n",
       "\u001b[38;2;230;237;243;48;2;13;17;23mстоит\u001b[0m\u001b[38;2;230;237;243;48;2;13;17;23m \u001b[0m\u001b[38;2;230;237;243;48;2;13;17;23mотметить\u001b[0m\u001b[38;2;230;237;243;48;2;13;17;23m \u001b[0m\u001b[38;2;230;237;243;48;2;13;17;23mаутентичную\u001b[0m\u001b[38;2;230;237;243;48;2;13;17;23m \u001b[0m\u001b[38;2;230;237;243;48;2;13;17;23mкухню\u001b[0m\u001b[38;2;230;237;243;48;2;13;17;23m \u001b[0m\u001b[38;2;230;237;243;48;2;13;17;23mяпонского\u001b[0m\u001b[38;2;230;237;243;48;2;13;17;23m \u001b[0m\u001b[38;2;230;237;243;48;2;13;17;23mшефа.\u001b[0m\u001b[38;2;230;237;243;48;2;13;17;23m\\n\u001b[0m\u001b[38;2;230;237;243;48;2;13;17;23m-\u001b[0m\u001b[38;2;230;237;243;48;2;13;17;23m \u001b[0m\u001b[1;38;2;230;237;243;48;2;13;17;23m**Tsunami Sushi & Cocktails**\u001b[0m\u001b[38;2;230;237;243;48;2;13;17;23m \u001b[0m\u001b[38;2;230;237;243;48;2;13;17;23m(Благовещенский\u001b[0m\u001b[38;2;230;237;243;48;2;13;17;23m \u001b[0m\u001b[38;2;230;237;243;48;2;13;17;23mпереулок,\u001b[0m\u001b[38;2;230;237;243;48;2;13;17;23m \u001b[0m\u001b[38;2;230;237;243;48;2;13;17;23m1А)\u001b[0m\u001b[38;2;230;237;243;48;2;13;17;23m \u001b[0m\u001b[38;2;230;237;243;48;2;13;17;23m-\u001b[0m\u001b[38;2;230;237;243;48;2;13;17;23m \u001b[0m\u001b[48;2;13;17;23m \u001b[0m\n",
       "\u001b[38;2;230;237;243;48;2;13;17;23mподойдет\u001b[0m\u001b[38;2;230;237;243;48;2;13;17;23m \u001b[0m\u001b[38;2;230;237;243;48;2;13;17;23mтем,\u001b[0m\u001b[38;2;230;237;243;48;2;13;17;23m \u001b[0m\u001b[38;2;230;237;243;48;2;13;17;23mкто\u001b[0m\u001b[38;2;230;237;243;48;2;13;17;23m \u001b[0m\u001b[38;2;230;237;243;48;2;13;17;23mценит\u001b[0m\u001b[38;2;230;237;243;48;2;13;17;23m \u001b[0m\u001b[38;2;230;237;243;48;2;13;17;23mатмосферу\u001b[0m\u001b[38;2;230;237;243;48;2;13;17;23m \u001b[0m\u001b[38;2;230;237;243;48;2;13;17;23mночного\u001b[0m\u001b[38;2;230;237;243;48;2;13;17;23m \u001b[0m\u001b[38;2;230;237;243;48;2;13;17;23mТокио\u001b[0m\u001b[38;2;230;237;243;48;2;13;17;23m \u001b[0m\u001b[38;2;230;237;243;48;2;13;17;23mи\u001b[0m\u001b[38;2;230;237;243;48;2;13;17;23m \u001b[0m\u001b[38;2;230;237;243;48;2;13;17;23mразнообразие\u001b[0m\u001b[38;2;230;237;243;48;2;13;17;23m \u001b[0m\u001b[38;2;230;237;243;48;2;13;17;23mвкусов\u001b[0m\u001b[38;2;230;237;243;48;2;13;17;23m \u001b[0m\u001b[38;2;230;237;243;48;2;13;17;23mв\u001b[0m\u001b[38;2;230;237;243;48;2;13;17;23m \u001b[0m\u001b[38;2;230;237;243;48;2;13;17;23mроллах.\u001b[0m\u001b[38;2;230;237;243;48;2;13;17;23m \u001b[0m\u001b[38;2;230;237;243;48;2;13;17;23mОтличный\u001b[0m\u001b[38;2;230;237;243;48;2;13;17;23m \u001b[0m\u001b[38;2;230;237;243;48;2;13;17;23mвыбор\u001b[0m\u001b[38;2;230;237;243;48;2;13;17;23m \u001b[0m\u001b[38;2;230;237;243;48;2;13;17;23mдля\u001b[0m\u001b[38;2;230;237;243;48;2;13;17;23m \u001b[0m\u001b[38;2;230;237;243;48;2;13;17;23mвечернего\u001b[0m\u001b[38;2;230;237;243;48;2;13;17;23m \u001b[0m\u001b[48;2;13;17;23m      \u001b[0m\n",
       "\u001b[38;2;230;237;243;48;2;13;17;23mпосещения.\u001b[0m\u001b[38;2;230;237;243;48;2;13;17;23m\\n\u001b[0m\u001b[38;2;230;237;243;48;2;13;17;23m\\n\u001b[0m\u001b[38;2;230;237;243;48;2;13;17;23mОба\u001b[0m\u001b[38;2;230;237;243;48;2;13;17;23m \u001b[0m\u001b[38;2;230;237;243;48;2;13;17;23mресторана\u001b[0m\u001b[38;2;230;237;243;48;2;13;17;23m \u001b[0m\u001b[38;2;230;237;243;48;2;13;17;23mзаслуживают\u001b[0m\u001b[38;2;230;237;243;48;2;13;17;23m \u001b[0m\u001b[38;2;230;237;243;48;2;13;17;23mвысоких\u001b[0m\u001b[38;2;230;237;243;48;2;13;17;23m \u001b[0m\u001b[38;2;230;237;243;48;2;13;17;23mоценок\u001b[0m\u001b[38;2;230;237;243;48;2;13;17;23m \u001b[0m\u001b[38;2;230;237;243;48;2;13;17;23mи\u001b[0m\u001b[38;2;230;237;243;48;2;13;17;23m \u001b[0m\u001b[38;2;230;237;243;48;2;13;17;23mрекомендаций\u001b[0m\u001b[38;2;230;237;243;48;2;13;17;23m \u001b[0m\u001b[38;2;230;237;243;48;2;13;17;23mпо\u001b[0m\u001b[38;2;230;237;243;48;2;13;17;23m \u001b[0m\u001b[38;2;230;237;243;48;2;13;17;23mкачеству\u001b[0m\u001b[38;2;230;237;243;48;2;13;17;23m \u001b[0m\u001b[38;2;230;237;243;48;2;13;17;23mеды.\"}}\u001b[0m\u001b[48;2;13;17;23m                          \u001b[0m\n"
      ]
     },
     "metadata": {},
     "output_type": "display_data"
    },
    {
     "data": {
      "text/html": [
       "<pre style=\"white-space:pre;overflow-x:auto;line-height:normal;font-family:Menlo,'DejaVu Sans Mono',consolas,'Courier New',monospace\">╭─────────────────────────────────────────────────────────────────────────────────────────────────────────────────╮\n",
       "│ Calling tool: 'final_answer' with arguments: {'answer': 'На основе отзывов рекомендую посетить следующие        │\n",
       "│ места:\\n\\n- **Изюми** (Мясницкая улица, 38с1) - отличный выбор для спокойной встречи с друзьями и               │\n",
       "│ разнообразного меню. Особенно стоит отметить аутентичную кухню японского шефа.\\n- **Tsunami Sushi &amp; Cocktails** │\n",
       "│ (Благовещенский переулок, 1А) - подойдет тем, кто ценит атмосферу ночного Токио и разнообразие вкусов в роллах. │\n",
       "│ Отличный выбор для вечернего посещения.\\n\\nОба ресторана заслуживают высоких оценок и рекомендаций по качеству  │\n",
       "│ еды.'}                                                                                                          │\n",
       "╰─────────────────────────────────────────────────────────────────────────────────────────────────────────────────╯\n",
       "</pre>\n"
      ],
      "text/plain": [
       "╭─────────────────────────────────────────────────────────────────────────────────────────────────────────────────╮\n",
       "│ Calling tool: 'final_answer' with arguments: {'answer': 'На основе отзывов рекомендую посетить следующие        │\n",
       "│ места:\\n\\n- **Изюми** (Мясницкая улица, 38с1) - отличный выбор для спокойной встречи с друзьями и               │\n",
       "│ разнообразного меню. Особенно стоит отметить аутентичную кухню японского шефа.\\n- **Tsunami Sushi & Cocktails** │\n",
       "│ (Благовещенский переулок, 1А) - подойдет тем, кто ценит атмосферу ночного Токио и разнообразие вкусов в роллах. │\n",
       "│ Отличный выбор для вечернего посещения.\\n\\nОба ресторана заслуживают высоких оценок и рекомендаций по качеству  │\n",
       "│ еды.'}                                                                                                          │\n",
       "╰─────────────────────────────────────────────────────────────────────────────────────────────────────────────────╯\n"
      ]
     },
     "metadata": {},
     "output_type": "display_data"
    },
    {
     "data": {
      "text/html": [
       "<pre style=\"white-space:pre;overflow-x:auto;line-height:normal;font-family:Menlo,'DejaVu Sans Mono',consolas,'Courier New',monospace\"><span style=\"color: #d4b702; text-decoration-color: #d4b702; font-weight: bold\">Final answer: На основе отзывов рекомендую посетить следующие места:</span>\n",
       "\n",
       "<span style=\"color: #d4b702; text-decoration-color: #d4b702; font-weight: bold\">- **Изюми** (Мясницкая улица, 38с1) - отличный выбор для спокойной встречи с друзьями и разнообразного меню. </span>\n",
       "<span style=\"color: #d4b702; text-decoration-color: #d4b702; font-weight: bold\">Особенно стоит отметить аутентичную кухню японского шефа.</span>\n",
       "<span style=\"color: #d4b702; text-decoration-color: #d4b702; font-weight: bold\">- **Tsunami Sushi &amp; Cocktails** (Благовещенский переулок, 1А) - подойдет тем, кто ценит атмосферу ночного Токио и </span>\n",
       "<span style=\"color: #d4b702; text-decoration-color: #d4b702; font-weight: bold\">разнообразие вкусов в роллах. Отличный выбор для вечернего посещения.</span>\n",
       "\n",
       "<span style=\"color: #d4b702; text-decoration-color: #d4b702; font-weight: bold\">Оба ресторана заслуживают высоких оценок и рекомендаций по качеству еды.</span>\n",
       "</pre>\n"
      ],
      "text/plain": [
       "\u001b[1;38;2;212;183;2mFinal answer: На основе отзывов рекомендую посетить следующие места:\u001b[0m\n",
       "\n",
       "\u001b[1;38;2;212;183;2m- **Изюми** (Мясницкая улица, 38с1) - отличный выбор для спокойной встречи с друзьями и разнообразного меню. \u001b[0m\n",
       "\u001b[1;38;2;212;183;2mОсобенно стоит отметить аутентичную кухню японского шефа.\u001b[0m\n",
       "\u001b[1;38;2;212;183;2m- **Tsunami Sushi & Cocktails** (Благовещенский переулок, 1А) - подойдет тем, кто ценит атмосферу ночного Токио и \u001b[0m\n",
       "\u001b[1;38;2;212;183;2mразнообразие вкусов в роллах. Отличный выбор для вечернего посещения.\u001b[0m\n",
       "\n",
       "\u001b[1;38;2;212;183;2mОба ресторана заслуживают высоких оценок и рекомендаций по качеству еды.\u001b[0m\n"
      ]
     },
     "metadata": {},
     "output_type": "display_data"
    },
    {
     "data": {
      "text/html": [
       "<pre style=\"white-space:pre;overflow-x:auto;line-height:normal;font-family:Menlo,'DejaVu Sans Mono',consolas,'Courier New',monospace\"><span style=\"color: #7f7f7f; text-decoration-color: #7f7f7f\">[Step 2: Duration 28.73 seconds| Input tokens: 4,603 | Output tokens: 228]</span>\n",
       "</pre>\n"
      ],
      "text/plain": [
       "\u001b[2m[Step 2: Duration 28.73 seconds| Input tokens: 4,603 | Output tokens: 228]\u001b[0m\n"
      ]
     },
     "metadata": {},
     "output_type": "display_data"
    }
   ],
   "source": [
    "resp = agent.run(\"Я бы хотел посетить японский ресторан. Можешь ли посоветовать хороший в Москве?\")"
   ]
  },
  {
   "cell_type": "code",
   "execution_count": 7,
   "id": "0be50146",
   "metadata": {},
   "outputs": [
    {
     "name": "stdout",
     "output_type": "stream",
     "text": [
      "Основываясь на полученных отзывах, рекомендую посетить ресторан 'Izumi' по адресу Мясницкая улица, д.38с1 в Москве. Отзывы отмечают разнообразие блюд, качественное обслуживание и приятную атмосферу. Также стоит обратить внимание на 'Tsunami Sushi & Cocktails', расположенный по адресу Благовещенский переулок, д.1А, особенно если вы цените не только еду, но и современную атмосферу.\n"
     ]
    }
   ],
   "source": [
    "print(resp)"
   ]
  },
  {
   "cell_type": "code",
   "execution_count": 8,
   "id": "82dafa86",
   "metadata": {},
   "outputs": [
    {
     "data": {
      "text/plain": [
       "[TaskStep(task='Я бы хотел посетить японский ресторан. Можешь ли посоветовать хороший в Москве?', task_images=None),\n",
       " ActionStep(model_input_messages=[{'role': <MessageRole.SYSTEM: 'system'>, 'content': [{'type': 'text', 'text': 'You are an expert assistant who can solve any task using tool calls. You will be given a task to solve as best you can.\\nTo do so, you have been given access to some tools.\\n\\nThe tool call you write is an action: after the tool is executed, you will get the result of the tool call as an \"observation\".\\nThis Action/Observation can repeat N times, you should take several steps when needed.\\n\\nYou can use the result of the previous action as input for the next action.\\nThe observation will always be a string: it can represent a file, like \"image_1.jpg\".\\nThen you can use it as input for the next action. You can do it for instance as follows:\\n\\nObservation: \"image_1.jpg\"\\n\\nAction:\\n{\\n  \"name\": \"image_transformer\",\\n  \"arguments\": {\"image\": \"image_1.jpg\"}\\n}\\n\\nTo provide the final answer to the task, use an action blob with \"name\": \"final_answer\" tool. It is the only way to complete the task, else you will be stuck on a loop. So your final output should look like this:\\nAction:\\n{\\n  \"name\": \"final_answer\",\\n  \"arguments\": {\"answer\": \"insert your final answer here\"}\\n}\\n\\n\\nHere are a few examples using notional tools:\\n---\\nTask: \"Generate an image of the oldest person in this document.\"\\n\\nAction:\\n{\\n  \"name\": \"document_qa\",\\n  \"arguments\": {\"document\": \"document.pdf\", \"question\": \"Who is the oldest person mentioned?\"}\\n}\\nObservation: \"The oldest person in the document is John Doe, a 55 year old lumberjack living in Newfoundland.\"\\n\\nAction:\\n{\\n  \"name\": \"image_generator\",\\n  \"arguments\": {\"prompt\": \"A portrait of John Doe, a 55-year-old man living in Canada.\"}\\n}\\nObservation: \"image.png\"\\n\\nAction:\\n{\\n  \"name\": \"final_answer\",\\n  \"arguments\": \"image.png\"\\n}\\n\\n---\\nTask: \"What is the result of the following operation: 5 + 3 + 1294.678?\"\\n\\nAction:\\n{\\n    \"name\": \"python_interpreter\",\\n    \"arguments\": {\"code\": \"5 + 3 + 1294.678\"}\\n}\\nObservation: 1302.678\\n\\nAction:\\n{\\n  \"name\": \"final_answer\",\\n  \"arguments\": \"1302.678\"\\n}\\n\\n---\\nTask: \"Which city has the highest population , Guangzhou or Shanghai?\"\\n\\nAction:\\n{\\n    \"name\": \"search\",\\n    \"arguments\": \"Population Guangzhou\"\\n}\\nObservation: [\\'Guangzhou has a population of 15 million inhabitants as of 2021.\\']\\n\\n\\nAction:\\n{\\n    \"name\": \"search\",\\n    \"arguments\": \"Population Shanghai\"\\n}\\nObservation: \\'26 million (2019)\\'\\n\\nAction:\\n{\\n  \"name\": \"final_answer\",\\n  \"arguments\": \"Shanghai\"\\n}\\n\\nAbove example were using notional tools that might not exist for you. You only have access to these tools:\\n- travel_review_query: Использует семантический поиск для извлечения отзывов о местах только в Москве.\\n    Takes inputs: {\\'query\\': {\\'type\\': \\'string\\', \\'description\\': \"Запрос для поиска отзыва. Должен быть семантически близок к искомым отзывам, например: посоветуй хорошую кофейню в Москве.\\\\nВажно: не упоминайте весь текст отзыва в ответе. Разрешено использовать только смысл содержания, например: \\'Посетители отмечают, что в заведении чисто и комфортно\\'\"}}\\n    Returns an output of type: string\\n- final_answer: Provides a final answer to the given problem.\\n    Takes inputs: {\\'answer\\': {\\'type\\': \\'any\\', \\'description\\': \\'The final answer to the problem\\'}}\\n    Returns an output of type: any\\n\\nHere are the rules you should always follow to solve your task:\\n1. ALWAYS provide a tool call, else you will fail.\\n2. Always use the right arguments for the tools. Never use variable names as the action arguments, use the value instead.\\n3. Call a tool only when needed: do not call the search agent if you do not need information, try to solve the task yourself.\\nIf no tool call is needed, use final_answer tool to return your answer.\\n4. Never re-do a tool call that you previously did with the exact same parameters.\\n\\nNow Begin!'}]}, {'role': <MessageRole.USER: 'user'>, 'content': [{'type': 'text', 'text': 'New task:\\nЯ бы хотел посетить японский ресторан. Можешь ли посоветовать хороший в Москве?'}]}], tool_calls=[ToolCall(name='travel_review_query', arguments={'query': 'посоветуй хороший японский ресторан в Москве'}, id='2741be7a-2699-400a-8526-669e97e26b41')], start_time=1745127527.5328681, end_time=1745127549.30443, step_number=1, error=None, duration=21.771561861038208, model_output_message=ChatMessage(role=<MessageRole.ASSISTANT: 'assistant'>, content='{\\n  \"name\": \"travel_review_query\",\\n  \"arguments\": {\"query\": \"посоветуй хороший японский ресторан в Москве\"}\\n}', tool_calls=[ChatMessageToolCall(function=ChatMessageToolCallDefinition(arguments={'query': 'посоветуй хороший японский ресторан в Москве'}, name='travel_review_query', description=None), id='2741be7a-2699-400a-8526-669e97e26b41', type='function')], raw=ModelResponse(id='chatcmpl-de815578-f647-458d-89d3-6a11ff7bb4c6', created=1745127536, model='ollama_chat/hf.co/IlyaGusev/saiga_nemo_12b_gguf:Q4_0', object='chat.completion', system_fingerprint=None, choices=[Choices(finish_reason='stop', index=0, message=Message(content='{\\n  \"name\": \"travel_review_query\",\\n  \"arguments\": {\"query\": \"посоветуй хороший японский ресторан в Москве\"}\\n}', role='assistant', tool_calls=None, function_call=None, provider_specific_fields=None))], usage=Usage(completion_tokens=37, prompt_tokens=1266, total_tokens=1303, completion_tokens_details=None, prompt_tokens_details=None))), model_output=\"Called Tool: 'travel_review_query' with arguments: {'query': 'посоветуй хороший японский ресторан в Москве'}\", observations='Найденные отзывы о местах:\\n\\n=== Отзыв на Izumi ===\\nАдрес: Москва, Мясницкая улица, 38с1\\nРейтинг: 5.0\\nКатегории: Ресторан;Бар, паб;Караоке-клуб\\nТекст: Одно из самых любимых заведений японской кухни в Москве!  За адекватную цену вы получите действительно вкусное, похожее на настоящее, японское блюдо. Разнообразное меню и изобилие различных видов саке. Приятный интерьер. Отдельно хочется отметить удобную функцию вызова официанта с помощью кнопочки на столе :) \\n\\n=== Отзыв на Tsunami Sushi & Cocktails ===\\nАдрес: Москва, Благовещенский переулок, 1А\\nРейтинг: 5.0\\nКатегории: Ресторан;Бар, паб;Суши-бар\\nТекст: Бомбически! Хотела поесть действительно вкусных роллов и не прогадала с выбором места. Приятный интерьер в стиле неонового Токио, техно/хаус музыка, которая не отвлекает от ужина, а только добавляет атмосферы. Посадка практически полная, но разговоры не мешали, шумно не было.  Брали роллы Мега Лосось, Радуга, Нигири с лососем и оши с гребешком. Очень вкусно и очень сытно. Рыба свежая, сочетания вкусов потрясающие. Муж брал коктейли и тоже остался доволен.  UPD 17 июня 2023: Выбрала Tsunami, чтобы вдвоём с мужем отпраздновать мой день рождения. Как всегда безукаризненное обслуживание, наивкуснейшая еда, шикарная атмосфера. Пока люимое заведение японской кухни в Москве, куда действительно хочется возвращаться. \\n\\n=== Отзыв на Тануки ===\\nАдрес: Москва, Новокосинская улица, 36\\nРейтинг: 4.0\\nКатегории: Ресторан;Суши-бар;Доставка еды и обедов\\nТекст: Всем привет! Идём в \"Тануки\"): роллы и суши да, вкусно, качественно, порции конечно уменьшились, но в целом  приемлимо. С детьми там можно отдохнуть, есть детская комната, в сбб и вс работают аниматоры, шум и гам стоит знатный!)). Если идти туда  без детей  на любителя,  было бы другое приличное место, хоть маленький ресторанчик, в Новокосино, я бы выбрала другое, без детских воплей и криков. А так  добро пожаловать, выпейте побольше пива, или что покрепче и шум вам ни почём!)😂 Обслуживание, сервис  хорошие, но не сказать, что бы впечатляющие🤷\\u200d♂️ Вобщем, в Новокосино у вас всего 2 варианта приличного кафе (на ресторан это не тянет, хоть как посмотри) либо японская кухня и это \"Тануки\", либо узбекская и это \"Чайхона\",  удивительно, что в столице России приходится делать такой выбор! Если отзыв прочитает какойлибо ресторатор, то  прямо обращаюсь: \"Откройте пожалуйста в Новокосино   кафе, с  привычной нам всем русской кухней!\" \\n\\n=== Отзыв на Izumi ===\\nАдрес: Москва, Мясницкая улица, 38с1\\nРейтинг: 5.0\\nКатегории: Ресторан;Бар, паб;Караоке-клуб\\nТекст: Прекрасное место с великолепным тихим антуражем. Был днём, с друзьями. Еда от японского шефа на любой вкус, и для тех кто не любит рыбу и морепродукты и для тех кто их обожает. Я лично ел Тонкацу Рамен, мне очень понравилось, в отличии от большинства мест в Москве где всëтаки готовится под ожидания русских, тут именно что необычный вкус явно не из того  тех что можно попробовать в други местах.   Именно тут я пожалуй понял что именно японцы имеют ввиду по умами вкусом, реально очень плотный и при этом совершенно нежирный бульон просто пропитан вкусом который в других кухнях встречается довольно редко даже при самом поедании мяса. Однозначно рекомендую, однако предупреждаю что напитки как алко так и без состоят изо льда на 80%. \\n\\n=== Отзыв на Якитория ===\\nАдрес: Москва, улица Маршала Полубоярова, 1\\nРейтинг: 5.0\\nКатегории: Суши-бар;Ресторан;Доставка еды и обедов\\nТекст: Очень хороший  ресторанчик японской кухни. Заказываю всегда отсюда если хочется роллов. Очень вкусные горячие роллы. Детям также будет интересно перекусить тут.', observations_images=None, action_output=None),\n",
       " ActionStep(model_input_messages=[{'role': <MessageRole.SYSTEM: 'system'>, 'content': [{'type': 'text', 'text': 'You are an expert assistant who can solve any task using tool calls. You will be given a task to solve as best you can.\\nTo do so, you have been given access to some tools.\\n\\nThe tool call you write is an action: after the tool is executed, you will get the result of the tool call as an \"observation\".\\nThis Action/Observation can repeat N times, you should take several steps when needed.\\n\\nYou can use the result of the previous action as input for the next action.\\nThe observation will always be a string: it can represent a file, like \"image_1.jpg\".\\nThen you can use it as input for the next action. You can do it for instance as follows:\\n\\nObservation: \"image_1.jpg\"\\n\\nAction:\\n{\\n  \"name\": \"image_transformer\",\\n  \"arguments\": {\"image\": \"image_1.jpg\"}\\n}\\n\\nTo provide the final answer to the task, use an action blob with \"name\": \"final_answer\" tool. It is the only way to complete the task, else you will be stuck on a loop. So your final output should look like this:\\nAction:\\n{\\n  \"name\": \"final_answer\",\\n  \"arguments\": {\"answer\": \"insert your final answer here\"}\\n}\\n\\n\\nHere are a few examples using notional tools:\\n---\\nTask: \"Generate an image of the oldest person in this document.\"\\n\\nAction:\\n{\\n  \"name\": \"document_qa\",\\n  \"arguments\": {\"document\": \"document.pdf\", \"question\": \"Who is the oldest person mentioned?\"}\\n}\\nObservation: \"The oldest person in the document is John Doe, a 55 year old lumberjack living in Newfoundland.\"\\n\\nAction:\\n{\\n  \"name\": \"image_generator\",\\n  \"arguments\": {\"prompt\": \"A portrait of John Doe, a 55-year-old man living in Canada.\"}\\n}\\nObservation: \"image.png\"\\n\\nAction:\\n{\\n  \"name\": \"final_answer\",\\n  \"arguments\": \"image.png\"\\n}\\n\\n---\\nTask: \"What is the result of the following operation: 5 + 3 + 1294.678?\"\\n\\nAction:\\n{\\n    \"name\": \"python_interpreter\",\\n    \"arguments\": {\"code\": \"5 + 3 + 1294.678\"}\\n}\\nObservation: 1302.678\\n\\nAction:\\n{\\n  \"name\": \"final_answer\",\\n  \"arguments\": \"1302.678\"\\n}\\n\\n---\\nTask: \"Which city has the highest population , Guangzhou or Shanghai?\"\\n\\nAction:\\n{\\n    \"name\": \"search\",\\n    \"arguments\": \"Population Guangzhou\"\\n}\\nObservation: [\\'Guangzhou has a population of 15 million inhabitants as of 2021.\\']\\n\\n\\nAction:\\n{\\n    \"name\": \"search\",\\n    \"arguments\": \"Population Shanghai\"\\n}\\nObservation: \\'26 million (2019)\\'\\n\\nAction:\\n{\\n  \"name\": \"final_answer\",\\n  \"arguments\": \"Shanghai\"\\n}\\n\\nAbove example were using notional tools that might not exist for you. You only have access to these tools:\\n- travel_review_query: Использует семантический поиск для извлечения отзывов о местах только в Москве.\\n    Takes inputs: {\\'query\\': {\\'type\\': \\'string\\', \\'description\\': \"Запрос для поиска отзыва. Должен быть семантически близок к искомым отзывам, например: посоветуй хорошую кофейню в Москве.\\\\nВажно: не упоминайте весь текст отзыва в ответе. Разрешено использовать только смысл содержания, например: \\'Посетители отмечают, что в заведении чисто и комфортно\\'\"}}\\n    Returns an output of type: string\\n- final_answer: Provides a final answer to the given problem.\\n    Takes inputs: {\\'answer\\': {\\'type\\': \\'any\\', \\'description\\': \\'The final answer to the problem\\'}}\\n    Returns an output of type: any\\n\\nHere are the rules you should always follow to solve your task:\\n1. ALWAYS provide a tool call, else you will fail.\\n2. Always use the right arguments for the tools. Never use variable names as the action arguments, use the value instead.\\n3. Call a tool only when needed: do not call the search agent if you do not need information, try to solve the task yourself.\\nIf no tool call is needed, use final_answer tool to return your answer.\\n4. Never re-do a tool call that you previously did with the exact same parameters.\\n\\nNow Begin!'}]}, {'role': <MessageRole.USER: 'user'>, 'content': [{'type': 'text', 'text': 'New task:\\nЯ бы хотел посетить японский ресторан. Можешь ли посоветовать хороший в Москве?'}]}, {'role': <MessageRole.ASSISTANT: 'assistant'>, 'content': [{'type': 'text', 'text': \"Called Tool: 'travel_review_query' with arguments: {'query': 'посоветуй хороший японский ресторан в Москве'}\"}]}, {'role': <MessageRole.TOOL_CALL: 'tool-call'>, 'content': [{'type': 'text', 'text': \"Calling tools:\\n[{'id': '2741be7a-2699-400a-8526-669e97e26b41', 'type': 'function', 'function': {'name': 'travel_review_query', 'arguments': {'query': 'посоветуй хороший японский ресторан в Москве'}}}]\"}]}, {'role': <MessageRole.TOOL_RESPONSE: 'tool-response'>, 'content': [{'type': 'text', 'text': 'Observation:\\nНайденные отзывы о местах:\\n\\n=== Отзыв на Izumi ===\\nАдрес: Москва, Мясницкая улица, 38с1\\nРейтинг: 5.0\\nКатегории: Ресторан;Бар, паб;Караоке-клуб\\nТекст: Одно из самых любимых заведений японской кухни в Москве!  За адекватную цену вы получите действительно вкусное, похожее на настоящее, японское блюдо. Разнообразное меню и изобилие различных видов саке. Приятный интерьер. Отдельно хочется отметить удобную функцию вызова официанта с помощью кнопочки на столе :) \\n\\n=== Отзыв на Tsunami Sushi & Cocktails ===\\nАдрес: Москва, Благовещенский переулок, 1А\\nРейтинг: 5.0\\nКатегории: Ресторан;Бар, паб;Суши-бар\\nТекст: Бомбически! Хотела поесть действительно вкусных роллов и не прогадала с выбором места. Приятный интерьер в стиле неонового Токио, техно/хаус музыка, которая не отвлекает от ужина, а только добавляет атмосферы. Посадка практически полная, но разговоры не мешали, шумно не было.  Брали роллы Мега Лосось, Радуга, Нигири с лососем и оши с гребешком. Очень вкусно и очень сытно. Рыба свежая, сочетания вкусов потрясающие. Муж брал коктейли и тоже остался доволен.  UPD 17 июня 2023: Выбрала Tsunami, чтобы вдвоём с мужем отпраздновать мой день рождения. Как всегда безукаризненное обслуживание, наивкуснейшая еда, шикарная атмосфера. Пока люимое заведение японской кухни в Москве, куда действительно хочется возвращаться. \\n\\n=== Отзыв на Тануки ===\\nАдрес: Москва, Новокосинская улица, 36\\nРейтинг: 4.0\\nКатегории: Ресторан;Суши-бар;Доставка еды и обедов\\nТекст: Всем привет! Идём в \"Тануки\"): роллы и суши да, вкусно, качественно, порции конечно уменьшились, но в целом  приемлимо. С детьми там можно отдохнуть, есть детская комната, в сбб и вс работают аниматоры, шум и гам стоит знатный!)). Если идти туда  без детей  на любителя,  было бы другое приличное место, хоть маленький ресторанчик, в Новокосино, я бы выбрала другое, без детских воплей и криков. А так  добро пожаловать, выпейте побольше пива, или что покрепче и шум вам ни почём!)😂 Обслуживание, сервис  хорошие, но не сказать, что бы впечатляющие🤷\\u200d♂️ Вобщем, в Новокосино у вас всего 2 варианта приличного кафе (на ресторан это не тянет, хоть как посмотри) либо японская кухня и это \"Тануки\", либо узбекская и это \"Чайхона\",  удивительно, что в столице России приходится делать такой выбор! Если отзыв прочитает какойлибо ресторатор, то  прямо обращаюсь: \"Откройте пожалуйста в Новокосино   кафе, с  привычной нам всем русской кухней!\" \\n\\n=== Отзыв на Izumi ===\\nАдрес: Москва, Мясницкая улица, 38с1\\nРейтинг: 5.0\\nКатегории: Ресторан;Бар, паб;Караоке-клуб\\nТекст: Прекрасное место с великолепным тихим антуражем. Был днём, с друзьями. Еда от японского шефа на любой вкус, и для тех кто не любит рыбу и морепродукты и для тех кто их обожает. Я лично ел Тонкацу Рамен, мне очень понравилось, в отличии от большинства мест в Москве где всëтаки готовится под ожидания русских, тут именно что необычный вкус явно не из того  тех что можно попробовать в други местах.   Именно тут я пожалуй понял что именно японцы имеют ввиду по умами вкусом, реально очень плотный и при этом совершенно нежирный бульон просто пропитан вкусом который в других кухнях встречается довольно редко даже при самом поедании мяса. Однозначно рекомендую, однако предупреждаю что напитки как алко так и без состоят изо льда на 80%. \\n\\n=== Отзыв на Якитория ===\\nАдрес: Москва, улица Маршала Полубоярова, 1\\nРейтинг: 5.0\\nКатегории: Суши-бар;Ресторан;Доставка еды и обедов\\nТекст: Очень хороший  ресторанчик японской кухни. Заказываю всегда отсюда если хочется роллов. Очень вкусные горячие роллы. Детям также будет интересно перекусить тут.'}]}], tool_calls=[ToolCall(name='final_answer', arguments={'answer': \"Основываясь на полученных отзывах, рекомендую посетить ресторан 'Izumi' по адресу Мясницкая улица, д.38с1 в Москве. Отзывы отмечают разнообразие блюд, качественное обслуживание и приятную атмосферу. Также стоит обратить внимание на 'Tsunami Sushi & Cocktails', расположенный по адресу Благовещенский переулок, д.1А, особенно если вы цените не только еду, но и современную атмосферу.\"}, id='3301de5c-fb5f-4a11-a42d-3be24d4ed2d4')], start_time=1745127549.3054411, end_time=1745127586.645851, step_number=2, error=None, duration=37.34040975570679, model_output_message=ChatMessage(role=<MessageRole.ASSISTANT: 'assistant'>, content='{ \\n    \"name\": \"final_answer\",\\n    \"arguments\": {\\n        \"answer\": \"Основываясь на полученных отзывах, рекомендую посетить ресторан \\'Izumi\\' по адресу Мясницкая улица, д.38с1 в Москве. Отзывы отмечают разнообразие блюд, качественное обслуживание и приятную атмосферу. Также стоит обратить внимание на \\'Tsunami Sushi & Cocktails\\', расположенный по адресу Благовещенский переулок, д.1А, особенно если вы цените не только еду, но и современную атмосферу.\"\\n    }\\n}', tool_calls=[ChatMessageToolCall(function=ChatMessageToolCallDefinition(arguments={'answer': \"Основываясь на полученных отзывах, рекомендую посетить ресторан 'Izumi' по адресу Мясницкая улица, д.38с1 в Москве. Отзывы отмечают разнообразие блюд, качественное обслуживание и приятную атмосферу. Также стоит обратить внимание на 'Tsunami Sushi & Cocktails', расположенный по адресу Благовещенский переулок, д.1А, особенно если вы цените не только еду, но и современную атмосферу.\"}, name='final_answer', description=None), id='3301de5c-fb5f-4a11-a42d-3be24d4ed2d4', type='function')], raw=ModelResponse(id='chatcmpl-40ca9ce5-e8a5-44c4-a851-bb08a783201f', created=1745127574, model='ollama_chat/hf.co/IlyaGusev/saiga_nemo_12b_gguf:Q4_0', object='chat.completion', system_fingerprint=None, choices=[Choices(finish_reason='stop', index=0, message=Message(content='{ \\n    \"name\": \"final_answer\",\\n    \"arguments\": {\\n        \"answer\": \"Основываясь на полученных отзывах, рекомендую посетить ресторан \\'Izumi\\' по адресу Мясницкая улица, д.38с1 в Москве. Отзывы отмечают разнообразие блюд, качественное обслуживание и приятную атмосферу. Также стоит обратить внимание на \\'Tsunami Sushi & Cocktails\\', расположенный по адресу Благовещенский переулок, д.1А, особенно если вы цените не только еду, но и современную атмосферу.\"\\n    }\\n}', role='assistant', tool_calls=None, function_call=None, provider_specific_fields=None))], usage=Usage(completion_tokens=148, prompt_tokens=2698, total_tokens=2846, completion_tokens_details=None, prompt_tokens_details=None))), model_output='Called Tool: \\'final_answer\\' with arguments: {\\'answer\\': \"Основываясь на полученных отзывах, рекомендую посетить ресторан \\'Izumi\\' по адресу Мясницкая улица, д.38с1 в Москве. Отзывы отмечают разнообразие блюд, качественное обслуживание и приятную атмосферу. Также стоит обратить внимание на \\'Tsunami Sushi & Cocktails\\', расположенный по адресу Благовещенский переулок, д.1А, особенно если вы цените не только еду, но и современную атмосферу.\"}', observations=None, observations_images=None, action_output=\"Основываясь на полученных отзывах, рекомендую посетить ресторан 'Izumi' по адресу Мясницкая улица, д.38с1 в Москве. Отзывы отмечают разнообразие блюд, качественное обслуживание и приятную атмосферу. Также стоит обратить внимание на 'Tsunami Sushi & Cocktails', расположенный по адресу Благовещенский переулок, д.1А, особенно если вы цените не только еду, но и современную атмосферу.\")]"
      ]
     },
     "execution_count": 8,
     "metadata": {},
     "output_type": "execute_result"
    }
   ],
   "source": [
    "agent.memory.steps"
   ]
  },
  {
   "cell_type": "code",
   "execution_count": 5,
   "id": "e4502c51",
   "metadata": {},
   "outputs": [
    {
     "name": "stdout",
     "output_type": "stream",
     "text": [
      "Вы — эксперт-ассистент, который может решать любые задачи с использованием вызовов инструментов. Вам будет дана задача, которую вы должны решить наилучшим образом.\n",
      "Для этого вам предоставлен доступ к некоторым инструментам.\n",
      "Вызов инструмента, который вы пишете, является действием: после выполнения инструмента вы получите результат вызова инструмента как \"наблюдение\".\n",
      "Эта последовательность Действие/Наблюдение может повторяться N раз, вам следует выполнять несколько шагов, когда это необходимо.\n",
      "Вы можете использовать результат предыдущего действия как ввод для следующего действия.\n",
      "Наблюдение всегда будет строкой: она может представлять файл, например \"image_1.jpg\".\n",
      "Затем вы можете использовать его как ввод для следующего действия. Вы можете сделать это, например, следующим образом:\n",
      "\n",
      "Наблюдение: \"image_1.jpg\"\n",
      "\n",
      "Действие:\n",
      "{\n",
      "  \"name\": \"image_transformer\",\n",
      "  \"arguments\": {\"image\": \"image_1.jpg\"}\n",
      "}\n",
      "Чтобы предоставить окончательный ответ на задачу, используйте блок действия с \"name\": \"final_answer\". Это единственный способ завершить задачу, иначе вы застрянете в цикле. Поэтому ваш итоговый вывод должен выглядеть так:\n",
      "Действие:\n",
      "{\n",
      "  \"name\": \"final_answer\",\n",
      "  \"arguments\": {\"answer\": \"окончательный ответ здесь\"}\n",
      "}\n",
      "\n",
      "\n",
      "Вот несколько примеров с условными инструментами:\n",
      "---\n",
      "Задача: \"Сгенерировать изображение самого старого человека в этом документе.\"\n",
      "\n",
      "Действие:\n",
      "{\n",
      "  \"name\": \"document_qa\",\n",
      "  \"arguments\": {\"document\": \"document.pdf\", \"question\": \"Кто самый старый упомянутый человек?\"}\n",
      "}\n",
      "Наблюдение: \"Самый старый человек в документе — Джон Доу, 55-летний лесоруб, проживающий в Ньюфаундленде.\"\n",
      "\n",
      "Действие:\n",
      "{\n",
      "  \"name\": \"image_generator\",\n",
      "  \"arguments\": {\"prompt\": \"Портрет Джона Доу, 55-летнего мужчины, живущего в Канаде.\"}\n",
      "}\n",
      "Наблюдение: \"image.png\"\n",
      "\n",
      "Действие:\n",
      "{\n",
      "  \"name\": \"final_answer\",\n",
      "  \"arguments\": \"image.png\"\n",
      "}\n",
      "\n",
      "---\n",
      "Задача: \"Какой город имеет наибольшее население, Гуанчжоу или Шанхай?\"\n",
      "\n",
      "Действие:\n",
      "{\n",
      "    \"name\": \"search\",\n",
      "    \"arguments\": \"Население Гуанчжоу\"\n",
      "}\n",
      "Наблюдение: ['Гуанчжоу имеет население 15 миллионов жителей по данным на 2021 год.']\n",
      "\n",
      "Действие:\n",
      "{\n",
      "    \"name\": \"search\",\n",
      "    \"arguments\": \"Население Шанхая\"\n",
      "}\n",
      "Наблюдение: '26 million (2019)'\n",
      "\n",
      "Действие:\n",
      "{\n",
      "  \"name\": \"final_answer\",\n",
      "  \"arguments\": \"Шанхай\"\n",
      "}\n",
      "\n",
      "Вышеприведенные примеры использовали условные инструменты, которые могут не существовать для вас. У вас есть доступ только к этим инструментам:\n",
      "- travel_review_query: Использует семантический поиск для извлечения отзывов на различные заведения. Важно: не упоминайте весь текст отзыва в ответе. Разрешено использовать только смысл содержания, например: \"Посетители отмечают, что в заведении чисто и комфортно\"\n",
      "    Принимает входные данные: {'query': {'type': 'string', 'description': 'Запрос для поиска отзыва. Должен быть семантически близок к искомым отзывам, например: посоветуй хорошую кофейню в Москве.'}, 'min_rating': {'type': 'integer', 'description': 'Опциональное поле, фильтр минимального рейтинга (от 1 до 5)', 'nullable': True}, 'address': {'type': 'string', 'description': 'Опциональное поле, ключевое слово из адреса (город или улица), например: \"Москва\", \"улица Энгельса\"', 'nullable': True}, 'rubrics': {'type': 'string', 'description': 'Опциональное поле, использовать его только если не получилось получить подходящих результатов по параметру \"query\". Аргумент можно получить из утилиты get_existing_travel_review_rubrics', 'nullable': True}}\n",
      "    Возвращает результат типа: string\n",
      "- final_answer: Provides a final answer to the given problem.\n",
      "    Принимает входные данные: {'answer': {'type': 'any', 'description': 'The final answer to the problem'}}\n",
      "    Возвращает результат типа: any\n",
      "\n",
      "Вот правила, которым вы всегда должны следовать для решения своей задачи:\n",
      "1. ВСЕГДА предоставляйте вызов инструмента, иначе вы потерпите неудачу.\n",
      "2. Всегда используйте правильные аргументы для инструментов. Никогда не используйте имена переменных в качестве аргументов действия, используйте вместо этого значение.\n",
      "3. Вызывайте инструмент только при необходимости: не вызывайте поискового агента, если вам не нужна информация, попробуйте решить задачу самостоятельно.\n",
      "4. Если вызов инструмента не требуется, используйте инструмент final_answer для возврата вашего ответа.\n",
      "5. Никогда не повторяйте вызов инструмента с теми же параметрами, которые вы уже использовали.\n",
      "\n",
      "Теперь начинайте!\n"
     ]
    }
   ],
   "source": [
    "# translated prompts\n",
    "\n",
    "agent = ToolCallingAgent(\n",
    "    tools=[review_search_tool],\n",
    "    model=model,\n",
    "    prompt_templates=RUS_PROMPT_TEMPLATES,\n",
    "    max_steps=3,\n",
    "    verbosity_level=2,  # DEBUG\n",
    ")\n",
    "\n",
    "print(agent.system_prompt)"
   ]
  },
  {
   "cell_type": "code",
   "execution_count": 6,
   "id": "1ead9c4c",
   "metadata": {},
   "outputs": [
    {
     "data": {
      "text/html": [
       "<pre style=\"white-space:pre;overflow-x:auto;line-height:normal;font-family:Menlo,'DejaVu Sans Mono',consolas,'Courier New',monospace\"><span style=\"color: #d4b702; text-decoration-color: #d4b702\">╭──────────────────────────────────────────────────── </span><span style=\"color: #d4b702; text-decoration-color: #d4b702; font-weight: bold\">New run</span><span style=\"color: #d4b702; text-decoration-color: #d4b702\"> ────────────────────────────────────────────────────╮</span>\n",
       "<span style=\"color: #d4b702; text-decoration-color: #d4b702\">│</span>                                                                                                                 <span style=\"color: #d4b702; text-decoration-color: #d4b702\">│</span>\n",
       "<span style=\"color: #d4b702; text-decoration-color: #d4b702\">│</span> <span style=\"font-weight: bold\">Я бы хотел посетить японский ресторан. Можешь ли посоветовать хороший в Москве?</span>                                 <span style=\"color: #d4b702; text-decoration-color: #d4b702\">│</span>\n",
       "<span style=\"color: #d4b702; text-decoration-color: #d4b702\">│</span>                                                                                                                 <span style=\"color: #d4b702; text-decoration-color: #d4b702\">│</span>\n",
       "<span style=\"color: #d4b702; text-decoration-color: #d4b702\">╰─ LiteLLMModel - ollama_chat/hf.co/IlyaGusev/saiga_nemo_12b_gguf:Q4_0 ───────────────────────────────────────────╯</span>\n",
       "</pre>\n"
      ],
      "text/plain": [
       "\u001b[38;2;212;183;2m╭─\u001b[0m\u001b[38;2;212;183;2m───────────────────────────────────────────────────\u001b[0m\u001b[38;2;212;183;2m \u001b[0m\u001b[1;38;2;212;183;2mNew run\u001b[0m\u001b[38;2;212;183;2m \u001b[0m\u001b[38;2;212;183;2m───────────────────────────────────────────────────\u001b[0m\u001b[38;2;212;183;2m─╮\u001b[0m\n",
       "\u001b[38;2;212;183;2m│\u001b[0m                                                                                                                 \u001b[38;2;212;183;2m│\u001b[0m\n",
       "\u001b[38;2;212;183;2m│\u001b[0m \u001b[1mЯ бы хотел посетить японский ресторан. Можешь ли посоветовать хороший в Москве?\u001b[0m                                 \u001b[38;2;212;183;2m│\u001b[0m\n",
       "\u001b[38;2;212;183;2m│\u001b[0m                                                                                                                 \u001b[38;2;212;183;2m│\u001b[0m\n",
       "\u001b[38;2;212;183;2m╰─\u001b[0m\u001b[38;2;212;183;2m LiteLLMModel - ollama_chat/hf.co/IlyaGusev/saiga_nemo_12b_gguf:Q4_0 \u001b[0m\u001b[38;2;212;183;2m──────────────────────────────────────────\u001b[0m\u001b[38;2;212;183;2m─╯\u001b[0m\n"
      ]
     },
     "metadata": {},
     "output_type": "display_data"
    },
    {
     "data": {
      "text/html": [
       "<pre style=\"white-space:pre;overflow-x:auto;line-height:normal;font-family:Menlo,'DejaVu Sans Mono',consolas,'Courier New',monospace\"><span style=\"color: #d4b702; text-decoration-color: #d4b702\">━━━━━━━━━━━━━━━━━━━━━━━━━━━━━━━━━━━━━━━━━━━━━━━━━━━━━ </span><span style=\"font-weight: bold\">Step </span><span style=\"color: #008080; text-decoration-color: #008080; font-weight: bold\">1</span><span style=\"color: #d4b702; text-decoration-color: #d4b702\"> ━━━━━━━━━━━━━━━━━━━━━━━━━━━━━━━━━━━━━━━━━━━━━━━━━━━━━━</span>\n",
       "</pre>\n"
      ],
      "text/plain": [
       "\u001b[38;2;212;183;2m━━━━━━━━━━━━━━━━━━━━━━━━━━━━━━━━━━━━━━━━━━━━━━━━━━━━━ \u001b[0m\u001b[1mStep \u001b[0m\u001b[1;36m1\u001b[0m\u001b[38;2;212;183;2m ━━━━━━━━━━━━━━━━━━━━━━━━━━━━━━━━━━━━━━━━━━━━━━━━━━━━━━\u001b[0m\n"
      ]
     },
     "metadata": {},
     "output_type": "display_data"
    },
    {
     "data": {
      "text/html": [
       "<pre style=\"white-space:pre;overflow-x:auto;line-height:normal;font-family:Menlo,'DejaVu Sans Mono',consolas,'Courier New',monospace\"><span style=\"font-weight: bold; font-style: italic\">Output message of the LLM:</span> <span style=\"color: #d4b702; text-decoration-color: #d4b702\">────────────────────────────────────────────────────────────────────────────────────────</span>\n",
       "<span style=\"color: #e6edf3; text-decoration-color: #e6edf3; background-color: #0d1117\">{</span><span style=\"background-color: #0d1117\">                                                                                                                  </span>\n",
       "<span style=\"color: #e6edf3; text-decoration-color: #e6edf3; background-color: #0d1117\"> \"name\": \"travel_review_query\",</span><span style=\"background-color: #0d1117\">                                                                                    </span>\n",
       "<span style=\"color: #e6edf3; text-decoration-color: #e6edf3; background-color: #0d1117\"> \"arguments\": {</span><span style=\"background-color: #0d1117\">                                                                                                    </span>\n",
       "<span style=\"color: #e6edf3; text-decoration-color: #e6edf3; background-color: #0d1117\">   \"query\": \"посоветуй хороший японский ресторан в Москве\",</span><span style=\"background-color: #0d1117\">                                                        </span>\n",
       "<span style=\"color: #e6edf3; text-decoration-color: #e6edf3; background-color: #0d1117\">   \"min_rating\": 4</span><span style=\"background-color: #0d1117\">                                                                                                 </span>\n",
       "<span style=\"color: #e6edf3; text-decoration-color: #e6edf3; background-color: #0d1117\"> }</span><span style=\"background-color: #0d1117\">                                                                                                                 </span>\n",
       "<span style=\"color: #e6edf3; text-decoration-color: #e6edf3; background-color: #0d1117\">}</span><span style=\"background-color: #0d1117\">                                                                                                                  </span>\n",
       "</pre>\n"
      ],
      "text/plain": [
       "\u001b[1;3mOutput message of the LLM:\u001b[0m \u001b[38;2;212;183;2m────────────────────────────────────────────────────────────────────────────────────────\u001b[0m\n",
       "\u001b[38;2;230;237;243;48;2;13;17;23m{\u001b[0m\u001b[48;2;13;17;23m                                                                                                                  \u001b[0m\n",
       "\u001b[38;2;230;237;243;48;2;13;17;23m \u001b[0m\u001b[38;2;230;237;243;48;2;13;17;23m\"name\":\u001b[0m\u001b[38;2;230;237;243;48;2;13;17;23m \u001b[0m\u001b[38;2;230;237;243;48;2;13;17;23m\"travel_review_query\",\u001b[0m\u001b[48;2;13;17;23m                                                                                    \u001b[0m\n",
       "\u001b[38;2;230;237;243;48;2;13;17;23m \u001b[0m\u001b[38;2;230;237;243;48;2;13;17;23m\"arguments\":\u001b[0m\u001b[38;2;230;237;243;48;2;13;17;23m \u001b[0m\u001b[38;2;230;237;243;48;2;13;17;23m{\u001b[0m\u001b[48;2;13;17;23m                                                                                                    \u001b[0m\n",
       "\u001b[38;2;230;237;243;48;2;13;17;23m \u001b[0m\u001b[38;2;230;237;243;48;2;13;17;23m \u001b[0m\u001b[38;2;230;237;243;48;2;13;17;23m \u001b[0m\u001b[38;2;230;237;243;48;2;13;17;23m\"query\":\u001b[0m\u001b[38;2;230;237;243;48;2;13;17;23m \u001b[0m\u001b[38;2;230;237;243;48;2;13;17;23m\"посоветуй\u001b[0m\u001b[38;2;230;237;243;48;2;13;17;23m \u001b[0m\u001b[38;2;230;237;243;48;2;13;17;23mхороший\u001b[0m\u001b[38;2;230;237;243;48;2;13;17;23m \u001b[0m\u001b[38;2;230;237;243;48;2;13;17;23mяпонский\u001b[0m\u001b[38;2;230;237;243;48;2;13;17;23m \u001b[0m\u001b[38;2;230;237;243;48;2;13;17;23mресторан\u001b[0m\u001b[38;2;230;237;243;48;2;13;17;23m \u001b[0m\u001b[38;2;230;237;243;48;2;13;17;23mв\u001b[0m\u001b[38;2;230;237;243;48;2;13;17;23m \u001b[0m\u001b[38;2;230;237;243;48;2;13;17;23mМоскве\",\u001b[0m\u001b[48;2;13;17;23m                                                        \u001b[0m\n",
       "\u001b[38;2;230;237;243;48;2;13;17;23m \u001b[0m\u001b[38;2;230;237;243;48;2;13;17;23m \u001b[0m\u001b[38;2;230;237;243;48;2;13;17;23m \u001b[0m\u001b[38;2;230;237;243;48;2;13;17;23m\"min_rating\":\u001b[0m\u001b[38;2;230;237;243;48;2;13;17;23m \u001b[0m\u001b[38;2;230;237;243;48;2;13;17;23m4\u001b[0m\u001b[48;2;13;17;23m                                                                                                 \u001b[0m\n",
       "\u001b[38;2;230;237;243;48;2;13;17;23m \u001b[0m\u001b[38;2;230;237;243;48;2;13;17;23m}\u001b[0m\u001b[48;2;13;17;23m                                                                                                                 \u001b[0m\n",
       "\u001b[38;2;230;237;243;48;2;13;17;23m}\u001b[0m\u001b[48;2;13;17;23m                                                                                                                  \u001b[0m\n"
      ]
     },
     "metadata": {},
     "output_type": "display_data"
    },
    {
     "data": {
      "text/html": [
       "<pre style=\"white-space:pre;overflow-x:auto;line-height:normal;font-family:Menlo,'DejaVu Sans Mono',consolas,'Courier New',monospace\">╭─────────────────────────────────────────────────────────────────────────────────────────────────────────────────╮\n",
       "│ Calling tool: 'travel_review_query' with arguments: {'query': 'посоветуй хороший японский ресторан в Москве',   │\n",
       "│ 'min_rating': 4}                                                                                                │\n",
       "╰─────────────────────────────────────────────────────────────────────────────────────────────────────────────────╯\n",
       "</pre>\n"
      ],
      "text/plain": [
       "╭─────────────────────────────────────────────────────────────────────────────────────────────────────────────────╮\n",
       "│ Calling tool: 'travel_review_query' with arguments: {'query': 'посоветуй хороший японский ресторан в Москве',   │\n",
       "│ 'min_rating': 4}                                                                                                │\n",
       "╰─────────────────────────────────────────────────────────────────────────────────────────────────────────────────╯\n"
      ]
     },
     "metadata": {},
     "output_type": "display_data"
    },
    {
     "name": "stderr",
     "output_type": "stream",
     "text": [
      "\u001b[32m2025-04-20 13:03:30.822\u001b[0m | \u001b[34m\u001b[1mDEBUG   \u001b[0m | \u001b[36mtravel_agent.retrieval.smolagents.tool\u001b[0m:\u001b[36mforward\u001b[0m:\u001b[36m107\u001b[0m - \u001b[34m\u001b[1mfilters: [FieldCondition(key='rating', match=None, range=Range(lt=None, gt=None, gte=4.0, lte=None), geo_bounding_box=None, geo_radius=None, geo_polygon=None, values_count=None)]\u001b[0m\n"
     ]
    },
    {
     "data": {
      "text/html": [
       "<pre style=\"white-space:pre;overflow-x:auto;line-height:normal;font-family:Menlo,'DejaVu Sans Mono',consolas,'Courier New',monospace\">Observations: Найденные отзывы о местах:\n",
       "\n",
       "=== Отзыв на Izumi ===\n",
       "Адрес: Москва, Мясницкая улица, 38с1\n",
       "Рейтинг: <span style=\"color: #008080; text-decoration-color: #008080; font-weight: bold\">5.0</span>\n",
       "Категории: |<span style=\"color: #008000; text-decoration-color: #008000\">'Ресторан'</span>, <span style=\"color: #008000; text-decoration-color: #008000\">'Бар, паб'</span>, <span style=\"color: #008000; text-decoration-color: #008000\">'Караоке-клуб'</span><span style=\"font-weight: bold\">]</span>\n",
       "Текст: Одно из самых любимых заведений японской кухни в Москве!  За адекватную цену вы получите действительно \n",
       "вкусное, похожее на настоящее, японское блюдо. Разнообразное меню и изобилие различных видов саке. Приятный \n",
       "интерьер. Отдельно хочется отметить удобную функцию вызова официанта с помощью кнопочки на столе :<span style=\"font-weight: bold\">)</span> \n",
       "\n",
       "=== Отзыв на Tsunami Sushi &amp; Cocktails ===\n",
       "Адрес: Москва, Благовещенский переулок, 1А\n",
       "Рейтинг: <span style=\"color: #008080; text-decoration-color: #008080; font-weight: bold\">5.0</span>\n",
       "Категории: |<span style=\"color: #008000; text-decoration-color: #008000\">'Ресторан'</span>, <span style=\"color: #008000; text-decoration-color: #008000\">'Бар, паб'</span>, <span style=\"color: #008000; text-decoration-color: #008000\">'Суши-бар'</span><span style=\"font-weight: bold\">]</span>\n",
       "Текст: Бомбически! Хотела поесть действительно вкусных роллов и не прогадала с выбором места. Приятный интерьер в \n",
       "стиле неонового Токио, техно/хаус музыка, которая не отвлекает от ужина, а только добавляет атмосферы. Посадка \n",
       "практически полная, но разговоры не мешали, шумно не было.  Брали роллы Мега Лосось, Радуга, Нигири с лососем и оши\n",
       "с гребешком. Очень вкусно и очень сытно. Рыба свежая, сочетания вкусов потрясающие. Муж брал коктейли и тоже \n",
       "остался доволен.  UPD <span style=\"color: #008080; text-decoration-color: #008080; font-weight: bold\">17</span> июня <span style=\"color: #008080; text-decoration-color: #008080; font-weight: bold\">2023</span>: Выбрала Tsunami, чтобы вдвоём с мужем отпраздновать мой день рождения. Как \n",
       "всегда безукаризненное обслуживание, наивкуснейшая еда, шикарная атмосфера. Пока люимое заведение японской кухни в \n",
       "Москве, куда действительно хочется возвращаться. \n",
       "\n",
       "=== Отзыв на Тануки ===\n",
       "Адрес: Москва, Новокосинская улица, <span style=\"color: #008080; text-decoration-color: #008080; font-weight: bold\">36</span>\n",
       "Рейтинг: <span style=\"color: #008080; text-decoration-color: #008080; font-weight: bold\">4.0</span>\n",
       "Категории: |<span style=\"color: #008000; text-decoration-color: #008000\">'Ресторан'</span>, <span style=\"color: #008000; text-decoration-color: #008000\">'Суши-бар'</span>, <span style=\"color: #008000; text-decoration-color: #008000\">'Доставка еды и обедов'</span><span style=\"font-weight: bold\">]</span>\n",
       "Текст: Всем привет! Идём в <span style=\"color: #008000; text-decoration-color: #008000\">\"Тануки\"</span><span style=\"font-weight: bold\">)</span>: роллы и суши да, вкусно, качественно, порции конечно уменьшились, но в целом \n",
       "приемлимо. С детьми там можно отдохнуть, есть детская комната, в сбб и вс работают аниматоры, шум и гам стоит \n",
       "знатный!<span style=\"font-weight: bold\">))</span>. Если идти туда  без детей  на любителя,  было бы другое приличное место, хоть маленький ресторанчик, в \n",
       "Новокосино, я бы выбрала другое, без детских воплей и криков. А так  добро пожаловать, выпейте побольше пива, или \n",
       "что покрепче и шум вам ни почём!<span style=\"font-weight: bold\">)</span>😂 Обслуживание, сервис  хорошие, но не сказать, что бы впечатляющие🤷‍♂️ Вобщем, в \n",
       "Новокосино у вас всего <span style=\"color: #008080; text-decoration-color: #008080; font-weight: bold\">2</span> варианта приличного кафе <span style=\"font-weight: bold\">(</span>на ресторан это не тянет, хоть как посмотри<span style=\"font-weight: bold\">)</span> либо японская кухня\n",
       "и это <span style=\"color: #008000; text-decoration-color: #008000\">\"Тануки\"</span>, либо узбекская и это <span style=\"color: #008000; text-decoration-color: #008000\">\"Чайхона\"</span>,  удивительно, что в столице России приходится делать такой выбор! \n",
       "Если отзыв прочитает какойлибо ресторатор, то  прямо обращаюсь: <span style=\"color: #008000; text-decoration-color: #008000\">\"Откройте пожалуйста в Новокосино   кафе, с  </span>\n",
       "<span style=\"color: #008000; text-decoration-color: #008000\">привычной нам всем русской кухней!\"</span> \n",
       "\n",
       "=== Отзыв на Izumi ===\n",
       "Адрес: Москва, Мясницкая улица, 38с1\n",
       "Рейтинг: <span style=\"color: #008080; text-decoration-color: #008080; font-weight: bold\">5.0</span>\n",
       "Категории: |<span style=\"color: #008000; text-decoration-color: #008000\">'Ресторан'</span>, <span style=\"color: #008000; text-decoration-color: #008000\">'Бар, паб'</span>, <span style=\"color: #008000; text-decoration-color: #008000\">'Караоке-клуб'</span><span style=\"font-weight: bold\">]</span>\n",
       "Текст: Прекрасное место с великолепным тихим антуражем. Был днём, с друзьями. Еда от японского шефа на любой вкус, \n",
       "и для тех кто не любит рыбу и морепродукты и для тех кто их обожает. Я лично ел Тонкацу Рамен, мне очень \n",
       "понравилось, в отличии от большинства мест в Москве где всëтаки готовится под ожидания русских, тут именно что \n",
       "необычный вкус явно не из того  тех что можно попробовать в други местах.   Именно тут я пожалуй понял что именно \n",
       "японцы имеют ввиду по умами вкусом, реально очень плотный и при этом совершенно нежирный бульон просто пропитан \n",
       "вкусом который в других кухнях встречается довольно редко даже при самом поедании мяса. Однозначно рекомендую, \n",
       "однако предупреждаю что напитки как алко так и без состоят изо льда на <span style=\"color: #008080; text-decoration-color: #008080; font-weight: bold\">80</span>%. \n",
       "\n",
       "=== Отзыв на Якитория ===\n",
       "Адрес: Москва, улица Маршала Полубоярова, <span style=\"color: #008080; text-decoration-color: #008080; font-weight: bold\">1</span>\n",
       "Рейтинг: <span style=\"color: #008080; text-decoration-color: #008080; font-weight: bold\">5.0</span>\n",
       "Категории: |<span style=\"color: #008000; text-decoration-color: #008000\">'Суши-бар'</span>, <span style=\"color: #008000; text-decoration-color: #008000\">'Ресторан'</span>, <span style=\"color: #008000; text-decoration-color: #008000\">'Доставка еды и обедов'</span><span style=\"font-weight: bold\">]</span>\n",
       "Текст: Очень хороший  ресторанчик японской кухни. Заказываю всегда отсюда если хочется роллов. Очень вкусные \n",
       "горячие роллы. Детям также будет интересно перекусить тут.\n",
       "</pre>\n"
      ],
      "text/plain": [
       "Observations: Найденные отзывы о местах:\n",
       "\n",
       "=== Отзыв на Izumi ===\n",
       "Адрес: Москва, Мясницкая улица, 38с1\n",
       "Рейтинг: \u001b[1;36m5.0\u001b[0m\n",
       "Категории: |\u001b[32m'Ресторан'\u001b[0m, \u001b[32m'Бар, паб'\u001b[0m, \u001b[32m'Караоке-клуб'\u001b[0m\u001b[1m]\u001b[0m\n",
       "Текст: Одно из самых любимых заведений японской кухни в Москве!  За адекватную цену вы получите действительно \n",
       "вкусное, похожее на настоящее, японское блюдо. Разнообразное меню и изобилие различных видов саке. Приятный \n",
       "интерьер. Отдельно хочется отметить удобную функцию вызова официанта с помощью кнопочки на столе :\u001b[1m)\u001b[0m \n",
       "\n",
       "=== Отзыв на Tsunami Sushi & Cocktails ===\n",
       "Адрес: Москва, Благовещенский переулок, 1А\n",
       "Рейтинг: \u001b[1;36m5.0\u001b[0m\n",
       "Категории: |\u001b[32m'Ресторан'\u001b[0m, \u001b[32m'Бар, паб'\u001b[0m, \u001b[32m'Суши-бар'\u001b[0m\u001b[1m]\u001b[0m\n",
       "Текст: Бомбически! Хотела поесть действительно вкусных роллов и не прогадала с выбором места. Приятный интерьер в \n",
       "стиле неонового Токио, техно/хаус музыка, которая не отвлекает от ужина, а только добавляет атмосферы. Посадка \n",
       "практически полная, но разговоры не мешали, шумно не было.  Брали роллы Мега Лосось, Радуга, Нигири с лососем и оши\n",
       "с гребешком. Очень вкусно и очень сытно. Рыба свежая, сочетания вкусов потрясающие. Муж брал коктейли и тоже \n",
       "остался доволен.  UPD \u001b[1;36m17\u001b[0m июня \u001b[1;36m2023\u001b[0m: Выбрала Tsunami, чтобы вдвоём с мужем отпраздновать мой день рождения. Как \n",
       "всегда безукаризненное обслуживание, наивкуснейшая еда, шикарная атмосфера. Пока люимое заведение японской кухни в \n",
       "Москве, куда действительно хочется возвращаться. \n",
       "\n",
       "=== Отзыв на Тануки ===\n",
       "Адрес: Москва, Новокосинская улица, \u001b[1;36m36\u001b[0m\n",
       "Рейтинг: \u001b[1;36m4.0\u001b[0m\n",
       "Категории: |\u001b[32m'Ресторан'\u001b[0m, \u001b[32m'Суши-бар'\u001b[0m, \u001b[32m'Доставка еды и обедов'\u001b[0m\u001b[1m]\u001b[0m\n",
       "Текст: Всем привет! Идём в \u001b[32m\"Тануки\"\u001b[0m\u001b[1m)\u001b[0m: роллы и суши да, вкусно, качественно, порции конечно уменьшились, но в целом \n",
       "приемлимо. С детьми там можно отдохнуть, есть детская комната, в сбб и вс работают аниматоры, шум и гам стоит \n",
       "знатный!\u001b[1m)\u001b[0m\u001b[1m)\u001b[0m. Если идти туда  без детей  на любителя,  было бы другое приличное место, хоть маленький ресторанчик, в \n",
       "Новокосино, я бы выбрала другое, без детских воплей и криков. А так  добро пожаловать, выпейте побольше пива, или \n",
       "что покрепче и шум вам ни почём!\u001b[1m)\u001b[0m😂 Обслуживание, сервис  хорошие, но не сказать, что бы впечатляющие🤷‍♂️ Вобщем, в \n",
       "Новокосино у вас всего \u001b[1;36m2\u001b[0m варианта приличного кафе \u001b[1m(\u001b[0mна ресторан это не тянет, хоть как посмотри\u001b[1m)\u001b[0m либо японская кухня\n",
       "и это \u001b[32m\"Тануки\"\u001b[0m, либо узбекская и это \u001b[32m\"Чайхона\"\u001b[0m,  удивительно, что в столице России приходится делать такой выбор! \n",
       "Если отзыв прочитает какойлибо ресторатор, то  прямо обращаюсь: \u001b[32m\"Откройте пожалуйста в Новокосино   кафе, с  \u001b[0m\n",
       "\u001b[32mпривычной нам всем русской кухней!\"\u001b[0m \n",
       "\n",
       "=== Отзыв на Izumi ===\n",
       "Адрес: Москва, Мясницкая улица, 38с1\n",
       "Рейтинг: \u001b[1;36m5.0\u001b[0m\n",
       "Категории: |\u001b[32m'Ресторан'\u001b[0m, \u001b[32m'Бар, паб'\u001b[0m, \u001b[32m'Караоке-клуб'\u001b[0m\u001b[1m]\u001b[0m\n",
       "Текст: Прекрасное место с великолепным тихим антуражем. Был днём, с друзьями. Еда от японского шефа на любой вкус, \n",
       "и для тех кто не любит рыбу и морепродукты и для тех кто их обожает. Я лично ел Тонкацу Рамен, мне очень \n",
       "понравилось, в отличии от большинства мест в Москве где всëтаки готовится под ожидания русских, тут именно что \n",
       "необычный вкус явно не из того  тех что можно попробовать в други местах.   Именно тут я пожалуй понял что именно \n",
       "японцы имеют ввиду по умами вкусом, реально очень плотный и при этом совершенно нежирный бульон просто пропитан \n",
       "вкусом который в других кухнях встречается довольно редко даже при самом поедании мяса. Однозначно рекомендую, \n",
       "однако предупреждаю что напитки как алко так и без состоят изо льда на \u001b[1;36m80\u001b[0m%. \n",
       "\n",
       "=== Отзыв на Якитория ===\n",
       "Адрес: Москва, улица Маршала Полубоярова, \u001b[1;36m1\u001b[0m\n",
       "Рейтинг: \u001b[1;36m5.0\u001b[0m\n",
       "Категории: |\u001b[32m'Суши-бар'\u001b[0m, \u001b[32m'Ресторан'\u001b[0m, \u001b[32m'Доставка еды и обедов'\u001b[0m\u001b[1m]\u001b[0m\n",
       "Текст: Очень хороший  ресторанчик японской кухни. Заказываю всегда отсюда если хочется роллов. Очень вкусные \n",
       "горячие роллы. Детям также будет интересно перекусить тут.\n"
      ]
     },
     "metadata": {},
     "output_type": "display_data"
    },
    {
     "data": {
      "text/html": [
       "<pre style=\"white-space:pre;overflow-x:auto;line-height:normal;font-family:Menlo,'DejaVu Sans Mono',consolas,'Courier New',monospace\"><span style=\"color: #7f7f7f; text-decoration-color: #7f7f7f\">[Step 1: Duration 18.64 seconds| Input tokens: 1,673 | Output tokens: 46]</span>\n",
       "</pre>\n"
      ],
      "text/plain": [
       "\u001b[2m[Step 1: Duration 18.64 seconds| Input tokens: 1,673 | Output tokens: 46]\u001b[0m\n"
      ]
     },
     "metadata": {},
     "output_type": "display_data"
    },
    {
     "data": {
      "text/html": [
       "<pre style=\"white-space:pre;overflow-x:auto;line-height:normal;font-family:Menlo,'DejaVu Sans Mono',consolas,'Courier New',monospace\"><span style=\"color: #d4b702; text-decoration-color: #d4b702\">━━━━━━━━━━━━━━━━━━━━━━━━━━━━━━━━━━━━━━━━━━━━━━━━━━━━━ </span><span style=\"font-weight: bold\">Step </span><span style=\"color: #008080; text-decoration-color: #008080; font-weight: bold\">2</span><span style=\"color: #d4b702; text-decoration-color: #d4b702\"> ━━━━━━━━━━━━━━━━━━━━━━━━━━━━━━━━━━━━━━━━━━━━━━━━━━━━━━</span>\n",
       "</pre>\n"
      ],
      "text/plain": [
       "\u001b[38;2;212;183;2m━━━━━━━━━━━━━━━━━━━━━━━━━━━━━━━━━━━━━━━━━━━━━━━━━━━━━ \u001b[0m\u001b[1mStep \u001b[0m\u001b[1;36m2\u001b[0m\u001b[38;2;212;183;2m ━━━━━━━━━━━━━━━━━━━━━━━━━━━━━━━━━━━━━━━━━━━━━━━━━━━━━━\u001b[0m\n"
      ]
     },
     "metadata": {},
     "output_type": "display_data"
    },
    {
     "data": {
      "text/html": [
       "<pre style=\"white-space:pre;overflow-x:auto;line-height:normal;font-family:Menlo,'DejaVu Sans Mono',consolas,'Courier New',monospace\"><span style=\"font-weight: bold; font-style: italic\">Output message of the LLM:</span> <span style=\"color: #d4b702; text-decoration-color: #d4b702\">────────────────────────────────────────────────────────────────────────────────────────</span>\n",
       "<span style=\"color: #e6edf3; text-decoration-color: #e6edf3; background-color: #0d1117\">{ \"name\": \"final_answer\", \"arguments\": {\"answer\": \"Из двух предложенных вариантов на основе отзывов можно </span><span style=\"background-color: #0d1117\">         </span>\n",
       "<span style=\"color: #e6edf3; text-decoration-color: #e6edf3; background-color: #0d1117\">рекомендовать:\\n\\n1️⃣ </span><span style=\"color: #e6edf3; text-decoration-color: #e6edf3; background-color: #0d1117; font-weight: bold\">**Izumi**</span><span style=\"color: #e6edf3; text-decoration-color: #e6edf3; background-color: #0d1117\"> (ул. Мясницкая, 38с1) — отмечен за отличное разнообразие блюд и адекватную цену, </span><span style=\"background-color: #0d1117\">    </span>\n",
       "<span style=\"color: #e6edf3; text-decoration-color: #e6edf3; background-color: #0d1117\">приятный интерьер и удобные функции вызова официанта.\\n- Рейтинг: 🌟🌟🌟🌟🌟\\n\\n2️⃣ </span><span style=\"color: #e6edf3; text-decoration-color: #e6edf3; background-color: #0d1117; font-weight: bold\">**Tsunami Sushi &amp; Cocktails**</span><span style=\"color: #e6edf3; text-decoration-color: #e6edf3; background-color: #0d1117\"> </span><span style=\"background-color: #0d1117\">   </span>\n",
       "<span style=\"color: #e6edf3; text-decoration-color: #e6edf3; background-color: #0d1117\">(Благовещенский переулок, 1А) — выделяется неоновой атмосферой Токио и отличными коктейлями, рекомендован </span><span style=\"background-color: #0d1117\">         </span>\n",
       "<span style=\"color: #e6edf3; text-decoration-color: #e6edf3; background-color: #0d1117\">посетителями как идеальное место для ужина.\\n- Рейтинг: 🌟🌟🌟🌟🌟\\n\\nОба места получили высокие оценки и подойдут </span>\n",
       "<span style=\"color: #e6edf3; text-decoration-color: #e6edf3; background-color: #0d1117\">для приятного вечера с друзьями.\"} }</span><span style=\"background-color: #0d1117\">                                                                               </span>\n",
       "</pre>\n"
      ],
      "text/plain": [
       "\u001b[1;3mOutput message of the LLM:\u001b[0m \u001b[38;2;212;183;2m────────────────────────────────────────────────────────────────────────────────────────\u001b[0m\n",
       "\u001b[38;2;230;237;243;48;2;13;17;23m{\u001b[0m\u001b[38;2;230;237;243;48;2;13;17;23m \u001b[0m\u001b[38;2;230;237;243;48;2;13;17;23m\"name\":\u001b[0m\u001b[38;2;230;237;243;48;2;13;17;23m \u001b[0m\u001b[38;2;230;237;243;48;2;13;17;23m\"final_answer\",\u001b[0m\u001b[38;2;230;237;243;48;2;13;17;23m \u001b[0m\u001b[38;2;230;237;243;48;2;13;17;23m\"arguments\":\u001b[0m\u001b[38;2;230;237;243;48;2;13;17;23m \u001b[0m\u001b[38;2;230;237;243;48;2;13;17;23m{\"answer\":\u001b[0m\u001b[38;2;230;237;243;48;2;13;17;23m \u001b[0m\u001b[38;2;230;237;243;48;2;13;17;23m\"Из\u001b[0m\u001b[38;2;230;237;243;48;2;13;17;23m \u001b[0m\u001b[38;2;230;237;243;48;2;13;17;23mдвух\u001b[0m\u001b[38;2;230;237;243;48;2;13;17;23m \u001b[0m\u001b[38;2;230;237;243;48;2;13;17;23mпредложенных\u001b[0m\u001b[38;2;230;237;243;48;2;13;17;23m \u001b[0m\u001b[38;2;230;237;243;48;2;13;17;23mвариантов\u001b[0m\u001b[38;2;230;237;243;48;2;13;17;23m \u001b[0m\u001b[38;2;230;237;243;48;2;13;17;23mна\u001b[0m\u001b[38;2;230;237;243;48;2;13;17;23m \u001b[0m\u001b[38;2;230;237;243;48;2;13;17;23mоснове\u001b[0m\u001b[38;2;230;237;243;48;2;13;17;23m \u001b[0m\u001b[38;2;230;237;243;48;2;13;17;23mотзывов\u001b[0m\u001b[38;2;230;237;243;48;2;13;17;23m \u001b[0m\u001b[38;2;230;237;243;48;2;13;17;23mможно\u001b[0m\u001b[38;2;230;237;243;48;2;13;17;23m \u001b[0m\u001b[48;2;13;17;23m         \u001b[0m\n",
       "\u001b[38;2;230;237;243;48;2;13;17;23mрекомендовать:\u001b[0m\u001b[38;2;230;237;243;48;2;13;17;23m\\n\u001b[0m\u001b[38;2;230;237;243;48;2;13;17;23m\\n\u001b[0m\u001b[38;2;230;237;243;48;2;13;17;23m1️⃣\u001b[0m\u001b[38;2;230;237;243;48;2;13;17;23m \u001b[0m\u001b[1;38;2;230;237;243;48;2;13;17;23m**Izumi**\u001b[0m\u001b[38;2;230;237;243;48;2;13;17;23m \u001b[0m\u001b[38;2;230;237;243;48;2;13;17;23m(ул.\u001b[0m\u001b[38;2;230;237;243;48;2;13;17;23m \u001b[0m\u001b[38;2;230;237;243;48;2;13;17;23mМясницкая,\u001b[0m\u001b[38;2;230;237;243;48;2;13;17;23m \u001b[0m\u001b[38;2;230;237;243;48;2;13;17;23m38с1)\u001b[0m\u001b[38;2;230;237;243;48;2;13;17;23m \u001b[0m\u001b[38;2;230;237;243;48;2;13;17;23m—\u001b[0m\u001b[38;2;230;237;243;48;2;13;17;23m \u001b[0m\u001b[38;2;230;237;243;48;2;13;17;23mотмечен\u001b[0m\u001b[38;2;230;237;243;48;2;13;17;23m \u001b[0m\u001b[38;2;230;237;243;48;2;13;17;23mза\u001b[0m\u001b[38;2;230;237;243;48;2;13;17;23m \u001b[0m\u001b[38;2;230;237;243;48;2;13;17;23mотличное\u001b[0m\u001b[38;2;230;237;243;48;2;13;17;23m \u001b[0m\u001b[38;2;230;237;243;48;2;13;17;23mразнообразие\u001b[0m\u001b[38;2;230;237;243;48;2;13;17;23m \u001b[0m\u001b[38;2;230;237;243;48;2;13;17;23mблюд\u001b[0m\u001b[38;2;230;237;243;48;2;13;17;23m \u001b[0m\u001b[38;2;230;237;243;48;2;13;17;23mи\u001b[0m\u001b[38;2;230;237;243;48;2;13;17;23m \u001b[0m\u001b[38;2;230;237;243;48;2;13;17;23mадекватную\u001b[0m\u001b[38;2;230;237;243;48;2;13;17;23m \u001b[0m\u001b[38;2;230;237;243;48;2;13;17;23mцену,\u001b[0m\u001b[38;2;230;237;243;48;2;13;17;23m \u001b[0m\u001b[48;2;13;17;23m    \u001b[0m\n",
       "\u001b[38;2;230;237;243;48;2;13;17;23mприятный\u001b[0m\u001b[38;2;230;237;243;48;2;13;17;23m \u001b[0m\u001b[38;2;230;237;243;48;2;13;17;23mинтерьер\u001b[0m\u001b[38;2;230;237;243;48;2;13;17;23m \u001b[0m\u001b[38;2;230;237;243;48;2;13;17;23mи\u001b[0m\u001b[38;2;230;237;243;48;2;13;17;23m \u001b[0m\u001b[38;2;230;237;243;48;2;13;17;23mудобные\u001b[0m\u001b[38;2;230;237;243;48;2;13;17;23m \u001b[0m\u001b[38;2;230;237;243;48;2;13;17;23mфункции\u001b[0m\u001b[38;2;230;237;243;48;2;13;17;23m \u001b[0m\u001b[38;2;230;237;243;48;2;13;17;23mвызова\u001b[0m\u001b[38;2;230;237;243;48;2;13;17;23m \u001b[0m\u001b[38;2;230;237;243;48;2;13;17;23mофицианта.\u001b[0m\u001b[38;2;230;237;243;48;2;13;17;23m\\n\u001b[0m\u001b[38;2;230;237;243;48;2;13;17;23m-\u001b[0m\u001b[38;2;230;237;243;48;2;13;17;23m \u001b[0m\u001b[38;2;230;237;243;48;2;13;17;23mРейтинг:\u001b[0m\u001b[38;2;230;237;243;48;2;13;17;23m \u001b[0m\u001b[38;2;230;237;243;48;2;13;17;23m🌟🌟🌟🌟🌟\u001b[0m\u001b[38;2;230;237;243;48;2;13;17;23m\\n\u001b[0m\u001b[38;2;230;237;243;48;2;13;17;23m\\n\u001b[0m\u001b[38;2;230;237;243;48;2;13;17;23m2️⃣\u001b[0m\u001b[38;2;230;237;243;48;2;13;17;23m \u001b[0m\u001b[1;38;2;230;237;243;48;2;13;17;23m**Tsunami Sushi & Cocktails**\u001b[0m\u001b[38;2;230;237;243;48;2;13;17;23m \u001b[0m\u001b[48;2;13;17;23m   \u001b[0m\n",
       "\u001b[38;2;230;237;243;48;2;13;17;23m(Благовещенский\u001b[0m\u001b[38;2;230;237;243;48;2;13;17;23m \u001b[0m\u001b[38;2;230;237;243;48;2;13;17;23mпереулок,\u001b[0m\u001b[38;2;230;237;243;48;2;13;17;23m \u001b[0m\u001b[38;2;230;237;243;48;2;13;17;23m1А)\u001b[0m\u001b[38;2;230;237;243;48;2;13;17;23m \u001b[0m\u001b[38;2;230;237;243;48;2;13;17;23m—\u001b[0m\u001b[38;2;230;237;243;48;2;13;17;23m \u001b[0m\u001b[38;2;230;237;243;48;2;13;17;23mвыделяется\u001b[0m\u001b[38;2;230;237;243;48;2;13;17;23m \u001b[0m\u001b[38;2;230;237;243;48;2;13;17;23mнеоновой\u001b[0m\u001b[38;2;230;237;243;48;2;13;17;23m \u001b[0m\u001b[38;2;230;237;243;48;2;13;17;23mатмосферой\u001b[0m\u001b[38;2;230;237;243;48;2;13;17;23m \u001b[0m\u001b[38;2;230;237;243;48;2;13;17;23mТокио\u001b[0m\u001b[38;2;230;237;243;48;2;13;17;23m \u001b[0m\u001b[38;2;230;237;243;48;2;13;17;23mи\u001b[0m\u001b[38;2;230;237;243;48;2;13;17;23m \u001b[0m\u001b[38;2;230;237;243;48;2;13;17;23mотличными\u001b[0m\u001b[38;2;230;237;243;48;2;13;17;23m \u001b[0m\u001b[38;2;230;237;243;48;2;13;17;23mкоктейлями,\u001b[0m\u001b[38;2;230;237;243;48;2;13;17;23m \u001b[0m\u001b[38;2;230;237;243;48;2;13;17;23mрекомендован\u001b[0m\u001b[38;2;230;237;243;48;2;13;17;23m \u001b[0m\u001b[48;2;13;17;23m         \u001b[0m\n",
       "\u001b[38;2;230;237;243;48;2;13;17;23mпосетителями\u001b[0m\u001b[38;2;230;237;243;48;2;13;17;23m \u001b[0m\u001b[38;2;230;237;243;48;2;13;17;23mкак\u001b[0m\u001b[38;2;230;237;243;48;2;13;17;23m \u001b[0m\u001b[38;2;230;237;243;48;2;13;17;23mидеальное\u001b[0m\u001b[38;2;230;237;243;48;2;13;17;23m \u001b[0m\u001b[38;2;230;237;243;48;2;13;17;23mместо\u001b[0m\u001b[38;2;230;237;243;48;2;13;17;23m \u001b[0m\u001b[38;2;230;237;243;48;2;13;17;23mдля\u001b[0m\u001b[38;2;230;237;243;48;2;13;17;23m \u001b[0m\u001b[38;2;230;237;243;48;2;13;17;23mужина.\u001b[0m\u001b[38;2;230;237;243;48;2;13;17;23m\\n\u001b[0m\u001b[38;2;230;237;243;48;2;13;17;23m-\u001b[0m\u001b[38;2;230;237;243;48;2;13;17;23m \u001b[0m\u001b[38;2;230;237;243;48;2;13;17;23mРейтинг:\u001b[0m\u001b[38;2;230;237;243;48;2;13;17;23m \u001b[0m\u001b[38;2;230;237;243;48;2;13;17;23m🌟🌟🌟🌟🌟\u001b[0m\u001b[38;2;230;237;243;48;2;13;17;23m\\n\u001b[0m\u001b[38;2;230;237;243;48;2;13;17;23m\\n\u001b[0m\u001b[38;2;230;237;243;48;2;13;17;23mОба\u001b[0m\u001b[38;2;230;237;243;48;2;13;17;23m \u001b[0m\u001b[38;2;230;237;243;48;2;13;17;23mместа\u001b[0m\u001b[38;2;230;237;243;48;2;13;17;23m \u001b[0m\u001b[38;2;230;237;243;48;2;13;17;23mполучили\u001b[0m\u001b[38;2;230;237;243;48;2;13;17;23m \u001b[0m\u001b[38;2;230;237;243;48;2;13;17;23mвысокие\u001b[0m\u001b[38;2;230;237;243;48;2;13;17;23m \u001b[0m\u001b[38;2;230;237;243;48;2;13;17;23mоценки\u001b[0m\u001b[38;2;230;237;243;48;2;13;17;23m \u001b[0m\u001b[38;2;230;237;243;48;2;13;17;23mи\u001b[0m\u001b[38;2;230;237;243;48;2;13;17;23m \u001b[0m\u001b[38;2;230;237;243;48;2;13;17;23mподойдут\u001b[0m\u001b[38;2;230;237;243;48;2;13;17;23m \u001b[0m\n",
       "\u001b[38;2;230;237;243;48;2;13;17;23mдля\u001b[0m\u001b[38;2;230;237;243;48;2;13;17;23m \u001b[0m\u001b[38;2;230;237;243;48;2;13;17;23mприятного\u001b[0m\u001b[38;2;230;237;243;48;2;13;17;23m \u001b[0m\u001b[38;2;230;237;243;48;2;13;17;23mвечера\u001b[0m\u001b[38;2;230;237;243;48;2;13;17;23m \u001b[0m\u001b[38;2;230;237;243;48;2;13;17;23mс\u001b[0m\u001b[38;2;230;237;243;48;2;13;17;23m \u001b[0m\u001b[38;2;230;237;243;48;2;13;17;23mдрузьями.\"}\u001b[0m\u001b[38;2;230;237;243;48;2;13;17;23m \u001b[0m\u001b[38;2;230;237;243;48;2;13;17;23m}\u001b[0m\u001b[48;2;13;17;23m                                                                               \u001b[0m\n"
      ]
     },
     "metadata": {},
     "output_type": "display_data"
    },
    {
     "data": {
      "text/html": [
       "<pre style=\"white-space:pre;overflow-x:auto;line-height:normal;font-family:Menlo,'DejaVu Sans Mono',consolas,'Courier New',monospace\">╭─────────────────────────────────────────────────────────────────────────────────────────────────────────────────╮\n",
       "│ Calling tool: 'final_answer' with arguments: {'answer': 'Из двух предложенных вариантов на основе отзывов можно │\n",
       "│ рекомендовать:\\n\\n1️⃣ **Izumi** (ул. Мясницкая, 38с1) — отмечен за отличное разнообразие блюд и адекватную цену,  │\n",
       "│ приятный интерьер и удобные функции вызова официанта.\\n- Рейтинг: 🌟🌟🌟🌟🌟\\n\\n2️⃣ **Tsunami Sushi &amp; Cocktails** │\n",
       "│ (Благовещенский переулок, 1А) — выделяется неоновой атмосферой Токио и отличными коктейлями, рекомендован       │\n",
       "│ посетителями как идеальное место для ужина.\\n- Рейтинг: 🌟🌟🌟🌟🌟\\n\\nОба места получили высокие оценки и       │\n",
       "│ подойдут для приятного вечера с друзьями.'}                                                                     │\n",
       "╰─────────────────────────────────────────────────────────────────────────────────────────────────────────────────╯\n",
       "</pre>\n"
      ],
      "text/plain": [
       "╭─────────────────────────────────────────────────────────────────────────────────────────────────────────────────╮\n",
       "│ Calling tool: 'final_answer' with arguments: {'answer': 'Из двух предложенных вариантов на основе отзывов можно │\n",
       "│ рекомендовать:\\n\\n1️⃣ **Izumi** (ул. Мясницкая, 38с1) — отмечен за отличное разнообразие блюд и адекватную цену,  │\n",
       "│ приятный интерьер и удобные функции вызова официанта.\\n- Рейтинг: 🌟🌟🌟🌟🌟\\n\\n2️⃣ **Tsunami Sushi & Cocktails** │\n",
       "│ (Благовещенский переулок, 1А) — выделяется неоновой атмосферой Токио и отличными коктейлями, рекомендован       │\n",
       "│ посетителями как идеальное место для ужина.\\n- Рейтинг: 🌟🌟🌟🌟🌟\\n\\nОба места получили высокие оценки и       │\n",
       "│ подойдут для приятного вечера с друзьями.'}                                                                     │\n",
       "╰─────────────────────────────────────────────────────────────────────────────────────────────────────────────────╯\n"
      ]
     },
     "metadata": {},
     "output_type": "display_data"
    },
    {
     "data": {
      "text/html": [
       "<pre style=\"white-space:pre;overflow-x:auto;line-height:normal;font-family:Menlo,'DejaVu Sans Mono',consolas,'Courier New',monospace\"><span style=\"color: #d4b702; text-decoration-color: #d4b702; font-weight: bold\">Final answer: Из двух предложенных вариантов на основе отзывов можно рекомендовать:</span>\n",
       "\n",
       "<span style=\"color: #d4b702; text-decoration-color: #d4b702; font-weight: bold\">1️⃣ **Izumi** (ул. Мясницкая, 38с1) — отмечен за отличное разнообразие блюд и адекватную цену, приятный интерьер и </span>\n",
       "<span style=\"color: #d4b702; text-decoration-color: #d4b702; font-weight: bold\">удобные функции вызова официанта.</span>\n",
       "<span style=\"color: #d4b702; text-decoration-color: #d4b702; font-weight: bold\">- Рейтинг: 🌟🌟🌟🌟🌟</span>\n",
       "\n",
       "<span style=\"color: #d4b702; text-decoration-color: #d4b702; font-weight: bold\">2️⃣ **Tsunami Sushi &amp; Cocktails** (Благовещенский переулок, 1А) — выделяется неоновой атмосферой Токио и отличными </span>\n",
       "<span style=\"color: #d4b702; text-decoration-color: #d4b702; font-weight: bold\">коктейлями, рекомендован посетителями как идеальное место для ужина.</span>\n",
       "<span style=\"color: #d4b702; text-decoration-color: #d4b702; font-weight: bold\">- Рейтинг: 🌟🌟🌟🌟🌟</span>\n",
       "\n",
       "<span style=\"color: #d4b702; text-decoration-color: #d4b702; font-weight: bold\">Оба места получили высокие оценки и подойдут для приятного вечера с друзьями.</span>\n",
       "</pre>\n"
      ],
      "text/plain": [
       "\u001b[1;38;2;212;183;2mFinal answer: Из двух предложенных вариантов на основе отзывов можно рекомендовать:\u001b[0m\n",
       "\n",
       "\u001b[1;38;2;212;183;2m1️⃣ **Izumi** (ул. Мясницкая, 38с1) — отмечен за отличное разнообразие блюд и адекватную цену, приятный интерьер и \u001b[0m\n",
       "\u001b[1;38;2;212;183;2mудобные функции вызова официанта.\u001b[0m\n",
       "\u001b[1;38;2;212;183;2m- Рейтинг: 🌟🌟🌟🌟🌟\u001b[0m\n",
       "\n",
       "\u001b[1;38;2;212;183;2m2️⃣ **Tsunami Sushi & Cocktails** (Благовещенский переулок, 1А) — выделяется неоновой атмосферой Токио и отличными \u001b[0m\n",
       "\u001b[1;38;2;212;183;2mкоктейлями, рекомендован посетителями как идеальное место для ужина.\u001b[0m\n",
       "\u001b[1;38;2;212;183;2m- Рейтинг: 🌟🌟🌟🌟🌟\u001b[0m\n",
       "\n",
       "\u001b[1;38;2;212;183;2mОба места получили высокие оценки и подойдут для приятного вечера с друзьями.\u001b[0m\n"
      ]
     },
     "metadata": {},
     "output_type": "display_data"
    },
    {
     "data": {
      "text/html": [
       "<pre style=\"white-space:pre;overflow-x:auto;line-height:normal;font-family:Menlo,'DejaVu Sans Mono',consolas,'Courier New',monospace\"><span style=\"color: #7f7f7f; text-decoration-color: #7f7f7f\">[Step 2: Duration 34.93 seconds| Input tokens: 4,804 | Output tokens: 290]</span>\n",
       "</pre>\n"
      ],
      "text/plain": [
       "\u001b[2m[Step 2: Duration 34.93 seconds| Input tokens: 4,804 | Output tokens: 290]\u001b[0m\n"
      ]
     },
     "metadata": {},
     "output_type": "display_data"
    }
   ],
   "source": [
    "resp = agent.run(\"Я бы хотел посетить японский ресторан. Можешь ли посоветовать хороший в Москве?\")"
   ]
  },
  {
   "cell_type": "code",
   "execution_count": 10,
   "id": "7f84a16c",
   "metadata": {},
   "outputs": [
    {
     "data": {
      "text/html": [
       "<pre style=\"white-space:pre;overflow-x:auto;line-height:normal;font-family:Menlo,'DejaVu Sans Mono',consolas,'Courier New',monospace\"><span style=\"color: #d4b702; text-decoration-color: #d4b702\">╭──────────────────────────────────────────────────── </span><span style=\"color: #d4b702; text-decoration-color: #d4b702; font-weight: bold\">New run</span><span style=\"color: #d4b702; text-decoration-color: #d4b702\"> ────────────────────────────────────────────────────╮</span>\n",
       "<span style=\"color: #d4b702; text-decoration-color: #d4b702\">│</span>                                                                                                                 <span style=\"color: #d4b702; text-decoration-color: #d4b702\">│</span>\n",
       "<span style=\"color: #d4b702; text-decoration-color: #d4b702\">│</span> <span style=\"font-weight: bold\">Подскажи мне ателье по ременту обуви?</span>                                                                           <span style=\"color: #d4b702; text-decoration-color: #d4b702\">│</span>\n",
       "<span style=\"color: #d4b702; text-decoration-color: #d4b702\">│</span>                                                                                                                 <span style=\"color: #d4b702; text-decoration-color: #d4b702\">│</span>\n",
       "<span style=\"color: #d4b702; text-decoration-color: #d4b702\">╰─ LiteLLMModel - ollama_chat/hf.co/IlyaGusev/saiga_nemo_12b_gguf:Q4_0 ───────────────────────────────────────────╯</span>\n",
       "</pre>\n"
      ],
      "text/plain": [
       "\u001b[38;2;212;183;2m╭─\u001b[0m\u001b[38;2;212;183;2m───────────────────────────────────────────────────\u001b[0m\u001b[38;2;212;183;2m \u001b[0m\u001b[1;38;2;212;183;2mNew run\u001b[0m\u001b[38;2;212;183;2m \u001b[0m\u001b[38;2;212;183;2m───────────────────────────────────────────────────\u001b[0m\u001b[38;2;212;183;2m─╮\u001b[0m\n",
       "\u001b[38;2;212;183;2m│\u001b[0m                                                                                                                 \u001b[38;2;212;183;2m│\u001b[0m\n",
       "\u001b[38;2;212;183;2m│\u001b[0m \u001b[1mПодскажи мне ателье по ременту обуви?\u001b[0m                                                                           \u001b[38;2;212;183;2m│\u001b[0m\n",
       "\u001b[38;2;212;183;2m│\u001b[0m                                                                                                                 \u001b[38;2;212;183;2m│\u001b[0m\n",
       "\u001b[38;2;212;183;2m╰─\u001b[0m\u001b[38;2;212;183;2m LiteLLMModel - ollama_chat/hf.co/IlyaGusev/saiga_nemo_12b_gguf:Q4_0 \u001b[0m\u001b[38;2;212;183;2m──────────────────────────────────────────\u001b[0m\u001b[38;2;212;183;2m─╯\u001b[0m\n"
      ]
     },
     "metadata": {},
     "output_type": "display_data"
    },
    {
     "data": {
      "text/html": [
       "<pre style=\"white-space:pre;overflow-x:auto;line-height:normal;font-family:Menlo,'DejaVu Sans Mono',consolas,'Courier New',monospace\"><span style=\"color: #d4b702; text-decoration-color: #d4b702\">━━━━━━━━━━━━━━━━━━━━━━━━━━━━━━━━━━━━━━━━━━━━━━━━━━━━━ </span><span style=\"font-weight: bold\">Step </span><span style=\"color: #008080; text-decoration-color: #008080; font-weight: bold\">1</span><span style=\"color: #d4b702; text-decoration-color: #d4b702\"> ━━━━━━━━━━━━━━━━━━━━━━━━━━━━━━━━━━━━━━━━━━━━━━━━━━━━━━</span>\n",
       "</pre>\n"
      ],
      "text/plain": [
       "\u001b[38;2;212;183;2m━━━━━━━━━━━━━━━━━━━━━━━━━━━━━━━━━━━━━━━━━━━━━━━━━━━━━ \u001b[0m\u001b[1mStep \u001b[0m\u001b[1;36m1\u001b[0m\u001b[38;2;212;183;2m ━━━━━━━━━━━━━━━━━━━━━━━━━━━━━━━━━━━━━━━━━━━━━━━━━━━━━━\u001b[0m\n"
      ]
     },
     "metadata": {},
     "output_type": "display_data"
    },
    {
     "data": {
      "text/html": [
       "<pre style=\"white-space:pre;overflow-x:auto;line-height:normal;font-family:Menlo,'DejaVu Sans Mono',consolas,'Courier New',monospace\"><span style=\"font-weight: bold; font-style: italic\">Output message of the LLM:</span> <span style=\"color: #d4b702; text-decoration-color: #d4b702\">────────────────────────────────────────────────────────────────────────────────────────</span>\n",
       "<span style=\"color: #e6edf3; text-decoration-color: #e6edf3; background-color: #0d1117\">{\"name\": \"travel_review_query\", \"arguments\": {\"query\": \"ателье по ремонту обуви\", \"rubrics\": null, \"min_rating\": </span><span style=\"background-color: #0d1117\">  </span>\n",
       "<span style=\"color: #e6edf3; text-decoration-color: #e6edf3; background-color: #0d1117\">4}}</span><span style=\"background-color: #0d1117\">                                                                                                                </span>\n",
       "</pre>\n"
      ],
      "text/plain": [
       "\u001b[1;3mOutput message of the LLM:\u001b[0m \u001b[38;2;212;183;2m────────────────────────────────────────────────────────────────────────────────────────\u001b[0m\n",
       "\u001b[38;2;230;237;243;48;2;13;17;23m{\"name\":\u001b[0m\u001b[38;2;230;237;243;48;2;13;17;23m \u001b[0m\u001b[38;2;230;237;243;48;2;13;17;23m\"travel_review_query\",\u001b[0m\u001b[38;2;230;237;243;48;2;13;17;23m \u001b[0m\u001b[38;2;230;237;243;48;2;13;17;23m\"arguments\":\u001b[0m\u001b[38;2;230;237;243;48;2;13;17;23m \u001b[0m\u001b[38;2;230;237;243;48;2;13;17;23m{\"query\":\u001b[0m\u001b[38;2;230;237;243;48;2;13;17;23m \u001b[0m\u001b[38;2;230;237;243;48;2;13;17;23m\"ателье\u001b[0m\u001b[38;2;230;237;243;48;2;13;17;23m \u001b[0m\u001b[38;2;230;237;243;48;2;13;17;23mпо\u001b[0m\u001b[38;2;230;237;243;48;2;13;17;23m \u001b[0m\u001b[38;2;230;237;243;48;2;13;17;23mремонту\u001b[0m\u001b[38;2;230;237;243;48;2;13;17;23m \u001b[0m\u001b[38;2;230;237;243;48;2;13;17;23mобуви\",\u001b[0m\u001b[38;2;230;237;243;48;2;13;17;23m \u001b[0m\u001b[38;2;230;237;243;48;2;13;17;23m\"rubrics\":\u001b[0m\u001b[38;2;230;237;243;48;2;13;17;23m \u001b[0m\u001b[38;2;230;237;243;48;2;13;17;23mnull,\u001b[0m\u001b[38;2;230;237;243;48;2;13;17;23m \u001b[0m\u001b[38;2;230;237;243;48;2;13;17;23m\"min_rating\":\u001b[0m\u001b[38;2;230;237;243;48;2;13;17;23m \u001b[0m\u001b[48;2;13;17;23m  \u001b[0m\n",
       "\u001b[38;2;230;237;243;48;2;13;17;23m4}}\u001b[0m\u001b[48;2;13;17;23m                                                                                                                \u001b[0m\n"
      ]
     },
     "metadata": {},
     "output_type": "display_data"
    },
    {
     "data": {
      "text/html": [
       "<pre style=\"white-space:pre;overflow-x:auto;line-height:normal;font-family:Menlo,'DejaVu Sans Mono',consolas,'Courier New',monospace\">╭─────────────────────────────────────────────────────────────────────────────────────────────────────────────────╮\n",
       "│ Calling tool: 'travel_review_query' with arguments: {'query': 'ателье по ремонту обуви', 'rubrics': None,       │\n",
       "│ 'min_rating': 4}                                                                                                │\n",
       "╰─────────────────────────────────────────────────────────────────────────────────────────────────────────────────╯\n",
       "</pre>\n"
      ],
      "text/plain": [
       "╭─────────────────────────────────────────────────────────────────────────────────────────────────────────────────╮\n",
       "│ Calling tool: 'travel_review_query' with arguments: {'query': 'ателье по ремонту обуви', 'rubrics': None,       │\n",
       "│ 'min_rating': 4}                                                                                                │\n",
       "╰─────────────────────────────────────────────────────────────────────────────────────────────────────────────────╯\n"
      ]
     },
     "metadata": {},
     "output_type": "display_data"
    },
    {
     "name": "stderr",
     "output_type": "stream",
     "text": [
      "\u001b[32m2025-04-20 13:05:42.351\u001b[0m | \u001b[34m\u001b[1mDEBUG   \u001b[0m | \u001b[36mtravel_agent.retrieval.smolagents.tool\u001b[0m:\u001b[36mforward\u001b[0m:\u001b[36m107\u001b[0m - \u001b[34m\u001b[1mfilters: [FieldCondition(key='rating', match=None, range=Range(lt=None, gt=None, gte=4.0, lte=None), geo_bounding_box=None, geo_radius=None, geo_polygon=None, values_count=None)]\u001b[0m\n"
     ]
    },
    {
     "data": {
      "text/html": [
       "<pre style=\"white-space:pre;overflow-x:auto;line-height:normal;font-family:Menlo,'DejaVu Sans Mono',consolas,'Courier New',monospace\">Observations: Найденные отзывы о местах:\n",
       "\n",
       "=== Отзыв на Люкс мастер ===\n",
       "Адрес: Москва, Кожевническая улица, <span style=\"color: #008080; text-decoration-color: #008080; font-weight: bold\">10</span>, стр. <span style=\"color: #008080; text-decoration-color: #008080; font-weight: bold\">1</span>\n",
       "Рейтинг: <span style=\"color: #008080; text-decoration-color: #008080; font-weight: bold\">5.0</span>\n",
       "Категории: |<span style=\"color: #008000; text-decoration-color: #008000\">'Ремонт обуви'</span>, <span style=\"color: #008000; text-decoration-color: #008000\">'Металлоремонт'</span>, <span style=\"color: #008000; text-decoration-color: #008000\">'Ремонт одежды'</span><span style=\"font-weight: bold\">]</span>\n",
       "Текст: Пользуюсь услугами ремонта обуви  и ателье уже почти год. Всем довольна. Качество работы отличное. Цены \n",
       "приемлемые. Если нужно быстро  сделают. А самое главное ребята приятные в общении и учитывают все пожелания. \n",
       "Рекомендую!<span style=\"font-weight: bold\">)</span> \n",
       "\n",
       "=== Отзыв на Дом Быта ===\n",
       "Адрес: Москва, Зарайская улица, <span style=\"color: #008080; text-decoration-color: #008080; font-weight: bold\">53</span>\n",
       "Рейтинг: <span style=\"color: #008080; text-decoration-color: #008080; font-weight: bold\">5.0</span>\n",
       "Категории: |<span style=\"color: #008000; text-decoration-color: #008000\">'Ремонт одежды'</span>, <span style=\"color: #008000; text-decoration-color: #008000\">'Ремонт обуви'</span>, <span style=\"color: #008000; text-decoration-color: #008000\">'Изготовление и ремонт ключей'</span><span style=\"font-weight: bold\">]</span>\n",
       "Текст: Отличное Ателье! Пожалуй , самое лучшее соотношение качества и цены в нашем районе!!! Исполняют все заказы в\n",
       "срок и качественно. Персонал очень вежливый. Ремонтировала пальто и брюки. Все понравилось!  Рекомендую 🏆🥇👍🏻 \n",
       "\n",
       "=== Отзыв на Ателье ===\n",
       "Адрес: Москва, проезд Дежнёва, <span style=\"color: #008080; text-decoration-color: #008080; font-weight: bold\">21</span>\n",
       "Рейтинг: <span style=\"color: #008080; text-decoration-color: #008080; font-weight: bold\">5.0</span>\n",
       "Категории: |<span style=\"color: #008000; text-decoration-color: #008000\">'Ремонт одежды'</span>, <span style=\"color: #008000; text-decoration-color: #008000\">'Ремонт обуви'</span>, <span style=\"color: #008000; text-decoration-color: #008000\">'Ателье по пошиву одежды'</span><span style=\"font-weight: bold\">]</span>\n",
       "Текст: Постоянно пользуюсь услугами данного ателье! Все на высшем уровне.От ремонта обуви до ремонта кожаных и \n",
       "меховых изделий. Спасибо вам за ваш труд \n",
       "\n",
       "=== Отзыв на Дом быта ===\n",
       "Адрес: Москва, улица Лестева, <span style=\"color: #008080; text-decoration-color: #008080; font-weight: bold\">11</span>\n",
       "Рейтинг: <span style=\"color: #008080; text-decoration-color: #008080; font-weight: bold\">5.0</span>\n",
       "Категории: |<span style=\"color: #008000; text-decoration-color: #008000\">'Бытовые услуги'</span>, <span style=\"color: #008000; text-decoration-color: #008000\">'Металлоремонт'</span>, <span style=\"color: #008000; text-decoration-color: #008000\">'Химчистка'</span>, <span style=\"color: #008000; text-decoration-color: #008000\">'Ателье по пошиву одежды'</span><span style=\"font-weight: bold\">]</span>\n",
       "Текст: Есть ремонт обуви,  ателье,  изготовление ключей,ремонт ювелирных изделий.  Также в этом месте пвз ozon , \n",
       "салон красоты и фото на документы. Все доброжетельны.  В ателье,  на  мой взгляд,  цены высоковаты, но делают \n",
       "хорошо молнии и подшивают брюки.  \n",
       "\n",
       "=== Отзыв на Косино Парк ===\n",
       "Адрес: Москва, Святоозёрская улица, 1А\n",
       "Рейтинг: <span style=\"color: #008080; text-decoration-color: #008080; font-weight: bold\">5.0</span>\n",
       "Категории: |<span style=\"color: #008000; text-decoration-color: #008000\">'Торговый центр'</span>, <span style=\"color: #008000; text-decoration-color: #008000\">'Развлекательный центр'</span><span style=\"font-weight: bold\">]</span>\n",
       "Текст: Дом быта. Ремонт обуви делают очень быстро и качественно. Мастер раньше работал на Рязанском проспекте. \n",
       "Теперь в этом ТЦ. Зовут Гена. Очень вежливый и работу свою знает. Поэтому езжу к нему. Вся обувь идеальна после его\n",
       "ремонта.  Рекомендую.\n",
       "</pre>\n"
      ],
      "text/plain": [
       "Observations: Найденные отзывы о местах:\n",
       "\n",
       "=== Отзыв на Люкс мастер ===\n",
       "Адрес: Москва, Кожевническая улица, \u001b[1;36m10\u001b[0m, стр. \u001b[1;36m1\u001b[0m\n",
       "Рейтинг: \u001b[1;36m5.0\u001b[0m\n",
       "Категории: |\u001b[32m'Ремонт обуви'\u001b[0m, \u001b[32m'Металлоремонт'\u001b[0m, \u001b[32m'Ремонт одежды'\u001b[0m\u001b[1m]\u001b[0m\n",
       "Текст: Пользуюсь услугами ремонта обуви  и ателье уже почти год. Всем довольна. Качество работы отличное. Цены \n",
       "приемлемые. Если нужно быстро  сделают. А самое главное ребята приятные в общении и учитывают все пожелания. \n",
       "Рекомендую!\u001b[1m)\u001b[0m \n",
       "\n",
       "=== Отзыв на Дом Быта ===\n",
       "Адрес: Москва, Зарайская улица, \u001b[1;36m53\u001b[0m\n",
       "Рейтинг: \u001b[1;36m5.0\u001b[0m\n",
       "Категории: |\u001b[32m'Ремонт одежды'\u001b[0m, \u001b[32m'Ремонт обуви'\u001b[0m, \u001b[32m'Изготовление и ремонт ключей'\u001b[0m\u001b[1m]\u001b[0m\n",
       "Текст: Отличное Ателье! Пожалуй , самое лучшее соотношение качества и цены в нашем районе!!! Исполняют все заказы в\n",
       "срок и качественно. Персонал очень вежливый. Ремонтировала пальто и брюки. Все понравилось!  Рекомендую 🏆🥇👍🏻 \n",
       "\n",
       "=== Отзыв на Ателье ===\n",
       "Адрес: Москва, проезд Дежнёва, \u001b[1;36m21\u001b[0m\n",
       "Рейтинг: \u001b[1;36m5.0\u001b[0m\n",
       "Категории: |\u001b[32m'Ремонт одежды'\u001b[0m, \u001b[32m'Ремонт обуви'\u001b[0m, \u001b[32m'Ателье по пошиву одежды'\u001b[0m\u001b[1m]\u001b[0m\n",
       "Текст: Постоянно пользуюсь услугами данного ателье! Все на высшем уровне.От ремонта обуви до ремонта кожаных и \n",
       "меховых изделий. Спасибо вам за ваш труд \n",
       "\n",
       "=== Отзыв на Дом быта ===\n",
       "Адрес: Москва, улица Лестева, \u001b[1;36m11\u001b[0m\n",
       "Рейтинг: \u001b[1;36m5.0\u001b[0m\n",
       "Категории: |\u001b[32m'Бытовые услуги'\u001b[0m, \u001b[32m'Металлоремонт'\u001b[0m, \u001b[32m'Химчистка'\u001b[0m, \u001b[32m'Ателье по пошиву одежды'\u001b[0m\u001b[1m]\u001b[0m\n",
       "Текст: Есть ремонт обуви,  ателье,  изготовление ключей,ремонт ювелирных изделий.  Также в этом месте пвз ozon , \n",
       "салон красоты и фото на документы. Все доброжетельны.  В ателье,  на  мой взгляд,  цены высоковаты, но делают \n",
       "хорошо молнии и подшивают брюки.  \n",
       "\n",
       "=== Отзыв на Косино Парк ===\n",
       "Адрес: Москва, Святоозёрская улица, 1А\n",
       "Рейтинг: \u001b[1;36m5.0\u001b[0m\n",
       "Категории: |\u001b[32m'Торговый центр'\u001b[0m, \u001b[32m'Развлекательный центр'\u001b[0m\u001b[1m]\u001b[0m\n",
       "Текст: Дом быта. Ремонт обуви делают очень быстро и качественно. Мастер раньше работал на Рязанском проспекте. \n",
       "Теперь в этом ТЦ. Зовут Гена. Очень вежливый и работу свою знает. Поэтому езжу к нему. Вся обувь идеальна после его\n",
       "ремонта.  Рекомендую.\n"
      ]
     },
     "metadata": {},
     "output_type": "display_data"
    },
    {
     "data": {
      "text/html": [
       "<pre style=\"white-space:pre;overflow-x:auto;line-height:normal;font-family:Menlo,'DejaVu Sans Mono',consolas,'Courier New',monospace\"><span style=\"color: #7f7f7f; text-decoration-color: #7f7f7f\">[Step 1: Duration 5.46 seconds| Input tokens: 1,663 | Output tokens: 40]</span>\n",
       "</pre>\n"
      ],
      "text/plain": [
       "\u001b[2m[Step 1: Duration 5.46 seconds| Input tokens: 1,663 | Output tokens: 40]\u001b[0m\n"
      ]
     },
     "metadata": {},
     "output_type": "display_data"
    },
    {
     "data": {
      "text/html": [
       "<pre style=\"white-space:pre;overflow-x:auto;line-height:normal;font-family:Menlo,'DejaVu Sans Mono',consolas,'Courier New',monospace\"><span style=\"color: #d4b702; text-decoration-color: #d4b702\">━━━━━━━━━━━━━━━━━━━━━━━━━━━━━━━━━━━━━━━━━━━━━━━━━━━━━ </span><span style=\"font-weight: bold\">Step </span><span style=\"color: #008080; text-decoration-color: #008080; font-weight: bold\">2</span><span style=\"color: #d4b702; text-decoration-color: #d4b702\"> ━━━━━━━━━━━━━━━━━━━━━━━━━━━━━━━━━━━━━━━━━━━━━━━━━━━━━━</span>\n",
       "</pre>\n"
      ],
      "text/plain": [
       "\u001b[38;2;212;183;2m━━━━━━━━━━━━━━━━━━━━━━━━━━━━━━━━━━━━━━━━━━━━━━━━━━━━━ \u001b[0m\u001b[1mStep \u001b[0m\u001b[1;36m2\u001b[0m\u001b[38;2;212;183;2m ━━━━━━━━━━━━━━━━━━━━━━━━━━━━━━━━━━━━━━━━━━━━━━━━━━━━━━\u001b[0m\n"
      ]
     },
     "metadata": {},
     "output_type": "display_data"
    },
    {
     "data": {
      "text/html": [
       "<pre style=\"white-space:pre;overflow-x:auto;line-height:normal;font-family:Menlo,'DejaVu Sans Mono',consolas,'Courier New',monospace\"><span style=\"font-weight: bold; font-style: italic\">Output message of the LLM:</span> <span style=\"color: #d4b702; text-decoration-color: #d4b702\">────────────────────────────────────────────────────────────────────────────────────────</span>\n",
       "<span style=\"color: #e6edf3; text-decoration-color: #e6edf3; background-color: #0d1117\">{</span><span style=\"background-color: #0d1117\">                                                                                                                  </span>\n",
       "<span style=\"color: #e6edf3; text-decoration-color: #e6edf3; background-color: #0d1117\">\"name\": \"final_answer\",</span><span style=\"background-color: #0d1117\">                                                                                            </span>\n",
       "<span style=\"color: #e6edf3; text-decoration-color: #e6edf3; background-color: #0d1117\">\"arguments\": {</span><span style=\"background-color: #0d1117\">                                                                                                     </span>\n",
       "<span style=\"color: #e6edf3; text-decoration-color: #e6edf3; background-color: #0d1117\">    \"answer\": \"Наиболее рекомендованные места по отзывам с рейтингом 5.0 и специализацией на ремонте обуви:\\n\\n1. </span><span style=\"background-color: #0d1117\"> </span>\n",
       "<span style=\"color: #e6edf3; text-decoration-color: #e6edf3; background-color: #0d1117\">Люкс мастер - Москва, Кожевническая улица, 10, стр. 1\\n   Рейтинг: 5.0\\n   Отзыв: «Пользуюсь услугами ремонта обуви</span>\n",
       "<span style=\"color: #e6edf3; text-decoration-color: #e6edf3; background-color: #0d1117\">и ателье уже почти год. Всем довольна...»\\n\\n2. Дом Быта - Москва, Зарайская улица, 53\\n   Рейтинг: 5.0\\n   Отзыв: </span>\n",
       "<span style=\"color: #e6edf3; text-decoration-color: #e6edf3; background-color: #0d1117\">«Отличное Ателье! Пожалуй, самое лучшее соотношение качества и цены в нашем районе...»\\n\\n3. Косино Парк (Дом быта)</span>\n",
       "<span style=\"color: #e6edf3; text-decoration-color: #e6edf3; background-color: #0d1117\">- Москва, Святоозёрская улица, 1А\\n   Рейтинг: 5.0\\n   Отзыв: «Ремонт обуви делают очень быстро и качественно. </span><span style=\"background-color: #0d1117\">    </span>\n",
       "<span style=\"color: #e6edf3; text-decoration-color: #e6edf3; background-color: #0d1117\">Мастер раньше работал на Рязанском проспекте...»\\n\\nВыбирайте любое из этих ателье в зависимости от вашего района </span><span style=\"background-color: #0d1117\"> </span>\n",
       "<span style=\"color: #e6edf3; text-decoration-color: #e6edf3; background-color: #0d1117\">проживания.\"</span><span style=\"background-color: #0d1117\">                                                                                                       </span>\n",
       "<span style=\"color: #e6edf3; text-decoration-color: #e6edf3; background-color: #0d1117\">}</span><span style=\"background-color: #0d1117\">                                                                                                                  </span>\n",
       "<span style=\"color: #e6edf3; text-decoration-color: #e6edf3; background-color: #0d1117\">}</span><span style=\"background-color: #0d1117\">                                                                                                                  </span>\n",
       "</pre>\n"
      ],
      "text/plain": [
       "\u001b[1;3mOutput message of the LLM:\u001b[0m \u001b[38;2;212;183;2m────────────────────────────────────────────────────────────────────────────────────────\u001b[0m\n",
       "\u001b[38;2;230;237;243;48;2;13;17;23m{\u001b[0m\u001b[48;2;13;17;23m                                                                                                                  \u001b[0m\n",
       "\u001b[38;2;230;237;243;48;2;13;17;23m\"name\":\u001b[0m\u001b[38;2;230;237;243;48;2;13;17;23m \u001b[0m\u001b[38;2;230;237;243;48;2;13;17;23m\"final_answer\",\u001b[0m\u001b[48;2;13;17;23m                                                                                            \u001b[0m\n",
       "\u001b[38;2;230;237;243;48;2;13;17;23m\"arguments\":\u001b[0m\u001b[38;2;230;237;243;48;2;13;17;23m \u001b[0m\u001b[38;2;230;237;243;48;2;13;17;23m{\u001b[0m\u001b[48;2;13;17;23m                                                                                                     \u001b[0m\n",
       "\u001b[38;2;230;237;243;48;2;13;17;23m \u001b[0m\u001b[38;2;230;237;243;48;2;13;17;23m \u001b[0m\u001b[38;2;230;237;243;48;2;13;17;23m \u001b[0m\u001b[38;2;230;237;243;48;2;13;17;23m \u001b[0m\u001b[38;2;230;237;243;48;2;13;17;23m\"answer\":\u001b[0m\u001b[38;2;230;237;243;48;2;13;17;23m \u001b[0m\u001b[38;2;230;237;243;48;2;13;17;23m\"Наиболее\u001b[0m\u001b[38;2;230;237;243;48;2;13;17;23m \u001b[0m\u001b[38;2;230;237;243;48;2;13;17;23mрекомендованные\u001b[0m\u001b[38;2;230;237;243;48;2;13;17;23m \u001b[0m\u001b[38;2;230;237;243;48;2;13;17;23mместа\u001b[0m\u001b[38;2;230;237;243;48;2;13;17;23m \u001b[0m\u001b[38;2;230;237;243;48;2;13;17;23mпо\u001b[0m\u001b[38;2;230;237;243;48;2;13;17;23m \u001b[0m\u001b[38;2;230;237;243;48;2;13;17;23mотзывам\u001b[0m\u001b[38;2;230;237;243;48;2;13;17;23m \u001b[0m\u001b[38;2;230;237;243;48;2;13;17;23mс\u001b[0m\u001b[38;2;230;237;243;48;2;13;17;23m \u001b[0m\u001b[38;2;230;237;243;48;2;13;17;23mрейтингом\u001b[0m\u001b[38;2;230;237;243;48;2;13;17;23m \u001b[0m\u001b[38;2;230;237;243;48;2;13;17;23m5.0\u001b[0m\u001b[38;2;230;237;243;48;2;13;17;23m \u001b[0m\u001b[38;2;230;237;243;48;2;13;17;23mи\u001b[0m\u001b[38;2;230;237;243;48;2;13;17;23m \u001b[0m\u001b[38;2;230;237;243;48;2;13;17;23mспециализацией\u001b[0m\u001b[38;2;230;237;243;48;2;13;17;23m \u001b[0m\u001b[38;2;230;237;243;48;2;13;17;23mна\u001b[0m\u001b[38;2;230;237;243;48;2;13;17;23m \u001b[0m\u001b[38;2;230;237;243;48;2;13;17;23mремонте\u001b[0m\u001b[38;2;230;237;243;48;2;13;17;23m \u001b[0m\u001b[38;2;230;237;243;48;2;13;17;23mобуви:\u001b[0m\u001b[38;2;230;237;243;48;2;13;17;23m\\n\u001b[0m\u001b[38;2;230;237;243;48;2;13;17;23m\\n\u001b[0m\u001b[38;2;230;237;243;48;2;13;17;23m1.\u001b[0m\u001b[38;2;230;237;243;48;2;13;17;23m \u001b[0m\u001b[48;2;13;17;23m \u001b[0m\n",
       "\u001b[38;2;230;237;243;48;2;13;17;23mЛюкс\u001b[0m\u001b[38;2;230;237;243;48;2;13;17;23m \u001b[0m\u001b[38;2;230;237;243;48;2;13;17;23mмастер\u001b[0m\u001b[38;2;230;237;243;48;2;13;17;23m \u001b[0m\u001b[38;2;230;237;243;48;2;13;17;23m-\u001b[0m\u001b[38;2;230;237;243;48;2;13;17;23m \u001b[0m\u001b[38;2;230;237;243;48;2;13;17;23mМосква,\u001b[0m\u001b[38;2;230;237;243;48;2;13;17;23m \u001b[0m\u001b[38;2;230;237;243;48;2;13;17;23mКожевническая\u001b[0m\u001b[38;2;230;237;243;48;2;13;17;23m \u001b[0m\u001b[38;2;230;237;243;48;2;13;17;23mулица,\u001b[0m\u001b[38;2;230;237;243;48;2;13;17;23m \u001b[0m\u001b[38;2;230;237;243;48;2;13;17;23m10,\u001b[0m\u001b[38;2;230;237;243;48;2;13;17;23m \u001b[0m\u001b[38;2;230;237;243;48;2;13;17;23mстр.\u001b[0m\u001b[38;2;230;237;243;48;2;13;17;23m \u001b[0m\u001b[38;2;230;237;243;48;2;13;17;23m1\u001b[0m\u001b[38;2;230;237;243;48;2;13;17;23m\\n\u001b[0m\u001b[38;2;230;237;243;48;2;13;17;23m \u001b[0m\u001b[38;2;230;237;243;48;2;13;17;23m \u001b[0m\u001b[38;2;230;237;243;48;2;13;17;23m \u001b[0m\u001b[38;2;230;237;243;48;2;13;17;23mРейтинг:\u001b[0m\u001b[38;2;230;237;243;48;2;13;17;23m \u001b[0m\u001b[38;2;230;237;243;48;2;13;17;23m5.0\u001b[0m\u001b[38;2;230;237;243;48;2;13;17;23m\\n\u001b[0m\u001b[38;2;230;237;243;48;2;13;17;23m \u001b[0m\u001b[38;2;230;237;243;48;2;13;17;23m \u001b[0m\u001b[38;2;230;237;243;48;2;13;17;23m \u001b[0m\u001b[38;2;230;237;243;48;2;13;17;23mОтзыв:\u001b[0m\u001b[38;2;230;237;243;48;2;13;17;23m \u001b[0m\u001b[38;2;230;237;243;48;2;13;17;23m«Пользуюсь\u001b[0m\u001b[38;2;230;237;243;48;2;13;17;23m \u001b[0m\u001b[38;2;230;237;243;48;2;13;17;23mуслугами\u001b[0m\u001b[38;2;230;237;243;48;2;13;17;23m \u001b[0m\u001b[38;2;230;237;243;48;2;13;17;23mремонта\u001b[0m\u001b[38;2;230;237;243;48;2;13;17;23m \u001b[0m\u001b[38;2;230;237;243;48;2;13;17;23mобуви\u001b[0m\n",
       "\u001b[38;2;230;237;243;48;2;13;17;23mи\u001b[0m\u001b[38;2;230;237;243;48;2;13;17;23m \u001b[0m\u001b[38;2;230;237;243;48;2;13;17;23mателье\u001b[0m\u001b[38;2;230;237;243;48;2;13;17;23m \u001b[0m\u001b[38;2;230;237;243;48;2;13;17;23mуже\u001b[0m\u001b[38;2;230;237;243;48;2;13;17;23m \u001b[0m\u001b[38;2;230;237;243;48;2;13;17;23mпочти\u001b[0m\u001b[38;2;230;237;243;48;2;13;17;23m \u001b[0m\u001b[38;2;230;237;243;48;2;13;17;23mгод.\u001b[0m\u001b[38;2;230;237;243;48;2;13;17;23m \u001b[0m\u001b[38;2;230;237;243;48;2;13;17;23mВсем\u001b[0m\u001b[38;2;230;237;243;48;2;13;17;23m \u001b[0m\u001b[38;2;230;237;243;48;2;13;17;23mдовольна...»\u001b[0m\u001b[38;2;230;237;243;48;2;13;17;23m\\n\u001b[0m\u001b[38;2;230;237;243;48;2;13;17;23m\\n\u001b[0m\u001b[38;2;230;237;243;48;2;13;17;23m2.\u001b[0m\u001b[38;2;230;237;243;48;2;13;17;23m \u001b[0m\u001b[38;2;230;237;243;48;2;13;17;23mДом\u001b[0m\u001b[38;2;230;237;243;48;2;13;17;23m \u001b[0m\u001b[38;2;230;237;243;48;2;13;17;23mБыта\u001b[0m\u001b[38;2;230;237;243;48;2;13;17;23m \u001b[0m\u001b[38;2;230;237;243;48;2;13;17;23m-\u001b[0m\u001b[38;2;230;237;243;48;2;13;17;23m \u001b[0m\u001b[38;2;230;237;243;48;2;13;17;23mМосква,\u001b[0m\u001b[38;2;230;237;243;48;2;13;17;23m \u001b[0m\u001b[38;2;230;237;243;48;2;13;17;23mЗарайская\u001b[0m\u001b[38;2;230;237;243;48;2;13;17;23m \u001b[0m\u001b[38;2;230;237;243;48;2;13;17;23mулица,\u001b[0m\u001b[38;2;230;237;243;48;2;13;17;23m \u001b[0m\u001b[38;2;230;237;243;48;2;13;17;23m53\u001b[0m\u001b[38;2;230;237;243;48;2;13;17;23m\\n\u001b[0m\u001b[38;2;230;237;243;48;2;13;17;23m \u001b[0m\u001b[38;2;230;237;243;48;2;13;17;23m \u001b[0m\u001b[38;2;230;237;243;48;2;13;17;23m \u001b[0m\u001b[38;2;230;237;243;48;2;13;17;23mРейтинг:\u001b[0m\u001b[38;2;230;237;243;48;2;13;17;23m \u001b[0m\u001b[38;2;230;237;243;48;2;13;17;23m5.0\u001b[0m\u001b[38;2;230;237;243;48;2;13;17;23m\\n\u001b[0m\u001b[38;2;230;237;243;48;2;13;17;23m \u001b[0m\u001b[38;2;230;237;243;48;2;13;17;23m \u001b[0m\u001b[38;2;230;237;243;48;2;13;17;23m \u001b[0m\u001b[38;2;230;237;243;48;2;13;17;23mОтзыв:\u001b[0m\u001b[38;2;230;237;243;48;2;13;17;23m \u001b[0m\n",
       "\u001b[38;2;230;237;243;48;2;13;17;23m«Отличное\u001b[0m\u001b[38;2;230;237;243;48;2;13;17;23m \u001b[0m\u001b[38;2;230;237;243;48;2;13;17;23mАтелье!\u001b[0m\u001b[38;2;230;237;243;48;2;13;17;23m \u001b[0m\u001b[38;2;230;237;243;48;2;13;17;23mПожалуй,\u001b[0m\u001b[38;2;230;237;243;48;2;13;17;23m \u001b[0m\u001b[38;2;230;237;243;48;2;13;17;23mсамое\u001b[0m\u001b[38;2;230;237;243;48;2;13;17;23m \u001b[0m\u001b[38;2;230;237;243;48;2;13;17;23mлучшее\u001b[0m\u001b[38;2;230;237;243;48;2;13;17;23m \u001b[0m\u001b[38;2;230;237;243;48;2;13;17;23mсоотношение\u001b[0m\u001b[38;2;230;237;243;48;2;13;17;23m \u001b[0m\u001b[38;2;230;237;243;48;2;13;17;23mкачества\u001b[0m\u001b[38;2;230;237;243;48;2;13;17;23m \u001b[0m\u001b[38;2;230;237;243;48;2;13;17;23mи\u001b[0m\u001b[38;2;230;237;243;48;2;13;17;23m \u001b[0m\u001b[38;2;230;237;243;48;2;13;17;23mцены\u001b[0m\u001b[38;2;230;237;243;48;2;13;17;23m \u001b[0m\u001b[38;2;230;237;243;48;2;13;17;23mв\u001b[0m\u001b[38;2;230;237;243;48;2;13;17;23m \u001b[0m\u001b[38;2;230;237;243;48;2;13;17;23mнашем\u001b[0m\u001b[38;2;230;237;243;48;2;13;17;23m \u001b[0m\u001b[38;2;230;237;243;48;2;13;17;23mрайоне...»\u001b[0m\u001b[38;2;230;237;243;48;2;13;17;23m\\n\u001b[0m\u001b[38;2;230;237;243;48;2;13;17;23m\\n\u001b[0m\u001b[38;2;230;237;243;48;2;13;17;23m3.\u001b[0m\u001b[38;2;230;237;243;48;2;13;17;23m \u001b[0m\u001b[38;2;230;237;243;48;2;13;17;23mКосино\u001b[0m\u001b[38;2;230;237;243;48;2;13;17;23m \u001b[0m\u001b[38;2;230;237;243;48;2;13;17;23mПарк\u001b[0m\u001b[38;2;230;237;243;48;2;13;17;23m \u001b[0m\u001b[38;2;230;237;243;48;2;13;17;23m(Дом\u001b[0m\u001b[38;2;230;237;243;48;2;13;17;23m \u001b[0m\u001b[38;2;230;237;243;48;2;13;17;23mбыта)\u001b[0m\n",
       "\u001b[38;2;230;237;243;48;2;13;17;23m-\u001b[0m\u001b[38;2;230;237;243;48;2;13;17;23m \u001b[0m\u001b[38;2;230;237;243;48;2;13;17;23mМосква,\u001b[0m\u001b[38;2;230;237;243;48;2;13;17;23m \u001b[0m\u001b[38;2;230;237;243;48;2;13;17;23mСвятоозёрская\u001b[0m\u001b[38;2;230;237;243;48;2;13;17;23m \u001b[0m\u001b[38;2;230;237;243;48;2;13;17;23mулица,\u001b[0m\u001b[38;2;230;237;243;48;2;13;17;23m \u001b[0m\u001b[38;2;230;237;243;48;2;13;17;23m1А\u001b[0m\u001b[38;2;230;237;243;48;2;13;17;23m\\n\u001b[0m\u001b[38;2;230;237;243;48;2;13;17;23m \u001b[0m\u001b[38;2;230;237;243;48;2;13;17;23m \u001b[0m\u001b[38;2;230;237;243;48;2;13;17;23m \u001b[0m\u001b[38;2;230;237;243;48;2;13;17;23mРейтинг:\u001b[0m\u001b[38;2;230;237;243;48;2;13;17;23m \u001b[0m\u001b[38;2;230;237;243;48;2;13;17;23m5.0\u001b[0m\u001b[38;2;230;237;243;48;2;13;17;23m\\n\u001b[0m\u001b[38;2;230;237;243;48;2;13;17;23m \u001b[0m\u001b[38;2;230;237;243;48;2;13;17;23m \u001b[0m\u001b[38;2;230;237;243;48;2;13;17;23m \u001b[0m\u001b[38;2;230;237;243;48;2;13;17;23mОтзыв:\u001b[0m\u001b[38;2;230;237;243;48;2;13;17;23m \u001b[0m\u001b[38;2;230;237;243;48;2;13;17;23m«Ремонт\u001b[0m\u001b[38;2;230;237;243;48;2;13;17;23m \u001b[0m\u001b[38;2;230;237;243;48;2;13;17;23mобуви\u001b[0m\u001b[38;2;230;237;243;48;2;13;17;23m \u001b[0m\u001b[38;2;230;237;243;48;2;13;17;23mделают\u001b[0m\u001b[38;2;230;237;243;48;2;13;17;23m \u001b[0m\u001b[38;2;230;237;243;48;2;13;17;23mочень\u001b[0m\u001b[38;2;230;237;243;48;2;13;17;23m \u001b[0m\u001b[38;2;230;237;243;48;2;13;17;23mбыстро\u001b[0m\u001b[38;2;230;237;243;48;2;13;17;23m \u001b[0m\u001b[38;2;230;237;243;48;2;13;17;23mи\u001b[0m\u001b[38;2;230;237;243;48;2;13;17;23m \u001b[0m\u001b[38;2;230;237;243;48;2;13;17;23mкачественно.\u001b[0m\u001b[38;2;230;237;243;48;2;13;17;23m \u001b[0m\u001b[48;2;13;17;23m    \u001b[0m\n",
       "\u001b[38;2;230;237;243;48;2;13;17;23mМастер\u001b[0m\u001b[38;2;230;237;243;48;2;13;17;23m \u001b[0m\u001b[38;2;230;237;243;48;2;13;17;23mраньше\u001b[0m\u001b[38;2;230;237;243;48;2;13;17;23m \u001b[0m\u001b[38;2;230;237;243;48;2;13;17;23mработал\u001b[0m\u001b[38;2;230;237;243;48;2;13;17;23m \u001b[0m\u001b[38;2;230;237;243;48;2;13;17;23mна\u001b[0m\u001b[38;2;230;237;243;48;2;13;17;23m \u001b[0m\u001b[38;2;230;237;243;48;2;13;17;23mРязанском\u001b[0m\u001b[38;2;230;237;243;48;2;13;17;23m \u001b[0m\u001b[38;2;230;237;243;48;2;13;17;23mпроспекте...»\u001b[0m\u001b[38;2;230;237;243;48;2;13;17;23m\\n\u001b[0m\u001b[38;2;230;237;243;48;2;13;17;23m\\n\u001b[0m\u001b[38;2;230;237;243;48;2;13;17;23mВыбирайте\u001b[0m\u001b[38;2;230;237;243;48;2;13;17;23m \u001b[0m\u001b[38;2;230;237;243;48;2;13;17;23mлюбое\u001b[0m\u001b[38;2;230;237;243;48;2;13;17;23m \u001b[0m\u001b[38;2;230;237;243;48;2;13;17;23mиз\u001b[0m\u001b[38;2;230;237;243;48;2;13;17;23m \u001b[0m\u001b[38;2;230;237;243;48;2;13;17;23mэтих\u001b[0m\u001b[38;2;230;237;243;48;2;13;17;23m \u001b[0m\u001b[38;2;230;237;243;48;2;13;17;23mателье\u001b[0m\u001b[38;2;230;237;243;48;2;13;17;23m \u001b[0m\u001b[38;2;230;237;243;48;2;13;17;23mв\u001b[0m\u001b[38;2;230;237;243;48;2;13;17;23m \u001b[0m\u001b[38;2;230;237;243;48;2;13;17;23mзависимости\u001b[0m\u001b[38;2;230;237;243;48;2;13;17;23m \u001b[0m\u001b[38;2;230;237;243;48;2;13;17;23mот\u001b[0m\u001b[38;2;230;237;243;48;2;13;17;23m \u001b[0m\u001b[38;2;230;237;243;48;2;13;17;23mвашего\u001b[0m\u001b[38;2;230;237;243;48;2;13;17;23m \u001b[0m\u001b[38;2;230;237;243;48;2;13;17;23mрайона\u001b[0m\u001b[38;2;230;237;243;48;2;13;17;23m \u001b[0m\u001b[48;2;13;17;23m \u001b[0m\n",
       "\u001b[38;2;230;237;243;48;2;13;17;23mпроживания.\"\u001b[0m\u001b[48;2;13;17;23m                                                                                                       \u001b[0m\n",
       "\u001b[38;2;230;237;243;48;2;13;17;23m}\u001b[0m\u001b[48;2;13;17;23m                                                                                                                  \u001b[0m\n",
       "\u001b[38;2;230;237;243;48;2;13;17;23m}\u001b[0m\u001b[48;2;13;17;23m                                                                                                                  \u001b[0m\n"
      ]
     },
     "metadata": {},
     "output_type": "display_data"
    },
    {
     "data": {
      "text/html": [
       "<pre style=\"white-space:pre;overflow-x:auto;line-height:normal;font-family:Menlo,'DejaVu Sans Mono',consolas,'Courier New',monospace\">╭─────────────────────────────────────────────────────────────────────────────────────────────────────────────────╮\n",
       "│ Calling tool: 'final_answer' with arguments: {'answer': 'Наиболее рекомендованные места по отзывам с рейтингом  │\n",
       "│ 5.0 и специализацией на ремонте обуви:\\n\\n1. Люкс мастер - Москва, Кожевническая улица, 10, стр. 1\\n   Рейтинг: │\n",
       "│ 5.0\\n   Отзыв: «Пользуюсь услугами ремонта обуви и ателье уже почти год. Всем довольна...»\\n\\n2. Дом Быта -     │\n",
       "│ Москва, Зарайская улица, 53\\n   Рейтинг: 5.0\\n   Отзыв: «Отличное Ателье! Пожалуй, самое лучшее соотношение     │\n",
       "│ качества и цены в нашем районе...»\\n\\n3. Косино Парк (Дом быта) - Москва, Святоозёрская улица, 1А\\n   Рейтинг:  │\n",
       "│ 5.0\\n   Отзыв: «Ремонт обуви делают очень быстро и качественно. Мастер раньше работал на Рязанском              │\n",
       "│ проспекте...»\\n\\nВыбирайте любое из этих ателье в зависимости от вашего района проживания.'}                    │\n",
       "╰─────────────────────────────────────────────────────────────────────────────────────────────────────────────────╯\n",
       "</pre>\n"
      ],
      "text/plain": [
       "╭─────────────────────────────────────────────────────────────────────────────────────────────────────────────────╮\n",
       "│ Calling tool: 'final_answer' with arguments: {'answer': 'Наиболее рекомендованные места по отзывам с рейтингом  │\n",
       "│ 5.0 и специализацией на ремонте обуви:\\n\\n1. Люкс мастер - Москва, Кожевническая улица, 10, стр. 1\\n   Рейтинг: │\n",
       "│ 5.0\\n   Отзыв: «Пользуюсь услугами ремонта обуви и ателье уже почти год. Всем довольна...»\\n\\n2. Дом Быта -     │\n",
       "│ Москва, Зарайская улица, 53\\n   Рейтинг: 5.0\\n   Отзыв: «Отличное Ателье! Пожалуй, самое лучшее соотношение     │\n",
       "│ качества и цены в нашем районе...»\\n\\n3. Косино Парк (Дом быта) - Москва, Святоозёрская улица, 1А\\n   Рейтинг:  │\n",
       "│ 5.0\\n   Отзыв: «Ремонт обуви делают очень быстро и качественно. Мастер раньше работал на Рязанском              │\n",
       "│ проспекте...»\\n\\nВыбирайте любое из этих ателье в зависимости от вашего района проживания.'}                    │\n",
       "╰─────────────────────────────────────────────────────────────────────────────────────────────────────────────────╯\n"
      ]
     },
     "metadata": {},
     "output_type": "display_data"
    },
    {
     "data": {
      "text/html": [
       "<pre style=\"white-space:pre;overflow-x:auto;line-height:normal;font-family:Menlo,'DejaVu Sans Mono',consolas,'Courier New',monospace\"><span style=\"color: #d4b702; text-decoration-color: #d4b702; font-weight: bold\">Final answer: Наиболее рекомендованные места по отзывам с рейтингом 5.0 и специализацией на ремонте обуви:</span>\n",
       "\n",
       "<span style=\"color: #d4b702; text-decoration-color: #d4b702; font-weight: bold\">1. Люкс мастер - Москва, Кожевническая улица, 10, стр. 1</span>\n",
       "<span style=\"color: #d4b702; text-decoration-color: #d4b702; font-weight: bold\">   Рейтинг: 5.0</span>\n",
       "<span style=\"color: #d4b702; text-decoration-color: #d4b702; font-weight: bold\">   Отзыв: «Пользуюсь услугами ремонта обуви и ателье уже почти год. Всем довольна...»</span>\n",
       "\n",
       "<span style=\"color: #d4b702; text-decoration-color: #d4b702; font-weight: bold\">2. Дом Быта - Москва, Зарайская улица, 53</span>\n",
       "<span style=\"color: #d4b702; text-decoration-color: #d4b702; font-weight: bold\">   Рейтинг: 5.0</span>\n",
       "<span style=\"color: #d4b702; text-decoration-color: #d4b702; font-weight: bold\">   Отзыв: «Отличное Ателье! Пожалуй, самое лучшее соотношение качества и цены в нашем районе...»</span>\n",
       "\n",
       "<span style=\"color: #d4b702; text-decoration-color: #d4b702; font-weight: bold\">3. Косино Парк (Дом быта) - Москва, Святоозёрская улица, 1А</span>\n",
       "<span style=\"color: #d4b702; text-decoration-color: #d4b702; font-weight: bold\">   Рейтинг: 5.0</span>\n",
       "<span style=\"color: #d4b702; text-decoration-color: #d4b702; font-weight: bold\">   Отзыв: «Ремонт обуви делают очень быстро и качественно. Мастер раньше работал на Рязанском проспекте...»</span>\n",
       "\n",
       "<span style=\"color: #d4b702; text-decoration-color: #d4b702; font-weight: bold\">Выбирайте любое из этих ателье в зависимости от вашего района проживания.</span>\n",
       "</pre>\n"
      ],
      "text/plain": [
       "\u001b[1;38;2;212;183;2mFinal answer: Наиболее рекомендованные места по отзывам с рейтингом 5.0 и специализацией на ремонте обуви:\u001b[0m\n",
       "\n",
       "\u001b[1;38;2;212;183;2m1. Люкс мастер - Москва, Кожевническая улица, 10, стр. 1\u001b[0m\n",
       "\u001b[1;38;2;212;183;2m   Рейтинг: 5.0\u001b[0m\n",
       "\u001b[1;38;2;212;183;2m   Отзыв: «Пользуюсь услугами ремонта обуви и ателье уже почти год. Всем довольна...»\u001b[0m\n",
       "\n",
       "\u001b[1;38;2;212;183;2m2. Дом Быта - Москва, Зарайская улица, 53\u001b[0m\n",
       "\u001b[1;38;2;212;183;2m   Рейтинг: 5.0\u001b[0m\n",
       "\u001b[1;38;2;212;183;2m   Отзыв: «Отличное Ателье! Пожалуй, самое лучшее соотношение качества и цены в нашем районе...»\u001b[0m\n",
       "\n",
       "\u001b[1;38;2;212;183;2m3. Косино Парк (Дом быта) - Москва, Святоозёрская улица, 1А\u001b[0m\n",
       "\u001b[1;38;2;212;183;2m   Рейтинг: 5.0\u001b[0m\n",
       "\u001b[1;38;2;212;183;2m   Отзыв: «Ремонт обуви делают очень быстро и качественно. Мастер раньше работал на Рязанском проспекте...»\u001b[0m\n",
       "\n",
       "\u001b[1;38;2;212;183;2mВыбирайте любое из этих ателье в зависимости от вашего района проживания.\u001b[0m\n"
      ]
     },
     "metadata": {},
     "output_type": "display_data"
    },
    {
     "data": {
      "text/html": [
       "<pre style=\"white-space:pre;overflow-x:auto;line-height:normal;font-family:Menlo,'DejaVu Sans Mono',consolas,'Courier New',monospace\"><span style=\"color: #7f7f7f; text-decoration-color: #7f7f7f\">[Step 2: Duration 33.42 seconds| Input tokens: 4,221 | Output tokens: 317]</span>\n",
       "</pre>\n"
      ],
      "text/plain": [
       "\u001b[2m[Step 2: Duration 33.42 seconds| Input tokens: 4,221 | Output tokens: 317]\u001b[0m\n"
      ]
     },
     "metadata": {},
     "output_type": "display_data"
    }
   ],
   "source": [
    "resp = agent.run(\"Подскажи мне ателье по ременту обуви?\")"
   ]
  }
 ],
 "metadata": {
  "kernelspec": {
   "display_name": ".venv",
   "language": "python",
   "name": "python3"
  },
  "language_info": {
   "codemirror_mode": {
    "name": "ipython",
    "version": 3
   },
   "file_extension": ".py",
   "mimetype": "text/x-python",
   "name": "python",
   "nbconvert_exporter": "python",
   "pygments_lexer": "ipython3",
   "version": "3.13.3"
  }
 },
 "nbformat": 4,
 "nbformat_minor": 5
}
