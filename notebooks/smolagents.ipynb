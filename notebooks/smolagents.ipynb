{
 "cells": [
  {
   "cell_type": "markdown",
   "id": "17c21521",
   "metadata": {},
   "source": [
    "# Overview of [smolagents](https://huggingface.co/docs/smolagents)"
   ]
  },
  {
   "cell_type": "code",
   "execution_count": 1,
   "id": "86808b28",
   "metadata": {},
   "outputs": [
    {
     "name": "stdout",
     "output_type": "stream",
     "text": [
      "Available embed models:\n",
      "- cointegrated/rubert-tiny2\n",
      "- DeepPavlov/rubert-base-cased-sentence\n",
      "- ai-forever/sbert_large_nlu_ru\n",
      "- ai-forever/sbert_large_mt_nlu_ru\n",
      "- sentence-transformers/distiluse-base-multilingual-cased-v1\n",
      "- sentence-transformers/distiluse-base-multilingual-cased-v2\n",
      "- sentence-transformers/paraphrase-multilingual-MiniLM-L12-v2\n",
      "- sentence-transformers/paraphrase-multilingual-mpnet-base-v2\n",
      "- intfloat/multilingual-e5-large\n",
      "- intfloat/multilingual-e5-base\n",
      "- intfloat/multilingual-e5-small\n",
      "- ai-forever/ru-en-RoSBERTa\n",
      "- sergeyzh/BERTA\n"
     ]
    }
   ],
   "source": [
    "import os\n",
    "\n",
    "from openinference.instrumentation.smolagents import SmolagentsInstrumentor\n",
    "from phoenix.otel import register\n",
    "from smolagents import LiteLLMModel, ToolCallingAgent\n",
    "\n",
    "from travel_agent.qdrant import client as qdrant_client\n",
    "from travel_agent.retrieval.embedding.embedding_generation import MODELS_PROMPTS\n",
    "from travel_agent.retrieval.smolagents.prompts import RUS_PROMPT_TEMPLATES\n",
    "from travel_agent.retrieval.smolagents.tool import GetExistingAvailableRubricsTool, TravelReviewQueryTool\n",
    "\n",
    "if not os.getenv(\"QDRANT_URL\"):\n",
    "    print(\"Set QDRANT_URL and QDRANT_API_KEY env\")\n",
    "    exit(1)\n",
    "\n",
    "print(f\"Available embed models:\\n- {'\\n- '.join(MODELS_PROMPTS.keys())}\")"
   ]
  },
  {
   "cell_type": "code",
   "execution_count": 2,
   "id": "a42c6beb",
   "metadata": {},
   "outputs": [
    {
     "name": "stdout",
     "output_type": "stream",
     "text": [
      "🔭 OpenTelemetry Tracing Details 🔭\n",
      "|  Phoenix Project: travel-agent-local\n",
      "|  Span Processor: SimpleSpanProcessor\n",
      "|  Collector Endpoint: localhost:4317\n",
      "|  Transport: gRPC\n",
      "|  Transport Headers: {'user-agent': '****'}\n",
      "|  \n",
      "|  Using a default SpanProcessor. `add_span_processor` will overwrite this default.\n",
      "|  \n",
      "|  ⚠️ WARNING: It is strongly advised to use a BatchSpanProcessor in production environments.\n",
      "|  \n",
      "|  `register` has set this TracerProvider as the global OpenTelemetry default.\n",
      "|  To disable this behavior, call `register` with `set_global_tracer_provider=False`.\n",
      "\n"
     ]
    }
   ],
   "source": [
    "# OPTIONAL: add tracing\n",
    "# First, run server in background: uv run -m phoenix.server.main serve\n",
    "# Then, run this cell\n",
    "\n",
    "\n",
    "tracer_provider = register(project_name=\"travel-agent-local\")\n",
    "SmolagentsInstrumentor().instrument(\n",
    "    tracer_provider=tracer_provider\n",
    ")  # automatically captures any smolagents calls as traces"
   ]
  },
  {
   "cell_type": "code",
   "execution_count": 3,
   "id": "c33b8241",
   "metadata": {},
   "outputs": [
    {
     "name": "stdout",
     "output_type": "stream",
     "text": [
      "Здравствуйте! Да, это Кизару. (Учитывая, что я — виртуальный персонаж.) Как я могу вам помочь?\n"
     ]
    }
   ],
   "source": [
    "# Replace with your favourite local model\n",
    "MODEL_NAME = \"hf.co/IlyaGusev/saiga_nemo_12b_gguf:Q4_0\"\n",
    "model_id = f\"ollama_chat/{MODEL_NAME}\"\n",
    "\n",
    "\n",
    "model = LiteLLMModel(\n",
    "    model_id=model_id,\n",
    "    api_base=os.getenv(\"OLLAMA_URL\", \"http://127.0.0.1:11434\"),\n",
    "    num_ctx=8192,  # ollama default is 2048 which will fail horribly. 8192 works for easy tasks, more is better. Check https://huggingface.co/spaces/NyxKrage/LLM-Model-VRAM-Calculator to calculate how much VRAM this will need for the selected model.\n",
    ")\n",
    "\n",
    "test_response = model([{\"role\": \"user\", \"content\": [{\"text\": \"Алло, это Кизару у телефона?\", \"type\": \"text\"}]}]).content\n",
    "print(test_response)\n",
    "assert test_response"
   ]
  },
  {
   "cell_type": "code",
   "execution_count": 17,
   "id": "80984aec",
   "metadata": {},
   "outputs": [
    {
     "name": "stderr",
     "output_type": "stream",
     "text": [
      "\u001b[32m2025-04-26 19:44:30.024\u001b[0m | \u001b[1mINFO    \u001b[0m | \u001b[36mtravel_agent.retrieval.smolagents.tool\u001b[0m:\u001b[36m__init__\u001b[0m:\u001b[36m84\u001b[0m - \u001b[1mUsing device: mps\u001b[0m\n"
     ]
    }
   ],
   "source": [
    "embed_model_name = \"intfloat/multilingual-e5-base\"\n",
    "collection_name = \"moskva_intfloat_multilingual_e5_base\"\n",
    "\n",
    "\n",
    "get_available_rubrics_tool = GetExistingAvailableRubricsTool()\n",
    "review_search_tool = TravelReviewQueryTool(embed_model_name, qdrant_client, collection_name)\n",
    "\n",
    "\n",
    "agent = ToolCallingAgent(\n",
    "    tools=[review_search_tool, get_available_rubrics_tool], model=model, max_steps=10, verbosity_level=2\n",
    ")"
   ]
  },
  {
   "cell_type": "code",
   "execution_count": 18,
   "id": "d0dbf3d5",
   "metadata": {},
   "outputs": [
    {
     "name": "stdout",
     "output_type": "stream",
     "text": [
      "You are an expert assistant who can solve any task using tool calls. You will be given a task to solve as best you can.\n",
      "To do so, you have been given access to some tools.\n",
      "\n",
      "The tool call you write is an action: after the tool is executed, you will get the result of the tool call as an \"observation\".\n",
      "This Action/Observation can repeat N times, you should take several steps when needed.\n",
      "\n",
      "You can use the result of the previous action as input for the next action.\n",
      "The observation will always be a string: it can represent a file, like \"image_1.jpg\".\n",
      "Then you can use it as input for the next action. You can do it for instance as follows:\n",
      "\n",
      "Observation: \"image_1.jpg\"\n",
      "\n",
      "Action:\n",
      "{\n",
      "  \"name\": \"image_transformer\",\n",
      "  \"arguments\": {\"image\": \"image_1.jpg\"}\n",
      "}\n",
      "\n",
      "To provide the final answer to the task, use an action blob with \"name\": \"final_answer\" tool. It is the only way to complete the task, else you will be stuck on a loop. So your final output should look like this:\n",
      "Action:\n",
      "{\n",
      "  \"name\": \"final_answer\",\n",
      "  \"arguments\": {\"answer\": \"insert your final answer here\"}\n",
      "}\n",
      "\n",
      "\n",
      "Here are a few examples using notional tools:\n",
      "---\n",
      "Task: \"Generate an image of the oldest person in this document.\"\n",
      "\n",
      "Action:\n",
      "{\n",
      "  \"name\": \"document_qa\",\n",
      "  \"arguments\": {\"document\": \"document.pdf\", \"question\": \"Who is the oldest person mentioned?\"}\n",
      "}\n",
      "Observation: \"The oldest person in the document is John Doe, a 55 year old lumberjack living in Newfoundland.\"\n",
      "\n",
      "Action:\n",
      "{\n",
      "  \"name\": \"image_generator\",\n",
      "  \"arguments\": {\"prompt\": \"A portrait of John Doe, a 55-year-old man living in Canada.\"}\n",
      "}\n",
      "Observation: \"image.png\"\n",
      "\n",
      "Action:\n",
      "{\n",
      "  \"name\": \"final_answer\",\n",
      "  \"arguments\": \"image.png\"\n",
      "}\n",
      "\n",
      "---\n",
      "Task: \"What is the result of the following operation: 5 + 3 + 1294.678?\"\n",
      "\n",
      "Action:\n",
      "{\n",
      "    \"name\": \"python_interpreter\",\n",
      "    \"arguments\": {\"code\": \"5 + 3 + 1294.678\"}\n",
      "}\n",
      "Observation: 1302.678\n",
      "\n",
      "Action:\n",
      "{\n",
      "  \"name\": \"final_answer\",\n",
      "  \"arguments\": \"1302.678\"\n",
      "}\n",
      "\n",
      "---\n",
      "Task: \"Which city has the highest population , Guangzhou or Shanghai?\"\n",
      "\n",
      "Action:\n",
      "{\n",
      "    \"name\": \"search\",\n",
      "    \"arguments\": \"Population Guangzhou\"\n",
      "}\n",
      "Observation: ['Guangzhou has a population of 15 million inhabitants as of 2021.']\n",
      "\n",
      "\n",
      "Action:\n",
      "{\n",
      "    \"name\": \"search\",\n",
      "    \"arguments\": \"Population Shanghai\"\n",
      "}\n",
      "Observation: '26 million (2019)'\n",
      "\n",
      "Action:\n",
      "{\n",
      "  \"name\": \"final_answer\",\n",
      "  \"arguments\": \"Shanghai\"\n",
      "}\n",
      "\n",
      "Above example were using notional tools that might not exist for you. You only have access to these tools:\n",
      "- travel_review_query: Использует семантический поиск для извлечения отзывов на различные заведения. Важно: не упоминайте весь текст отзыва в ответе. Разрешено использовать только смысл содержания, например: \"Посетители отмечают, что в заведении чисто и комфортно\"\n",
      "    Takes inputs: {'query': {'type': 'string', 'description': 'Запрос для поиска отзыва. Должен быть семантически близок к искомым отзывам, например: посоветуй хорошую кофейню в Москве.'}, 'min_rating': {'type': 'integer', 'description': 'Опциональное поле, фильтр минимального рейтинга (от 1 до 5)', 'nullable': True}, 'address': {'type': 'string', 'description': 'Опциональное поле, ключевое слово из адреса (город или улица), например: \"Москва\", \"улица Энгельса\"', 'nullable': True}, 'rubrics': {'type': 'string', 'description': 'Опциональное поле, использовать его только если не получилось получить подходящих результатов по параметру \"query\". Аргумент можно получить из утилиты get_existing_travel_review_rubrics', 'nullable': True}}\n",
      "    Returns an output of type: string\n",
      "- get_existing_travel_review_rubrics: Получение возможных значений рубрик. Использовать если нужно вызвать утилиту \"travel_review_query\" с аргументом \"rubrics\"\n",
      "    Takes inputs: {'limit': {'type': 'integer', 'description': 'Лимит рубрик в ответе. По-умолчанию 20', 'nullable': True}, 'offset': {'type': 'integer', 'description': 'Отступ', 'nullable': True}}\n",
      "    Returns an output of type: string\n",
      "- final_answer: Provides a final answer to the given problem.\n",
      "    Takes inputs: {'answer': {'type': 'any', 'description': 'The final answer to the problem'}}\n",
      "    Returns an output of type: any\n",
      "\n",
      "Here are the rules you should always follow to solve your task:\n",
      "1. ALWAYS provide a tool call, else you will fail.\n",
      "2. Always use the right arguments for the tools. Never use variable names as the action arguments, use the value instead.\n",
      "3. Call a tool only when needed: do not call the search agent if you do not need information, try to solve the task yourself.\n",
      "If no tool call is needed, use final_answer tool to return your answer.\n",
      "4. Never re-do a tool call that you previously did with the exact same parameters.\n",
      "\n",
      "Now Begin!\n"
     ]
    }
   ],
   "source": [
    "print(agent.system_prompt)"
   ]
  },
  {
   "cell_type": "code",
   "execution_count": 19,
   "id": "09c78b79",
   "metadata": {},
   "outputs": [
    {
     "data": {
      "text/html": [
       "<pre style=\"white-space:pre;overflow-x:auto;line-height:normal;font-family:Menlo,'DejaVu Sans Mono',consolas,'Courier New',monospace\"><span style=\"color: #d4b702; text-decoration-color: #d4b702\">╭──────────────────────────────────────────────────── </span><span style=\"color: #d4b702; text-decoration-color: #d4b702; font-weight: bold\">New run</span><span style=\"color: #d4b702; text-decoration-color: #d4b702\"> ────────────────────────────────────────────────────╮</span>\n",
       "<span style=\"color: #d4b702; text-decoration-color: #d4b702\">│</span>                                                                                                                 <span style=\"color: #d4b702; text-decoration-color: #d4b702\">│</span>\n",
       "<span style=\"color: #d4b702; text-decoration-color: #d4b702\">│</span> <span style=\"font-weight: bold\">Что ты думаешь о римской империи?</span>                                                                               <span style=\"color: #d4b702; text-decoration-color: #d4b702\">│</span>\n",
       "<span style=\"color: #d4b702; text-decoration-color: #d4b702\">│</span>                                                                                                                 <span style=\"color: #d4b702; text-decoration-color: #d4b702\">│</span>\n",
       "<span style=\"color: #d4b702; text-decoration-color: #d4b702\">╰─ LiteLLMModel - ollama_chat/hf.co/IlyaGusev/saiga_nemo_12b_gguf:Q4_0 ───────────────────────────────────────────╯</span>\n",
       "</pre>\n"
      ],
      "text/plain": [
       "\u001b[38;2;212;183;2m╭─\u001b[0m\u001b[38;2;212;183;2m───────────────────────────────────────────────────\u001b[0m\u001b[38;2;212;183;2m \u001b[0m\u001b[1;38;2;212;183;2mNew run\u001b[0m\u001b[38;2;212;183;2m \u001b[0m\u001b[38;2;212;183;2m───────────────────────────────────────────────────\u001b[0m\u001b[38;2;212;183;2m─╮\u001b[0m\n",
       "\u001b[38;2;212;183;2m│\u001b[0m                                                                                                                 \u001b[38;2;212;183;2m│\u001b[0m\n",
       "\u001b[38;2;212;183;2m│\u001b[0m \u001b[1mЧто ты думаешь о римской империи?\u001b[0m                                                                               \u001b[38;2;212;183;2m│\u001b[0m\n",
       "\u001b[38;2;212;183;2m│\u001b[0m                                                                                                                 \u001b[38;2;212;183;2m│\u001b[0m\n",
       "\u001b[38;2;212;183;2m╰─\u001b[0m\u001b[38;2;212;183;2m LiteLLMModel - ollama_chat/hf.co/IlyaGusev/saiga_nemo_12b_gguf:Q4_0 \u001b[0m\u001b[38;2;212;183;2m──────────────────────────────────────────\u001b[0m\u001b[38;2;212;183;2m─╯\u001b[0m\n"
      ]
     },
     "metadata": {},
     "output_type": "display_data"
    },
    {
     "data": {
      "text/html": [
       "<pre style=\"white-space:pre;overflow-x:auto;line-height:normal;font-family:Menlo,'DejaVu Sans Mono',consolas,'Courier New',monospace\"><span style=\"color: #d4b702; text-decoration-color: #d4b702\">━━━━━━━━━━━━━━━━━━━━━━━━━━━━━━━━━━━━━━━━━━━━━━━━━━━━━ </span><span style=\"font-weight: bold\">Step </span><span style=\"color: #008080; text-decoration-color: #008080; font-weight: bold\">1</span><span style=\"color: #d4b702; text-decoration-color: #d4b702\"> ━━━━━━━━━━━━━━━━━━━━━━━━━━━━━━━━━━━━━━━━━━━━━━━━━━━━━━</span>\n",
       "</pre>\n"
      ],
      "text/plain": [
       "\u001b[38;2;212;183;2m━━━━━━━━━━━━━━━━━━━━━━━━━━━━━━━━━━━━━━━━━━━━━━━━━━━━━ \u001b[0m\u001b[1mStep \u001b[0m\u001b[1;36m1\u001b[0m\u001b[38;2;212;183;2m ━━━━━━━━━━━━━━━━━━━━━━━━━━━━━━━━━━━━━━━━━━━━━━━━━━━━━━\u001b[0m\n"
      ]
     },
     "metadata": {},
     "output_type": "display_data"
    },
    {
     "data": {
      "text/html": [
       "<pre style=\"white-space:pre;overflow-x:auto;line-height:normal;font-family:Menlo,'DejaVu Sans Mono',consolas,'Courier New',monospace\"><span style=\"font-weight: bold; font-style: italic\">Output message of the LLM:</span> <span style=\"color: #d4b702; text-decoration-color: #d4b702\">────────────────────────────────────────────────────────────────────────────────────────</span>\n",
       "<span style=\"color: #e6edf3; text-decoration-color: #e6edf3; background-color: #0d1117\">{</span><span style=\"background-color: #0d1117\">                                                                                                                  </span>\n",
       "<span style=\"color: #e6edf3; text-decoration-color: #e6edf3; background-color: #0d1117\">\"name\": \"final_answer\",</span><span style=\"background-color: #0d1117\">                                                                                            </span>\n",
       "<span style=\"color: #e6edf3; text-decoration-color: #e6edf3; background-color: #0d1117\">\"arguments\": {\"answer\": \"Римская империя была выдающимся государственным образованием с богатым историческим </span><span style=\"background-color: #0d1117\">      </span>\n",
       "<span style=\"color: #e6edf3; text-decoration-color: #e6edf3; background-color: #0d1117\">наследием. По некоторым оценкам и отзывам историков, основные факты и достижения включают:\\n- Расцвет в области </span><span style=\"background-color: #0d1117\">   </span>\n",
       "<span style=\"color: #e6edf3; text-decoration-color: #e6edf3; background-color: #0d1117\">права (правосудие, правовые нормы), которое до сих пор влияет на современное законодательство.\\n- Эффективная </span><span style=\"background-color: #0d1117\">     </span>\n",
       "<span style=\"color: #e6edf3; text-decoration-color: #e6edf3; background-color: #0d1117\">система управления и инфраструктуры: дороги, мосты, акведуки, которые облегчали торговлю и распространение </span><span style=\"background-color: #0d1117\">        </span>\n",
       "<span style=\"color: #e6edf3; text-decoration-color: #e6edf3; background-color: #0d1117\">культуры.\\n- Величественные архитектурные памятники (Колизей, Форум Римский) и искусство.\\n- Сильную армию, </span><span style=\"background-color: #0d1117\">       </span>\n",
       "<span style=\"color: #e6edf3; text-decoration-color: #e6edf3; background-color: #0d1117\">обеспечивающую порядок в империи на протяжении столетий.\\nОднако, следует отметить проблемы с коррупцией, </span><span style=\"background-color: #0d1117\">         </span>\n",
       "<span style=\"color: #e6edf3; text-decoration-color: #e6edf3; background-color: #0d1117\">социальное неравенство и военные конфликты, которые привели к её упадку.\"}</span><span style=\"background-color: #0d1117\">                                         </span>\n",
       "<span style=\"color: #e6edf3; text-decoration-color: #e6edf3; background-color: #0d1117\">}</span><span style=\"background-color: #0d1117\">                                                                                                                  </span>\n",
       "</pre>\n"
      ],
      "text/plain": [
       "\u001b[1;3mOutput message of the LLM:\u001b[0m \u001b[38;2;212;183;2m────────────────────────────────────────────────────────────────────────────────────────\u001b[0m\n",
       "\u001b[38;2;230;237;243;48;2;13;17;23m{\u001b[0m\u001b[48;2;13;17;23m                                                                                                                  \u001b[0m\n",
       "\u001b[38;2;230;237;243;48;2;13;17;23m\"name\":\u001b[0m\u001b[38;2;230;237;243;48;2;13;17;23m \u001b[0m\u001b[38;2;230;237;243;48;2;13;17;23m\"final_answer\",\u001b[0m\u001b[48;2;13;17;23m                                                                                            \u001b[0m\n",
       "\u001b[38;2;230;237;243;48;2;13;17;23m\"arguments\":\u001b[0m\u001b[38;2;230;237;243;48;2;13;17;23m \u001b[0m\u001b[38;2;230;237;243;48;2;13;17;23m{\"answer\":\u001b[0m\u001b[38;2;230;237;243;48;2;13;17;23m \u001b[0m\u001b[38;2;230;237;243;48;2;13;17;23m\"Римская\u001b[0m\u001b[38;2;230;237;243;48;2;13;17;23m \u001b[0m\u001b[38;2;230;237;243;48;2;13;17;23mимперия\u001b[0m\u001b[38;2;230;237;243;48;2;13;17;23m \u001b[0m\u001b[38;2;230;237;243;48;2;13;17;23mбыла\u001b[0m\u001b[38;2;230;237;243;48;2;13;17;23m \u001b[0m\u001b[38;2;230;237;243;48;2;13;17;23mвыдающимся\u001b[0m\u001b[38;2;230;237;243;48;2;13;17;23m \u001b[0m\u001b[38;2;230;237;243;48;2;13;17;23mгосударственным\u001b[0m\u001b[38;2;230;237;243;48;2;13;17;23m \u001b[0m\u001b[38;2;230;237;243;48;2;13;17;23mобразованием\u001b[0m\u001b[38;2;230;237;243;48;2;13;17;23m \u001b[0m\u001b[38;2;230;237;243;48;2;13;17;23mс\u001b[0m\u001b[38;2;230;237;243;48;2;13;17;23m \u001b[0m\u001b[38;2;230;237;243;48;2;13;17;23mбогатым\u001b[0m\u001b[38;2;230;237;243;48;2;13;17;23m \u001b[0m\u001b[38;2;230;237;243;48;2;13;17;23mисторическим\u001b[0m\u001b[38;2;230;237;243;48;2;13;17;23m \u001b[0m\u001b[48;2;13;17;23m      \u001b[0m\n",
       "\u001b[38;2;230;237;243;48;2;13;17;23mнаследием.\u001b[0m\u001b[38;2;230;237;243;48;2;13;17;23m \u001b[0m\u001b[38;2;230;237;243;48;2;13;17;23mПо\u001b[0m\u001b[38;2;230;237;243;48;2;13;17;23m \u001b[0m\u001b[38;2;230;237;243;48;2;13;17;23mнекоторым\u001b[0m\u001b[38;2;230;237;243;48;2;13;17;23m \u001b[0m\u001b[38;2;230;237;243;48;2;13;17;23mоценкам\u001b[0m\u001b[38;2;230;237;243;48;2;13;17;23m \u001b[0m\u001b[38;2;230;237;243;48;2;13;17;23mи\u001b[0m\u001b[38;2;230;237;243;48;2;13;17;23m \u001b[0m\u001b[38;2;230;237;243;48;2;13;17;23mотзывам\u001b[0m\u001b[38;2;230;237;243;48;2;13;17;23m \u001b[0m\u001b[38;2;230;237;243;48;2;13;17;23mисториков,\u001b[0m\u001b[38;2;230;237;243;48;2;13;17;23m \u001b[0m\u001b[38;2;230;237;243;48;2;13;17;23mосновные\u001b[0m\u001b[38;2;230;237;243;48;2;13;17;23m \u001b[0m\u001b[38;2;230;237;243;48;2;13;17;23mфакты\u001b[0m\u001b[38;2;230;237;243;48;2;13;17;23m \u001b[0m\u001b[38;2;230;237;243;48;2;13;17;23mи\u001b[0m\u001b[38;2;230;237;243;48;2;13;17;23m \u001b[0m\u001b[38;2;230;237;243;48;2;13;17;23mдостижения\u001b[0m\u001b[38;2;230;237;243;48;2;13;17;23m \u001b[0m\u001b[38;2;230;237;243;48;2;13;17;23mвключают:\u001b[0m\u001b[38;2;230;237;243;48;2;13;17;23m\\n\u001b[0m\u001b[38;2;230;237;243;48;2;13;17;23m-\u001b[0m\u001b[38;2;230;237;243;48;2;13;17;23m \u001b[0m\u001b[38;2;230;237;243;48;2;13;17;23mРасцвет\u001b[0m\u001b[38;2;230;237;243;48;2;13;17;23m \u001b[0m\u001b[38;2;230;237;243;48;2;13;17;23mв\u001b[0m\u001b[38;2;230;237;243;48;2;13;17;23m \u001b[0m\u001b[38;2;230;237;243;48;2;13;17;23mобласти\u001b[0m\u001b[38;2;230;237;243;48;2;13;17;23m \u001b[0m\u001b[48;2;13;17;23m   \u001b[0m\n",
       "\u001b[38;2;230;237;243;48;2;13;17;23mправа\u001b[0m\u001b[38;2;230;237;243;48;2;13;17;23m \u001b[0m\u001b[38;2;230;237;243;48;2;13;17;23m(правосудие,\u001b[0m\u001b[38;2;230;237;243;48;2;13;17;23m \u001b[0m\u001b[38;2;230;237;243;48;2;13;17;23mправовые\u001b[0m\u001b[38;2;230;237;243;48;2;13;17;23m \u001b[0m\u001b[38;2;230;237;243;48;2;13;17;23mнормы),\u001b[0m\u001b[38;2;230;237;243;48;2;13;17;23m \u001b[0m\u001b[38;2;230;237;243;48;2;13;17;23mкоторое\u001b[0m\u001b[38;2;230;237;243;48;2;13;17;23m \u001b[0m\u001b[38;2;230;237;243;48;2;13;17;23mдо\u001b[0m\u001b[38;2;230;237;243;48;2;13;17;23m \u001b[0m\u001b[38;2;230;237;243;48;2;13;17;23mсих\u001b[0m\u001b[38;2;230;237;243;48;2;13;17;23m \u001b[0m\u001b[38;2;230;237;243;48;2;13;17;23mпор\u001b[0m\u001b[38;2;230;237;243;48;2;13;17;23m \u001b[0m\u001b[38;2;230;237;243;48;2;13;17;23mвлияет\u001b[0m\u001b[38;2;230;237;243;48;2;13;17;23m \u001b[0m\u001b[38;2;230;237;243;48;2;13;17;23mна\u001b[0m\u001b[38;2;230;237;243;48;2;13;17;23m \u001b[0m\u001b[38;2;230;237;243;48;2;13;17;23mсовременное\u001b[0m\u001b[38;2;230;237;243;48;2;13;17;23m \u001b[0m\u001b[38;2;230;237;243;48;2;13;17;23mзаконодательство.\u001b[0m\u001b[38;2;230;237;243;48;2;13;17;23m\\n\u001b[0m\u001b[38;2;230;237;243;48;2;13;17;23m-\u001b[0m\u001b[38;2;230;237;243;48;2;13;17;23m \u001b[0m\u001b[38;2;230;237;243;48;2;13;17;23mЭффективная\u001b[0m\u001b[38;2;230;237;243;48;2;13;17;23m \u001b[0m\u001b[48;2;13;17;23m     \u001b[0m\n",
       "\u001b[38;2;230;237;243;48;2;13;17;23mсистема\u001b[0m\u001b[38;2;230;237;243;48;2;13;17;23m \u001b[0m\u001b[38;2;230;237;243;48;2;13;17;23mуправления\u001b[0m\u001b[38;2;230;237;243;48;2;13;17;23m \u001b[0m\u001b[38;2;230;237;243;48;2;13;17;23mи\u001b[0m\u001b[38;2;230;237;243;48;2;13;17;23m \u001b[0m\u001b[38;2;230;237;243;48;2;13;17;23mинфраструктуры:\u001b[0m\u001b[38;2;230;237;243;48;2;13;17;23m \u001b[0m\u001b[38;2;230;237;243;48;2;13;17;23mдороги,\u001b[0m\u001b[38;2;230;237;243;48;2;13;17;23m \u001b[0m\u001b[38;2;230;237;243;48;2;13;17;23mмосты,\u001b[0m\u001b[38;2;230;237;243;48;2;13;17;23m \u001b[0m\u001b[38;2;230;237;243;48;2;13;17;23mакведуки,\u001b[0m\u001b[38;2;230;237;243;48;2;13;17;23m \u001b[0m\u001b[38;2;230;237;243;48;2;13;17;23mкоторые\u001b[0m\u001b[38;2;230;237;243;48;2;13;17;23m \u001b[0m\u001b[38;2;230;237;243;48;2;13;17;23mоблегчали\u001b[0m\u001b[38;2;230;237;243;48;2;13;17;23m \u001b[0m\u001b[38;2;230;237;243;48;2;13;17;23mторговлю\u001b[0m\u001b[38;2;230;237;243;48;2;13;17;23m \u001b[0m\u001b[38;2;230;237;243;48;2;13;17;23mи\u001b[0m\u001b[38;2;230;237;243;48;2;13;17;23m \u001b[0m\u001b[38;2;230;237;243;48;2;13;17;23mраспространение\u001b[0m\u001b[38;2;230;237;243;48;2;13;17;23m \u001b[0m\u001b[48;2;13;17;23m        \u001b[0m\n",
       "\u001b[38;2;230;237;243;48;2;13;17;23mкультуры.\u001b[0m\u001b[38;2;230;237;243;48;2;13;17;23m\\n\u001b[0m\u001b[38;2;230;237;243;48;2;13;17;23m-\u001b[0m\u001b[38;2;230;237;243;48;2;13;17;23m \u001b[0m\u001b[38;2;230;237;243;48;2;13;17;23mВеличественные\u001b[0m\u001b[38;2;230;237;243;48;2;13;17;23m \u001b[0m\u001b[38;2;230;237;243;48;2;13;17;23mархитектурные\u001b[0m\u001b[38;2;230;237;243;48;2;13;17;23m \u001b[0m\u001b[38;2;230;237;243;48;2;13;17;23mпамятники\u001b[0m\u001b[38;2;230;237;243;48;2;13;17;23m \u001b[0m\u001b[38;2;230;237;243;48;2;13;17;23m(Колизей,\u001b[0m\u001b[38;2;230;237;243;48;2;13;17;23m \u001b[0m\u001b[38;2;230;237;243;48;2;13;17;23mФорум\u001b[0m\u001b[38;2;230;237;243;48;2;13;17;23m \u001b[0m\u001b[38;2;230;237;243;48;2;13;17;23mРимский)\u001b[0m\u001b[38;2;230;237;243;48;2;13;17;23m \u001b[0m\u001b[38;2;230;237;243;48;2;13;17;23mи\u001b[0m\u001b[38;2;230;237;243;48;2;13;17;23m \u001b[0m\u001b[38;2;230;237;243;48;2;13;17;23mискусство.\u001b[0m\u001b[38;2;230;237;243;48;2;13;17;23m\\n\u001b[0m\u001b[38;2;230;237;243;48;2;13;17;23m-\u001b[0m\u001b[38;2;230;237;243;48;2;13;17;23m \u001b[0m\u001b[38;2;230;237;243;48;2;13;17;23mСильную\u001b[0m\u001b[38;2;230;237;243;48;2;13;17;23m \u001b[0m\u001b[38;2;230;237;243;48;2;13;17;23mармию,\u001b[0m\u001b[38;2;230;237;243;48;2;13;17;23m \u001b[0m\u001b[48;2;13;17;23m       \u001b[0m\n",
       "\u001b[38;2;230;237;243;48;2;13;17;23mобеспечивающую\u001b[0m\u001b[38;2;230;237;243;48;2;13;17;23m \u001b[0m\u001b[38;2;230;237;243;48;2;13;17;23mпорядок\u001b[0m\u001b[38;2;230;237;243;48;2;13;17;23m \u001b[0m\u001b[38;2;230;237;243;48;2;13;17;23mв\u001b[0m\u001b[38;2;230;237;243;48;2;13;17;23m \u001b[0m\u001b[38;2;230;237;243;48;2;13;17;23mимперии\u001b[0m\u001b[38;2;230;237;243;48;2;13;17;23m \u001b[0m\u001b[38;2;230;237;243;48;2;13;17;23mна\u001b[0m\u001b[38;2;230;237;243;48;2;13;17;23m \u001b[0m\u001b[38;2;230;237;243;48;2;13;17;23mпротяжении\u001b[0m\u001b[38;2;230;237;243;48;2;13;17;23m \u001b[0m\u001b[38;2;230;237;243;48;2;13;17;23mстолетий.\u001b[0m\u001b[38;2;230;237;243;48;2;13;17;23m\\n\u001b[0m\u001b[38;2;230;237;243;48;2;13;17;23mОднако,\u001b[0m\u001b[38;2;230;237;243;48;2;13;17;23m \u001b[0m\u001b[38;2;230;237;243;48;2;13;17;23mследует\u001b[0m\u001b[38;2;230;237;243;48;2;13;17;23m \u001b[0m\u001b[38;2;230;237;243;48;2;13;17;23mотметить\u001b[0m\u001b[38;2;230;237;243;48;2;13;17;23m \u001b[0m\u001b[38;2;230;237;243;48;2;13;17;23mпроблемы\u001b[0m\u001b[38;2;230;237;243;48;2;13;17;23m \u001b[0m\u001b[38;2;230;237;243;48;2;13;17;23mс\u001b[0m\u001b[38;2;230;237;243;48;2;13;17;23m \u001b[0m\u001b[38;2;230;237;243;48;2;13;17;23mкоррупцией,\u001b[0m\u001b[38;2;230;237;243;48;2;13;17;23m \u001b[0m\u001b[48;2;13;17;23m         \u001b[0m\n",
       "\u001b[38;2;230;237;243;48;2;13;17;23mсоциальное\u001b[0m\u001b[38;2;230;237;243;48;2;13;17;23m \u001b[0m\u001b[38;2;230;237;243;48;2;13;17;23mнеравенство\u001b[0m\u001b[38;2;230;237;243;48;2;13;17;23m \u001b[0m\u001b[38;2;230;237;243;48;2;13;17;23mи\u001b[0m\u001b[38;2;230;237;243;48;2;13;17;23m \u001b[0m\u001b[38;2;230;237;243;48;2;13;17;23mвоенные\u001b[0m\u001b[38;2;230;237;243;48;2;13;17;23m \u001b[0m\u001b[38;2;230;237;243;48;2;13;17;23mконфликты,\u001b[0m\u001b[38;2;230;237;243;48;2;13;17;23m \u001b[0m\u001b[38;2;230;237;243;48;2;13;17;23mкоторые\u001b[0m\u001b[38;2;230;237;243;48;2;13;17;23m \u001b[0m\u001b[38;2;230;237;243;48;2;13;17;23mпривели\u001b[0m\u001b[38;2;230;237;243;48;2;13;17;23m \u001b[0m\u001b[38;2;230;237;243;48;2;13;17;23mк\u001b[0m\u001b[38;2;230;237;243;48;2;13;17;23m \u001b[0m\u001b[38;2;230;237;243;48;2;13;17;23mеё\u001b[0m\u001b[38;2;230;237;243;48;2;13;17;23m \u001b[0m\u001b[38;2;230;237;243;48;2;13;17;23mупадку.\"}\u001b[0m\u001b[48;2;13;17;23m                                         \u001b[0m\n",
       "\u001b[38;2;230;237;243;48;2;13;17;23m}\u001b[0m\u001b[48;2;13;17;23m                                                                                                                  \u001b[0m\n"
      ]
     },
     "metadata": {},
     "output_type": "display_data"
    },
    {
     "data": {
      "text/html": [
       "<pre style=\"white-space:pre;overflow-x:auto;line-height:normal;font-family:Menlo,'DejaVu Sans Mono',consolas,'Courier New',monospace\">╭─────────────────────────────────────────────────────────────────────────────────────────────────────────────────╮\n",
       "│ Calling tool: 'final_answer' with arguments: {'answer': 'Римская империя была выдающимся государственным        │\n",
       "│ образованием с богатым историческим наследием. По некоторым оценкам и отзывам историков, основные факты и       │\n",
       "│ достижения включают:\\n- Расцвет в области права (правосудие, правовые нормы), которое до сих пор влияет на      │\n",
       "│ современное законодательство.\\n- Эффективная система управления и инфраструктуры: дороги, мосты, акведуки,      │\n",
       "│ которые облегчали торговлю и распространение культуры.\\n- Величественные архитектурные памятники (Колизей,      │\n",
       "│ Форум Римский) и искусство.\\n- Сильную армию, обеспечивающую порядок в империи на протяжении столетий.\\nОднако, │\n",
       "│ следует отметить проблемы с коррупцией, социальное неравенство и военные конфликты, которые привели к её        │\n",
       "│ упадку.'}                                                                                                       │\n",
       "╰─────────────────────────────────────────────────────────────────────────────────────────────────────────────────╯\n",
       "</pre>\n"
      ],
      "text/plain": [
       "╭─────────────────────────────────────────────────────────────────────────────────────────────────────────────────╮\n",
       "│ Calling tool: 'final_answer' with arguments: {'answer': 'Римская империя была выдающимся государственным        │\n",
       "│ образованием с богатым историческим наследием. По некоторым оценкам и отзывам историков, основные факты и       │\n",
       "│ достижения включают:\\n- Расцвет в области права (правосудие, правовые нормы), которое до сих пор влияет на      │\n",
       "│ современное законодательство.\\n- Эффективная система управления и инфраструктуры: дороги, мосты, акведуки,      │\n",
       "│ которые облегчали торговлю и распространение культуры.\\n- Величественные архитектурные памятники (Колизей,      │\n",
       "│ Форум Римский) и искусство.\\n- Сильную армию, обеспечивающую порядок в империи на протяжении столетий.\\nОднако, │\n",
       "│ следует отметить проблемы с коррупцией, социальное неравенство и военные конфликты, которые привели к её        │\n",
       "│ упадку.'}                                                                                                       │\n",
       "╰─────────────────────────────────────────────────────────────────────────────────────────────────────────────────╯\n"
      ]
     },
     "metadata": {},
     "output_type": "display_data"
    },
    {
     "data": {
      "text/html": [
       "<pre style=\"white-space:pre;overflow-x:auto;line-height:normal;font-family:Menlo,'DejaVu Sans Mono',consolas,'Courier New',monospace\"><span style=\"color: #d4b702; text-decoration-color: #d4b702; font-weight: bold\">Final answer: Римская империя была выдающимся государственным образованием с богатым историческим наследием. По </span>\n",
       "<span style=\"color: #d4b702; text-decoration-color: #d4b702; font-weight: bold\">некоторым оценкам и отзывам историков, основные факты и достижения включают:</span>\n",
       "<span style=\"color: #d4b702; text-decoration-color: #d4b702; font-weight: bold\">- Расцвет в области права (правосудие, правовые нормы), которое до сих пор влияет на современное законодательство.</span>\n",
       "<span style=\"color: #d4b702; text-decoration-color: #d4b702; font-weight: bold\">- Эффективная система управления и инфраструктуры: дороги, мосты, акведуки, которые облегчали торговлю и </span>\n",
       "<span style=\"color: #d4b702; text-decoration-color: #d4b702; font-weight: bold\">распространение культуры.</span>\n",
       "<span style=\"color: #d4b702; text-decoration-color: #d4b702; font-weight: bold\">- Величественные архитектурные памятники (Колизей, Форум Римский) и искусство.</span>\n",
       "<span style=\"color: #d4b702; text-decoration-color: #d4b702; font-weight: bold\">- Сильную армию, обеспечивающую порядок в империи на протяжении столетий.</span>\n",
       "<span style=\"color: #d4b702; text-decoration-color: #d4b702; font-weight: bold\">Однако, следует отметить проблемы с коррупцией, социальное неравенство и военные конфликты, которые привели к её </span>\n",
       "<span style=\"color: #d4b702; text-decoration-color: #d4b702; font-weight: bold\">упадку.</span>\n",
       "</pre>\n"
      ],
      "text/plain": [
       "\u001b[1;38;2;212;183;2mFinal answer: Римская империя была выдающимся государственным образованием с богатым историческим наследием. По \u001b[0m\n",
       "\u001b[1;38;2;212;183;2mнекоторым оценкам и отзывам историков, основные факты и достижения включают:\u001b[0m\n",
       "\u001b[1;38;2;212;183;2m- Расцвет в области права (правосудие, правовые нормы), которое до сих пор влияет на современное законодательство.\u001b[0m\n",
       "\u001b[1;38;2;212;183;2m- Эффективная система управления и инфраструктуры: дороги, мосты, акведуки, которые облегчали торговлю и \u001b[0m\n",
       "\u001b[1;38;2;212;183;2mраспространение культуры.\u001b[0m\n",
       "\u001b[1;38;2;212;183;2m- Величественные архитектурные памятники (Колизей, Форум Римский) и искусство.\u001b[0m\n",
       "\u001b[1;38;2;212;183;2m- Сильную армию, обеспечивающую порядок в империи на протяжении столетий.\u001b[0m\n",
       "\u001b[1;38;2;212;183;2mОднако, следует отметить проблемы с коррупцией, социальное неравенство и военные конфликты, которые привели к её \u001b[0m\n",
       "\u001b[1;38;2;212;183;2mупадку.\u001b[0m\n"
      ]
     },
     "metadata": {},
     "output_type": "display_data"
    },
    {
     "data": {
      "text/html": [
       "<pre style=\"white-space:pre;overflow-x:auto;line-height:normal;font-family:Menlo,'DejaVu Sans Mono',consolas,'Courier New',monospace\"><span style=\"color: #7f7f7f; text-decoration-color: #7f7f7f\">[Step 1: Duration 18.16 seconds| Input tokens: 1,820 | Output tokens: 207]</span>\n",
       "</pre>\n"
      ],
      "text/plain": [
       "\u001b[2m[Step 1: Duration 18.16 seconds| Input tokens: 1,820 | Output tokens: 207]\u001b[0m\n"
      ]
     },
     "metadata": {},
     "output_type": "display_data"
    },
    {
     "data": {
      "text/plain": [
       "'Римская империя была выдающимся государственным образованием с богатым историческим наследием. По некоторым оценкам и отзывам историков, основные факты и достижения включают:\\n- Расцвет в области права (правосудие, правовые нормы), которое до сих пор влияет на современное законодательство.\\n- Эффективная система управления и инфраструктуры: дороги, мосты, акведуки, которые облегчали торговлю и распространение культуры.\\n- Величественные архитектурные памятники (Колизей, Форум Римский) и искусство.\\n- Сильную армию, обеспечивающую порядок в империи на протяжении столетий.\\nОднако, следует отметить проблемы с коррупцией, социальное неравенство и военные конфликты, которые привели к её упадку.'"
      ]
     },
     "execution_count": 19,
     "metadata": {},
     "output_type": "execute_result"
    }
   ],
   "source": [
    "# Sanity check\n",
    "agent.run(\"Что ты думаешь о римской империи?\")"
   ]
  },
  {
   "cell_type": "code",
   "execution_count": 20,
   "id": "3c8b695d",
   "metadata": {},
   "outputs": [
    {
     "data": {
      "text/html": [
       "<pre style=\"white-space:pre;overflow-x:auto;line-height:normal;font-family:Menlo,'DejaVu Sans Mono',consolas,'Courier New',monospace\"><span style=\"color: #d4b702; text-decoration-color: #d4b702\">╭──────────────────────────────────────────────────── </span><span style=\"color: #d4b702; text-decoration-color: #d4b702; font-weight: bold\">New run</span><span style=\"color: #d4b702; text-decoration-color: #d4b702\"> ────────────────────────────────────────────────────╮</span>\n",
       "<span style=\"color: #d4b702; text-decoration-color: #d4b702\">│</span>                                                                                                                 <span style=\"color: #d4b702; text-decoration-color: #d4b702\">│</span>\n",
       "<span style=\"color: #d4b702; text-decoration-color: #d4b702\">│</span> <span style=\"font-weight: bold\">Я бы хотел посетить японский ресторан. Можешь ли посоветовать хороший в Москве?</span>                                 <span style=\"color: #d4b702; text-decoration-color: #d4b702\">│</span>\n",
       "<span style=\"color: #d4b702; text-decoration-color: #d4b702\">│</span>                                                                                                                 <span style=\"color: #d4b702; text-decoration-color: #d4b702\">│</span>\n",
       "<span style=\"color: #d4b702; text-decoration-color: #d4b702\">╰─ LiteLLMModel - ollama_chat/hf.co/IlyaGusev/saiga_nemo_12b_gguf:Q4_0 ───────────────────────────────────────────╯</span>\n",
       "</pre>\n"
      ],
      "text/plain": [
       "\u001b[38;2;212;183;2m╭─\u001b[0m\u001b[38;2;212;183;2m───────────────────────────────────────────────────\u001b[0m\u001b[38;2;212;183;2m \u001b[0m\u001b[1;38;2;212;183;2mNew run\u001b[0m\u001b[38;2;212;183;2m \u001b[0m\u001b[38;2;212;183;2m───────────────────────────────────────────────────\u001b[0m\u001b[38;2;212;183;2m─╮\u001b[0m\n",
       "\u001b[38;2;212;183;2m│\u001b[0m                                                                                                                 \u001b[38;2;212;183;2m│\u001b[0m\n",
       "\u001b[38;2;212;183;2m│\u001b[0m \u001b[1mЯ бы хотел посетить японский ресторан. Можешь ли посоветовать хороший в Москве?\u001b[0m                                 \u001b[38;2;212;183;2m│\u001b[0m\n",
       "\u001b[38;2;212;183;2m│\u001b[0m                                                                                                                 \u001b[38;2;212;183;2m│\u001b[0m\n",
       "\u001b[38;2;212;183;2m╰─\u001b[0m\u001b[38;2;212;183;2m LiteLLMModel - ollama_chat/hf.co/IlyaGusev/saiga_nemo_12b_gguf:Q4_0 \u001b[0m\u001b[38;2;212;183;2m──────────────────────────────────────────\u001b[0m\u001b[38;2;212;183;2m─╯\u001b[0m\n"
      ]
     },
     "metadata": {},
     "output_type": "display_data"
    },
    {
     "data": {
      "text/html": [
       "<pre style=\"white-space:pre;overflow-x:auto;line-height:normal;font-family:Menlo,'DejaVu Sans Mono',consolas,'Courier New',monospace\"><span style=\"color: #d4b702; text-decoration-color: #d4b702\">━━━━━━━━━━━━━━━━━━━━━━━━━━━━━━━━━━━━━━━━━━━━━━━━━━━━━ </span><span style=\"font-weight: bold\">Step </span><span style=\"color: #008080; text-decoration-color: #008080; font-weight: bold\">1</span><span style=\"color: #d4b702; text-decoration-color: #d4b702\"> ━━━━━━━━━━━━━━━━━━━━━━━━━━━━━━━━━━━━━━━━━━━━━━━━━━━━━━</span>\n",
       "</pre>\n"
      ],
      "text/plain": [
       "\u001b[38;2;212;183;2m━━━━━━━━━━━━━━━━━━━━━━━━━━━━━━━━━━━━━━━━━━━━━━━━━━━━━ \u001b[0m\u001b[1mStep \u001b[0m\u001b[1;36m1\u001b[0m\u001b[38;2;212;183;2m ━━━━━━━━━━━━━━━━━━━━━━━━━━━━━━━━━━━━━━━━━━━━━━━━━━━━━━\u001b[0m\n"
      ]
     },
     "metadata": {},
     "output_type": "display_data"
    },
    {
     "data": {
      "text/html": [
       "<pre style=\"white-space:pre;overflow-x:auto;line-height:normal;font-family:Menlo,'DejaVu Sans Mono',consolas,'Courier New',monospace\"><span style=\"font-weight: bold; font-style: italic\">Output message of the LLM:</span> <span style=\"color: #d4b702; text-decoration-color: #d4b702\">────────────────────────────────────────────────────────────────────────────────────────</span>\n",
       "<span style=\"color: #e6edf3; text-decoration-color: #e6edf3; background-color: #0d1117\">{\"name\": \"travel_review_query\", \"arguments\": {\"query\": \"посоветуй хороший японский ресторан в Москве\", </span><span style=\"background-color: #0d1117\">            </span>\n",
       "<span style=\"color: #e6edf3; text-decoration-color: #e6edf3; background-color: #0d1117\">\"min_rating\": 4}}</span><span style=\"background-color: #0d1117\">                                                                                                  </span>\n",
       "</pre>\n"
      ],
      "text/plain": [
       "\u001b[1;3mOutput message of the LLM:\u001b[0m \u001b[38;2;212;183;2m────────────────────────────────────────────────────────────────────────────────────────\u001b[0m\n",
       "\u001b[38;2;230;237;243;48;2;13;17;23m{\"name\":\u001b[0m\u001b[38;2;230;237;243;48;2;13;17;23m \u001b[0m\u001b[38;2;230;237;243;48;2;13;17;23m\"travel_review_query\",\u001b[0m\u001b[38;2;230;237;243;48;2;13;17;23m \u001b[0m\u001b[38;2;230;237;243;48;2;13;17;23m\"arguments\":\u001b[0m\u001b[38;2;230;237;243;48;2;13;17;23m \u001b[0m\u001b[38;2;230;237;243;48;2;13;17;23m{\"query\":\u001b[0m\u001b[38;2;230;237;243;48;2;13;17;23m \u001b[0m\u001b[38;2;230;237;243;48;2;13;17;23m\"посоветуй\u001b[0m\u001b[38;2;230;237;243;48;2;13;17;23m \u001b[0m\u001b[38;2;230;237;243;48;2;13;17;23mхороший\u001b[0m\u001b[38;2;230;237;243;48;2;13;17;23m \u001b[0m\u001b[38;2;230;237;243;48;2;13;17;23mяпонский\u001b[0m\u001b[38;2;230;237;243;48;2;13;17;23m \u001b[0m\u001b[38;2;230;237;243;48;2;13;17;23mресторан\u001b[0m\u001b[38;2;230;237;243;48;2;13;17;23m \u001b[0m\u001b[38;2;230;237;243;48;2;13;17;23mв\u001b[0m\u001b[38;2;230;237;243;48;2;13;17;23m \u001b[0m\u001b[38;2;230;237;243;48;2;13;17;23mМоскве\",\u001b[0m\u001b[38;2;230;237;243;48;2;13;17;23m \u001b[0m\u001b[48;2;13;17;23m            \u001b[0m\n",
       "\u001b[38;2;230;237;243;48;2;13;17;23m\"min_rating\":\u001b[0m\u001b[38;2;230;237;243;48;2;13;17;23m \u001b[0m\u001b[38;2;230;237;243;48;2;13;17;23m4}}\u001b[0m\u001b[48;2;13;17;23m                                                                                                  \u001b[0m\n"
      ]
     },
     "metadata": {},
     "output_type": "display_data"
    },
    {
     "data": {
      "text/html": [
       "<pre style=\"white-space:pre;overflow-x:auto;line-height:normal;font-family:Menlo,'DejaVu Sans Mono',consolas,'Courier New',monospace\">╭─────────────────────────────────────────────────────────────────────────────────────────────────────────────────╮\n",
       "│ Calling tool: 'travel_review_query' with arguments: {'query': 'посоветуй хороший японский ресторан в Москве',   │\n",
       "│ 'min_rating': 4}                                                                                                │\n",
       "╰─────────────────────────────────────────────────────────────────────────────────────────────────────────────────╯\n",
       "</pre>\n"
      ],
      "text/plain": [
       "╭─────────────────────────────────────────────────────────────────────────────────────────────────────────────────╮\n",
       "│ Calling tool: 'travel_review_query' with arguments: {'query': 'посоветуй хороший японский ресторан в Москве',   │\n",
       "│ 'min_rating': 4}                                                                                                │\n",
       "╰─────────────────────────────────────────────────────────────────────────────────────────────────────────────────╯\n"
      ]
     },
     "metadata": {},
     "output_type": "display_data"
    },
    {
     "data": {
      "text/html": [
       "<pre style=\"white-space:pre;overflow-x:auto;line-height:normal;font-family:Menlo,'DejaVu Sans Mono',consolas,'Courier New',monospace\">Observations: Найденные отзывы о местах:\n",
       "\n",
       "=== Отзыв на Izumi ===\n",
       "Адрес: Москва, Мясницкая улица, 38с1\n",
       "Рейтинг: <span style=\"color: #008080; text-decoration-color: #008080; font-weight: bold\">5.0</span>\n",
       "Категории: |<span style=\"color: #008000; text-decoration-color: #008000\">'Ресторан'</span>, <span style=\"color: #008000; text-decoration-color: #008000\">'Бар, паб'</span>, <span style=\"color: #008000; text-decoration-color: #008000\">'Караоке-клуб'</span><span style=\"font-weight: bold\">]</span>\n",
       "Текст: Одно из самых любимых заведений японской кухни в Москве!  За адекватную цену вы получите действительно \n",
       "вкусное, похожее на настоящее, японское блюдо. Разнообразное меню и изобилие различных видов саке. Приятный \n",
       "интерьер. Отдельно хочется отметить удобную функцию вызова официанта с помощью кнопочки на столе :<span style=\"font-weight: bold\">)</span> \n",
       "\n",
       "=== Отзыв на Tsunami Sushi &amp; Cocktails ===\n",
       "Адрес: Москва, Благовещенский переулок, 1А\n",
       "Рейтинг: <span style=\"color: #008080; text-decoration-color: #008080; font-weight: bold\">5.0</span>\n",
       "Категории: |<span style=\"color: #008000; text-decoration-color: #008000\">'Ресторан'</span>, <span style=\"color: #008000; text-decoration-color: #008000\">'Бар, паб'</span>, <span style=\"color: #008000; text-decoration-color: #008000\">'Суши-бар'</span><span style=\"font-weight: bold\">]</span>\n",
       "Текст: Бомбически! Хотела поесть действительно вкусных роллов и не прогадала с выбором места. Приятный интерьер в \n",
       "стиле неонового Токио, техно/хаус музыка, которая не отвлекает от ужина, а только добавляет атмосферы. Посадка \n",
       "практически полная, но разговоры не мешали, шумно не было.  Брали роллы Мега Лосось, Радуга, Нигири с лососем и оши\n",
       "с гребешком. Очень вкусно и очень сытно. Рыба свежая, сочетания вкусов потрясающие. Муж брал коктейли и тоже \n",
       "остался доволен.  UPD <span style=\"color: #008080; text-decoration-color: #008080; font-weight: bold\">17</span> июня <span style=\"color: #008080; text-decoration-color: #008080; font-weight: bold\">2023</span>: Выбрала Tsunami, чтобы вдвоём с мужем отпраздновать мой день рождения. Как \n",
       "всегда безукаризненное обслуживание, наивкуснейшая еда, шикарная атмосфера. Пока люимое заведение японской кухни в \n",
       "Москве, куда действительно хочется возвращаться. \n",
       "\n",
       "=== Отзыв на Тануки ===\n",
       "Адрес: Москва, Новокосинская улица, <span style=\"color: #008080; text-decoration-color: #008080; font-weight: bold\">36</span>\n",
       "Рейтинг: <span style=\"color: #008080; text-decoration-color: #008080; font-weight: bold\">4.0</span>\n",
       "Категории: |<span style=\"color: #008000; text-decoration-color: #008000\">'Ресторан'</span>, <span style=\"color: #008000; text-decoration-color: #008000\">'Суши-бар'</span>, <span style=\"color: #008000; text-decoration-color: #008000\">'Доставка еды и обедов'</span><span style=\"font-weight: bold\">]</span>\n",
       "Текст: Всем привет! Идём в <span style=\"color: #008000; text-decoration-color: #008000\">\"Тануки\"</span><span style=\"font-weight: bold\">)</span>: роллы и суши да, вкусно, качественно, порции конечно уменьшились, но в целом \n",
       "приемлимо. С детьми там можно отдохнуть, есть детская комната, в сбб и вс работают аниматоры, шум и гам стоит \n",
       "знатный!<span style=\"font-weight: bold\">))</span>. Если идти туда  без детей  на любителя,  было бы другое приличное место, хоть маленький ресторанчик, в \n",
       "Новокосино, я бы выбрала другое, без детских воплей и криков. А так  добро пожаловать, выпейте побольше пива, или \n",
       "что покрепче и шум вам ни почём!<span style=\"font-weight: bold\">)</span>😂 Обслуживание, сервис  хорошие, но не сказать, что бы впечатляющие🤷‍♂️ Вобщем, в \n",
       "Новокосино у вас всего <span style=\"color: #008080; text-decoration-color: #008080; font-weight: bold\">2</span> варианта приличного кафе <span style=\"font-weight: bold\">(</span>на ресторан это не тянет, хоть как посмотри<span style=\"font-weight: bold\">)</span> либо японская кухня\n",
       "и это <span style=\"color: #008000; text-decoration-color: #008000\">\"Тануки\"</span>, либо узбекская и это <span style=\"color: #008000; text-decoration-color: #008000\">\"Чайхона\"</span>,  удивительно, что в столице России приходится делать такой выбор! \n",
       "Если отзыв прочитает какойлибо ресторатор, то  прямо обращаюсь: <span style=\"color: #008000; text-decoration-color: #008000\">\"Откройте пожалуйста в Новокосино   кафе, с  </span>\n",
       "<span style=\"color: #008000; text-decoration-color: #008000\">привычной нам всем русской кухней!\"</span> \n",
       "\n",
       "=== Отзыв на Izumi ===\n",
       "Адрес: Москва, Мясницкая улица, 38с1\n",
       "Рейтинг: <span style=\"color: #008080; text-decoration-color: #008080; font-weight: bold\">5.0</span>\n",
       "Категории: |<span style=\"color: #008000; text-decoration-color: #008000\">'Ресторан'</span>, <span style=\"color: #008000; text-decoration-color: #008000\">'Бар, паб'</span>, <span style=\"color: #008000; text-decoration-color: #008000\">'Караоке-клуб'</span><span style=\"font-weight: bold\">]</span>\n",
       "Текст: Прекрасное место с великолепным тихим антуражем. Был днём, с друзьями. Еда от японского шефа на любой вкус, \n",
       "и для тех кто не любит рыбу и морепродукты и для тех кто их обожает. Я лично ел Тонкацу Рамен, мне очень \n",
       "понравилось, в отличии от большинства мест в Москве где всëтаки готовится под ожидания русских, тут именно что \n",
       "необычный вкус явно не из того  тех что можно попробовать в други местах.   Именно тут я пожалуй понял что именно \n",
       "японцы имеют ввиду по умами вкусом, реально очень плотный и при этом совершенно нежирный бульон просто пропитан \n",
       "вкусом который в других кухнях встречается довольно редко даже при самом поедании мяса. Однозначно рекомендую, \n",
       "однако предупреждаю что напитки как алко так и без состоят изо льда на <span style=\"color: #008080; text-decoration-color: #008080; font-weight: bold\">80</span>%. \n",
       "\n",
       "=== Отзыв на Якитория ===\n",
       "Адрес: Москва, улица Маршала Полубоярова, <span style=\"color: #008080; text-decoration-color: #008080; font-weight: bold\">1</span>\n",
       "Рейтинг: <span style=\"color: #008080; text-decoration-color: #008080; font-weight: bold\">5.0</span>\n",
       "Категории: |<span style=\"color: #008000; text-decoration-color: #008000\">'Суши-бар'</span>, <span style=\"color: #008000; text-decoration-color: #008000\">'Ресторан'</span>, <span style=\"color: #008000; text-decoration-color: #008000\">'Доставка еды и обедов'</span><span style=\"font-weight: bold\">]</span>\n",
       "Текст: Очень хороший  ресторанчик японской кухни. Заказываю всегда отсюда если хочется роллов. Очень вкусные \n",
       "горячие роллы. Детям также будет интересно перекусить тут.\n",
       "</pre>\n"
      ],
      "text/plain": [
       "Observations: Найденные отзывы о местах:\n",
       "\n",
       "=== Отзыв на Izumi ===\n",
       "Адрес: Москва, Мясницкая улица, 38с1\n",
       "Рейтинг: \u001b[1;36m5.0\u001b[0m\n",
       "Категории: |\u001b[32m'Ресторан'\u001b[0m, \u001b[32m'Бар, паб'\u001b[0m, \u001b[32m'Караоке-клуб'\u001b[0m\u001b[1m]\u001b[0m\n",
       "Текст: Одно из самых любимых заведений японской кухни в Москве!  За адекватную цену вы получите действительно \n",
       "вкусное, похожее на настоящее, японское блюдо. Разнообразное меню и изобилие различных видов саке. Приятный \n",
       "интерьер. Отдельно хочется отметить удобную функцию вызова официанта с помощью кнопочки на столе :\u001b[1m)\u001b[0m \n",
       "\n",
       "=== Отзыв на Tsunami Sushi & Cocktails ===\n",
       "Адрес: Москва, Благовещенский переулок, 1А\n",
       "Рейтинг: \u001b[1;36m5.0\u001b[0m\n",
       "Категории: |\u001b[32m'Ресторан'\u001b[0m, \u001b[32m'Бар, паб'\u001b[0m, \u001b[32m'Суши-бар'\u001b[0m\u001b[1m]\u001b[0m\n",
       "Текст: Бомбически! Хотела поесть действительно вкусных роллов и не прогадала с выбором места. Приятный интерьер в \n",
       "стиле неонового Токио, техно/хаус музыка, которая не отвлекает от ужина, а только добавляет атмосферы. Посадка \n",
       "практически полная, но разговоры не мешали, шумно не было.  Брали роллы Мега Лосось, Радуга, Нигири с лососем и оши\n",
       "с гребешком. Очень вкусно и очень сытно. Рыба свежая, сочетания вкусов потрясающие. Муж брал коктейли и тоже \n",
       "остался доволен.  UPD \u001b[1;36m17\u001b[0m июня \u001b[1;36m2023\u001b[0m: Выбрала Tsunami, чтобы вдвоём с мужем отпраздновать мой день рождения. Как \n",
       "всегда безукаризненное обслуживание, наивкуснейшая еда, шикарная атмосфера. Пока люимое заведение японской кухни в \n",
       "Москве, куда действительно хочется возвращаться. \n",
       "\n",
       "=== Отзыв на Тануки ===\n",
       "Адрес: Москва, Новокосинская улица, \u001b[1;36m36\u001b[0m\n",
       "Рейтинг: \u001b[1;36m4.0\u001b[0m\n",
       "Категории: |\u001b[32m'Ресторан'\u001b[0m, \u001b[32m'Суши-бар'\u001b[0m, \u001b[32m'Доставка еды и обедов'\u001b[0m\u001b[1m]\u001b[0m\n",
       "Текст: Всем привет! Идём в \u001b[32m\"Тануки\"\u001b[0m\u001b[1m)\u001b[0m: роллы и суши да, вкусно, качественно, порции конечно уменьшились, но в целом \n",
       "приемлимо. С детьми там можно отдохнуть, есть детская комната, в сбб и вс работают аниматоры, шум и гам стоит \n",
       "знатный!\u001b[1m)\u001b[0m\u001b[1m)\u001b[0m. Если идти туда  без детей  на любителя,  было бы другое приличное место, хоть маленький ресторанчик, в \n",
       "Новокосино, я бы выбрала другое, без детских воплей и криков. А так  добро пожаловать, выпейте побольше пива, или \n",
       "что покрепче и шум вам ни почём!\u001b[1m)\u001b[0m😂 Обслуживание, сервис  хорошие, но не сказать, что бы впечатляющие🤷‍♂️ Вобщем, в \n",
       "Новокосино у вас всего \u001b[1;36m2\u001b[0m варианта приличного кафе \u001b[1m(\u001b[0mна ресторан это не тянет, хоть как посмотри\u001b[1m)\u001b[0m либо японская кухня\n",
       "и это \u001b[32m\"Тануки\"\u001b[0m, либо узбекская и это \u001b[32m\"Чайхона\"\u001b[0m,  удивительно, что в столице России приходится делать такой выбор! \n",
       "Если отзыв прочитает какойлибо ресторатор, то  прямо обращаюсь: \u001b[32m\"Откройте пожалуйста в Новокосино   кафе, с  \u001b[0m\n",
       "\u001b[32mпривычной нам всем русской кухней!\"\u001b[0m \n",
       "\n",
       "=== Отзыв на Izumi ===\n",
       "Адрес: Москва, Мясницкая улица, 38с1\n",
       "Рейтинг: \u001b[1;36m5.0\u001b[0m\n",
       "Категории: |\u001b[32m'Ресторан'\u001b[0m, \u001b[32m'Бар, паб'\u001b[0m, \u001b[32m'Караоке-клуб'\u001b[0m\u001b[1m]\u001b[0m\n",
       "Текст: Прекрасное место с великолепным тихим антуражем. Был днём, с друзьями. Еда от японского шефа на любой вкус, \n",
       "и для тех кто не любит рыбу и морепродукты и для тех кто их обожает. Я лично ел Тонкацу Рамен, мне очень \n",
       "понравилось, в отличии от большинства мест в Москве где всëтаки готовится под ожидания русских, тут именно что \n",
       "необычный вкус явно не из того  тех что можно попробовать в други местах.   Именно тут я пожалуй понял что именно \n",
       "японцы имеют ввиду по умами вкусом, реально очень плотный и при этом совершенно нежирный бульон просто пропитан \n",
       "вкусом который в других кухнях встречается довольно редко даже при самом поедании мяса. Однозначно рекомендую, \n",
       "однако предупреждаю что напитки как алко так и без состоят изо льда на \u001b[1;36m80\u001b[0m%. \n",
       "\n",
       "=== Отзыв на Якитория ===\n",
       "Адрес: Москва, улица Маршала Полубоярова, \u001b[1;36m1\u001b[0m\n",
       "Рейтинг: \u001b[1;36m5.0\u001b[0m\n",
       "Категории: |\u001b[32m'Суши-бар'\u001b[0m, \u001b[32m'Ресторан'\u001b[0m, \u001b[32m'Доставка еды и обедов'\u001b[0m\u001b[1m]\u001b[0m\n",
       "Текст: Очень хороший  ресторанчик японской кухни. Заказываю всегда отсюда если хочется роллов. Очень вкусные \n",
       "горячие роллы. Детям также будет интересно перекусить тут.\n"
      ]
     },
     "metadata": {},
     "output_type": "display_data"
    },
    {
     "data": {
      "text/html": [
       "<pre style=\"white-space:pre;overflow-x:auto;line-height:normal;font-family:Menlo,'DejaVu Sans Mono',consolas,'Courier New',monospace\"><span style=\"color: #7f7f7f; text-decoration-color: #7f7f7f\">[Step 1: Duration 4.03 seconds| Input tokens: 1,834 | Output tokens: 40]</span>\n",
       "</pre>\n"
      ],
      "text/plain": [
       "\u001b[2m[Step 1: Duration 4.03 seconds| Input tokens: 1,834 | Output tokens: 40]\u001b[0m\n"
      ]
     },
     "metadata": {},
     "output_type": "display_data"
    },
    {
     "data": {
      "text/html": [
       "<pre style=\"white-space:pre;overflow-x:auto;line-height:normal;font-family:Menlo,'DejaVu Sans Mono',consolas,'Courier New',monospace\"><span style=\"color: #d4b702; text-decoration-color: #d4b702\">━━━━━━━━━━━━━━━━━━━━━━━━━━━━━━━━━━━━━━━━━━━━━━━━━━━━━ </span><span style=\"font-weight: bold\">Step </span><span style=\"color: #008080; text-decoration-color: #008080; font-weight: bold\">2</span><span style=\"color: #d4b702; text-decoration-color: #d4b702\"> ━━━━━━━━━━━━━━━━━━━━━━━━━━━━━━━━━━━━━━━━━━━━━━━━━━━━━━</span>\n",
       "</pre>\n"
      ],
      "text/plain": [
       "\u001b[38;2;212;183;2m━━━━━━━━━━━━━━━━━━━━━━━━━━━━━━━━━━━━━━━━━━━━━━━━━━━━━ \u001b[0m\u001b[1mStep \u001b[0m\u001b[1;36m2\u001b[0m\u001b[38;2;212;183;2m ━━━━━━━━━━━━━━━━━━━━━━━━━━━━━━━━━━━━━━━━━━━━━━━━━━━━━━\u001b[0m\n"
      ]
     },
     "metadata": {},
     "output_type": "display_data"
    },
    {
     "data": {
      "text/html": [
       "<pre style=\"white-space:pre;overflow-x:auto;line-height:normal;font-family:Menlo,'DejaVu Sans Mono',consolas,'Courier New',monospace\"><span style=\"font-weight: bold; font-style: italic\">Output message of the LLM:</span> <span style=\"color: #d4b702; text-decoration-color: #d4b702\">────────────────────────────────────────────────────────────────────────────────────────</span>\n",
       "<span style=\"color: #e6edf3; text-decoration-color: #e6edf3; background-color: #0d1117\">{</span><span style=\"background-color: #0d1117\">                                                                                                                  </span>\n",
       "<span style=\"color: #e6edf3; text-decoration-color: #e6edf3; background-color: #0d1117\">  \"name\": \"final_answer\",</span><span style=\"background-color: #0d1117\">                                                                                          </span>\n",
       "<span style=\"color: #e6edf3; text-decoration-color: #e6edf3; background-color: #0d1117\">  \"arguments\": {\"answer\": \"На основе положительных отзывов рекомендую посетить ресторан </span><span style=\"color: #e6edf3; text-decoration-color: #e6edf3; background-color: #0d1117; font-weight: bold\">**Izumi**</span><span style=\"color: #e6edf3; text-decoration-color: #e6edf3; background-color: #0d1117\"> по адресу Москва,</span>\n",
       "<span style=\"color: #e6edf3; text-decoration-color: #e6edf3; background-color: #0d1117\">Мясницкая улица, 38с1. Отмечают разнообразие меню и высокое качество блюд японской кухни. Также стоит обратить </span><span style=\"background-color: #0d1117\">    </span>\n",
       "<span style=\"color: #e6edf3; text-decoration-color: #e6edf3; background-color: #0d1117\">внимание на Tsunami Sushi &amp; Cocktails в Благовещенском переулке за атмосферу неонового Токио и отличные коктейли.\"}</span>\n",
       "<span style=\"color: #e6edf3; text-decoration-color: #e6edf3; background-color: #0d1117\">}</span><span style=\"background-color: #0d1117\">                                                                                                                  </span>\n",
       "</pre>\n"
      ],
      "text/plain": [
       "\u001b[1;3mOutput message of the LLM:\u001b[0m \u001b[38;2;212;183;2m────────────────────────────────────────────────────────────────────────────────────────\u001b[0m\n",
       "\u001b[38;2;230;237;243;48;2;13;17;23m{\u001b[0m\u001b[48;2;13;17;23m                                                                                                                  \u001b[0m\n",
       "\u001b[38;2;230;237;243;48;2;13;17;23m \u001b[0m\u001b[38;2;230;237;243;48;2;13;17;23m \u001b[0m\u001b[38;2;230;237;243;48;2;13;17;23m\"name\":\u001b[0m\u001b[38;2;230;237;243;48;2;13;17;23m \u001b[0m\u001b[38;2;230;237;243;48;2;13;17;23m\"final_answer\",\u001b[0m\u001b[48;2;13;17;23m                                                                                          \u001b[0m\n",
       "\u001b[38;2;230;237;243;48;2;13;17;23m \u001b[0m\u001b[38;2;230;237;243;48;2;13;17;23m \u001b[0m\u001b[38;2;230;237;243;48;2;13;17;23m\"arguments\":\u001b[0m\u001b[38;2;230;237;243;48;2;13;17;23m \u001b[0m\u001b[38;2;230;237;243;48;2;13;17;23m{\"answer\":\u001b[0m\u001b[38;2;230;237;243;48;2;13;17;23m \u001b[0m\u001b[38;2;230;237;243;48;2;13;17;23m\"На\u001b[0m\u001b[38;2;230;237;243;48;2;13;17;23m \u001b[0m\u001b[38;2;230;237;243;48;2;13;17;23mоснове\u001b[0m\u001b[38;2;230;237;243;48;2;13;17;23m \u001b[0m\u001b[38;2;230;237;243;48;2;13;17;23mположительных\u001b[0m\u001b[38;2;230;237;243;48;2;13;17;23m \u001b[0m\u001b[38;2;230;237;243;48;2;13;17;23mотзывов\u001b[0m\u001b[38;2;230;237;243;48;2;13;17;23m \u001b[0m\u001b[38;2;230;237;243;48;2;13;17;23mрекомендую\u001b[0m\u001b[38;2;230;237;243;48;2;13;17;23m \u001b[0m\u001b[38;2;230;237;243;48;2;13;17;23mпосетить\u001b[0m\u001b[38;2;230;237;243;48;2;13;17;23m \u001b[0m\u001b[38;2;230;237;243;48;2;13;17;23mресторан\u001b[0m\u001b[38;2;230;237;243;48;2;13;17;23m \u001b[0m\u001b[1;38;2;230;237;243;48;2;13;17;23m**Izumi**\u001b[0m\u001b[38;2;230;237;243;48;2;13;17;23m \u001b[0m\u001b[38;2;230;237;243;48;2;13;17;23mпо\u001b[0m\u001b[38;2;230;237;243;48;2;13;17;23m \u001b[0m\u001b[38;2;230;237;243;48;2;13;17;23mадресу\u001b[0m\u001b[38;2;230;237;243;48;2;13;17;23m \u001b[0m\u001b[38;2;230;237;243;48;2;13;17;23mМосква,\u001b[0m\n",
       "\u001b[38;2;230;237;243;48;2;13;17;23mМясницкая\u001b[0m\u001b[38;2;230;237;243;48;2;13;17;23m \u001b[0m\u001b[38;2;230;237;243;48;2;13;17;23mулица,\u001b[0m\u001b[38;2;230;237;243;48;2;13;17;23m \u001b[0m\u001b[38;2;230;237;243;48;2;13;17;23m38с1.\u001b[0m\u001b[38;2;230;237;243;48;2;13;17;23m \u001b[0m\u001b[38;2;230;237;243;48;2;13;17;23mОтмечают\u001b[0m\u001b[38;2;230;237;243;48;2;13;17;23m \u001b[0m\u001b[38;2;230;237;243;48;2;13;17;23mразнообразие\u001b[0m\u001b[38;2;230;237;243;48;2;13;17;23m \u001b[0m\u001b[38;2;230;237;243;48;2;13;17;23mменю\u001b[0m\u001b[38;2;230;237;243;48;2;13;17;23m \u001b[0m\u001b[38;2;230;237;243;48;2;13;17;23mи\u001b[0m\u001b[38;2;230;237;243;48;2;13;17;23m \u001b[0m\u001b[38;2;230;237;243;48;2;13;17;23mвысокое\u001b[0m\u001b[38;2;230;237;243;48;2;13;17;23m \u001b[0m\u001b[38;2;230;237;243;48;2;13;17;23mкачество\u001b[0m\u001b[38;2;230;237;243;48;2;13;17;23m \u001b[0m\u001b[38;2;230;237;243;48;2;13;17;23mблюд\u001b[0m\u001b[38;2;230;237;243;48;2;13;17;23m \u001b[0m\u001b[38;2;230;237;243;48;2;13;17;23mяпонской\u001b[0m\u001b[38;2;230;237;243;48;2;13;17;23m \u001b[0m\u001b[38;2;230;237;243;48;2;13;17;23mкухни.\u001b[0m\u001b[38;2;230;237;243;48;2;13;17;23m \u001b[0m\u001b[38;2;230;237;243;48;2;13;17;23mТакже\u001b[0m\u001b[38;2;230;237;243;48;2;13;17;23m \u001b[0m\u001b[38;2;230;237;243;48;2;13;17;23mстоит\u001b[0m\u001b[38;2;230;237;243;48;2;13;17;23m \u001b[0m\u001b[38;2;230;237;243;48;2;13;17;23mобратить\u001b[0m\u001b[38;2;230;237;243;48;2;13;17;23m \u001b[0m\u001b[48;2;13;17;23m    \u001b[0m\n",
       "\u001b[38;2;230;237;243;48;2;13;17;23mвнимание\u001b[0m\u001b[38;2;230;237;243;48;2;13;17;23m \u001b[0m\u001b[38;2;230;237;243;48;2;13;17;23mна\u001b[0m\u001b[38;2;230;237;243;48;2;13;17;23m \u001b[0m\u001b[38;2;230;237;243;48;2;13;17;23mTsunami\u001b[0m\u001b[38;2;230;237;243;48;2;13;17;23m \u001b[0m\u001b[38;2;230;237;243;48;2;13;17;23mSushi\u001b[0m\u001b[38;2;230;237;243;48;2;13;17;23m \u001b[0m\u001b[38;2;230;237;243;48;2;13;17;23m&\u001b[0m\u001b[38;2;230;237;243;48;2;13;17;23m \u001b[0m\u001b[38;2;230;237;243;48;2;13;17;23mCocktails\u001b[0m\u001b[38;2;230;237;243;48;2;13;17;23m \u001b[0m\u001b[38;2;230;237;243;48;2;13;17;23mв\u001b[0m\u001b[38;2;230;237;243;48;2;13;17;23m \u001b[0m\u001b[38;2;230;237;243;48;2;13;17;23mБлаговещенском\u001b[0m\u001b[38;2;230;237;243;48;2;13;17;23m \u001b[0m\u001b[38;2;230;237;243;48;2;13;17;23mпереулке\u001b[0m\u001b[38;2;230;237;243;48;2;13;17;23m \u001b[0m\u001b[38;2;230;237;243;48;2;13;17;23mза\u001b[0m\u001b[38;2;230;237;243;48;2;13;17;23m \u001b[0m\u001b[38;2;230;237;243;48;2;13;17;23mатмосферу\u001b[0m\u001b[38;2;230;237;243;48;2;13;17;23m \u001b[0m\u001b[38;2;230;237;243;48;2;13;17;23mнеонового\u001b[0m\u001b[38;2;230;237;243;48;2;13;17;23m \u001b[0m\u001b[38;2;230;237;243;48;2;13;17;23mТокио\u001b[0m\u001b[38;2;230;237;243;48;2;13;17;23m \u001b[0m\u001b[38;2;230;237;243;48;2;13;17;23mи\u001b[0m\u001b[38;2;230;237;243;48;2;13;17;23m \u001b[0m\u001b[38;2;230;237;243;48;2;13;17;23mотличные\u001b[0m\u001b[38;2;230;237;243;48;2;13;17;23m \u001b[0m\u001b[38;2;230;237;243;48;2;13;17;23mкоктейли.\"}\u001b[0m\n",
       "\u001b[38;2;230;237;243;48;2;13;17;23m}\u001b[0m\u001b[48;2;13;17;23m                                                                                                                  \u001b[0m\n"
      ]
     },
     "metadata": {},
     "output_type": "display_data"
    },
    {
     "data": {
      "text/html": [
       "<pre style=\"white-space:pre;overflow-x:auto;line-height:normal;font-family:Menlo,'DejaVu Sans Mono',consolas,'Courier New',monospace\">╭─────────────────────────────────────────────────────────────────────────────────────────────────────────────────╮\n",
       "│ Calling tool: 'final_answer' with arguments: {'answer': 'На основе положительных отзывов рекомендую посетить    │\n",
       "│ ресторан **Izumi** по адресу Москва, Мясницкая улица, 38с1. Отмечают разнообразие меню и высокое качество блюд  │\n",
       "│ японской кухни. Также стоит обратить внимание на Tsunami Sushi &amp; Cocktails в Благовещенском переулке за         │\n",
       "│ атмосферу неонового Токио и отличные коктейли.'}                                                                │\n",
       "╰─────────────────────────────────────────────────────────────────────────────────────────────────────────────────╯\n",
       "</pre>\n"
      ],
      "text/plain": [
       "╭─────────────────────────────────────────────────────────────────────────────────────────────────────────────────╮\n",
       "│ Calling tool: 'final_answer' with arguments: {'answer': 'На основе положительных отзывов рекомендую посетить    │\n",
       "│ ресторан **Izumi** по адресу Москва, Мясницкая улица, 38с1. Отмечают разнообразие меню и высокое качество блюд  │\n",
       "│ японской кухни. Также стоит обратить внимание на Tsunami Sushi & Cocktails в Благовещенском переулке за         │\n",
       "│ атмосферу неонового Токио и отличные коктейли.'}                                                                │\n",
       "╰─────────────────────────────────────────────────────────────────────────────────────────────────────────────────╯\n"
      ]
     },
     "metadata": {},
     "output_type": "display_data"
    },
    {
     "data": {
      "text/html": [
       "<pre style=\"white-space:pre;overflow-x:auto;line-height:normal;font-family:Menlo,'DejaVu Sans Mono',consolas,'Courier New',monospace\"><span style=\"color: #d4b702; text-decoration-color: #d4b702; font-weight: bold\">Final answer: На основе положительных отзывов рекомендую посетить ресторан **Izumi** по адресу Москва, Мясницкая </span>\n",
       "<span style=\"color: #d4b702; text-decoration-color: #d4b702; font-weight: bold\">улица, 38с1. Отмечают разнообразие меню и высокое качество блюд японской кухни. Также стоит обратить внимание на </span>\n",
       "<span style=\"color: #d4b702; text-decoration-color: #d4b702; font-weight: bold\">Tsunami Sushi &amp; Cocktails в Благовещенском переулке за атмосферу неонового Токио и отличные коктейли.</span>\n",
       "</pre>\n"
      ],
      "text/plain": [
       "\u001b[1;38;2;212;183;2mFinal answer: На основе положительных отзывов рекомендую посетить ресторан **Izumi** по адресу Москва, Мясницкая \u001b[0m\n",
       "\u001b[1;38;2;212;183;2mулица, 38с1. Отмечают разнообразие меню и высокое качество блюд японской кухни. Также стоит обратить внимание на \u001b[0m\n",
       "\u001b[1;38;2;212;183;2mTsunami Sushi & Cocktails в Благовещенском переулке за атмосферу неонового Токио и отличные коктейли.\u001b[0m\n"
      ]
     },
     "metadata": {},
     "output_type": "display_data"
    },
    {
     "data": {
      "text/html": [
       "<pre style=\"white-space:pre;overflow-x:auto;line-height:normal;font-family:Menlo,'DejaVu Sans Mono',consolas,'Courier New',monospace\"><span style=\"color: #7f7f7f; text-decoration-color: #7f7f7f\">[Step 2: Duration 22.63 seconds| Input tokens: 5,123 | Output tokens: 161]</span>\n",
       "</pre>\n"
      ],
      "text/plain": [
       "\u001b[2m[Step 2: Duration 22.63 seconds| Input tokens: 5,123 | Output tokens: 161]\u001b[0m\n"
      ]
     },
     "metadata": {},
     "output_type": "display_data"
    },
    {
     "name": "stdout",
     "output_type": "stream",
     "text": [
      "На основе положительных отзывов рекомендую посетить ресторан **Izumi** по адресу Москва, Мясницкая улица, 38с1. Отмечают разнообразие меню и высокое качество блюд японской кухни. Также стоит обратить внимание на Tsunami Sushi & Cocktails в Благовещенском переулке за атмосферу неонового Токио и отличные коктейли.\n"
     ]
    }
   ],
   "source": [
    "print(agent.run(\"Я бы хотел посетить японский ресторан. Можешь ли посоветовать хороший в Москве?\"))"
   ]
  },
  {
   "cell_type": "code",
   "execution_count": 21,
   "id": "82dafa86",
   "metadata": {},
   "outputs": [
    {
     "data": {
      "text/plain": [
       "[TaskStep(task='Я бы хотел посетить японский ресторан. Можешь ли посоветовать хороший в Москве?', task_images=None),\n",
       " ActionStep(model_input_messages=[{'role': <MessageRole.SYSTEM: 'system'>, 'content': [{'type': 'text', 'text': 'You are an expert assistant who can solve any task using tool calls. You will be given a task to solve as best you can.\\nTo do so, you have been given access to some tools.\\n\\nThe tool call you write is an action: after the tool is executed, you will get the result of the tool call as an \"observation\".\\nThis Action/Observation can repeat N times, you should take several steps when needed.\\n\\nYou can use the result of the previous action as input for the next action.\\nThe observation will always be a string: it can represent a file, like \"image_1.jpg\".\\nThen you can use it as input for the next action. You can do it for instance as follows:\\n\\nObservation: \"image_1.jpg\"\\n\\nAction:\\n{\\n  \"name\": \"image_transformer\",\\n  \"arguments\": {\"image\": \"image_1.jpg\"}\\n}\\n\\nTo provide the final answer to the task, use an action blob with \"name\": \"final_answer\" tool. It is the only way to complete the task, else you will be stuck on a loop. So your final output should look like this:\\nAction:\\n{\\n  \"name\": \"final_answer\",\\n  \"arguments\": {\"answer\": \"insert your final answer here\"}\\n}\\n\\n\\nHere are a few examples using notional tools:\\n---\\nTask: \"Generate an image of the oldest person in this document.\"\\n\\nAction:\\n{\\n  \"name\": \"document_qa\",\\n  \"arguments\": {\"document\": \"document.pdf\", \"question\": \"Who is the oldest person mentioned?\"}\\n}\\nObservation: \"The oldest person in the document is John Doe, a 55 year old lumberjack living in Newfoundland.\"\\n\\nAction:\\n{\\n  \"name\": \"image_generator\",\\n  \"arguments\": {\"prompt\": \"A portrait of John Doe, a 55-year-old man living in Canada.\"}\\n}\\nObservation: \"image.png\"\\n\\nAction:\\n{\\n  \"name\": \"final_answer\",\\n  \"arguments\": \"image.png\"\\n}\\n\\n---\\nTask: \"What is the result of the following operation: 5 + 3 + 1294.678?\"\\n\\nAction:\\n{\\n    \"name\": \"python_interpreter\",\\n    \"arguments\": {\"code\": \"5 + 3 + 1294.678\"}\\n}\\nObservation: 1302.678\\n\\nAction:\\n{\\n  \"name\": \"final_answer\",\\n  \"arguments\": \"1302.678\"\\n}\\n\\n---\\nTask: \"Which city has the highest population , Guangzhou or Shanghai?\"\\n\\nAction:\\n{\\n    \"name\": \"search\",\\n    \"arguments\": \"Population Guangzhou\"\\n}\\nObservation: [\\'Guangzhou has a population of 15 million inhabitants as of 2021.\\']\\n\\n\\nAction:\\n{\\n    \"name\": \"search\",\\n    \"arguments\": \"Population Shanghai\"\\n}\\nObservation: \\'26 million (2019)\\'\\n\\nAction:\\n{\\n  \"name\": \"final_answer\",\\n  \"arguments\": \"Shanghai\"\\n}\\n\\nAbove example were using notional tools that might not exist for you. You only have access to these tools:\\n- travel_review_query: Использует семантический поиск для извлечения отзывов на различные заведения. Важно: не упоминайте весь текст отзыва в ответе. Разрешено использовать только смысл содержания, например: \"Посетители отмечают, что в заведении чисто и комфортно\"\\n    Takes inputs: {\\'query\\': {\\'type\\': \\'string\\', \\'description\\': \\'Запрос для поиска отзыва. Должен быть семантически близок к искомым отзывам, например: посоветуй хорошую кофейню в Москве.\\'}, \\'min_rating\\': {\\'type\\': \\'integer\\', \\'description\\': \\'Опциональное поле, фильтр минимального рейтинга (от 1 до 5)\\', \\'nullable\\': True}, \\'address\\': {\\'type\\': \\'string\\', \\'description\\': \\'Опциональное поле, ключевое слово из адреса (город или улица), например: \"Москва\", \"улица Энгельса\"\\', \\'nullable\\': True}, \\'rubrics\\': {\\'type\\': \\'string\\', \\'description\\': \\'Опциональное поле, использовать его только если не получилось получить подходящих результатов по параметру \"query\". Аргумент можно получить из утилиты get_existing_travel_review_rubrics\\', \\'nullable\\': True}}\\n    Returns an output of type: string\\n- get_existing_travel_review_rubrics: Получение возможных значений рубрик. Использовать если нужно вызвать утилиту \"travel_review_query\" с аргументом \"rubrics\"\\n    Takes inputs: {\\'limit\\': {\\'type\\': \\'integer\\', \\'description\\': \\'Лимит рубрик в ответе. По-умолчанию 20\\', \\'nullable\\': True}, \\'offset\\': {\\'type\\': \\'integer\\', \\'description\\': \\'Отступ\\', \\'nullable\\': True}}\\n    Returns an output of type: string\\n- final_answer: Provides a final answer to the given problem.\\n    Takes inputs: {\\'answer\\': {\\'type\\': \\'any\\', \\'description\\': \\'The final answer to the problem\\'}}\\n    Returns an output of type: any\\n\\nHere are the rules you should always follow to solve your task:\\n1. ALWAYS provide a tool call, else you will fail.\\n2. Always use the right arguments for the tools. Never use variable names as the action arguments, use the value instead.\\n3. Call a tool only when needed: do not call the search agent if you do not need information, try to solve the task yourself.\\nIf no tool call is needed, use final_answer tool to return your answer.\\n4. Never re-do a tool call that you previously did with the exact same parameters.\\n\\nNow Begin!'}]}, {'role': <MessageRole.USER: 'user'>, 'content': [{'type': 'text', 'text': 'New task:\\nЯ бы хотел посетить японский ресторан. Можешь ли посоветовать хороший в Москве?'}]}], tool_calls=[ToolCall(name='travel_review_query', arguments={'query': 'посоветуй хороший японский ресторан в Москве', 'min_rating': 4}, id='313d14fb-cfab-40b9-b5c2-9ee30a44a4ab')], start_time=1745685892.3222232, end_time=1745685896.349452, step_number=1, error=None, duration=4.027228832244873, model_output_message=ChatMessage(role=<MessageRole.ASSISTANT: 'assistant'>, content='{\"name\": \"travel_review_query\", \"arguments\": {\"query\": \"посоветуй хороший японский ресторан в Москве\", \"min_rating\": 4}}', tool_calls=[ChatMessageToolCall(function=ChatMessageToolCallDefinition(arguments={'query': 'посоветуй хороший японский ресторан в Москве', 'min_rating': 4}, name='travel_review_query', description=None), id='313d14fb-cfab-40b9-b5c2-9ee30a44a4ab', type='function')], raw=ModelResponse(id='chatcmpl-c3c3a069-306a-4a57-8a67-95e93382d898', created=1745685896, model='ollama_chat/hf.co/IlyaGusev/saiga_nemo_12b_gguf:Q4_0', object='chat.completion', system_fingerprint=None, choices=[Choices(finish_reason='stop', index=0, message=Message(content='{\"name\": \"travel_review_query\", \"arguments\": {\"query\": \"посоветуй хороший японский ресторан в Москве\", \"min_rating\": 4}}', role='assistant', tool_calls=None, function_call=None, provider_specific_fields=None))], usage=Usage(completion_tokens=40, prompt_tokens=1834, total_tokens=1874, completion_tokens_details=None, prompt_tokens_details=None))), model_output=\"Called Tool: 'travel_review_query' with arguments: {'query': 'посоветуй хороший японский ресторан в Москве', 'min_rating': 4}\", observations='Найденные отзывы о местах:\\n\\n=== Отзыв на Izumi ===\\nАдрес: Москва, Мясницкая улица, 38с1\\nРейтинг: 5.0\\nКатегории: [\\'Ресторан\\', \\'Бар, паб\\', \\'Караоке-клуб\\']\\nТекст: Одно из самых любимых заведений японской кухни в Москве!  За адекватную цену вы получите действительно вкусное, похожее на настоящее, японское блюдо. Разнообразное меню и изобилие различных видов саке. Приятный интерьер. Отдельно хочется отметить удобную функцию вызова официанта с помощью кнопочки на столе :) \\n\\n=== Отзыв на Tsunami Sushi & Cocktails ===\\nАдрес: Москва, Благовещенский переулок, 1А\\nРейтинг: 5.0\\nКатегории: [\\'Ресторан\\', \\'Бар, паб\\', \\'Суши-бар\\']\\nТекст: Бомбически! Хотела поесть действительно вкусных роллов и не прогадала с выбором места. Приятный интерьер в стиле неонового Токио, техно/хаус музыка, которая не отвлекает от ужина, а только добавляет атмосферы. Посадка практически полная, но разговоры не мешали, шумно не было.  Брали роллы Мега Лосось, Радуга, Нигири с лососем и оши с гребешком. Очень вкусно и очень сытно. Рыба свежая, сочетания вкусов потрясающие. Муж брал коктейли и тоже остался доволен.  UPD 17 июня 2023: Выбрала Tsunami, чтобы вдвоём с мужем отпраздновать мой день рождения. Как всегда безукаризненное обслуживание, наивкуснейшая еда, шикарная атмосфера. Пока люимое заведение японской кухни в Москве, куда действительно хочется возвращаться. \\n\\n=== Отзыв на Тануки ===\\nАдрес: Москва, Новокосинская улица, 36\\nРейтинг: 4.0\\nКатегории: [\\'Ресторан\\', \\'Суши-бар\\', \\'Доставка еды и обедов\\']\\nТекст: Всем привет! Идём в \"Тануки\"): роллы и суши да, вкусно, качественно, порции конечно уменьшились, но в целом  приемлимо. С детьми там можно отдохнуть, есть детская комната, в сбб и вс работают аниматоры, шум и гам стоит знатный!)). Если идти туда  без детей  на любителя,  было бы другое приличное место, хоть маленький ресторанчик, в Новокосино, я бы выбрала другое, без детских воплей и криков. А так  добро пожаловать, выпейте побольше пива, или что покрепче и шум вам ни почём!)😂 Обслуживание, сервис  хорошие, но не сказать, что бы впечатляющие🤷\\u200d♂️ Вобщем, в Новокосино у вас всего 2 варианта приличного кафе (на ресторан это не тянет, хоть как посмотри) либо японская кухня и это \"Тануки\", либо узбекская и это \"Чайхона\",  удивительно, что в столице России приходится делать такой выбор! Если отзыв прочитает какойлибо ресторатор, то  прямо обращаюсь: \"Откройте пожалуйста в Новокосино   кафе, с  привычной нам всем русской кухней!\" \\n\\n=== Отзыв на Izumi ===\\nАдрес: Москва, Мясницкая улица, 38с1\\nРейтинг: 5.0\\nКатегории: [\\'Ресторан\\', \\'Бар, паб\\', \\'Караоке-клуб\\']\\nТекст: Прекрасное место с великолепным тихим антуражем. Был днём, с друзьями. Еда от японского шефа на любой вкус, и для тех кто не любит рыбу и морепродукты и для тех кто их обожает. Я лично ел Тонкацу Рамен, мне очень понравилось, в отличии от большинства мест в Москве где всëтаки готовится под ожидания русских, тут именно что необычный вкус явно не из того  тех что можно попробовать в други местах.   Именно тут я пожалуй понял что именно японцы имеют ввиду по умами вкусом, реально очень плотный и при этом совершенно нежирный бульон просто пропитан вкусом который в других кухнях встречается довольно редко даже при самом поедании мяса. Однозначно рекомендую, однако предупреждаю что напитки как алко так и без состоят изо льда на 80%. \\n\\n=== Отзыв на Якитория ===\\nАдрес: Москва, улица Маршала Полубоярова, 1\\nРейтинг: 5.0\\nКатегории: [\\'Суши-бар\\', \\'Ресторан\\', \\'Доставка еды и обедов\\']\\nТекст: Очень хороший  ресторанчик японской кухни. Заказываю всегда отсюда если хочется роллов. Очень вкусные горячие роллы. Детям также будет интересно перекусить тут.', observations_images=None, action_output=None),\n",
       " ActionStep(model_input_messages=[{'role': <MessageRole.SYSTEM: 'system'>, 'content': [{'type': 'text', 'text': 'You are an expert assistant who can solve any task using tool calls. You will be given a task to solve as best you can.\\nTo do so, you have been given access to some tools.\\n\\nThe tool call you write is an action: after the tool is executed, you will get the result of the tool call as an \"observation\".\\nThis Action/Observation can repeat N times, you should take several steps when needed.\\n\\nYou can use the result of the previous action as input for the next action.\\nThe observation will always be a string: it can represent a file, like \"image_1.jpg\".\\nThen you can use it as input for the next action. You can do it for instance as follows:\\n\\nObservation: \"image_1.jpg\"\\n\\nAction:\\n{\\n  \"name\": \"image_transformer\",\\n  \"arguments\": {\"image\": \"image_1.jpg\"}\\n}\\n\\nTo provide the final answer to the task, use an action blob with \"name\": \"final_answer\" tool. It is the only way to complete the task, else you will be stuck on a loop. So your final output should look like this:\\nAction:\\n{\\n  \"name\": \"final_answer\",\\n  \"arguments\": {\"answer\": \"insert your final answer here\"}\\n}\\n\\n\\nHere are a few examples using notional tools:\\n---\\nTask: \"Generate an image of the oldest person in this document.\"\\n\\nAction:\\n{\\n  \"name\": \"document_qa\",\\n  \"arguments\": {\"document\": \"document.pdf\", \"question\": \"Who is the oldest person mentioned?\"}\\n}\\nObservation: \"The oldest person in the document is John Doe, a 55 year old lumberjack living in Newfoundland.\"\\n\\nAction:\\n{\\n  \"name\": \"image_generator\",\\n  \"arguments\": {\"prompt\": \"A portrait of John Doe, a 55-year-old man living in Canada.\"}\\n}\\nObservation: \"image.png\"\\n\\nAction:\\n{\\n  \"name\": \"final_answer\",\\n  \"arguments\": \"image.png\"\\n}\\n\\n---\\nTask: \"What is the result of the following operation: 5 + 3 + 1294.678?\"\\n\\nAction:\\n{\\n    \"name\": \"python_interpreter\",\\n    \"arguments\": {\"code\": \"5 + 3 + 1294.678\"}\\n}\\nObservation: 1302.678\\n\\nAction:\\n{\\n  \"name\": \"final_answer\",\\n  \"arguments\": \"1302.678\"\\n}\\n\\n---\\nTask: \"Which city has the highest population , Guangzhou or Shanghai?\"\\n\\nAction:\\n{\\n    \"name\": \"search\",\\n    \"arguments\": \"Population Guangzhou\"\\n}\\nObservation: [\\'Guangzhou has a population of 15 million inhabitants as of 2021.\\']\\n\\n\\nAction:\\n{\\n    \"name\": \"search\",\\n    \"arguments\": \"Population Shanghai\"\\n}\\nObservation: \\'26 million (2019)\\'\\n\\nAction:\\n{\\n  \"name\": \"final_answer\",\\n  \"arguments\": \"Shanghai\"\\n}\\n\\nAbove example were using notional tools that might not exist for you. You only have access to these tools:\\n- travel_review_query: Использует семантический поиск для извлечения отзывов на различные заведения. Важно: не упоминайте весь текст отзыва в ответе. Разрешено использовать только смысл содержания, например: \"Посетители отмечают, что в заведении чисто и комфортно\"\\n    Takes inputs: {\\'query\\': {\\'type\\': \\'string\\', \\'description\\': \\'Запрос для поиска отзыва. Должен быть семантически близок к искомым отзывам, например: посоветуй хорошую кофейню в Москве.\\'}, \\'min_rating\\': {\\'type\\': \\'integer\\', \\'description\\': \\'Опциональное поле, фильтр минимального рейтинга (от 1 до 5)\\', \\'nullable\\': True}, \\'address\\': {\\'type\\': \\'string\\', \\'description\\': \\'Опциональное поле, ключевое слово из адреса (город или улица), например: \"Москва\", \"улица Энгельса\"\\', \\'nullable\\': True}, \\'rubrics\\': {\\'type\\': \\'string\\', \\'description\\': \\'Опциональное поле, использовать его только если не получилось получить подходящих результатов по параметру \"query\". Аргумент можно получить из утилиты get_existing_travel_review_rubrics\\', \\'nullable\\': True}}\\n    Returns an output of type: string\\n- get_existing_travel_review_rubrics: Получение возможных значений рубрик. Использовать если нужно вызвать утилиту \"travel_review_query\" с аргументом \"rubrics\"\\n    Takes inputs: {\\'limit\\': {\\'type\\': \\'integer\\', \\'description\\': \\'Лимит рубрик в ответе. По-умолчанию 20\\', \\'nullable\\': True}, \\'offset\\': {\\'type\\': \\'integer\\', \\'description\\': \\'Отступ\\', \\'nullable\\': True}}\\n    Returns an output of type: string\\n- final_answer: Provides a final answer to the given problem.\\n    Takes inputs: {\\'answer\\': {\\'type\\': \\'any\\', \\'description\\': \\'The final answer to the problem\\'}}\\n    Returns an output of type: any\\n\\nHere are the rules you should always follow to solve your task:\\n1. ALWAYS provide a tool call, else you will fail.\\n2. Always use the right arguments for the tools. Never use variable names as the action arguments, use the value instead.\\n3. Call a tool only when needed: do not call the search agent if you do not need information, try to solve the task yourself.\\nIf no tool call is needed, use final_answer tool to return your answer.\\n4. Never re-do a tool call that you previously did with the exact same parameters.\\n\\nNow Begin!'}]}, {'role': <MessageRole.USER: 'user'>, 'content': [{'type': 'text', 'text': 'New task:\\nЯ бы хотел посетить японский ресторан. Можешь ли посоветовать хороший в Москве?'}]}, {'role': <MessageRole.ASSISTANT: 'assistant'>, 'content': [{'type': 'text', 'text': \"Called Tool: 'travel_review_query' with arguments: {'query': 'посоветуй хороший японский ресторан в Москве', 'min_rating': 4}\"}]}, {'role': <MessageRole.TOOL_CALL: 'tool-call'>, 'content': [{'type': 'text', 'text': \"Calling tools:\\n[{'id': '313d14fb-cfab-40b9-b5c2-9ee30a44a4ab', 'type': 'function', 'function': {'name': 'travel_review_query', 'arguments': {'query': 'посоветуй хороший японский ресторан в Москве', 'min_rating': 4}}}]\"}]}, {'role': <MessageRole.TOOL_RESPONSE: 'tool-response'>, 'content': [{'type': 'text', 'text': 'Observation:\\nНайденные отзывы о местах:\\n\\n=== Отзыв на Izumi ===\\nАдрес: Москва, Мясницкая улица, 38с1\\nРейтинг: 5.0\\nКатегории: [\\'Ресторан\\', \\'Бар, паб\\', \\'Караоке-клуб\\']\\nТекст: Одно из самых любимых заведений японской кухни в Москве!  За адекватную цену вы получите действительно вкусное, похожее на настоящее, японское блюдо. Разнообразное меню и изобилие различных видов саке. Приятный интерьер. Отдельно хочется отметить удобную функцию вызова официанта с помощью кнопочки на столе :) \\n\\n=== Отзыв на Tsunami Sushi & Cocktails ===\\nАдрес: Москва, Благовещенский переулок, 1А\\nРейтинг: 5.0\\nКатегории: [\\'Ресторан\\', \\'Бар, паб\\', \\'Суши-бар\\']\\nТекст: Бомбически! Хотела поесть действительно вкусных роллов и не прогадала с выбором места. Приятный интерьер в стиле неонового Токио, техно/хаус музыка, которая не отвлекает от ужина, а только добавляет атмосферы. Посадка практически полная, но разговоры не мешали, шумно не было.  Брали роллы Мега Лосось, Радуга, Нигири с лососем и оши с гребешком. Очень вкусно и очень сытно. Рыба свежая, сочетания вкусов потрясающие. Муж брал коктейли и тоже остался доволен.  UPD 17 июня 2023: Выбрала Tsunami, чтобы вдвоём с мужем отпраздновать мой день рождения. Как всегда безукаризненное обслуживание, наивкуснейшая еда, шикарная атмосфера. Пока люимое заведение японской кухни в Москве, куда действительно хочется возвращаться. \\n\\n=== Отзыв на Тануки ===\\nАдрес: Москва, Новокосинская улица, 36\\nРейтинг: 4.0\\nКатегории: [\\'Ресторан\\', \\'Суши-бар\\', \\'Доставка еды и обедов\\']\\nТекст: Всем привет! Идём в \"Тануки\"): роллы и суши да, вкусно, качественно, порции конечно уменьшились, но в целом  приемлимо. С детьми там можно отдохнуть, есть детская комната, в сбб и вс работают аниматоры, шум и гам стоит знатный!)). Если идти туда  без детей  на любителя,  было бы другое приличное место, хоть маленький ресторанчик, в Новокосино, я бы выбрала другое, без детских воплей и криков. А так  добро пожаловать, выпейте побольше пива, или что покрепче и шум вам ни почём!)😂 Обслуживание, сервис  хорошие, но не сказать, что бы впечатляющие🤷\\u200d♂️ Вобщем, в Новокосино у вас всего 2 варианта приличного кафе (на ресторан это не тянет, хоть как посмотри) либо японская кухня и это \"Тануки\", либо узбекская и это \"Чайхона\",  удивительно, что в столице России приходится делать такой выбор! Если отзыв прочитает какойлибо ресторатор, то  прямо обращаюсь: \"Откройте пожалуйста в Новокосино   кафе, с  привычной нам всем русской кухней!\" \\n\\n=== Отзыв на Izumi ===\\nАдрес: Москва, Мясницкая улица, 38с1\\nРейтинг: 5.0\\nКатегории: [\\'Ресторан\\', \\'Бар, паб\\', \\'Караоке-клуб\\']\\nТекст: Прекрасное место с великолепным тихим антуражем. Был днём, с друзьями. Еда от японского шефа на любой вкус, и для тех кто не любит рыбу и морепродукты и для тех кто их обожает. Я лично ел Тонкацу Рамен, мне очень понравилось, в отличии от большинства мест в Москве где всëтаки готовится под ожидания русских, тут именно что необычный вкус явно не из того  тех что можно попробовать в други местах.   Именно тут я пожалуй понял что именно японцы имеют ввиду по умами вкусом, реально очень плотный и при этом совершенно нежирный бульон просто пропитан вкусом который в других кухнях встречается довольно редко даже при самом поедании мяса. Однозначно рекомендую, однако предупреждаю что напитки как алко так и без состоят изо льда на 80%. \\n\\n=== Отзыв на Якитория ===\\nАдрес: Москва, улица Маршала Полубоярова, 1\\nРейтинг: 5.0\\nКатегории: [\\'Суши-бар\\', \\'Ресторан\\', \\'Доставка еды и обедов\\']\\nТекст: Очень хороший  ресторанчик японской кухни. Заказываю всегда отсюда если хочется роллов. Очень вкусные горячие роллы. Детям также будет интересно перекусить тут.'}]}], tool_calls=[ToolCall(name='final_answer', arguments={'answer': 'На основе положительных отзывов рекомендую посетить ресторан **Izumi** по адресу Москва, Мясницкая улица, 38с1. Отмечают разнообразие меню и высокое качество блюд японской кухни. Также стоит обратить внимание на Tsunami Sushi & Cocktails в Благовещенском переулке за атмосферу неонового Токио и отличные коктейли.'}, id='2656ca29-0842-4c3e-9fac-3c14887e6dd5')], start_time=1745685896.350215, end_time=1745685918.979889, step_number=2, error=None, duration=22.629673957824707, model_output_message=ChatMessage(role=<MessageRole.ASSISTANT: 'assistant'>, content='{\\n  \"name\": \"final_answer\",\\n  \"arguments\": {\"answer\": \"На основе положительных отзывов рекомендую посетить ресторан **Izumi** по адресу Москва, Мясницкая улица, 38с1. Отмечают разнообразие меню и высокое качество блюд японской кухни. Также стоит обратить внимание на Tsunami Sushi & Cocktails в Благовещенском переулке за атмосферу неонового Токио и отличные коктейли.\"}\\n}', tool_calls=[ChatMessageToolCall(function=ChatMessageToolCallDefinition(arguments={'answer': 'На основе положительных отзывов рекомендую посетить ресторан **Izumi** по адресу Москва, Мясницкая улица, 38с1. Отмечают разнообразие меню и высокое качество блюд японской кухни. Также стоит обратить внимание на Tsunami Sushi & Cocktails в Благовещенском переулке за атмосферу неонового Токио и отличные коктейли.'}, name='final_answer', description=None), id='2656ca29-0842-4c3e-9fac-3c14887e6dd5', type='function')], raw=ModelResponse(id='chatcmpl-66e9b104-94c3-421f-8e8c-09bcf046ebda', created=1745685918, model='ollama_chat/hf.co/IlyaGusev/saiga_nemo_12b_gguf:Q4_0', object='chat.completion', system_fingerprint=None, choices=[Choices(finish_reason='stop', index=0, message=Message(content='{\\n  \"name\": \"final_answer\",\\n  \"arguments\": {\"answer\": \"На основе положительных отзывов рекомендую посетить ресторан **Izumi** по адресу Москва, Мясницкая улица, 38с1. Отмечают разнообразие меню и высокое качество блюд японской кухни. Также стоит обратить внимание на Tsunami Sushi & Cocktails в Благовещенском переулке за атмосферу неонового Токио и отличные коктейли.\"}\\n}', role='assistant', tool_calls=None, function_call=None, provider_specific_fields=None))], usage=Usage(completion_tokens=121, prompt_tokens=3289, total_tokens=3410, completion_tokens_details=None, prompt_tokens_details=None))), model_output=\"Called Tool: 'final_answer' with arguments: {'answer': 'На основе положительных отзывов рекомендую посетить ресторан **Izumi** по адресу Москва, Мясницкая улица, 38с1. Отмечают разнообразие меню и высокое качество блюд японской кухни. Также стоит обратить внимание на Tsunami Sushi & Cocktails в Благовещенском переулке за атмосферу неонового Токио и отличные коктейли.'}\", observations=None, observations_images=None, action_output='На основе положительных отзывов рекомендую посетить ресторан **Izumi** по адресу Москва, Мясницкая улица, 38с1. Отмечают разнообразие меню и высокое качество блюд японской кухни. Также стоит обратить внимание на Tsunami Sushi & Cocktails в Благовещенском переулке за атмосферу неонового Токио и отличные коктейли.')]"
      ]
     },
     "execution_count": 21,
     "metadata": {},
     "output_type": "execute_result"
    }
   ],
   "source": [
    "agent.memory.steps"
   ]
  },
  {
   "cell_type": "code",
   "execution_count": 22,
   "id": "62b0b489",
   "metadata": {},
   "outputs": [
    {
     "data": {
      "text/html": [
       "<pre style=\"white-space:pre;overflow-x:auto;line-height:normal;font-family:Menlo,'DejaVu Sans Mono',consolas,'Courier New',monospace\"><span style=\"color: #d4b702; text-decoration-color: #d4b702\">╭──────────────────────────────────────────────────── </span><span style=\"color: #d4b702; text-decoration-color: #d4b702; font-weight: bold\">New run</span><span style=\"color: #d4b702; text-decoration-color: #d4b702\"> ────────────────────────────────────────────────────╮</span>\n",
       "<span style=\"color: #d4b702; text-decoration-color: #d4b702\">│</span>                                                                                                                 <span style=\"color: #d4b702; text-decoration-color: #d4b702\">│</span>\n",
       "<span style=\"color: #d4b702; text-decoration-color: #d4b702\">│</span> <span style=\"font-weight: bold\">Можешь ли посоветовать гостиницы в Москве?</span>                                                                      <span style=\"color: #d4b702; text-decoration-color: #d4b702\">│</span>\n",
       "<span style=\"color: #d4b702; text-decoration-color: #d4b702\">│</span>                                                                                                                 <span style=\"color: #d4b702; text-decoration-color: #d4b702\">│</span>\n",
       "<span style=\"color: #d4b702; text-decoration-color: #d4b702\">╰─ LiteLLMModel - ollama_chat/hf.co/IlyaGusev/saiga_nemo_12b_gguf:Q4_0 ───────────────────────────────────────────╯</span>\n",
       "</pre>\n"
      ],
      "text/plain": [
       "\u001b[38;2;212;183;2m╭─\u001b[0m\u001b[38;2;212;183;2m───────────────────────────────────────────────────\u001b[0m\u001b[38;2;212;183;2m \u001b[0m\u001b[1;38;2;212;183;2mNew run\u001b[0m\u001b[38;2;212;183;2m \u001b[0m\u001b[38;2;212;183;2m───────────────────────────────────────────────────\u001b[0m\u001b[38;2;212;183;2m─╮\u001b[0m\n",
       "\u001b[38;2;212;183;2m│\u001b[0m                                                                                                                 \u001b[38;2;212;183;2m│\u001b[0m\n",
       "\u001b[38;2;212;183;2m│\u001b[0m \u001b[1mМожешь ли посоветовать гостиницы в Москве?\u001b[0m                                                                      \u001b[38;2;212;183;2m│\u001b[0m\n",
       "\u001b[38;2;212;183;2m│\u001b[0m                                                                                                                 \u001b[38;2;212;183;2m│\u001b[0m\n",
       "\u001b[38;2;212;183;2m╰─\u001b[0m\u001b[38;2;212;183;2m LiteLLMModel - ollama_chat/hf.co/IlyaGusev/saiga_nemo_12b_gguf:Q4_0 \u001b[0m\u001b[38;2;212;183;2m──────────────────────────────────────────\u001b[0m\u001b[38;2;212;183;2m─╯\u001b[0m\n"
      ]
     },
     "metadata": {},
     "output_type": "display_data"
    },
    {
     "data": {
      "text/html": [
       "<pre style=\"white-space:pre;overflow-x:auto;line-height:normal;font-family:Menlo,'DejaVu Sans Mono',consolas,'Courier New',monospace\"><span style=\"color: #d4b702; text-decoration-color: #d4b702\">━━━━━━━━━━━━━━━━━━━━━━━━━━━━━━━━━━━━━━━━━━━━━━━━━━━━━ </span><span style=\"font-weight: bold\">Step </span><span style=\"color: #008080; text-decoration-color: #008080; font-weight: bold\">1</span><span style=\"color: #d4b702; text-decoration-color: #d4b702\"> ━━━━━━━━━━━━━━━━━━━━━━━━━━━━━━━━━━━━━━━━━━━━━━━━━━━━━━</span>\n",
       "</pre>\n"
      ],
      "text/plain": [
       "\u001b[38;2;212;183;2m━━━━━━━━━━━━━━━━━━━━━━━━━━━━━━━━━━━━━━━━━━━━━━━━━━━━━ \u001b[0m\u001b[1mStep \u001b[0m\u001b[1;36m1\u001b[0m\u001b[38;2;212;183;2m ━━━━━━━━━━━━━━━━━━━━━━━━━━━━━━━━━━━━━━━━━━━━━━━━━━━━━━\u001b[0m\n"
      ]
     },
     "metadata": {},
     "output_type": "display_data"
    },
    {
     "data": {
      "text/html": [
       "<pre style=\"white-space:pre;overflow-x:auto;line-height:normal;font-family:Menlo,'DejaVu Sans Mono',consolas,'Courier New',monospace\"><span style=\"font-weight: bold; font-style: italic\">Output message of the LLM:</span> <span style=\"color: #d4b702; text-decoration-color: #d4b702\">────────────────────────────────────────────────────────────────────────────────────────</span>\n",
       "<span style=\"color: #e6edf3; text-decoration-color: #e6edf3; background-color: #0d1117\">{</span><span style=\"background-color: #0d1117\">                                                                                                                  </span>\n",
       "<span style=\"color: #e6edf3; text-decoration-color: #e6edf3; background-color: #0d1117\">  \"name\": \"travel_review_query\",</span><span style=\"background-color: #0d1117\">                                                                                   </span>\n",
       "<span style=\"color: #e6edf3; text-decoration-color: #e6edf3; background-color: #0d1117\">  \"arguments\": {</span><span style=\"background-color: #0d1117\">                                                                                                   </span>\n",
       "<span style=\"color: #e6edf3; text-decoration-color: #e6edf3; background-color: #0d1117\">    \"query\": \"Гостиницы Москва, рекомендации\",</span><span style=\"background-color: #0d1117\">                                                                     </span>\n",
       "<span style=\"color: #e6edf3; text-decoration-color: #e6edf3; background-color: #0d1117\">    \"min_rating\": 4</span><span style=\"background-color: #0d1117\">                                                                                                </span>\n",
       "<span style=\"color: #e6edf3; text-decoration-color: #e6edf3; background-color: #0d1117\">  }</span><span style=\"background-color: #0d1117\">                                                                                                                </span>\n",
       "<span style=\"color: #e6edf3; text-decoration-color: #e6edf3; background-color: #0d1117\">}</span><span style=\"background-color: #0d1117\">                                                                                                                  </span>\n",
       "</pre>\n"
      ],
      "text/plain": [
       "\u001b[1;3mOutput message of the LLM:\u001b[0m \u001b[38;2;212;183;2m────────────────────────────────────────────────────────────────────────────────────────\u001b[0m\n",
       "\u001b[38;2;230;237;243;48;2;13;17;23m{\u001b[0m\u001b[48;2;13;17;23m                                                                                                                  \u001b[0m\n",
       "\u001b[38;2;230;237;243;48;2;13;17;23m \u001b[0m\u001b[38;2;230;237;243;48;2;13;17;23m \u001b[0m\u001b[38;2;230;237;243;48;2;13;17;23m\"name\":\u001b[0m\u001b[38;2;230;237;243;48;2;13;17;23m \u001b[0m\u001b[38;2;230;237;243;48;2;13;17;23m\"travel_review_query\",\u001b[0m\u001b[48;2;13;17;23m                                                                                   \u001b[0m\n",
       "\u001b[38;2;230;237;243;48;2;13;17;23m \u001b[0m\u001b[38;2;230;237;243;48;2;13;17;23m \u001b[0m\u001b[38;2;230;237;243;48;2;13;17;23m\"arguments\":\u001b[0m\u001b[38;2;230;237;243;48;2;13;17;23m \u001b[0m\u001b[38;2;230;237;243;48;2;13;17;23m{\u001b[0m\u001b[48;2;13;17;23m                                                                                                   \u001b[0m\n",
       "\u001b[38;2;230;237;243;48;2;13;17;23m \u001b[0m\u001b[38;2;230;237;243;48;2;13;17;23m \u001b[0m\u001b[38;2;230;237;243;48;2;13;17;23m \u001b[0m\u001b[38;2;230;237;243;48;2;13;17;23m \u001b[0m\u001b[38;2;230;237;243;48;2;13;17;23m\"query\":\u001b[0m\u001b[38;2;230;237;243;48;2;13;17;23m \u001b[0m\u001b[38;2;230;237;243;48;2;13;17;23m\"Гостиницы\u001b[0m\u001b[38;2;230;237;243;48;2;13;17;23m \u001b[0m\u001b[38;2;230;237;243;48;2;13;17;23mМосква,\u001b[0m\u001b[38;2;230;237;243;48;2;13;17;23m \u001b[0m\u001b[38;2;230;237;243;48;2;13;17;23mрекомендации\",\u001b[0m\u001b[48;2;13;17;23m                                                                     \u001b[0m\n",
       "\u001b[38;2;230;237;243;48;2;13;17;23m \u001b[0m\u001b[38;2;230;237;243;48;2;13;17;23m \u001b[0m\u001b[38;2;230;237;243;48;2;13;17;23m \u001b[0m\u001b[38;2;230;237;243;48;2;13;17;23m \u001b[0m\u001b[38;2;230;237;243;48;2;13;17;23m\"min_rating\":\u001b[0m\u001b[38;2;230;237;243;48;2;13;17;23m \u001b[0m\u001b[38;2;230;237;243;48;2;13;17;23m4\u001b[0m\u001b[48;2;13;17;23m                                                                                                \u001b[0m\n",
       "\u001b[38;2;230;237;243;48;2;13;17;23m \u001b[0m\u001b[38;2;230;237;243;48;2;13;17;23m \u001b[0m\u001b[38;2;230;237;243;48;2;13;17;23m}\u001b[0m\u001b[48;2;13;17;23m                                                                                                                \u001b[0m\n",
       "\u001b[38;2;230;237;243;48;2;13;17;23m}\u001b[0m\u001b[48;2;13;17;23m                                                                                                                  \u001b[0m\n"
      ]
     },
     "metadata": {},
     "output_type": "display_data"
    },
    {
     "data": {
      "text/html": [
       "<pre style=\"white-space:pre;overflow-x:auto;line-height:normal;font-family:Menlo,'DejaVu Sans Mono',consolas,'Courier New',monospace\">╭─────────────────────────────────────────────────────────────────────────────────────────────────────────────────╮\n",
       "│ Calling tool: 'travel_review_query' with arguments: {'query': 'Гостиницы Москва, рекомендации', 'min_rating':   │\n",
       "│ 4}                                                                                                              │\n",
       "╰─────────────────────────────────────────────────────────────────────────────────────────────────────────────────╯\n",
       "</pre>\n"
      ],
      "text/plain": [
       "╭─────────────────────────────────────────────────────────────────────────────────────────────────────────────────╮\n",
       "│ Calling tool: 'travel_review_query' with arguments: {'query': 'Гостиницы Москва, рекомендации', 'min_rating':   │\n",
       "│ 4}                                                                                                              │\n",
       "╰─────────────────────────────────────────────────────────────────────────────────────────────────────────────────╯\n"
      ]
     },
     "metadata": {},
     "output_type": "display_data"
    },
    {
     "data": {
      "text/html": [
       "<pre style=\"white-space:pre;overflow-x:auto;line-height:normal;font-family:Menlo,'DejaVu Sans Mono',consolas,'Courier New',monospace\">Observations: Найденные отзывы о местах:\n",
       "\n",
       "=== Отзыв на Вега Измайлово Конгресс-центр ===\n",
       "Адрес: Москва, Измайловское шоссе, <span style=\"color: #008080; text-decoration-color: #008080; font-weight: bold\">71</span>, корп. 3В\n",
       "Рейтинг: <span style=\"color: #008080; text-decoration-color: #008080; font-weight: bold\">5.0</span>\n",
       "Категории: |<span style=\"color: #008000; text-decoration-color: #008000\">'Организация конференций и семинаров'</span>, <span style=\"color: #008000; text-decoration-color: #008000\">'Конференц-зал'</span><span style=\"font-weight: bold\">]</span>\n",
       "Текст: Моя <span style=\"color: #008000; text-decoration-color: #008000\">\"домашняя\"</span> гостиница в Москве, больше двадцати лет стараюсь останавливаться в ней. Застал ещё \n",
       "<span style=\"color: #008000; text-decoration-color: #008000\">\"олимпийский\"</span> дизайн и весь процесс модернизации наблюдал изнутри. Однозначно  рекомендую. \n",
       "\n",
       "=== Отзыв на Националь ===\n",
       "Адрес: Москва, Моховая улица, <span style=\"color: #008080; text-decoration-color: #008080; font-weight: bold\">15</span>/1с1\n",
       "Рейтинг: <span style=\"color: #008080; text-decoration-color: #008080; font-weight: bold\">5.0</span>\n",
       "Категории: |<span style=\"color: #008000; text-decoration-color: #008000\">'Гостиница'</span><span style=\"font-weight: bold\">]</span>\n",
       "Текст: Обслуживание на отлично, удобное расположение гостиницы, утные и чистые номера, вкусная еда, интересные \n",
       "завтраки, вежливый персонал. Располагает, чтоб вернуться снова. Одна из лучших гостиниц Москвы. Рекомендую. \n",
       "\n",
       "=== Отзыв на Хилтон Москва Ленинградская ===\n",
       "Адрес: Москва, Центральный административный округ, Красносельский район, Каланчёвская улица, <span style=\"color: #008080; text-decoration-color: #008080; font-weight: bold\">21</span>/<span style=\"color: #008080; text-decoration-color: #008080; font-weight: bold\">40</span>\n",
       "Рейтинг: <span style=\"color: #008080; text-decoration-color: #008080; font-weight: bold\">5.0</span>\n",
       "Категории: |<span style=\"color: #008000; text-decoration-color: #008000\">'Гостиница'</span><span style=\"font-weight: bold\">]</span>\n",
       "Текст: Хорошая гостиница в центре города Москвы.С гостиницы очень хороший и красивый вид.Персонал вежливый и \n",
       "приятный.Цена выше среднего.А так всем рекомендую<span style=\"font-weight: bold\">))</span> \n",
       "\n",
       "=== Отзыв на Аэростар ===\n",
       "Адрес: Москва, Ленинградский проспект, <span style=\"color: #008080; text-decoration-color: #008080; font-weight: bold\">37</span>, корп. <span style=\"color: #008080; text-decoration-color: #008080; font-weight: bold\">9</span>\n",
       "Рейтинг: <span style=\"color: #008080; text-decoration-color: #008080; font-weight: bold\">5.0</span>\n",
       "Категории: |<span style=\"color: #008000; text-decoration-color: #008000\">'Гостиница'</span><span style=\"font-weight: bold\">]</span>\n",
       "Текст: Гостиница хорошая. Номера, те которые отремонтированы, стильные просторные. Завтрак хороший, есть парковка. \n",
       "Расположение тоже норм, до метро не успешным шагом <span style=\"color: #008080; text-decoration-color: #008080; font-weight: bold\">57</span> минут. Для проведения выходных в Москве  самое то, \n",
       "рекомендую! \n",
       "\n",
       "=== Отзыв на СтандАрт ===\n",
       "Адрес: Москва, Страстной бульвар, <span style=\"color: #008080; text-decoration-color: #008080; font-weight: bold\">2</span>\n",
       "Рейтинг: <span style=\"color: #008080; text-decoration-color: #008080; font-weight: bold\">5.0</span>\n",
       "Категории: |<span style=\"color: #008000; text-decoration-color: #008000\">'Гостиница'</span><span style=\"font-weight: bold\">]</span>\n",
       "Текст: Последние три года приезжаю в Москву на переговоры и останавливаюсь в этой гостинице. Очень удобное место \n",
       "расположение отеля в центре столицы. После дня переговоров можно прогуляться по ночному городу, а Москва ночью \n",
       "просто великолепна! В самой гостинице тепло и уютно в номерах. Белье белоснежное, кровать большая , матрас удобный \n",
       "спится просто здорово. Завтрак разнообразный шведский стол плюс персонал, который помогает дополнительно не только \n",
       "выбрать блюда, но и приготовит отдельно блюда по вашему желанию. Отдельно хотел отметить работу персонала при \n",
       "заселении: прилетели в столицу уже ночью, заселение было поздним, тем не менее персонал отработал процедуру быстро \n",
       "в течении пары минут при этом решил наше пожелание по раннему завтраку. Одним словом у нас этот приезд прошел \n",
       "просто великолепно да и переговоры прошли результативно. Благодарность персоналу гостиницы за отличную организацию \n",
       "нашего пребывания в отеле. Хочется пожелать и дальше поддерживать уровень обслуживания на таком высоком уровне. С \n",
       "уважением  Владимир\n",
       "</pre>\n"
      ],
      "text/plain": [
       "Observations: Найденные отзывы о местах:\n",
       "\n",
       "=== Отзыв на Вега Измайлово Конгресс-центр ===\n",
       "Адрес: Москва, Измайловское шоссе, \u001b[1;36m71\u001b[0m, корп. 3В\n",
       "Рейтинг: \u001b[1;36m5.0\u001b[0m\n",
       "Категории: |\u001b[32m'Организация конференций и семинаров'\u001b[0m, \u001b[32m'Конференц-зал'\u001b[0m\u001b[1m]\u001b[0m\n",
       "Текст: Моя \u001b[32m\"домашняя\"\u001b[0m гостиница в Москве, больше двадцати лет стараюсь останавливаться в ней. Застал ещё \n",
       "\u001b[32m\"олимпийский\"\u001b[0m дизайн и весь процесс модернизации наблюдал изнутри. Однозначно  рекомендую. \n",
       "\n",
       "=== Отзыв на Националь ===\n",
       "Адрес: Москва, Моховая улица, \u001b[1;36m15\u001b[0m/1с1\n",
       "Рейтинг: \u001b[1;36m5.0\u001b[0m\n",
       "Категории: |\u001b[32m'Гостиница'\u001b[0m\u001b[1m]\u001b[0m\n",
       "Текст: Обслуживание на отлично, удобное расположение гостиницы, утные и чистые номера, вкусная еда, интересные \n",
       "завтраки, вежливый персонал. Располагает, чтоб вернуться снова. Одна из лучших гостиниц Москвы. Рекомендую. \n",
       "\n",
       "=== Отзыв на Хилтон Москва Ленинградская ===\n",
       "Адрес: Москва, Центральный административный округ, Красносельский район, Каланчёвская улица, \u001b[1;36m21\u001b[0m/\u001b[1;36m40\u001b[0m\n",
       "Рейтинг: \u001b[1;36m5.0\u001b[0m\n",
       "Категории: |\u001b[32m'Гостиница'\u001b[0m\u001b[1m]\u001b[0m\n",
       "Текст: Хорошая гостиница в центре города Москвы.С гостиницы очень хороший и красивый вид.Персонал вежливый и \n",
       "приятный.Цена выше среднего.А так всем рекомендую\u001b[1m)\u001b[0m\u001b[1m)\u001b[0m \n",
       "\n",
       "=== Отзыв на Аэростар ===\n",
       "Адрес: Москва, Ленинградский проспект, \u001b[1;36m37\u001b[0m, корп. \u001b[1;36m9\u001b[0m\n",
       "Рейтинг: \u001b[1;36m5.0\u001b[0m\n",
       "Категории: |\u001b[32m'Гостиница'\u001b[0m\u001b[1m]\u001b[0m\n",
       "Текст: Гостиница хорошая. Номера, те которые отремонтированы, стильные просторные. Завтрак хороший, есть парковка. \n",
       "Расположение тоже норм, до метро не успешным шагом \u001b[1;36m57\u001b[0m минут. Для проведения выходных в Москве  самое то, \n",
       "рекомендую! \n",
       "\n",
       "=== Отзыв на СтандАрт ===\n",
       "Адрес: Москва, Страстной бульвар, \u001b[1;36m2\u001b[0m\n",
       "Рейтинг: \u001b[1;36m5.0\u001b[0m\n",
       "Категории: |\u001b[32m'Гостиница'\u001b[0m\u001b[1m]\u001b[0m\n",
       "Текст: Последние три года приезжаю в Москву на переговоры и останавливаюсь в этой гостинице. Очень удобное место \n",
       "расположение отеля в центре столицы. После дня переговоров можно прогуляться по ночному городу, а Москва ночью \n",
       "просто великолепна! В самой гостинице тепло и уютно в номерах. Белье белоснежное, кровать большая , матрас удобный \n",
       "спится просто здорово. Завтрак разнообразный шведский стол плюс персонал, который помогает дополнительно не только \n",
       "выбрать блюда, но и приготовит отдельно блюда по вашему желанию. Отдельно хотел отметить работу персонала при \n",
       "заселении: прилетели в столицу уже ночью, заселение было поздним, тем не менее персонал отработал процедуру быстро \n",
       "в течении пары минут при этом решил наше пожелание по раннему завтраку. Одним словом у нас этот приезд прошел \n",
       "просто великолепно да и переговоры прошли результативно. Благодарность персоналу гостиницы за отличную организацию \n",
       "нашего пребывания в отеле. Хочется пожелать и дальше поддерживать уровень обслуживания на таком высоком уровне. С \n",
       "уважением  Владимир\n"
      ]
     },
     "metadata": {},
     "output_type": "display_data"
    },
    {
     "data": {
      "text/html": [
       "<pre style=\"white-space:pre;overflow-x:auto;line-height:normal;font-family:Menlo,'DejaVu Sans Mono',consolas,'Courier New',monospace\"><span style=\"color: #7f7f7f; text-decoration-color: #7f7f7f\">[Step 1: Duration 4.33 seconds| Input tokens: 1,823 | Output tokens: 44]</span>\n",
       "</pre>\n"
      ],
      "text/plain": [
       "\u001b[2m[Step 1: Duration 4.33 seconds| Input tokens: 1,823 | Output tokens: 44]\u001b[0m\n"
      ]
     },
     "metadata": {},
     "output_type": "display_data"
    },
    {
     "data": {
      "text/html": [
       "<pre style=\"white-space:pre;overflow-x:auto;line-height:normal;font-family:Menlo,'DejaVu Sans Mono',consolas,'Courier New',monospace\"><span style=\"color: #d4b702; text-decoration-color: #d4b702\">━━━━━━━━━━━━━━━━━━━━━━━━━━━━━━━━━━━━━━━━━━━━━━━━━━━━━ </span><span style=\"font-weight: bold\">Step </span><span style=\"color: #008080; text-decoration-color: #008080; font-weight: bold\">2</span><span style=\"color: #d4b702; text-decoration-color: #d4b702\"> ━━━━━━━━━━━━━━━━━━━━━━━━━━━━━━━━━━━━━━━━━━━━━━━━━━━━━━</span>\n",
       "</pre>\n"
      ],
      "text/plain": [
       "\u001b[38;2;212;183;2m━━━━━━━━━━━━━━━━━━━━━━━━━━━━━━━━━━━━━━━━━━━━━━━━━━━━━ \u001b[0m\u001b[1mStep \u001b[0m\u001b[1;36m2\u001b[0m\u001b[38;2;212;183;2m ━━━━━━━━━━━━━━━━━━━━━━━━━━━━━━━━━━━━━━━━━━━━━━━━━━━━━━\u001b[0m\n"
      ]
     },
     "metadata": {},
     "output_type": "display_data"
    },
    {
     "data": {
      "text/html": [
       "<pre style=\"white-space:pre;overflow-x:auto;line-height:normal;font-family:Menlo,'DejaVu Sans Mono',consolas,'Courier New',monospace\"><span style=\"font-weight: bold; font-style: italic\">Output message of the LLM:</span> <span style=\"color: #d4b702; text-decoration-color: #d4b702\">────────────────────────────────────────────────────────────────────────────────────────</span>\n",
       "<span style=\"color: #e6edf3; text-decoration-color: #e6edf3; background-color: #0d1117\">{\"name\": \"final_answer\", \"arguments\": {\"answer\": \"На основе отзывов могу порекомендовать следующие гостиницы в </span><span style=\"background-color: #0d1117\">    </span>\n",
       "<span style=\"color: #e6edf3; text-decoration-color: #e6edf3; background-color: #0d1117\">Москве: 1) Вега Измайлово Конгресс-центр, 2) Националь, 3) Хилтон Москва Ленинградская, 4) Аэростар и 5) СтандАрт. </span>\n",
       "<span style=\"color: #e6edf3; text-decoration-color: #e6edf3; background-color: #0d1117\">Все они получили высокие оценки за качество обслуживания, удобное расположение и комфортные номера.\"}}</span><span style=\"background-color: #0d1117\">             </span>\n",
       "</pre>\n"
      ],
      "text/plain": [
       "\u001b[1;3mOutput message of the LLM:\u001b[0m \u001b[38;2;212;183;2m────────────────────────────────────────────────────────────────────────────────────────\u001b[0m\n",
       "\u001b[38;2;230;237;243;48;2;13;17;23m{\"name\":\u001b[0m\u001b[38;2;230;237;243;48;2;13;17;23m \u001b[0m\u001b[38;2;230;237;243;48;2;13;17;23m\"final_answer\",\u001b[0m\u001b[38;2;230;237;243;48;2;13;17;23m \u001b[0m\u001b[38;2;230;237;243;48;2;13;17;23m\"arguments\":\u001b[0m\u001b[38;2;230;237;243;48;2;13;17;23m \u001b[0m\u001b[38;2;230;237;243;48;2;13;17;23m{\"answer\":\u001b[0m\u001b[38;2;230;237;243;48;2;13;17;23m \u001b[0m\u001b[38;2;230;237;243;48;2;13;17;23m\"На\u001b[0m\u001b[38;2;230;237;243;48;2;13;17;23m \u001b[0m\u001b[38;2;230;237;243;48;2;13;17;23mоснове\u001b[0m\u001b[38;2;230;237;243;48;2;13;17;23m \u001b[0m\u001b[38;2;230;237;243;48;2;13;17;23mотзывов\u001b[0m\u001b[38;2;230;237;243;48;2;13;17;23m \u001b[0m\u001b[38;2;230;237;243;48;2;13;17;23mмогу\u001b[0m\u001b[38;2;230;237;243;48;2;13;17;23m \u001b[0m\u001b[38;2;230;237;243;48;2;13;17;23mпорекомендовать\u001b[0m\u001b[38;2;230;237;243;48;2;13;17;23m \u001b[0m\u001b[38;2;230;237;243;48;2;13;17;23mследующие\u001b[0m\u001b[38;2;230;237;243;48;2;13;17;23m \u001b[0m\u001b[38;2;230;237;243;48;2;13;17;23mгостиницы\u001b[0m\u001b[38;2;230;237;243;48;2;13;17;23m \u001b[0m\u001b[38;2;230;237;243;48;2;13;17;23mв\u001b[0m\u001b[38;2;230;237;243;48;2;13;17;23m \u001b[0m\u001b[48;2;13;17;23m    \u001b[0m\n",
       "\u001b[38;2;230;237;243;48;2;13;17;23mМоскве:\u001b[0m\u001b[38;2;230;237;243;48;2;13;17;23m \u001b[0m\u001b[38;2;230;237;243;48;2;13;17;23m1)\u001b[0m\u001b[38;2;230;237;243;48;2;13;17;23m \u001b[0m\u001b[38;2;230;237;243;48;2;13;17;23mВега\u001b[0m\u001b[38;2;230;237;243;48;2;13;17;23m \u001b[0m\u001b[38;2;230;237;243;48;2;13;17;23mИзмайлово\u001b[0m\u001b[38;2;230;237;243;48;2;13;17;23m \u001b[0m\u001b[38;2;230;237;243;48;2;13;17;23mКонгресс-центр,\u001b[0m\u001b[38;2;230;237;243;48;2;13;17;23m \u001b[0m\u001b[38;2;230;237;243;48;2;13;17;23m2)\u001b[0m\u001b[38;2;230;237;243;48;2;13;17;23m \u001b[0m\u001b[38;2;230;237;243;48;2;13;17;23mНациональ,\u001b[0m\u001b[38;2;230;237;243;48;2;13;17;23m \u001b[0m\u001b[38;2;230;237;243;48;2;13;17;23m3)\u001b[0m\u001b[38;2;230;237;243;48;2;13;17;23m \u001b[0m\u001b[38;2;230;237;243;48;2;13;17;23mХилтон\u001b[0m\u001b[38;2;230;237;243;48;2;13;17;23m \u001b[0m\u001b[38;2;230;237;243;48;2;13;17;23mМосква\u001b[0m\u001b[38;2;230;237;243;48;2;13;17;23m \u001b[0m\u001b[38;2;230;237;243;48;2;13;17;23mЛенинградская,\u001b[0m\u001b[38;2;230;237;243;48;2;13;17;23m \u001b[0m\u001b[38;2;230;237;243;48;2;13;17;23m4)\u001b[0m\u001b[38;2;230;237;243;48;2;13;17;23m \u001b[0m\u001b[38;2;230;237;243;48;2;13;17;23mАэростар\u001b[0m\u001b[38;2;230;237;243;48;2;13;17;23m \u001b[0m\u001b[38;2;230;237;243;48;2;13;17;23mи\u001b[0m\u001b[38;2;230;237;243;48;2;13;17;23m \u001b[0m\u001b[38;2;230;237;243;48;2;13;17;23m5)\u001b[0m\u001b[38;2;230;237;243;48;2;13;17;23m \u001b[0m\u001b[38;2;230;237;243;48;2;13;17;23mСтандАрт.\u001b[0m\u001b[38;2;230;237;243;48;2;13;17;23m \u001b[0m\n",
       "\u001b[38;2;230;237;243;48;2;13;17;23mВсе\u001b[0m\u001b[38;2;230;237;243;48;2;13;17;23m \u001b[0m\u001b[38;2;230;237;243;48;2;13;17;23mони\u001b[0m\u001b[38;2;230;237;243;48;2;13;17;23m \u001b[0m\u001b[38;2;230;237;243;48;2;13;17;23mполучили\u001b[0m\u001b[38;2;230;237;243;48;2;13;17;23m \u001b[0m\u001b[38;2;230;237;243;48;2;13;17;23mвысокие\u001b[0m\u001b[38;2;230;237;243;48;2;13;17;23m \u001b[0m\u001b[38;2;230;237;243;48;2;13;17;23mоценки\u001b[0m\u001b[38;2;230;237;243;48;2;13;17;23m \u001b[0m\u001b[38;2;230;237;243;48;2;13;17;23mза\u001b[0m\u001b[38;2;230;237;243;48;2;13;17;23m \u001b[0m\u001b[38;2;230;237;243;48;2;13;17;23mкачество\u001b[0m\u001b[38;2;230;237;243;48;2;13;17;23m \u001b[0m\u001b[38;2;230;237;243;48;2;13;17;23mобслуживания,\u001b[0m\u001b[38;2;230;237;243;48;2;13;17;23m \u001b[0m\u001b[38;2;230;237;243;48;2;13;17;23mудобное\u001b[0m\u001b[38;2;230;237;243;48;2;13;17;23m \u001b[0m\u001b[38;2;230;237;243;48;2;13;17;23mрасположение\u001b[0m\u001b[38;2;230;237;243;48;2;13;17;23m \u001b[0m\u001b[38;2;230;237;243;48;2;13;17;23mи\u001b[0m\u001b[38;2;230;237;243;48;2;13;17;23m \u001b[0m\u001b[38;2;230;237;243;48;2;13;17;23mкомфортные\u001b[0m\u001b[38;2;230;237;243;48;2;13;17;23m \u001b[0m\u001b[38;2;230;237;243;48;2;13;17;23mномера.\"}}\u001b[0m\u001b[48;2;13;17;23m             \u001b[0m\n"
      ]
     },
     "metadata": {},
     "output_type": "display_data"
    },
    {
     "data": {
      "text/html": [
       "<pre style=\"white-space:pre;overflow-x:auto;line-height:normal;font-family:Menlo,'DejaVu Sans Mono',consolas,'Courier New',monospace\">╭─────────────────────────────────────────────────────────────────────────────────────────────────────────────────╮\n",
       "│ Calling tool: 'final_answer' with arguments: {'answer': 'На основе отзывов могу порекомендовать следующие       │\n",
       "│ гостиницы в Москве: 1) Вега Измайлово Конгресс-центр, 2) Националь, 3) Хилтон Москва Ленинградская, 4) Аэростар │\n",
       "│ и 5) СтандАрт. Все они получили высокие оценки за качество обслуживания, удобное расположение и комфортные      │\n",
       "│ номера.'}                                                                                                       │\n",
       "╰─────────────────────────────────────────────────────────────────────────────────────────────────────────────────╯\n",
       "</pre>\n"
      ],
      "text/plain": [
       "╭─────────────────────────────────────────────────────────────────────────────────────────────────────────────────╮\n",
       "│ Calling tool: 'final_answer' with arguments: {'answer': 'На основе отзывов могу порекомендовать следующие       │\n",
       "│ гостиницы в Москве: 1) Вега Измайлово Конгресс-центр, 2) Националь, 3) Хилтон Москва Ленинградская, 4) Аэростар │\n",
       "│ и 5) СтандАрт. Все они получили высокие оценки за качество обслуживания, удобное расположение и комфортные      │\n",
       "│ номера.'}                                                                                                       │\n",
       "╰─────────────────────────────────────────────────────────────────────────────────────────────────────────────────╯\n"
      ]
     },
     "metadata": {},
     "output_type": "display_data"
    },
    {
     "data": {
      "text/html": [
       "<pre style=\"white-space:pre;overflow-x:auto;line-height:normal;font-family:Menlo,'DejaVu Sans Mono',consolas,'Courier New',monospace\"><span style=\"color: #d4b702; text-decoration-color: #d4b702; font-weight: bold\">Final answer: На основе отзывов могу порекомендовать следующие гостиницы в Москве: 1) Вега Измайлово </span>\n",
       "<span style=\"color: #d4b702; text-decoration-color: #d4b702; font-weight: bold\">Конгресс-центр, 2) Националь, 3) Хилтон Москва Ленинградская, 4) Аэростар и 5) СтандАрт. Все они получили высокие </span>\n",
       "<span style=\"color: #d4b702; text-decoration-color: #d4b702; font-weight: bold\">оценки за качество обслуживания, удобное расположение и комфортные номера.</span>\n",
       "</pre>\n"
      ],
      "text/plain": [
       "\u001b[1;38;2;212;183;2mFinal answer: На основе отзывов могу порекомендовать следующие гостиницы в Москве: 1) Вега Измайлово \u001b[0m\n",
       "\u001b[1;38;2;212;183;2mКонгресс-центр, 2) Националь, 3) Хилтон Москва Ленинградская, 4) Аэростар и 5) СтандАрт. Все они получили высокие \u001b[0m\n",
       "\u001b[1;38;2;212;183;2mоценки за качество обслуживания, удобное расположение и комфортные номера.\u001b[0m\n"
      ]
     },
     "metadata": {},
     "output_type": "display_data"
    },
    {
     "data": {
      "text/html": [
       "<pre style=\"white-space:pre;overflow-x:auto;line-height:normal;font-family:Menlo,'DejaVu Sans Mono',consolas,'Courier New',monospace\"><span style=\"color: #7f7f7f; text-decoration-color: #7f7f7f\">[Step 2: Duration 17.49 seconds| Input tokens: 4,648 | Output tokens: 152]</span>\n",
       "</pre>\n"
      ],
      "text/plain": [
       "\u001b[2m[Step 2: Duration 17.49 seconds| Input tokens: 4,648 | Output tokens: 152]\u001b[0m\n"
      ]
     },
     "metadata": {},
     "output_type": "display_data"
    },
    {
     "name": "stdout",
     "output_type": "stream",
     "text": [
      "На основе отзывов могу порекомендовать следующие гостиницы в Москве: 1) Вега Измайлово Конгресс-центр, 2) Националь, 3) Хилтон Москва Ленинградская, 4) Аэростар и 5) СтандАрт. Все они получили высокие оценки за качество обслуживания, удобное расположение и комфортные номера.\n"
     ]
    }
   ],
   "source": [
    "print(agent.run(\"Можешь ли посоветовать гостиницы в Москве?\"))"
   ]
  },
  {
   "cell_type": "code",
   "execution_count": 23,
   "id": "e4502c51",
   "metadata": {},
   "outputs": [
    {
     "name": "stdout",
     "output_type": "stream",
     "text": [
      "Вы — эксперт-ассистент, который может решать любые задачи с использованием вызовов инструментов. Вам будет дана задача, которую вы должны решить наилучшим образом.\n",
      "Для этого вам предоставлен доступ к некоторым инструментам.\n",
      "Вызов инструмента, который вы пишете, является действием: после выполнения инструмента вы получите результат вызова инструмента как \"наблюдение\".\n",
      "Эта последовательность Действие/Наблюдение может повторяться N раз, вам следует выполнять несколько шагов, когда это необходимо.\n",
      "Вы можете использовать результат предыдущего действия как ввод для следующего действия.\n",
      "Наблюдение всегда будет строкой: она может представлять файл, например \"image_1.jpg\".\n",
      "Затем вы можете использовать его как ввод для следующего действия. Вы можете сделать это, например, следующим образом:\n",
      "\n",
      "Наблюдение: \"image_1.jpg\"\n",
      "\n",
      "Действие:\n",
      "{\n",
      "  \"name\": \"image_transformer\",\n",
      "  \"arguments\": {\"image\": \"image_1.jpg\"}\n",
      "}\n",
      "Чтобы предоставить окончательный ответ на задачу, используйте блок действия с \"name\": \"final_answer\". Это единственный способ завершить задачу, иначе вы застрянете в цикле. Поэтому ваш итоговый вывод должен выглядеть так:\n",
      "Действие:\n",
      "{\n",
      "  \"name\": \"final_answer\",\n",
      "  \"arguments\": {\"answer\": \"окончательный ответ здесь\"}\n",
      "}\n",
      "\n",
      "\n",
      "Вот несколько примеров с условными инструментами:\n",
      "---\n",
      "Задача: \"Сгенерировать изображение самого старого человека в этом документе.\"\n",
      "\n",
      "Действие:\n",
      "{\n",
      "  \"name\": \"document_qa\",\n",
      "  \"arguments\": {\"document\": \"document.pdf\", \"question\": \"Кто самый старый упомянутый человек?\"}\n",
      "}\n",
      "Наблюдение: \"Самый старый человек в документе — Джон Доу, 55-летний лесоруб, проживающий в Ньюфаундленде.\"\n",
      "\n",
      "Действие:\n",
      "{\n",
      "  \"name\": \"image_generator\",\n",
      "  \"arguments\": {\"prompt\": \"Портрет Джона Доу, 55-летнего мужчины, живущего в Канаде.\"}\n",
      "}\n",
      "Наблюдение: \"image.png\"\n",
      "\n",
      "Действие:\n",
      "{\n",
      "  \"name\": \"final_answer\",\n",
      "  \"arguments\": \"image.png\"\n",
      "}\n",
      "\n",
      "---\n",
      "Задача: \"Какой город имеет наибольшее население, Гуанчжоу или Шанхай?\"\n",
      "\n",
      "Действие:\n",
      "{\n",
      "    \"name\": \"search\",\n",
      "    \"arguments\": \"Население Гуанчжоу\"\n",
      "}\n",
      "Наблюдение: ['Гуанчжоу имеет население 15 миллионов жителей по данным на 2021 год.']\n",
      "\n",
      "Действие:\n",
      "{\n",
      "    \"name\": \"search\",\n",
      "    \"arguments\": \"Население Шанхая\"\n",
      "}\n",
      "Наблюдение: '26 million (2019)'\n",
      "\n",
      "Действие:\n",
      "{\n",
      "  \"name\": \"final_answer\",\n",
      "  \"arguments\": \"Шанхай\"\n",
      "}\n",
      "\n",
      "Вышеприведенные примеры использовали условные инструменты, которые могут не существовать для вас. У вас есть доступ только к этим инструментам:\n",
      "- travel_review_query: Использует семантический поиск для извлечения отзывов на различные заведения. Важно: не упоминайте весь текст отзыва в ответе. Разрешено использовать только смысл содержания, например: \"Посетители отмечают, что в заведении чисто и комфортно\"\n",
      "    Принимает входные данные: {'query': {'type': 'string', 'description': 'Запрос для поиска отзыва. Должен быть семантически близок к искомым отзывам, например: посоветуй хорошую кофейню в Москве.'}, 'min_rating': {'type': 'integer', 'description': 'Опциональное поле, фильтр минимального рейтинга (от 1 до 5)', 'nullable': True}, 'address': {'type': 'string', 'description': 'Опциональное поле, ключевое слово из адреса (город или улица), например: \"Москва\", \"улица Энгельса\"', 'nullable': True}, 'rubrics': {'type': 'string', 'description': 'Опциональное поле, использовать его только если не получилось получить подходящих результатов по параметру \"query\". Аргумент можно получить из утилиты get_existing_travel_review_rubrics', 'nullable': True}}\n",
      "    Возвращает результат типа: string\n",
      "- final_answer: Provides a final answer to the given problem.\n",
      "    Принимает входные данные: {'answer': {'type': 'any', 'description': 'The final answer to the problem'}}\n",
      "    Возвращает результат типа: any\n",
      "\n",
      "Вот правила, которым вы всегда должны следовать для решения своей задачи:\n",
      "1. ВСЕГДА предоставляйте вызов инструмента, иначе вы потерпите неудачу.\n",
      "2. Всегда используйте правильные аргументы для инструментов. Никогда не используйте имена переменных в качестве аргументов действия, используйте вместо этого значение.\n",
      "3. Вызывайте инструмент только при необходимости: не вызывайте поискового агента, если вам не нужна информация, попробуйте решить задачу самостоятельно.\n",
      "4. Если вызов инструмента не требуется, используйте инструмент final_answer для возврата вашего ответа.\n",
      "5. Никогда не повторяйте вызов инструмента с теми же параметрами, которые вы уже использовали.\n",
      "\n",
      "Теперь начинайте!\n"
     ]
    }
   ],
   "source": [
    "# translated prompts\n",
    "\n",
    "agent = ToolCallingAgent(\n",
    "    tools=[review_search_tool],\n",
    "    model=model,\n",
    "    prompt_templates=RUS_PROMPT_TEMPLATES,\n",
    "    max_steps=3,\n",
    "    verbosity_level=2,  # DEBUG\n",
    ")\n",
    "\n",
    "print(agent.system_prompt)"
   ]
  },
  {
   "cell_type": "code",
   "execution_count": 24,
   "id": "1ead9c4c",
   "metadata": {},
   "outputs": [
    {
     "data": {
      "text/html": [
       "<pre style=\"white-space:pre;overflow-x:auto;line-height:normal;font-family:Menlo,'DejaVu Sans Mono',consolas,'Courier New',monospace\"><span style=\"color: #d4b702; text-decoration-color: #d4b702\">╭──────────────────────────────────────────────────── </span><span style=\"color: #d4b702; text-decoration-color: #d4b702; font-weight: bold\">New run</span><span style=\"color: #d4b702; text-decoration-color: #d4b702\"> ────────────────────────────────────────────────────╮</span>\n",
       "<span style=\"color: #d4b702; text-decoration-color: #d4b702\">│</span>                                                                                                                 <span style=\"color: #d4b702; text-decoration-color: #d4b702\">│</span>\n",
       "<span style=\"color: #d4b702; text-decoration-color: #d4b702\">│</span> <span style=\"font-weight: bold\">Я бы хотел посетить японский ресторан. Можешь ли посоветовать хороший в Москве?</span>                                 <span style=\"color: #d4b702; text-decoration-color: #d4b702\">│</span>\n",
       "<span style=\"color: #d4b702; text-decoration-color: #d4b702\">│</span>                                                                                                                 <span style=\"color: #d4b702; text-decoration-color: #d4b702\">│</span>\n",
       "<span style=\"color: #d4b702; text-decoration-color: #d4b702\">╰─ LiteLLMModel - ollama_chat/hf.co/IlyaGusev/saiga_nemo_12b_gguf:Q4_0 ───────────────────────────────────────────╯</span>\n",
       "</pre>\n"
      ],
      "text/plain": [
       "\u001b[38;2;212;183;2m╭─\u001b[0m\u001b[38;2;212;183;2m───────────────────────────────────────────────────\u001b[0m\u001b[38;2;212;183;2m \u001b[0m\u001b[1;38;2;212;183;2mNew run\u001b[0m\u001b[38;2;212;183;2m \u001b[0m\u001b[38;2;212;183;2m───────────────────────────────────────────────────\u001b[0m\u001b[38;2;212;183;2m─╮\u001b[0m\n",
       "\u001b[38;2;212;183;2m│\u001b[0m                                                                                                                 \u001b[38;2;212;183;2m│\u001b[0m\n",
       "\u001b[38;2;212;183;2m│\u001b[0m \u001b[1mЯ бы хотел посетить японский ресторан. Можешь ли посоветовать хороший в Москве?\u001b[0m                                 \u001b[38;2;212;183;2m│\u001b[0m\n",
       "\u001b[38;2;212;183;2m│\u001b[0m                                                                                                                 \u001b[38;2;212;183;2m│\u001b[0m\n",
       "\u001b[38;2;212;183;2m╰─\u001b[0m\u001b[38;2;212;183;2m LiteLLMModel - ollama_chat/hf.co/IlyaGusev/saiga_nemo_12b_gguf:Q4_0 \u001b[0m\u001b[38;2;212;183;2m──────────────────────────────────────────\u001b[0m\u001b[38;2;212;183;2m─╯\u001b[0m\n"
      ]
     },
     "metadata": {},
     "output_type": "display_data"
    },
    {
     "data": {
      "text/html": [
       "<pre style=\"white-space:pre;overflow-x:auto;line-height:normal;font-family:Menlo,'DejaVu Sans Mono',consolas,'Courier New',monospace\"><span style=\"color: #d4b702; text-decoration-color: #d4b702\">━━━━━━━━━━━━━━━━━━━━━━━━━━━━━━━━━━━━━━━━━━━━━━━━━━━━━ </span><span style=\"font-weight: bold\">Step </span><span style=\"color: #008080; text-decoration-color: #008080; font-weight: bold\">1</span><span style=\"color: #d4b702; text-decoration-color: #d4b702\"> ━━━━━━━━━━━━━━━━━━━━━━━━━━━━━━━━━━━━━━━━━━━━━━━━━━━━━━</span>\n",
       "</pre>\n"
      ],
      "text/plain": [
       "\u001b[38;2;212;183;2m━━━━━━━━━━━━━━━━━━━━━━━━━━━━━━━━━━━━━━━━━━━━━━━━━━━━━ \u001b[0m\u001b[1mStep \u001b[0m\u001b[1;36m1\u001b[0m\u001b[38;2;212;183;2m ━━━━━━━━━━━━━━━━━━━━━━━━━━━━━━━━━━━━━━━━━━━━━━━━━━━━━━\u001b[0m\n"
      ]
     },
     "metadata": {},
     "output_type": "display_data"
    },
    {
     "data": {
      "text/html": [
       "<pre style=\"white-space:pre;overflow-x:auto;line-height:normal;font-family:Menlo,'DejaVu Sans Mono',consolas,'Courier New',monospace\"><span style=\"font-weight: bold; font-style: italic\">Output message of the LLM:</span> <span style=\"color: #d4b702; text-decoration-color: #d4b702\">────────────────────────────────────────────────────────────────────────────────────────</span>\n",
       "<span style=\"color: #e6edf3; text-decoration-color: #e6edf3; background-color: #0d1117\">{\"name\": \"travel_review_query\", \"arguments\": {\"query\": \"посоветуй хороший японский ресторан в Москве\", </span><span style=\"background-color: #0d1117\">            </span>\n",
       "<span style=\"color: #e6edf3; text-decoration-color: #e6edf3; background-color: #0d1117\">\"min_rating\": 4}}</span><span style=\"background-color: #0d1117\">                                                                                                  </span>\n",
       "</pre>\n"
      ],
      "text/plain": [
       "\u001b[1;3mOutput message of the LLM:\u001b[0m \u001b[38;2;212;183;2m────────────────────────────────────────────────────────────────────────────────────────\u001b[0m\n",
       "\u001b[38;2;230;237;243;48;2;13;17;23m{\"name\":\u001b[0m\u001b[38;2;230;237;243;48;2;13;17;23m \u001b[0m\u001b[38;2;230;237;243;48;2;13;17;23m\"travel_review_query\",\u001b[0m\u001b[38;2;230;237;243;48;2;13;17;23m \u001b[0m\u001b[38;2;230;237;243;48;2;13;17;23m\"arguments\":\u001b[0m\u001b[38;2;230;237;243;48;2;13;17;23m \u001b[0m\u001b[38;2;230;237;243;48;2;13;17;23m{\"query\":\u001b[0m\u001b[38;2;230;237;243;48;2;13;17;23m \u001b[0m\u001b[38;2;230;237;243;48;2;13;17;23m\"посоветуй\u001b[0m\u001b[38;2;230;237;243;48;2;13;17;23m \u001b[0m\u001b[38;2;230;237;243;48;2;13;17;23mхороший\u001b[0m\u001b[38;2;230;237;243;48;2;13;17;23m \u001b[0m\u001b[38;2;230;237;243;48;2;13;17;23mяпонский\u001b[0m\u001b[38;2;230;237;243;48;2;13;17;23m \u001b[0m\u001b[38;2;230;237;243;48;2;13;17;23mресторан\u001b[0m\u001b[38;2;230;237;243;48;2;13;17;23m \u001b[0m\u001b[38;2;230;237;243;48;2;13;17;23mв\u001b[0m\u001b[38;2;230;237;243;48;2;13;17;23m \u001b[0m\u001b[38;2;230;237;243;48;2;13;17;23mМоскве\",\u001b[0m\u001b[38;2;230;237;243;48;2;13;17;23m \u001b[0m\u001b[48;2;13;17;23m            \u001b[0m\n",
       "\u001b[38;2;230;237;243;48;2;13;17;23m\"min_rating\":\u001b[0m\u001b[38;2;230;237;243;48;2;13;17;23m \u001b[0m\u001b[38;2;230;237;243;48;2;13;17;23m4}}\u001b[0m\u001b[48;2;13;17;23m                                                                                                  \u001b[0m\n"
      ]
     },
     "metadata": {},
     "output_type": "display_data"
    },
    {
     "data": {
      "text/html": [
       "<pre style=\"white-space:pre;overflow-x:auto;line-height:normal;font-family:Menlo,'DejaVu Sans Mono',consolas,'Courier New',monospace\">╭─────────────────────────────────────────────────────────────────────────────────────────────────────────────────╮\n",
       "│ Calling tool: 'travel_review_query' with arguments: {'query': 'посоветуй хороший японский ресторан в Москве',   │\n",
       "│ 'min_rating': 4}                                                                                                │\n",
       "╰─────────────────────────────────────────────────────────────────────────────────────────────────────────────────╯\n",
       "</pre>\n"
      ],
      "text/plain": [
       "╭─────────────────────────────────────────────────────────────────────────────────────────────────────────────────╮\n",
       "│ Calling tool: 'travel_review_query' with arguments: {'query': 'посоветуй хороший японский ресторан в Москве',   │\n",
       "│ 'min_rating': 4}                                                                                                │\n",
       "╰─────────────────────────────────────────────────────────────────────────────────────────────────────────────────╯\n"
      ]
     },
     "metadata": {},
     "output_type": "display_data"
    },
    {
     "data": {
      "text/html": [
       "<pre style=\"white-space:pre;overflow-x:auto;line-height:normal;font-family:Menlo,'DejaVu Sans Mono',consolas,'Courier New',monospace\">Observations: Найденные отзывы о местах:\n",
       "\n",
       "=== Отзыв на Izumi ===\n",
       "Адрес: Москва, Мясницкая улица, 38с1\n",
       "Рейтинг: <span style=\"color: #008080; text-decoration-color: #008080; font-weight: bold\">5.0</span>\n",
       "Категории: |<span style=\"color: #008000; text-decoration-color: #008000\">'Ресторан'</span>, <span style=\"color: #008000; text-decoration-color: #008000\">'Бар, паб'</span>, <span style=\"color: #008000; text-decoration-color: #008000\">'Караоке-клуб'</span><span style=\"font-weight: bold\">]</span>\n",
       "Текст: Одно из самых любимых заведений японской кухни в Москве!  За адекватную цену вы получите действительно \n",
       "вкусное, похожее на настоящее, японское блюдо. Разнообразное меню и изобилие различных видов саке. Приятный \n",
       "интерьер. Отдельно хочется отметить удобную функцию вызова официанта с помощью кнопочки на столе :<span style=\"font-weight: bold\">)</span> \n",
       "\n",
       "=== Отзыв на Tsunami Sushi &amp; Cocktails ===\n",
       "Адрес: Москва, Благовещенский переулок, 1А\n",
       "Рейтинг: <span style=\"color: #008080; text-decoration-color: #008080; font-weight: bold\">5.0</span>\n",
       "Категории: |<span style=\"color: #008000; text-decoration-color: #008000\">'Ресторан'</span>, <span style=\"color: #008000; text-decoration-color: #008000\">'Бар, паб'</span>, <span style=\"color: #008000; text-decoration-color: #008000\">'Суши-бар'</span><span style=\"font-weight: bold\">]</span>\n",
       "Текст: Бомбически! Хотела поесть действительно вкусных роллов и не прогадала с выбором места. Приятный интерьер в \n",
       "стиле неонового Токио, техно/хаус музыка, которая не отвлекает от ужина, а только добавляет атмосферы. Посадка \n",
       "практически полная, но разговоры не мешали, шумно не было.  Брали роллы Мега Лосось, Радуга, Нигири с лососем и оши\n",
       "с гребешком. Очень вкусно и очень сытно. Рыба свежая, сочетания вкусов потрясающие. Муж брал коктейли и тоже \n",
       "остался доволен.  UPD <span style=\"color: #008080; text-decoration-color: #008080; font-weight: bold\">17</span> июня <span style=\"color: #008080; text-decoration-color: #008080; font-weight: bold\">2023</span>: Выбрала Tsunami, чтобы вдвоём с мужем отпраздновать мой день рождения. Как \n",
       "всегда безукаризненное обслуживание, наивкуснейшая еда, шикарная атмосфера. Пока люимое заведение японской кухни в \n",
       "Москве, куда действительно хочется возвращаться. \n",
       "\n",
       "=== Отзыв на Тануки ===\n",
       "Адрес: Москва, Новокосинская улица, <span style=\"color: #008080; text-decoration-color: #008080; font-weight: bold\">36</span>\n",
       "Рейтинг: <span style=\"color: #008080; text-decoration-color: #008080; font-weight: bold\">4.0</span>\n",
       "Категории: |<span style=\"color: #008000; text-decoration-color: #008000\">'Ресторан'</span>, <span style=\"color: #008000; text-decoration-color: #008000\">'Суши-бар'</span>, <span style=\"color: #008000; text-decoration-color: #008000\">'Доставка еды и обедов'</span><span style=\"font-weight: bold\">]</span>\n",
       "Текст: Всем привет! Идём в <span style=\"color: #008000; text-decoration-color: #008000\">\"Тануки\"</span><span style=\"font-weight: bold\">)</span>: роллы и суши да, вкусно, качественно, порции конечно уменьшились, но в целом \n",
       "приемлимо. С детьми там можно отдохнуть, есть детская комната, в сбб и вс работают аниматоры, шум и гам стоит \n",
       "знатный!<span style=\"font-weight: bold\">))</span>. Если идти туда  без детей  на любителя,  было бы другое приличное место, хоть маленький ресторанчик, в \n",
       "Новокосино, я бы выбрала другое, без детских воплей и криков. А так  добро пожаловать, выпейте побольше пива, или \n",
       "что покрепче и шум вам ни почём!<span style=\"font-weight: bold\">)</span>😂 Обслуживание, сервис  хорошие, но не сказать, что бы впечатляющие🤷‍♂️ Вобщем, в \n",
       "Новокосино у вас всего <span style=\"color: #008080; text-decoration-color: #008080; font-weight: bold\">2</span> варианта приличного кафе <span style=\"font-weight: bold\">(</span>на ресторан это не тянет, хоть как посмотри<span style=\"font-weight: bold\">)</span> либо японская кухня\n",
       "и это <span style=\"color: #008000; text-decoration-color: #008000\">\"Тануки\"</span>, либо узбекская и это <span style=\"color: #008000; text-decoration-color: #008000\">\"Чайхона\"</span>,  удивительно, что в столице России приходится делать такой выбор! \n",
       "Если отзыв прочитает какойлибо ресторатор, то  прямо обращаюсь: <span style=\"color: #008000; text-decoration-color: #008000\">\"Откройте пожалуйста в Новокосино   кафе, с  </span>\n",
       "<span style=\"color: #008000; text-decoration-color: #008000\">привычной нам всем русской кухней!\"</span> \n",
       "\n",
       "=== Отзыв на Izumi ===\n",
       "Адрес: Москва, Мясницкая улица, 38с1\n",
       "Рейтинг: <span style=\"color: #008080; text-decoration-color: #008080; font-weight: bold\">5.0</span>\n",
       "Категории: |<span style=\"color: #008000; text-decoration-color: #008000\">'Ресторан'</span>, <span style=\"color: #008000; text-decoration-color: #008000\">'Бар, паб'</span>, <span style=\"color: #008000; text-decoration-color: #008000\">'Караоке-клуб'</span><span style=\"font-weight: bold\">]</span>\n",
       "Текст: Прекрасное место с великолепным тихим антуражем. Был днём, с друзьями. Еда от японского шефа на любой вкус, \n",
       "и для тех кто не любит рыбу и морепродукты и для тех кто их обожает. Я лично ел Тонкацу Рамен, мне очень \n",
       "понравилось, в отличии от большинства мест в Москве где всëтаки готовится под ожидания русских, тут именно что \n",
       "необычный вкус явно не из того  тех что можно попробовать в други местах.   Именно тут я пожалуй понял что именно \n",
       "японцы имеют ввиду по умами вкусом, реально очень плотный и при этом совершенно нежирный бульон просто пропитан \n",
       "вкусом который в других кухнях встречается довольно редко даже при самом поедании мяса. Однозначно рекомендую, \n",
       "однако предупреждаю что напитки как алко так и без состоят изо льда на <span style=\"color: #008080; text-decoration-color: #008080; font-weight: bold\">80</span>%. \n",
       "\n",
       "=== Отзыв на Якитория ===\n",
       "Адрес: Москва, улица Маршала Полубоярова, <span style=\"color: #008080; text-decoration-color: #008080; font-weight: bold\">1</span>\n",
       "Рейтинг: <span style=\"color: #008080; text-decoration-color: #008080; font-weight: bold\">5.0</span>\n",
       "Категории: |<span style=\"color: #008000; text-decoration-color: #008000\">'Суши-бар'</span>, <span style=\"color: #008000; text-decoration-color: #008000\">'Ресторан'</span>, <span style=\"color: #008000; text-decoration-color: #008000\">'Доставка еды и обедов'</span><span style=\"font-weight: bold\">]</span>\n",
       "Текст: Очень хороший  ресторанчик японской кухни. Заказываю всегда отсюда если хочется роллов. Очень вкусные \n",
       "горячие роллы. Детям также будет интересно перекусить тут.\n",
       "</pre>\n"
      ],
      "text/plain": [
       "Observations: Найденные отзывы о местах:\n",
       "\n",
       "=== Отзыв на Izumi ===\n",
       "Адрес: Москва, Мясницкая улица, 38с1\n",
       "Рейтинг: \u001b[1;36m5.0\u001b[0m\n",
       "Категории: |\u001b[32m'Ресторан'\u001b[0m, \u001b[32m'Бар, паб'\u001b[0m, \u001b[32m'Караоке-клуб'\u001b[0m\u001b[1m]\u001b[0m\n",
       "Текст: Одно из самых любимых заведений японской кухни в Москве!  За адекватную цену вы получите действительно \n",
       "вкусное, похожее на настоящее, японское блюдо. Разнообразное меню и изобилие различных видов саке. Приятный \n",
       "интерьер. Отдельно хочется отметить удобную функцию вызова официанта с помощью кнопочки на столе :\u001b[1m)\u001b[0m \n",
       "\n",
       "=== Отзыв на Tsunami Sushi & Cocktails ===\n",
       "Адрес: Москва, Благовещенский переулок, 1А\n",
       "Рейтинг: \u001b[1;36m5.0\u001b[0m\n",
       "Категории: |\u001b[32m'Ресторан'\u001b[0m, \u001b[32m'Бар, паб'\u001b[0m, \u001b[32m'Суши-бар'\u001b[0m\u001b[1m]\u001b[0m\n",
       "Текст: Бомбически! Хотела поесть действительно вкусных роллов и не прогадала с выбором места. Приятный интерьер в \n",
       "стиле неонового Токио, техно/хаус музыка, которая не отвлекает от ужина, а только добавляет атмосферы. Посадка \n",
       "практически полная, но разговоры не мешали, шумно не было.  Брали роллы Мега Лосось, Радуга, Нигири с лососем и оши\n",
       "с гребешком. Очень вкусно и очень сытно. Рыба свежая, сочетания вкусов потрясающие. Муж брал коктейли и тоже \n",
       "остался доволен.  UPD \u001b[1;36m17\u001b[0m июня \u001b[1;36m2023\u001b[0m: Выбрала Tsunami, чтобы вдвоём с мужем отпраздновать мой день рождения. Как \n",
       "всегда безукаризненное обслуживание, наивкуснейшая еда, шикарная атмосфера. Пока люимое заведение японской кухни в \n",
       "Москве, куда действительно хочется возвращаться. \n",
       "\n",
       "=== Отзыв на Тануки ===\n",
       "Адрес: Москва, Новокосинская улица, \u001b[1;36m36\u001b[0m\n",
       "Рейтинг: \u001b[1;36m4.0\u001b[0m\n",
       "Категории: |\u001b[32m'Ресторан'\u001b[0m, \u001b[32m'Суши-бар'\u001b[0m, \u001b[32m'Доставка еды и обедов'\u001b[0m\u001b[1m]\u001b[0m\n",
       "Текст: Всем привет! Идём в \u001b[32m\"Тануки\"\u001b[0m\u001b[1m)\u001b[0m: роллы и суши да, вкусно, качественно, порции конечно уменьшились, но в целом \n",
       "приемлимо. С детьми там можно отдохнуть, есть детская комната, в сбб и вс работают аниматоры, шум и гам стоит \n",
       "знатный!\u001b[1m)\u001b[0m\u001b[1m)\u001b[0m. Если идти туда  без детей  на любителя,  было бы другое приличное место, хоть маленький ресторанчик, в \n",
       "Новокосино, я бы выбрала другое, без детских воплей и криков. А так  добро пожаловать, выпейте побольше пива, или \n",
       "что покрепче и шум вам ни почём!\u001b[1m)\u001b[0m😂 Обслуживание, сервис  хорошие, но не сказать, что бы впечатляющие🤷‍♂️ Вобщем, в \n",
       "Новокосино у вас всего \u001b[1;36m2\u001b[0m варианта приличного кафе \u001b[1m(\u001b[0mна ресторан это не тянет, хоть как посмотри\u001b[1m)\u001b[0m либо японская кухня\n",
       "и это \u001b[32m\"Тануки\"\u001b[0m, либо узбекская и это \u001b[32m\"Чайхона\"\u001b[0m,  удивительно, что в столице России приходится делать такой выбор! \n",
       "Если отзыв прочитает какойлибо ресторатор, то  прямо обращаюсь: \u001b[32m\"Откройте пожалуйста в Новокосино   кафе, с  \u001b[0m\n",
       "\u001b[32mпривычной нам всем русской кухней!\"\u001b[0m \n",
       "\n",
       "=== Отзыв на Izumi ===\n",
       "Адрес: Москва, Мясницкая улица, 38с1\n",
       "Рейтинг: \u001b[1;36m5.0\u001b[0m\n",
       "Категории: |\u001b[32m'Ресторан'\u001b[0m, \u001b[32m'Бар, паб'\u001b[0m, \u001b[32m'Караоке-клуб'\u001b[0m\u001b[1m]\u001b[0m\n",
       "Текст: Прекрасное место с великолепным тихим антуражем. Был днём, с друзьями. Еда от японского шефа на любой вкус, \n",
       "и для тех кто не любит рыбу и морепродукты и для тех кто их обожает. Я лично ел Тонкацу Рамен, мне очень \n",
       "понравилось, в отличии от большинства мест в Москве где всëтаки готовится под ожидания русских, тут именно что \n",
       "необычный вкус явно не из того  тех что можно попробовать в други местах.   Именно тут я пожалуй понял что именно \n",
       "японцы имеют ввиду по умами вкусом, реально очень плотный и при этом совершенно нежирный бульон просто пропитан \n",
       "вкусом который в других кухнях встречается довольно редко даже при самом поедании мяса. Однозначно рекомендую, \n",
       "однако предупреждаю что напитки как алко так и без состоят изо льда на \u001b[1;36m80\u001b[0m%. \n",
       "\n",
       "=== Отзыв на Якитория ===\n",
       "Адрес: Москва, улица Маршала Полубоярова, \u001b[1;36m1\u001b[0m\n",
       "Рейтинг: \u001b[1;36m5.0\u001b[0m\n",
       "Категории: |\u001b[32m'Суши-бар'\u001b[0m, \u001b[32m'Ресторан'\u001b[0m, \u001b[32m'Доставка еды и обедов'\u001b[0m\u001b[1m]\u001b[0m\n",
       "Текст: Очень хороший  ресторанчик японской кухни. Заказываю всегда отсюда если хочется роллов. Очень вкусные \n",
       "горячие роллы. Детям также будет интересно перекусить тут.\n"
      ]
     },
     "metadata": {},
     "output_type": "display_data"
    },
    {
     "data": {
      "text/html": [
       "<pre style=\"white-space:pre;overflow-x:auto;line-height:normal;font-family:Menlo,'DejaVu Sans Mono',consolas,'Courier New',monospace\"><span style=\"color: #7f7f7f; text-decoration-color: #7f7f7f\">[Step 1: Duration 3.91 seconds| Input tokens: 1,673 | Output tokens: 40]</span>\n",
       "</pre>\n"
      ],
      "text/plain": [
       "\u001b[2m[Step 1: Duration 3.91 seconds| Input tokens: 1,673 | Output tokens: 40]\u001b[0m\n"
      ]
     },
     "metadata": {},
     "output_type": "display_data"
    },
    {
     "data": {
      "text/html": [
       "<pre style=\"white-space:pre;overflow-x:auto;line-height:normal;font-family:Menlo,'DejaVu Sans Mono',consolas,'Courier New',monospace\"><span style=\"color: #d4b702; text-decoration-color: #d4b702\">━━━━━━━━━━━━━━━━━━━━━━━━━━━━━━━━━━━━━━━━━━━━━━━━━━━━━ </span><span style=\"font-weight: bold\">Step </span><span style=\"color: #008080; text-decoration-color: #008080; font-weight: bold\">2</span><span style=\"color: #d4b702; text-decoration-color: #d4b702\"> ━━━━━━━━━━━━━━━━━━━━━━━━━━━━━━━━━━━━━━━━━━━━━━━━━━━━━━</span>\n",
       "</pre>\n"
      ],
      "text/plain": [
       "\u001b[38;2;212;183;2m━━━━━━━━━━━━━━━━━━━━━━━━━━━━━━━━━━━━━━━━━━━━━━━━━━━━━ \u001b[0m\u001b[1mStep \u001b[0m\u001b[1;36m2\u001b[0m\u001b[38;2;212;183;2m ━━━━━━━━━━━━━━━━━━━━━━━━━━━━━━━━━━━━━━━━━━━━━━━━━━━━━━\u001b[0m\n"
      ]
     },
     "metadata": {},
     "output_type": "display_data"
    },
    {
     "data": {
      "text/html": [
       "<pre style=\"white-space:pre;overflow-x:auto;line-height:normal;font-family:Menlo,'DejaVu Sans Mono',consolas,'Courier New',monospace\"><span style=\"font-weight: bold; font-style: italic\">Output message of the LLM:</span> <span style=\"color: #d4b702; text-decoration-color: #d4b702\">────────────────────────────────────────────────────────────────────────────────────────</span>\n",
       "<span style=\"color: #e6edf3; text-decoration-color: #e6edf3; background-color: #0d1117\">{ \"name\": \"final_answer\", \"arguments\": { \"answer\": \"В Москве рекомендуем посетить следующие японские </span><span style=\"background-color: #0d1117\">              </span>\n",
       "<span style=\"color: #e6edf3; text-decoration-color: #e6edf3; background-color: #0d1117\">рестораны:\\n\\n- </span><span style=\"color: #e6edf3; text-decoration-color: #e6edf3; background-color: #0d1117; font-weight: bold\">**Izumi**</span><span style=\"color: #e6edf3; text-decoration-color: #e6edf3; background-color: #0d1117\"> на Мясницкой улице, 38с1 – выделяется качеством блюд и разнообразным меню.\\n- </span><span style=\"color: #e6edf3; text-decoration-color: #e6edf3; background-color: #0d1117; font-weight: bold\">**Tsunami </span><span style=\"background-color: #0d1117\"> </span>\n",
       "<span style=\"color: #e6edf3; text-decoration-color: #e6edf3; background-color: #0d1117; font-weight: bold\">Sushi &amp; Cocktails**</span><span style=\"color: #e6edf3; text-decoration-color: #e6edf3; background-color: #0d1117\"> в Благовещенском переулке, 1А – отличный выбор для любителей атмосферных заведений с неоновым </span><span style=\"background-color: #0d1117\"> </span>\n",
       "<span style=\"color: #e6edf3; text-decoration-color: #e6edf3; background-color: #0d1117\">Токио стилем и вкусными роллами.\\n\\nОба этих места получили высокие оценки посетителей за качество еды и </span><span style=\"background-color: #0d1117\">          </span>\n",
       "<span style=\"color: #e6edf3; text-decoration-color: #e6edf3; background-color: #0d1117\">обслуживания.\" } }</span><span style=\"background-color: #0d1117\">                                                                                                 </span>\n",
       "</pre>\n"
      ],
      "text/plain": [
       "\u001b[1;3mOutput message of the LLM:\u001b[0m \u001b[38;2;212;183;2m────────────────────────────────────────────────────────────────────────────────────────\u001b[0m\n",
       "\u001b[38;2;230;237;243;48;2;13;17;23m{\u001b[0m\u001b[38;2;230;237;243;48;2;13;17;23m \u001b[0m\u001b[38;2;230;237;243;48;2;13;17;23m\"name\":\u001b[0m\u001b[38;2;230;237;243;48;2;13;17;23m \u001b[0m\u001b[38;2;230;237;243;48;2;13;17;23m\"final_answer\",\u001b[0m\u001b[38;2;230;237;243;48;2;13;17;23m \u001b[0m\u001b[38;2;230;237;243;48;2;13;17;23m\"arguments\":\u001b[0m\u001b[38;2;230;237;243;48;2;13;17;23m \u001b[0m\u001b[38;2;230;237;243;48;2;13;17;23m{\u001b[0m\u001b[38;2;230;237;243;48;2;13;17;23m \u001b[0m\u001b[38;2;230;237;243;48;2;13;17;23m\"answer\":\u001b[0m\u001b[38;2;230;237;243;48;2;13;17;23m \u001b[0m\u001b[38;2;230;237;243;48;2;13;17;23m\"В\u001b[0m\u001b[38;2;230;237;243;48;2;13;17;23m \u001b[0m\u001b[38;2;230;237;243;48;2;13;17;23mМоскве\u001b[0m\u001b[38;2;230;237;243;48;2;13;17;23m \u001b[0m\u001b[38;2;230;237;243;48;2;13;17;23mрекомендуем\u001b[0m\u001b[38;2;230;237;243;48;2;13;17;23m \u001b[0m\u001b[38;2;230;237;243;48;2;13;17;23mпосетить\u001b[0m\u001b[38;2;230;237;243;48;2;13;17;23m \u001b[0m\u001b[38;2;230;237;243;48;2;13;17;23mследующие\u001b[0m\u001b[38;2;230;237;243;48;2;13;17;23m \u001b[0m\u001b[38;2;230;237;243;48;2;13;17;23mяпонские\u001b[0m\u001b[38;2;230;237;243;48;2;13;17;23m \u001b[0m\u001b[48;2;13;17;23m              \u001b[0m\n",
       "\u001b[38;2;230;237;243;48;2;13;17;23mрестораны:\u001b[0m\u001b[38;2;230;237;243;48;2;13;17;23m\\n\u001b[0m\u001b[38;2;230;237;243;48;2;13;17;23m\\n\u001b[0m\u001b[38;2;230;237;243;48;2;13;17;23m-\u001b[0m\u001b[38;2;230;237;243;48;2;13;17;23m \u001b[0m\u001b[1;38;2;230;237;243;48;2;13;17;23m**Izumi**\u001b[0m\u001b[38;2;230;237;243;48;2;13;17;23m \u001b[0m\u001b[38;2;230;237;243;48;2;13;17;23mна\u001b[0m\u001b[38;2;230;237;243;48;2;13;17;23m \u001b[0m\u001b[38;2;230;237;243;48;2;13;17;23mМясницкой\u001b[0m\u001b[38;2;230;237;243;48;2;13;17;23m \u001b[0m\u001b[38;2;230;237;243;48;2;13;17;23mулице,\u001b[0m\u001b[38;2;230;237;243;48;2;13;17;23m \u001b[0m\u001b[38;2;230;237;243;48;2;13;17;23m38с1\u001b[0m\u001b[38;2;230;237;243;48;2;13;17;23m \u001b[0m\u001b[38;2;230;237;243;48;2;13;17;23m–\u001b[0m\u001b[38;2;230;237;243;48;2;13;17;23m \u001b[0m\u001b[38;2;230;237;243;48;2;13;17;23mвыделяется\u001b[0m\u001b[38;2;230;237;243;48;2;13;17;23m \u001b[0m\u001b[38;2;230;237;243;48;2;13;17;23mкачеством\u001b[0m\u001b[38;2;230;237;243;48;2;13;17;23m \u001b[0m\u001b[38;2;230;237;243;48;2;13;17;23mблюд\u001b[0m\u001b[38;2;230;237;243;48;2;13;17;23m \u001b[0m\u001b[38;2;230;237;243;48;2;13;17;23mи\u001b[0m\u001b[38;2;230;237;243;48;2;13;17;23m \u001b[0m\u001b[38;2;230;237;243;48;2;13;17;23mразнообразным\u001b[0m\u001b[38;2;230;237;243;48;2;13;17;23m \u001b[0m\u001b[38;2;230;237;243;48;2;13;17;23mменю.\u001b[0m\u001b[38;2;230;237;243;48;2;13;17;23m\\n\u001b[0m\u001b[38;2;230;237;243;48;2;13;17;23m-\u001b[0m\u001b[38;2;230;237;243;48;2;13;17;23m \u001b[0m\u001b[1;38;2;230;237;243;48;2;13;17;23m**Tsunami \u001b[0m\u001b[48;2;13;17;23m \u001b[0m\n",
       "\u001b[1;38;2;230;237;243;48;2;13;17;23mSushi & Cocktails**\u001b[0m\u001b[38;2;230;237;243;48;2;13;17;23m \u001b[0m\u001b[38;2;230;237;243;48;2;13;17;23mв\u001b[0m\u001b[38;2;230;237;243;48;2;13;17;23m \u001b[0m\u001b[38;2;230;237;243;48;2;13;17;23mБлаговещенском\u001b[0m\u001b[38;2;230;237;243;48;2;13;17;23m \u001b[0m\u001b[38;2;230;237;243;48;2;13;17;23mпереулке,\u001b[0m\u001b[38;2;230;237;243;48;2;13;17;23m \u001b[0m\u001b[38;2;230;237;243;48;2;13;17;23m1А\u001b[0m\u001b[38;2;230;237;243;48;2;13;17;23m \u001b[0m\u001b[38;2;230;237;243;48;2;13;17;23m–\u001b[0m\u001b[38;2;230;237;243;48;2;13;17;23m \u001b[0m\u001b[38;2;230;237;243;48;2;13;17;23mотличный\u001b[0m\u001b[38;2;230;237;243;48;2;13;17;23m \u001b[0m\u001b[38;2;230;237;243;48;2;13;17;23mвыбор\u001b[0m\u001b[38;2;230;237;243;48;2;13;17;23m \u001b[0m\u001b[38;2;230;237;243;48;2;13;17;23mдля\u001b[0m\u001b[38;2;230;237;243;48;2;13;17;23m \u001b[0m\u001b[38;2;230;237;243;48;2;13;17;23mлюбителей\u001b[0m\u001b[38;2;230;237;243;48;2;13;17;23m \u001b[0m\u001b[38;2;230;237;243;48;2;13;17;23mатмосферных\u001b[0m\u001b[38;2;230;237;243;48;2;13;17;23m \u001b[0m\u001b[38;2;230;237;243;48;2;13;17;23mзаведений\u001b[0m\u001b[38;2;230;237;243;48;2;13;17;23m \u001b[0m\u001b[38;2;230;237;243;48;2;13;17;23mс\u001b[0m\u001b[38;2;230;237;243;48;2;13;17;23m \u001b[0m\u001b[38;2;230;237;243;48;2;13;17;23mнеоновым\u001b[0m\u001b[38;2;230;237;243;48;2;13;17;23m \u001b[0m\u001b[48;2;13;17;23m \u001b[0m\n",
       "\u001b[38;2;230;237;243;48;2;13;17;23mТокио\u001b[0m\u001b[38;2;230;237;243;48;2;13;17;23m \u001b[0m\u001b[38;2;230;237;243;48;2;13;17;23mстилем\u001b[0m\u001b[38;2;230;237;243;48;2;13;17;23m \u001b[0m\u001b[38;2;230;237;243;48;2;13;17;23mи\u001b[0m\u001b[38;2;230;237;243;48;2;13;17;23m \u001b[0m\u001b[38;2;230;237;243;48;2;13;17;23mвкусными\u001b[0m\u001b[38;2;230;237;243;48;2;13;17;23m \u001b[0m\u001b[38;2;230;237;243;48;2;13;17;23mроллами.\u001b[0m\u001b[38;2;230;237;243;48;2;13;17;23m\\n\u001b[0m\u001b[38;2;230;237;243;48;2;13;17;23m\\n\u001b[0m\u001b[38;2;230;237;243;48;2;13;17;23mОба\u001b[0m\u001b[38;2;230;237;243;48;2;13;17;23m \u001b[0m\u001b[38;2;230;237;243;48;2;13;17;23mэтих\u001b[0m\u001b[38;2;230;237;243;48;2;13;17;23m \u001b[0m\u001b[38;2;230;237;243;48;2;13;17;23mместа\u001b[0m\u001b[38;2;230;237;243;48;2;13;17;23m \u001b[0m\u001b[38;2;230;237;243;48;2;13;17;23mполучили\u001b[0m\u001b[38;2;230;237;243;48;2;13;17;23m \u001b[0m\u001b[38;2;230;237;243;48;2;13;17;23mвысокие\u001b[0m\u001b[38;2;230;237;243;48;2;13;17;23m \u001b[0m\u001b[38;2;230;237;243;48;2;13;17;23mоценки\u001b[0m\u001b[38;2;230;237;243;48;2;13;17;23m \u001b[0m\u001b[38;2;230;237;243;48;2;13;17;23mпосетителей\u001b[0m\u001b[38;2;230;237;243;48;2;13;17;23m \u001b[0m\u001b[38;2;230;237;243;48;2;13;17;23mза\u001b[0m\u001b[38;2;230;237;243;48;2;13;17;23m \u001b[0m\u001b[38;2;230;237;243;48;2;13;17;23mкачество\u001b[0m\u001b[38;2;230;237;243;48;2;13;17;23m \u001b[0m\u001b[38;2;230;237;243;48;2;13;17;23mеды\u001b[0m\u001b[38;2;230;237;243;48;2;13;17;23m \u001b[0m\u001b[38;2;230;237;243;48;2;13;17;23mи\u001b[0m\u001b[38;2;230;237;243;48;2;13;17;23m \u001b[0m\u001b[48;2;13;17;23m          \u001b[0m\n",
       "\u001b[38;2;230;237;243;48;2;13;17;23mобслуживания.\"\u001b[0m\u001b[38;2;230;237;243;48;2;13;17;23m \u001b[0m\u001b[38;2;230;237;243;48;2;13;17;23m}\u001b[0m\u001b[38;2;230;237;243;48;2;13;17;23m \u001b[0m\u001b[38;2;230;237;243;48;2;13;17;23m}\u001b[0m\u001b[48;2;13;17;23m                                                                                                 \u001b[0m\n"
      ]
     },
     "metadata": {},
     "output_type": "display_data"
    },
    {
     "data": {
      "text/html": [
       "<pre style=\"white-space:pre;overflow-x:auto;line-height:normal;font-family:Menlo,'DejaVu Sans Mono',consolas,'Courier New',monospace\">╭─────────────────────────────────────────────────────────────────────────────────────────────────────────────────╮\n",
       "│ Calling tool: 'final_answer' with arguments: {'answer': 'В Москве рекомендуем посетить следующие японские       │\n",
       "│ рестораны:\\n\\n- **Izumi** на Мясницкой улице, 38с1 – выделяется качеством блюд и разнообразным меню.\\n-         │\n",
       "│ **Tsunami Sushi &amp; Cocktails** в Благовещенском переулке, 1А – отличный выбор для любителей атмосферных          │\n",
       "│ заведений с неоновым Токио стилем и вкусными роллами.\\n\\nОба этих места получили высокие оценки посетителей за  │\n",
       "│ качество еды и обслуживания.'}                                                                                  │\n",
       "╰─────────────────────────────────────────────────────────────────────────────────────────────────────────────────╯\n",
       "</pre>\n"
      ],
      "text/plain": [
       "╭─────────────────────────────────────────────────────────────────────────────────────────────────────────────────╮\n",
       "│ Calling tool: 'final_answer' with arguments: {'answer': 'В Москве рекомендуем посетить следующие японские       │\n",
       "│ рестораны:\\n\\n- **Izumi** на Мясницкой улице, 38с1 – выделяется качеством блюд и разнообразным меню.\\n-         │\n",
       "│ **Tsunami Sushi & Cocktails** в Благовещенском переулке, 1А – отличный выбор для любителей атмосферных          │\n",
       "│ заведений с неоновым Токио стилем и вкусными роллами.\\n\\nОба этих места получили высокие оценки посетителей за  │\n",
       "│ качество еды и обслуживания.'}                                                                                  │\n",
       "╰─────────────────────────────────────────────────────────────────────────────────────────────────────────────────╯\n"
      ]
     },
     "metadata": {},
     "output_type": "display_data"
    },
    {
     "data": {
      "text/html": [
       "<pre style=\"white-space:pre;overflow-x:auto;line-height:normal;font-family:Menlo,'DejaVu Sans Mono',consolas,'Courier New',monospace\"><span style=\"color: #d4b702; text-decoration-color: #d4b702; font-weight: bold\">Final answer: В Москве рекомендуем посетить следующие японские рестораны:</span>\n",
       "\n",
       "<span style=\"color: #d4b702; text-decoration-color: #d4b702; font-weight: bold\">- **Izumi** на Мясницкой улице, 38с1 – выделяется качеством блюд и разнообразным меню.</span>\n",
       "<span style=\"color: #d4b702; text-decoration-color: #d4b702; font-weight: bold\">- **Tsunami Sushi &amp; Cocktails** в Благовещенском переулке, 1А – отличный выбор для любителей атмосферных заведений </span>\n",
       "<span style=\"color: #d4b702; text-decoration-color: #d4b702; font-weight: bold\">с неоновым Токио стилем и вкусными роллами.</span>\n",
       "\n",
       "<span style=\"color: #d4b702; text-decoration-color: #d4b702; font-weight: bold\">Оба этих места получили высокие оценки посетителей за качество еды и обслуживания.</span>\n",
       "</pre>\n"
      ],
      "text/plain": [
       "\u001b[1;38;2;212;183;2mFinal answer: В Москве рекомендуем посетить следующие японские рестораны:\u001b[0m\n",
       "\n",
       "\u001b[1;38;2;212;183;2m- **Izumi** на Мясницкой улице, 38с1 – выделяется качеством блюд и разнообразным меню.\u001b[0m\n",
       "\u001b[1;38;2;212;183;2m- **Tsunami Sushi & Cocktails** в Благовещенском переулке, 1А – отличный выбор для любителей атмосферных заведений \u001b[0m\n",
       "\u001b[1;38;2;212;183;2mс неоновым Токио стилем и вкусными роллами.\u001b[0m\n",
       "\n",
       "\u001b[1;38;2;212;183;2mОба этих места получили высокие оценки посетителей за качество еды и обслуживания.\u001b[0m\n"
      ]
     },
     "metadata": {},
     "output_type": "display_data"
    },
    {
     "data": {
      "text/html": [
       "<pre style=\"white-space:pre;overflow-x:auto;line-height:normal;font-family:Menlo,'DejaVu Sans Mono',consolas,'Courier New',monospace\"><span style=\"color: #7f7f7f; text-decoration-color: #7f7f7f\">[Step 2: Duration 25.23 seconds| Input tokens: 4,806 | Output tokens: 192]</span>\n",
       "</pre>\n"
      ],
      "text/plain": [
       "\u001b[2m[Step 2: Duration 25.23 seconds| Input tokens: 4,806 | Output tokens: 192]\u001b[0m\n"
      ]
     },
     "metadata": {},
     "output_type": "display_data"
    }
   ],
   "source": [
    "resp = agent.run(\"Я бы хотел посетить японский ресторан. Можешь ли посоветовать хороший в Москве?\")"
   ]
  },
  {
   "cell_type": "code",
   "execution_count": 25,
   "id": "7f84a16c",
   "metadata": {},
   "outputs": [
    {
     "data": {
      "text/html": [
       "<pre style=\"white-space:pre;overflow-x:auto;line-height:normal;font-family:Menlo,'DejaVu Sans Mono',consolas,'Courier New',monospace\"><span style=\"color: #d4b702; text-decoration-color: #d4b702\">╭──────────────────────────────────────────────────── </span><span style=\"color: #d4b702; text-decoration-color: #d4b702; font-weight: bold\">New run</span><span style=\"color: #d4b702; text-decoration-color: #d4b702\"> ────────────────────────────────────────────────────╮</span>\n",
       "<span style=\"color: #d4b702; text-decoration-color: #d4b702\">│</span>                                                                                                                 <span style=\"color: #d4b702; text-decoration-color: #d4b702\">│</span>\n",
       "<span style=\"color: #d4b702; text-decoration-color: #d4b702\">│</span> <span style=\"font-weight: bold\">Подскажи мне ателье по ременту обуви?</span>                                                                           <span style=\"color: #d4b702; text-decoration-color: #d4b702\">│</span>\n",
       "<span style=\"color: #d4b702; text-decoration-color: #d4b702\">│</span>                                                                                                                 <span style=\"color: #d4b702; text-decoration-color: #d4b702\">│</span>\n",
       "<span style=\"color: #d4b702; text-decoration-color: #d4b702\">╰─ LiteLLMModel - ollama_chat/hf.co/IlyaGusev/saiga_nemo_12b_gguf:Q4_0 ───────────────────────────────────────────╯</span>\n",
       "</pre>\n"
      ],
      "text/plain": [
       "\u001b[38;2;212;183;2m╭─\u001b[0m\u001b[38;2;212;183;2m───────────────────────────────────────────────────\u001b[0m\u001b[38;2;212;183;2m \u001b[0m\u001b[1;38;2;212;183;2mNew run\u001b[0m\u001b[38;2;212;183;2m \u001b[0m\u001b[38;2;212;183;2m───────────────────────────────────────────────────\u001b[0m\u001b[38;2;212;183;2m─╮\u001b[0m\n",
       "\u001b[38;2;212;183;2m│\u001b[0m                                                                                                                 \u001b[38;2;212;183;2m│\u001b[0m\n",
       "\u001b[38;2;212;183;2m│\u001b[0m \u001b[1mПодскажи мне ателье по ременту обуви?\u001b[0m                                                                           \u001b[38;2;212;183;2m│\u001b[0m\n",
       "\u001b[38;2;212;183;2m│\u001b[0m                                                                                                                 \u001b[38;2;212;183;2m│\u001b[0m\n",
       "\u001b[38;2;212;183;2m╰─\u001b[0m\u001b[38;2;212;183;2m LiteLLMModel - ollama_chat/hf.co/IlyaGusev/saiga_nemo_12b_gguf:Q4_0 \u001b[0m\u001b[38;2;212;183;2m──────────────────────────────────────────\u001b[0m\u001b[38;2;212;183;2m─╯\u001b[0m\n"
      ]
     },
     "metadata": {},
     "output_type": "display_data"
    },
    {
     "data": {
      "text/html": [
       "<pre style=\"white-space:pre;overflow-x:auto;line-height:normal;font-family:Menlo,'DejaVu Sans Mono',consolas,'Courier New',monospace\"><span style=\"color: #d4b702; text-decoration-color: #d4b702\">━━━━━━━━━━━━━━━━━━━━━━━━━━━━━━━━━━━━━━━━━━━━━━━━━━━━━ </span><span style=\"font-weight: bold\">Step </span><span style=\"color: #008080; text-decoration-color: #008080; font-weight: bold\">1</span><span style=\"color: #d4b702; text-decoration-color: #d4b702\"> ━━━━━━━━━━━━━━━━━━━━━━━━━━━━━━━━━━━━━━━━━━━━━━━━━━━━━━</span>\n",
       "</pre>\n"
      ],
      "text/plain": [
       "\u001b[38;2;212;183;2m━━━━━━━━━━━━━━━━━━━━━━━━━━━━━━━━━━━━━━━━━━━━━━━━━━━━━ \u001b[0m\u001b[1mStep \u001b[0m\u001b[1;36m1\u001b[0m\u001b[38;2;212;183;2m ━━━━━━━━━━━━━━━━━━━━━━━━━━━━━━━━━━━━━━━━━━━━━━━━━━━━━━\u001b[0m\n"
      ]
     },
     "metadata": {},
     "output_type": "display_data"
    },
    {
     "data": {
      "text/html": [
       "<pre style=\"white-space:pre;overflow-x:auto;line-height:normal;font-family:Menlo,'DejaVu Sans Mono',consolas,'Courier New',monospace\"><span style=\"font-weight: bold; font-style: italic\">Output message of the LLM:</span> <span style=\"color: #d4b702; text-decoration-color: #d4b702\">────────────────────────────────────────────────────────────────────────────────────────</span>\n",
       "<span style=\"color: #e6edf3; text-decoration-color: #e6edf3; background-color: #0d1117\">{\"name\": \"travel_review_query\", \"arguments\": {\"query\": \"отличное ателье по ремонту обуви\"}}</span><span style=\"background-color: #0d1117\">                        </span>\n",
       "<span style=\"color: #e6edf3; text-decoration-color: #e6edf3; background-color: #0d1117\">  </span><span style=\"background-color: #0d1117\">                                                                                                                 </span>\n",
       "<span style=\"color: #e6edf3; text-decoration-color: #e6edf3; background-color: #0d1117\">  </span><span style=\"background-color: #0d1117\">                                                                                                                 </span>\n",
       "<span style=\"color: #e6edf3; text-decoration-color: #e6edf3; background-color: #0d1117\">  </span><span style=\"background-color: #0d1117\">                                                                                                                 </span>\n",
       "<span style=\"color: #e6edf3; text-decoration-color: #e6edf3; background-color: #0d1117\">  </span><span style=\"background-color: #0d1117\">                                                                                                                 </span>\n",
       "<span style=\"color: #e6edf3; text-decoration-color: #e6edf3; background-color: #0d1117\">  </span><span style=\"background-color: #0d1117\">                                                                                                                 </span>\n",
       "<span style=\"color: #e6edf3; text-decoration-color: #e6edf3; background-color: #0d1117\">  </span><span style=\"background-color: #0d1117\">                                                                                                                 </span>\n",
       "<span style=\"color: #e6edf3; text-decoration-color: #e6edf3; background-color: #0d1117\">  </span><span style=\"background-color: #0d1117\">                                                                                                                 </span>\n",
       "<span style=\"color: #e6edf3; text-decoration-color: #e6edf3; background-color: #0d1117\">  </span><span style=\"background-color: #0d1117\">                                                                                                                 </span>\n",
       "<span style=\"color: #e6edf3; text-decoration-color: #e6edf3; background-color: #0d1117\">  </span><span style=\"background-color: #0d1117\">                                                                                                                 </span>\n",
       "<span style=\"color: #e6edf3; text-decoration-color: #e6edf3; background-color: #0d1117\">  </span><span style=\"background-color: #0d1117\">                                                                                                                 </span>\n",
       "<span style=\"color: #e6edf3; text-decoration-color: #e6edf3; background-color: #0d1117\">  </span><span style=\"background-color: #0d1117\">                                                                                                                 </span>\n",
       "<span style=\"color: #e6edf3; text-decoration-color: #e6edf3; background-color: #0d1117\">  </span><span style=\"background-color: #0d1117\">                                                                                                                 </span>\n",
       "<span style=\"background-color: #0d1117\">                                                                                                                   </span>\n",
       "<span style=\"color: #e6edf3; text-decoration-color: #e6edf3; background-color: #0d1117\">  </span><span style=\"background-color: #0d1117\">                                                                                                                 </span>\n",
       "<span style=\"background-color: #0d1117\">                                                                                                                   </span>\n",
       "<span style=\"background-color: #0d1117\">                                                                                                                   </span>\n",
       "<span style=\"color: #e6edf3; text-decoration-color: #e6edf3; background-color: #0d1117\">  </span><span style=\"background-color: #0d1117\">                                                                                                                 </span>\n",
       "<span style=\"color: #e6edf3; text-decoration-color: #e6edf3; background-color: #0d1117\">  </span><span style=\"background-color: #0d1117\">                                                                                                                 </span>\n",
       "<span style=\"color: #e6edf3; text-decoration-color: #e6edf3; background-color: #0d1117\">  </span><span style=\"background-color: #0d1117\">                                                                                                                 </span>\n",
       "</pre>\n"
      ],
      "text/plain": [
       "\u001b[1;3mOutput message of the LLM:\u001b[0m \u001b[38;2;212;183;2m────────────────────────────────────────────────────────────────────────────────────────\u001b[0m\n",
       "\u001b[38;2;230;237;243;48;2;13;17;23m{\"name\":\u001b[0m\u001b[38;2;230;237;243;48;2;13;17;23m \u001b[0m\u001b[38;2;230;237;243;48;2;13;17;23m\"travel_review_query\",\u001b[0m\u001b[38;2;230;237;243;48;2;13;17;23m \u001b[0m\u001b[38;2;230;237;243;48;2;13;17;23m\"arguments\":\u001b[0m\u001b[38;2;230;237;243;48;2;13;17;23m \u001b[0m\u001b[38;2;230;237;243;48;2;13;17;23m{\"query\":\u001b[0m\u001b[38;2;230;237;243;48;2;13;17;23m \u001b[0m\u001b[38;2;230;237;243;48;2;13;17;23m\"отличное\u001b[0m\u001b[38;2;230;237;243;48;2;13;17;23m \u001b[0m\u001b[38;2;230;237;243;48;2;13;17;23mателье\u001b[0m\u001b[38;2;230;237;243;48;2;13;17;23m \u001b[0m\u001b[38;2;230;237;243;48;2;13;17;23mпо\u001b[0m\u001b[38;2;230;237;243;48;2;13;17;23m \u001b[0m\u001b[38;2;230;237;243;48;2;13;17;23mремонту\u001b[0m\u001b[38;2;230;237;243;48;2;13;17;23m \u001b[0m\u001b[38;2;230;237;243;48;2;13;17;23mобуви\"}}\u001b[0m\u001b[48;2;13;17;23m                        \u001b[0m\n",
       "\u001b[38;2;230;237;243;48;2;13;17;23m \u001b[0m\u001b[38;2;230;237;243;48;2;13;17;23m \u001b[0m\u001b[48;2;13;17;23m                                                                                                                 \u001b[0m\n",
       "\u001b[38;2;230;237;243;48;2;13;17;23m \u001b[0m\u001b[38;2;230;237;243;48;2;13;17;23m \u001b[0m\u001b[48;2;13;17;23m                                                                                                                 \u001b[0m\n",
       "\u001b[38;2;230;237;243;48;2;13;17;23m \u001b[0m\u001b[38;2;230;237;243;48;2;13;17;23m \u001b[0m\u001b[48;2;13;17;23m                                                                                                                 \u001b[0m\n",
       "\u001b[38;2;230;237;243;48;2;13;17;23m \u001b[0m\u001b[38;2;230;237;243;48;2;13;17;23m \u001b[0m\u001b[48;2;13;17;23m                                                                                                                 \u001b[0m\n",
       "\u001b[38;2;230;237;243;48;2;13;17;23m \u001b[0m\u001b[38;2;230;237;243;48;2;13;17;23m \u001b[0m\u001b[48;2;13;17;23m                                                                                                                 \u001b[0m\n",
       "\u001b[38;2;230;237;243;48;2;13;17;23m \u001b[0m\u001b[38;2;230;237;243;48;2;13;17;23m \u001b[0m\u001b[48;2;13;17;23m                                                                                                                 \u001b[0m\n",
       "\u001b[38;2;230;237;243;48;2;13;17;23m \u001b[0m\u001b[38;2;230;237;243;48;2;13;17;23m \u001b[0m\u001b[48;2;13;17;23m                                                                                                                 \u001b[0m\n",
       "\u001b[38;2;230;237;243;48;2;13;17;23m \u001b[0m\u001b[38;2;230;237;243;48;2;13;17;23m \u001b[0m\u001b[48;2;13;17;23m                                                                                                                 \u001b[0m\n",
       "\u001b[38;2;230;237;243;48;2;13;17;23m \u001b[0m\u001b[38;2;230;237;243;48;2;13;17;23m \u001b[0m\u001b[48;2;13;17;23m                                                                                                                 \u001b[0m\n",
       "\u001b[38;2;230;237;243;48;2;13;17;23m \u001b[0m\u001b[38;2;230;237;243;48;2;13;17;23m \u001b[0m\u001b[48;2;13;17;23m                                                                                                                 \u001b[0m\n",
       "\u001b[38;2;230;237;243;48;2;13;17;23m \u001b[0m\u001b[38;2;230;237;243;48;2;13;17;23m \u001b[0m\u001b[48;2;13;17;23m                                                                                                                 \u001b[0m\n",
       "\u001b[38;2;230;237;243;48;2;13;17;23m \u001b[0m\u001b[38;2;230;237;243;48;2;13;17;23m \u001b[0m\u001b[48;2;13;17;23m                                                                                                                 \u001b[0m\n",
       "\u001b[48;2;13;17;23m                                                                                                                   \u001b[0m\n",
       "\u001b[38;2;230;237;243;48;2;13;17;23m \u001b[0m\u001b[38;2;230;237;243;48;2;13;17;23m \u001b[0m\u001b[48;2;13;17;23m                                                                                                                 \u001b[0m\n",
       "\u001b[48;2;13;17;23m                                                                                                                   \u001b[0m\n",
       "\u001b[48;2;13;17;23m                                                                                                                   \u001b[0m\n",
       "\u001b[38;2;230;237;243;48;2;13;17;23m \u001b[0m\u001b[38;2;230;237;243;48;2;13;17;23m \u001b[0m\u001b[48;2;13;17;23m                                                                                                                 \u001b[0m\n",
       "\u001b[38;2;230;237;243;48;2;13;17;23m \u001b[0m\u001b[38;2;230;237;243;48;2;13;17;23m \u001b[0m\u001b[48;2;13;17;23m                                                                                                                 \u001b[0m\n",
       "\u001b[38;2;230;237;243;48;2;13;17;23m \u001b[0m\u001b[38;2;230;237;243;48;2;13;17;23m \u001b[0m\u001b[48;2;13;17;23m                                                                                                                 \u001b[0m\n"
      ]
     },
     "metadata": {},
     "output_type": "display_data"
    },
    {
     "data": {
      "text/html": [
       "<pre style=\"white-space:pre;overflow-x:auto;line-height:normal;font-family:Menlo,'DejaVu Sans Mono',consolas,'Courier New',monospace\">╭─────────────────────────────────────────────────────────────────────────────────────────────────────────────────╮\n",
       "│ Calling tool: 'travel_review_query' with arguments: {'query': 'отличное ателье по ремонту обуви'}               │\n",
       "╰─────────────────────────────────────────────────────────────────────────────────────────────────────────────────╯\n",
       "</pre>\n"
      ],
      "text/plain": [
       "╭─────────────────────────────────────────────────────────────────────────────────────────────────────────────────╮\n",
       "│ Calling tool: 'travel_review_query' with arguments: {'query': 'отличное ателье по ремонту обуви'}               │\n",
       "╰─────────────────────────────────────────────────────────────────────────────────────────────────────────────────╯\n"
      ]
     },
     "metadata": {},
     "output_type": "display_data"
    },
    {
     "data": {
      "text/html": [
       "<pre style=\"white-space:pre;overflow-x:auto;line-height:normal;font-family:Menlo,'DejaVu Sans Mono',consolas,'Courier New',monospace\">Observations: Найденные отзывы о местах:\n",
       "\n",
       "=== Отзыв на Люкс мастер ===\n",
       "Адрес: Москва, Кожевническая улица, <span style=\"color: #008080; text-decoration-color: #008080; font-weight: bold\">10</span>, стр. <span style=\"color: #008080; text-decoration-color: #008080; font-weight: bold\">1</span>\n",
       "Рейтинг: <span style=\"color: #008080; text-decoration-color: #008080; font-weight: bold\">5.0</span>\n",
       "Категории: |<span style=\"color: #008000; text-decoration-color: #008000\">'Ремонт обуви'</span>, <span style=\"color: #008000; text-decoration-color: #008000\">'Металлоремонт'</span>, <span style=\"color: #008000; text-decoration-color: #008000\">'Ремонт одежды'</span><span style=\"font-weight: bold\">]</span>\n",
       "Текст: Пользуюсь услугами ремонта обуви  и ателье уже почти год. Всем довольна. Качество работы отличное. Цены \n",
       "приемлемые. Если нужно быстро  сделают. А самое главное ребята приятные в общении и учитывают все пожелания. \n",
       "Рекомендую!<span style=\"font-weight: bold\">)</span> \n",
       "\n",
       "=== Отзыв на Дом Быта ===\n",
       "Адрес: Москва, Зарайская улица, <span style=\"color: #008080; text-decoration-color: #008080; font-weight: bold\">53</span>\n",
       "Рейтинг: <span style=\"color: #008080; text-decoration-color: #008080; font-weight: bold\">5.0</span>\n",
       "Категории: |<span style=\"color: #008000; text-decoration-color: #008000\">'Ремонт одежды'</span>, <span style=\"color: #008000; text-decoration-color: #008000\">'Ремонт обуви'</span>, <span style=\"color: #008000; text-decoration-color: #008000\">'Изготовление и ремонт ключей'</span><span style=\"font-weight: bold\">]</span>\n",
       "Текст: Отличное Ателье! Пожалуй , самое лучшее соотношение качества и цены в нашем районе!!! Исполняют все заказы в\n",
       "срок и качественно. Персонал очень вежливый. Ремонтировала пальто и брюки. Все понравилось!  Рекомендую 🏆🥇👍🏻 \n",
       "\n",
       "=== Отзыв на Ателье ===\n",
       "Адрес: Москва, проезд Дежнёва, <span style=\"color: #008080; text-decoration-color: #008080; font-weight: bold\">21</span>\n",
       "Рейтинг: <span style=\"color: #008080; text-decoration-color: #008080; font-weight: bold\">5.0</span>\n",
       "Категории: |<span style=\"color: #008000; text-decoration-color: #008000\">'Ремонт одежды'</span>, <span style=\"color: #008000; text-decoration-color: #008000\">'Ремонт обуви'</span>, <span style=\"color: #008000; text-decoration-color: #008000\">'Ателье по пошиву одежды'</span><span style=\"font-weight: bold\">]</span>\n",
       "Текст: Постоянно пользуюсь услугами данного ателье! Все на высшем уровне.От ремонта обуви до ремонта кожаных и \n",
       "меховых изделий. Спасибо вам за ваш труд \n",
       "\n",
       "=== Отзыв на Косино Парк ===\n",
       "Адрес: Москва, Святоозёрская улица, 1А\n",
       "Рейтинг: <span style=\"color: #008080; text-decoration-color: #008080; font-weight: bold\">5.0</span>\n",
       "Категории: |<span style=\"color: #008000; text-decoration-color: #008000\">'Торговый центр'</span>, <span style=\"color: #008000; text-decoration-color: #008000\">'Развлекательный центр'</span><span style=\"font-weight: bold\">]</span>\n",
       "Текст: Дом быта. Ремонт обуви делают очень быстро и качественно. Мастер раньше работал на Рязанском проспекте. \n",
       "Теперь в этом ТЦ. Зовут Гена. Очень вежливый и работу свою знает. Поэтому езжу к нему. Вся обувь идеальна после его\n",
       "ремонта.  Рекомендую.  \n",
       "\n",
       "=== Отзыв на Afanas’ev ===\n",
       "Адрес: Москва, Малый Лёвшинский переулок, <span style=\"color: #008080; text-decoration-color: #008080; font-weight: bold\">6</span>-<span style=\"color: #008080; text-decoration-color: #008080; font-weight: bold\">8</span>\n",
       "Рейтинг: <span style=\"color: #008080; text-decoration-color: #008080; font-weight: bold\">5.0</span>\n",
       "Категории: |<span style=\"color: #008000; text-decoration-color: #008000\">'Ремонт обуви'</span>, <span style=\"color: #008000; text-decoration-color: #008000\">'Кожевенная мастерская'</span>, <span style=\"color: #008000; text-decoration-color: #008000\">'Химчистка'</span><span style=\"font-weight: bold\">]</span>\n",
       "Текст: Большое спасибо за вашу работу !! Высркий профессианолизм и безупречное качество . Вежливое обслуживание. Вы\n",
       "сломали мое стереотипное представление об ателье по ремонту обуви!<span style=\"font-weight: bold\">)</span>\n",
       "</pre>\n"
      ],
      "text/plain": [
       "Observations: Найденные отзывы о местах:\n",
       "\n",
       "=== Отзыв на Люкс мастер ===\n",
       "Адрес: Москва, Кожевническая улица, \u001b[1;36m10\u001b[0m, стр. \u001b[1;36m1\u001b[0m\n",
       "Рейтинг: \u001b[1;36m5.0\u001b[0m\n",
       "Категории: |\u001b[32m'Ремонт обуви'\u001b[0m, \u001b[32m'Металлоремонт'\u001b[0m, \u001b[32m'Ремонт одежды'\u001b[0m\u001b[1m]\u001b[0m\n",
       "Текст: Пользуюсь услугами ремонта обуви  и ателье уже почти год. Всем довольна. Качество работы отличное. Цены \n",
       "приемлемые. Если нужно быстро  сделают. А самое главное ребята приятные в общении и учитывают все пожелания. \n",
       "Рекомендую!\u001b[1m)\u001b[0m \n",
       "\n",
       "=== Отзыв на Дом Быта ===\n",
       "Адрес: Москва, Зарайская улица, \u001b[1;36m53\u001b[0m\n",
       "Рейтинг: \u001b[1;36m5.0\u001b[0m\n",
       "Категории: |\u001b[32m'Ремонт одежды'\u001b[0m, \u001b[32m'Ремонт обуви'\u001b[0m, \u001b[32m'Изготовление и ремонт ключей'\u001b[0m\u001b[1m]\u001b[0m\n",
       "Текст: Отличное Ателье! Пожалуй , самое лучшее соотношение качества и цены в нашем районе!!! Исполняют все заказы в\n",
       "срок и качественно. Персонал очень вежливый. Ремонтировала пальто и брюки. Все понравилось!  Рекомендую 🏆🥇👍🏻 \n",
       "\n",
       "=== Отзыв на Ателье ===\n",
       "Адрес: Москва, проезд Дежнёва, \u001b[1;36m21\u001b[0m\n",
       "Рейтинг: \u001b[1;36m5.0\u001b[0m\n",
       "Категории: |\u001b[32m'Ремонт одежды'\u001b[0m, \u001b[32m'Ремонт обуви'\u001b[0m, \u001b[32m'Ателье по пошиву одежды'\u001b[0m\u001b[1m]\u001b[0m\n",
       "Текст: Постоянно пользуюсь услугами данного ателье! Все на высшем уровне.От ремонта обуви до ремонта кожаных и \n",
       "меховых изделий. Спасибо вам за ваш труд \n",
       "\n",
       "=== Отзыв на Косино Парк ===\n",
       "Адрес: Москва, Святоозёрская улица, 1А\n",
       "Рейтинг: \u001b[1;36m5.0\u001b[0m\n",
       "Категории: |\u001b[32m'Торговый центр'\u001b[0m, \u001b[32m'Развлекательный центр'\u001b[0m\u001b[1m]\u001b[0m\n",
       "Текст: Дом быта. Ремонт обуви делают очень быстро и качественно. Мастер раньше работал на Рязанском проспекте. \n",
       "Теперь в этом ТЦ. Зовут Гена. Очень вежливый и работу свою знает. Поэтому езжу к нему. Вся обувь идеальна после его\n",
       "ремонта.  Рекомендую.  \n",
       "\n",
       "=== Отзыв на Afanas’ev ===\n",
       "Адрес: Москва, Малый Лёвшинский переулок, \u001b[1;36m6\u001b[0m-\u001b[1;36m8\u001b[0m\n",
       "Рейтинг: \u001b[1;36m5.0\u001b[0m\n",
       "Категории: |\u001b[32m'Ремонт обуви'\u001b[0m, \u001b[32m'Кожевенная мастерская'\u001b[0m, \u001b[32m'Химчистка'\u001b[0m\u001b[1m]\u001b[0m\n",
       "Текст: Большое спасибо за вашу работу !! Высркий профессианолизм и безупречное качество . Вежливое обслуживание. Вы\n",
       "сломали мое стереотипное представление об ателье по ремонту обуви!\u001b[1m)\u001b[0m\n"
      ]
     },
     "metadata": {},
     "output_type": "display_data"
    },
    {
     "data": {
      "text/html": [
       "<pre style=\"white-space:pre;overflow-x:auto;line-height:normal;font-family:Menlo,'DejaVu Sans Mono',consolas,'Courier New',monospace\"><span style=\"color: #7f7f7f; text-decoration-color: #7f7f7f\">[Step 1: Duration 6.31 seconds| Input tokens: 2,169 | Output tokens: 42]</span>\n",
       "</pre>\n"
      ],
      "text/plain": [
       "\u001b[2m[Step 1: Duration 6.31 seconds| Input tokens: 2,169 | Output tokens: 42]\u001b[0m\n"
      ]
     },
     "metadata": {},
     "output_type": "display_data"
    },
    {
     "data": {
      "text/html": [
       "<pre style=\"white-space:pre;overflow-x:auto;line-height:normal;font-family:Menlo,'DejaVu Sans Mono',consolas,'Courier New',monospace\"><span style=\"color: #d4b702; text-decoration-color: #d4b702\">━━━━━━━━━━━━━━━━━━━━━━━━━━━━━━━━━━━━━━━━━━━━━━━━━━━━━ </span><span style=\"font-weight: bold\">Step </span><span style=\"color: #008080; text-decoration-color: #008080; font-weight: bold\">2</span><span style=\"color: #d4b702; text-decoration-color: #d4b702\"> ━━━━━━━━━━━━━━━━━━━━━━━━━━━━━━━━━━━━━━━━━━━━━━━━━━━━━━</span>\n",
       "</pre>\n"
      ],
      "text/plain": [
       "\u001b[38;2;212;183;2m━━━━━━━━━━━━━━━━━━━━━━━━━━━━━━━━━━━━━━━━━━━━━━━━━━━━━ \u001b[0m\u001b[1mStep \u001b[0m\u001b[1;36m2\u001b[0m\u001b[38;2;212;183;2m ━━━━━━━━━━━━━━━━━━━━━━━━━━━━━━━━━━━━━━━━━━━━━━━━━━━━━━\u001b[0m\n"
      ]
     },
     "metadata": {},
     "output_type": "display_data"
    },
    {
     "data": {
      "text/html": [
       "<pre style=\"white-space:pre;overflow-x:auto;line-height:normal;font-family:Menlo,'DejaVu Sans Mono',consolas,'Courier New',monospace\"><span style=\"font-weight: bold; font-style: italic\">Output message of the LLM:</span> <span style=\"color: #d4b702; text-decoration-color: #d4b702\">────────────────────────────────────────────────────────────────────────────────────────</span>\n",
       "<span style=\"color: #e6edf3; text-decoration-color: #e6edf3; background-color: #0d1117\">{ \"name\": \"final_answer\", \"arguments\": {\"answer\": \"Наиболее рекомендуемые места для ремонта обуви в Москве:\\n\\nЛюкс</span>\n",
       "<span style=\"color: #e6edf3; text-decoration-color: #e6edf3; background-color: #0d1117\">мастер - Москва, Кожевническая улица, 10, стр. 1 \\nДом Быта - Москва, Зарайская улица, 53 (также есть филиал в </span><span style=\"background-color: #0d1117\">    </span>\n",
       "<span style=\"color: #e6edf3; text-decoration-color: #e6edf3; background-color: #0d1117\">Косино Парк)\\n\\nОба этих ателье имеют отличные отзывы и высокий рейтинг по ремонту обуви.\"}}</span><span style=\"background-color: #0d1117\">                       </span>\n",
       "</pre>\n"
      ],
      "text/plain": [
       "\u001b[1;3mOutput message of the LLM:\u001b[0m \u001b[38;2;212;183;2m────────────────────────────────────────────────────────────────────────────────────────\u001b[0m\n",
       "\u001b[38;2;230;237;243;48;2;13;17;23m{\u001b[0m\u001b[38;2;230;237;243;48;2;13;17;23m \u001b[0m\u001b[38;2;230;237;243;48;2;13;17;23m\"name\":\u001b[0m\u001b[38;2;230;237;243;48;2;13;17;23m \u001b[0m\u001b[38;2;230;237;243;48;2;13;17;23m\"final_answer\",\u001b[0m\u001b[38;2;230;237;243;48;2;13;17;23m \u001b[0m\u001b[38;2;230;237;243;48;2;13;17;23m\"arguments\":\u001b[0m\u001b[38;2;230;237;243;48;2;13;17;23m \u001b[0m\u001b[38;2;230;237;243;48;2;13;17;23m{\"answer\":\u001b[0m\u001b[38;2;230;237;243;48;2;13;17;23m \u001b[0m\u001b[38;2;230;237;243;48;2;13;17;23m\"Наиболее\u001b[0m\u001b[38;2;230;237;243;48;2;13;17;23m \u001b[0m\u001b[38;2;230;237;243;48;2;13;17;23mрекомендуемые\u001b[0m\u001b[38;2;230;237;243;48;2;13;17;23m \u001b[0m\u001b[38;2;230;237;243;48;2;13;17;23mместа\u001b[0m\u001b[38;2;230;237;243;48;2;13;17;23m \u001b[0m\u001b[38;2;230;237;243;48;2;13;17;23mдля\u001b[0m\u001b[38;2;230;237;243;48;2;13;17;23m \u001b[0m\u001b[38;2;230;237;243;48;2;13;17;23mремонта\u001b[0m\u001b[38;2;230;237;243;48;2;13;17;23m \u001b[0m\u001b[38;2;230;237;243;48;2;13;17;23mобуви\u001b[0m\u001b[38;2;230;237;243;48;2;13;17;23m \u001b[0m\u001b[38;2;230;237;243;48;2;13;17;23mв\u001b[0m\u001b[38;2;230;237;243;48;2;13;17;23m \u001b[0m\u001b[38;2;230;237;243;48;2;13;17;23mМоскве:\u001b[0m\u001b[38;2;230;237;243;48;2;13;17;23m\\n\u001b[0m\u001b[38;2;230;237;243;48;2;13;17;23m\\n\u001b[0m\u001b[38;2;230;237;243;48;2;13;17;23mЛюкс\u001b[0m\n",
       "\u001b[38;2;230;237;243;48;2;13;17;23mмастер\u001b[0m\u001b[38;2;230;237;243;48;2;13;17;23m \u001b[0m\u001b[38;2;230;237;243;48;2;13;17;23m-\u001b[0m\u001b[38;2;230;237;243;48;2;13;17;23m \u001b[0m\u001b[38;2;230;237;243;48;2;13;17;23mМосква,\u001b[0m\u001b[38;2;230;237;243;48;2;13;17;23m \u001b[0m\u001b[38;2;230;237;243;48;2;13;17;23mКожевническая\u001b[0m\u001b[38;2;230;237;243;48;2;13;17;23m \u001b[0m\u001b[38;2;230;237;243;48;2;13;17;23mулица,\u001b[0m\u001b[38;2;230;237;243;48;2;13;17;23m \u001b[0m\u001b[38;2;230;237;243;48;2;13;17;23m10,\u001b[0m\u001b[38;2;230;237;243;48;2;13;17;23m \u001b[0m\u001b[38;2;230;237;243;48;2;13;17;23mстр.\u001b[0m\u001b[38;2;230;237;243;48;2;13;17;23m \u001b[0m\u001b[38;2;230;237;243;48;2;13;17;23m1\u001b[0m\u001b[38;2;230;237;243;48;2;13;17;23m \u001b[0m\u001b[38;2;230;237;243;48;2;13;17;23m\\n\u001b[0m\u001b[38;2;230;237;243;48;2;13;17;23mДом\u001b[0m\u001b[38;2;230;237;243;48;2;13;17;23m \u001b[0m\u001b[38;2;230;237;243;48;2;13;17;23mБыта\u001b[0m\u001b[38;2;230;237;243;48;2;13;17;23m \u001b[0m\u001b[38;2;230;237;243;48;2;13;17;23m-\u001b[0m\u001b[38;2;230;237;243;48;2;13;17;23m \u001b[0m\u001b[38;2;230;237;243;48;2;13;17;23mМосква,\u001b[0m\u001b[38;2;230;237;243;48;2;13;17;23m \u001b[0m\u001b[38;2;230;237;243;48;2;13;17;23mЗарайская\u001b[0m\u001b[38;2;230;237;243;48;2;13;17;23m \u001b[0m\u001b[38;2;230;237;243;48;2;13;17;23mулица,\u001b[0m\u001b[38;2;230;237;243;48;2;13;17;23m \u001b[0m\u001b[38;2;230;237;243;48;2;13;17;23m53\u001b[0m\u001b[38;2;230;237;243;48;2;13;17;23m \u001b[0m\u001b[38;2;230;237;243;48;2;13;17;23m(также\u001b[0m\u001b[38;2;230;237;243;48;2;13;17;23m \u001b[0m\u001b[38;2;230;237;243;48;2;13;17;23mесть\u001b[0m\u001b[38;2;230;237;243;48;2;13;17;23m \u001b[0m\u001b[38;2;230;237;243;48;2;13;17;23mфилиал\u001b[0m\u001b[38;2;230;237;243;48;2;13;17;23m \u001b[0m\u001b[38;2;230;237;243;48;2;13;17;23mв\u001b[0m\u001b[38;2;230;237;243;48;2;13;17;23m \u001b[0m\u001b[48;2;13;17;23m    \u001b[0m\n",
       "\u001b[38;2;230;237;243;48;2;13;17;23mКосино\u001b[0m\u001b[38;2;230;237;243;48;2;13;17;23m \u001b[0m\u001b[38;2;230;237;243;48;2;13;17;23mПарк)\u001b[0m\u001b[38;2;230;237;243;48;2;13;17;23m\\n\u001b[0m\u001b[38;2;230;237;243;48;2;13;17;23m\\n\u001b[0m\u001b[38;2;230;237;243;48;2;13;17;23mОба\u001b[0m\u001b[38;2;230;237;243;48;2;13;17;23m \u001b[0m\u001b[38;2;230;237;243;48;2;13;17;23mэтих\u001b[0m\u001b[38;2;230;237;243;48;2;13;17;23m \u001b[0m\u001b[38;2;230;237;243;48;2;13;17;23mателье\u001b[0m\u001b[38;2;230;237;243;48;2;13;17;23m \u001b[0m\u001b[38;2;230;237;243;48;2;13;17;23mимеют\u001b[0m\u001b[38;2;230;237;243;48;2;13;17;23m \u001b[0m\u001b[38;2;230;237;243;48;2;13;17;23mотличные\u001b[0m\u001b[38;2;230;237;243;48;2;13;17;23m \u001b[0m\u001b[38;2;230;237;243;48;2;13;17;23mотзывы\u001b[0m\u001b[38;2;230;237;243;48;2;13;17;23m \u001b[0m\u001b[38;2;230;237;243;48;2;13;17;23mи\u001b[0m\u001b[38;2;230;237;243;48;2;13;17;23m \u001b[0m\u001b[38;2;230;237;243;48;2;13;17;23mвысокий\u001b[0m\u001b[38;2;230;237;243;48;2;13;17;23m \u001b[0m\u001b[38;2;230;237;243;48;2;13;17;23mрейтинг\u001b[0m\u001b[38;2;230;237;243;48;2;13;17;23m \u001b[0m\u001b[38;2;230;237;243;48;2;13;17;23mпо\u001b[0m\u001b[38;2;230;237;243;48;2;13;17;23m \u001b[0m\u001b[38;2;230;237;243;48;2;13;17;23mремонту\u001b[0m\u001b[38;2;230;237;243;48;2;13;17;23m \u001b[0m\u001b[38;2;230;237;243;48;2;13;17;23mобуви.\"}}\u001b[0m\u001b[48;2;13;17;23m                       \u001b[0m\n"
      ]
     },
     "metadata": {},
     "output_type": "display_data"
    },
    {
     "data": {
      "text/html": [
       "<pre style=\"white-space:pre;overflow-x:auto;line-height:normal;font-family:Menlo,'DejaVu Sans Mono',consolas,'Courier New',monospace\">╭─────────────────────────────────────────────────────────────────────────────────────────────────────────────────╮\n",
       "│ Calling tool: 'final_answer' with arguments: {'answer': 'Наиболее рекомендуемые места для ремонта обуви в       │\n",
       "│ Москве:\\n\\nЛюкс мастер - Москва, Кожевническая улица, 10, стр. 1 \\nДом Быта - Москва, Зарайская улица, 53       │\n",
       "│ (также есть филиал в Косино Парк)\\n\\nОба этих ателье имеют отличные отзывы и высокий рейтинг по ремонту         │\n",
       "│ обуви.'}                                                                                                        │\n",
       "╰─────────────────────────────────────────────────────────────────────────────────────────────────────────────────╯\n",
       "</pre>\n"
      ],
      "text/plain": [
       "╭─────────────────────────────────────────────────────────────────────────────────────────────────────────────────╮\n",
       "│ Calling tool: 'final_answer' with arguments: {'answer': 'Наиболее рекомендуемые места для ремонта обуви в       │\n",
       "│ Москве:\\n\\nЛюкс мастер - Москва, Кожевническая улица, 10, стр. 1 \\nДом Быта - Москва, Зарайская улица, 53       │\n",
       "│ (также есть филиал в Косино Парк)\\n\\nОба этих ателье имеют отличные отзывы и высокий рейтинг по ремонту         │\n",
       "│ обуви.'}                                                                                                        │\n",
       "╰─────────────────────────────────────────────────────────────────────────────────────────────────────────────────╯\n"
      ]
     },
     "metadata": {},
     "output_type": "display_data"
    },
    {
     "data": {
      "text/html": [
       "<pre style=\"white-space:pre;overflow-x:auto;line-height:normal;font-family:Menlo,'DejaVu Sans Mono',consolas,'Courier New',monospace\"><span style=\"color: #d4b702; text-decoration-color: #d4b702; font-weight: bold\">Final answer: Наиболее рекомендуемые места для ремонта обуви в Москве:</span>\n",
       "\n",
       "<span style=\"color: #d4b702; text-decoration-color: #d4b702; font-weight: bold\">Люкс мастер - Москва, Кожевническая улица, 10, стр. 1 </span>\n",
       "<span style=\"color: #d4b702; text-decoration-color: #d4b702; font-weight: bold\">Дом Быта - Москва, Зарайская улица, 53 (также есть филиал в Косино Парк)</span>\n",
       "\n",
       "<span style=\"color: #d4b702; text-decoration-color: #d4b702; font-weight: bold\">Оба этих ателье имеют отличные отзывы и высокий рейтинг по ремонту обуви.</span>\n",
       "</pre>\n"
      ],
      "text/plain": [
       "\u001b[1;38;2;212;183;2mFinal answer: Наиболее рекомендуемые места для ремонта обуви в Москве:\u001b[0m\n",
       "\n",
       "\u001b[1;38;2;212;183;2mЛюкс мастер - Москва, Кожевническая улица, 10, стр. 1 \u001b[0m\n",
       "\u001b[1;38;2;212;183;2mДом Быта - Москва, Зарайская улица, 53 (также есть филиал в Косино Парк)\u001b[0m\n",
       "\n",
       "\u001b[1;38;2;212;183;2mОба этих ателье имеют отличные отзывы и высокий рейтинг по ремонту обуви.\u001b[0m\n"
      ]
     },
     "metadata": {},
     "output_type": "display_data"
    },
    {
     "data": {
      "text/html": [
       "<pre style=\"white-space:pre;overflow-x:auto;line-height:normal;font-family:Menlo,'DejaVu Sans Mono',consolas,'Courier New',monospace\"><span style=\"color: #7f7f7f; text-decoration-color: #7f7f7f\">[Step 2: Duration 16.47 seconds| Input tokens: 4,663 | Output tokens: 155]</span>\n",
       "</pre>\n"
      ],
      "text/plain": [
       "\u001b[2m[Step 2: Duration 16.47 seconds| Input tokens: 4,663 | Output tokens: 155]\u001b[0m\n"
      ]
     },
     "metadata": {},
     "output_type": "display_data"
    }
   ],
   "source": [
    "resp = agent.run(\"Подскажи мне ателье по ременту обуви?\")"
   ]
  },
  {
   "cell_type": "code",
   "execution_count": null,
   "id": "0db5f8bb",
   "metadata": {},
   "outputs": [],
   "source": []
  }
 ],
 "metadata": {
  "kernelspec": {
   "display_name": ".venv",
   "language": "python",
   "name": "python3"
  },
  "language_info": {
   "codemirror_mode": {
    "name": "ipython",
    "version": 3
   },
   "file_extension": ".py",
   "mimetype": "text/x-python",
   "name": "python",
   "nbconvert_exporter": "python",
   "pygments_lexer": "ipython3",
   "version": "3.13.3"
  }
 },
 "nbformat": 4,
 "nbformat_minor": 5
}
