{
 "cells": [
  {
   "cell_type": "markdown",
   "metadata": {},
   "source": [
    "# EDA\n",
    "\n",
    "Preprocess and analyze datasets from https://data.mos.ru"
   ]
  },
  {
   "cell_type": "markdown",
   "metadata": {},
   "source": [
    "## Data preparation"
   ]
  },
  {
   "cell_type": "code",
   "execution_count": null,
   "metadata": {},
   "outputs": [],
   "source": [
    "from os import chdir, path, getcwd\n",
    "from pathlib import Path\n",
    "\n",
    "chdir(Path(path.realpath(\"__file__\")).parents[0].parents[0])\n",
    "getcwd()"
   ]
  },
  {
   "cell_type": "code",
   "execution_count": null,
   "metadata": {},
   "outputs": [],
   "source": [
    "import pandas as pd\n",
    "\n",
    "# Театры https://data.mos.ru/opendata/531\n",
    "theatres = pd.read_json(\n",
    "    \"https://data.mos.ru/odata/export/catalog?idFile=270312\",\n",
    "    compression=\"zip\",\n",
    "    encoding=\"windows-1251\",\n",
    ")\n",
    "\n",
    "# Объекты культурного наследия федерального значения https://data.mos.ru/opendata/62302\n",
    "cultural = pd.read_json(\n",
    "    \"https://data.mos.ru/odata/export/catalog?idFile=262466\",\n",
    "    compression=\"zip\",\n",
    "    encoding=\"windows-1251\",\n",
    ")"
   ]
  },
  {
   "cell_type": "code",
   "execution_count": null,
   "metadata": {},
   "outputs": [],
   "source": [
    "from travel_agent.data.theatres import processed_theatres\n",
    "from travel_agent.data.cultural import processed_cultural\n",
    "\n",
    "datasets = {\n",
    "    \"theatres\": processed_theatres(theatres),\n",
    "    \"cultural\": processed_cultural(cultural),\n",
    "}\n",
    "\n",
    "for name, dataset in datasets.items():\n",
    "    dataset[\"type\"] = name\n",
    "\n",
    "merged = pd.concat([datasets[dataset] for dataset in datasets])\n",
    "merged.to_csv(\"data/merged_mosru.csv\", index=False)\n",
    "merged.head()"
   ]
  }
 ],
 "metadata": {
  "kernelspec": {
   "display_name": ".venv",
   "language": "python",
   "name": "python3"
  },
  "language_info": {
   "codemirror_mode": {
    "name": "ipython",
    "version": 3
   },
   "file_extension": ".py",
   "mimetype": "text/x-python",
   "name": "python",
   "nbconvert_exporter": "python",
   "pygments_lexer": "ipython3",
   "version": "3.12.8"
  }
 },
 "nbformat": 4,
 "nbformat_minor": 2
}
