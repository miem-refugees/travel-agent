{
 "cells": [
  {
   "cell_type": "markdown",
   "metadata": {},
   "source": [
    "# EDA\n",
    "\n",
    "Preprocess and analyze datasets from https://data.mos.ru"
   ]
  },
  {
   "cell_type": "markdown",
   "metadata": {},
   "source": [
    "## Data preparation"
   ]
  },
  {
   "cell_type": "code",
   "execution_count": 1,
   "metadata": {
    "ExecuteTime": {
     "end_time": "2025-02-16T12:13:18.103937Z",
     "start_time": "2025-02-16T12:13:18.099915Z"
    }
   },
   "outputs": [
    {
     "data": {
      "text/plain": [
       "'/Users/ksusonic/mlds/travel-agent'"
      ]
     },
     "execution_count": 1,
     "metadata": {},
     "output_type": "execute_result"
    }
   ],
   "source": [
    "from os import chdir, path, getcwd\n",
    "from pathlib import Path\n",
    "\n",
    "chdir(Path(path.realpath(\"__file__\")).parents[0].parents[0])\n",
    "getcwd()"
   ]
  },
  {
   "cell_type": "code",
   "execution_count": 3,
   "metadata": {
    "ExecuteTime": {
     "end_time": "2025-02-16T12:14:46.226661Z",
     "start_time": "2025-02-16T12:14:45.869372Z"
    }
   },
   "outputs": [],
   "source": [
    "import pandas as pd\n",
    "\n",
    "# Театры https://data.mos.ru/opendata/531\n",
    "theatres = pd.read_json(\n",
    "    \"https://data.mos.ru/odata/export/catalog?idFile=270312\",\n",
    "    compression=\"zip\",\n",
    "    encoding=\"windows-1251\",\n",
    ")\n",
    "\n",
    "# Объекты культурного наследия федерального значения https://data.mos.ru/opendata/62302\n",
    "cultural = pd.read_json(\n",
    "    \"https://data.mos.ru/odata/export/catalog?idFile=262466\",\n",
    "    compression=\"zip\",\n",
    "    encoding=\"windows-1251\",\n",
    ")"
   ]
  },
  {
   "cell_type": "code",
   "execution_count": 12,
   "metadata": {
    "ExecuteTime": {
     "end_time": "2025-02-16T12:17:47.845554Z",
     "start_time": "2025-02-16T12:17:47.747050Z"
    }
   },
   "outputs": [
    {
     "name": "stderr",
     "output_type": "stream",
     "text": [
      "/Users/ksusonic/mlds/travel-agent/travel_agent/data/theatres.py:6: SettingWithCopyWarning: \n",
      "A value is trying to be set on a copy of a slice from a DataFrame.\n",
      "Try using .loc[row_indexer,col_indexer] = value instead\n",
      "\n",
      "See the caveats in the documentation: https://pandas.pydata.org/pandas-docs/stable/user_guide/indexing.html#returning-a-view-versus-a-copy\n",
      "  processed_theaters[\"District\"] = processed_theaters[\"ObjectAddress\"].map(\n",
      "/Users/ksusonic/mlds/travel-agent/travel_agent/data/theatres.py:9: SettingWithCopyWarning: \n",
      "A value is trying to be set on a copy of a slice from a DataFrame.\n",
      "Try using .loc[row_indexer,col_indexer] = value instead\n",
      "\n",
      "See the caveats in the documentation: https://pandas.pydata.org/pandas-docs/stable/user_guide/indexing.html#returning-a-view-versus-a-copy\n",
      "  processed_theaters[\"Address\"] = processed_theaters[\"ObjectAddress\"].map(\n",
      "/Users/ksusonic/mlds/travel-agent/travel_agent/data/theatres.py:12: SettingWithCopyWarning: \n",
      "A value is trying to be set on a copy of a slice from a DataFrame\n",
      "\n",
      "See the caveats in the documentation: https://pandas.pydata.org/pandas-docs/stable/user_guide/indexing.html#returning-a-view-versus-a-copy\n",
      "  processed_theaters.drop([\"ObjectAddress\"], axis=1, inplace=True)\n",
      "/Users/ksusonic/mlds/travel-agent/travel_agent/data/theatres.py:13: SettingWithCopyWarning: \n",
      "A value is trying to be set on a copy of a slice from a DataFrame\n",
      "\n",
      "See the caveats in the documentation: https://pandas.pydata.org/pandas-docs/stable/user_guide/indexing.html#returning-a-view-versus-a-copy\n",
      "  processed_theaters.rename(columns={\"CommonName\": \"Name\"}, inplace=True)\n",
      "/Users/ksusonic/mlds/travel-agent/travel_agent/data/cultural.py:8: SettingWithCopyWarning: \n",
      "A value is trying to be set on a copy of a slice from a DataFrame.\n",
      "Try using .loc[row_indexer,col_indexer] = value instead\n",
      "\n",
      "See the caveats in the documentation: https://pandas.pydata.org/pandas-docs/stable/user_guide/indexing.html#returning-a-view-versus-a-copy\n",
      "  processed[\"EnsembleNameOnDoc\"] = (\n",
      "/Users/ksusonic/mlds/travel-agent/travel_agent/data/cultural.py:11: SettingWithCopyWarning: \n",
      "A value is trying to be set on a copy of a slice from a DataFrame\n",
      "\n",
      "See the caveats in the documentation: https://pandas.pydata.org/pandas-docs/stable/user_guide/indexing.html#returning-a-view-versus-a-copy\n",
      "  processed.drop([\"ObjectType\"], axis=1, inplace=True)\n",
      "/Users/ksusonic/mlds/travel-agent/travel_agent/data/cultural.py:12: SettingWithCopyWarning: \n",
      "A value is trying to be set on a copy of a slice from a DataFrame.\n",
      "Try using .loc[row_indexer,col_indexer] = value instead\n",
      "\n",
      "See the caveats in the documentation: https://pandas.pydata.org/pandas-docs/stable/user_guide/indexing.html#returning-a-view-versus-a-copy\n",
      "  processed[\"Addresses\"] = processed[\"Addresses\"].map(\n",
      "/Users/ksusonic/mlds/travel-agent/travel_agent/data/cultural.py:15: SettingWithCopyWarning: \n",
      "A value is trying to be set on a copy of a slice from a DataFrame.\n",
      "Try using .loc[row_indexer,col_indexer] = value instead\n",
      "\n",
      "See the caveats in the documentation: https://pandas.pydata.org/pandas-docs/stable/user_guide/indexing.html#returning-a-view-versus-a-copy\n",
      "  processed[\"EnsembleNameOnDoc\"] = processed[\"Addresses\"].map(\n",
      "/Users/ksusonic/mlds/travel-agent/travel_agent/data/cultural.py:18: SettingWithCopyWarning: \n",
      "A value is trying to be set on a copy of a slice from a DataFrame\n",
      "\n",
      "See the caveats in the documentation: https://pandas.pydata.org/pandas-docs/stable/user_guide/indexing.html#returning-a-view-versus-a-copy\n",
      "  processed.rename(\n",
      "/var/folders/bm/xb2jxnhs6kg37nksyq0_njy00000gn/T/ipykernel_10046/3438541173.py:10: SettingWithCopyWarning: \n",
      "A value is trying to be set on a copy of a slice from a DataFrame.\n",
      "Try using .loc[row_indexer,col_indexer] = value instead\n",
      "\n",
      "See the caveats in the documentation: https://pandas.pydata.org/pandas-docs/stable/user_guide/indexing.html#returning-a-view-versus-a-copy\n",
      "  dataset['type'] = name\n",
      "/var/folders/bm/xb2jxnhs6kg37nksyq0_njy00000gn/T/ipykernel_10046/3438541173.py:10: SettingWithCopyWarning: \n",
      "A value is trying to be set on a copy of a slice from a DataFrame.\n",
      "Try using .loc[row_indexer,col_indexer] = value instead\n",
      "\n",
      "See the caveats in the documentation: https://pandas.pydata.org/pandas-docs/stable/user_guide/indexing.html#returning-a-view-versus-a-copy\n",
      "  dataset['type'] = name\n"
     ]
    },
    {
     "data": {
      "text/html": [
       "<div>\n",
       "<style scoped>\n",
       "    .dataframe tbody tr th:only-of-type {\n",
       "        vertical-align: middle;\n",
       "    }\n",
       "\n",
       "    .dataframe tbody tr th {\n",
       "        vertical-align: top;\n",
       "    }\n",
       "\n",
       "    .dataframe thead th {\n",
       "        text-align: right;\n",
       "    }\n",
       "</style>\n",
       "<table border=\"1\" class=\"dataframe\">\n",
       "  <thead>\n",
       "    <tr style=\"text-align: right;\">\n",
       "      <th></th>\n",
       "      <th>Name</th>\n",
       "      <th>geoData</th>\n",
       "      <th>District</th>\n",
       "      <th>Address</th>\n",
       "      <th>type</th>\n",
       "    </tr>\n",
       "  </thead>\n",
       "  <tbody>\n",
       "    <tr>\n",
       "      <th>0</th>\n",
       "      <td>Театр кукол «Жар-птица»</td>\n",
       "      <td>{'coordinates': [[37.683080444, 55.790769624]]...</td>\n",
       "      <td>район Сокольники</td>\n",
       "      <td>Москва, внутригородская территория муниципальн...</td>\n",
       "      <td>theatres</td>\n",
       "    </tr>\n",
       "    <tr>\n",
       "      <th>1</th>\n",
       "      <td>Творческая мастерская А. Рыбникова</td>\n",
       "      <td>{'coordinates': [[37.605678057, 55.763454738]]...</td>\n",
       "      <td>Тверской район</td>\n",
       "      <td>Москва, внутригородская территория муниципальн...</td>\n",
       "      <td>theatres</td>\n",
       "    </tr>\n",
       "    <tr>\n",
       "      <th>2</th>\n",
       "      <td>Театр «Мастерская Фоменко»</td>\n",
       "      <td>{'coordinates': [[37.53775816, 55.741621711], ...</td>\n",
       "      <td>район Дорогомилово</td>\n",
       "      <td>Москва, внутригородская территория муниципальн...</td>\n",
       "      <td>theatres</td>\n",
       "    </tr>\n",
       "    <tr>\n",
       "      <th>3</th>\n",
       "      <td>Московский театр кукол</td>\n",
       "      <td>{'coordinates': [[37.661539, 55.835015], [37.6...</td>\n",
       "      <td>Басманный район</td>\n",
       "      <td>Москва, внутригородская территория муниципальн...</td>\n",
       "      <td>theatres</td>\n",
       "    </tr>\n",
       "    <tr>\n",
       "      <th>4</th>\n",
       "      <td>Театр «Эрмитаж»</td>\n",
       "      <td>{'coordinates': [[37.608618, 55.770619], [37.5...</td>\n",
       "      <td>район Арбат</td>\n",
       "      <td>Москва, внутригородская территория муниципальн...</td>\n",
       "      <td>theatres</td>\n",
       "    </tr>\n",
       "  </tbody>\n",
       "</table>\n",
       "</div>"
      ],
      "text/plain": [
       "                                 Name  \\\n",
       "0             Театр кукол «Жар-птица»   \n",
       "1  Творческая мастерская А. Рыбникова   \n",
       "2          Театр «Мастерская Фоменко»   \n",
       "3              Московский театр кукол   \n",
       "4                     Театр «Эрмитаж»   \n",
       "\n",
       "                                             geoData            District  \\\n",
       "0  {'coordinates': [[37.683080444, 55.790769624]]...    район Сокольники   \n",
       "1  {'coordinates': [[37.605678057, 55.763454738]]...      Тверской район   \n",
       "2  {'coordinates': [[37.53775816, 55.741621711], ...  район Дорогомилово   \n",
       "3  {'coordinates': [[37.661539, 55.835015], [37.6...     Басманный район   \n",
       "4  {'coordinates': [[37.608618, 55.770619], [37.5...         район Арбат   \n",
       "\n",
       "                                             Address      type  \n",
       "0  Москва, внутригородская территория муниципальн...  theatres  \n",
       "1  Москва, внутригородская территория муниципальн...  theatres  \n",
       "2  Москва, внутригородская территория муниципальн...  theatres  \n",
       "3  Москва, внутригородская территория муниципальн...  theatres  \n",
       "4  Москва, внутригородская территория муниципальн...  theatres  "
      ]
     },
     "execution_count": 12,
     "metadata": {},
     "output_type": "execute_result"
    }
   ],
   "source": [
    "from travel_agent.data.theatres import processed_theatres\n",
    "from travel_agent.data.cultural import processed_cultural\n",
    "\n",
    "datasets = {\n",
    "    \"theatres\": processed_theatres(theatres),\n",
    "    \"cultural\": processed_cultural(cultural),\n",
    "}\n",
    "\n",
    "for name, dataset in datasets.items():\n",
    "    dataset[\"type\"] = name\n",
    "\n",
    "merged = pd.concat([datasets[dataset] for dataset in datasets])\n",
    "merged.to_csv(\"data/merged_mosru.csv\", index=False)\n",
    "merged.head()"
   ]
  },
  {
   "cell_type": "code",
   "execution_count": null,
   "metadata": {},
   "outputs": [],
   "source": []
  }
 ],
 "metadata": {
  "kernelspec": {
   "display_name": ".venv",
   "language": "python",
   "name": "python3"
  },
  "language_info": {
   "codemirror_mode": {
    "name": "ipython",
    "version": 3
   },
   "file_extension": ".py",
   "mimetype": "text/x-python",
   "name": "python",
   "nbconvert_exporter": "python",
   "pygments_lexer": "ipython3",
   "version": "3.12.8"
  }
 },
 "nbformat": 4,
 "nbformat_minor": 2
}
