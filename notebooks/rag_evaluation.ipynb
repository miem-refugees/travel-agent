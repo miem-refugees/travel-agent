{
 "cells": [
  {
   "cell_type": "markdown",
   "id": "475b3eda",
   "metadata": {},
   "source": [
    "# RAG evaluation"
   ]
  },
  {
   "cell_type": "code",
   "execution_count": 1,
   "id": "9c25c158",
   "metadata": {},
   "outputs": [
    {
     "name": "stderr",
     "output_type": "stream",
     "text": [
      "\u001b[32m2025-05-01 18:17:13.201\u001b[0m | \u001b[34m\u001b[1mDEBUG   \u001b[0m | \u001b[36mtravel_agent.qdrant.client\u001b[0m:\u001b[36mcreate_client\u001b[0m:\u001b[36m12\u001b[0m - \u001b[34m\u001b[1mConnecting to Qdrant at https://21a1c8c4-0d63-4176-9930-ee7848dafd2f.eu-central-1-0.aws.cloud.qdrant.io\u001b[0m\n",
      "\u001b[32m2025-05-01 18:17:13.522\u001b[0m | \u001b[32m\u001b[1mSUCCESS \u001b[0m | \u001b[36mtravel_agent.qdrant.client\u001b[0m:\u001b[36mcreate_client\u001b[0m:\u001b[36m22\u001b[0m - \u001b[32m\u001b[1mconnected: title='qdrant - vector search engine' version='1.14.0' commit='3617a0111fc8590c4adcc6e88882b63ca4dda9e7'\u001b[0m\n"
     ]
    },
    {
     "name": "stdout",
     "output_type": "stream",
     "text": [
      "Available embed models:\n",
      "- cointegrated/rubert-tiny2\n",
      "- DeepPavlov/rubert-base-cased-sentence\n",
      "- ai-forever/sbert_large_nlu_ru\n",
      "- ai-forever/sbert_large_mt_nlu_ru\n",
      "- sentence-transformers/distiluse-base-multilingual-cased-v1\n",
      "- sentence-transformers/distiluse-base-multilingual-cased-v2\n",
      "- sentence-transformers/paraphrase-multilingual-MiniLM-L12-v2\n",
      "- sentence-transformers/paraphrase-multilingual-mpnet-base-v2\n",
      "- intfloat/multilingual-e5-large\n",
      "- intfloat/multilingual-e5-base\n",
      "- intfloat/multilingual-e5-small\n",
      "- ai-forever/ru-en-RoSBERTa\n",
      "- sergeyzh/BERTA\n"
     ]
    }
   ],
   "source": [
    "import json\n",
    "import os\n",
    "from datetime import datetime\n",
    "\n",
    "import nest_asyncio\n",
    "import pandas as pd\n",
    "import phoenix as px\n",
    "from openinference.instrumentation.smolagents import SmolagentsInstrumentor\n",
    "from phoenix.evals import RAG_RELEVANCY_PROMPT_TEMPLATE, GeminiModel, llm_classify\n",
    "from phoenix.otel import register\n",
    "from phoenix.trace import SpanEvaluations\n",
    "from phoenix.trace.dsl import SpanQuery\n",
    "from smolagents import LiteLLMModel, ToolCallingAgent\n",
    "from tqdm import tqdm\n",
    "\n",
    "from travel_agent.qdrant import client as qdrant_client\n",
    "from travel_agent.retrieval.embedding.embedding_generation import MODELS_PROMPTS\n",
    "from travel_agent.retrieval.smolagents.tool import TravelReviewQueryTool\n",
    "\n",
    "if not os.getenv(\"QDRANT_URL\"):\n",
    "    print(\"Set QDRANT_URL and QDRANT_API_KEY env\")\n",
    "    exit(1)\n",
    "\n",
    "print(f\"Available embed models:\\n- {'\\n- '.join(MODELS_PROMPTS.keys())}\")"
   ]
  },
  {
   "cell_type": "code",
   "execution_count": 2,
   "id": "ac3b96b9",
   "metadata": {},
   "outputs": [
    {
     "name": "stderr",
     "output_type": "stream",
     "text": [
      "\u001b[32m2025-05-01 18:17:16.909\u001b[0m | \u001b[1mINFO    \u001b[0m | \u001b[36mtravel_agent.retrieval.smolagents.tool\u001b[0m:\u001b[36m__init__\u001b[0m:\u001b[36m82\u001b[0m - \u001b[1mUsing device: mps\u001b[0m\n"
     ]
    }
   ],
   "source": [
    "def local_llm(model_name) -> LiteLLMModel:\n",
    "    return LiteLLMModel(\n",
    "        model_id=f\"ollama_chat/{model_name}\",\n",
    "        api_base=os.getenv(\"OLLAMA_URL\", \"http://127.0.0.1:11434\"),\n",
    "        num_ctx=8192,  # ollama default is 2048 which will fail horribly. 8192 works for easy tasks, more is better. Check https://huggingface.co/spaces/NyxKrage/LLM-Model-VRAM-Calculator to calculate how much VRAM this will need for the selected model.\n",
    "    )\n",
    "\n",
    "\n",
    "embed_model_name = \"intfloat/multilingual-e5-base\"\n",
    "collection_name = \"moskva_intfloat_multilingual_e5_base\"\n",
    "\n",
    "review_search_tool = TravelReviewQueryTool(embed_model_name, qdrant_client, collection_name)"
   ]
  },
  {
   "cell_type": "code",
   "execution_count": 3,
   "id": "2eb330d2",
   "metadata": {},
   "outputs": [],
   "source": [
    "saiga_agent = ToolCallingAgent(\n",
    "    tools=[review_search_tool],\n",
    "    model=local_llm(\"hf.co/IlyaGusev/saiga_nemo_12b_gguf:Q4_0\"),\n",
    "    max_steps=10,\n",
    ")"
   ]
  },
  {
   "cell_type": "code",
   "execution_count": 4,
   "id": "8a6f4ac2",
   "metadata": {},
   "outputs": [
    {
     "data": {
      "text/html": [
       "<pre style=\"white-space:pre;overflow-x:auto;line-height:normal;font-family:Menlo,'DejaVu Sans Mono',consolas,'Courier New',monospace\"><span style=\"color: #d4b702; text-decoration-color: #d4b702\">╭──────────────────────────────────────────────────── </span><span style=\"color: #d4b702; text-decoration-color: #d4b702; font-weight: bold\">New run</span><span style=\"color: #d4b702; text-decoration-color: #d4b702\"> ────────────────────────────────────────────────────╮</span>\n",
       "<span style=\"color: #d4b702; text-decoration-color: #d4b702\">│</span>                                                                                                                 <span style=\"color: #d4b702; text-decoration-color: #d4b702\">│</span>\n",
       "<span style=\"color: #d4b702; text-decoration-color: #d4b702\">│</span> <span style=\"font-weight: bold\">Привет!</span>                                                                                                         <span style=\"color: #d4b702; text-decoration-color: #d4b702\">│</span>\n",
       "<span style=\"color: #d4b702; text-decoration-color: #d4b702\">│</span>                                                                                                                 <span style=\"color: #d4b702; text-decoration-color: #d4b702\">│</span>\n",
       "<span style=\"color: #d4b702; text-decoration-color: #d4b702\">╰─ LiteLLMModel - ollama_chat/hf.co/IlyaGusev/saiga_nemo_12b_gguf:Q4_0 ───────────────────────────────────────────╯</span>\n",
       "</pre>\n"
      ],
      "text/plain": [
       "\u001b[38;2;212;183;2m╭─\u001b[0m\u001b[38;2;212;183;2m───────────────────────────────────────────────────\u001b[0m\u001b[38;2;212;183;2m \u001b[0m\u001b[1;38;2;212;183;2mNew run\u001b[0m\u001b[38;2;212;183;2m \u001b[0m\u001b[38;2;212;183;2m───────────────────────────────────────────────────\u001b[0m\u001b[38;2;212;183;2m─╮\u001b[0m\n",
       "\u001b[38;2;212;183;2m│\u001b[0m                                                                                                                 \u001b[38;2;212;183;2m│\u001b[0m\n",
       "\u001b[38;2;212;183;2m│\u001b[0m \u001b[1mПривет!\u001b[0m                                                                                                         \u001b[38;2;212;183;2m│\u001b[0m\n",
       "\u001b[38;2;212;183;2m│\u001b[0m                                                                                                                 \u001b[38;2;212;183;2m│\u001b[0m\n",
       "\u001b[38;2;212;183;2m╰─\u001b[0m\u001b[38;2;212;183;2m LiteLLMModel - ollama_chat/hf.co/IlyaGusev/saiga_nemo_12b_gguf:Q4_0 \u001b[0m\u001b[38;2;212;183;2m──────────────────────────────────────────\u001b[0m\u001b[38;2;212;183;2m─╯\u001b[0m\n"
      ]
     },
     "metadata": {},
     "output_type": "display_data"
    },
    {
     "data": {
      "text/html": [
       "<pre style=\"white-space:pre;overflow-x:auto;line-height:normal;font-family:Menlo,'DejaVu Sans Mono',consolas,'Courier New',monospace\"><span style=\"color: #d4b702; text-decoration-color: #d4b702\">━━━━━━━━━━━━━━━━━━━━━━━━━━━━━━━━━━━━━━━━━━━━━━━━━━━━━ </span><span style=\"font-weight: bold\">Step </span><span style=\"color: #008080; text-decoration-color: #008080; font-weight: bold\">1</span><span style=\"color: #d4b702; text-decoration-color: #d4b702\"> ━━━━━━━━━━━━━━━━━━━━━━━━━━━━━━━━━━━━━━━━━━━━━━━━━━━━━━</span>\n",
       "</pre>\n"
      ],
      "text/plain": [
       "\u001b[38;2;212;183;2m━━━━━━━━━━━━━━━━━━━━━━━━━━━━━━━━━━━━━━━━━━━━━━━━━━━━━ \u001b[0m\u001b[1mStep \u001b[0m\u001b[1;36m1\u001b[0m\u001b[38;2;212;183;2m ━━━━━━━━━━━━━━━━━━━━━━━━━━━━━━━━━━━━━━━━━━━━━━━━━━━━━━\u001b[0m\n"
      ]
     },
     "metadata": {},
     "output_type": "display_data"
    },
    {
     "data": {
      "text/html": [
       "<pre style=\"white-space:pre;overflow-x:auto;line-height:normal;font-family:Menlo,'DejaVu Sans Mono',consolas,'Courier New',monospace\">╭─────────────────────────────────────────────────────────────────────────────────────────────────────────────────╮\n",
       "│ Calling tool: 'final_answer' with arguments: {'answer': 'Привет!'}                                              │\n",
       "╰─────────────────────────────────────────────────────────────────────────────────────────────────────────────────╯\n",
       "</pre>\n"
      ],
      "text/plain": [
       "╭─────────────────────────────────────────────────────────────────────────────────────────────────────────────────╮\n",
       "│ Calling tool: 'final_answer' with arguments: {'answer': 'Привет!'}                                              │\n",
       "╰─────────────────────────────────────────────────────────────────────────────────────────────────────────────────╯\n"
      ]
     },
     "metadata": {},
     "output_type": "display_data"
    },
    {
     "data": {
      "text/html": [
       "<pre style=\"white-space:pre;overflow-x:auto;line-height:normal;font-family:Menlo,'DejaVu Sans Mono',consolas,'Courier New',monospace\"><span style=\"color: #d4b702; text-decoration-color: #d4b702; font-weight: bold\">Final answer: Привет!</span>\n",
       "</pre>\n"
      ],
      "text/plain": [
       "\u001b[1;38;2;212;183;2mFinal answer: Привет!\u001b[0m\n"
      ]
     },
     "metadata": {},
     "output_type": "display_data"
    },
    {
     "data": {
      "text/html": [
       "<pre style=\"white-space:pre;overflow-x:auto;line-height:normal;font-family:Menlo,'DejaVu Sans Mono',consolas,'Courier New',monospace\"><span style=\"color: #7f7f7f; text-decoration-color: #7f7f7f\">[Step 1: Duration 1.76 seconds| Input tokens: 1,225 | Output tokens: 23]</span>\n",
       "</pre>\n"
      ],
      "text/plain": [
       "\u001b[2m[Step 1: Duration 1.76 seconds| Input tokens: 1,225 | Output tokens: 23]\u001b[0m\n"
      ]
     },
     "metadata": {},
     "output_type": "display_data"
    },
    {
     "data": {
      "text/plain": [
       "'Привет!'"
      ]
     },
     "execution_count": 4,
     "metadata": {},
     "output_type": "execute_result"
    }
   ],
   "source": [
    "saiga_agent.run(\"Привет!\")"
   ]
  },
  {
   "cell_type": "markdown",
   "id": "e8473ebf",
   "metadata": {},
   "source": [
    "## Set up [Phoenix](https://phoenix.arize.com/) framework to evaluate\n",
    "\n",
    "https://huggingface.co/blog/smolagents-phoenix"
   ]
  },
  {
   "cell_type": "code",
   "execution_count": 5,
   "id": "fff22a5e",
   "metadata": {},
   "outputs": [
    {
     "name": "stderr",
     "output_type": "stream",
     "text": [
      "Attempting to instrument while already instrumented\n"
     ]
    },
    {
     "name": "stdout",
     "output_type": "stream",
     "text": [
      "🔭 OpenTelemetry Tracing Details 🔭\n",
      "|  Phoenix Project: travel-agent-eval-2025-05-01-18-17-31\n",
      "|  Span Processor: SimpleSpanProcessor\n",
      "|  Collector Endpoint: localhost:4317\n",
      "|  Transport: gRPC\n",
      "|  Transport Headers: {'user-agent': '****'}\n",
      "|  \n",
      "|  Using a default SpanProcessor. `add_span_processor` will overwrite this default.\n",
      "|  \n",
      "|  ⚠️ WARNING: It is strongly advised to use a BatchSpanProcessor in production environments.\n",
      "|  \n",
      "|  `register` has set this TracerProvider as the global OpenTelemetry default.\n",
      "|  To disable this behavior, call `register` with `set_global_tracer_provider=False`.\n",
      "\n"
     ]
    }
   ],
   "source": [
    "# run in background:\n",
    "#\n",
    "# uv run -m phoenix.server.main serve\n",
    "#\n",
    "# then run this\n",
    "\n",
    "\n",
    "project_name = f\"travel-agent-eval-{datetime.now().strftime('%Y-%m-%d-%H-%M-%S')}\"\n",
    "\n",
    "tracer_provider = register(\n",
    "    project_name=project_name, auto_instrument=True\n",
    ")  # creates a tracer provider to capture OTEL traces\n",
    "SmolagentsInstrumentor().instrument(\n",
    "    tracer_provider=tracer_provider\n",
    ")  # automatically captures any smolagents calls as traces"
   ]
  },
  {
   "cell_type": "code",
   "execution_count": null,
   "id": "a8bb56a5",
   "metadata": {},
   "outputs": [
    {
     "name": "stdout",
     "output_type": "stream",
     "text": [
      "(59, 2)\n"
     ]
    },
    {
     "data": {
      "text/html": [
       "<div>\n",
       "<style scoped>\n",
       "    .dataframe tbody tr th:only-of-type {\n",
       "        vertical-align: middle;\n",
       "    }\n",
       "\n",
       "    .dataframe tbody tr th {\n",
       "        vertical-align: top;\n",
       "    }\n",
       "\n",
       "    .dataframe thead th {\n",
       "        text-align: right;\n",
       "    }\n",
       "</style>\n",
       "<table border=\"1\" class=\"dataframe\">\n",
       "  <thead>\n",
       "    <tr style=\"text-align: right;\">\n",
       "      <th></th>\n",
       "      <th>question</th>\n",
       "      <th>expected_places</th>\n",
       "    </tr>\n",
       "  </thead>\n",
       "  <tbody>\n",
       "    <tr>\n",
       "      <th>0</th>\n",
       "      <td>Какие 3D-услуги ты знаешь?</td>\n",
       "      <td>['3ДМолл', 'Икслаб', '3Dcrafter.ru', 'Sprint 3...</td>\n",
       "    </tr>\n",
       "    <tr>\n",
       "      <th>1</th>\n",
       "      <td>Какие GPS-оборудование ты знаешь?</td>\n",
       "      <td>['Киберкар', 'Виноград Фишинг', 'Навиком', 'Mu...</td>\n",
       "    </tr>\n",
       "    <tr>\n",
       "      <th>2</th>\n",
       "      <td>Какие IP-телефония ты знаешь?</td>\n",
       "      <td>['Цифра Один', 'Сипнет', 'Инетком', 'Интерлоги...</td>\n",
       "    </tr>\n",
       "    <tr>\n",
       "      <th>3</th>\n",
       "      <td>Какие IT-компания ты знаешь?</td>\n",
       "      <td>['Oxem', 'DataMobile', 'Ростелеком', 'Квик Ста...</td>\n",
       "    </tr>\n",
       "    <tr>\n",
       "      <th>4</th>\n",
       "      <td>Какие PR-агентство ты знаешь?</td>\n",
       "      <td>['Фрэш Майнд', 'Blackline', 'Dot Digital Agenc...</td>\n",
       "    </tr>\n",
       "  </tbody>\n",
       "</table>\n",
       "</div>"
      ],
      "text/plain": [
       "                            question  \\\n",
       "0         Какие 3D-услуги ты знаешь?   \n",
       "1  Какие GPS-оборудование ты знаешь?   \n",
       "2      Какие IP-телефония ты знаешь?   \n",
       "3       Какие IT-компания ты знаешь?   \n",
       "4      Какие PR-агентство ты знаешь?   \n",
       "\n",
       "                                     expected_places  \n",
       "0  ['3ДМолл', 'Икслаб', '3Dcrafter.ru', 'Sprint 3...  \n",
       "1  ['Киберкар', 'Виноград Фишинг', 'Навиком', 'Mu...  \n",
       "2  ['Цифра Один', 'Сипнет', 'Инетком', 'Интерлоги...  \n",
       "3  ['Oxem', 'DataMobile', 'Ростелеком', 'Квик Ста...  \n",
       "4  ['Фрэш Майнд', 'Blackline', 'Dot Digital Agenc...  "
      ]
     },
     "execution_count": 9,
     "metadata": {},
     "output_type": "execute_result"
    }
   ],
   "source": [
    "questions = pd.read_csv(\"../data/questions/rag/moskva.csv\")\n",
    "\n",
    "print(questions.shape)\n",
    "\n",
    "questions.head()"
   ]
  },
  {
   "cell_type": "code",
   "execution_count": 15,
   "id": "d399c699",
   "metadata": {},
   "outputs": [
    {
     "name": "stderr",
     "output_type": "stream",
     "text": [
      "  8%|▊         | 5/59 [00:30<04:56,  5.49s/it]"
     ]
    },
    {
     "data": {
      "text/html": [
       "<pre style=\"white-space:pre;overflow-x:auto;line-height:normal;font-family:Menlo,'DejaVu Sans Mono',consolas,'Courier New',monospace\"><span style=\"color: #800000; text-decoration-color: #800000; font-weight: bold\">Error while generating or parsing output:</span>\n",
       "<span style=\"color: #800000; text-decoration-color: #800000; font-weight: bold\">The model output does not contain any JSON blob.</span>\n",
       "</pre>\n"
      ],
      "text/plain": [
       "\u001b[1;31mError while generating or parsing output:\u001b[0m\n",
       "\u001b[1;31mThe model output does not contain any JSON blob.\u001b[0m\n"
      ]
     },
     "metadata": {},
     "output_type": "display_data"
    },
    {
     "name": "stderr",
     "output_type": "stream",
     "text": [
      " 19%|█▊        | 11/59 [01:55<08:36, 10.75s/it]"
     ]
    },
    {
     "data": {
      "text/html": [
       "<pre style=\"white-space:pre;overflow-x:auto;line-height:normal;font-family:Menlo,'DejaVu Sans Mono',consolas,'Courier New',monospace\"><span style=\"color: #800000; text-decoration-color: #800000; font-weight: bold\">Error while generating or parsing output:</span>\n",
       "<span style=\"color: #800000; text-decoration-color: #800000; font-weight: bold\">Key </span><span style=\"color: #808000; text-decoration-color: #808000; font-weight: bold\">tool_name_key</span><span style=\"color: #800000; text-decoration-color: #800000; font-weight: bold\">=</span><span style=\"color: #008000; text-decoration-color: #008000\">'name'</span><span style=\"color: #800000; text-decoration-color: #800000; font-weight: bold\"> not found in the generated tool call. Got keys: [</span><span style=\"color: #008000; text-decoration-color: #008000\">'answer'</span><span style=\"color: #800000; text-decoration-color: #800000; font-weight: bold\">\\] instead</span>\n",
       "</pre>\n"
      ],
      "text/plain": [
       "\u001b[1;31mError while generating or parsing output:\u001b[0m\n",
       "\u001b[1;31mKey \u001b[0m\u001b[1;33mtool_name_key\u001b[0m\u001b[1;31m=\u001b[0m\u001b[32m'name'\u001b[0m\u001b[1;31m not found in the generated tool call. Got keys: \u001b[0m\u001b[1;31m[\u001b[0m\u001b[32m'answer'\u001b[0m\u001b[1;31m\\\u001b[0m\u001b[1;31m]\u001b[0m\u001b[1;31m instead\u001b[0m\n"
      ]
     },
     "metadata": {},
     "output_type": "display_data"
    },
    {
     "name": "stderr",
     "output_type": "stream",
     "text": [
      " 63%|██████▎   | 37/59 [08:51<07:15, 19.78s/it]"
     ]
    },
    {
     "data": {
      "text/html": [
       "<pre style=\"white-space:pre;overflow-x:auto;line-height:normal;font-family:Menlo,'DejaVu Sans Mono',consolas,'Courier New',monospace\"><span style=\"color: #800000; text-decoration-color: #800000; font-weight: bold\">Error while generating or parsing output:</span>\n",
       "<span style=\"color: #800000; text-decoration-color: #800000; font-weight: bold\">Key </span><span style=\"color: #808000; text-decoration-color: #808000; font-weight: bold\">tool_name_key</span><span style=\"color: #800000; text-decoration-color: #800000; font-weight: bold\">=</span><span style=\"color: #008000; text-decoration-color: #008000\">'name'</span><span style=\"color: #800000; text-decoration-color: #800000; font-weight: bold\"> not found in the generated tool call. Got keys: [</span><span style=\"color: #008000; text-decoration-color: #008000\">'answer'</span><span style=\"color: #800000; text-decoration-color: #800000; font-weight: bold\">\\] instead</span>\n",
       "</pre>\n"
      ],
      "text/plain": [
       "\u001b[1;31mError while generating or parsing output:\u001b[0m\n",
       "\u001b[1;31mKey \u001b[0m\u001b[1;33mtool_name_key\u001b[0m\u001b[1;31m=\u001b[0m\u001b[32m'name'\u001b[0m\u001b[1;31m not found in the generated tool call. Got keys: \u001b[0m\u001b[1;31m[\u001b[0m\u001b[32m'answer'\u001b[0m\u001b[1;31m\\\u001b[0m\u001b[1;31m]\u001b[0m\u001b[1;31m instead\u001b[0m\n"
      ]
     },
     "metadata": {},
     "output_type": "display_data"
    },
    {
     "name": "stderr",
     "output_type": "stream",
     "text": [
      " 66%|██████▌   | 39/59 [09:39<07:08, 21.41s/it]"
     ]
    },
    {
     "data": {
      "text/html": [
       "<pre style=\"white-space:pre;overflow-x:auto;line-height:normal;font-family:Menlo,'DejaVu Sans Mono',consolas,'Courier New',monospace\"><span style=\"color: #800000; text-decoration-color: #800000; font-weight: bold\">Error while generating or parsing output:</span>\n",
       "<span style=\"color: #800000; text-decoration-color: #800000; font-weight: bold\">Key </span><span style=\"color: #808000; text-decoration-color: #808000; font-weight: bold\">tool_name_key</span><span style=\"color: #800000; text-decoration-color: #800000; font-weight: bold\">=</span><span style=\"color: #008000; text-decoration-color: #008000\">'name'</span><span style=\"color: #800000; text-decoration-color: #800000; font-weight: bold\"> not found in the generated tool call. Got keys: [</span><span style=\"color: #008000; text-decoration-color: #008000\">'answer'</span><span style=\"color: #800000; text-decoration-color: #800000; font-weight: bold\">\\] instead</span>\n",
       "</pre>\n"
      ],
      "text/plain": [
       "\u001b[1;31mError while generating or parsing output:\u001b[0m\n",
       "\u001b[1;31mKey \u001b[0m\u001b[1;33mtool_name_key\u001b[0m\u001b[1;31m=\u001b[0m\u001b[32m'name'\u001b[0m\u001b[1;31m not found in the generated tool call. Got keys: \u001b[0m\u001b[1;31m[\u001b[0m\u001b[32m'answer'\u001b[0m\u001b[1;31m\\\u001b[0m\u001b[1;31m]\u001b[0m\u001b[1;31m instead\u001b[0m\n"
      ]
     },
     "metadata": {},
     "output_type": "display_data"
    },
    {
     "name": "stderr",
     "output_type": "stream",
     "text": [
      "100%|██████████| 59/59 [15:16<00:00, 15.54s/it]\n"
     ]
    }
   ],
   "source": [
    "saiga_agent = ToolCallingAgent(\n",
    "    tools=[review_search_tool],\n",
    "    model=local_llm(\"hf.co/IlyaGusev/saiga_nemo_12b_gguf:Q4_0\"),\n",
    "    max_steps=10,\n",
    "    verbosity_level=0,  # only errors\n",
    ")\n",
    "\n",
    "for q in tqdm(questions[\"question\"].tolist()):\n",
    "    saiga_agent.run(q)"
   ]
  },
  {
   "cell_type": "code",
   "execution_count": 16,
   "id": "2dce66dd",
   "metadata": {},
   "outputs": [
    {
     "data": {
      "text/html": [
       "<div>\n",
       "<style scoped>\n",
       "    .dataframe tbody tr th:only-of-type {\n",
       "        vertical-align: middle;\n",
       "    }\n",
       "\n",
       "    .dataframe tbody tr th {\n",
       "        vertical-align: top;\n",
       "    }\n",
       "\n",
       "    .dataframe thead th {\n",
       "        text-align: right;\n",
       "    }\n",
       "</style>\n",
       "<table border=\"1\" class=\"dataframe\">\n",
       "  <thead>\n",
       "    <tr style=\"text-align: right;\">\n",
       "      <th></th>\n",
       "      <th>input</th>\n",
       "      <th>reference</th>\n",
       "    </tr>\n",
       "    <tr>\n",
       "      <th>context.span_id</th>\n",
       "      <th></th>\n",
       "      <th></th>\n",
       "    </tr>\n",
       "  </thead>\n",
       "  <tbody>\n",
       "    <tr>\n",
       "      <th>37506f0ddabd6415</th>\n",
       "      <td>Представь топ известных елочных украшений и ви...</td>\n",
       "      <td>Найденные отзывы о местах:\\n\\n=== Отзыв на Елк...</td>\n",
       "    </tr>\n",
       "    <tr>\n",
       "      <th>e5d8760858b02627</th>\n",
       "      <td>Где купить ёлки в России с хорошими отзывами?</td>\n",
       "      <td>Найденные отзывы о местах:\\n\\n=== Отзыв на ОРТ...</td>\n",
       "    </tr>\n",
       "    <tr>\n",
       "      <th>6ed7acd763949391</th>\n",
       "      <td>список ёмкостного оборудования и резервуаров д...</td>\n",
       "      <td>Найденные отзывы о местах:\\n\\n=== Отзыв на Www...</td>\n",
       "    </tr>\n",
       "    <tr>\n",
       "      <th>e87f41818db40953</th>\n",
       "      <td>посоветуй топовые АЗС в России</td>\n",
       "      <td>Найденные отзывы о местах:\\n\\n=== Отзыв на Лук...</td>\n",
       "    </tr>\n",
       "    <tr>\n",
       "      <th>d89fd5d31a865d92</th>\n",
       "      <td>Список аварийных служб</td>\n",
       "      <td>Найденные отзывы о местах:\\n\\n=== Отзыв на FIT...</td>\n",
       "    </tr>\n",
       "  </tbody>\n",
       "</table>\n",
       "</div>"
      ],
      "text/plain": [
       "                                                              input  \\\n",
       "context.span_id                                                       \n",
       "37506f0ddabd6415  Представь топ известных елочных украшений и ви...   \n",
       "e5d8760858b02627      Где купить ёлки в России с хорошими отзывами?   \n",
       "6ed7acd763949391  список ёмкостного оборудования и резервуаров д...   \n",
       "e87f41818db40953                     посоветуй топовые АЗС в России   \n",
       "d89fd5d31a865d92                             Список аварийных служб   \n",
       "\n",
       "                                                          reference  \n",
       "context.span_id                                                      \n",
       "37506f0ddabd6415  Найденные отзывы о местах:\\n\\n=== Отзыв на Елк...  \n",
       "e5d8760858b02627  Найденные отзывы о местах:\\n\\n=== Отзыв на ОРТ...  \n",
       "6ed7acd763949391  Найденные отзывы о местах:\\n\\n=== Отзыв на Www...  \n",
       "e87f41818db40953  Найденные отзывы о местах:\\n\\n=== Отзыв на Лук...  \n",
       "d89fd5d31a865d92  Найденные отзывы о местах:\\n\\n=== Отзыв на FIT...  "
      ]
     },
     "execution_count": 16,
     "metadata": {},
     "output_type": "execute_result"
    }
   ],
   "source": [
    "query = (\n",
    "    SpanQuery()\n",
    "    .where(\n",
    "        \"name == 'TravelReviewQueryTool'\",\n",
    "    )\n",
    "    .select(\n",
    "        input=\"input.value\",  # this parameter must be named input to work with the RAG_RELEVANCY_PROMPT_TEMPLATE\n",
    "        reference=\"output.value\",  # this parameter must be named reference to work with the RAG_RELEVANCY_PROMPT_TEMPLATE\n",
    "    )\n",
    ")\n",
    "\n",
    "# The Phoenix Client can take this query and return the dataframe.\n",
    "tool_spans = px.Client().query_spans(query, project_name=project_name)\n",
    "\n",
    "tool_spans[\"input\"] = tool_spans[\"input\"].apply(lambda x: json.loads(x).get(\"kwargs\", {}).get(\"query\", \"\"))\n",
    "tool_spans.head()"
   ]
  },
  {
   "cell_type": "code",
   "execution_count": 27,
   "id": "d83f565e",
   "metadata": {},
   "outputs": [
    {
     "name": "stdout",
     "output_type": "stream",
     "text": [
      "Called tool: 45 of 59\n",
      "Tool calling rate: 76.27%\n"
     ]
    }
   ],
   "source": [
    "print(f\"Called tool: {tool_spans.shape[0]} of {questions.shape[0]}\")\n",
    "print(f\"Tool calling rate: {tool_spans.shape[0] / questions.shape[0]:.2%}\")"
   ]
  },
  {
   "cell_type": "code",
   "execution_count": 28,
   "id": "7592399f",
   "metadata": {},
   "outputs": [
    {
     "name": "stdout",
     "output_type": "stream",
     "text": [
      "\n",
      "You are comparing a reference text to a question and trying to determine if the reference text\n",
      "contains information relevant to answering the question. Here is the data:\n",
      "    [BEGIN DATA]\n",
      "    ************\n",
      "    [Question]: {input}\n",
      "    ************\n",
      "    [Reference text]: {reference}\n",
      "    ************\n",
      "    [END DATA]\n",
      "Compare the Question above to the Reference text. You must determine whether the Reference text\n",
      "contains information that can answer the Question. Please focus on whether the very specific\n",
      "question can be answered by the information in the Reference text.\n",
      "Your response must be single word, either \"relevant\" or \"unrelated\",\n",
      "and should not contain any text or characters aside from that word.\n",
      "\"unrelated\" means that the reference text does not contain an answer to the Question.\n",
      "\"relevant\" means the reference text contains an answer to the Question.\n"
     ]
    }
   ],
   "source": [
    "nest_asyncio.apply()\n",
    "\n",
    "print(RAG_RELEVANCY_PROMPT_TEMPLATE)"
   ]
  },
  {
   "cell_type": "code",
   "execution_count": 29,
   "id": "b2cad160",
   "metadata": {},
   "outputs": [
    {
     "name": "stderr",
     "output_type": "stream",
     "text": [
      "/var/folders/hy/9y5wfvks4m55vpklg49y7g0r0000gn/T/ipykernel_58057/1446960665.py:5: DeprecationWarning: `dataframe` argument is deprecated; use `data` instead\n",
      "  eval_results = llm_classify(\n"
     ]
    },
    {
     "data": {
      "application/vnd.jupyter.widget-view+json": {
       "model_id": "f823d92b31b944c68475f3bd576d63d5",
       "version_major": 2,
       "version_minor": 0
      },
      "text/plain": [
       "llm_classify |          | 0/45 (0.0%) | ⏳ 00:00<? | ?it/s"
      ]
     },
     "metadata": {},
     "output_type": "display_data"
    }
   ],
   "source": [
    "eval_model = GeminiModel(model=\"gemini-2.0-flash-lite-001\", project=659002550737)\n",
    "\n",
    "eval_results = llm_classify(\n",
    "    dataframe=tool_spans,\n",
    "    model=eval_model,\n",
    "    template=RAG_RELEVANCY_PROMPT_TEMPLATE,\n",
    "    rails=[\"relevant\", \"unrelated\"],\n",
    "    concurrency=10,\n",
    "    provide_explanation=True,\n",
    ")\n",
    "eval_results[\"score\"] = eval_results[\"explanation\"].apply(lambda x: 1 if \"relevant\" in x else 0)"
   ]
  },
  {
   "cell_type": "code",
   "execution_count": 30,
   "id": "47f35c5e",
   "metadata": {},
   "outputs": [
    {
     "data": {
      "text/html": [
       "<div>\n",
       "<style scoped>\n",
       "    .dataframe tbody tr th:only-of-type {\n",
       "        vertical-align: middle;\n",
       "    }\n",
       "\n",
       "    .dataframe tbody tr th {\n",
       "        vertical-align: top;\n",
       "    }\n",
       "\n",
       "    .dataframe thead th {\n",
       "        text-align: right;\n",
       "    }\n",
       "</style>\n",
       "<table border=\"1\" class=\"dataframe\">\n",
       "  <thead>\n",
       "    <tr style=\"text-align: right;\">\n",
       "      <th></th>\n",
       "      <th>label</th>\n",
       "      <th>explanation</th>\n",
       "      <th>exceptions</th>\n",
       "      <th>execution_status</th>\n",
       "      <th>execution_seconds</th>\n",
       "      <th>score</th>\n",
       "    </tr>\n",
       "    <tr>\n",
       "      <th>context.span_id</th>\n",
       "      <th></th>\n",
       "      <th></th>\n",
       "      <th></th>\n",
       "      <th></th>\n",
       "      <th></th>\n",
       "      <th></th>\n",
       "    </tr>\n",
       "  </thead>\n",
       "  <tbody>\n",
       "    <tr>\n",
       "      <th>37506f0ddabd6415</th>\n",
       "      <td>relevant</td>\n",
       "      <td>The question asks for a list of known Christma...</td>\n",
       "      <td>[]</td>\n",
       "      <td>COMPLETED</td>\n",
       "      <td>1.895689</td>\n",
       "      <td>1</td>\n",
       "    </tr>\n",
       "    <tr>\n",
       "      <th>e5d8760858b02627</th>\n",
       "      <td>relevant</td>\n",
       "      <td>The question asks where to buy Christmas trees...</td>\n",
       "      <td>[]</td>\n",
       "      <td>COMPLETED</td>\n",
       "      <td>1.893488</td>\n",
       "      <td>1</td>\n",
       "    </tr>\n",
       "    <tr>\n",
       "      <th>6ed7acd763949391</th>\n",
       "      <td>unrelated</td>\n",
       "      <td>The question asks for a list of capacitive equ...</td>\n",
       "      <td>[]</td>\n",
       "      <td>COMPLETED</td>\n",
       "      <td>3.171906</td>\n",
       "      <td>1</td>\n",
       "    </tr>\n",
       "    <tr>\n",
       "      <th>e87f41818db40953</th>\n",
       "      <td>relevant</td>\n",
       "      <td>The question asks for recommendations of top g...</td>\n",
       "      <td>[]</td>\n",
       "      <td>COMPLETED</td>\n",
       "      <td>2.058847</td>\n",
       "      <td>1</td>\n",
       "    </tr>\n",
       "    <tr>\n",
       "      <th>d89fd5d31a865d92</th>\n",
       "      <td>unrelated</td>\n",
       "      <td>The question asks for a list of emergency serv...</td>\n",
       "      <td>[]</td>\n",
       "      <td>COMPLETED</td>\n",
       "      <td>2.335124</td>\n",
       "      <td>0</td>\n",
       "    </tr>\n",
       "  </tbody>\n",
       "</table>\n",
       "</div>"
      ],
      "text/plain": [
       "                      label  \\\n",
       "context.span_id               \n",
       "37506f0ddabd6415   relevant   \n",
       "e5d8760858b02627   relevant   \n",
       "6ed7acd763949391  unrelated   \n",
       "e87f41818db40953   relevant   \n",
       "d89fd5d31a865d92  unrelated   \n",
       "\n",
       "                                                        explanation  \\\n",
       "context.span_id                                                       \n",
       "37506f0ddabd6415  The question asks for a list of known Christma...   \n",
       "e5d8760858b02627  The question asks where to buy Christmas trees...   \n",
       "6ed7acd763949391  The question asks for a list of capacitive equ...   \n",
       "e87f41818db40953  The question asks for recommendations of top g...   \n",
       "d89fd5d31a865d92  The question asks for a list of emergency serv...   \n",
       "\n",
       "                 exceptions execution_status  execution_seconds  score  \n",
       "context.span_id                                                         \n",
       "37506f0ddabd6415         []        COMPLETED           1.895689      1  \n",
       "e5d8760858b02627         []        COMPLETED           1.893488      1  \n",
       "6ed7acd763949391         []        COMPLETED           3.171906      1  \n",
       "e87f41818db40953         []        COMPLETED           2.058847      1  \n",
       "d89fd5d31a865d92         []        COMPLETED           2.335124      0  "
      ]
     },
     "execution_count": 30,
     "metadata": {},
     "output_type": "execute_result"
    }
   ],
   "source": [
    "eval_results.head()"
   ]
  },
  {
   "cell_type": "code",
   "execution_count": 31,
   "id": "d7445471",
   "metadata": {},
   "outputs": [],
   "source": [
    "px.Client().log_evaluations(SpanEvaluations(eval_name=\"TravelReviewQueryTool Relevancy\", dataframe=eval_results))"
   ]
  },
  {
   "cell_type": "code",
   "execution_count": null,
   "id": "9cfdf6c4",
   "metadata": {},
   "outputs": [
    {
     "name": "stdout",
     "output_type": "stream",
     "text": [
      "count    45.000000\n",
      "mean      0.644444\n",
      "std       0.484090\n",
      "min       0.000000\n",
      "25%       0.000000\n",
      "50%       1.000000\n",
      "75%       1.000000\n",
      "max       1.000000\n",
      "Name: score, dtype: float64\n"
     ]
    },
    {
     "data": {
      "text/plain": [
       "<Axes: xlabel='score'>"
      ]
     },
     "execution_count": 44,
     "metadata": {},
     "output_type": "execute_result"
    },
    {
     "data": {
      "image/png": "[encoded data removed]",
      "text/plain": [
       "<Figure size 640x480 with 1 Axes>"
      ]
     },
     "metadata": {},
     "output_type": "display_data"
    }
   ],
   "source": [
    "print(f\"Total mean score: {eval_results.score.mean():.4f}\")\n",
    "print(f\"Total median score: {eval_results.score.median():.4f}\")\n",
    "\n",
    "print(eval_results.score.describe())\n",
    "\n",
    "eval_results.score.value_counts().plot.bar()"
   ]
  },
  {
   "cell_type": "code",
   "execution_count": null,
   "id": "e4df844a",
   "metadata": {},
   "outputs": [],
   "source": []
  }
 ],
 "metadata": {
  "kernelspec": {
   "display_name": ".venv",
   "language": "python",
   "name": "python3"
  },
  "language_info": {
   "codemirror_mode": {
    "name": "ipython",
    "version": 3
   },
   "file_extension": ".py",
   "mimetype": "text/x-python",
   "name": "python",
   "nbconvert_exporter": "python",
   "pygments_lexer": "ipython3",
   "version": "3.13.3"
  }
 },
 "nbformat": 4,
 "nbformat_minor": 5
}
