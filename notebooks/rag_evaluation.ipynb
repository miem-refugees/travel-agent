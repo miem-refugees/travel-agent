{
 "cells": [
  {
   "cell_type": "markdown",
   "id": "475b3eda",
   "metadata": {},
   "source": [
    "# RAG evaluation"
   ]
  },
  {
   "cell_type": "code",
   "execution_count": 1,
   "id": "9c25c158",
   "metadata": {},
   "outputs": [
    {
     "name": "stderr",
     "output_type": "stream",
     "text": [
      "\u001b[32m2025-05-19 19:15:35.722\u001b[0m | \u001b[34m\u001b[1mDEBUG   \u001b[0m | \u001b[36mtravel_agent.qdrant.client\u001b[0m:\u001b[36mcreate_client\u001b[0m:\u001b[36m12\u001b[0m - \u001b[34m\u001b[1mConnecting to Qdrant at https://21a1c8c4-0d63-4176-9930-ee7848dafd2f.eu-central-1-0.aws.cloud.qdrant.io\u001b[0m\n",
      "\u001b[32m2025-05-19 19:15:36.568\u001b[0m | \u001b[32m\u001b[1mSUCCESS \u001b[0m | \u001b[36mtravel_agent.qdrant.client\u001b[0m:\u001b[36mcreate_client\u001b[0m:\u001b[36m22\u001b[0m - \u001b[32m\u001b[1mconnected: title='qdrant - vector search engine' version='1.14.0' commit='3617a0111fc8590c4adcc6e88882b63ca4dda9e7'\u001b[0m\n"
     ]
    }
   ],
   "source": [
    "import json\n",
    "import os\n",
    "\n",
    "import nest_asyncio\n",
    "import pandas as pd\n",
    "import phoenix as px\n",
    "from openinference.instrumentation.smolagents import SmolagentsInstrumentor\n",
    "from phoenix.evals import (\n",
    "    HALLUCINATION_PROMPT_RAILS_MAP,\n",
    "    HALLUCINATION_PROMPT_TEMPLATE,\n",
    "    RAG_RELEVANCY_PROMPT_RAILS_MAP,\n",
    "    RAG_RELEVANCY_PROMPT_TEMPLATE,\n",
    "    GeminiModel,\n",
    "    llm_classify,\n",
    ")\n",
    "from phoenix.otel import register\n",
    "from phoenix.trace import SpanEvaluations, using_project\n",
    "from phoenix.trace.dsl import SpanQuery\n",
    "from smolagents import InferenceClientModel, LiteLLMModel, ToolCallingAgent\n",
    "from tqdm import tqdm\n",
    "\n",
    "from travel_agent.qdrant import client as qdrant_client\n",
    "from travel_agent.retrieval.embedding.generation.dense import MODELS_PROMPTS\n",
    "from travel_agent.retrieval.smolagents.tool import TravelReviewQueryTool\n",
    "\n",
    "nest_asyncio.apply()\n",
    "\n",
    "if not os.getenv(\"QDRANT_URL\"):\n",
    "    print(\"Set QDRANT_URL and QDRANT_API_KEY env\")\n",
    "    exit(1)"
   ]
  },
  {
   "cell_type": "code",
   "execution_count": 2,
   "id": "ac3b96b9",
   "metadata": {},
   "outputs": [
    {
     "name": "stderr",
     "output_type": "stream",
     "text": [
      "\u001b[32m2025-05-19 19:15:40.064\u001b[0m | \u001b[34m\u001b[1mDEBUG   \u001b[0m | \u001b[36mtravel_agent.qdrant.reviews_searcher\u001b[0m:\u001b[36m__init__\u001b[0m:\u001b[36m32\u001b[0m - \u001b[34m\u001b[1mtorch will use device: mps\u001b[0m\n",
      "\u001b[32m2025-05-19 19:15:40.065\u001b[0m | \u001b[1mINFO    \u001b[0m | \u001b[36mtravel_agent.qdrant.reviews_searcher\u001b[0m:\u001b[36m__init__\u001b[0m:\u001b[36m34\u001b[0m - \u001b[1mloading model sergeyzh/BERTA\u001b[0m\n",
      "Default prompt name is set to 'Classification'. This prompt will be applied to all `encode()` calls, except if `encode()` is called with `prompt` or `prompt_name` parameters.\n",
      "\u001b[32m2025-05-19 19:15:43.398\u001b[0m | \u001b[1mINFO    \u001b[0m | \u001b[36mtravel_agent.qdrant.reviews_searcher\u001b[0m:\u001b[36m__init__\u001b[0m:\u001b[36m37\u001b[0m - \u001b[1mloading model intfloat/multilingual-e5-small\u001b[0m\n",
      "\u001b[32m2025-05-19 19:15:47.600\u001b[0m | \u001b[32m\u001b[1mSUCCESS \u001b[0m | \u001b[36mtravel_agent.qdrant.reviews_searcher\u001b[0m:\u001b[36m__init__\u001b[0m:\u001b[36m51\u001b[0m - \u001b[32m\u001b[1mQdrantReviewsSearcher is ready\u001b[0m\n"
     ]
    }
   ],
   "source": [
    "def local_llm(model_name) -> LiteLLMModel:\n",
    "    return LiteLLMModel(\n",
    "        model_id=f\"ollama_chat/{model_name}\",\n",
    "        api_base=os.getenv(\"OLLAMA_URL\", \"http://127.0.0.1:11434\"),\n",
    "        num_ctx=8192,  # ollama default is 2048 which will fail horribly. 8192 works for easy tasks, more is better. Check https://huggingface.co/spaces/NyxKrage/LLM-Model-VRAM-Calculator to calculate how much VRAM this will need for the selected model.\n",
    "    )\n",
    "\n",
    "\n",
    "review_search_tool = TravelReviewQueryTool()"
   ]
  },
  {
   "cell_type": "code",
   "execution_count": 3,
   "id": "2eb330d2",
   "metadata": {},
   "outputs": [
    {
     "data": {
      "text/html": [
       "<pre style=\"white-space:pre;overflow-x:auto;line-height:normal;font-family:Menlo,'DejaVu Sans Mono',consolas,'Courier New',monospace\"><span style=\"color: #d4b702; text-decoration-color: #d4b702\">╭──────────────────────────────────────────────────── </span><span style=\"color: #d4b702; text-decoration-color: #d4b702; font-weight: bold\">New run</span><span style=\"color: #d4b702; text-decoration-color: #d4b702\"> ────────────────────────────────────────────────────╮</span>\n",
       "<span style=\"color: #d4b702; text-decoration-color: #d4b702\">│</span>                                                                                                                 <span style=\"color: #d4b702; text-decoration-color: #d4b702\">│</span>\n",
       "<span style=\"color: #d4b702; text-decoration-color: #d4b702\">│</span> <span style=\"font-weight: bold\">Привет!</span>                                                                                                         <span style=\"color: #d4b702; text-decoration-color: #d4b702\">│</span>\n",
       "<span style=\"color: #d4b702; text-decoration-color: #d4b702\">│</span>                                                                                                                 <span style=\"color: #d4b702; text-decoration-color: #d4b702\">│</span>\n",
       "<span style=\"color: #d4b702; text-decoration-color: #d4b702\">╰─ LiteLLMModel - ollama_chat/hf.co/IlyaGusev/saiga_nemo_12b_gguf:Q4_0 ───────────────────────────────────────────╯</span>\n",
       "</pre>\n"
      ],
      "text/plain": [
       "\u001b[38;2;212;183;2m╭─\u001b[0m\u001b[38;2;212;183;2m───────────────────────────────────────────────────\u001b[0m\u001b[38;2;212;183;2m \u001b[0m\u001b[1;38;2;212;183;2mNew run\u001b[0m\u001b[38;2;212;183;2m \u001b[0m\u001b[38;2;212;183;2m───────────────────────────────────────────────────\u001b[0m\u001b[38;2;212;183;2m─╮\u001b[0m\n",
       "\u001b[38;2;212;183;2m│\u001b[0m                                                                                                                 \u001b[38;2;212;183;2m│\u001b[0m\n",
       "\u001b[38;2;212;183;2m│\u001b[0m \u001b[1mПривет!\u001b[0m                                                                                                         \u001b[38;2;212;183;2m│\u001b[0m\n",
       "\u001b[38;2;212;183;2m│\u001b[0m                                                                                                                 \u001b[38;2;212;183;2m│\u001b[0m\n",
       "\u001b[38;2;212;183;2m╰─\u001b[0m\u001b[38;2;212;183;2m LiteLLMModel - ollama_chat/hf.co/IlyaGusev/saiga_nemo_12b_gguf:Q4_0 \u001b[0m\u001b[38;2;212;183;2m──────────────────────────────────────────\u001b[0m\u001b[38;2;212;183;2m─╯\u001b[0m\n"
      ]
     },
     "metadata": {},
     "output_type": "display_data"
    },
    {
     "data": {
      "text/html": [
       "<pre style=\"white-space:pre;overflow-x:auto;line-height:normal;font-family:Menlo,'DejaVu Sans Mono',consolas,'Courier New',monospace\"><span style=\"color: #d4b702; text-decoration-color: #d4b702\">━━━━━━━━━━━━━━━━━━━━━━━━━━━━━━━━━━━━━━━━━━━━━━━━━━━━━ </span><span style=\"font-weight: bold\">Step </span><span style=\"color: #008080; text-decoration-color: #008080; font-weight: bold\">1</span><span style=\"color: #d4b702; text-decoration-color: #d4b702\"> ━━━━━━━━━━━━━━━━━━━━━━━━━━━━━━━━━━━━━━━━━━━━━━━━━━━━━━</span>\n",
       "</pre>\n"
      ],
      "text/plain": [
       "\u001b[38;2;212;183;2m━━━━━━━━━━━━━━━━━━━━━━━━━━━━━━━━━━━━━━━━━━━━━━━━━━━━━ \u001b[0m\u001b[1mStep \u001b[0m\u001b[1;36m1\u001b[0m\u001b[38;2;212;183;2m ━━━━━━━━━━━━━━━━━━━━━━━━━━━━━━━━━━━━━━━━━━━━━━━━━━━━━━\u001b[0m\n"
      ]
     },
     "metadata": {},
     "output_type": "display_data"
    },
    {
     "data": {
      "text/html": [
       "<pre style=\"white-space:pre;overflow-x:auto;line-height:normal;font-family:Menlo,'DejaVu Sans Mono',consolas,'Courier New',monospace\">╭─────────────────────────────────────────────────────────────────────────────────────────────────────────────────╮\n",
       "│ Calling tool: 'final_answer' with arguments: {'answer': 'Привет!'}                                              │\n",
       "╰─────────────────────────────────────────────────────────────────────────────────────────────────────────────────╯\n",
       "</pre>\n"
      ],
      "text/plain": [
       "╭─────────────────────────────────────────────────────────────────────────────────────────────────────────────────╮\n",
       "│ Calling tool: 'final_answer' with arguments: {'answer': 'Привет!'}                                              │\n",
       "╰─────────────────────────────────────────────────────────────────────────────────────────────────────────────────╯\n"
      ]
     },
     "metadata": {},
     "output_type": "display_data"
    },
    {
     "data": {
      "text/html": [
       "<pre style=\"white-space:pre;overflow-x:auto;line-height:normal;font-family:Menlo,'DejaVu Sans Mono',consolas,'Courier New',monospace\"><span style=\"color: #d4b702; text-decoration-color: #d4b702; font-weight: bold\">Final answer: Привет!</span>\n",
       "</pre>\n"
      ],
      "text/plain": [
       "\u001b[1;38;2;212;183;2mFinal answer: Привет!\u001b[0m\n"
      ]
     },
     "metadata": {},
     "output_type": "display_data"
    },
    {
     "data": {
      "text/html": [
       "<pre style=\"white-space:pre;overflow-x:auto;line-height:normal;font-family:Menlo,'DejaVu Sans Mono',consolas,'Courier New',monospace\"><span style=\"color: #7f7f7f; text-decoration-color: #7f7f7f\">[Step 1: Duration 35.72 seconds| Input tokens: 1,655 | Output tokens: 23]</span>\n",
       "</pre>\n"
      ],
      "text/plain": [
       "\u001b[2m[Step 1: Duration 35.72 seconds| Input tokens: 1,655 | Output tokens: 23]\u001b[0m\n"
      ]
     },
     "metadata": {},
     "output_type": "display_data"
    },
    {
     "data": {
      "text/plain": [
       "'Привет!'"
      ]
     },
     "execution_count": 3,
     "metadata": {},
     "output_type": "execute_result"
    }
   ],
   "source": [
    "saiga_agent = ToolCallingAgent(\n",
    "    tools=[review_search_tool],\n",
    "    model=local_llm(\"hf.co/IlyaGusev/saiga_nemo_12b_gguf:Q4_0\"),\n",
    "    max_steps=10,\n",
    ")\n",
    "saiga_agent.run(\"Привет!\")"
   ]
  },
  {
   "cell_type": "markdown",
   "id": "e8473ebf",
   "metadata": {},
   "source": [
    "## Set up [Phoenix](https://phoenix.arize.com/) framework to evaluate\n",
    "\n",
    "https://huggingface.co/blog/smolagents-phoenix"
   ]
  },
  {
   "cell_type": "code",
   "execution_count": 4,
   "id": "fff22a5e",
   "metadata": {},
   "outputs": [
    {
     "name": "stderr",
     "output_type": "stream",
     "text": [
      "Attempting to instrument while already instrumented\n"
     ]
    },
    {
     "name": "stdout",
     "output_type": "stream",
     "text": [
      "🔭 OpenTelemetry Tracing Details 🔭\n",
      "|  Phoenix Project: travel-agent-eval\n",
      "|  Span Processor: SimpleSpanProcessor\n",
      "|  Collector Endpoint: localhost:4317\n",
      "|  Transport: gRPC\n",
      "|  Transport Headers: {'user-agent': '****'}\n",
      "|  \n",
      "|  Using a default SpanProcessor. `add_span_processor` will overwrite this default.\n",
      "|  \n",
      "|  ⚠️ WARNING: It is strongly advised to use a BatchSpanProcessor in production environments.\n",
      "|  \n",
      "|  `register` has set this TracerProvider as the global OpenTelemetry default.\n",
      "|  To disable this behavior, call `register` with `set_global_tracer_provider=False`.\n",
      "\n"
     ]
    }
   ],
   "source": [
    "# run in background:\n",
    "#\n",
    "# uv run -m phoenix.server.main serve\n",
    "#\n",
    "# then run this\n",
    "\n",
    "\n",
    "project_name = \"travel-agent-eval\"\n",
    "\n",
    "tracer_provider = register(\n",
    "    project_name=project_name, auto_instrument=True\n",
    ")  # creates a tracer provider to capture OTEL traces\n",
    "SmolagentsInstrumentor().instrument(\n",
    "    tracer_provider=tracer_provider\n",
    ")  # automatically captures any smolagents calls as traces"
   ]
  },
  {
   "cell_type": "code",
   "execution_count": 5,
   "id": "a8bb56a5",
   "metadata": {},
   "outputs": [
    {
     "name": "stdout",
     "output_type": "stream",
     "text": [
      "(68, 2)\n"
     ]
    },
    {
     "data": {
      "text/html": [
       "<div>\n",
       "<style scoped>\n",
       "    .dataframe tbody tr th:only-of-type {\n",
       "        vertical-align: middle;\n",
       "    }\n",
       "\n",
       "    .dataframe tbody tr th {\n",
       "        vertical-align: top;\n",
       "    }\n",
       "\n",
       "    .dataframe thead th {\n",
       "        text-align: right;\n",
       "    }\n",
       "</style>\n",
       "<table border=\"1\" class=\"dataframe\">\n",
       "  <thead>\n",
       "    <tr style=\"text-align: right;\">\n",
       "      <th></th>\n",
       "      <th>question</th>\n",
       "      <th>expected_places</th>\n",
       "    </tr>\n",
       "  </thead>\n",
       "  <tbody>\n",
       "    <tr>\n",
       "      <th>0</th>\n",
       "      <td>Какие Ресторан ты знаешь?</td>\n",
       "      <td>['Massimo pizza', 'Killfish', 'Свежъ', 'Harat’...</td>\n",
       "    </tr>\n",
       "    <tr>\n",
       "      <th>1</th>\n",
       "      <td>Какие Кафе ты знаешь?</td>\n",
       "      <td>['Jinju', 'Massimo pizza', 'Killfish', 'Свежъ'...</td>\n",
       "    </tr>\n",
       "    <tr>\n",
       "      <th>2</th>\n",
       "      <td>Какие Салон красоты ты знаешь?</td>\n",
       "      <td>['Точка Красоты', 'It-girls', 'Всемкрасоты', '...</td>\n",
       "    </tr>\n",
       "    <tr>\n",
       "      <th>3</th>\n",
       "      <td>Какие Бар, паб ты знаешь?</td>\n",
       "      <td>['Killfish', 'Harat’s pub', 'Жаровня Парк Горь...</td>\n",
       "    </tr>\n",
       "    <tr>\n",
       "      <th>4</th>\n",
       "      <td>Какие Ногтевая студия ты знаешь?</td>\n",
       "      <td>['Libro Beauty', 'Точка Красоты', 'Beauty room...</td>\n",
       "    </tr>\n",
       "  </tbody>\n",
       "</table>\n",
       "</div>"
      ],
      "text/plain": [
       "                           question  \\\n",
       "0         Какие Ресторан ты знаешь?   \n",
       "1             Какие Кафе ты знаешь?   \n",
       "2    Какие Салон красоты ты знаешь?   \n",
       "3         Какие Бар, паб ты знаешь?   \n",
       "4  Какие Ногтевая студия ты знаешь?   \n",
       "\n",
       "                                     expected_places  \n",
       "0  ['Massimo pizza', 'Killfish', 'Свежъ', 'Harat’...  \n",
       "1  ['Jinju', 'Massimo pizza', 'Killfish', 'Свежъ'...  \n",
       "2  ['Точка Красоты', 'It-girls', 'Всемкрасоты', '...  \n",
       "3  ['Killfish', 'Harat’s pub', 'Жаровня Парк Горь...  \n",
       "4  ['Libro Beauty', 'Точка Красоты', 'Beauty room...  "
      ]
     },
     "execution_count": 5,
     "metadata": {},
     "output_type": "execute_result"
    }
   ],
   "source": [
    "questions = pd.read_csv(\"../data/questions/rag/moskva.csv\")\n",
    "\n",
    "print(questions.shape)\n",
    "\n",
    "questions.head()"
   ]
  },
  {
   "cell_type": "code",
   "execution_count": 6,
   "id": "d399c699",
   "metadata": {},
   "outputs": [
    {
     "name": "stderr",
     "output_type": "stream",
     "text": [
      "  0%|          | 0/68 [00:00<?, ?it/s]"
     ]
    },
    {
     "data": {
      "text/html": [
       "<pre style=\"white-space:pre;overflow-x:auto;line-height:normal;font-family:Menlo,'DejaVu Sans Mono',consolas,'Courier New',monospace\"><span style=\"color: #800000; text-decoration-color: #800000; font-weight: bold\">Error while generating or parsing output:</span>\n",
       "<span style=\"color: #800000; text-decoration-color: #800000; font-weight: bold\">Key </span><span style=\"color: #808000; text-decoration-color: #808000; font-weight: bold\">tool_name_key</span><span style=\"color: #800000; text-decoration-color: #800000; font-weight: bold\">=</span><span style=\"color: #008000; text-decoration-color: #008000\">'name'</span><span style=\"color: #800000; text-decoration-color: #800000; font-weight: bold\"> not found in the generated tool call. Got keys: [</span><span style=\"color: #008000; text-decoration-color: #008000\">'answer'</span><span style=\"color: #800000; text-decoration-color: #800000; font-weight: bold\">\\] instead</span>\n",
       "</pre>\n"
      ],
      "text/plain": [
       "\u001b[1;31mError while generating or parsing output:\u001b[0m\n",
       "\u001b[1;31mKey \u001b[0m\u001b[1;33mtool_name_key\u001b[0m\u001b[1;31m=\u001b[0m\u001b[32m'name'\u001b[0m\u001b[1;31m not found in the generated tool call. Got keys: \u001b[0m\u001b[1;31m[\u001b[0m\u001b[32m'answer'\u001b[0m\u001b[1;31m\\\u001b[0m\u001b[1;31m]\u001b[0m\u001b[1;31m instead\u001b[0m\n"
      ]
     },
     "metadata": {},
     "output_type": "display_data"
    },
    {
     "data": {
      "text/html": [
       "<pre style=\"white-space:pre;overflow-x:auto;line-height:normal;font-family:Menlo,'DejaVu Sans Mono',consolas,'Courier New',monospace\"><span style=\"color: #800000; text-decoration-color: #800000; font-weight: bold\">Error while generating or parsing output:</span>\n",
       "<span style=\"color: #800000; text-decoration-color: #800000; font-weight: bold\">Key </span><span style=\"color: #808000; text-decoration-color: #808000; font-weight: bold\">tool_name_key</span><span style=\"color: #800000; text-decoration-color: #800000; font-weight: bold\">=</span><span style=\"color: #008000; text-decoration-color: #008000\">'name'</span><span style=\"color: #800000; text-decoration-color: #800000; font-weight: bold\"> not found in the generated tool call. Got keys: [</span><span style=\"color: #008000; text-decoration-color: #008000\">'type'</span><span style=\"color: #800000; text-decoration-color: #800000; font-weight: bold\">, </span><span style=\"color: #008000; text-decoration-color: #008000\">'arguments'</span><span style=\"color: #800000; text-decoration-color: #800000; font-weight: bold\">\\] instead</span>\n",
       "</pre>\n"
      ],
      "text/plain": [
       "\u001b[1;31mError while generating or parsing output:\u001b[0m\n",
       "\u001b[1;31mKey \u001b[0m\u001b[1;33mtool_name_key\u001b[0m\u001b[1;31m=\u001b[0m\u001b[32m'name'\u001b[0m\u001b[1;31m not found in the generated tool call. Got keys: \u001b[0m\u001b[1;31m[\u001b[0m\u001b[32m'type'\u001b[0m\u001b[1;31m, \u001b[0m\u001b[32m'arguments'\u001b[0m\u001b[1;31m\\\u001b[0m\u001b[1;31m]\u001b[0m\u001b[1;31m instead\u001b[0m\n"
      ]
     },
     "metadata": {},
     "output_type": "display_data"
    },
    {
     "name": "stderr",
     "output_type": "stream",
     "text": [
      " 13%|█▎        | 9/68 [02:38<12:35, 12.81s/it]"
     ]
    },
    {
     "data": {
      "text/html": [
       "<pre style=\"white-space:pre;overflow-x:auto;line-height:normal;font-family:Menlo,'DejaVu Sans Mono',consolas,'Courier New',monospace\"><span style=\"color: #800000; text-decoration-color: #800000; font-weight: bold\">Error while generating or parsing output:</span>\n",
       "<span style=\"color: #800000; text-decoration-color: #800000; font-weight: bold\">Key </span><span style=\"color: #808000; text-decoration-color: #808000; font-weight: bold\">tool_name_key</span><span style=\"color: #800000; text-decoration-color: #800000; font-weight: bold\">=</span><span style=\"color: #008000; text-decoration-color: #008000\">'name'</span><span style=\"color: #800000; text-decoration-color: #800000; font-weight: bold\"> not found in the generated tool call. Got keys: [</span><span style=\"color: #008000; text-decoration-color: #008000\">'answer'</span><span style=\"color: #800000; text-decoration-color: #800000; font-weight: bold\">\\] instead</span>\n",
       "</pre>\n"
      ],
      "text/plain": [
       "\u001b[1;31mError while generating or parsing output:\u001b[0m\n",
       "\u001b[1;31mKey \u001b[0m\u001b[1;33mtool_name_key\u001b[0m\u001b[1;31m=\u001b[0m\u001b[32m'name'\u001b[0m\u001b[1;31m not found in the generated tool call. Got keys: \u001b[0m\u001b[1;31m[\u001b[0m\u001b[32m'answer'\u001b[0m\u001b[1;31m\\\u001b[0m\u001b[1;31m]\u001b[0m\u001b[1;31m instead\u001b[0m\n"
      ]
     },
     "metadata": {},
     "output_type": "display_data"
    },
    {
     "name": "stderr",
     "output_type": "stream",
     "text": [
      " 28%|██▊       | 19/68 [05:19<12:55, 15.84s/it]"
     ]
    },
    {
     "data": {
      "text/html": [
       "<pre style=\"white-space:pre;overflow-x:auto;line-height:normal;font-family:Menlo,'DejaVu Sans Mono',consolas,'Courier New',monospace\"><span style=\"color: #800000; text-decoration-color: #800000; font-weight: bold\">Error while generating or parsing output:</span>\n",
       "<span style=\"color: #800000; text-decoration-color: #800000; font-weight: bold\">Key </span><span style=\"color: #808000; text-decoration-color: #808000; font-weight: bold\">tool_name_key</span><span style=\"color: #800000; text-decoration-color: #800000; font-weight: bold\">=</span><span style=\"color: #008000; text-decoration-color: #008000\">'name'</span><span style=\"color: #800000; text-decoration-color: #800000; font-weight: bold\"> not found in the generated tool call. Got keys: [</span><span style=\"color: #008000; text-decoration-color: #008000\">'answer'</span><span style=\"color: #800000; text-decoration-color: #800000; font-weight: bold\">\\] instead</span>\n",
       "</pre>\n"
      ],
      "text/plain": [
       "\u001b[1;31mError while generating or parsing output:\u001b[0m\n",
       "\u001b[1;31mKey \u001b[0m\u001b[1;33mtool_name_key\u001b[0m\u001b[1;31m=\u001b[0m\u001b[32m'name'\u001b[0m\u001b[1;31m not found in the generated tool call. Got keys: \u001b[0m\u001b[1;31m[\u001b[0m\u001b[32m'answer'\u001b[0m\u001b[1;31m\\\u001b[0m\u001b[1;31m]\u001b[0m\u001b[1;31m instead\u001b[0m\n"
      ]
     },
     "metadata": {},
     "output_type": "display_data"
    },
    {
     "name": "stderr",
     "output_type": "stream",
     "text": [
      " 57%|█████▋    | 39/68 [10:01<07:04, 14.65s/it]"
     ]
    },
    {
     "data": {
      "text/html": [
       "<pre style=\"white-space:pre;overflow-x:auto;line-height:normal;font-family:Menlo,'DejaVu Sans Mono',consolas,'Courier New',monospace\"><span style=\"color: #800000; text-decoration-color: #800000; font-weight: bold\">Error while generating or parsing output:</span>\n",
       "<span style=\"color: #800000; text-decoration-color: #800000; font-weight: bold\">Key </span><span style=\"color: #808000; text-decoration-color: #808000; font-weight: bold\">tool_name_key</span><span style=\"color: #800000; text-decoration-color: #800000; font-weight: bold\">=</span><span style=\"color: #008000; text-decoration-color: #008000\">'name'</span><span style=\"color: #800000; text-decoration-color: #800000; font-weight: bold\"> not found in the generated tool call. Got keys: [</span><span style=\"color: #008000; text-decoration-color: #008000\">'answer'</span><span style=\"color: #800000; text-decoration-color: #800000; font-weight: bold\">\\] instead</span>\n",
       "</pre>\n"
      ],
      "text/plain": [
       "\u001b[1;31mError while generating or parsing output:\u001b[0m\n",
       "\u001b[1;31mKey \u001b[0m\u001b[1;33mtool_name_key\u001b[0m\u001b[1;31m=\u001b[0m\u001b[32m'name'\u001b[0m\u001b[1;31m not found in the generated tool call. Got keys: \u001b[0m\u001b[1;31m[\u001b[0m\u001b[32m'answer'\u001b[0m\u001b[1;31m\\\u001b[0m\u001b[1;31m]\u001b[0m\u001b[1;31m instead\u001b[0m\n"
      ]
     },
     "metadata": {},
     "output_type": "display_data"
    },
    {
     "name": "stderr",
     "output_type": "stream",
     "text": [
      " 66%|██████▌   | 45/68 [12:39<07:57, 20.77s/it]"
     ]
    },
    {
     "data": {
      "text/html": [
       "<pre style=\"white-space:pre;overflow-x:auto;line-height:normal;font-family:Menlo,'DejaVu Sans Mono',consolas,'Courier New',monospace\"><span style=\"color: #800000; text-decoration-color: #800000; font-weight: bold\">Error while generating or parsing output:</span>\n",
       "<span style=\"color: #800000; text-decoration-color: #800000; font-weight: bold\">Key </span><span style=\"color: #808000; text-decoration-color: #808000; font-weight: bold\">tool_name_key</span><span style=\"color: #800000; text-decoration-color: #800000; font-weight: bold\">=</span><span style=\"color: #008000; text-decoration-color: #008000\">'name'</span><span style=\"color: #800000; text-decoration-color: #800000; font-weight: bold\"> not found in the generated tool call. Got keys: [</span><span style=\"color: #008000; text-decoration-color: #008000\">'answer'</span><span style=\"color: #800000; text-decoration-color: #800000; font-weight: bold\">\\] instead</span>\n",
       "</pre>\n"
      ],
      "text/plain": [
       "\u001b[1;31mError while generating or parsing output:\u001b[0m\n",
       "\u001b[1;31mKey \u001b[0m\u001b[1;33mtool_name_key\u001b[0m\u001b[1;31m=\u001b[0m\u001b[32m'name'\u001b[0m\u001b[1;31m not found in the generated tool call. Got keys: \u001b[0m\u001b[1;31m[\u001b[0m\u001b[32m'answer'\u001b[0m\u001b[1;31m\\\u001b[0m\u001b[1;31m]\u001b[0m\u001b[1;31m instead\u001b[0m\n"
      ]
     },
     "metadata": {},
     "output_type": "display_data"
    },
    {
     "name": "stderr",
     "output_type": "stream",
     "text": [
      " 68%|██████▊   | 46/68 [13:33<11:14, 30.66s/it]"
     ]
    },
    {
     "data": {
      "text/html": [
       "<pre style=\"white-space:pre;overflow-x:auto;line-height:normal;font-family:Menlo,'DejaVu Sans Mono',consolas,'Courier New',monospace\"><span style=\"color: #800000; text-decoration-color: #800000; font-weight: bold\">Error while generating or parsing output:</span>\n",
       "<span style=\"color: #800000; text-decoration-color: #800000; font-weight: bold\">Key </span><span style=\"color: #808000; text-decoration-color: #808000; font-weight: bold\">tool_name_key</span><span style=\"color: #800000; text-decoration-color: #800000; font-weight: bold\">=</span><span style=\"color: #008000; text-decoration-color: #008000\">'name'</span><span style=\"color: #800000; text-decoration-color: #800000; font-weight: bold\"> not found in the generated tool call. Got keys: [</span><span style=\"color: #008000; text-decoration-color: #008000\">' name'</span><span style=\"color: #800000; text-decoration-color: #800000; font-weight: bold\">, </span><span style=\"color: #008000; text-decoration-color: #008000\">'arguments'</span><span style=\"color: #800000; text-decoration-color: #800000; font-weight: bold\">\\] instead</span>\n",
       "</pre>\n"
      ],
      "text/plain": [
       "\u001b[1;31mError while generating or parsing output:\u001b[0m\n",
       "\u001b[1;31mKey \u001b[0m\u001b[1;33mtool_name_key\u001b[0m\u001b[1;31m=\u001b[0m\u001b[32m'name'\u001b[0m\u001b[1;31m not found in the generated tool call. Got keys: \u001b[0m\u001b[1;31m[\u001b[0m\u001b[32m' name'\u001b[0m\u001b[1;31m, \u001b[0m\u001b[32m'arguments'\u001b[0m\u001b[1;31m\\\u001b[0m\u001b[1;31m]\u001b[0m\u001b[1;31m instead\u001b[0m\n"
      ]
     },
     "metadata": {},
     "output_type": "display_data"
    },
    {
     "name": "stderr",
     "output_type": "stream",
     "text": [
      " 94%|█████████▍| 64/68 [19:21<01:01, 15.30s/it]"
     ]
    },
    {
     "data": {
      "text/html": [
       "<pre style=\"white-space:pre;overflow-x:auto;line-height:normal;font-family:Menlo,'DejaVu Sans Mono',consolas,'Courier New',monospace\"><span style=\"color: #800000; text-decoration-color: #800000; font-weight: bold\">Error while generating or parsing output:</span>\n",
       "<span style=\"color: #800000; text-decoration-color: #800000; font-weight: bold\">Key </span><span style=\"color: #808000; text-decoration-color: #808000; font-weight: bold\">tool_name_key</span><span style=\"color: #800000; text-decoration-color: #800000; font-weight: bold\">=</span><span style=\"color: #008000; text-decoration-color: #008000\">'name'</span><span style=\"color: #800000; text-decoration-color: #800000; font-weight: bold\"> not found in the generated tool call. Got keys: [</span><span style=\"color: #008000; text-decoration-color: #008000\">'answer'</span><span style=\"color: #800000; text-decoration-color: #800000; font-weight: bold\">\\] instead</span>\n",
       "</pre>\n"
      ],
      "text/plain": [
       "\u001b[1;31mError while generating or parsing output:\u001b[0m\n",
       "\u001b[1;31mKey \u001b[0m\u001b[1;33mtool_name_key\u001b[0m\u001b[1;31m=\u001b[0m\u001b[32m'name'\u001b[0m\u001b[1;31m not found in the generated tool call. Got keys: \u001b[0m\u001b[1;31m[\u001b[0m\u001b[32m'answer'\u001b[0m\u001b[1;31m\\\u001b[0m\u001b[1;31m]\u001b[0m\u001b[1;31m instead\u001b[0m\n"
      ]
     },
     "metadata": {},
     "output_type": "display_data"
    },
    {
     "name": "stderr",
     "output_type": "stream",
     "text": [
      "100%|██████████| 68/68 [20:55<00:00, 18.46s/it]\n"
     ]
    }
   ],
   "source": [
    "# Eval stage\n",
    "\n",
    "\n",
    "saiga_agent = ToolCallingAgent(\n",
    "    tools=[review_search_tool],\n",
    "    model=local_llm(\"hf.co/IlyaGusev/saiga_nemo_12b_gguf:Q4_0\"),\n",
    "    max_steps=10,\n",
    "    verbosity_level=0,  # only errors\n",
    ")\n",
    "\n",
    "with using_project(\"saiga-nemo-12b-Q4\"):\n",
    "    for q in tqdm(questions[\"question\"].tolist()):\n",
    "        saiga_agent.run(q)"
   ]
  },
  {
   "cell_type": "code",
   "execution_count": 11,
   "id": "2dce66dd",
   "metadata": {},
   "outputs": [
    {
     "data": {
      "text/html": [
       "<div>\n",
       "<style scoped>\n",
       "    .dataframe tbody tr th:only-of-type {\n",
       "        vertical-align: middle;\n",
       "    }\n",
       "\n",
       "    .dataframe tbody tr th {\n",
       "        vertical-align: top;\n",
       "    }\n",
       "\n",
       "    .dataframe thead th {\n",
       "        text-align: right;\n",
       "    }\n",
       "</style>\n",
       "<table border=\"1\" class=\"dataframe\">\n",
       "  <thead>\n",
       "    <tr style=\"text-align: right;\">\n",
       "      <th></th>\n",
       "      <th>input</th>\n",
       "      <th>reference</th>\n",
       "    </tr>\n",
       "    <tr>\n",
       "      <th>context.span_id</th>\n",
       "      <th></th>\n",
       "      <th></th>\n",
       "    </tr>\n",
       "  </thead>\n",
       "  <tbody>\n",
       "    <tr>\n",
       "      <th>837116cabe3dd0ca</th>\n",
       "      <td>{\"args\": [], \"sanitize_inputs_outputs\": true, ...</td>\n",
       "      <td>Найденные отзывы о местах:\\n\\n=== Отзыв на Гор...</td>\n",
       "    </tr>\n",
       "    <tr>\n",
       "      <th>f2deae28f161304e</th>\n",
       "      <td>{\"args\": [], \"sanitize_inputs_outputs\": true, ...</td>\n",
       "      <td>Найденные отзывы о местах:\\n\\n=== Отзыв на Ост...</td>\n",
       "    </tr>\n",
       "    <tr>\n",
       "      <th>4e3f8a03092c6a19</th>\n",
       "      <td>{\"args\": [], \"sanitize_inputs_outputs\": true, ...</td>\n",
       "      <td>Найденные отзывы о местах:\\n\\n=== Отзыв на Why...</td>\n",
       "    </tr>\n",
       "    <tr>\n",
       "      <th>f54ece270a615a09</th>\n",
       "      <td>{\"args\": [], \"sanitize_inputs_outputs\": true, ...</td>\n",
       "      <td>Найденные отзывы о местах:\\n\\n=== Отзыв на Pip...</td>\n",
       "    </tr>\n",
       "    <tr>\n",
       "      <th>9aabf701b66820ce</th>\n",
       "      <td>{\"args\": [], \"sanitize_inputs_outputs\": true, ...</td>\n",
       "      <td>Найденные отзывы о местах:\\n\\n=== Отзыв на Пал...</td>\n",
       "    </tr>\n",
       "  </tbody>\n",
       "</table>\n",
       "</div>"
      ],
      "text/plain": [
       "                                                              input  \\\n",
       "context.span_id                                                       \n",
       "837116cabe3dd0ca  {\"args\": [], \"sanitize_inputs_outputs\": true, ...   \n",
       "f2deae28f161304e  {\"args\": [], \"sanitize_inputs_outputs\": true, ...   \n",
       "4e3f8a03092c6a19  {\"args\": [], \"sanitize_inputs_outputs\": true, ...   \n",
       "f54ece270a615a09  {\"args\": [], \"sanitize_inputs_outputs\": true, ...   \n",
       "9aabf701b66820ce  {\"args\": [], \"sanitize_inputs_outputs\": true, ...   \n",
       "\n",
       "                                                          reference  \n",
       "context.span_id                                                      \n",
       "837116cabe3dd0ca  Найденные отзывы о местах:\\n\\n=== Отзыв на Гор...  \n",
       "f2deae28f161304e  Найденные отзывы о местах:\\n\\n=== Отзыв на Ост...  \n",
       "4e3f8a03092c6a19  Найденные отзывы о местах:\\n\\n=== Отзыв на Why...  \n",
       "f54ece270a615a09  Найденные отзывы о местах:\\n\\n=== Отзыв на Pip...  \n",
       "9aabf701b66820ce  Найденные отзывы о местах:\\n\\n=== Отзыв на Пал...  "
      ]
     },
     "execution_count": 11,
     "metadata": {},
     "output_type": "execute_result"
    }
   ],
   "source": [
    "tool_spans = px.Client().query_spans(\n",
    "    SpanQuery().where(\"name == 'TravelReviewQueryTool'\").select(input=\"input.value\", reference=\"output.value\"),\n",
    "    project_name=\"saiga-nemo-12b-Q4\",\n",
    ")\n",
    "tool_spans.head()"
   ]
  },
  {
   "cell_type": "code",
   "execution_count": 12,
   "id": "d83f565e",
   "metadata": {},
   "outputs": [
    {
     "name": "stdout",
     "output_type": "stream",
     "text": [
      "Called tool: 55 of 68\n",
      "Tool calling rate: 80.88%\n"
     ]
    }
   ],
   "source": [
    "print(f\"Called tool: {tool_spans.shape[0]} of {questions.shape[0]}\")\n",
    "print(f\"Tool calling rate: {tool_spans.shape[0] / questions.shape[0]:.2%}\")"
   ]
  },
  {
   "cell_type": "code",
   "execution_count": 13,
   "id": "7592399f",
   "metadata": {},
   "outputs": [
    {
     "name": "stdout",
     "output_type": "stream",
     "text": [
      "\n",
      "You are comparing a reference text to a question and trying to determine if the reference text\n",
      "contains information relevant to answering the question. Here is the data:\n",
      "    [BEGIN DATA]\n",
      "    ************\n",
      "    [Question]: {input}\n",
      "    ************\n",
      "    [Reference text]: {reference}\n",
      "    ************\n",
      "    [END DATA]\n",
      "Compare the Question above to the Reference text. You must determine whether the Reference text\n",
      "contains information that can answer the Question. Please focus on whether the very specific\n",
      "question can be answered by the information in the Reference text.\n",
      "Your response must be single word, either \"relevant\" or \"unrelated\",\n",
      "and should not contain any text or characters aside from that word.\n",
      "\"unrelated\" means that the reference text does not contain an answer to the Question.\n",
      "\"relevant\" means the reference text contains an answer to the Question.\n"
     ]
    }
   ],
   "source": [
    "print(RAG_RELEVANCY_PROMPT_TEMPLATE)"
   ]
  },
  {
   "cell_type": "code",
   "execution_count": 15,
   "id": "b2cad160",
   "metadata": {},
   "outputs": [
    {
     "name": "stderr",
     "output_type": "stream",
     "text": [
      "/var/folders/hy/9y5wfvks4m55vpklg49y7g0r0000gn/T/ipykernel_25832/1142635796.py:3: DeprecationWarning: `dataframe` argument is deprecated; use `data` instead\n",
      "  eval_results = llm_classify(\n"
     ]
    },
    {
     "data": {
      "application/vnd.jupyter.widget-view+json": {
       "model_id": "5f920942eea04c7e8823d9e1bfdb9bff",
       "version_major": 2,
       "version_minor": 0
      },
      "text/plain": [
       "llm_classify |          | 0/55 (0.0%) | ⏳ 00:00<? | ?it/s"
      ]
     },
     "metadata": {},
     "output_type": "display_data"
    },
    {
     "data": {
      "text/html": [
       "<div>\n",
       "<style scoped>\n",
       "    .dataframe tbody tr th:only-of-type {\n",
       "        vertical-align: middle;\n",
       "    }\n",
       "\n",
       "    .dataframe tbody tr th {\n",
       "        vertical-align: top;\n",
       "    }\n",
       "\n",
       "    .dataframe thead th {\n",
       "        text-align: right;\n",
       "    }\n",
       "</style>\n",
       "<table border=\"1\" class=\"dataframe\">\n",
       "  <thead>\n",
       "    <tr style=\"text-align: right;\">\n",
       "      <th></th>\n",
       "      <th>label</th>\n",
       "      <th>explanation</th>\n",
       "      <th>exceptions</th>\n",
       "      <th>execution_status</th>\n",
       "      <th>execution_seconds</th>\n",
       "      <th>score</th>\n",
       "    </tr>\n",
       "    <tr>\n",
       "      <th>context.span_id</th>\n",
       "      <th></th>\n",
       "      <th></th>\n",
       "      <th></th>\n",
       "      <th></th>\n",
       "      <th></th>\n",
       "      <th></th>\n",
       "    </tr>\n",
       "  </thead>\n",
       "  <tbody>\n",
       "    <tr>\n",
       "      <th>837116cabe3dd0ca</th>\n",
       "      <td>relevant</td>\n",
       "      <td>The question asks for recommendations for good...</td>\n",
       "      <td>[]</td>\n",
       "      <td>COMPLETED</td>\n",
       "      <td>1.851625</td>\n",
       "      <td>1</td>\n",
       "    </tr>\n",
       "    <tr>\n",
       "      <th>f2deae28f161304e</th>\n",
       "      <td>relevant</td>\n",
       "      <td>The question asks for recommendations for good...</td>\n",
       "      <td>[]</td>\n",
       "      <td>COMPLETED</td>\n",
       "      <td>1.830930</td>\n",
       "      <td>1</td>\n",
       "    </tr>\n",
       "    <tr>\n",
       "      <th>4e3f8a03092c6a19</th>\n",
       "      <td>relevant</td>\n",
       "      <td>The question asks for recommended beauty salon...</td>\n",
       "      <td>[]</td>\n",
       "      <td>COMPLETED</td>\n",
       "      <td>1.674702</td>\n",
       "      <td>1</td>\n",
       "    </tr>\n",
       "    <tr>\n",
       "      <th>f54ece270a615a09</th>\n",
       "      <td>relevant</td>\n",
       "      <td>The question asks for recommendations for popu...</td>\n",
       "      <td>[]</td>\n",
       "      <td>COMPLETED</td>\n",
       "      <td>1.977469</td>\n",
       "      <td>1</td>\n",
       "    </tr>\n",
       "    <tr>\n",
       "      <th>9aabf701b66820ce</th>\n",
       "      <td>relevant</td>\n",
       "      <td>The question asks for recommendations for a go...</td>\n",
       "      <td>[]</td>\n",
       "      <td>COMPLETED</td>\n",
       "      <td>2.159290</td>\n",
       "      <td>1</td>\n",
       "    </tr>\n",
       "  </tbody>\n",
       "</table>\n",
       "</div>"
      ],
      "text/plain": [
       "                     label                                        explanation  \\\n",
       "context.span_id                                                                 \n",
       "837116cabe3dd0ca  relevant  The question asks for recommendations for good...   \n",
       "f2deae28f161304e  relevant  The question asks for recommendations for good...   \n",
       "4e3f8a03092c6a19  relevant  The question asks for recommended beauty salon...   \n",
       "f54ece270a615a09  relevant  The question asks for recommendations for popu...   \n",
       "9aabf701b66820ce  relevant  The question asks for recommendations for a go...   \n",
       "\n",
       "                 exceptions execution_status  execution_seconds  score  \n",
       "context.span_id                                                         \n",
       "837116cabe3dd0ca         []        COMPLETED           1.851625      1  \n",
       "f2deae28f161304e         []        COMPLETED           1.830930      1  \n",
       "4e3f8a03092c6a19         []        COMPLETED           1.674702      1  \n",
       "f54ece270a615a09         []        COMPLETED           1.977469      1  \n",
       "9aabf701b66820ce         []        COMPLETED           2.159290      1  "
      ]
     },
     "execution_count": 15,
     "metadata": {},
     "output_type": "execute_result"
    }
   ],
   "source": [
    "eval_model = GeminiModel(model=\"gemini-2.0-flash-lite-001\", project=659002550737)\n",
    "\n",
    "eval_results = llm_classify(\n",
    "    dataframe=tool_spans,\n",
    "    model=eval_model,\n",
    "    template=RAG_RELEVANCY_PROMPT_TEMPLATE,\n",
    "    rails=list(RAG_RELEVANCY_PROMPT_RAILS_MAP.values()),\n",
    "    provide_explanation=True,\n",
    ")\n",
    "eval_results[\"score\"] = eval_results[\"explanation\"].apply(lambda x: 1 if \"relevant\" in x else 0)\n",
    "eval_results.head()"
   ]
  },
  {
   "cell_type": "code",
   "execution_count": 16,
   "id": "d7445471",
   "metadata": {},
   "outputs": [],
   "source": [
    "px.Client().log_evaluations(SpanEvaluations(eval_name=\"TravelReviewQueryTool Relevancy\", dataframe=eval_results))"
   ]
  },
  {
   "cell_type": "code",
   "execution_count": 17,
   "id": "4814afb8",
   "metadata": {},
   "outputs": [
    {
     "data": {
      "text/plain": [
       "[SpanEvaluations(eval_name='TravelReviewQueryTool Relevancy', id=UUID('1a45b327-e3a8-41d3-b327-4f89270016a1'))]"
      ]
     },
     "execution_count": 17,
     "metadata": {},
     "output_type": "execute_result"
    }
   ],
   "source": [
    "px.Client().get_evaluations(project_name=\"saiga-nemo-12b-Q4\")"
   ]
  },
  {
   "cell_type": "code",
   "execution_count": 20,
   "id": "9cfdf6c4",
   "metadata": {},
   "outputs": [
    {
     "name": "stdout",
     "output_type": "stream",
     "text": [
      "Total mean score: 0.9636\n",
      "Total median score: 1.0000\n"
     ]
    },
    {
     "data": {
      "text/plain": [
       "<Axes: xlabel='score'>"
      ]
     },
     "execution_count": 20,
     "metadata": {},
     "output_type": "execute_result"
    },
    {
     "data": {
      "image/png": "[encoded data removed]",
      "text/plain": [
       "<Figure size 640x480 with 1 Axes>"
      ]
     },
     "metadata": {},
     "output_type": "display_data"
    }
   ],
   "source": [
    "print(f\"Total mean score: {eval_results.score.mean():.4f}\")\n",
    "print(f\"Total median score: {eval_results.score.median():.4f}\")\n",
    "\n",
    "eval_results.score.value_counts().plot.bar()"
   ]
  },
  {
   "cell_type": "code",
   "execution_count": 20,
   "id": "4a752741",
   "metadata": {},
   "outputs": [
    {
     "data": {
      "text/html": [
       "<div>\n",
       "<style scoped>\n",
       "    .dataframe tbody tr th:only-of-type {\n",
       "        vertical-align: middle;\n",
       "    }\n",
       "\n",
       "    .dataframe tbody tr th {\n",
       "        vertical-align: top;\n",
       "    }\n",
       "\n",
       "    .dataframe thead th {\n",
       "        text-align: right;\n",
       "    }\n",
       "</style>\n",
       "<table border=\"1\" class=\"dataframe\">\n",
       "  <thead>\n",
       "    <tr style=\"text-align: right;\">\n",
       "      <th></th>\n",
       "      <th>input</th>\n",
       "      <th>output</th>\n",
       "    </tr>\n",
       "    <tr>\n",
       "      <th>context.span_id</th>\n",
       "      <th></th>\n",
       "      <th></th>\n",
       "    </tr>\n",
       "  </thead>\n",
       "  <tbody>\n",
       "    <tr>\n",
       "      <th>f759113e5a377adc</th>\n",
       "      <td>{\"messages\": [{\"role\": \"system\", \"content\": [{...</td>\n",
       "      <td>{\"role\": \"assistant\", \"content\": \"{\\n  \\\"name\\...</td>\n",
       "    </tr>\n",
       "    <tr>\n",
       "      <th>0c97b12113b6697a</th>\n",
       "      <td>{\"messages\": [{\"role\": \"system\", \"content\": [{...</td>\n",
       "      <td>{\"role\": \"assistant\", \"content\": \"{\\n  \\\"name\\...</td>\n",
       "    </tr>\n",
       "    <tr>\n",
       "      <th>658152697f4f1138</th>\n",
       "      <td>{\"messages\": [{\"role\": \"system\", \"content\": [{...</td>\n",
       "      <td>{\"role\": \"assistant\", \"content\": \"{\\n\\\"name\\\":...</td>\n",
       "    </tr>\n",
       "    <tr>\n",
       "      <th>7405ef8dee9896a5</th>\n",
       "      <td>{\"messages\": [{\"role\": \"system\", \"content\": [{...</td>\n",
       "      <td>{\"role\": \"assistant\", \"content\": \"{\\n\\\"name\\\":...</td>\n",
       "    </tr>\n",
       "    <tr>\n",
       "      <th>3191757b13dcfa3d</th>\n",
       "      <td>{\"messages\": [{\"role\": \"system\", \"content\": [{...</td>\n",
       "      <td>{\"role\": \"assistant\", \"content\": \"{\\n  \\\"name\\...</td>\n",
       "    </tr>\n",
       "  </tbody>\n",
       "</table>\n",
       "</div>"
      ],
      "text/plain": [
       "                                                              input  \\\n",
       "context.span_id                                                       \n",
       "f759113e5a377adc  {\"messages\": [{\"role\": \"system\", \"content\": [{...   \n",
       "0c97b12113b6697a  {\"messages\": [{\"role\": \"system\", \"content\": [{...   \n",
       "658152697f4f1138  {\"messages\": [{\"role\": \"system\", \"content\": [{...   \n",
       "7405ef8dee9896a5  {\"messages\": [{\"role\": \"system\", \"content\": [{...   \n",
       "3191757b13dcfa3d  {\"messages\": [{\"role\": \"system\", \"content\": [{...   \n",
       "\n",
       "                                                             output  \n",
       "context.span_id                                                      \n",
       "f759113e5a377adc  {\"role\": \"assistant\", \"content\": \"{\\n  \\\"name\\...  \n",
       "0c97b12113b6697a  {\"role\": \"assistant\", \"content\": \"{\\n  \\\"name\\...  \n",
       "658152697f4f1138  {\"role\": \"assistant\", \"content\": \"{\\n\\\"name\\\":...  \n",
       "7405ef8dee9896a5  {\"role\": \"assistant\", \"content\": \"{\\n\\\"name\\\":...  \n",
       "3191757b13dcfa3d  {\"role\": \"assistant\", \"content\": \"{\\n  \\\"name\\...  "
      ]
     },
     "execution_count": 20,
     "metadata": {},
     "output_type": "execute_result"
    }
   ],
   "source": [
    "tool_spans = px.Client().query_spans(\n",
    "    SpanQuery()\n",
    "    .where(\"span_kind == 'LLM'and status_code == 'OK' and 'final_answer' in llm.output_messages\")\n",
    "    .select(\n",
    "        input=\"input.value\",\n",
    "        output=\"output.value\",\n",
    "    ),\n",
    "    project_name=\"saiga-nemo-12b-Q4\",\n",
    ")\n",
    "tool_spans.head()"
   ]
  },
  {
   "cell_type": "code",
   "execution_count": 85,
   "id": "974e3ccb",
   "metadata": {},
   "outputs": [
    {
     "name": "stdout",
     "output_type": "stream",
     "text": [
      "(55, 3)\n"
     ]
    },
    {
     "data": {
      "text/html": [
       "<div>\n",
       "<style scoped>\n",
       "    .dataframe tbody tr th:only-of-type {\n",
       "        vertical-align: middle;\n",
       "    }\n",
       "\n",
       "    .dataframe tbody tr th {\n",
       "        vertical-align: top;\n",
       "    }\n",
       "\n",
       "    .dataframe thead th {\n",
       "        text-align: right;\n",
       "    }\n",
       "</style>\n",
       "<table border=\"1\" class=\"dataframe\">\n",
       "  <thead>\n",
       "    <tr style=\"text-align: right;\">\n",
       "      <th></th>\n",
       "      <th>input</th>\n",
       "      <th>output</th>\n",
       "      <th>reference</th>\n",
       "    </tr>\n",
       "    <tr>\n",
       "      <th>context.span_id</th>\n",
       "      <th></th>\n",
       "      <th></th>\n",
       "      <th></th>\n",
       "    </tr>\n",
       "  </thead>\n",
       "  <tbody>\n",
       "    <tr>\n",
       "      <th>f759113e5a377adc</th>\n",
       "      <td>{\"messages\": [{\"role\": \"system\", \"content\": [{...</td>\n",
       "      <td>{\"role\": \"assistant\", \"content\": \"{\\n  \\\"name\\...</td>\n",
       "      <td>Observation:\\nНайденные отзывы о местах:\\n\\n==...</td>\n",
       "    </tr>\n",
       "    <tr>\n",
       "      <th>0c97b12113b6697a</th>\n",
       "      <td>{\"messages\": [{\"role\": \"system\", \"content\": [{...</td>\n",
       "      <td>{\"role\": \"assistant\", \"content\": \"{\\n  \\\"name\\...</td>\n",
       "      <td>Observation:\\nНайденные отзывы о местах:\\n\\n==...</td>\n",
       "    </tr>\n",
       "    <tr>\n",
       "      <th>658152697f4f1138</th>\n",
       "      <td>{\"messages\": [{\"role\": \"system\", \"content\": [{...</td>\n",
       "      <td>{\"role\": \"assistant\", \"content\": \"{\\n\\\"name\\\":...</td>\n",
       "      <td>Observation:\\nНайденные отзывы о местах:\\n\\n==...</td>\n",
       "    </tr>\n",
       "    <tr>\n",
       "      <th>7405ef8dee9896a5</th>\n",
       "      <td>{\"messages\": [{\"role\": \"system\", \"content\": [{...</td>\n",
       "      <td>{\"role\": \"assistant\", \"content\": \"{\\n\\\"name\\\":...</td>\n",
       "      <td>Observation:\\nНайденные отзывы о местах:\\n\\n==...</td>\n",
       "    </tr>\n",
       "    <tr>\n",
       "      <th>3191757b13dcfa3d</th>\n",
       "      <td>{\"messages\": [{\"role\": \"system\", \"content\": [{...</td>\n",
       "      <td>{\"role\": \"assistant\", \"content\": \"{\\n  \\\"name\\...</td>\n",
       "      <td>Observation:\\nНайденные отзывы о местах:\\n\\n==...</td>\n",
       "    </tr>\n",
       "  </tbody>\n",
       "</table>\n",
       "</div>"
      ],
      "text/plain": [
       "                                                              input  \\\n",
       "context.span_id                                                       \n",
       "f759113e5a377adc  {\"messages\": [{\"role\": \"system\", \"content\": [{...   \n",
       "0c97b12113b6697a  {\"messages\": [{\"role\": \"system\", \"content\": [{...   \n",
       "658152697f4f1138  {\"messages\": [{\"role\": \"system\", \"content\": [{...   \n",
       "7405ef8dee9896a5  {\"messages\": [{\"role\": \"system\", \"content\": [{...   \n",
       "3191757b13dcfa3d  {\"messages\": [{\"role\": \"system\", \"content\": [{...   \n",
       "\n",
       "                                                             output  \\\n",
       "context.span_id                                                       \n",
       "f759113e5a377adc  {\"role\": \"assistant\", \"content\": \"{\\n  \\\"name\\...   \n",
       "0c97b12113b6697a  {\"role\": \"assistant\", \"content\": \"{\\n  \\\"name\\...   \n",
       "658152697f4f1138  {\"role\": \"assistant\", \"content\": \"{\\n\\\"name\\\":...   \n",
       "7405ef8dee9896a5  {\"role\": \"assistant\", \"content\": \"{\\n\\\"name\\\":...   \n",
       "3191757b13dcfa3d  {\"role\": \"assistant\", \"content\": \"{\\n  \\\"name\\...   \n",
       "\n",
       "                                                          reference  \n",
       "context.span_id                                                      \n",
       "f759113e5a377adc  Observation:\\nНайденные отзывы о местах:\\n\\n==...  \n",
       "0c97b12113b6697a  Observation:\\nНайденные отзывы о местах:\\n\\n==...  \n",
       "658152697f4f1138  Observation:\\nНайденные отзывы о местах:\\n\\n==...  \n",
       "7405ef8dee9896a5  Observation:\\nНайденные отзывы о местах:\\n\\n==...  \n",
       "3191757b13dcfa3d  Observation:\\nНайденные отзывы о местах:\\n\\n==...  "
      ]
     },
     "execution_count": 85,
     "metadata": {},
     "output_type": "execute_result"
    }
   ],
   "source": [
    "tool_spans[\"reference\"] = tool_spans[\"input\"].apply(\n",
    "    lambda x: json.loads(x)[\"messages\"][4][\"content\"][0][\"text\"] if len(json.loads(x)[\"messages\"]) > 4 else None\n",
    ")\n",
    "tool_spans.dropna(inplace=True)\n",
    "\n",
    "print(tool_spans.shape)\n",
    "tool_spans.head()"
   ]
  },
  {
   "cell_type": "code",
   "execution_count": 86,
   "id": "41d4d944",
   "metadata": {},
   "outputs": [
    {
     "name": "stderr",
     "output_type": "stream",
     "text": [
      "/var/folders/hy/9y5wfvks4m55vpklg49y7g0r0000gn/T/ipykernel_25832/3216851784.py:6: DeprecationWarning: `dataframe` argument is deprecated; use `data` instead\n",
      "  hallucination_classifications = llm_classify(\n"
     ]
    },
    {
     "data": {
      "application/vnd.jupyter.widget-view+json": {
       "model_id": "27068ca4570243f8bb31d7f05799af23",
       "version_major": 2,
       "version_minor": 0
      },
      "text/plain": [
       "llm_classify |          | 0/55 (0.0%) | ⏳ 00:00<? | ?it/s"
      ]
     },
     "metadata": {},
     "output_type": "display_data"
    }
   ],
   "source": [
    "hallucination_classifications = llm_classify(\n",
    "    dataframe=tool_spans,\n",
    "    template=HALLUCINATION_PROMPT_TEMPLATE,\n",
    "    model=eval_model,\n",
    "    rails=list(HALLUCINATION_PROMPT_RAILS_MAP.values()),\n",
    "    provide_explanation=True,  # optional to generate explanations for the value produced by the eval LLM\n",
    ")"
   ]
  },
  {
   "cell_type": "code",
   "execution_count": 88,
   "id": "d226abe1",
   "metadata": {},
   "outputs": [
    {
     "data": {
      "text/html": [
       "<div>\n",
       "<style scoped>\n",
       "    .dataframe tbody tr th:only-of-type {\n",
       "        vertical-align: middle;\n",
       "    }\n",
       "\n",
       "    .dataframe tbody tr th {\n",
       "        vertical-align: top;\n",
       "    }\n",
       "\n",
       "    .dataframe thead th {\n",
       "        text-align: right;\n",
       "    }\n",
       "</style>\n",
       "<table border=\"1\" class=\"dataframe\">\n",
       "  <thead>\n",
       "    <tr style=\"text-align: right;\">\n",
       "      <th></th>\n",
       "      <th>label</th>\n",
       "      <th>explanation</th>\n",
       "      <th>exceptions</th>\n",
       "      <th>execution_status</th>\n",
       "      <th>execution_seconds</th>\n",
       "    </tr>\n",
       "    <tr>\n",
       "      <th>context.span_id</th>\n",
       "      <th></th>\n",
       "      <th></th>\n",
       "      <th></th>\n",
       "      <th></th>\n",
       "      <th></th>\n",
       "    </tr>\n",
       "  </thead>\n",
       "  <tbody>\n",
       "    <tr>\n",
       "      <th>f759113e5a377adc</th>\n",
       "      <td>factual</td>\n",
       "      <td>The query asks for restaurant recommendations....</td>\n",
       "      <td>[]</td>\n",
       "      <td>COMPLETED</td>\n",
       "      <td>2.072351</td>\n",
       "    </tr>\n",
       "    <tr>\n",
       "      <th>0c97b12113b6697a</th>\n",
       "      <td>factual</td>\n",
       "      <td>The query asks for cafe recommendations. The t...</td>\n",
       "      <td>[]</td>\n",
       "      <td>COMPLETED</td>\n",
       "      <td>2.156076</td>\n",
       "    </tr>\n",
       "    <tr>\n",
       "      <th>658152697f4f1138</th>\n",
       "      <td>factual</td>\n",
       "      <td>The query asks for beauty salons. The tool cal...</td>\n",
       "      <td>[]</td>\n",
       "      <td>COMPLETED</td>\n",
       "      <td>2.015645</td>\n",
       "    </tr>\n",
       "    <tr>\n",
       "      <th>7405ef8dee9896a5</th>\n",
       "      <td>factual</td>\n",
       "      <td>The query asks for recommendations for bars an...</td>\n",
       "      <td>[]</td>\n",
       "      <td>COMPLETED</td>\n",
       "      <td>2.140397</td>\n",
       "    </tr>\n",
       "    <tr>\n",
       "      <th>3191757b13dcfa3d</th>\n",
       "      <td>factual</td>\n",
       "      <td>The query asks for recommendations for nail sa...</td>\n",
       "      <td>[]</td>\n",
       "      <td>COMPLETED</td>\n",
       "      <td>2.292303</td>\n",
       "    </tr>\n",
       "  </tbody>\n",
       "</table>\n",
       "</div>"
      ],
      "text/plain": [
       "                    label                                        explanation  \\\n",
       "context.span_id                                                                \n",
       "f759113e5a377adc  factual  The query asks for restaurant recommendations....   \n",
       "0c97b12113b6697a  factual  The query asks for cafe recommendations. The t...   \n",
       "658152697f4f1138  factual  The query asks for beauty salons. The tool cal...   \n",
       "7405ef8dee9896a5  factual  The query asks for recommendations for bars an...   \n",
       "3191757b13dcfa3d  factual  The query asks for recommendations for nail sa...   \n",
       "\n",
       "                 exceptions execution_status  execution_seconds  \n",
       "context.span_id                                                  \n",
       "f759113e5a377adc         []        COMPLETED           2.072351  \n",
       "0c97b12113b6697a         []        COMPLETED           2.156076  \n",
       "658152697f4f1138         []        COMPLETED           2.015645  \n",
       "7405ef8dee9896a5         []        COMPLETED           2.140397  \n",
       "3191757b13dcfa3d         []        COMPLETED           2.292303  "
      ]
     },
     "execution_count": 88,
     "metadata": {},
     "output_type": "execute_result"
    }
   ],
   "source": [
    "px.Client().log_evaluations(\n",
    "    SpanEvaluations(eval_name=\"TravelReviewQueryTool Hallucinations\", dataframe=hallucination_classifications)\n",
    ")\n",
    "hallucination_classifications.head()"
   ]
  },
  {
   "cell_type": "code",
   "execution_count": 89,
   "id": "b1af697e",
   "metadata": {},
   "outputs": [
    {
     "data": {
      "text/plain": [
       "<Axes: xlabel='label'>"
      ]
     },
     "execution_count": 89,
     "metadata": {},
     "output_type": "execute_result"
    },
    {
     "data": {
      "image/png": "[encoded data removed]",
      "text/plain": [
       "<Figure size 640x480 with 1 Axes>"
      ]
     },
     "metadata": {},
     "output_type": "display_data"
    }
   ],
   "source": [
    "hallucination_classifications.label.value_counts().plot.bar()"
   ]
  },
  {
   "cell_type": "code",
   "execution_count": 96,
   "id": "64e1cccd",
   "metadata": {},
   "outputs": [
    {
     "data": {
      "text/html": [
       "<div>\n",
       "<style scoped>\n",
       "    .dataframe tbody tr th:only-of-type {\n",
       "        vertical-align: middle;\n",
       "    }\n",
       "\n",
       "    .dataframe tbody tr th {\n",
       "        vertical-align: top;\n",
       "    }\n",
       "\n",
       "    .dataframe thead th {\n",
       "        text-align: right;\n",
       "    }\n",
       "</style>\n",
       "<table border=\"1\" class=\"dataframe\">\n",
       "  <thead>\n",
       "    <tr style=\"text-align: right;\">\n",
       "      <th></th>\n",
       "      <th>label</th>\n",
       "      <th>explanation</th>\n",
       "      <th>exceptions</th>\n",
       "      <th>execution_status</th>\n",
       "      <th>execution_seconds</th>\n",
       "    </tr>\n",
       "    <tr>\n",
       "      <th>context.span_id</th>\n",
       "      <th></th>\n",
       "      <th></th>\n",
       "      <th></th>\n",
       "      <th></th>\n",
       "      <th></th>\n",
       "    </tr>\n",
       "  </thead>\n",
       "  <tbody>\n",
       "    <tr>\n",
       "      <th>2b963c689aa6eb46</th>\n",
       "      <td>hallucinated</td>\n",
       "      <td>The query asks for establishments at the addre...</td>\n",
       "      <td>[]</td>\n",
       "      <td>COMPLETED</td>\n",
       "      <td>1.244691</td>\n",
       "    </tr>\n",
       "    <tr>\n",
       "      <th>41528e60aa4f6f0f</th>\n",
       "      <td>hallucinated</td>\n",
       "      <td>The query asks for establishments at the addre...</td>\n",
       "      <td>[]</td>\n",
       "      <td>COMPLETED</td>\n",
       "      <td>1.125276</td>\n",
       "    </tr>\n",
       "    <tr>\n",
       "      <th>3ebdd7dd24e08fa9</th>\n",
       "      <td>hallucinated</td>\n",
       "      <td>The query asks for places where \"huge gratitud...</td>\n",
       "      <td>[]</td>\n",
       "      <td>COMPLETED</td>\n",
       "      <td>1.106687</td>\n",
       "    </tr>\n",
       "  </tbody>\n",
       "</table>\n",
       "</div>"
      ],
      "text/plain": [
       "                         label  \\\n",
       "context.span_id                  \n",
       "2b963c689aa6eb46  hallucinated   \n",
       "41528e60aa4f6f0f  hallucinated   \n",
       "3ebdd7dd24e08fa9  hallucinated   \n",
       "\n",
       "                                                        explanation  \\\n",
       "context.span_id                                                       \n",
       "2b963c689aa6eb46  The query asks for establishments at the addre...   \n",
       "41528e60aa4f6f0f  The query asks for establishments at the addre...   \n",
       "3ebdd7dd24e08fa9  The query asks for places where \"huge gratitud...   \n",
       "\n",
       "                 exceptions execution_status  execution_seconds  \n",
       "context.span_id                                                  \n",
       "2b963c689aa6eb46         []        COMPLETED           1.244691  \n",
       "41528e60aa4f6f0f         []        COMPLETED           1.125276  \n",
       "3ebdd7dd24e08fa9         []        COMPLETED           1.106687  "
      ]
     },
     "execution_count": 96,
     "metadata": {},
     "output_type": "execute_result"
    }
   ],
   "source": [
    "hallucination_classifications[hallucination_classifications[\"label\"] == \"hallucinated\"]"
   ]
  },
  {
   "cell_type": "markdown",
   "id": "5abab740",
   "metadata": {},
   "source": [
    "## Single evaluation function"
   ]
  },
  {
   "cell_type": "code",
   "execution_count": null,
   "id": "e4df844a",
   "metadata": {},
   "outputs": [
    {
     "name": "stderr",
     "output_type": "stream",
     "text": [
      "Overriding of current TracerProvider is not allowed\n",
      "Attempting to instrument while already instrumented\n",
      "Attempting to instrument while already instrumented\n",
      "\u001b[32m2025-05-01 20:30:11.056\u001b[0m | \u001b[1mINFO    \u001b[0m | \u001b[36mtravel_agent.retrieval.smolagents.tool\u001b[0m:\u001b[36m__init__\u001b[0m:\u001b[36m82\u001b[0m - \u001b[1mUsing device: mps\u001b[0m\n"
     ]
    },
    {
     "name": "stdout",
     "output_type": "stream",
     "text": [
      "🔭 OpenTelemetry Tracing Details 🔭\n",
      "|  Phoenix Project: travel-agent-eval-hf.co/IlyaGusev/saiga_yandexgpt_8b_gguf:Q4_0-2025-05-01-19-58-36\n",
      "|  Span Processor: SimpleSpanProcessor\n",
      "|  Collector Endpoint: localhost:4317\n",
      "|  Transport: gRPC\n",
      "|  Transport Headers: {'user-agent': '****'}\n",
      "|  \n",
      "|  Using a default SpanProcessor. `add_span_processor` will overwrite this default.\n",
      "|  \n",
      "|  ⚠️ WARNING: It is strongly advised to use a BatchSpanProcessor in production environments.\n",
      "|  \n",
      "|  `register` has set this TracerProvider as the global OpenTelemetry default.\n",
      "|  To disable this behavior, call `register` with `set_global_tracer_provider=False`.\n",
      "\n"
     ]
    },
    {
     "data": {
      "application/vnd.jupyter.widget-view+json": {
       "model_id": "9f9445eb6cbd4a31afb8bb13f6b5abe1",
       "version_major": 2,
       "version_minor": 0
      },
      "text/plain": [
       "llm_classify |          | 0/49 (0.0%) | ⏳ 00:00<? | ?it/s"
      ]
     },
     "metadata": {},
     "output_type": "display_data"
    },
    {
     "name": "stdout",
     "output_type": "stream",
     "text": [
      "Total mean score: 0.7959\n",
      "Total median score: 1.0000\n",
      "count    49.000000\n",
      "mean      0.795918\n",
      "std       0.407206\n",
      "min       0.000000\n",
      "25%       1.000000\n",
      "50%       1.000000\n",
      "75%       1.000000\n",
      "max       1.000000\n",
      "Name: score, dtype: float64\n"
     ]
    },
    {
     "data": {
      "text/plain": [
       "<Axes: xlabel='score'>"
      ]
     },
     "execution_count": 34,
     "metadata": {},
     "output_type": "execute_result"
    },
    {
     "data": {
      "image/png": "[encoded data removed]",
      "text/plain": [
       "<Figure size 640x480 with 1 Axes>"
      ]
     },
     "metadata": {},
     "output_type": "display_data"
    }
   ],
   "source": [
    "questions = pd.read_csv(\"../data/questions/rag/moskva.csv\")\n",
    "llm_model_name = \"hf.co/IlyaGusev/saiga_yandexgpt_8b_gguf:Q4_0\"\n",
    "# project_name = f\"travel-agent-eval-{llm_model_name}\"\n",
    "\n",
    "tracer_provider = register(project_name=project_name, auto_instrument=True)\n",
    "SmolagentsInstrumentor().instrument(tracer_provider=tracer_provider)\n",
    "\n",
    "agent = ToolCallingAgent(\n",
    "    tools=[TravelReviewQueryTool()],\n",
    "    model=LiteLLMModel(\n",
    "        model_id=f\"ollama_chat/{llm_model_name}\",\n",
    "        api_base=os.getenv(\"OLLAMA_URL\", \"http://127.0.0.1:11434\"),\n",
    "        num_ctx=8192,\n",
    "    ),\n",
    "    max_steps=10,\n",
    "    verbosity_level=0,  # only errors\n",
    ")\n",
    "\n",
    "for q in tqdm(questions[\"question\"].tolist()):\n",
    "    agent.run(q)\n",
    "\n",
    "tool_spans = (\n",
    "    px.Client()\n",
    "    .query_spans(\n",
    "        SpanQuery().where(\"name == 'TravelReviewQueryTool'\").select(input=\"input.value\", reference=\"output.value\"),\n",
    "        project_name=project_name,\n",
    "    )\n",
    "    .dropna()\n",
    ")\n",
    "tool_spans[\"input\"] = tool_spans[\"input\"].apply(lambda x: json.loads(x).get(\"kwargs\", {}).get(\"query\", \"\"))\n",
    "\n",
    "eval_results = llm_classify(\n",
    "    data=tool_spans,\n",
    "    model=GeminiModel(model=\"gemini-2.0-flash-lite-001\", project=659002550737),\n",
    "    template=RAG_RELEVANCY_PROMPT_TEMPLATE,\n",
    "    rails=[\"relevant\", \"unrelated\"],\n",
    "    concurrency=10,\n",
    "    provide_explanation=True,\n",
    ")\n",
    "eval_results[\"score\"] = eval_results[\"explanation\"].apply(lambda x: 1 if \"relevant\" in x else 0)\n",
    "\n",
    "px.Client().log_evaluations(SpanEvaluations(eval_name=\"TravelReviewQueryTool Relevancy\", dataframe=eval_results))\n",
    "\n",
    "print(f\"Total mean score: {eval_results.score.mean():.4f}\")\n",
    "print(f\"Total median score: {eval_results.score.median():.4f}\")\n",
    "\n",
    "print(eval_results.score.describe())\n",
    "\n",
    "eval_results.score.value_counts().plot.bar()"
   ]
  },
  {
   "cell_type": "code",
   "execution_count": null,
   "id": "7805a003",
   "metadata": {},
   "outputs": [
    {
     "name": "stderr",
     "output_type": "stream",
     "text": [
      "/Users/damoiseev/personal/travel-agent/.venv/lib/python3.13/site-packages/phoenix/utilities/client.py:60: UserWarning: The Phoenix server (8.27.1) and client (8.31.0) versions are mismatched and may have compatibility issues.\n",
      "  warnings.warn(\n"
     ]
    },
    {
     "name": "stdout",
     "output_type": "stream",
     "text": [
      "Total mean score: 0.9333\n",
      "Total median score: 1.0000\n",
      "count    15.000000\n",
      "mean      0.933333\n",
      "std       0.258199\n",
      "min       0.000000\n",
      "25%       1.000000\n",
      "50%       1.000000\n",
      "75%       1.000000\n",
      "max       1.000000\n",
      "Name: score, dtype: float64\n"
     ]
    },
    {
     "data": {
      "text/plain": [
       "<Axes: xlabel='score'>"
      ]
     },
     "execution_count": 1,
     "metadata": {},
     "output_type": "execute_result"
    },
    {
     "data": {
      "image/png": "[encoded data removed]",
      "text/plain": [
       "<Figure size 640x480 with 1 Axes>"
      ]
     },
     "metadata": {},
     "output_type": "display_data"
    }
   ],
   "source": [
    "questions = pd.read_csv(\"../data/questions/rag/moskva.csv\")\n",
    "llm_model_name = \"meta-llama/Llama-3.3-70B-Instruct\"\n",
    "embed_model_name = \"intfloat/multilingual-e5-base\"\n",
    "collection_name = \"moskva_intfloat_multilingual_e5_base\"\n",
    "project_name = f\"travel-agent-eval-{llm_model_name}\"\n",
    "\n",
    "tracer_provider = register(project_name=project_name, auto_instrument=True)\n",
    "SmolagentsInstrumentor().instrument(tracer_provider=tracer_provider)\n",
    "\n",
    "llm = InferenceClientModel(model_id=llm_model_name)\n",
    "\n",
    "assert llm([{\"role\": \"user\", \"content\": [{\"text\": \"Алло, это Кизару у телефона?\", \"type\": \"text\"}]}]).content\n",
    "\n",
    "\n",
    "agent = ToolCallingAgent(\n",
    "    tools=[TravelReviewQueryTool()],\n",
    "    model=llm,\n",
    "    max_steps=10,\n",
    "    verbosity_level=0,  # only errors\n",
    ")\n",
    "\n",
    "for q in tqdm(questions[\"question\"].tolist()):\n",
    "    agent.run(q)\n",
    "\n",
    "tool_spans = (\n",
    "    px.Client()\n",
    "    .query_spans(\n",
    "        SpanQuery().where(\"name == 'TravelReviewQueryTool'\").select(input=\"input.value\", reference=\"output.value\"),\n",
    "        project_name=project_name,\n",
    "    )\n",
    "    .dropna()\n",
    ")\n",
    "tool_spans[\"input\"] = tool_spans[\"input\"].apply(lambda x: json.loads(x).get(\"kwargs\", {}).get(\"query\", \"\"))\n",
    "\n",
    "assert len(tool_spans) > 0\n",
    "\n",
    "eval_results = llm_classify(\n",
    "    data=tool_spans,\n",
    "    model=GeminiModel(model=\"gemini-2.0-flash-lite-001\", project=659002550737),\n",
    "    template=RAG_RELEVANCY_PROMPT_TEMPLATE,\n",
    "    rails=[\"relevant\", \"unrelated\"],\n",
    "    concurrency=10,\n",
    "    provide_explanation=True,\n",
    ")\n",
    "eval_results[\"score\"] = eval_results[\"explanation\"].apply(lambda x: 1 if \"relevant\" in x else 0)\n",
    "\n",
    "px.Client().log_evaluations(SpanEvaluations(eval_name=\"TravelReviewQueryTool Relevancy\", dataframe=eval_results))\n",
    "\n",
    "print(f\"Total mean score: {eval_results.score.mean():.4f}\")\n",
    "print(f\"Total median score: {eval_results.score.median():.4f}\")\n",
    "\n",
    "print(eval_results.score.describe())\n",
    "\n",
    "eval_results.score.value_counts().plot.bar()\n",
    "\n",
    "# Результат частичный, тк не хватило квоты на полный прогон"
   ]
  },
  {
   "cell_type": "markdown",
   "id": "ca6f4167",
   "metadata": {},
   "source": [
    "## Evaluate deepseek"
   ]
  },
  {
   "cell_type": "code",
   "execution_count": 12,
   "id": "c73bada4",
   "metadata": {},
   "outputs": [
    {
     "name": "stderr",
     "output_type": "stream",
     "text": [
      "\u001b[32m2025-05-19 19:52:28.805\u001b[0m | \u001b[34m\u001b[1mDEBUG   \u001b[0m | \u001b[36mtravel_agent.qdrant.reviews_searcher\u001b[0m:\u001b[36m__init__\u001b[0m:\u001b[36m32\u001b[0m - \u001b[34m\u001b[1mtorch will use device: mps\u001b[0m\n",
      "\u001b[32m2025-05-19 19:52:28.806\u001b[0m | \u001b[1mINFO    \u001b[0m | \u001b[36mtravel_agent.qdrant.reviews_searcher\u001b[0m:\u001b[36m__init__\u001b[0m:\u001b[36m34\u001b[0m - \u001b[1mloading model sergeyzh/BERTA\u001b[0m\n",
      "Default prompt name is set to 'Classification'. This prompt will be applied to all `encode()` calls, except if `encode()` is called with `prompt` or `prompt_name` parameters.\n",
      "\u001b[32m2025-05-19 19:52:34.545\u001b[0m | \u001b[1mINFO    \u001b[0m | \u001b[36mtravel_agent.qdrant.reviews_searcher\u001b[0m:\u001b[36m__init__\u001b[0m:\u001b[36m37\u001b[0m - \u001b[1mloading model intfloat/multilingual-e5-small\u001b[0m\n",
      "\u001b[32m2025-05-19 19:52:41.153\u001b[0m | \u001b[32m\u001b[1mSUCCESS \u001b[0m | \u001b[36mtravel_agent.qdrant.reviews_searcher\u001b[0m:\u001b[36m__init__\u001b[0m:\u001b[36m51\u001b[0m - \u001b[32m\u001b[1mQdrantReviewsSearcher is ready\u001b[0m\n"
     ]
    }
   ],
   "source": [
    "questions = pd.read_csv(\"../data/questions/rag/moskva.csv\")\n",
    "\n",
    "agent = ToolCallingAgent(\n",
    "    tools=[TravelReviewQueryTool()],\n",
    "    model=LiteLLMModel(model_id=\"deepseek/deepseek-chat\"),\n",
    "    max_steps=4,\n",
    "    verbosity_level=0,  # only errors\n",
    ")"
   ]
  },
  {
   "cell_type": "code",
   "execution_count": 14,
   "id": "852a9bfc",
   "metadata": {},
   "outputs": [
    {
     "name": "stderr",
     "output_type": "stream",
     "text": [
      "  0%|          | 0/52 [00:00<?, ?it/s]\u001b[32m2025-05-19 20:41:39.102\u001b[0m | \u001b[34m\u001b[1mDEBUG   \u001b[0m | \u001b[36mtravel_agent.retrieval.smolagents.tool\u001b[0m:\u001b[36mforward\u001b[0m:\u001b[36m94\u001b[0m - \u001b[34m\u001b[1mretrieved 10 points in 45.50932312011719 sec\u001b[0m\n",
      "  2%|▏         | 1/52 [01:13<1:02:29, 73.53s/it]\u001b[32m2025-05-19 20:42:52.641\u001b[0m | \u001b[34m\u001b[1mDEBUG   \u001b[0m | \u001b[36mtravel_agent.retrieval.smolagents.tool\u001b[0m:\u001b[36mforward\u001b[0m:\u001b[36m94\u001b[0m - \u001b[34m\u001b[1mretrieved 10 points in 45.628251791000366 sec\u001b[0m\n",
      "  4%|▍         | 2/52 [02:28<1:02:05, 74.51s/it]\u001b[32m2025-05-19 20:44:09.587\u001b[0m | \u001b[34m\u001b[1mDEBUG   \u001b[0m | \u001b[36mtravel_agent.retrieval.smolagents.tool\u001b[0m:\u001b[36mforward\u001b[0m:\u001b[36m94\u001b[0m - \u001b[34m\u001b[1mretrieved 10 points in 45.871811866760254 sec\u001b[0m\n",
      "  6%|▌         | 3/52 [03:39<59:33, 72.94s/it]  \u001b[32m2025-05-19 20:44:49.087\u001b[0m | \u001b[34m\u001b[1mDEBUG   \u001b[0m | \u001b[36mtravel_agent.retrieval.smolagents.tool\u001b[0m:\u001b[36mforward\u001b[0m:\u001b[36m94\u001b[0m - \u001b[34m\u001b[1mretrieved 10 points in 16.103760242462158 sec\u001b[0m\n",
      "  8%|▊         | 4/52 [04:23<48:58, 61.22s/it]\u001b[32m2025-05-19 20:46:03.664\u001b[0m | \u001b[34m\u001b[1mDEBUG   \u001b[0m | \u001b[36mtravel_agent.retrieval.smolagents.tool\u001b[0m:\u001b[36mforward\u001b[0m:\u001b[36m94\u001b[0m - \u001b[34m\u001b[1mretrieved 10 points in 44.55130219459534 sec\u001b[0m\n",
      " 10%|▉         | 5/52 [05:38<51:57, 66.32s/it]\u001b[32m2025-05-19 20:47:17.594\u001b[0m | \u001b[34m\u001b[1mDEBUG   \u001b[0m | \u001b[36mtravel_agent.retrieval.smolagents.tool\u001b[0m:\u001b[36mforward\u001b[0m:\u001b[36m94\u001b[0m - \u001b[34m\u001b[1mretrieved 10 points in 45.26931571960449 sec\u001b[0m\n",
      " 12%|█▏        | 6/52 [06:47<51:31, 67.21s/it]\u001b[32m2025-05-19 20:47:57.332\u001b[0m | \u001b[34m\u001b[1mDEBUG   \u001b[0m | \u001b[36mtravel_agent.retrieval.smolagents.tool\u001b[0m:\u001b[36mforward\u001b[0m:\u001b[36m94\u001b[0m - \u001b[34m\u001b[1mretrieved 10 points in 16.35609722137451 sec\u001b[0m\n",
      " 13%|█▎        | 7/52 [07:33<45:20, 60.47s/it]\u001b[32m2025-05-19 20:49:11.159\u001b[0m | \u001b[34m\u001b[1mDEBUG   \u001b[0m | \u001b[36mtravel_agent.retrieval.smolagents.tool\u001b[0m:\u001b[36mforward\u001b[0m:\u001b[36m94\u001b[0m - \u001b[34m\u001b[1mretrieved 10 points in 44.543221950531006 sec\u001b[0m\n",
      " 15%|█▌        | 8/52 [08:42<46:11, 62.99s/it]\u001b[32m2025-05-19 20:50:21.202\u001b[0m | \u001b[34m\u001b[1mDEBUG   \u001b[0m | \u001b[36mtravel_agent.retrieval.smolagents.tool\u001b[0m:\u001b[36mforward\u001b[0m:\u001b[36m94\u001b[0m - \u001b[34m\u001b[1mretrieved 10 points in 45.560643911361694 sec\u001b[0m\n",
      " 17%|█▋        | 9/52 [09:47<45:31, 63.53s/it]\u001b[32m2025-05-19 20:51:26.849\u001b[0m | \u001b[34m\u001b[1mDEBUG   \u001b[0m | \u001b[36mtravel_agent.retrieval.smolagents.tool\u001b[0m:\u001b[36mforward\u001b[0m:\u001b[36m94\u001b[0m - \u001b[34m\u001b[1mretrieved 10 points in 45.063698291778564 sec\u001b[0m\n",
      " 19%|█▉        | 10/52 [11:05<47:37, 68.04s/it]\u001b[32m2025-05-19 20:52:44.933\u001b[0m | \u001b[34m\u001b[1mDEBUG   \u001b[0m | \u001b[36mtravel_agent.retrieval.smolagents.tool\u001b[0m:\u001b[36mforward\u001b[0m:\u001b[36m94\u001b[0m - \u001b[34m\u001b[1mretrieved 10 points in 46.08756184577942 sec\u001b[0m\n",
      " 21%|██        | 11/52 [12:17<47:28, 69.47s/it]\u001b[32m2025-05-19 20:54:11.532\u001b[0m | \u001b[34m\u001b[1mDEBUG   \u001b[0m | \u001b[36mtravel_agent.retrieval.smolagents.tool\u001b[0m:\u001b[36mforward\u001b[0m:\u001b[36m94\u001b[0m - \u001b[34m\u001b[1mretrieved 10 points in 59.72134590148926 sec\u001b[0m\n",
      " 23%|██▎       | 12/52 [13:40<48:59, 73.49s/it]\u001b[32m2025-05-19 20:55:33.536\u001b[0m | \u001b[34m\u001b[1mDEBUG   \u001b[0m | \u001b[36mtravel_agent.retrieval.smolagents.tool\u001b[0m:\u001b[36mforward\u001b[0m:\u001b[36m94\u001b[0m - \u001b[34m\u001b[1mretrieved 10 points in 59.70223426818848 sec\u001b[0m\n",
      " 25%|██▌       | 13/52 [15:04<49:48, 76.63s/it]\u001b[32m2025-05-19 20:56:45.206\u001b[0m | \u001b[34m\u001b[1mDEBUG   \u001b[0m | \u001b[36mtravel_agent.retrieval.smolagents.tool\u001b[0m:\u001b[36mforward\u001b[0m:\u001b[36m94\u001b[0m - \u001b[34m\u001b[1mretrieved 10 points in 45.76699686050415 sec\u001b[0m\n",
      " 27%|██▋       | 14/52 [16:14<47:11, 74.50s/it]\u001b[32m2025-05-19 20:58:19.204\u001b[0m | \u001b[34m\u001b[1mDEBUG   \u001b[0m | \u001b[36mtravel_agent.retrieval.smolagents.tool\u001b[0m:\u001b[36mforward\u001b[0m:\u001b[36m94\u001b[0m - \u001b[34m\u001b[1mretrieved 10 points in 71.3520998954773 sec\u001b[0m\n",
      "WARNING: All log messages before absl::InitializeLog() is called are written to STDERR\n",
      "I0000 00:00:1747677499.207026 5380978 chttp2_transport.cc:1201] ipv6:%5B::1%5D:4317: Got goaway [11] err=UNAVAILABLE:GOAWAY received; Error code: 11; Debug Text: ping_timeout {grpc_status:14, http2_error:11, created_time:\"2025-05-19T20:58:19.206871+03:00\"}\n",
      " 29%|██▉       | 15/52 [17:49<49:52, 80.88s/it]\u001b[32m2025-05-19 20:58:50.401\u001b[0m | \u001b[34m\u001b[1mDEBUG   \u001b[0m | \u001b[36mtravel_agent.retrieval.smolagents.tool\u001b[0m:\u001b[36mforward\u001b[0m:\u001b[36m94\u001b[0m - \u001b[34m\u001b[1mretrieved 10 points in 0.46723389625549316 sec\u001b[0m\n",
      " 31%|███       | 16/52 [18:20<39:26, 65.75s/it]\u001b[32m2025-05-19 20:59:16.310\u001b[0m | \u001b[34m\u001b[1mDEBUG   \u001b[0m | \u001b[36mtravel_agent.retrieval.smolagents.tool\u001b[0m:\u001b[36mforward\u001b[0m:\u001b[36m94\u001b[0m - \u001b[34m\u001b[1mretrieved 1 points in 0.4416661262512207 sec\u001b[0m\n",
      " 33%|███▎      | 17/52 [18:37<29:50, 51.15s/it]\u001b[32m2025-05-19 20:59:31.957\u001b[0m | \u001b[34m\u001b[1mDEBUG   \u001b[0m | \u001b[36mtravel_agent.retrieval.smolagents.tool\u001b[0m:\u001b[36mforward\u001b[0m:\u001b[36m94\u001b[0m - \u001b[34m\u001b[1mretrieved 2 points in 0.6535000801086426 sec\u001b[0m\n",
      " 35%|███▍      | 18/52 [18:53<23:03, 40.70s/it]\u001b[32m2025-05-19 20:59:48.452\u001b[0m | \u001b[34m\u001b[1mDEBUG   \u001b[0m | \u001b[36mtravel_agent.retrieval.smolagents.tool\u001b[0m:\u001b[36mforward\u001b[0m:\u001b[36m94\u001b[0m - \u001b[34m\u001b[1mretrieved 1 points in 0.5648448467254639 sec\u001b[0m\n",
      " 37%|███▋      | 19/52 [19:07<17:53, 32.54s/it]\u001b[32m2025-05-19 21:01:26.389\u001b[0m | \u001b[34m\u001b[1mDEBUG   \u001b[0m | \u001b[36mtravel_agent.retrieval.smolagents.tool\u001b[0m:\u001b[36mforward\u001b[0m:\u001b[36m94\u001b[0m - \u001b[34m\u001b[1mretrieved 10 points in 86.0038332939148 sec\u001b[0m\n",
      "I0000 00:00:1747677686.391106 5380978 chttp2_transport.cc:1201] ipv6:%5B::1%5D:4317: Got goaway [11] err=UNAVAILABLE:GOAWAY received; Error code: 11; Debug Text: ping_timeout {grpc_status:14, http2_error:11, created_time:\"2025-05-19T21:01:26.39109+03:00\"}\n",
      " 38%|███▊      | 20/52 [21:14<32:33, 61.04s/it]\u001b[32m2025-05-19 21:03:15.758\u001b[0m | \u001b[34m\u001b[1mDEBUG   \u001b[0m | \u001b[36mtravel_agent.retrieval.smolagents.tool\u001b[0m:\u001b[36mforward\u001b[0m:\u001b[36m94\u001b[0m - \u001b[34m\u001b[1mretrieved 10 points in 67.27071690559387 sec\u001b[0m\n",
      "I0000 00:00:1747677795.759524 5380978 chttp2_transport.cc:1201] ipv6:%5B::1%5D:4317: Got goaway [11] err=UNAVAILABLE:GOAWAY received; Error code: 11; Debug Text: ping_timeout {created_time:\"2025-05-19T21:03:15.759513+03:00\", http2_error:11, grpc_status:14}\n",
      " 40%|████      | 21/52 [22:47<36:26, 70.54s/it]\u001b[32m2025-05-19 21:04:40.616\u001b[0m | \u001b[34m\u001b[1mDEBUG   \u001b[0m | \u001b[36mtravel_agent.retrieval.smolagents.tool\u001b[0m:\u001b[36mforward\u001b[0m:\u001b[36m94\u001b[0m - \u001b[34m\u001b[1mretrieved 10 points in 59.65891194343567 sec\u001b[0m\n",
      " 42%|████▏     | 22/52 [24:32<40:29, 80.98s/it]\u001b[32m2025-05-19 21:06:12.607\u001b[0m | \u001b[34m\u001b[1mDEBUG   \u001b[0m | \u001b[36mtravel_agent.retrieval.smolagents.tool\u001b[0m:\u001b[36mforward\u001b[0m:\u001b[36m94\u001b[0m - \u001b[34m\u001b[1mretrieved 10 points in 45.66111397743225 sec\u001b[0m\n",
      " 44%|████▍     | 23/52 [25:43<37:37, 77.83s/it]\u001b[32m2025-05-19 21:06:52.136\u001b[0m | \u001b[34m\u001b[1mDEBUG   \u001b[0m | \u001b[36mtravel_agent.retrieval.smolagents.tool\u001b[0m:\u001b[36mforward\u001b[0m:\u001b[36m94\u001b[0m - \u001b[34m\u001b[1mretrieved 10 points in 15.869940042495728 sec\u001b[0m\n",
      " 46%|████▌     | 24/52 [26:33<32:25, 69.48s/it]\u001b[32m2025-05-19 21:08:53.733\u001b[0m | \u001b[34m\u001b[1mDEBUG   \u001b[0m | \u001b[36mtravel_agent.retrieval.smolagents.tool\u001b[0m:\u001b[36mforward\u001b[0m:\u001b[36m94\u001b[0m - \u001b[34m\u001b[1mretrieved 10 points in 86.26357197761536 sec\u001b[0m\n",
      "I0000 00:00:1747678133.735720 5380978 chttp2_transport.cc:1201] ipv6:%5B::1%5D:4317: Got goaway [11] err=UNAVAILABLE:GOAWAY received; Error code: 11; Debug Text: ping_timeout {grpc_status:14, http2_error:11, created_time:\"2025-05-19T21:08:53.735699+03:00\"}\n",
      " 48%|████▊     | 25/52 [28:21<36:28, 81.05s/it]\u001b[32m2025-05-19 21:10:22.261\u001b[0m | \u001b[34m\u001b[1mDEBUG   \u001b[0m | \u001b[36mtravel_agent.retrieval.smolagents.tool\u001b[0m:\u001b[36mforward\u001b[0m:\u001b[36m94\u001b[0m - \u001b[34m\u001b[1mretrieved 10 points in 67.27131414413452 sec\u001b[0m\n",
      "I0000 00:00:1747678222.262618 5380978 chttp2_transport.cc:1201] ipv6:%5B::1%5D:4317: Got goaway [11] err=UNAVAILABLE:GOAWAY received; Error code: 11; Debug Text: ping_timeout {grpc_status:14, http2_error:11, created_time:\"2025-05-19T21:10:22.262611+03:00\"}\n",
      " 50%|█████     | 26/52 [29:54<36:39, 84.59s/it]\u001b[32m2025-05-19 21:11:48.905\u001b[0m | \u001b[34m\u001b[1mDEBUG   \u001b[0m | \u001b[36mtravel_agent.retrieval.smolagents.tool\u001b[0m:\u001b[36mforward\u001b[0m:\u001b[36m94\u001b[0m - \u001b[34m\u001b[1mretrieved 10 points in 59.80333375930786 sec\u001b[0m\n",
      " 52%|█████▏    | 27/52 [31:21<35:36, 85.47s/it]\u001b[32m2025-05-19 21:12:59.644\u001b[0m | \u001b[34m\u001b[1mDEBUG   \u001b[0m | \u001b[36mtravel_agent.retrieval.smolagents.tool\u001b[0m:\u001b[36mforward\u001b[0m:\u001b[36m94\u001b[0m - \u001b[34m\u001b[1mretrieved 10 points in 45.34520411491394 sec\u001b[0m\n",
      " 54%|█████▍    | 28/52 [32:31<32:18, 80.79s/it]\u001b[32m2025-05-19 21:13:42.762\u001b[0m | \u001b[34m\u001b[1mDEBUG   \u001b[0m | \u001b[36mtravel_agent.retrieval.smolagents.tool\u001b[0m:\u001b[36mforward\u001b[0m:\u001b[36m94\u001b[0m - \u001b[34m\u001b[1mretrieved 10 points in 15.867724895477295 sec\u001b[0m\n",
      " 56%|█████▌    | 29/52 [33:08<25:55, 67.64s/it]\u001b[32m2025-05-19 21:15:27.931\u001b[0m | \u001b[34m\u001b[1mDEBUG   \u001b[0m | \u001b[36mtravel_agent.retrieval.smolagents.tool\u001b[0m:\u001b[36mforward\u001b[0m:\u001b[36m94\u001b[0m - \u001b[34m\u001b[1mretrieved 10 points in 86.3226227760315 sec\u001b[0m\n",
      "I0000 00:00:1747678527.934454 5380978 chttp2_transport.cc:1201] ipv6:%5B::1%5D:4317: Got goaway [11] err=UNAVAILABLE:GOAWAY received; Error code: 11; Debug Text: ping_timeout {created_time:\"2025-05-19T21:15:27.934425+03:00\", http2_error:11, grpc_status:14}\n",
      " 58%|█████▊    | 30/52 [34:55<29:08, 79.49s/it]\u001b[32m2025-05-19 21:16:55.742\u001b[0m | \u001b[34m\u001b[1mDEBUG   \u001b[0m | \u001b[36mtravel_agent.retrieval.smolagents.tool\u001b[0m:\u001b[36mforward\u001b[0m:\u001b[36m94\u001b[0m - \u001b[34m\u001b[1mretrieved 10 points in 66.91469621658325 sec\u001b[0m\n",
      "I0000 00:00:1747678615.745674 5380978 chttp2_transport.cc:1201] ipv6:%5B::1%5D:4317: Got goaway [11] err=UNAVAILABLE:GOAWAY received; Error code: 11; Debug Text: ping_timeout {grpc_status:14, http2_error:11, created_time:\"2025-05-19T21:16:55.745661+03:00\"}\n",
      " 60%|█████▉    | 31/52 [36:27<29:07, 83.23s/it]\u001b[32m2025-05-19 21:18:22.424\u001b[0m | \u001b[34m\u001b[1mDEBUG   \u001b[0m | \u001b[36mtravel_agent.retrieval.smolagents.tool\u001b[0m:\u001b[36mforward\u001b[0m:\u001b[36m94\u001b[0m - \u001b[34m\u001b[1mretrieved 10 points in 60.10652804374695 sec\u001b[0m\n",
      " 62%|██████▏   | 32/52 [38:00<28:43, 86.18s/it]\u001b[32m2025-05-19 21:19:39.758\u001b[0m | \u001b[34m\u001b[1mDEBUG   \u001b[0m | \u001b[36mtravel_agent.retrieval.smolagents.tool\u001b[0m:\u001b[36mforward\u001b[0m:\u001b[36m94\u001b[0m - \u001b[34m\u001b[1mretrieved 10 points in 45.688924074172974 sec\u001b[0m\n",
      " 63%|██████▎   | 33/52 [39:34<28:02, 88.53s/it]\u001b[32m2025-05-19 21:20:46.588\u001b[0m | \u001b[34m\u001b[1mDEBUG   \u001b[0m | \u001b[36mtravel_agent.retrieval.smolagents.tool\u001b[0m:\u001b[36mforward\u001b[0m:\u001b[36m94\u001b[0m - \u001b[34m\u001b[1mretrieved 10 points in 16.36954379081726 sec\u001b[0m\n",
      " 65%|██████▌   | 34/52 [40:25<23:10, 77.27s/it]\u001b[32m2025-05-19 21:22:45.490\u001b[0m | \u001b[34m\u001b[1mDEBUG   \u001b[0m | \u001b[36mtravel_agent.retrieval.smolagents.tool\u001b[0m:\u001b[36mforward\u001b[0m:\u001b[36m94\u001b[0m - \u001b[34m\u001b[1mretrieved 10 points in 86.32195734977722 sec\u001b[0m\n",
      "I0000 00:00:1747678965.493682 5380978 chttp2_transport.cc:1201] ipv6:%5B::1%5D:4317: Got goaway [11] err=UNAVAILABLE:GOAWAY received; Error code: 11; Debug Text: ping_timeout {grpc_status:14, http2_error:11, created_time:\"2025-05-19T21:22:45.493668+03:00\"}\n",
      " 67%|██████▋   | 35/52 [42:20<25:03, 88.42s/it]\u001b[32m2025-05-19 21:24:19.758\u001b[0m | \u001b[34m\u001b[1mDEBUG   \u001b[0m | \u001b[36mtravel_agent.retrieval.smolagents.tool\u001b[0m:\u001b[36mforward\u001b[0m:\u001b[36m94\u001b[0m - \u001b[34m\u001b[1mretrieved 10 points in 66.44511103630066 sec\u001b[0m\n",
      "I0000 00:00:1747679059.761497 5380978 chttp2_transport.cc:1201] ipv6:%5B::1%5D:4317: Got goaway [11] err=UNAVAILABLE:GOAWAY received; Error code: 11; Debug Text: ping_timeout {created_time:\"2025-05-19T21:24:19.761485+03:00\", http2_error:11, grpc_status:14}\n",
      " 69%|██████▉   | 36/52 [43:55<24:06, 90.38s/it]\u001b[32m2025-05-19 21:25:47.354\u001b[0m | \u001b[34m\u001b[1mDEBUG   \u001b[0m | \u001b[36mtravel_agent.retrieval.smolagents.tool\u001b[0m:\u001b[36mforward\u001b[0m:\u001b[36m94\u001b[0m - \u001b[34m\u001b[1mretrieved 10 points in 59.4747200012207 sec\u001b[0m\n",
      " 71%|███████   | 37/52 [45:23<22:27, 89.85s/it]\u001b[32m2025-05-19 21:27:04.789\u001b[0m | \u001b[34m\u001b[1mDEBUG   \u001b[0m | \u001b[36mtravel_agent.retrieval.smolagents.tool\u001b[0m:\u001b[36mforward\u001b[0m:\u001b[36m94\u001b[0m - \u001b[34m\u001b[1mretrieved 10 points in 45.70902395248413 sec\u001b[0m\n",
      " 73%|███████▎  | 38/52 [46:36<19:43, 84.57s/it]\u001b[32m2025-05-19 21:27:47.355\u001b[0m | \u001b[34m\u001b[1mDEBUG   \u001b[0m | \u001b[36mtravel_agent.retrieval.smolagents.tool\u001b[0m:\u001b[36mforward\u001b[0m:\u001b[36m94\u001b[0m - \u001b[34m\u001b[1mretrieved 10 points in 15.8003830909729 sec\u001b[0m\n",
      " 75%|███████▌  | 39/52 [47:35<16:42, 77.08s/it]\u001b[32m2025-05-19 21:28:45.594\u001b[0m | \u001b[34m\u001b[1mDEBUG   \u001b[0m | \u001b[36mtravel_agent.retrieval.smolagents.tool\u001b[0m:\u001b[36mforward\u001b[0m:\u001b[36m94\u001b[0m - \u001b[34m\u001b[1mretrieved 10 points in 15.970290899276733 sec\u001b[0m\n",
      " 77%|███████▋  | 40/52 [48:16<13:14, 66.20s/it]\u001b[32m2025-05-19 21:29:27.242\u001b[0m | \u001b[34m\u001b[1mDEBUG   \u001b[0m | \u001b[36mtravel_agent.retrieval.smolagents.tool\u001b[0m:\u001b[36mforward\u001b[0m:\u001b[36m94\u001b[0m - \u001b[34m\u001b[1mretrieved 10 points in 15.524586915969849 sec\u001b[0m\n",
      " 79%|███████▉  | 41/52 [48:57<10:46, 58.78s/it]\u001b[32m2025-05-19 21:30:07.090\u001b[0m | \u001b[34m\u001b[1mDEBUG   \u001b[0m | \u001b[36mtravel_agent.retrieval.smolagents.tool\u001b[0m:\u001b[36mforward\u001b[0m:\u001b[36m94\u001b[0m - \u001b[34m\u001b[1mretrieved 10 points in 16.401308059692383 sec\u001b[0m\n",
      " 81%|████████  | 42/52 [49:42<09:04, 54.45s/it]\u001b[32m2025-05-19 21:30:50.730\u001b[0m | \u001b[34m\u001b[1mDEBUG   \u001b[0m | \u001b[36mtravel_agent.retrieval.smolagents.tool\u001b[0m:\u001b[36mforward\u001b[0m:\u001b[36m94\u001b[0m - \u001b[34m\u001b[1mretrieved 10 points in 16.142203092575073 sec\u001b[0m\n",
      " 83%|████████▎ | 43/52 [50:26<07:41, 51.29s/it]\u001b[32m2025-05-19 21:31:35.060\u001b[0m | \u001b[34m\u001b[1mDEBUG   \u001b[0m | \u001b[36mtravel_agent.retrieval.smolagents.tool\u001b[0m:\u001b[36mforward\u001b[0m:\u001b[36m94\u001b[0m - \u001b[34m\u001b[1mretrieved 10 points in 16.3120698928833 sec\u001b[0m\n",
      " 85%|████████▍ | 44/52 [51:05<06:21, 47.67s/it]\u001b[32m2025-05-19 21:32:15.320\u001b[0m | \u001b[34m\u001b[1mDEBUG   \u001b[0m | \u001b[36mtravel_agent.retrieval.smolagents.tool\u001b[0m:\u001b[36mforward\u001b[0m:\u001b[36m94\u001b[0m - \u001b[34m\u001b[1mretrieved 10 points in 15.734834909439087 sec\u001b[0m\n",
      " 87%|████████▋ | 45/52 [51:58<05:44, 49.16s/it]\u001b[32m2025-05-19 21:33:05.880\u001b[0m | \u001b[34m\u001b[1mDEBUG   \u001b[0m | \u001b[36mtravel_agent.retrieval.smolagents.tool\u001b[0m:\u001b[36mforward\u001b[0m:\u001b[36m94\u001b[0m - \u001b[34m\u001b[1mretrieved 10 points in 15.21006727218628 sec\u001b[0m\n",
      " 88%|████████▊ | 46/52 [52:37<04:37, 46.24s/it]\u001b[32m2025-05-19 21:33:46.216\u001b[0m | \u001b[34m\u001b[1mDEBUG   \u001b[0m | \u001b[36mtravel_agent.retrieval.smolagents.tool\u001b[0m:\u001b[36mforward\u001b[0m:\u001b[36m94\u001b[0m - \u001b[34m\u001b[1mretrieved 10 points in 15.297206163406372 sec\u001b[0m\n",
      " 90%|█████████ | 47/52 [53:22<03:48, 45.75s/it]\u001b[32m2025-05-19 21:34:33.105\u001b[0m | \u001b[34m\u001b[1mDEBUG   \u001b[0m | \u001b[36mtravel_agent.retrieval.smolagents.tool\u001b[0m:\u001b[36mforward\u001b[0m:\u001b[36m94\u001b[0m - \u001b[34m\u001b[1mretrieved 10 points in 16.255280256271362 sec\u001b[0m\n",
      " 92%|█████████▏| 48/52 [54:00<02:54, 43.51s/it]\u001b[32m2025-05-19 21:35:08.572\u001b[0m | \u001b[34m\u001b[1mDEBUG   \u001b[0m | \u001b[36mtravel_agent.retrieval.smolagents.tool\u001b[0m:\u001b[36mforward\u001b[0m:\u001b[36m94\u001b[0m - \u001b[34m\u001b[1mretrieved 10 points in 15.584419012069702 sec\u001b[0m\n",
      " 94%|█████████▍| 49/52 [54:39<02:07, 42.35s/it]\u001b[32m2025-05-19 21:35:49.143\u001b[0m | \u001b[34m\u001b[1mDEBUG   \u001b[0m | \u001b[36mtravel_agent.retrieval.smolagents.tool\u001b[0m:\u001b[36mforward\u001b[0m:\u001b[36m94\u001b[0m - \u001b[34m\u001b[1mretrieved 10 points in 16.03078293800354 sec\u001b[0m\n",
      " 96%|█████████▌| 50/52 [55:23<01:25, 42.73s/it]\u001b[32m2025-05-19 21:36:33.195\u001b[0m | \u001b[34m\u001b[1mDEBUG   \u001b[0m | \u001b[36mtravel_agent.retrieval.smolagents.tool\u001b[0m:\u001b[36mforward\u001b[0m:\u001b[36m94\u001b[0m - \u001b[34m\u001b[1mretrieved 10 points in 16.751126050949097 sec\u001b[0m\n",
      " 98%|█████████▊| 51/52 [56:02<00:41, 41.61s/it]\u001b[32m2025-05-19 21:37:12.519\u001b[0m | \u001b[34m\u001b[1mDEBUG   \u001b[0m | \u001b[36mtravel_agent.retrieval.smolagents.tool\u001b[0m:\u001b[36mforward\u001b[0m:\u001b[36m94\u001b[0m - \u001b[34m\u001b[1mretrieved 10 points in 16.37810516357422 sec\u001b[0m\n",
      "100%|██████████| 52/52 [56:47<00:00, 65.53s/it]\n"
     ]
    }
   ],
   "source": [
    "with using_project(\"deepseek\"):\n",
    "    for q in tqdm(questions[\"question\"].tolist()[16:]):\n",
    "        agent.run(q)"
   ]
  },
  {
   "cell_type": "code",
   "execution_count": 39,
   "id": "b1f0008b",
   "metadata": {},
   "outputs": [
    {
     "data": {
      "text/html": [
       "<div>\n",
       "<style scoped>\n",
       "    .dataframe tbody tr th:only-of-type {\n",
       "        vertical-align: middle;\n",
       "    }\n",
       "\n",
       "    .dataframe tbody tr th {\n",
       "        vertical-align: top;\n",
       "    }\n",
       "\n",
       "    .dataframe thead th {\n",
       "        text-align: right;\n",
       "    }\n",
       "</style>\n",
       "<table border=\"1\" class=\"dataframe\">\n",
       "  <thead>\n",
       "    <tr style=\"text-align: right;\">\n",
       "      <th></th>\n",
       "      <th>input</th>\n",
       "      <th>reference</th>\n",
       "    </tr>\n",
       "    <tr>\n",
       "      <th>context.span_id</th>\n",
       "      <th></th>\n",
       "      <th></th>\n",
       "    </tr>\n",
       "  </thead>\n",
       "  <tbody>\n",
       "    <tr>\n",
       "      <th>6f98ce700d1e3dea</th>\n",
       "      <td>{\"args\": [], \"sanitize_inputs_outputs\": true, ...</td>\n",
       "      <td>Найденные отзывы о местах:\\n\\n== Отзыв на [АйД...</td>\n",
       "    </tr>\n",
       "    <tr>\n",
       "      <th>95f38515efcc2ec2</th>\n",
       "      <td>{\"args\": [], \"sanitize_inputs_outputs\": true, ...</td>\n",
       "      <td>Найденные отзывы о местах:\\n\\n== Отзыв на [Дор...</td>\n",
       "    </tr>\n",
       "    <tr>\n",
       "      <th>033b9f2c19ff2e46</th>\n",
       "      <td>{\"args\": [], \"sanitize_inputs_outputs\": true, ...</td>\n",
       "      <td>Найденные отзывы о местах:\\n\\n== Отзыв на [Rep...</td>\n",
       "    </tr>\n",
       "    <tr>\n",
       "      <th>97fe375682e8c0bc</th>\n",
       "      <td>{\"args\": [], \"sanitize_inputs_outputs\": true, ...</td>\n",
       "      <td>Найденные отзывы о местах:\\n\\n== Отзыв на [Три...</td>\n",
       "    </tr>\n",
       "    <tr>\n",
       "      <th>5bedfd239d3d1fb2</th>\n",
       "      <td>{\"args\": [], \"sanitize_inputs_outputs\": true, ...</td>\n",
       "      <td>Найденные отзывы о местах:\\n\\n== Отзыв на [Man...</td>\n",
       "    </tr>\n",
       "  </tbody>\n",
       "</table>\n",
       "</div>"
      ],
      "text/plain": [
       "                                                              input  \\\n",
       "context.span_id                                                       \n",
       "6f98ce700d1e3dea  {\"args\": [], \"sanitize_inputs_outputs\": true, ...   \n",
       "95f38515efcc2ec2  {\"args\": [], \"sanitize_inputs_outputs\": true, ...   \n",
       "033b9f2c19ff2e46  {\"args\": [], \"sanitize_inputs_outputs\": true, ...   \n",
       "97fe375682e8c0bc  {\"args\": [], \"sanitize_inputs_outputs\": true, ...   \n",
       "5bedfd239d3d1fb2  {\"args\": [], \"sanitize_inputs_outputs\": true, ...   \n",
       "\n",
       "                                                          reference  \n",
       "context.span_id                                                      \n",
       "6f98ce700d1e3dea  Найденные отзывы о местах:\\n\\n== Отзыв на [АйД...  \n",
       "95f38515efcc2ec2  Найденные отзывы о местах:\\n\\n== Отзыв на [Дор...  \n",
       "033b9f2c19ff2e46  Найденные отзывы о местах:\\n\\n== Отзыв на [Rep...  \n",
       "97fe375682e8c0bc  Найденные отзывы о местах:\\n\\n== Отзыв на [Три...  \n",
       "5bedfd239d3d1fb2  Найденные отзывы о местах:\\n\\n== Отзыв на [Man...  "
      ]
     },
     "execution_count": 39,
     "metadata": {},
     "output_type": "execute_result"
    }
   ],
   "source": [
    "tool_spans = (\n",
    "    px.Client()\n",
    "    .query_spans(\n",
    "        SpanQuery().where(\"name == 'TravelReviewQueryTool'\").select(input=\"input.value\", reference=\"output.value\"),\n",
    "        project_name=\"deepseek\",\n",
    "    )\n",
    "    .dropna()\n",
    ")\n",
    "tool_spans.head()"
   ]
  },
  {
   "cell_type": "code",
   "execution_count": 40,
   "id": "ef3921dc",
   "metadata": {},
   "outputs": [
    {
     "name": "stderr",
     "output_type": "stream",
     "text": [
      "/var/folders/hy/9y5wfvks4m55vpklg49y7g0r0000gn/T/ipykernel_24623/1142635796.py:3: DeprecationWarning: `dataframe` argument is deprecated; use `data` instead\n",
      "  eval_results = llm_classify(\n"
     ]
    },
    {
     "data": {
      "application/vnd.jupyter.widget-view+json": {
       "model_id": "7268642514434ae7b9c8ee1ef8c2321f",
       "version_major": 2,
       "version_minor": 0
      },
      "text/plain": [
       "llm_classify |          | 0/68 (0.0%) | ⏳ 00:00<? | ?it/s"
      ]
     },
     "metadata": {},
     "output_type": "display_data"
    },
    {
     "name": "stderr",
     "output_type": "stream",
     "text": [
      "WARNING:root:REST async clients requires async credentials set using aiplatform.initializer._set_async_rest_credentials().\n",
      "Falling back to grpc since no async rest credentials were detected.\n"
     ]
    },
    {
     "data": {
      "text/html": [
       "<div>\n",
       "<style scoped>\n",
       "    .dataframe tbody tr th:only-of-type {\n",
       "        vertical-align: middle;\n",
       "    }\n",
       "\n",
       "    .dataframe tbody tr th {\n",
       "        vertical-align: top;\n",
       "    }\n",
       "\n",
       "    .dataframe thead th {\n",
       "        text-align: right;\n",
       "    }\n",
       "</style>\n",
       "<table border=\"1\" class=\"dataframe\">\n",
       "  <thead>\n",
       "    <tr style=\"text-align: right;\">\n",
       "      <th></th>\n",
       "      <th>label</th>\n",
       "      <th>explanation</th>\n",
       "      <th>exceptions</th>\n",
       "      <th>execution_status</th>\n",
       "      <th>execution_seconds</th>\n",
       "      <th>score</th>\n",
       "    </tr>\n",
       "    <tr>\n",
       "      <th>context.span_id</th>\n",
       "      <th></th>\n",
       "      <th></th>\n",
       "      <th></th>\n",
       "      <th></th>\n",
       "      <th></th>\n",
       "      <th></th>\n",
       "    </tr>\n",
       "  </thead>\n",
       "  <tbody>\n",
       "    <tr>\n",
       "      <th>6f98ce700d1e3dea</th>\n",
       "      <td>relevant</td>\n",
       "      <td>The question is \"Рестораны\". The reference tex...</td>\n",
       "      <td>[]</td>\n",
       "      <td>COMPLETED</td>\n",
       "      <td>1.909977</td>\n",
       "      <td>1</td>\n",
       "    </tr>\n",
       "    <tr>\n",
       "      <th>95f38515efcc2ec2</th>\n",
       "      <td>relevant</td>\n",
       "      <td>The question is asking for information about \"...</td>\n",
       "      <td>[]</td>\n",
       "      <td>COMPLETED</td>\n",
       "      <td>2.161809</td>\n",
       "      <td>1</td>\n",
       "    </tr>\n",
       "    <tr>\n",
       "      <th>033b9f2c19ff2e46</th>\n",
       "      <td>relevant</td>\n",
       "      <td>The question is asking for information about \"...</td>\n",
       "      <td>[]</td>\n",
       "      <td>COMPLETED</td>\n",
       "      <td>2.303161</td>\n",
       "      <td>1</td>\n",
       "    </tr>\n",
       "    <tr>\n",
       "      <th>97fe375682e8c0bc</th>\n",
       "      <td>relevant</td>\n",
       "      <td>The question asks for information about bars o...</td>\n",
       "      <td>[]</td>\n",
       "      <td>COMPLETED</td>\n",
       "      <td>2.423126</td>\n",
       "      <td>1</td>\n",
       "    </tr>\n",
       "    <tr>\n",
       "      <th>5bedfd239d3d1fb2</th>\n",
       "      <td>relevant</td>\n",
       "      <td>The question is about finding a \"Ногтевая студ...</td>\n",
       "      <td>[]</td>\n",
       "      <td>COMPLETED</td>\n",
       "      <td>2.577728</td>\n",
       "      <td>1</td>\n",
       "    </tr>\n",
       "  </tbody>\n",
       "</table>\n",
       "</div>"
      ],
      "text/plain": [
       "                     label                                        explanation  \\\n",
       "context.span_id                                                                 \n",
       "6f98ce700d1e3dea  relevant  The question is \"Рестораны\". The reference tex...   \n",
       "95f38515efcc2ec2  relevant  The question is asking for information about \"...   \n",
       "033b9f2c19ff2e46  relevant  The question is asking for information about \"...   \n",
       "97fe375682e8c0bc  relevant  The question asks for information about bars o...   \n",
       "5bedfd239d3d1fb2  relevant  The question is about finding a \"Ногтевая студ...   \n",
       "\n",
       "                 exceptions execution_status  execution_seconds  score  \n",
       "context.span_id                                                         \n",
       "6f98ce700d1e3dea         []        COMPLETED           1.909977      1  \n",
       "95f38515efcc2ec2         []        COMPLETED           2.161809      1  \n",
       "033b9f2c19ff2e46         []        COMPLETED           2.303161      1  \n",
       "97fe375682e8c0bc         []        COMPLETED           2.423126      1  \n",
       "5bedfd239d3d1fb2         []        COMPLETED           2.577728      1  "
      ]
     },
     "execution_count": 40,
     "metadata": {},
     "output_type": "execute_result"
    }
   ],
   "source": [
    "eval_model = GeminiModel(model=\"gemini-2.0-flash-lite-001\", project=659002550737)\n",
    "\n",
    "eval_results = llm_classify(\n",
    "    dataframe=tool_spans,\n",
    "    model=eval_model,\n",
    "    template=RAG_RELEVANCY_PROMPT_TEMPLATE,\n",
    "    rails=list(RAG_RELEVANCY_PROMPT_RAILS_MAP.values()),\n",
    "    provide_explanation=True,\n",
    ")\n",
    "eval_results[\"score\"] = eval_results[\"explanation\"].apply(lambda x: 1 if \"relevant\" in x else 0)\n",
    "eval_results.head()"
   ]
  },
  {
   "cell_type": "code",
   "execution_count": 41,
   "id": "3c08bcf6",
   "metadata": {},
   "outputs": [],
   "source": [
    "px.Client().log_evaluations(SpanEvaluations(eval_name=\"TravelReviewQueryTool Relevancy\", dataframe=eval_results))"
   ]
  },
  {
   "cell_type": "code",
   "execution_count": 44,
   "id": "397471af",
   "metadata": {},
   "outputs": [
    {
     "name": "stdout",
     "output_type": "stream",
     "text": [
      "Total mean score: 1.0000\n",
      "Total median score: 1.0000\n",
      "count    68.0\n",
      "mean      1.0\n",
      "std       0.0\n",
      "min       1.0\n",
      "25%       1.0\n",
      "50%       1.0\n",
      "75%       1.0\n",
      "max       1.0\n",
      "Name: score, dtype: float64\n"
     ]
    },
    {
     "data": {
      "text/plain": [
       "<Axes: xlabel='score'>"
      ]
     },
     "execution_count": 44,
     "metadata": {},
     "output_type": "execute_result"
    },
    {
     "data": {
      "image/png": "[encoded data removed]",
      "text/plain": [
       "<Figure size 640x480 with 1 Axes>"
      ]
     },
     "metadata": {},
     "output_type": "display_data"
    }
   ],
   "source": [
    "print(f\"Total mean score: {eval_results.score.mean():.4f}\")\n",
    "print(f\"Total median score: {eval_results.score.median():.4f}\")\n",
    "\n",
    "print(eval_results.score.describe())\n",
    "\n",
    "eval_results.score.value_counts().plot.bar()"
   ]
  },
  {
   "cell_type": "code",
   "execution_count": 46,
   "id": "373aecbd",
   "metadata": {},
   "outputs": [
    {
     "data": {
      "text/html": [
       "<div>\n",
       "<style scoped>\n",
       "    .dataframe tbody tr th:only-of-type {\n",
       "        vertical-align: middle;\n",
       "    }\n",
       "\n",
       "    .dataframe tbody tr th {\n",
       "        vertical-align: top;\n",
       "    }\n",
       "\n",
       "    .dataframe thead th {\n",
       "        text-align: right;\n",
       "    }\n",
       "</style>\n",
       "<table border=\"1\" class=\"dataframe\">\n",
       "  <thead>\n",
       "    <tr style=\"text-align: right;\">\n",
       "      <th></th>\n",
       "      <th>input</th>\n",
       "      <th>output</th>\n",
       "    </tr>\n",
       "    <tr>\n",
       "      <th>context.span_id</th>\n",
       "      <th></th>\n",
       "      <th></th>\n",
       "    </tr>\n",
       "  </thead>\n",
       "  <tbody>\n",
       "    <tr>\n",
       "      <th>adcb86e797ffb5e8</th>\n",
       "      <td>{\"args\": [[{\"role\": \"system\", \"content\": [{\"ty...</td>\n",
       "      <td>{\"role\": \"assistant\", \"content\": \"\", \"tool_cal...</td>\n",
       "    </tr>\n",
       "    <tr>\n",
       "      <th>688ba44b54c4bff1</th>\n",
       "      <td>{\"args\": [[{\"role\": \"system\", \"content\": [{\"ty...</td>\n",
       "      <td>{\"role\": \"assistant\", \"content\": \"\", \"tool_cal...</td>\n",
       "    </tr>\n",
       "    <tr>\n",
       "      <th>783e056fa79c7b08</th>\n",
       "      <td>{\"args\": [[{\"role\": \"system\", \"content\": [{\"ty...</td>\n",
       "      <td>{\"role\": \"assistant\", \"content\": \"\", \"tool_cal...</td>\n",
       "    </tr>\n",
       "    <tr>\n",
       "      <th>0690d71f0f8e8a66</th>\n",
       "      <td>{\"args\": [[{\"role\": \"system\", \"content\": [{\"ty...</td>\n",
       "      <td>{\"role\": \"assistant\", \"content\": \"\", \"tool_cal...</td>\n",
       "    </tr>\n",
       "    <tr>\n",
       "      <th>c0e202648e2c16d7</th>\n",
       "      <td>{\"args\": [[{\"role\": \"system\", \"content\": [{\"ty...</td>\n",
       "      <td>{\"role\": \"assistant\", \"content\": \"\", \"tool_cal...</td>\n",
       "    </tr>\n",
       "  </tbody>\n",
       "</table>\n",
       "</div>"
      ],
      "text/plain": [
       "                                                              input  \\\n",
       "context.span_id                                                       \n",
       "adcb86e797ffb5e8  {\"args\": [[{\"role\": \"system\", \"content\": [{\"ty...   \n",
       "688ba44b54c4bff1  {\"args\": [[{\"role\": \"system\", \"content\": [{\"ty...   \n",
       "783e056fa79c7b08  {\"args\": [[{\"role\": \"system\", \"content\": [{\"ty...   \n",
       "0690d71f0f8e8a66  {\"args\": [[{\"role\": \"system\", \"content\": [{\"ty...   \n",
       "c0e202648e2c16d7  {\"args\": [[{\"role\": \"system\", \"content\": [{\"ty...   \n",
       "\n",
       "                                                             output  \n",
       "context.span_id                                                      \n",
       "adcb86e797ffb5e8  {\"role\": \"assistant\", \"content\": \"\", \"tool_cal...  \n",
       "688ba44b54c4bff1  {\"role\": \"assistant\", \"content\": \"\", \"tool_cal...  \n",
       "783e056fa79c7b08  {\"role\": \"assistant\", \"content\": \"\", \"tool_cal...  \n",
       "0690d71f0f8e8a66  {\"role\": \"assistant\", \"content\": \"\", \"tool_cal...  \n",
       "c0e202648e2c16d7  {\"role\": \"assistant\", \"content\": \"\", \"tool_cal...  "
      ]
     },
     "execution_count": 46,
     "metadata": {},
     "output_type": "execute_result"
    }
   ],
   "source": [
    "tool_spans = px.Client().query_spans(\n",
    "    SpanQuery()\n",
    "    .where(\"span_kind == 'LLM'and status_code == 'OK' and 'final_answer' in llm.output_messages\")\n",
    "    .select(\n",
    "        input=\"input.value\",\n",
    "        output=\"output.value\",\n",
    "    ),\n",
    "    project_name=\"deepseek\",\n",
    ")\n",
    "tool_spans.head()"
   ]
  },
  {
   "cell_type": "code",
   "execution_count": null,
   "id": "915d6d20",
   "metadata": {},
   "outputs": [
    {
     "data": {
      "text/plain": [
       "[{'type': 'text',\n",
       "  'text': \"Observation:\\nНайденные отзывы о местах:\\n\\n== Отзыв на [АйДаБаран](https://yandex.ru/maps/213/moscow/search/%D0%90%D0%B9%D0%94%D0%B0%D0%91%D0%B0%D1%80%D0%B0%D0%BD) ==\\nАдрес: Москва, проспект Андропова, 22\\nРегион: Москва\\nРейтинг: 5.0\\nКатегории: ['Ресторан', 'Кондитерская', 'Банкетный зал']\\nТекст: Замечательный ресторан.  \\n\\n== Отзыв на [Цветение сакуры](https://yandex.ru/maps/213/moscow/search/%D0%A6%D0%B2%D0%B5%D1%82%D0%B5%D0%BD%D0%B8%D0%B5%20%D1%81%D0%B0%D0%BA%D1%83%D1%80%D1%8B) ==\\nАдрес: Москва, улица Красина, 7с1\\nРегион: Москва\\nРейтинг: 5.0\\nКатегории: ['Ресторан', 'Суши-бар']\\nТекст: Ходим в ресторан Цветение Сакуры уже больше 10-ти лет. Наши дети выросли буквально на глазах у сотрудников ресторана. Рыба здесь всегда свежая и очень вкусная! Сюда ходят обедать японцы- это знак того, что кухня здесь аутентичная. Несмотря на то, что ресторан существует в Москве давно, ресторан держит марку. Новый шеф всё время обновляет меню, придумывает интересные ходы, чтобы привлечь клиентов.  Персонал всегда на высоте - вежлив и обходителен.  Из ресторана можно заказать доставку, достаточно зайти на сайт и оформить заказ.   Приходите в ресторан Цветение Сакуры! Не пожалеете! \\n\\n== Отзыв на [ТОКИО-CITY](https://yandex.ru/maps/?text=%D0%A2%D0%9E%D0%9A%D0%98%D0%9E-CITY) ==\\nАдрес: Ленинградская область, Всеволожский район, Мурино, проспект Авиаторов Балтики, 7, корп. 1\\nРегион: Ленинградская область\\nРейтинг: 5.0\\nКатегории: ['Ресторан', 'Пиццерия', 'Кальян-бар']\\nТекст: Приятный ресторан с вкусной едой. \\n\\n== Отзыв на [Plateau](https://yandex.ru/maps/?text=Plateau) ==\\nАдрес: Мурманская область, муниципальный округ Кировск, территория Горнолыжный курорт Большой Вудъявр Северный склон горы Айкуайвенчорр, 2\\nРегион: Мурманская область\\nРейтинг: 5.0\\nКатегории: ['Ресторан', 'Бар, паб']\\nТекст: Ресторан-уникальное место, чуткий персонал, по-настоящему хорошее обслуживание. Отличная кухня, лаконичное, но исчерпывающее меню. Поход в ресторан может стать настоящим приключением. Нужно только помнить, что стол в ресторане нужно бронировать заранее \\n\\n== Отзыв на [Колхида](https://yandex.ru/maps/?text=%D0%9A%D0%BE%D0%BB%D1%85%D0%B8%D0%B4%D0%B0) ==\\nАдрес: Московская область, Чехов, Уездная улица, 10, стр. 2\\nРегион: Московская область\\nРейтинг: 1.0\\nКатегории: ['Ресторан', 'Доставка еды и обедов']\\nТекст: 19 мая! Грузинский Ресторан! Ресторан Калхида за Губернским. Не плохой,  блюда вкусные! Живая музыка! На юбилее у  женщины приехавший из Израиля в Россию  раз в год ,хотел поздравить песнями Юрий Самохвалов, известный, уважаемый певец нашего города! Администрация и директор ресторана просто глупо запоетили поздравить песнями.....Просто говоря не разрешили спеть! Возмущениям нет предела!!! Разве такое может быть?  Личное обращение к директору ресторана, зачем Вы так делаете??? Вы должны уважать людей, которые приходят к вам? Разве нет? Что делаете вы? Оскорбляете уважаемых людей!!!! Я не советую этот ресторан!!!! Вы директор этого ресторана, научитесь уважать людей!!!  \\n\\n== Отзыв на [ТОКИО-CITY](https://yandex.ru/maps/?text=%D0%A2%D0%9E%D0%9A%D0%98%D0%9E-CITY) ==\\nАдрес: Ленинградская область, Гатчина, проспект 25 Октября, 42В\\nРегион: Ленинградская область\\nРейтинг: 5.0\\nКатегории: ['Ресторан', 'Пиццерия', 'Кальян-бар']\\nТекст: Рестораны очень приятно!  \\n\\n== Отзыв на [Марчеллис](https://yandex.ru/maps/?text=%D0%9C%D0%B0%D1%80%D1%87%D0%B5%D0%BB%D0%BB%D0%B8%D1%81) ==\\nАдрес: Санкт-Петербург, проспект Науки, 14А\\nРегион: Санкт-Петербург\\nРейтинг: 5.0\\nКатегории: ['Ресторан']\\nТекст: По адресу ресторана проспект Науки -  прекрасная клиентоориентированность, отличное обслуживание, во всём идут на встречу!  Я обожаю этот  ресторан! Все праздники и не только буду отмечать только по этому адресу: Проспект Науки!  Меню отличное! Есть всё на выбор! Бизнес-ланч! Отдельное здание, рядом парковка, всегда можно припарковаться.  Выбирала ресторан для празднования годовщины свадьбы, позвонила в свой любимый ресторан для уточнения есть ли подарок на праздник. Ответили, что нет, а я думала позвоню ещё в парочку мест, но мне перезвонили секунд через 10 и ответили, что да - будет)) шеф-повар ресторана нам приготовил десерт в виде сердечка, а официант пожелал самые наилучшие пожелания) Я с удовольствием приду в этот ресторан ещё много раз! \\n\\n== Отзыв на [Parmesan](https://yandex.ru/maps/?text=Parmesan) ==\\nАдрес: Пермь, Комсомольский проспект, 90\\nРегион: Пермь\\nРейтинг: 5.0\\nКатегории: ['Ресторан', 'Доставка еды и обедов', 'Банкетный зал']\\nТекст: Прекрасный ресторан. Вкусная еда. \\n\\n== Отзыв на [Эрпан](https://yandex.ru/maps/?text=%D0%AD%D1%80%D0%BF%D0%B0%D0%BD) ==\\nАдрес: Республика Крым, городской округ Ялта, посёлок городского типа Гаспра, Алупкинское шоссе, 5Б\\nРегион: Республика Крым\\nРейтинг: 4.0\\nКатегории: ['Кафе']\\nТекст: Красивый вид с ресторана  \\n\\n== Отзыв на [Seasons](https://yandex.ru/maps/?text=Seasons) ==\\nАдрес: Калининград, проспект Мира, 74\\nРегион: Калининград\\nРейтинг: 5.0\\nКатегории: ['Ресторан']\\nТекст: Любимый ресторан)\"}]"
      ]
     },
     "execution_count": 79,
     "metadata": {},
     "output_type": "execute_result"
    }
   ],
   "source": [
    "json.loads(tool_spans.input.iloc[1])[\"args\"][0]"
   ]
  },
  {
   "cell_type": "code",
   "execution_count": 82,
   "id": "32f59203",
   "metadata": {},
   "outputs": [],
   "source": [
    "def find_last_tool_call(calls):\n",
    "    for i in range(len(calls) - 1, -1, -1):\n",
    "        if calls[i][\"role\"] == \"tool-response\":\n",
    "            return calls[i][\"content\"][0][\"text\"]\n",
    "\n",
    "    return None"
   ]
  },
  {
   "cell_type": "code",
   "execution_count": 84,
   "id": "474af854",
   "metadata": {},
   "outputs": [
    {
     "name": "stdout",
     "output_type": "stream",
     "text": [
      "(204, 3)\n"
     ]
    },
    {
     "data": {
      "text/html": [
       "<div>\n",
       "<style scoped>\n",
       "    .dataframe tbody tr th:only-of-type {\n",
       "        vertical-align: middle;\n",
       "    }\n",
       "\n",
       "    .dataframe tbody tr th {\n",
       "        vertical-align: top;\n",
       "    }\n",
       "\n",
       "    .dataframe thead th {\n",
       "        text-align: right;\n",
       "    }\n",
       "</style>\n",
       "<table border=\"1\" class=\"dataframe\">\n",
       "  <thead>\n",
       "    <tr style=\"text-align: right;\">\n",
       "      <th></th>\n",
       "      <th>input</th>\n",
       "      <th>output</th>\n",
       "      <th>reference</th>\n",
       "    </tr>\n",
       "    <tr>\n",
       "      <th>context.span_id</th>\n",
       "      <th></th>\n",
       "      <th></th>\n",
       "      <th></th>\n",
       "    </tr>\n",
       "  </thead>\n",
       "  <tbody>\n",
       "    <tr>\n",
       "      <th>adcb86e797ffb5e8</th>\n",
       "      <td>{\"args\": [[{\"role\": \"system\", \"content\": [{\"ty...</td>\n",
       "      <td>{\"role\": \"assistant\", \"content\": \"\", \"tool_cal...</td>\n",
       "      <td>Observation:\\nНайденные отзывы о местах:\\n\\n==...</td>\n",
       "    </tr>\n",
       "    <tr>\n",
       "      <th>688ba44b54c4bff1</th>\n",
       "      <td>{\"args\": [[{\"role\": \"system\", \"content\": [{\"ty...</td>\n",
       "      <td>{\"role\": \"assistant\", \"content\": \"\", \"tool_cal...</td>\n",
       "      <td>Observation:\\nНайденные отзывы о местах:\\n\\n==...</td>\n",
       "    </tr>\n",
       "    <tr>\n",
       "      <th>783e056fa79c7b08</th>\n",
       "      <td>{\"args\": [[{\"role\": \"system\", \"content\": [{\"ty...</td>\n",
       "      <td>{\"role\": \"assistant\", \"content\": \"\", \"tool_cal...</td>\n",
       "      <td>Observation:\\nНайденные отзывы о местах:\\n\\n==...</td>\n",
       "    </tr>\n",
       "    <tr>\n",
       "      <th>0690d71f0f8e8a66</th>\n",
       "      <td>{\"args\": [[{\"role\": \"system\", \"content\": [{\"ty...</td>\n",
       "      <td>{\"role\": \"assistant\", \"content\": \"\", \"tool_cal...</td>\n",
       "      <td>Observation:\\nНайденные отзывы о местах:\\n\\n==...</td>\n",
       "    </tr>\n",
       "    <tr>\n",
       "      <th>c0e202648e2c16d7</th>\n",
       "      <td>{\"args\": [[{\"role\": \"system\", \"content\": [{\"ty...</td>\n",
       "      <td>{\"role\": \"assistant\", \"content\": \"\", \"tool_cal...</td>\n",
       "      <td>Observation:\\nНайденные отзывы о местах:\\n\\n==...</td>\n",
       "    </tr>\n",
       "  </tbody>\n",
       "</table>\n",
       "</div>"
      ],
      "text/plain": [
       "                                                              input  \\\n",
       "context.span_id                                                       \n",
       "adcb86e797ffb5e8  {\"args\": [[{\"role\": \"system\", \"content\": [{\"ty...   \n",
       "688ba44b54c4bff1  {\"args\": [[{\"role\": \"system\", \"content\": [{\"ty...   \n",
       "783e056fa79c7b08  {\"args\": [[{\"role\": \"system\", \"content\": [{\"ty...   \n",
       "0690d71f0f8e8a66  {\"args\": [[{\"role\": \"system\", \"content\": [{\"ty...   \n",
       "c0e202648e2c16d7  {\"args\": [[{\"role\": \"system\", \"content\": [{\"ty...   \n",
       "\n",
       "                                                             output  \\\n",
       "context.span_id                                                       \n",
       "adcb86e797ffb5e8  {\"role\": \"assistant\", \"content\": \"\", \"tool_cal...   \n",
       "688ba44b54c4bff1  {\"role\": \"assistant\", \"content\": \"\", \"tool_cal...   \n",
       "783e056fa79c7b08  {\"role\": \"assistant\", \"content\": \"\", \"tool_cal...   \n",
       "0690d71f0f8e8a66  {\"role\": \"assistant\", \"content\": \"\", \"tool_cal...   \n",
       "c0e202648e2c16d7  {\"role\": \"assistant\", \"content\": \"\", \"tool_cal...   \n",
       "\n",
       "                                                          reference  \n",
       "context.span_id                                                      \n",
       "adcb86e797ffb5e8  Observation:\\nНайденные отзывы о местах:\\n\\n==...  \n",
       "688ba44b54c4bff1  Observation:\\nНайденные отзывы о местах:\\n\\n==...  \n",
       "783e056fa79c7b08  Observation:\\nНайденные отзывы о местах:\\n\\n==...  \n",
       "0690d71f0f8e8a66  Observation:\\nНайденные отзывы о местах:\\n\\n==...  \n",
       "c0e202648e2c16d7  Observation:\\nНайденные отзывы о местах:\\n\\n==...  "
      ]
     },
     "execution_count": 84,
     "metadata": {},
     "output_type": "execute_result"
    }
   ],
   "source": [
    "tool_spans[\"reference\"] = tool_spans[\"input\"].apply(lambda x: find_last_tool_call(json.loads(x)[\"args\"][0]))\n",
    "tool_spans.dropna(inplace=True)\n",
    "\n",
    "print(tool_spans.shape)\n",
    "tool_spans.head()"
   ]
  },
  {
   "cell_type": "code",
   "execution_count": 85,
   "id": "5f156c7f",
   "metadata": {},
   "outputs": [
    {
     "name": "stderr",
     "output_type": "stream",
     "text": [
      "/var/folders/hy/9y5wfvks4m55vpklg49y7g0r0000gn/T/ipykernel_24623/2678769915.py:1: DeprecationWarning: `dataframe` argument is deprecated; use `data` instead\n",
      "  hallucination_classifications = llm_classify(\n"
     ]
    },
    {
     "data": {
      "application/vnd.jupyter.widget-view+json": {
       "model_id": "20c19c59b4784c09a232522d0f182878",
       "version_major": 2,
       "version_minor": 0
      },
      "text/plain": [
       "llm_classify |          | 0/204 (0.0%) | ⏳ 00:00<? | ?it/s"
      ]
     },
     "metadata": {},
     "output_type": "display_data"
    },
    {
     "name": "stderr",
     "output_type": "stream",
     "text": [
      "WARNING:root:REST async clients requires async credentials set using aiplatform.initializer._set_async_rest_credentials().\n",
      "Falling back to grpc since no async rest credentials were detected.\n"
     ]
    },
    {
     "data": {
      "text/html": [
       "<div>\n",
       "<style scoped>\n",
       "    .dataframe tbody tr th:only-of-type {\n",
       "        vertical-align: middle;\n",
       "    }\n",
       "\n",
       "    .dataframe tbody tr th {\n",
       "        vertical-align: top;\n",
       "    }\n",
       "\n",
       "    .dataframe thead th {\n",
       "        text-align: right;\n",
       "    }\n",
       "</style>\n",
       "<table border=\"1\" class=\"dataframe\">\n",
       "  <thead>\n",
       "    <tr style=\"text-align: right;\">\n",
       "      <th></th>\n",
       "      <th>label</th>\n",
       "      <th>explanation</th>\n",
       "      <th>exceptions</th>\n",
       "      <th>execution_status</th>\n",
       "      <th>execution_seconds</th>\n",
       "    </tr>\n",
       "    <tr>\n",
       "      <th>context.span_id</th>\n",
       "      <th></th>\n",
       "      <th></th>\n",
       "      <th></th>\n",
       "      <th></th>\n",
       "      <th></th>\n",
       "    </tr>\n",
       "  </thead>\n",
       "  <tbody>\n",
       "    <tr>\n",
       "      <th>adcb86e797ffb5e8</th>\n",
       "      <td>factual</td>\n",
       "      <td>The query asks for restaurants. The tool call ...</td>\n",
       "      <td>[]</td>\n",
       "      <td>COMPLETED</td>\n",
       "      <td>2.329355</td>\n",
       "    </tr>\n",
       "    <tr>\n",
       "      <th>688ba44b54c4bff1</th>\n",
       "      <td>factual</td>\n",
       "      <td>The query asks for restaurants. The tool call ...</td>\n",
       "      <td>[]</td>\n",
       "      <td>COMPLETED</td>\n",
       "      <td>2.289788</td>\n",
       "    </tr>\n",
       "    <tr>\n",
       "      <th>783e056fa79c7b08</th>\n",
       "      <td>factual</td>\n",
       "      <td>The query asks for restaurants. The tool call ...</td>\n",
       "      <td>[]</td>\n",
       "      <td>COMPLETED</td>\n",
       "      <td>2.307861</td>\n",
       "    </tr>\n",
       "    <tr>\n",
       "      <th>0690d71f0f8e8a66</th>\n",
       "      <td>factual</td>\n",
       "      <td>The query asks for cafes. The tool call uses '...</td>\n",
       "      <td>[]</td>\n",
       "      <td>COMPLETED</td>\n",
       "      <td>2.416034</td>\n",
       "    </tr>\n",
       "    <tr>\n",
       "      <th>c0e202648e2c16d7</th>\n",
       "      <td>factual</td>\n",
       "      <td>The query asks for cafes. The tool call uses t...</td>\n",
       "      <td>[]</td>\n",
       "      <td>COMPLETED</td>\n",
       "      <td>4.322400</td>\n",
       "    </tr>\n",
       "  </tbody>\n",
       "</table>\n",
       "</div>"
      ],
      "text/plain": [
       "                    label                                        explanation  \\\n",
       "context.span_id                                                                \n",
       "adcb86e797ffb5e8  factual  The query asks for restaurants. The tool call ...   \n",
       "688ba44b54c4bff1  factual  The query asks for restaurants. The tool call ...   \n",
       "783e056fa79c7b08  factual  The query asks for restaurants. The tool call ...   \n",
       "0690d71f0f8e8a66  factual  The query asks for cafes. The tool call uses '...   \n",
       "c0e202648e2c16d7  factual  The query asks for cafes. The tool call uses t...   \n",
       "\n",
       "                 exceptions execution_status  execution_seconds  \n",
       "context.span_id                                                  \n",
       "adcb86e797ffb5e8         []        COMPLETED           2.329355  \n",
       "688ba44b54c4bff1         []        COMPLETED           2.289788  \n",
       "783e056fa79c7b08         []        COMPLETED           2.307861  \n",
       "0690d71f0f8e8a66         []        COMPLETED           2.416034  \n",
       "c0e202648e2c16d7         []        COMPLETED           4.322400  "
      ]
     },
     "execution_count": 85,
     "metadata": {},
     "output_type": "execute_result"
    }
   ],
   "source": [
    "hallucination_classifications = llm_classify(\n",
    "    dataframe=tool_spans,\n",
    "    template=HALLUCINATION_PROMPT_TEMPLATE,\n",
    "    model=eval_model,\n",
    "    rails=list(HALLUCINATION_PROMPT_RAILS_MAP.values()),\n",
    "    provide_explanation=True,  # optional to generate explanations for the value produced by the eval LLM\n",
    ")\n",
    "\n",
    "px.Client().log_evaluations(\n",
    "    SpanEvaluations(eval_name=\"TravelReviewQueryTool Hallucinations\", dataframe=hallucination_classifications)\n",
    ")\n",
    "hallucination_classifications.head()"
   ]
  },
  {
   "cell_type": "code",
   "execution_count": 86,
   "id": "d666f7c8",
   "metadata": {},
   "outputs": [
    {
     "data": {
      "text/plain": [
       "<Axes: xlabel='label'>"
      ]
     },
     "execution_count": 86,
     "metadata": {},
     "output_type": "execute_result"
    },
    {
     "data": {
      "image/png": "[encoded data removed]",
      "text/plain": [
       "<Figure size 640x480 with 1 Axes>"
      ]
     },
     "metadata": {},
     "output_type": "display_data"
    }
   ],
   "source": [
    "hallucination_classifications.label.value_counts().plot.bar()"
   ]
  }
 ],
 "metadata": {
  "kernelspec": {
   "display_name": ".venv",
   "language": "python",
   "name": "python3"
  },
  "language_info": {
   "codemirror_mode": {
    "name": "ipython",
    "version": 3
   },
   "file_extension": ".py",
   "mimetype": "text/x-python",
   "name": "python",
   "nbconvert_exporter": "python",
   "pygments_lexer": "ipython3",
   "version": "3.13.3"
  }
 },
 "nbformat": 4,
 "nbformat_minor": 5
}
