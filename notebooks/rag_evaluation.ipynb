{
 "cells": [
  {
   "cell_type": "markdown",
   "id": "475b3eda",
   "metadata": {},
   "source": [
    "# RAG evaluation"
   ]
  },
  {
   "cell_type": "code",
   "execution_count": null,
   "id": "9c25c158",
   "metadata": {},
   "outputs": [
    {
     "name": "stdout",
     "output_type": "stream",
     "text": [
      "Available embed models:\n",
      "- cointegrated/rubert-tiny2\n",
      "- DeepPavlov/rubert-base-cased-sentence\n",
      "- ai-forever/sbert_large_nlu_ru\n",
      "- ai-forever/sbert_large_mt_nlu_ru\n",
      "- sentence-transformers/distiluse-base-multilingual-cased-v1\n",
      "- sentence-transformers/distiluse-base-multilingual-cased-v2\n",
      "- sentence-transformers/paraphrase-multilingual-MiniLM-L12-v2\n",
      "- sentence-transformers/paraphrase-multilingual-mpnet-base-v2\n",
      "- intfloat/multilingual-e5-large\n",
      "- intfloat/multilingual-e5-base\n",
      "- intfloat/multilingual-e5-small\n",
      "- ai-forever/ru-en-RoSBERTa\n",
      "- sergeyzh/BERTA\n"
     ]
    }
   ],
   "source": [
    "import json\n",
    "import os\n",
    "\n",
    "import nest_asyncio\n",
    "import pandas as pd\n",
    "import phoenix as px\n",
    "from openinference.instrumentation.smolagents import SmolagentsInstrumentor\n",
    "from phoenix.evals import (\n",
    "    HALLUCINATION_PROMPT_RAILS_MAP,\n",
    "    HALLUCINATION_PROMPT_TEMPLATE,\n",
    "    RAG_RELEVANCY_PROMPT_RAILS_MAP,\n",
    "    RAG_RELEVANCY_PROMPT_TEMPLATE,\n",
    "    GeminiModel,\n",
    "    llm_classify,\n",
    ")\n",
    "from phoenix.otel import register\n",
    "from phoenix.trace import SpanEvaluations, using_project\n",
    "from phoenix.trace.dsl import SpanQuery\n",
    "from smolagents import InferenceClientModel, LiteLLMModel, ToolCallingAgent\n",
    "from tqdm import tqdm\n",
    "\n",
    "from travel_agent.qdrant import client as qdrant_client\n",
    "from travel_agent.retrieval.embedding.embedding_generation import MODELS_PROMPTS\n",
    "from travel_agent.retrieval.smolagents.tool import TravelReviewQueryTool\n",
    "\n",
    "nest_asyncio.apply()\n",
    "\n",
    "if not os.getenv(\"QDRANT_URL\"):\n",
    "    print(\"Set QDRANT_URL and QDRANT_API_KEY env\")\n",
    "    exit(1)\n",
    "\n",
    "print(f\"Available embed models:\\n- {'\\n- '.join(MODELS_PROMPTS.keys())}\")"
   ]
  },
  {
   "cell_type": "code",
   "execution_count": 2,
   "id": "ac3b96b9",
   "metadata": {},
   "outputs": [
    {
     "name": "stderr",
     "output_type": "stream",
     "text": [
      "\u001b[32m2025-05-03 17:15:38.010\u001b[0m | \u001b[1mINFO    \u001b[0m | \u001b[36mtravel_agent.retrieval.smolagents.tool\u001b[0m:\u001b[36m__init__\u001b[0m:\u001b[36m85\u001b[0m - \u001b[1mUsing device: mps\u001b[0m\n"
     ]
    }
   ],
   "source": [
    "def local_llm(model_name) -> LiteLLMModel:\n",
    "    return LiteLLMModel(\n",
    "        model_id=f\"ollama_chat/{model_name}\",\n",
    "        api_base=os.getenv(\"OLLAMA_URL\", \"http://127.0.0.1:11434\"),\n",
    "        num_ctx=8192,  # ollama default is 2048 which will fail horribly. 8192 works for easy tasks, more is better. Check https://huggingface.co/spaces/NyxKrage/LLM-Model-VRAM-Calculator to calculate how much VRAM this will need for the selected model.\n",
    "    )\n",
    "\n",
    "\n",
    "embed_model_name = \"intfloat/multilingual-e5-base\"\n",
    "collection_name = \"moskva_intfloat_multilingual_e5_base\"\n",
    "\n",
    "review_search_tool = TravelReviewQueryTool(embed_model_name, qdrant_client, collection_name)"
   ]
  },
  {
   "cell_type": "code",
   "execution_count": 3,
   "id": "2eb330d2",
   "metadata": {},
   "outputs": [
    {
     "data": {
      "text/html": [
       "<pre style=\"white-space:pre;overflow-x:auto;line-height:normal;font-family:Menlo,'DejaVu Sans Mono',consolas,'Courier New',monospace\"><span style=\"color: #d4b702; text-decoration-color: #d4b702\">╭──────────────────────────────────────────────────── </span><span style=\"color: #d4b702; text-decoration-color: #d4b702; font-weight: bold\">New run</span><span style=\"color: #d4b702; text-decoration-color: #d4b702\"> ────────────────────────────────────────────────────╮</span>\n",
       "<span style=\"color: #d4b702; text-decoration-color: #d4b702\">│</span>                                                                                                                 <span style=\"color: #d4b702; text-decoration-color: #d4b702\">│</span>\n",
       "<span style=\"color: #d4b702; text-decoration-color: #d4b702\">│</span> <span style=\"font-weight: bold\">Привет!</span>                                                                                                         <span style=\"color: #d4b702; text-decoration-color: #d4b702\">│</span>\n",
       "<span style=\"color: #d4b702; text-decoration-color: #d4b702\">│</span>                                                                                                                 <span style=\"color: #d4b702; text-decoration-color: #d4b702\">│</span>\n",
       "<span style=\"color: #d4b702; text-decoration-color: #d4b702\">╰─ LiteLLMModel - ollama_chat/hf.co/IlyaGusev/saiga_nemo_12b_gguf:Q4_0 ───────────────────────────────────────────╯</span>\n",
       "</pre>\n"
      ],
      "text/plain": [
       "\u001b[38;2;212;183;2m╭─\u001b[0m\u001b[38;2;212;183;2m───────────────────────────────────────────────────\u001b[0m\u001b[38;2;212;183;2m \u001b[0m\u001b[1;38;2;212;183;2mNew run\u001b[0m\u001b[38;2;212;183;2m \u001b[0m\u001b[38;2;212;183;2m───────────────────────────────────────────────────\u001b[0m\u001b[38;2;212;183;2m─╮\u001b[0m\n",
       "\u001b[38;2;212;183;2m│\u001b[0m                                                                                                                 \u001b[38;2;212;183;2m│\u001b[0m\n",
       "\u001b[38;2;212;183;2m│\u001b[0m \u001b[1mПривет!\u001b[0m                                                                                                         \u001b[38;2;212;183;2m│\u001b[0m\n",
       "\u001b[38;2;212;183;2m│\u001b[0m                                                                                                                 \u001b[38;2;212;183;2m│\u001b[0m\n",
       "\u001b[38;2;212;183;2m╰─\u001b[0m\u001b[38;2;212;183;2m LiteLLMModel - ollama_chat/hf.co/IlyaGusev/saiga_nemo_12b_gguf:Q4_0 \u001b[0m\u001b[38;2;212;183;2m──────────────────────────────────────────\u001b[0m\u001b[38;2;212;183;2m─╯\u001b[0m\n"
      ]
     },
     "metadata": {},
     "output_type": "display_data"
    },
    {
     "data": {
      "text/html": [
       "<pre style=\"white-space:pre;overflow-x:auto;line-height:normal;font-family:Menlo,'DejaVu Sans Mono',consolas,'Courier New',monospace\"><span style=\"color: #d4b702; text-decoration-color: #d4b702\">━━━━━━━━━━━━━━━━━━━━━━━━━━━━━━━━━━━━━━━━━━━━━━━━━━━━━ </span><span style=\"font-weight: bold\">Step </span><span style=\"color: #008080; text-decoration-color: #008080; font-weight: bold\">1</span><span style=\"color: #d4b702; text-decoration-color: #d4b702\"> ━━━━━━━━━━━━━━━━━━━━━━━━━━━━━━━━━━━━━━━━━━━━━━━━━━━━━━</span>\n",
       "</pre>\n"
      ],
      "text/plain": [
       "\u001b[38;2;212;183;2m━━━━━━━━━━━━━━━━━━━━━━━━━━━━━━━━━━━━━━━━━━━━━━━━━━━━━ \u001b[0m\u001b[1mStep \u001b[0m\u001b[1;36m1\u001b[0m\u001b[38;2;212;183;2m ━━━━━━━━━━━━━━━━━━━━━━━━━━━━━━━━━━━━━━━━━━━━━━━━━━━━━━\u001b[0m\n"
      ]
     },
     "metadata": {},
     "output_type": "display_data"
    },
    {
     "data": {
      "text/html": [
       "<pre style=\"white-space:pre;overflow-x:auto;line-height:normal;font-family:Menlo,'DejaVu Sans Mono',consolas,'Courier New',monospace\">╭─────────────────────────────────────────────────────────────────────────────────────────────────────────────────╮\n",
       "│ Calling tool: 'final_answer' with arguments: {'answer': 'Привет!'}                                              │\n",
       "╰─────────────────────────────────────────────────────────────────────────────────────────────────────────────────╯\n",
       "</pre>\n"
      ],
      "text/plain": [
       "╭─────────────────────────────────────────────────────────────────────────────────────────────────────────────────╮\n",
       "│ Calling tool: 'final_answer' with arguments: {'answer': 'Привет!'}                                              │\n",
       "╰─────────────────────────────────────────────────────────────────────────────────────────────────────────────────╯\n"
      ]
     },
     "metadata": {},
     "output_type": "display_data"
    },
    {
     "data": {
      "text/html": [
       "<pre style=\"white-space:pre;overflow-x:auto;line-height:normal;font-family:Menlo,'DejaVu Sans Mono',consolas,'Courier New',monospace\"><span style=\"color: #d4b702; text-decoration-color: #d4b702; font-weight: bold\">Final answer: Привет!</span>\n",
       "</pre>\n"
      ],
      "text/plain": [
       "\u001b[1;38;2;212;183;2mFinal answer: Привет!\u001b[0m\n"
      ]
     },
     "metadata": {},
     "output_type": "display_data"
    },
    {
     "data": {
      "text/html": [
       "<pre style=\"white-space:pre;overflow-x:auto;line-height:normal;font-family:Menlo,'DejaVu Sans Mono',consolas,'Courier New',monospace\"><span style=\"color: #7f7f7f; text-decoration-color: #7f7f7f\">[Step 1: Duration 5.05 seconds| Input tokens: 1,305 | Output tokens: 19]</span>\n",
       "</pre>\n"
      ],
      "text/plain": [
       "\u001b[2m[Step 1: Duration 5.05 seconds| Input tokens: 1,305 | Output tokens: 19]\u001b[0m\n"
      ]
     },
     "metadata": {},
     "output_type": "display_data"
    },
    {
     "data": {
      "text/plain": [
       "'Привет!'"
      ]
     },
     "execution_count": 3,
     "metadata": {},
     "output_type": "execute_result"
    }
   ],
   "source": [
    "saiga_agent = ToolCallingAgent(\n",
    "    tools=[review_search_tool],\n",
    "    model=local_llm(\"hf.co/IlyaGusev/saiga_nemo_12b_gguf:Q4_0\"),\n",
    "    max_steps=10,\n",
    ")\n",
    "saiga_agent.run(\"Привет!\")"
   ]
  },
  {
   "cell_type": "markdown",
   "id": "e8473ebf",
   "metadata": {},
   "source": [
    "## Set up [Phoenix](https://phoenix.arize.com/) framework to evaluate\n",
    "\n",
    "https://huggingface.co/blog/smolagents-phoenix"
   ]
  },
  {
   "cell_type": "code",
   "execution_count": 4,
   "id": "fff22a5e",
   "metadata": {},
   "outputs": [
    {
     "name": "stderr",
     "output_type": "stream",
     "text": [
      "Attempting to instrument while already instrumented\n"
     ]
    },
    {
     "name": "stdout",
     "output_type": "stream",
     "text": [
      "🔭 OpenTelemetry Tracing Details 🔭\n",
      "|  Phoenix Project: travel-agent-eval\n",
      "|  Span Processor: SimpleSpanProcessor\n",
      "|  Collector Endpoint: localhost:4317\n",
      "|  Transport: gRPC\n",
      "|  Transport Headers: {'user-agent': '****'}\n",
      "|  \n",
      "|  Using a default SpanProcessor. `add_span_processor` will overwrite this default.\n",
      "|  \n",
      "|  ⚠️ WARNING: It is strongly advised to use a BatchSpanProcessor in production environments.\n",
      "|  \n",
      "|  `register` has set this TracerProvider as the global OpenTelemetry default.\n",
      "|  To disable this behavior, call `register` with `set_global_tracer_provider=False`.\n",
      "\n"
     ]
    }
   ],
   "source": [
    "# run in background:\n",
    "#\n",
    "# uv run -m phoenix.server.main serve\n",
    "#\n",
    "# then run this\n",
    "\n",
    "\n",
    "project_name = \"travel-agent-eval\"\n",
    "\n",
    "tracer_provider = register(\n",
    "    project_name=project_name, auto_instrument=True\n",
    ")  # creates a tracer provider to capture OTEL traces\n",
    "SmolagentsInstrumentor().instrument(\n",
    "    tracer_provider=tracer_provider\n",
    ")  # automatically captures any smolagents calls as traces"
   ]
  },
  {
   "cell_type": "code",
   "execution_count": 5,
   "id": "a8bb56a5",
   "metadata": {},
   "outputs": [
    {
     "name": "stdout",
     "output_type": "stream",
     "text": [
      "(68, 2)\n"
     ]
    },
    {
     "data": {
      "text/html": [
       "<div>\n",
       "<style scoped>\n",
       "    .dataframe tbody tr th:only-of-type {\n",
       "        vertical-align: middle;\n",
       "    }\n",
       "\n",
       "    .dataframe tbody tr th {\n",
       "        vertical-align: top;\n",
       "    }\n",
       "\n",
       "    .dataframe thead th {\n",
       "        text-align: right;\n",
       "    }\n",
       "</style>\n",
       "<table border=\"1\" class=\"dataframe\">\n",
       "  <thead>\n",
       "    <tr style=\"text-align: right;\">\n",
       "      <th></th>\n",
       "      <th>question</th>\n",
       "      <th>expected_places</th>\n",
       "    </tr>\n",
       "  </thead>\n",
       "  <tbody>\n",
       "    <tr>\n",
       "      <th>0</th>\n",
       "      <td>Какие Ресторан ты знаешь?</td>\n",
       "      <td>['Massimo pizza', 'Killfish', 'Свежъ', 'Harat’...</td>\n",
       "    </tr>\n",
       "    <tr>\n",
       "      <th>1</th>\n",
       "      <td>Какие Кафе ты знаешь?</td>\n",
       "      <td>['Jinju', 'Massimo pizza', 'Killfish', 'Свежъ'...</td>\n",
       "    </tr>\n",
       "    <tr>\n",
       "      <th>2</th>\n",
       "      <td>Какие Салон красоты ты знаешь?</td>\n",
       "      <td>['Точка Красоты', 'It-girls', 'Всемкрасоты', '...</td>\n",
       "    </tr>\n",
       "    <tr>\n",
       "      <th>3</th>\n",
       "      <td>Какие Бар, паб ты знаешь?</td>\n",
       "      <td>['Killfish', 'Harat’s pub', 'Жаровня Парк Горь...</td>\n",
       "    </tr>\n",
       "    <tr>\n",
       "      <th>4</th>\n",
       "      <td>Какие Ногтевая студия ты знаешь?</td>\n",
       "      <td>['Libro Beauty', 'Точка Красоты', 'Beauty room...</td>\n",
       "    </tr>\n",
       "  </tbody>\n",
       "</table>\n",
       "</div>"
      ],
      "text/plain": [
       "                           question  \\\n",
       "0         Какие Ресторан ты знаешь?   \n",
       "1             Какие Кафе ты знаешь?   \n",
       "2    Какие Салон красоты ты знаешь?   \n",
       "3         Какие Бар, паб ты знаешь?   \n",
       "4  Какие Ногтевая студия ты знаешь?   \n",
       "\n",
       "                                     expected_places  \n",
       "0  ['Massimo pizza', 'Killfish', 'Свежъ', 'Harat’...  \n",
       "1  ['Jinju', 'Massimo pizza', 'Killfish', 'Свежъ'...  \n",
       "2  ['Точка Красоты', 'It-girls', 'Всемкрасоты', '...  \n",
       "3  ['Killfish', 'Harat’s pub', 'Жаровня Парк Горь...  \n",
       "4  ['Libro Beauty', 'Точка Красоты', 'Beauty room...  "
      ]
     },
     "execution_count": 5,
     "metadata": {},
     "output_type": "execute_result"
    }
   ],
   "source": [
    "questions = pd.read_csv(\"../data/questions/rag/moskva.csv\")\n",
    "\n",
    "print(questions.shape)\n",
    "\n",
    "questions.head()"
   ]
  },
  {
   "cell_type": "code",
   "execution_count": 6,
   "id": "d399c699",
   "metadata": {},
   "outputs": [
    {
     "name": "stderr",
     "output_type": "stream",
     "text": [
      "  0%|          | 0/68 [00:00<?, ?it/s]"
     ]
    },
    {
     "data": {
      "text/html": [
       "<pre style=\"white-space:pre;overflow-x:auto;line-height:normal;font-family:Menlo,'DejaVu Sans Mono',consolas,'Courier New',monospace\"><span style=\"color: #800000; text-decoration-color: #800000; font-weight: bold\">Error while generating or parsing output:</span>\n",
       "<span style=\"color: #800000; text-decoration-color: #800000; font-weight: bold\">Key </span><span style=\"color: #808000; text-decoration-color: #808000; font-weight: bold\">tool_name_key</span><span style=\"color: #800000; text-decoration-color: #800000; font-weight: bold\">=</span><span style=\"color: #008000; text-decoration-color: #008000\">'name'</span><span style=\"color: #800000; text-decoration-color: #800000; font-weight: bold\"> not found in the generated tool call. Got keys: [</span><span style=\"color: #008000; text-decoration-color: #008000\">'answer'</span><span style=\"color: #800000; text-decoration-color: #800000; font-weight: bold\">\\] instead</span>\n",
       "</pre>\n"
      ],
      "text/plain": [
       "\u001b[1;31mError while generating or parsing output:\u001b[0m\n",
       "\u001b[1;31mKey \u001b[0m\u001b[1;33mtool_name_key\u001b[0m\u001b[1;31m=\u001b[0m\u001b[32m'name'\u001b[0m\u001b[1;31m not found in the generated tool call. Got keys: \u001b[0m\u001b[1;31m[\u001b[0m\u001b[32m'answer'\u001b[0m\u001b[1;31m\\\u001b[0m\u001b[1;31m]\u001b[0m\u001b[1;31m instead\u001b[0m\n"
      ]
     },
     "metadata": {},
     "output_type": "display_data"
    },
    {
     "data": {
      "text/html": [
       "<pre style=\"white-space:pre;overflow-x:auto;line-height:normal;font-family:Menlo,'DejaVu Sans Mono',consolas,'Courier New',monospace\"><span style=\"color: #800000; text-decoration-color: #800000; font-weight: bold\">Error while generating or parsing output:</span>\n",
       "<span style=\"color: #800000; text-decoration-color: #800000; font-weight: bold\">Key </span><span style=\"color: #808000; text-decoration-color: #808000; font-weight: bold\">tool_name_key</span><span style=\"color: #800000; text-decoration-color: #800000; font-weight: bold\">=</span><span style=\"color: #008000; text-decoration-color: #008000\">'name'</span><span style=\"color: #800000; text-decoration-color: #800000; font-weight: bold\"> not found in the generated tool call. Got keys: [</span><span style=\"color: #008000; text-decoration-color: #008000\">'type'</span><span style=\"color: #800000; text-decoration-color: #800000; font-weight: bold\">, </span><span style=\"color: #008000; text-decoration-color: #008000\">'arguments'</span><span style=\"color: #800000; text-decoration-color: #800000; font-weight: bold\">\\] instead</span>\n",
       "</pre>\n"
      ],
      "text/plain": [
       "\u001b[1;31mError while generating or parsing output:\u001b[0m\n",
       "\u001b[1;31mKey \u001b[0m\u001b[1;33mtool_name_key\u001b[0m\u001b[1;31m=\u001b[0m\u001b[32m'name'\u001b[0m\u001b[1;31m not found in the generated tool call. Got keys: \u001b[0m\u001b[1;31m[\u001b[0m\u001b[32m'type'\u001b[0m\u001b[1;31m, \u001b[0m\u001b[32m'arguments'\u001b[0m\u001b[1;31m\\\u001b[0m\u001b[1;31m]\u001b[0m\u001b[1;31m instead\u001b[0m\n"
      ]
     },
     "metadata": {},
     "output_type": "display_data"
    },
    {
     "name": "stderr",
     "output_type": "stream",
     "text": [
      " 13%|█▎        | 9/68 [02:38<12:35, 12.81s/it]"
     ]
    },
    {
     "data": {
      "text/html": [
       "<pre style=\"white-space:pre;overflow-x:auto;line-height:normal;font-family:Menlo,'DejaVu Sans Mono',consolas,'Courier New',monospace\"><span style=\"color: #800000; text-decoration-color: #800000; font-weight: bold\">Error while generating or parsing output:</span>\n",
       "<span style=\"color: #800000; text-decoration-color: #800000; font-weight: bold\">Key </span><span style=\"color: #808000; text-decoration-color: #808000; font-weight: bold\">tool_name_key</span><span style=\"color: #800000; text-decoration-color: #800000; font-weight: bold\">=</span><span style=\"color: #008000; text-decoration-color: #008000\">'name'</span><span style=\"color: #800000; text-decoration-color: #800000; font-weight: bold\"> not found in the generated tool call. Got keys: [</span><span style=\"color: #008000; text-decoration-color: #008000\">'answer'</span><span style=\"color: #800000; text-decoration-color: #800000; font-weight: bold\">\\] instead</span>\n",
       "</pre>\n"
      ],
      "text/plain": [
       "\u001b[1;31mError while generating or parsing output:\u001b[0m\n",
       "\u001b[1;31mKey \u001b[0m\u001b[1;33mtool_name_key\u001b[0m\u001b[1;31m=\u001b[0m\u001b[32m'name'\u001b[0m\u001b[1;31m not found in the generated tool call. Got keys: \u001b[0m\u001b[1;31m[\u001b[0m\u001b[32m'answer'\u001b[0m\u001b[1;31m\\\u001b[0m\u001b[1;31m]\u001b[0m\u001b[1;31m instead\u001b[0m\n"
      ]
     },
     "metadata": {},
     "output_type": "display_data"
    },
    {
     "name": "stderr",
     "output_type": "stream",
     "text": [
      " 28%|██▊       | 19/68 [05:19<12:55, 15.84s/it]"
     ]
    },
    {
     "data": {
      "text/html": [
       "<pre style=\"white-space:pre;overflow-x:auto;line-height:normal;font-family:Menlo,'DejaVu Sans Mono',consolas,'Courier New',monospace\"><span style=\"color: #800000; text-decoration-color: #800000; font-weight: bold\">Error while generating or parsing output:</span>\n",
       "<span style=\"color: #800000; text-decoration-color: #800000; font-weight: bold\">Key </span><span style=\"color: #808000; text-decoration-color: #808000; font-weight: bold\">tool_name_key</span><span style=\"color: #800000; text-decoration-color: #800000; font-weight: bold\">=</span><span style=\"color: #008000; text-decoration-color: #008000\">'name'</span><span style=\"color: #800000; text-decoration-color: #800000; font-weight: bold\"> not found in the generated tool call. Got keys: [</span><span style=\"color: #008000; text-decoration-color: #008000\">'answer'</span><span style=\"color: #800000; text-decoration-color: #800000; font-weight: bold\">\\] instead</span>\n",
       "</pre>\n"
      ],
      "text/plain": [
       "\u001b[1;31mError while generating or parsing output:\u001b[0m\n",
       "\u001b[1;31mKey \u001b[0m\u001b[1;33mtool_name_key\u001b[0m\u001b[1;31m=\u001b[0m\u001b[32m'name'\u001b[0m\u001b[1;31m not found in the generated tool call. Got keys: \u001b[0m\u001b[1;31m[\u001b[0m\u001b[32m'answer'\u001b[0m\u001b[1;31m\\\u001b[0m\u001b[1;31m]\u001b[0m\u001b[1;31m instead\u001b[0m\n"
      ]
     },
     "metadata": {},
     "output_type": "display_data"
    },
    {
     "name": "stderr",
     "output_type": "stream",
     "text": [
      " 57%|█████▋    | 39/68 [10:01<07:04, 14.65s/it]"
     ]
    },
    {
     "data": {
      "text/html": [
       "<pre style=\"white-space:pre;overflow-x:auto;line-height:normal;font-family:Menlo,'DejaVu Sans Mono',consolas,'Courier New',monospace\"><span style=\"color: #800000; text-decoration-color: #800000; font-weight: bold\">Error while generating or parsing output:</span>\n",
       "<span style=\"color: #800000; text-decoration-color: #800000; font-weight: bold\">Key </span><span style=\"color: #808000; text-decoration-color: #808000; font-weight: bold\">tool_name_key</span><span style=\"color: #800000; text-decoration-color: #800000; font-weight: bold\">=</span><span style=\"color: #008000; text-decoration-color: #008000\">'name'</span><span style=\"color: #800000; text-decoration-color: #800000; font-weight: bold\"> not found in the generated tool call. Got keys: [</span><span style=\"color: #008000; text-decoration-color: #008000\">'answer'</span><span style=\"color: #800000; text-decoration-color: #800000; font-weight: bold\">\\] instead</span>\n",
       "</pre>\n"
      ],
      "text/plain": [
       "\u001b[1;31mError while generating or parsing output:\u001b[0m\n",
       "\u001b[1;31mKey \u001b[0m\u001b[1;33mtool_name_key\u001b[0m\u001b[1;31m=\u001b[0m\u001b[32m'name'\u001b[0m\u001b[1;31m not found in the generated tool call. Got keys: \u001b[0m\u001b[1;31m[\u001b[0m\u001b[32m'answer'\u001b[0m\u001b[1;31m\\\u001b[0m\u001b[1;31m]\u001b[0m\u001b[1;31m instead\u001b[0m\n"
      ]
     },
     "metadata": {},
     "output_type": "display_data"
    },
    {
     "name": "stderr",
     "output_type": "stream",
     "text": [
      " 66%|██████▌   | 45/68 [12:39<07:57, 20.77s/it]"
     ]
    },
    {
     "data": {
      "text/html": [
       "<pre style=\"white-space:pre;overflow-x:auto;line-height:normal;font-family:Menlo,'DejaVu Sans Mono',consolas,'Courier New',monospace\"><span style=\"color: #800000; text-decoration-color: #800000; font-weight: bold\">Error while generating or parsing output:</span>\n",
       "<span style=\"color: #800000; text-decoration-color: #800000; font-weight: bold\">Key </span><span style=\"color: #808000; text-decoration-color: #808000; font-weight: bold\">tool_name_key</span><span style=\"color: #800000; text-decoration-color: #800000; font-weight: bold\">=</span><span style=\"color: #008000; text-decoration-color: #008000\">'name'</span><span style=\"color: #800000; text-decoration-color: #800000; font-weight: bold\"> not found in the generated tool call. Got keys: [</span><span style=\"color: #008000; text-decoration-color: #008000\">'answer'</span><span style=\"color: #800000; text-decoration-color: #800000; font-weight: bold\">\\] instead</span>\n",
       "</pre>\n"
      ],
      "text/plain": [
       "\u001b[1;31mError while generating or parsing output:\u001b[0m\n",
       "\u001b[1;31mKey \u001b[0m\u001b[1;33mtool_name_key\u001b[0m\u001b[1;31m=\u001b[0m\u001b[32m'name'\u001b[0m\u001b[1;31m not found in the generated tool call. Got keys: \u001b[0m\u001b[1;31m[\u001b[0m\u001b[32m'answer'\u001b[0m\u001b[1;31m\\\u001b[0m\u001b[1;31m]\u001b[0m\u001b[1;31m instead\u001b[0m\n"
      ]
     },
     "metadata": {},
     "output_type": "display_data"
    },
    {
     "name": "stderr",
     "output_type": "stream",
     "text": [
      " 68%|██████▊   | 46/68 [13:33<11:14, 30.66s/it]"
     ]
    },
    {
     "data": {
      "text/html": [
       "<pre style=\"white-space:pre;overflow-x:auto;line-height:normal;font-family:Menlo,'DejaVu Sans Mono',consolas,'Courier New',monospace\"><span style=\"color: #800000; text-decoration-color: #800000; font-weight: bold\">Error while generating or parsing output:</span>\n",
       "<span style=\"color: #800000; text-decoration-color: #800000; font-weight: bold\">Key </span><span style=\"color: #808000; text-decoration-color: #808000; font-weight: bold\">tool_name_key</span><span style=\"color: #800000; text-decoration-color: #800000; font-weight: bold\">=</span><span style=\"color: #008000; text-decoration-color: #008000\">'name'</span><span style=\"color: #800000; text-decoration-color: #800000; font-weight: bold\"> not found in the generated tool call. Got keys: [</span><span style=\"color: #008000; text-decoration-color: #008000\">' name'</span><span style=\"color: #800000; text-decoration-color: #800000; font-weight: bold\">, </span><span style=\"color: #008000; text-decoration-color: #008000\">'arguments'</span><span style=\"color: #800000; text-decoration-color: #800000; font-weight: bold\">\\] instead</span>\n",
       "</pre>\n"
      ],
      "text/plain": [
       "\u001b[1;31mError while generating or parsing output:\u001b[0m\n",
       "\u001b[1;31mKey \u001b[0m\u001b[1;33mtool_name_key\u001b[0m\u001b[1;31m=\u001b[0m\u001b[32m'name'\u001b[0m\u001b[1;31m not found in the generated tool call. Got keys: \u001b[0m\u001b[1;31m[\u001b[0m\u001b[32m' name'\u001b[0m\u001b[1;31m, \u001b[0m\u001b[32m'arguments'\u001b[0m\u001b[1;31m\\\u001b[0m\u001b[1;31m]\u001b[0m\u001b[1;31m instead\u001b[0m\n"
      ]
     },
     "metadata": {},
     "output_type": "display_data"
    },
    {
     "name": "stderr",
     "output_type": "stream",
     "text": [
      " 94%|█████████▍| 64/68 [19:21<01:01, 15.30s/it]"
     ]
    },
    {
     "data": {
      "text/html": [
       "<pre style=\"white-space:pre;overflow-x:auto;line-height:normal;font-family:Menlo,'DejaVu Sans Mono',consolas,'Courier New',monospace\"><span style=\"color: #800000; text-decoration-color: #800000; font-weight: bold\">Error while generating or parsing output:</span>\n",
       "<span style=\"color: #800000; text-decoration-color: #800000; font-weight: bold\">Key </span><span style=\"color: #808000; text-decoration-color: #808000; font-weight: bold\">tool_name_key</span><span style=\"color: #800000; text-decoration-color: #800000; font-weight: bold\">=</span><span style=\"color: #008000; text-decoration-color: #008000\">'name'</span><span style=\"color: #800000; text-decoration-color: #800000; font-weight: bold\"> not found in the generated tool call. Got keys: [</span><span style=\"color: #008000; text-decoration-color: #008000\">'answer'</span><span style=\"color: #800000; text-decoration-color: #800000; font-weight: bold\">\\] instead</span>\n",
       "</pre>\n"
      ],
      "text/plain": [
       "\u001b[1;31mError while generating or parsing output:\u001b[0m\n",
       "\u001b[1;31mKey \u001b[0m\u001b[1;33mtool_name_key\u001b[0m\u001b[1;31m=\u001b[0m\u001b[32m'name'\u001b[0m\u001b[1;31m not found in the generated tool call. Got keys: \u001b[0m\u001b[1;31m[\u001b[0m\u001b[32m'answer'\u001b[0m\u001b[1;31m\\\u001b[0m\u001b[1;31m]\u001b[0m\u001b[1;31m instead\u001b[0m\n"
      ]
     },
     "metadata": {},
     "output_type": "display_data"
    },
    {
     "name": "stderr",
     "output_type": "stream",
     "text": [
      "100%|██████████| 68/68 [20:55<00:00, 18.46s/it]\n"
     ]
    }
   ],
   "source": [
    "# Eval stage\n",
    "\n",
    "\n",
    "saiga_agent = ToolCallingAgent(\n",
    "    tools=[review_search_tool],\n",
    "    model=local_llm(\"hf.co/IlyaGusev/saiga_nemo_12b_gguf:Q4_0\"),\n",
    "    max_steps=10,\n",
    "    verbosity_level=0,  # only errors\n",
    ")\n",
    "\n",
    "with using_project(\"saiga-nemo-12b-Q4\"):\n",
    "    for q in tqdm(questions[\"question\"].tolist()):\n",
    "        saiga_agent.run(q)"
   ]
  },
  {
   "cell_type": "code",
   "execution_count": 11,
   "id": "2dce66dd",
   "metadata": {},
   "outputs": [
    {
     "data": {
      "text/html": [
       "<div>\n",
       "<style scoped>\n",
       "    .dataframe tbody tr th:only-of-type {\n",
       "        vertical-align: middle;\n",
       "    }\n",
       "\n",
       "    .dataframe tbody tr th {\n",
       "        vertical-align: top;\n",
       "    }\n",
       "\n",
       "    .dataframe thead th {\n",
       "        text-align: right;\n",
       "    }\n",
       "</style>\n",
       "<table border=\"1\" class=\"dataframe\">\n",
       "  <thead>\n",
       "    <tr style=\"text-align: right;\">\n",
       "      <th></th>\n",
       "      <th>input</th>\n",
       "      <th>reference</th>\n",
       "    </tr>\n",
       "    <tr>\n",
       "      <th>context.span_id</th>\n",
       "      <th></th>\n",
       "      <th></th>\n",
       "    </tr>\n",
       "  </thead>\n",
       "  <tbody>\n",
       "    <tr>\n",
       "      <th>837116cabe3dd0ca</th>\n",
       "      <td>{\"args\": [], \"sanitize_inputs_outputs\": true, ...</td>\n",
       "      <td>Найденные отзывы о местах:\\n\\n=== Отзыв на Гор...</td>\n",
       "    </tr>\n",
       "    <tr>\n",
       "      <th>f2deae28f161304e</th>\n",
       "      <td>{\"args\": [], \"sanitize_inputs_outputs\": true, ...</td>\n",
       "      <td>Найденные отзывы о местах:\\n\\n=== Отзыв на Ост...</td>\n",
       "    </tr>\n",
       "    <tr>\n",
       "      <th>4e3f8a03092c6a19</th>\n",
       "      <td>{\"args\": [], \"sanitize_inputs_outputs\": true, ...</td>\n",
       "      <td>Найденные отзывы о местах:\\n\\n=== Отзыв на Why...</td>\n",
       "    </tr>\n",
       "    <tr>\n",
       "      <th>f54ece270a615a09</th>\n",
       "      <td>{\"args\": [], \"sanitize_inputs_outputs\": true, ...</td>\n",
       "      <td>Найденные отзывы о местах:\\n\\n=== Отзыв на Pip...</td>\n",
       "    </tr>\n",
       "    <tr>\n",
       "      <th>9aabf701b66820ce</th>\n",
       "      <td>{\"args\": [], \"sanitize_inputs_outputs\": true, ...</td>\n",
       "      <td>Найденные отзывы о местах:\\n\\n=== Отзыв на Пал...</td>\n",
       "    </tr>\n",
       "  </tbody>\n",
       "</table>\n",
       "</div>"
      ],
      "text/plain": [
       "                                                              input  \\\n",
       "context.span_id                                                       \n",
       "837116cabe3dd0ca  {\"args\": [], \"sanitize_inputs_outputs\": true, ...   \n",
       "f2deae28f161304e  {\"args\": [], \"sanitize_inputs_outputs\": true, ...   \n",
       "4e3f8a03092c6a19  {\"args\": [], \"sanitize_inputs_outputs\": true, ...   \n",
       "f54ece270a615a09  {\"args\": [], \"sanitize_inputs_outputs\": true, ...   \n",
       "9aabf701b66820ce  {\"args\": [], \"sanitize_inputs_outputs\": true, ...   \n",
       "\n",
       "                                                          reference  \n",
       "context.span_id                                                      \n",
       "837116cabe3dd0ca  Найденные отзывы о местах:\\n\\n=== Отзыв на Гор...  \n",
       "f2deae28f161304e  Найденные отзывы о местах:\\n\\n=== Отзыв на Ост...  \n",
       "4e3f8a03092c6a19  Найденные отзывы о местах:\\n\\n=== Отзыв на Why...  \n",
       "f54ece270a615a09  Найденные отзывы о местах:\\n\\n=== Отзыв на Pip...  \n",
       "9aabf701b66820ce  Найденные отзывы о местах:\\n\\n=== Отзыв на Пал...  "
      ]
     },
     "execution_count": 11,
     "metadata": {},
     "output_type": "execute_result"
    }
   ],
   "source": [
    "tool_spans = px.Client().query_spans(\n",
    "    SpanQuery().where(\"name == 'TravelReviewQueryTool'\").select(input=\"input.value\", reference=\"output.value\"),\n",
    "    project_name=\"saiga-nemo-12b-Q4\",\n",
    ")\n",
    "tool_spans.head()"
   ]
  },
  {
   "cell_type": "code",
   "execution_count": 12,
   "id": "d83f565e",
   "metadata": {},
   "outputs": [
    {
     "name": "stdout",
     "output_type": "stream",
     "text": [
      "Called tool: 55 of 68\n",
      "Tool calling rate: 80.88%\n"
     ]
    }
   ],
   "source": [
    "print(f\"Called tool: {tool_spans.shape[0]} of {questions.shape[0]}\")\n",
    "print(f\"Tool calling rate: {tool_spans.shape[0] / questions.shape[0]:.2%}\")"
   ]
  },
  {
   "cell_type": "code",
   "execution_count": 13,
   "id": "7592399f",
   "metadata": {},
   "outputs": [
    {
     "name": "stdout",
     "output_type": "stream",
     "text": [
      "\n",
      "You are comparing a reference text to a question and trying to determine if the reference text\n",
      "contains information relevant to answering the question. Here is the data:\n",
      "    [BEGIN DATA]\n",
      "    ************\n",
      "    [Question]: {input}\n",
      "    ************\n",
      "    [Reference text]: {reference}\n",
      "    ************\n",
      "    [END DATA]\n",
      "Compare the Question above to the Reference text. You must determine whether the Reference text\n",
      "contains information that can answer the Question. Please focus on whether the very specific\n",
      "question can be answered by the information in the Reference text.\n",
      "Your response must be single word, either \"relevant\" or \"unrelated\",\n",
      "and should not contain any text or characters aside from that word.\n",
      "\"unrelated\" means that the reference text does not contain an answer to the Question.\n",
      "\"relevant\" means the reference text contains an answer to the Question.\n"
     ]
    }
   ],
   "source": [
    "print(RAG_RELEVANCY_PROMPT_TEMPLATE)"
   ]
  },
  {
   "cell_type": "code",
   "execution_count": 15,
   "id": "b2cad160",
   "metadata": {},
   "outputs": [
    {
     "name": "stderr",
     "output_type": "stream",
     "text": [
      "/var/folders/hy/9y5wfvks4m55vpklg49y7g0r0000gn/T/ipykernel_25832/1142635796.py:3: DeprecationWarning: `dataframe` argument is deprecated; use `data` instead\n",
      "  eval_results = llm_classify(\n"
     ]
    },
    {
     "data": {
      "application/vnd.jupyter.widget-view+json": {
       "model_id": "5f920942eea04c7e8823d9e1bfdb9bff",
       "version_major": 2,
       "version_minor": 0
      },
      "text/plain": [
       "llm_classify |          | 0/55 (0.0%) | ⏳ 00:00<? | ?it/s"
      ]
     },
     "metadata": {},
     "output_type": "display_data"
    },
    {
     "data": {
      "text/html": [
       "<div>\n",
       "<style scoped>\n",
       "    .dataframe tbody tr th:only-of-type {\n",
       "        vertical-align: middle;\n",
       "    }\n",
       "\n",
       "    .dataframe tbody tr th {\n",
       "        vertical-align: top;\n",
       "    }\n",
       "\n",
       "    .dataframe thead th {\n",
       "        text-align: right;\n",
       "    }\n",
       "</style>\n",
       "<table border=\"1\" class=\"dataframe\">\n",
       "  <thead>\n",
       "    <tr style=\"text-align: right;\">\n",
       "      <th></th>\n",
       "      <th>label</th>\n",
       "      <th>explanation</th>\n",
       "      <th>exceptions</th>\n",
       "      <th>execution_status</th>\n",
       "      <th>execution_seconds</th>\n",
       "      <th>score</th>\n",
       "    </tr>\n",
       "    <tr>\n",
       "      <th>context.span_id</th>\n",
       "      <th></th>\n",
       "      <th></th>\n",
       "      <th></th>\n",
       "      <th></th>\n",
       "      <th></th>\n",
       "      <th></th>\n",
       "    </tr>\n",
       "  </thead>\n",
       "  <tbody>\n",
       "    <tr>\n",
       "      <th>837116cabe3dd0ca</th>\n",
       "      <td>relevant</td>\n",
       "      <td>The question asks for recommendations for good...</td>\n",
       "      <td>[]</td>\n",
       "      <td>COMPLETED</td>\n",
       "      <td>1.851625</td>\n",
       "      <td>1</td>\n",
       "    </tr>\n",
       "    <tr>\n",
       "      <th>f2deae28f161304e</th>\n",
       "      <td>relevant</td>\n",
       "      <td>The question asks for recommendations for good...</td>\n",
       "      <td>[]</td>\n",
       "      <td>COMPLETED</td>\n",
       "      <td>1.830930</td>\n",
       "      <td>1</td>\n",
       "    </tr>\n",
       "    <tr>\n",
       "      <th>4e3f8a03092c6a19</th>\n",
       "      <td>relevant</td>\n",
       "      <td>The question asks for recommended beauty salon...</td>\n",
       "      <td>[]</td>\n",
       "      <td>COMPLETED</td>\n",
       "      <td>1.674702</td>\n",
       "      <td>1</td>\n",
       "    </tr>\n",
       "    <tr>\n",
       "      <th>f54ece270a615a09</th>\n",
       "      <td>relevant</td>\n",
       "      <td>The question asks for recommendations for popu...</td>\n",
       "      <td>[]</td>\n",
       "      <td>COMPLETED</td>\n",
       "      <td>1.977469</td>\n",
       "      <td>1</td>\n",
       "    </tr>\n",
       "    <tr>\n",
       "      <th>9aabf701b66820ce</th>\n",
       "      <td>relevant</td>\n",
       "      <td>The question asks for recommendations for a go...</td>\n",
       "      <td>[]</td>\n",
       "      <td>COMPLETED</td>\n",
       "      <td>2.159290</td>\n",
       "      <td>1</td>\n",
       "    </tr>\n",
       "  </tbody>\n",
       "</table>\n",
       "</div>"
      ],
      "text/plain": [
       "                     label                                        explanation  \\\n",
       "context.span_id                                                                 \n",
       "837116cabe3dd0ca  relevant  The question asks for recommendations for good...   \n",
       "f2deae28f161304e  relevant  The question asks for recommendations for good...   \n",
       "4e3f8a03092c6a19  relevant  The question asks for recommended beauty salon...   \n",
       "f54ece270a615a09  relevant  The question asks for recommendations for popu...   \n",
       "9aabf701b66820ce  relevant  The question asks for recommendations for a go...   \n",
       "\n",
       "                 exceptions execution_status  execution_seconds  score  \n",
       "context.span_id                                                         \n",
       "837116cabe3dd0ca         []        COMPLETED           1.851625      1  \n",
       "f2deae28f161304e         []        COMPLETED           1.830930      1  \n",
       "4e3f8a03092c6a19         []        COMPLETED           1.674702      1  \n",
       "f54ece270a615a09         []        COMPLETED           1.977469      1  \n",
       "9aabf701b66820ce         []        COMPLETED           2.159290      1  "
      ]
     },
     "execution_count": 15,
     "metadata": {},
     "output_type": "execute_result"
    }
   ],
   "source": [
    "eval_model = GeminiModel(model=\"gemini-2.0-flash-lite-001\", project=659002550737)\n",
    "\n",
    "eval_results = llm_classify(\n",
    "    dataframe=tool_spans,\n",
    "    model=eval_model,\n",
    "    template=RAG_RELEVANCY_PROMPT_TEMPLATE,\n",
    "    rails=list(RAG_RELEVANCY_PROMPT_RAILS_MAP.values()),\n",
    "    provide_explanation=True,\n",
    ")\n",
    "eval_results[\"score\"] = eval_results[\"explanation\"].apply(lambda x: 1 if \"relevant\" in x else 0)\n",
    "eval_results.head()"
   ]
  },
  {
   "cell_type": "code",
   "execution_count": 16,
   "id": "d7445471",
   "metadata": {},
   "outputs": [],
   "source": [
    "px.Client().log_evaluations(SpanEvaluations(eval_name=\"TravelReviewQueryTool Relevancy\", dataframe=eval_results))"
   ]
  },
  {
   "cell_type": "code",
   "execution_count": 17,
   "id": "4814afb8",
   "metadata": {},
   "outputs": [
    {
     "data": {
      "text/plain": [
       "[SpanEvaluations(eval_name='TravelReviewQueryTool Relevancy', id=UUID('1a45b327-e3a8-41d3-b327-4f89270016a1'))]"
      ]
     },
     "execution_count": 17,
     "metadata": {},
     "output_type": "execute_result"
    }
   ],
   "source": [
    "px.Client().get_evaluations(project_name=\"saiga-nemo-12b-Q4\")"
   ]
  },
  {
   "cell_type": "code",
   "execution_count": 20,
   "id": "9cfdf6c4",
   "metadata": {},
   "outputs": [
    {
     "name": "stdout",
     "output_type": "stream",
     "text": [
      "Total mean score: 0.9636\n",
      "Total median score: 1.0000\n"
     ]
    },
    {
     "data": {
      "text/plain": [
       "<Axes: xlabel='score'>"
      ]
     },
     "execution_count": 20,
     "metadata": {},
     "output_type": "execute_result"
    },
    {
     "data": {
      "image/png": "[encoded data removed]",
      "text/plain": [
       "<Figure size 640x480 with 1 Axes>"
      ]
     },
     "metadata": {},
     "output_type": "display_data"
    }
   ],
   "source": [
    "print(f\"Total mean score: {eval_results.score.mean():.4f}\")\n",
    "print(f\"Total median score: {eval_results.score.median():.4f}\")\n",
    "\n",
    "eval_results.score.value_counts().plot.bar()"
   ]
  },
  {
   "cell_type": "code",
   "execution_count": 67,
   "id": "4a752741",
   "metadata": {},
   "outputs": [
    {
     "data": {
      "text/html": [
       "<div>\n",
       "<style scoped>\n",
       "    .dataframe tbody tr th:only-of-type {\n",
       "        vertical-align: middle;\n",
       "    }\n",
       "\n",
       "    .dataframe tbody tr th {\n",
       "        vertical-align: top;\n",
       "    }\n",
       "\n",
       "    .dataframe thead th {\n",
       "        text-align: right;\n",
       "    }\n",
       "</style>\n",
       "<table border=\"1\" class=\"dataframe\">\n",
       "  <thead>\n",
       "    <tr style=\"text-align: right;\">\n",
       "      <th></th>\n",
       "      <th>input</th>\n",
       "      <th>output</th>\n",
       "    </tr>\n",
       "    <tr>\n",
       "      <th>context.span_id</th>\n",
       "      <th></th>\n",
       "      <th></th>\n",
       "    </tr>\n",
       "  </thead>\n",
       "  <tbody>\n",
       "    <tr>\n",
       "      <th>f759113e5a377adc</th>\n",
       "      <td>{\"messages\": [{\"role\": \"system\", \"content\": [{...</td>\n",
       "      <td>{\"role\": \"assistant\", \"content\": \"{\\n  \\\"name\\...</td>\n",
       "    </tr>\n",
       "    <tr>\n",
       "      <th>0c97b12113b6697a</th>\n",
       "      <td>{\"messages\": [{\"role\": \"system\", \"content\": [{...</td>\n",
       "      <td>{\"role\": \"assistant\", \"content\": \"{\\n  \\\"name\\...</td>\n",
       "    </tr>\n",
       "    <tr>\n",
       "      <th>658152697f4f1138</th>\n",
       "      <td>{\"messages\": [{\"role\": \"system\", \"content\": [{...</td>\n",
       "      <td>{\"role\": \"assistant\", \"content\": \"{\\n\\\"name\\\":...</td>\n",
       "    </tr>\n",
       "    <tr>\n",
       "      <th>7405ef8dee9896a5</th>\n",
       "      <td>{\"messages\": [{\"role\": \"system\", \"content\": [{...</td>\n",
       "      <td>{\"role\": \"assistant\", \"content\": \"{\\n\\\"name\\\":...</td>\n",
       "    </tr>\n",
       "    <tr>\n",
       "      <th>3191757b13dcfa3d</th>\n",
       "      <td>{\"messages\": [{\"role\": \"system\", \"content\": [{...</td>\n",
       "      <td>{\"role\": \"assistant\", \"content\": \"{\\n  \\\"name\\...</td>\n",
       "    </tr>\n",
       "  </tbody>\n",
       "</table>\n",
       "</div>"
      ],
      "text/plain": [
       "                                                              input  \\\n",
       "context.span_id                                                       \n",
       "f759113e5a377adc  {\"messages\": [{\"role\": \"system\", \"content\": [{...   \n",
       "0c97b12113b6697a  {\"messages\": [{\"role\": \"system\", \"content\": [{...   \n",
       "658152697f4f1138  {\"messages\": [{\"role\": \"system\", \"content\": [{...   \n",
       "7405ef8dee9896a5  {\"messages\": [{\"role\": \"system\", \"content\": [{...   \n",
       "3191757b13dcfa3d  {\"messages\": [{\"role\": \"system\", \"content\": [{...   \n",
       "\n",
       "                                                             output  \n",
       "context.span_id                                                      \n",
       "f759113e5a377adc  {\"role\": \"assistant\", \"content\": \"{\\n  \\\"name\\...  \n",
       "0c97b12113b6697a  {\"role\": \"assistant\", \"content\": \"{\\n  \\\"name\\...  \n",
       "658152697f4f1138  {\"role\": \"assistant\", \"content\": \"{\\n\\\"name\\\":...  \n",
       "7405ef8dee9896a5  {\"role\": \"assistant\", \"content\": \"{\\n\\\"name\\\":...  \n",
       "3191757b13dcfa3d  {\"role\": \"assistant\", \"content\": \"{\\n  \\\"name\\...  "
      ]
     },
     "execution_count": 67,
     "metadata": {},
     "output_type": "execute_result"
    }
   ],
   "source": [
    "tool_spans = px.Client().query_spans(\n",
    "    SpanQuery()\n",
    "    .where(\"span_kind == 'LLM'and status_code == 'OK' and 'final_answer' in llm.output_messages\")\n",
    "    .select(\n",
    "        input=\"input.value\",\n",
    "        output=\"output.value\",\n",
    "    ),\n",
    "    project_name=\"saiga-nemo-12b-Q4\",\n",
    ")\n",
    "tool_spans.head()"
   ]
  },
  {
   "cell_type": "code",
   "execution_count": 85,
   "id": "974e3ccb",
   "metadata": {},
   "outputs": [
    {
     "name": "stdout",
     "output_type": "stream",
     "text": [
      "(55, 3)\n"
     ]
    },
    {
     "data": {
      "text/html": [
       "<div>\n",
       "<style scoped>\n",
       "    .dataframe tbody tr th:only-of-type {\n",
       "        vertical-align: middle;\n",
       "    }\n",
       "\n",
       "    .dataframe tbody tr th {\n",
       "        vertical-align: top;\n",
       "    }\n",
       "\n",
       "    .dataframe thead th {\n",
       "        text-align: right;\n",
       "    }\n",
       "</style>\n",
       "<table border=\"1\" class=\"dataframe\">\n",
       "  <thead>\n",
       "    <tr style=\"text-align: right;\">\n",
       "      <th></th>\n",
       "      <th>input</th>\n",
       "      <th>output</th>\n",
       "      <th>reference</th>\n",
       "    </tr>\n",
       "    <tr>\n",
       "      <th>context.span_id</th>\n",
       "      <th></th>\n",
       "      <th></th>\n",
       "      <th></th>\n",
       "    </tr>\n",
       "  </thead>\n",
       "  <tbody>\n",
       "    <tr>\n",
       "      <th>f759113e5a377adc</th>\n",
       "      <td>{\"messages\": [{\"role\": \"system\", \"content\": [{...</td>\n",
       "      <td>{\"role\": \"assistant\", \"content\": \"{\\n  \\\"name\\...</td>\n",
       "      <td>Observation:\\nНайденные отзывы о местах:\\n\\n==...</td>\n",
       "    </tr>\n",
       "    <tr>\n",
       "      <th>0c97b12113b6697a</th>\n",
       "      <td>{\"messages\": [{\"role\": \"system\", \"content\": [{...</td>\n",
       "      <td>{\"role\": \"assistant\", \"content\": \"{\\n  \\\"name\\...</td>\n",
       "      <td>Observation:\\nНайденные отзывы о местах:\\n\\n==...</td>\n",
       "    </tr>\n",
       "    <tr>\n",
       "      <th>658152697f4f1138</th>\n",
       "      <td>{\"messages\": [{\"role\": \"system\", \"content\": [{...</td>\n",
       "      <td>{\"role\": \"assistant\", \"content\": \"{\\n\\\"name\\\":...</td>\n",
       "      <td>Observation:\\nНайденные отзывы о местах:\\n\\n==...</td>\n",
       "    </tr>\n",
       "    <tr>\n",
       "      <th>7405ef8dee9896a5</th>\n",
       "      <td>{\"messages\": [{\"role\": \"system\", \"content\": [{...</td>\n",
       "      <td>{\"role\": \"assistant\", \"content\": \"{\\n\\\"name\\\":...</td>\n",
       "      <td>Observation:\\nНайденные отзывы о местах:\\n\\n==...</td>\n",
       "    </tr>\n",
       "    <tr>\n",
       "      <th>3191757b13dcfa3d</th>\n",
       "      <td>{\"messages\": [{\"role\": \"system\", \"content\": [{...</td>\n",
       "      <td>{\"role\": \"assistant\", \"content\": \"{\\n  \\\"name\\...</td>\n",
       "      <td>Observation:\\nНайденные отзывы о местах:\\n\\n==...</td>\n",
       "    </tr>\n",
       "  </tbody>\n",
       "</table>\n",
       "</div>"
      ],
      "text/plain": [
       "                                                              input  \\\n",
       "context.span_id                                                       \n",
       "f759113e5a377adc  {\"messages\": [{\"role\": \"system\", \"content\": [{...   \n",
       "0c97b12113b6697a  {\"messages\": [{\"role\": \"system\", \"content\": [{...   \n",
       "658152697f4f1138  {\"messages\": [{\"role\": \"system\", \"content\": [{...   \n",
       "7405ef8dee9896a5  {\"messages\": [{\"role\": \"system\", \"content\": [{...   \n",
       "3191757b13dcfa3d  {\"messages\": [{\"role\": \"system\", \"content\": [{...   \n",
       "\n",
       "                                                             output  \\\n",
       "context.span_id                                                       \n",
       "f759113e5a377adc  {\"role\": \"assistant\", \"content\": \"{\\n  \\\"name\\...   \n",
       "0c97b12113b6697a  {\"role\": \"assistant\", \"content\": \"{\\n  \\\"name\\...   \n",
       "658152697f4f1138  {\"role\": \"assistant\", \"content\": \"{\\n\\\"name\\\":...   \n",
       "7405ef8dee9896a5  {\"role\": \"assistant\", \"content\": \"{\\n\\\"name\\\":...   \n",
       "3191757b13dcfa3d  {\"role\": \"assistant\", \"content\": \"{\\n  \\\"name\\...   \n",
       "\n",
       "                                                          reference  \n",
       "context.span_id                                                      \n",
       "f759113e5a377adc  Observation:\\nНайденные отзывы о местах:\\n\\n==...  \n",
       "0c97b12113b6697a  Observation:\\nНайденные отзывы о местах:\\n\\n==...  \n",
       "658152697f4f1138  Observation:\\nНайденные отзывы о местах:\\n\\n==...  \n",
       "7405ef8dee9896a5  Observation:\\nНайденные отзывы о местах:\\n\\n==...  \n",
       "3191757b13dcfa3d  Observation:\\nНайденные отзывы о местах:\\n\\n==...  "
      ]
     },
     "execution_count": 85,
     "metadata": {},
     "output_type": "execute_result"
    }
   ],
   "source": [
    "tool_spans[\"reference\"] = tool_spans[\"input\"].apply(\n",
    "    lambda x: json.loads(x)[\"messages\"][4][\"content\"][0][\"text\"] if len(json.loads(x)[\"messages\"]) > 4 else None\n",
    ")\n",
    "tool_spans.dropna(inplace=True)\n",
    "\n",
    "print(tool_spans.shape)\n",
    "tool_spans.head()"
   ]
  },
  {
   "cell_type": "code",
   "execution_count": 86,
   "id": "41d4d944",
   "metadata": {},
   "outputs": [
    {
     "name": "stderr",
     "output_type": "stream",
     "text": [
      "/var/folders/hy/9y5wfvks4m55vpklg49y7g0r0000gn/T/ipykernel_25832/3216851784.py:6: DeprecationWarning: `dataframe` argument is deprecated; use `data` instead\n",
      "  hallucination_classifications = llm_classify(\n"
     ]
    },
    {
     "data": {
      "application/vnd.jupyter.widget-view+json": {
       "model_id": "27068ca4570243f8bb31d7f05799af23",
       "version_major": 2,
       "version_minor": 0
      },
      "text/plain": [
       "llm_classify |          | 0/55 (0.0%) | ⏳ 00:00<? | ?it/s"
      ]
     },
     "metadata": {},
     "output_type": "display_data"
    }
   ],
   "source": [
    "hallucination_classifications = llm_classify(\n",
    "    dataframe=tool_spans,\n",
    "    template=HALLUCINATION_PROMPT_TEMPLATE,\n",
    "    model=eval_model,\n",
    "    rails=list(HALLUCINATION_PROMPT_RAILS_MAP.values()),\n",
    "    provide_explanation=True,  # optional to generate explanations for the value produced by the eval LLM\n",
    ")"
   ]
  },
  {
   "cell_type": "code",
   "execution_count": 88,
   "id": "d226abe1",
   "metadata": {},
   "outputs": [
    {
     "data": {
      "text/html": [
       "<div>\n",
       "<style scoped>\n",
       "    .dataframe tbody tr th:only-of-type {\n",
       "        vertical-align: middle;\n",
       "    }\n",
       "\n",
       "    .dataframe tbody tr th {\n",
       "        vertical-align: top;\n",
       "    }\n",
       "\n",
       "    .dataframe thead th {\n",
       "        text-align: right;\n",
       "    }\n",
       "</style>\n",
       "<table border=\"1\" class=\"dataframe\">\n",
       "  <thead>\n",
       "    <tr style=\"text-align: right;\">\n",
       "      <th></th>\n",
       "      <th>label</th>\n",
       "      <th>explanation</th>\n",
       "      <th>exceptions</th>\n",
       "      <th>execution_status</th>\n",
       "      <th>execution_seconds</th>\n",
       "    </tr>\n",
       "    <tr>\n",
       "      <th>context.span_id</th>\n",
       "      <th></th>\n",
       "      <th></th>\n",
       "      <th></th>\n",
       "      <th></th>\n",
       "      <th></th>\n",
       "    </tr>\n",
       "  </thead>\n",
       "  <tbody>\n",
       "    <tr>\n",
       "      <th>f759113e5a377adc</th>\n",
       "      <td>factual</td>\n",
       "      <td>The query asks for restaurant recommendations....</td>\n",
       "      <td>[]</td>\n",
       "      <td>COMPLETED</td>\n",
       "      <td>2.072351</td>\n",
       "    </tr>\n",
       "    <tr>\n",
       "      <th>0c97b12113b6697a</th>\n",
       "      <td>factual</td>\n",
       "      <td>The query asks for cafe recommendations. The t...</td>\n",
       "      <td>[]</td>\n",
       "      <td>COMPLETED</td>\n",
       "      <td>2.156076</td>\n",
       "    </tr>\n",
       "    <tr>\n",
       "      <th>658152697f4f1138</th>\n",
       "      <td>factual</td>\n",
       "      <td>The query asks for beauty salons. The tool cal...</td>\n",
       "      <td>[]</td>\n",
       "      <td>COMPLETED</td>\n",
       "      <td>2.015645</td>\n",
       "    </tr>\n",
       "    <tr>\n",
       "      <th>7405ef8dee9896a5</th>\n",
       "      <td>factual</td>\n",
       "      <td>The query asks for recommendations for bars an...</td>\n",
       "      <td>[]</td>\n",
       "      <td>COMPLETED</td>\n",
       "      <td>2.140397</td>\n",
       "    </tr>\n",
       "    <tr>\n",
       "      <th>3191757b13dcfa3d</th>\n",
       "      <td>factual</td>\n",
       "      <td>The query asks for recommendations for nail sa...</td>\n",
       "      <td>[]</td>\n",
       "      <td>COMPLETED</td>\n",
       "      <td>2.292303</td>\n",
       "    </tr>\n",
       "  </tbody>\n",
       "</table>\n",
       "</div>"
      ],
      "text/plain": [
       "                    label                                        explanation  \\\n",
       "context.span_id                                                                \n",
       "f759113e5a377adc  factual  The query asks for restaurant recommendations....   \n",
       "0c97b12113b6697a  factual  The query asks for cafe recommendations. The t...   \n",
       "658152697f4f1138  factual  The query asks for beauty salons. The tool cal...   \n",
       "7405ef8dee9896a5  factual  The query asks for recommendations for bars an...   \n",
       "3191757b13dcfa3d  factual  The query asks for recommendations for nail sa...   \n",
       "\n",
       "                 exceptions execution_status  execution_seconds  \n",
       "context.span_id                                                  \n",
       "f759113e5a377adc         []        COMPLETED           2.072351  \n",
       "0c97b12113b6697a         []        COMPLETED           2.156076  \n",
       "658152697f4f1138         []        COMPLETED           2.015645  \n",
       "7405ef8dee9896a5         []        COMPLETED           2.140397  \n",
       "3191757b13dcfa3d         []        COMPLETED           2.292303  "
      ]
     },
     "execution_count": 88,
     "metadata": {},
     "output_type": "execute_result"
    }
   ],
   "source": [
    "px.Client().log_evaluations(\n",
    "    SpanEvaluations(eval_name=\"TravelReviewQueryTool Hallucinations\", dataframe=hallucination_classifications)\n",
    ")\n",
    "hallucination_classifications.head()"
   ]
  },
  {
   "cell_type": "code",
   "execution_count": 89,
   "id": "b1af697e",
   "metadata": {},
   "outputs": [
    {
     "data": {
      "text/plain": [
       "<Axes: xlabel='label'>"
      ]
     },
     "execution_count": 89,
     "metadata": {},
     "output_type": "execute_result"
    },
    {
     "data": {
      "image/png": "[encoded data removed]",
      "text/plain": [
       "<Figure size 640x480 with 1 Axes>"
      ]
     },
     "metadata": {},
     "output_type": "display_data"
    }
   ],
   "source": [
    "hallucination_classifications.label.value_counts().plot.bar()"
   ]
  },
  {
   "cell_type": "code",
   "execution_count": 96,
   "id": "64e1cccd",
   "metadata": {},
   "outputs": [
    {
     "data": {
      "text/html": [
       "<div>\n",
       "<style scoped>\n",
       "    .dataframe tbody tr th:only-of-type {\n",
       "        vertical-align: middle;\n",
       "    }\n",
       "\n",
       "    .dataframe tbody tr th {\n",
       "        vertical-align: top;\n",
       "    }\n",
       "\n",
       "    .dataframe thead th {\n",
       "        text-align: right;\n",
       "    }\n",
       "</style>\n",
       "<table border=\"1\" class=\"dataframe\">\n",
       "  <thead>\n",
       "    <tr style=\"text-align: right;\">\n",
       "      <th></th>\n",
       "      <th>label</th>\n",
       "      <th>explanation</th>\n",
       "      <th>exceptions</th>\n",
       "      <th>execution_status</th>\n",
       "      <th>execution_seconds</th>\n",
       "    </tr>\n",
       "    <tr>\n",
       "      <th>context.span_id</th>\n",
       "      <th></th>\n",
       "      <th></th>\n",
       "      <th></th>\n",
       "      <th></th>\n",
       "      <th></th>\n",
       "    </tr>\n",
       "  </thead>\n",
       "  <tbody>\n",
       "    <tr>\n",
       "      <th>2b963c689aa6eb46</th>\n",
       "      <td>hallucinated</td>\n",
       "      <td>The query asks for establishments at the addre...</td>\n",
       "      <td>[]</td>\n",
       "      <td>COMPLETED</td>\n",
       "      <td>1.244691</td>\n",
       "    </tr>\n",
       "    <tr>\n",
       "      <th>41528e60aa4f6f0f</th>\n",
       "      <td>hallucinated</td>\n",
       "      <td>The query asks for establishments at the addre...</td>\n",
       "      <td>[]</td>\n",
       "      <td>COMPLETED</td>\n",
       "      <td>1.125276</td>\n",
       "    </tr>\n",
       "    <tr>\n",
       "      <th>3ebdd7dd24e08fa9</th>\n",
       "      <td>hallucinated</td>\n",
       "      <td>The query asks for places where \"huge gratitud...</td>\n",
       "      <td>[]</td>\n",
       "      <td>COMPLETED</td>\n",
       "      <td>1.106687</td>\n",
       "    </tr>\n",
       "  </tbody>\n",
       "</table>\n",
       "</div>"
      ],
      "text/plain": [
       "                         label  \\\n",
       "context.span_id                  \n",
       "2b963c689aa6eb46  hallucinated   \n",
       "41528e60aa4f6f0f  hallucinated   \n",
       "3ebdd7dd24e08fa9  hallucinated   \n",
       "\n",
       "                                                        explanation  \\\n",
       "context.span_id                                                       \n",
       "2b963c689aa6eb46  The query asks for establishments at the addre...   \n",
       "41528e60aa4f6f0f  The query asks for establishments at the addre...   \n",
       "3ebdd7dd24e08fa9  The query asks for places where \"huge gratitud...   \n",
       "\n",
       "                 exceptions execution_status  execution_seconds  \n",
       "context.span_id                                                  \n",
       "2b963c689aa6eb46         []        COMPLETED           1.244691  \n",
       "41528e60aa4f6f0f         []        COMPLETED           1.125276  \n",
       "3ebdd7dd24e08fa9         []        COMPLETED           1.106687  "
      ]
     },
     "execution_count": 96,
     "metadata": {},
     "output_type": "execute_result"
    }
   ],
   "source": [
    "hallucination_classifications[hallucination_classifications[\"label\"] == \"hallucinated\"]"
   ]
  },
  {
   "cell_type": "markdown",
   "id": "5abab740",
   "metadata": {},
   "source": [
    "## Single evaluation function"
   ]
  },
  {
   "cell_type": "code",
   "execution_count": null,
   "id": "e4df844a",
   "metadata": {},
   "outputs": [
    {
     "name": "stderr",
     "output_type": "stream",
     "text": [
      "Overriding of current TracerProvider is not allowed\n",
      "Attempting to instrument while already instrumented\n",
      "Attempting to instrument while already instrumented\n",
      "\u001b[32m2025-05-01 20:30:11.056\u001b[0m | \u001b[1mINFO    \u001b[0m | \u001b[36mtravel_agent.retrieval.smolagents.tool\u001b[0m:\u001b[36m__init__\u001b[0m:\u001b[36m82\u001b[0m - \u001b[1mUsing device: mps\u001b[0m\n"
     ]
    },
    {
     "name": "stdout",
     "output_type": "stream",
     "text": [
      "🔭 OpenTelemetry Tracing Details 🔭\n",
      "|  Phoenix Project: travel-agent-eval-hf.co/IlyaGusev/saiga_yandexgpt_8b_gguf:Q4_0-2025-05-01-19-58-36\n",
      "|  Span Processor: SimpleSpanProcessor\n",
      "|  Collector Endpoint: localhost:4317\n",
      "|  Transport: gRPC\n",
      "|  Transport Headers: {'user-agent': '****'}\n",
      "|  \n",
      "|  Using a default SpanProcessor. `add_span_processor` will overwrite this default.\n",
      "|  \n",
      "|  ⚠️ WARNING: It is strongly advised to use a BatchSpanProcessor in production environments.\n",
      "|  \n",
      "|  `register` has set this TracerProvider as the global OpenTelemetry default.\n",
      "|  To disable this behavior, call `register` with `set_global_tracer_provider=False`.\n",
      "\n"
     ]
    },
    {
     "data": {
      "application/vnd.jupyter.widget-view+json": {
       "model_id": "9f9445eb6cbd4a31afb8bb13f6b5abe1",
       "version_major": 2,
       "version_minor": 0
      },
      "text/plain": [
       "llm_classify |          | 0/49 (0.0%) | ⏳ 00:00<? | ?it/s"
      ]
     },
     "metadata": {},
     "output_type": "display_data"
    },
    {
     "name": "stdout",
     "output_type": "stream",
     "text": [
      "Total mean score: 0.7959\n",
      "Total median score: 1.0000\n",
      "count    49.000000\n",
      "mean      0.795918\n",
      "std       0.407206\n",
      "min       0.000000\n",
      "25%       1.000000\n",
      "50%       1.000000\n",
      "75%       1.000000\n",
      "max       1.000000\n",
      "Name: score, dtype: float64\n"
     ]
    },
    {
     "data": {
      "text/plain": [
       "<Axes: xlabel='score'>"
      ]
     },
     "execution_count": 34,
     "metadata": {},
     "output_type": "execute_result"
    },
    {
     "data": {
      "image/png": "[encoded data removed]",
      "text/plain": [
       "<Figure size 640x480 with 1 Axes>"
      ]
     },
     "metadata": {},
     "output_type": "display_data"
    }
   ],
   "source": [
    "questions = pd.read_csv(\"../data/questions/rag/moskva.csv\")\n",
    "llm_model_name = \"hf.co/IlyaGusev/saiga_yandexgpt_8b_gguf:Q4_0\"\n",
    "embed_model_name = \"intfloat/multilingual-e5-base\"\n",
    "collection_name = \"moskva_intfloat_multilingual_e5_base\"\n",
    "# project_name = f\"travel-agent-eval-{llm_model_name}\"\n",
    "\n",
    "tracer_provider = register(project_name=project_name, auto_instrument=True)\n",
    "SmolagentsInstrumentor().instrument(tracer_provider=tracer_provider)\n",
    "\n",
    "agent = ToolCallingAgent(\n",
    "    tools=[TravelReviewQueryTool(embed_model_name, qdrant_client, collection_name)],\n",
    "    model=LiteLLMModel(\n",
    "        model_id=f\"ollama_chat/{llm_model_name}\",\n",
    "        api_base=os.getenv(\"OLLAMA_URL\", \"http://127.0.0.1:11434\"),\n",
    "        num_ctx=8192,\n",
    "    ),\n",
    "    max_steps=10,\n",
    "    verbosity_level=0,  # only errors\n",
    ")\n",
    "\n",
    "for q in tqdm(questions[\"question\"].tolist()):\n",
    "    agent.run(q)\n",
    "\n",
    "tool_spans = (\n",
    "    px.Client()\n",
    "    .query_spans(\n",
    "        SpanQuery().where(\"name == 'TravelReviewQueryTool'\").select(input=\"input.value\", reference=\"output.value\"),\n",
    "        project_name=project_name,\n",
    "    )\n",
    "    .dropna()\n",
    ")\n",
    "tool_spans[\"input\"] = tool_spans[\"input\"].apply(lambda x: json.loads(x).get(\"kwargs\", {}).get(\"query\", \"\"))\n",
    "\n",
    "eval_results = llm_classify(\n",
    "    data=tool_spans,\n",
    "    model=GeminiModel(model=\"gemini-2.0-flash-lite-001\", project=659002550737),\n",
    "    template=RAG_RELEVANCY_PROMPT_TEMPLATE,\n",
    "    rails=[\"relevant\", \"unrelated\"],\n",
    "    concurrency=10,\n",
    "    provide_explanation=True,\n",
    ")\n",
    "eval_results[\"score\"] = eval_results[\"explanation\"].apply(lambda x: 1 if \"relevant\" in x else 0)\n",
    "\n",
    "px.Client().log_evaluations(SpanEvaluations(eval_name=\"TravelReviewQueryTool Relevancy\", dataframe=eval_results))\n",
    "\n",
    "print(f\"Total mean score: {eval_results.score.mean():.4f}\")\n",
    "print(f\"Total median score: {eval_results.score.median():.4f}\")\n",
    "\n",
    "print(eval_results.score.describe())\n",
    "\n",
    "eval_results.score.value_counts().plot.bar()"
   ]
  },
  {
   "cell_type": "code",
   "execution_count": null,
   "id": "7805a003",
   "metadata": {},
   "outputs": [
    {
     "name": "stderr",
     "output_type": "stream",
     "text": [
      "/Users/damoiseev/personal/travel-agent/.venv/lib/python3.13/site-packages/phoenix/utilities/client.py:60: UserWarning: The Phoenix server (8.27.1) and client (8.31.0) versions are mismatched and may have compatibility issues.\n",
      "  warnings.warn(\n"
     ]
    },
    {
     "name": "stdout",
     "output_type": "stream",
     "text": [
      "Total mean score: 0.9333\n",
      "Total median score: 1.0000\n",
      "count    15.000000\n",
      "mean      0.933333\n",
      "std       0.258199\n",
      "min       0.000000\n",
      "25%       1.000000\n",
      "50%       1.000000\n",
      "75%       1.000000\n",
      "max       1.000000\n",
      "Name: score, dtype: float64\n"
     ]
    },
    {
     "data": {
      "text/plain": [
       "<Axes: xlabel='score'>"
      ]
     },
     "execution_count": 1,
     "metadata": {},
     "output_type": "execute_result"
    },
    {
     "data": {
      "image/png": "[encoded data removed]",
      "text/plain": [
       "<Figure size 640x480 with 1 Axes>"
      ]
     },
     "metadata": {},
     "output_type": "display_data"
    }
   ],
   "source": [
    "questions = pd.read_csv(\"../data/questions/rag/moskva.csv\")\n",
    "llm_model_name = \"meta-llama/Llama-3.3-70B-Instruct\"\n",
    "embed_model_name = \"intfloat/multilingual-e5-base\"\n",
    "collection_name = \"moskva_intfloat_multilingual_e5_base\"\n",
    "project_name = f\"travel-agent-eval-{llm_model_name}\"\n",
    "\n",
    "tracer_provider = register(project_name=project_name, auto_instrument=True)\n",
    "SmolagentsInstrumentor().instrument(tracer_provider=tracer_provider)\n",
    "\n",
    "llm = InferenceClientModel(model_id=llm_model_name)\n",
    "\n",
    "assert llm([{\"role\": \"user\", \"content\": [{\"text\": \"Алло, это Кизару у телефона?\", \"type\": \"text\"}]}]).content\n",
    "\n",
    "\n",
    "agent = ToolCallingAgent(\n",
    "    tools=[TravelReviewQueryTool(embed_model_name, qdrant_client, collection_name)],\n",
    "    model=llm,\n",
    "    max_steps=10,\n",
    "    verbosity_level=0,  # only errors\n",
    ")\n",
    "\n",
    "for q in tqdm(questions[\"question\"].tolist()):\n",
    "    agent.run(q)\n",
    "\n",
    "tool_spans = (\n",
    "    px.Client()\n",
    "    .query_spans(\n",
    "        SpanQuery().where(\"name == 'TravelReviewQueryTool'\").select(input=\"input.value\", reference=\"output.value\"),\n",
    "        project_name=project_name,\n",
    "    )\n",
    "    .dropna()\n",
    ")\n",
    "tool_spans[\"input\"] = tool_spans[\"input\"].apply(lambda x: json.loads(x).get(\"kwargs\", {}).get(\"query\", \"\"))\n",
    "\n",
    "assert len(tool_spans) > 0\n",
    "\n",
    "eval_results = llm_classify(\n",
    "    data=tool_spans,\n",
    "    model=GeminiModel(model=\"gemini-2.0-flash-lite-001\", project=659002550737),\n",
    "    template=RAG_RELEVANCY_PROMPT_TEMPLATE,\n",
    "    rails=[\"relevant\", \"unrelated\"],\n",
    "    concurrency=10,\n",
    "    provide_explanation=True,\n",
    ")\n",
    "eval_results[\"score\"] = eval_results[\"explanation\"].apply(lambda x: 1 if \"relevant\" in x else 0)\n",
    "\n",
    "px.Client().log_evaluations(SpanEvaluations(eval_name=\"TravelReviewQueryTool Relevancy\", dataframe=eval_results))\n",
    "\n",
    "print(f\"Total mean score: {eval_results.score.mean():.4f}\")\n",
    "print(f\"Total median score: {eval_results.score.median():.4f}\")\n",
    "\n",
    "print(eval_results.score.describe())\n",
    "\n",
    "eval_results.score.value_counts().plot.bar()\n",
    "\n",
    "# Результат частичный, тк не хватило квоты на полный прогон"
   ]
  }
 ],
 "metadata": {
  "kernelspec": {
   "display_name": ".venv",
   "language": "python",
   "name": "python3"
  },
  "language_info": {
   "codemirror_mode": {
    "name": "ipython",
    "version": 3
   },
   "file_extension": ".py",
   "mimetype": "text/x-python",
   "name": "python",
   "nbconvert_exporter": "python",
   "pygments_lexer": "ipython3",
   "version": "3.13.3"
  }
 },
 "nbformat": 4,
 "nbformat_minor": 5
}
