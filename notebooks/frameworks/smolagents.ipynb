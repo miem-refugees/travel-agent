{
 "cells": [
  {
   "cell_type": "markdown",
   "id": "17c21521",
   "metadata": {},
   "source": [
    "# Overview of [smolagents](https://huggingface.co/docs/smolagents)"
   ]
  },
  {
   "cell_type": "code",
   "execution_count": 1,
   "id": "6f20404b",
   "metadata": {},
   "outputs": [],
   "source": [
    "import os\n",
    "\n",
    "import torch\n",
    "from sentence_transformers import SentenceTransformer\n",
    "from smolagents import LiteLLMModel, ToolCallingAgent\n",
    "\n",
    "from travel_agent.qdrant import client as qdrant_client\n",
    "from travel_agent.retrieval.smolagents.tool import TravelReviewQueryTool\n",
    "\n",
    "if not os.getenv(\"QDRANT_URL\"):\n",
    "    print(\"Set QDRANT_URL and QDRANT_API_KEY env\")"
   ]
  },
  {
   "cell_type": "code",
   "execution_count": 2,
   "id": "2ed5f6e8",
   "metadata": {},
   "outputs": [
    {
     "data": {
      "text/plain": [
       "device(type='mps')"
      ]
     },
     "execution_count": 2,
     "metadata": {},
     "output_type": "execute_result"
    }
   ],
   "source": [
    "device = torch.device(\"cuda\" if torch.cuda.is_available() else (\"mps\" if torch.backends.mps.is_available() else \"cpu\"))\n",
    "device"
   ]
  },
  {
   "cell_type": "code",
   "execution_count": 3,
   "id": "c33b8241",
   "metadata": {},
   "outputs": [
    {
     "name": "stderr",
     "output_type": "stream",
     "text": [
      "\u001b[32m2025-04-19 19:33:05.739\u001b[0m | \u001b[34m\u001b[1mDEBUG   \u001b[0m | \u001b[36mtravel_agent.qdrant.client\u001b[0m:\u001b[36mcreate_client\u001b[0m:\u001b[36m12\u001b[0m - \u001b[34m\u001b[1mConnecting to Qdrant at https://21a1c8c4-0d63-4176-9930-ee7848dafd2f.eu-central-1-0.aws.cloud.qdrant.io\u001b[0m\n",
      "\u001b[32m2025-04-19 19:33:06.685\u001b[0m | \u001b[32m\u001b[1mSUCCESS \u001b[0m | \u001b[36mtravel_agent.qdrant.client\u001b[0m:\u001b[36mcreate_client\u001b[0m:\u001b[36m22\u001b[0m - \u001b[32m\u001b[1mconnected: title='qdrant - vector search engine' version='1.13.6' commit='4db98ecdbf66bedbce268ec26865ea446d0bba7b'\u001b[0m\n",
      "No sentence-transformers model found with name cointegrated/rubert-tiny2. Creating a new one with mean pooling.\n"
     ]
    }
   ],
   "source": [
    "# Replace with your favourite local model\n",
    "MODEL_NAME = \"hf.co/IlyaGusev/saiga_nemo_12b_gguf:Q4_0\"\n",
    "model_id = f\"ollama_chat/{MODEL_NAME}\"\n",
    "\n",
    "collection_name = \"moskva_cointegrated_rubert_tiny2\"\n",
    "embed_model_name = \"cointegrated/rubert-tiny2\"\n",
    "\n",
    "\n",
    "model = LiteLLMModel(\n",
    "    model_id=model_id,\n",
    "    api_base=\"http://127.0.0.1:11434\",\n",
    ")\n",
    "\n",
    "embed_model = SentenceTransformer(embed_model_name, device=device)\n",
    "\n",
    "agent = ToolCallingAgent(\n",
    "    tools=[TravelReviewQueryTool(embed_model, qdrant_client, collection_name)], model=model, max_steps=2\n",
    ")"
   ]
  },
  {
   "cell_type": "code",
   "execution_count": 4,
   "id": "d0dbf3d5",
   "metadata": {},
   "outputs": [
    {
     "name": "stdout",
     "output_type": "stream",
     "text": [
      "You are an expert assistant who can solve any task using tool calls. You will be given a task to solve as best you can.\n",
      "To do so, you have been given access to some tools.\n",
      "\n",
      "The tool call you write is an action: after the tool is executed, you will get the result of the tool call as an \"observation\".\n",
      "This Action/Observation can repeat N times, you should take several steps when needed.\n",
      "\n",
      "You can use the result of the previous action as input for the next action.\n",
      "The observation will always be a string: it can represent a file, like \"image_1.jpg\".\n",
      "Then you can use it as input for the next action. You can do it for instance as follows:\n",
      "\n",
      "Observation: \"image_1.jpg\"\n",
      "\n",
      "Action:\n",
      "{\n",
      "  \"name\": \"image_transformer\",\n",
      "  \"arguments\": {\"image\": \"image_1.jpg\"}\n",
      "}\n",
      "\n",
      "To provide the final answer to the task, use an action blob with \"name\": \"final_answer\" tool. It is the only way to complete the task, else you will be stuck on a loop. So your final output should look like this:\n",
      "Action:\n",
      "{\n",
      "  \"name\": \"final_answer\",\n",
      "  \"arguments\": {\"answer\": \"insert your final answer here\"}\n",
      "}\n",
      "\n",
      "\n",
      "Here are a few examples using notional tools:\n",
      "---\n",
      "Task: \"Generate an image of the oldest person in this document.\"\n",
      "\n",
      "Action:\n",
      "{\n",
      "  \"name\": \"document_qa\",\n",
      "  \"arguments\": {\"document\": \"document.pdf\", \"question\": \"Who is the oldest person mentioned?\"}\n",
      "}\n",
      "Observation: \"The oldest person in the document is John Doe, a 55 year old lumberjack living in Newfoundland.\"\n",
      "\n",
      "Action:\n",
      "{\n",
      "  \"name\": \"image_generator\",\n",
      "  \"arguments\": {\"prompt\": \"A portrait of John Doe, a 55-year-old man living in Canada.\"}\n",
      "}\n",
      "Observation: \"image.png\"\n",
      "\n",
      "Action:\n",
      "{\n",
      "  \"name\": \"final_answer\",\n",
      "  \"arguments\": \"image.png\"\n",
      "}\n",
      "\n",
      "---\n",
      "Task: \"What is the result of the following operation: 5 + 3 + 1294.678?\"\n",
      "\n",
      "Action:\n",
      "{\n",
      "    \"name\": \"python_interpreter\",\n",
      "    \"arguments\": {\"code\": \"5 + 3 + 1294.678\"}\n",
      "}\n",
      "Observation: 1302.678\n",
      "\n",
      "Action:\n",
      "{\n",
      "  \"name\": \"final_answer\",\n",
      "  \"arguments\": \"1302.678\"\n",
      "}\n",
      "\n",
      "---\n",
      "Task: \"Which city has the highest population , Guangzhou or Shanghai?\"\n",
      "\n",
      "Action:\n",
      "{\n",
      "    \"name\": \"search\",\n",
      "    \"arguments\": \"Population Guangzhou\"\n",
      "}\n",
      "Observation: ['Guangzhou has a population of 15 million inhabitants as of 2021.']\n",
      "\n",
      "\n",
      "Action:\n",
      "{\n",
      "    \"name\": \"search\",\n",
      "    \"arguments\": \"Population Shanghai\"\n",
      "}\n",
      "Observation: '26 million (2019)'\n",
      "\n",
      "Action:\n",
      "{\n",
      "  \"name\": \"final_answer\",\n",
      "  \"arguments\": \"Shanghai\"\n",
      "}\n",
      "\n",
      "Above example were using notional tools that might not exist for you. You only have access to these tools:\n",
      "- travel_review_query: Использует семантический поиск для извлечения отзывов о местах из коллекции Qdrant.\n",
      "    Takes inputs: {'query': {'type': 'string', 'description': 'Запрос для поиска. Должен быть семантически близок к искомым отзывам.'}}\n",
      "    Returns an output of type: string\n",
      "- final_answer: Provides a final answer to the given problem.\n",
      "    Takes inputs: {'answer': {'type': 'any', 'description': 'The final answer to the problem'}}\n",
      "    Returns an output of type: any\n",
      "\n",
      "Here are the rules you should always follow to solve your task:\n",
      "1. ALWAYS provide a tool call, else you will fail.\n",
      "2. Always use the right arguments for the tools. Never use variable names as the action arguments, use the value instead.\n",
      "3. Call a tool only when needed: do not call the search agent if you do not need information, try to solve the task yourself.\n",
      "If no tool call is needed, use final_answer tool to return your answer.\n",
      "4. Never re-do a tool call that you previously did with the exact same parameters.\n",
      "\n",
      "Now Begin!\n"
     ]
    }
   ],
   "source": [
    "print(agent.system_prompt)"
   ]
  },
  {
   "cell_type": "code",
   "execution_count": 14,
   "id": "09c78b79",
   "metadata": {},
   "outputs": [
    {
     "data": {
      "text/html": [
       "<pre style=\"white-space:pre;overflow-x:auto;line-height:normal;font-family:Menlo,'DejaVu Sans Mono',consolas,'Courier New',monospace\"><span style=\"color: #d4b702; text-decoration-color: #d4b702\">╭──────────────────────────────────────────────────── </span><span style=\"color: #d4b702; text-decoration-color: #d4b702; font-weight: bold\">New run</span><span style=\"color: #d4b702; text-decoration-color: #d4b702\"> ────────────────────────────────────────────────────╮</span>\n",
       "<span style=\"color: #d4b702; text-decoration-color: #d4b702\">│</span>                                                                                                                 <span style=\"color: #d4b702; text-decoration-color: #d4b702\">│</span>\n",
       "<span style=\"color: #d4b702; text-decoration-color: #d4b702\">│</span> <span style=\"font-weight: bold\">Что ты думаешь о римской империи?</span>                                                                               <span style=\"color: #d4b702; text-decoration-color: #d4b702\">│</span>\n",
       "<span style=\"color: #d4b702; text-decoration-color: #d4b702\">│</span>                                                                                                                 <span style=\"color: #d4b702; text-decoration-color: #d4b702\">│</span>\n",
       "<span style=\"color: #d4b702; text-decoration-color: #d4b702\">╰─ LiteLLMModel - ollama_chat/hf.co/IlyaGusev/saiga_nemo_12b_gguf:Q4_0 ───────────────────────────────────────────╯</span>\n",
       "</pre>\n"
      ],
      "text/plain": [
       "\u001b[38;2;212;183;2m╭─\u001b[0m\u001b[38;2;212;183;2m───────────────────────────────────────────────────\u001b[0m\u001b[38;2;212;183;2m \u001b[0m\u001b[1;38;2;212;183;2mNew run\u001b[0m\u001b[38;2;212;183;2m \u001b[0m\u001b[38;2;212;183;2m───────────────────────────────────────────────────\u001b[0m\u001b[38;2;212;183;2m─╮\u001b[0m\n",
       "\u001b[38;2;212;183;2m│\u001b[0m                                                                                                                 \u001b[38;2;212;183;2m│\u001b[0m\n",
       "\u001b[38;2;212;183;2m│\u001b[0m \u001b[1mЧто ты думаешь о римской империи?\u001b[0m                                                                               \u001b[38;2;212;183;2m│\u001b[0m\n",
       "\u001b[38;2;212;183;2m│\u001b[0m                                                                                                                 \u001b[38;2;212;183;2m│\u001b[0m\n",
       "\u001b[38;2;212;183;2m╰─\u001b[0m\u001b[38;2;212;183;2m LiteLLMModel - ollama_chat/hf.co/IlyaGusev/saiga_nemo_12b_gguf:Q4_0 \u001b[0m\u001b[38;2;212;183;2m──────────────────────────────────────────\u001b[0m\u001b[38;2;212;183;2m─╯\u001b[0m\n"
      ]
     },
     "metadata": {},
     "output_type": "display_data"
    },
    {
     "data": {
      "text/html": [
       "<pre style=\"white-space:pre;overflow-x:auto;line-height:normal;font-family:Menlo,'DejaVu Sans Mono',consolas,'Courier New',monospace\"><span style=\"color: #d4b702; text-decoration-color: #d4b702\">━━━━━━━━━━━━━━━━━━━━━━━━━━━━━━━━━━━━━━━━━━━━━━━━━━━━━ </span><span style=\"font-weight: bold\">Step </span><span style=\"color: #008080; text-decoration-color: #008080; font-weight: bold\">1</span><span style=\"color: #d4b702; text-decoration-color: #d4b702\"> ━━━━━━━━━━━━━━━━━━━━━━━━━━━━━━━━━━━━━━━━━━━━━━━━━━━━━━</span>\n",
       "</pre>\n"
      ],
      "text/plain": [
       "\u001b[38;2;212;183;2m━━━━━━━━━━━━━━━━━━━━━━━━━━━━━━━━━━━━━━━━━━━━━━━━━━━━━ \u001b[0m\u001b[1mStep \u001b[0m\u001b[1;36m1\u001b[0m\u001b[38;2;212;183;2m ━━━━━━━━━━━━━━━━━━━━━━━━━━━━━━━━━━━━━━━━━━━━━━━━━━━━━━\u001b[0m\n"
      ]
     },
     "metadata": {},
     "output_type": "display_data"
    },
    {
     "data": {
      "text/html": [
       "<pre style=\"white-space:pre;overflow-x:auto;line-height:normal;font-family:Menlo,'DejaVu Sans Mono',consolas,'Courier New',monospace\">╭─────────────────────────────────────────────────────────────────────────────────────────────────────────────────╮\n",
       "│ Calling tool: 'final_answer' with arguments: {'answer': 'Римская империя была одной из самых влиятельных и      │\n",
       "│ обширных государственных образований в истории человечества. Вот краткий обзор её достижений и особенностей:\\n- │\n",
       "│ Образовалась около 27 года до н.э.;\\n- Простиралась на огромную территорию от Великобритании до Египта и от     │\n",
       "│ Испании до Сирии;\\n- Развивала законодательство, культуру и архитектуру; при Риме были построены многие         │\n",
       "│ известные памятники и монументы, такие как Колизей в Риме или Пантеон.\\n- Внесла значительный вклад в право     │\n",
       "│ (законы 12 таблиц), образование (римские школы и университеты) и язык (латинский стал международным языком      │\n",
       "│ общения);\\n- Управлялась через строгую политическую структуру, включая сенат и диктаторский режим;\\n- Время её  │\n",
       "│ расцвета приходится на 1 век н.э., известное как '}                                                             │\n",
       "╰─────────────────────────────────────────────────────────────────────────────────────────────────────────────────╯\n",
       "</pre>\n"
      ],
      "text/plain": [
       "╭─────────────────────────────────────────────────────────────────────────────────────────────────────────────────╮\n",
       "│ Calling tool: 'final_answer' with arguments: {'answer': 'Римская империя была одной из самых влиятельных и      │\n",
       "│ обширных государственных образований в истории человечества. Вот краткий обзор её достижений и особенностей:\\n- │\n",
       "│ Образовалась около 27 года до н.э.;\\n- Простиралась на огромную территорию от Великобритании до Египта и от     │\n",
       "│ Испании до Сирии;\\n- Развивала законодательство, культуру и архитектуру; при Риме были построены многие         │\n",
       "│ известные памятники и монументы, такие как Колизей в Риме или Пантеон.\\n- Внесла значительный вклад в право     │\n",
       "│ (законы 12 таблиц), образование (римские школы и университеты) и язык (латинский стал международным языком      │\n",
       "│ общения);\\n- Управлялась через строгую политическую структуру, включая сенат и диктаторский режим;\\n- Время её  │\n",
       "│ расцвета приходится на 1 век н.э., известное как '}                                                             │\n",
       "╰─────────────────────────────────────────────────────────────────────────────────────────────────────────────────╯\n"
      ]
     },
     "metadata": {},
     "output_type": "display_data"
    },
    {
     "data": {
      "text/html": [
       "<pre style=\"white-space:pre;overflow-x:auto;line-height:normal;font-family:Menlo,'DejaVu Sans Mono',consolas,'Courier New',monospace\"><span style=\"color: #d4b702; text-decoration-color: #d4b702; font-weight: bold\">Final answer: Римская империя была одной из самых влиятельных и обширных государственных образований в истории </span>\n",
       "<span style=\"color: #d4b702; text-decoration-color: #d4b702; font-weight: bold\">человечества. Вот краткий обзор её достижений и особенностей:</span>\n",
       "<span style=\"color: #d4b702; text-decoration-color: #d4b702; font-weight: bold\">- Образовалась около 27 года до н.э.;</span>\n",
       "<span style=\"color: #d4b702; text-decoration-color: #d4b702; font-weight: bold\">- Простиралась на огромную территорию от Великобритании до Египта и от Испании до Сирии;</span>\n",
       "<span style=\"color: #d4b702; text-decoration-color: #d4b702; font-weight: bold\">- Развивала законодательство, культуру и архитектуру; при Риме были построены многие известные памятники и </span>\n",
       "<span style=\"color: #d4b702; text-decoration-color: #d4b702; font-weight: bold\">монументы, такие как Колизей в Риме или Пантеон.</span>\n",
       "<span style=\"color: #d4b702; text-decoration-color: #d4b702; font-weight: bold\">- Внесла значительный вклад в право (законы 12 таблиц), образование (римские школы и университеты) и язык </span>\n",
       "<span style=\"color: #d4b702; text-decoration-color: #d4b702; font-weight: bold\">(латинский стал международным языком общения);</span>\n",
       "<span style=\"color: #d4b702; text-decoration-color: #d4b702; font-weight: bold\">- Управлялась через строгую политическую структуру, включая сенат и диктаторский режим;</span>\n",
       "<span style=\"color: #d4b702; text-decoration-color: #d4b702; font-weight: bold\">- Время её расцвета приходится на 1 век н.э., известное как </span>\n",
       "</pre>\n"
      ],
      "text/plain": [
       "\u001b[1;38;2;212;183;2mFinal answer: Римская империя была одной из самых влиятельных и обширных государственных образований в истории \u001b[0m\n",
       "\u001b[1;38;2;212;183;2mчеловечества. Вот краткий обзор её достижений и особенностей:\u001b[0m\n",
       "\u001b[1;38;2;212;183;2m- Образовалась около 27 года до н.э.;\u001b[0m\n",
       "\u001b[1;38;2;212;183;2m- Простиралась на огромную территорию от Великобритании до Египта и от Испании до Сирии;\u001b[0m\n",
       "\u001b[1;38;2;212;183;2m- Развивала законодательство, культуру и архитектуру; при Риме были построены многие известные памятники и \u001b[0m\n",
       "\u001b[1;38;2;212;183;2mмонументы, такие как Колизей в Риме или Пантеон.\u001b[0m\n",
       "\u001b[1;38;2;212;183;2m- Внесла значительный вклад в право (законы 12 таблиц), образование (римские школы и университеты) и язык \u001b[0m\n",
       "\u001b[1;38;2;212;183;2m(латинский стал международным языком общения);\u001b[0m\n",
       "\u001b[1;38;2;212;183;2m- Управлялась через строгую политическую структуру, включая сенат и диктаторский режим;\u001b[0m\n",
       "\u001b[1;38;2;212;183;2m- Время её расцвета приходится на 1 век н.э., известное как \u001b[0m\n"
      ]
     },
     "metadata": {},
     "output_type": "display_data"
    },
    {
     "data": {
      "text/html": [
       "<pre style=\"white-space:pre;overflow-x:auto;line-height:normal;font-family:Menlo,'DejaVu Sans Mono',consolas,'Courier New',monospace\"><span style=\"color: #7f7f7f; text-decoration-color: #7f7f7f\">[Step 1: Duration 33.91 seconds| Input tokens: 1,128 | Output tokens: 231]</span>\n",
       "</pre>\n"
      ],
      "text/plain": [
       "\u001b[2m[Step 1: Duration 33.91 seconds| Input tokens: 1,128 | Output tokens: 231]\u001b[0m\n"
      ]
     },
     "metadata": {},
     "output_type": "display_data"
    },
    {
     "data": {
      "text/plain": [
       "'Римская империя была одной из самых влиятельных и обширных государственных образований в истории человечества. Вот краткий обзор её достижений и особенностей:\\n- Образовалась около 27 года до н.э.;\\n- Простиралась на огромную территорию от Великобритании до Египта и от Испании до Сирии;\\n- Развивала законодательство, культуру и архитектуру; при Риме были построены многие известные памятники и монументы, такие как Колизей в Риме или Пантеон.\\n- Внесла значительный вклад в право (законы 12 таблиц), образование (римские школы и университеты) и язык (латинский стал международным языком общения);\\n- Управлялась через строгую политическую структуру, включая сенат и диктаторский режим;\\n- Время её расцвета приходится на 1 век н.э., известное как '"
      ]
     },
     "execution_count": 14,
     "metadata": {},
     "output_type": "execute_result"
    }
   ],
   "source": [
    "# Sanity check\n",
    "agent.run(\"Что ты думаешь о римской империи?\")"
   ]
  },
  {
   "cell_type": "code",
   "execution_count": 5,
   "id": "3c8b695d",
   "metadata": {},
   "outputs": [
    {
     "data": {
      "text/html": [
       "<pre style=\"white-space:pre;overflow-x:auto;line-height:normal;font-family:Menlo,'DejaVu Sans Mono',consolas,'Courier New',monospace\"><span style=\"color: #d4b702; text-decoration-color: #d4b702\">╭──────────────────────────────────────────────────── </span><span style=\"color: #d4b702; text-decoration-color: #d4b702; font-weight: bold\">New run</span><span style=\"color: #d4b702; text-decoration-color: #d4b702\"> ────────────────────────────────────────────────────╮</span>\n",
       "<span style=\"color: #d4b702; text-decoration-color: #d4b702\">│</span>                                                                                                                 <span style=\"color: #d4b702; text-decoration-color: #d4b702\">│</span>\n",
       "<span style=\"color: #d4b702; text-decoration-color: #d4b702\">│</span> <span style=\"font-weight: bold\">Я бы хотел посетить японский ресторан. Можешь ли посоветовать хороший в Москве?</span>                                 <span style=\"color: #d4b702; text-decoration-color: #d4b702\">│</span>\n",
       "<span style=\"color: #d4b702; text-decoration-color: #d4b702\">│</span>                                                                                                                 <span style=\"color: #d4b702; text-decoration-color: #d4b702\">│</span>\n",
       "<span style=\"color: #d4b702; text-decoration-color: #d4b702\">╰─ LiteLLMModel - ollama_chat/hf.co/IlyaGusev/saiga_nemo_12b_gguf:Q4_0 ───────────────────────────────────────────╯</span>\n",
       "</pre>\n"
      ],
      "text/plain": [
       "\u001b[38;2;212;183;2m╭─\u001b[0m\u001b[38;2;212;183;2m───────────────────────────────────────────────────\u001b[0m\u001b[38;2;212;183;2m \u001b[0m\u001b[1;38;2;212;183;2mNew run\u001b[0m\u001b[38;2;212;183;2m \u001b[0m\u001b[38;2;212;183;2m───────────────────────────────────────────────────\u001b[0m\u001b[38;2;212;183;2m─╮\u001b[0m\n",
       "\u001b[38;2;212;183;2m│\u001b[0m                                                                                                                 \u001b[38;2;212;183;2m│\u001b[0m\n",
       "\u001b[38;2;212;183;2m│\u001b[0m \u001b[1mЯ бы хотел посетить японский ресторан. Можешь ли посоветовать хороший в Москве?\u001b[0m                                 \u001b[38;2;212;183;2m│\u001b[0m\n",
       "\u001b[38;2;212;183;2m│\u001b[0m                                                                                                                 \u001b[38;2;212;183;2m│\u001b[0m\n",
       "\u001b[38;2;212;183;2m╰─\u001b[0m\u001b[38;2;212;183;2m LiteLLMModel - ollama_chat/hf.co/IlyaGusev/saiga_nemo_12b_gguf:Q4_0 \u001b[0m\u001b[38;2;212;183;2m──────────────────────────────────────────\u001b[0m\u001b[38;2;212;183;2m─╯\u001b[0m\n"
      ]
     },
     "metadata": {},
     "output_type": "display_data"
    },
    {
     "data": {
      "text/html": [
       "<pre style=\"white-space:pre;overflow-x:auto;line-height:normal;font-family:Menlo,'DejaVu Sans Mono',consolas,'Courier New',monospace\"><span style=\"color: #d4b702; text-decoration-color: #d4b702\">━━━━━━━━━━━━━━━━━━━━━━━━━━━━━━━━━━━━━━━━━━━━━━━━━━━━━ </span><span style=\"font-weight: bold\">Step </span><span style=\"color: #008080; text-decoration-color: #008080; font-weight: bold\">1</span><span style=\"color: #d4b702; text-decoration-color: #d4b702\"> ━━━━━━━━━━━━━━━━━━━━━━━━━━━━━━━━━━━━━━━━━━━━━━━━━━━━━━</span>\n",
       "</pre>\n"
      ],
      "text/plain": [
       "\u001b[38;2;212;183;2m━━━━━━━━━━━━━━━━━━━━━━━━━━━━━━━━━━━━━━━━━━━━━━━━━━━━━ \u001b[0m\u001b[1mStep \u001b[0m\u001b[1;36m1\u001b[0m\u001b[38;2;212;183;2m ━━━━━━━━━━━━━━━━━━━━━━━━━━━━━━━━━━━━━━━━━━━━━━━━━━━━━━\u001b[0m\n"
      ]
     },
     "metadata": {},
     "output_type": "display_data"
    },
    {
     "data": {
      "text/html": [
       "<pre style=\"white-space:pre;overflow-x:auto;line-height:normal;font-family:Menlo,'DejaVu Sans Mono',consolas,'Courier New',monospace\">╭─────────────────────────────────────────────────────────────────────────────────────────────────────────────────╮\n",
       "│ Calling tool: 'travel_review_query' with arguments: {'query': 'Лучшие японские рестораны в Москве'}             │\n",
       "╰─────────────────────────────────────────────────────────────────────────────────────────────────────────────────╯\n",
       "</pre>\n"
      ],
      "text/plain": [
       "╭─────────────────────────────────────────────────────────────────────────────────────────────────────────────────╮\n",
       "│ Calling tool: 'travel_review_query' with arguments: {'query': 'Лучшие японские рестораны в Москве'}             │\n",
       "╰─────────────────────────────────────────────────────────────────────────────────────────────────────────────────╯\n"
      ]
     },
     "metadata": {},
     "output_type": "display_data"
    },
    {
     "data": {
      "text/html": [
       "<pre style=\"white-space:pre;overflow-x:auto;line-height:normal;font-family:Menlo,'DejaVu Sans Mono',consolas,'Courier New',monospace\">Observations: Найденные отзывы о местах:\n",
       "\n",
       "=== Отзыв на Lou lou ===\n",
       "Адрес: Москва, Малая Бронная улица, <span style=\"color: #008080; text-decoration-color: #008080; font-weight: bold\">10</span>, стр. <span style=\"color: #008080; text-decoration-color: #008080; font-weight: bold\">1</span>\n",
       "Рейтинг: <span style=\"color: #008080; text-decoration-color: #008080; font-weight: bold\">5.0</span>\n",
       "Категории: Ресторан\n",
       "Отзыв: Любимый ресторан 😻коктейли лучшие в Москве.  \n",
       "\n",
       "=== Отзыв на Geraldine ===\n",
       "Адрес: Москва, улица Остоженка, <span style=\"color: #008080; text-decoration-color: #008080; font-weight: bold\">27</span>, корп. <span style=\"color: #008080; text-decoration-color: #008080; font-weight: bold\">2</span>\n",
       "Рейтинг: <span style=\"color: #008080; text-decoration-color: #008080; font-weight: bold\">5.0</span>\n",
       "Категории: Ресторан;Доставка еды и обедов\n",
       "Отзыв: Один из лучших ресторанов Москвы !  \n",
       "\n",
       "=== Отзыв на Vice Burgers ===\n",
       "Адрес: Москва, Новодмитровская улица, 2к2\n",
       "Рейтинг: <span style=\"color: #008080; text-decoration-color: #008080; font-weight: bold\">5.0</span>\n",
       "Категории: Кафе;Быстрое питание\n",
       "Отзыв: Самые вкусные бургеры в Москве за последнее время. \n",
       "\n",
       "=== Отзыв на Burger Heroes ===\n",
       "Адрес: Москва, проспект Мира, <span style=\"color: #008080; text-decoration-color: #008080; font-weight: bold\">119</span>, стр. <span style=\"color: #008080; text-decoration-color: #008080; font-weight: bold\">56</span>\n",
       "Рейтинг: <span style=\"color: #008080; text-decoration-color: #008080; font-weight: bold\">5.0</span>\n",
       "Категории: Быстрое питание;Бар, паб;Кафе\n",
       "Отзыв: Лучшая бургерная Москвы! \n",
       "\n",
       "=== Отзыв на Неаполь ===\n",
       "Адрес: Москва, Вознесенский переулок, <span style=\"color: #008080; text-decoration-color: #008080; font-weight: bold\">12</span>, стр. <span style=\"color: #008080; text-decoration-color: #008080; font-weight: bold\">3</span>\n",
       "Рейтинг: <span style=\"color: #008080; text-decoration-color: #008080; font-weight: bold\">5.0</span>\n",
       "Категории: Гостиница\n",
       "Отзыв: Хорошая уютная гостиница в центре Москвы\n",
       "</pre>\n"
      ],
      "text/plain": [
       "Observations: Найденные отзывы о местах:\n",
       "\n",
       "=== Отзыв на Lou lou ===\n",
       "Адрес: Москва, Малая Бронная улица, \u001b[1;36m10\u001b[0m, стр. \u001b[1;36m1\u001b[0m\n",
       "Рейтинг: \u001b[1;36m5.0\u001b[0m\n",
       "Категории: Ресторан\n",
       "Отзыв: Любимый ресторан 😻коктейли лучшие в Москве.  \n",
       "\n",
       "=== Отзыв на Geraldine ===\n",
       "Адрес: Москва, улица Остоженка, \u001b[1;36m27\u001b[0m, корп. \u001b[1;36m2\u001b[0m\n",
       "Рейтинг: \u001b[1;36m5.0\u001b[0m\n",
       "Категории: Ресторан;Доставка еды и обедов\n",
       "Отзыв: Один из лучших ресторанов Москвы !  \n",
       "\n",
       "=== Отзыв на Vice Burgers ===\n",
       "Адрес: Москва, Новодмитровская улица, 2к2\n",
       "Рейтинг: \u001b[1;36m5.0\u001b[0m\n",
       "Категории: Кафе;Быстрое питание\n",
       "Отзыв: Самые вкусные бургеры в Москве за последнее время. \n",
       "\n",
       "=== Отзыв на Burger Heroes ===\n",
       "Адрес: Москва, проспект Мира, \u001b[1;36m119\u001b[0m, стр. \u001b[1;36m56\u001b[0m\n",
       "Рейтинг: \u001b[1;36m5.0\u001b[0m\n",
       "Категории: Быстрое питание;Бар, паб;Кафе\n",
       "Отзыв: Лучшая бургерная Москвы! \n",
       "\n",
       "=== Отзыв на Неаполь ===\n",
       "Адрес: Москва, Вознесенский переулок, \u001b[1;36m12\u001b[0m, стр. \u001b[1;36m3\u001b[0m\n",
       "Рейтинг: \u001b[1;36m5.0\u001b[0m\n",
       "Категории: Гостиница\n",
       "Отзыв: Хорошая уютная гостиница в центре Москвы\n"
      ]
     },
     "metadata": {},
     "output_type": "display_data"
    },
    {
     "data": {
      "text/html": [
       "<pre style=\"white-space:pre;overflow-x:auto;line-height:normal;font-family:Menlo,'DejaVu Sans Mono',consolas,'Courier New',monospace\"><span style=\"color: #7f7f7f; text-decoration-color: #7f7f7f\">[Step 1: Duration 22.58 seconds| Input tokens: 1,142 | Output tokens: 32]</span>\n",
       "</pre>\n"
      ],
      "text/plain": [
       "\u001b[2m[Step 1: Duration 22.58 seconds| Input tokens: 1,142 | Output tokens: 32]\u001b[0m\n"
      ]
     },
     "metadata": {},
     "output_type": "display_data"
    },
    {
     "data": {
      "text/html": [
       "<pre style=\"white-space:pre;overflow-x:auto;line-height:normal;font-family:Menlo,'DejaVu Sans Mono',consolas,'Courier New',monospace\"><span style=\"color: #d4b702; text-decoration-color: #d4b702\">━━━━━━━━━━━━━━━━━━━━━━━━━━━━━━━━━━━━━━━━━━━━━━━━━━━━━ </span><span style=\"font-weight: bold\">Step </span><span style=\"color: #008080; text-decoration-color: #008080; font-weight: bold\">2</span><span style=\"color: #d4b702; text-decoration-color: #d4b702\"> ━━━━━━━━━━━━━━━━━━━━━━━━━━━━━━━━━━━━━━━━━━━━━━━━━━━━━━</span>\n",
       "</pre>\n"
      ],
      "text/plain": [
       "\u001b[38;2;212;183;2m━━━━━━━━━━━━━━━━━━━━━━━━━━━━━━━━━━━━━━━━━━━━━━━━━━━━━ \u001b[0m\u001b[1mStep \u001b[0m\u001b[1;36m2\u001b[0m\u001b[38;2;212;183;2m ━━━━━━━━━━━━━━━━━━━━━━━━━━━━━━━━━━━━━━━━━━━━━━━━━━━━━━\u001b[0m\n"
      ]
     },
     "metadata": {},
     "output_type": "display_data"
    },
    {
     "data": {
      "text/html": [
       "<pre style=\"white-space:pre;overflow-x:auto;line-height:normal;font-family:Menlo,'DejaVu Sans Mono',consolas,'Courier New',monospace\">╭─────────────────────────────────────────────────────────────────────────────────────────────────────────────────╮\n",
       "│ Calling tool: 'final_answer' with arguments: {'answer': 'Наиболее высоко оцененными ресторанами с отличными     │\n",
       "│ отзывами являются Lou lou и Geraldine. Выбирайте между:\\n\\n- **Lou lou** на улице Малая Бронная, 10, стр. 1     │\n",
       "│ (рейтинг: 5.0) - особенно отмечен за лучшие коктейли в Москве.\\n- **Geraldine** по адресу улица Остоженка, 27,  │\n",
       "│ корп. 2 (рейтинг: 5.0) - один из лучших ресторанов Москвы.\\nОба варианта заслуживают внимания.'}                │\n",
       "╰─────────────────────────────────────────────────────────────────────────────────────────────────────────────────╯\n",
       "</pre>\n"
      ],
      "text/plain": [
       "╭─────────────────────────────────────────────────────────────────────────────────────────────────────────────────╮\n",
       "│ Calling tool: 'final_answer' with arguments: {'answer': 'Наиболее высоко оцененными ресторанами с отличными     │\n",
       "│ отзывами являются Lou lou и Geraldine. Выбирайте между:\\n\\n- **Lou lou** на улице Малая Бронная, 10, стр. 1     │\n",
       "│ (рейтинг: 5.0) - особенно отмечен за лучшие коктейли в Москве.\\n- **Geraldine** по адресу улица Остоженка, 27,  │\n",
       "│ корп. 2 (рейтинг: 5.0) - один из лучших ресторанов Москвы.\\nОба варианта заслуживают внимания.'}                │\n",
       "╰─────────────────────────────────────────────────────────────────────────────────────────────────────────────────╯\n"
      ]
     },
     "metadata": {},
     "output_type": "display_data"
    },
    {
     "data": {
      "text/html": [
       "<pre style=\"white-space:pre;overflow-x:auto;line-height:normal;font-family:Menlo,'DejaVu Sans Mono',consolas,'Courier New',monospace\"><span style=\"color: #d4b702; text-decoration-color: #d4b702; font-weight: bold\">Final answer: Наиболее высоко оцененными ресторанами с отличными отзывами являются Lou lou и Geraldine. Выбирайте </span>\n",
       "<span style=\"color: #d4b702; text-decoration-color: #d4b702; font-weight: bold\">между:</span>\n",
       "\n",
       "<span style=\"color: #d4b702; text-decoration-color: #d4b702; font-weight: bold\">- **Lou lou** на улице Малая Бронная, 10, стр. 1 (рейтинг: 5.0) - особенно отмечен за лучшие коктейли в Москве.</span>\n",
       "<span style=\"color: #d4b702; text-decoration-color: #d4b702; font-weight: bold\">- **Geraldine** по адресу улица Остоженка, 27, корп. 2 (рейтинг: 5.0) - один из лучших ресторанов Москвы.</span>\n",
       "<span style=\"color: #d4b702; text-decoration-color: #d4b702; font-weight: bold\">Оба варианта заслуживают внимания.</span>\n",
       "</pre>\n"
      ],
      "text/plain": [
       "\u001b[1;38;2;212;183;2mFinal answer: Наиболее высоко оцененными ресторанами с отличными отзывами являются Lou lou и Geraldine. Выбирайте \u001b[0m\n",
       "\u001b[1;38;2;212;183;2mмежду:\u001b[0m\n",
       "\n",
       "\u001b[1;38;2;212;183;2m- **Lou lou** на улице Малая Бронная, 10, стр. 1 (рейтинг: 5.0) - особенно отмечен за лучшие коктейли в Москве.\u001b[0m\n",
       "\u001b[1;38;2;212;183;2m- **Geraldine** по адресу улица Остоженка, 27, корп. 2 (рейтинг: 5.0) - один из лучших ресторанов Москвы.\u001b[0m\n",
       "\u001b[1;38;2;212;183;2mОба варианта заслуживают внимания.\u001b[0m\n"
      ]
     },
     "metadata": {},
     "output_type": "display_data"
    },
    {
     "data": {
      "text/html": [
       "<pre style=\"white-space:pre;overflow-x:auto;line-height:normal;font-family:Menlo,'DejaVu Sans Mono',consolas,'Courier New',monospace\"><span style=\"color: #7f7f7f; text-decoration-color: #7f7f7f\">[Step 2: Duration 30.23 seconds| Input tokens: 2,777 | Output tokens: 183]</span>\n",
       "</pre>\n"
      ],
      "text/plain": [
       "\u001b[2m[Step 2: Duration 30.23 seconds| Input tokens: 2,777 | Output tokens: 183]\u001b[0m\n"
      ]
     },
     "metadata": {},
     "output_type": "display_data"
    },
    {
     "data": {
      "text/plain": [
       "'Наиболее высоко оцененными ресторанами с отличными отзывами являются Lou lou и Geraldine. Выбирайте между:\\n\\n- **Lou lou** на улице Малая Бронная, 10, стр. 1 (рейтинг: 5.0) - особенно отмечен за лучшие коктейли в Москве.\\n- **Geraldine** по адресу улица Остоженка, 27, корп. 2 (рейтинг: 5.0) - один из лучших ресторанов Москвы.\\nОба варианта заслуживают внимания.'"
      ]
     },
     "execution_count": 5,
     "metadata": {},
     "output_type": "execute_result"
    }
   ],
   "source": [
    "agent.run(\"Я бы хотел посетить японский ресторан. Можешь ли посоветовать хороший в Москве?\")"
   ]
  },
  {
   "cell_type": "code",
   "execution_count": null,
   "id": "82dafa86",
   "metadata": {},
   "outputs": [],
   "source": []
  }
 ],
 "metadata": {
  "kernelspec": {
   "display_name": ".venv",
   "language": "python",
   "name": "python3"
  },
  "language_info": {
   "codemirror_mode": {
    "name": "ipython",
    "version": 3
   },
   "file_extension": ".py",
   "mimetype": "text/x-python",
   "name": "python",
   "nbconvert_exporter": "python",
   "pygments_lexer": "ipython3",
   "version": "3.13.3"
  }
 },
 "nbformat": 4,
 "nbformat_minor": 5
}
