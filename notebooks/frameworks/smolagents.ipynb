{
 "cells": [
  {
   "cell_type": "markdown",
   "id": "17c21521",
   "metadata": {},
   "source": [
    "# Overview of [smolagents](https://huggingface.co/docs/smolagents)"
   ]
  },
  {
   "cell_type": "code",
   "execution_count": null,
   "id": "86808b28",
   "metadata": {},
   "outputs": [
    {
     "name": "stderr",
     "output_type": "stream",
     "text": [
      "\u001b[32m2025-04-20 08:37:45.455\u001b[0m | \u001b[34m\u001b[1mDEBUG   \u001b[0m | \u001b[36mtravel_agent.qdrant.client\u001b[0m:\u001b[36mcreate_client\u001b[0m:\u001b[36m12\u001b[0m - \u001b[34m\u001b[1mConnecting to Qdrant at https://21a1c8c4-0d63-4176-9930-ee7848dafd2f.eu-central-1-0.aws.cloud.qdrant.io\u001b[0m\n",
      "\u001b[32m2025-04-20 08:37:46.212\u001b[0m | \u001b[32m\u001b[1mSUCCESS \u001b[0m | \u001b[36mtravel_agent.qdrant.client\u001b[0m:\u001b[36mcreate_client\u001b[0m:\u001b[36m22\u001b[0m - \u001b[32m\u001b[1mconnected: title='qdrant - vector search engine' version='1.13.6' commit='4db98ecdbf66bedbce268ec26865ea446d0bba7b'\u001b[0m\n"
     ]
    },
    {
     "name": "stdout",
     "output_type": "stream",
     "text": [
      "Available embed models:\n",
      "- cointegrated/rubert-tiny2\n",
      "- DeepPavlov/rubert-base-cased-sentence\n",
      "- ai-forever/sbert_large_nlu_ru\n",
      "- ai-forever/sbert_large_mt_nlu_ru\n",
      "- sentence-transformers/distiluse-base-multilingual-cased-v1\n",
      "- sentence-transformers/distiluse-base-multilingual-cased-v2\n",
      "- sentence-transformers/paraphrase-multilingual-MiniLM-L12-v2\n",
      "- sentence-transformers/paraphrase-multilingual-mpnet-base-v2\n",
      "- intfloat/multilingual-e5-large\n",
      "- intfloat/multilingual-e5-base\n",
      "- intfloat/multilingual-e5-small\n",
      "- ai-forever/ru-en-RoSBERTa\n",
      "- sergeyzh/BERTA\n"
     ]
    }
   ],
   "source": [
    "import os\n",
    "\n",
    "from smolagents import LiteLLMModel, ToolCallingAgent\n",
    "\n",
    "from travel_agent.qdrant import client as qdrant_client\n",
    "from travel_agent.retrieval.embedding.embedding_generation import MODELS_PROMPTS\n",
    "from travel_agent.retrieval.smolagents.prompts import RUS_PROMPT_TEMPLATES\n",
    "from travel_agent.retrieval.smolagents.tool import TravelReviewQueryTool\n",
    "\n",
    "if not os.getenv(\"QDRANT_URL\"):\n",
    "    print(\"Set QDRANT_URL and QDRANT_API_KEY env\")\n",
    "    exit(1)\n",
    "\n",
    "print(f\"Available embed models:\\n- {'\\n- '.join(MODELS_PROMPTS.keys())}\")"
   ]
  },
  {
   "cell_type": "code",
   "execution_count": 2,
   "id": "c33b8241",
   "metadata": {},
   "outputs": [
    {
     "name": "stdout",
     "output_type": "stream",
     "text": [
      "Привет! Да, это я, Кизару. - *улыбается* Как я могу помочь вам сегодня?\n"
     ]
    }
   ],
   "source": [
    "# Replace with your favourite local model\n",
    "MODEL_NAME = \"hf.co/IlyaGusev/saiga_nemo_12b_gguf:Q4_0\"\n",
    "model_id = f\"ollama_chat/{MODEL_NAME}\"\n",
    "\n",
    "\n",
    "model = LiteLLMModel(\n",
    "    model_id=model_id,\n",
    "    api_base=os.getenv(\"OLLAMA_URL\", \"http://127.0.0.1:11434\"),\n",
    "    num_ctx=8192,  # ollama default is 2048 which will fail horribly. 8192 works for easy tasks, more is better. Check https://huggingface.co/spaces/NyxKrage/LLM-Model-VRAM-Calculator to calculate how much VRAM this will need for the selected model.\n",
    ")\n",
    "\n",
    "test_response = model([{\"role\": \"user\", \"content\": [{\"text\": \"Алло, это Кизару у телефона?\", \"type\": \"text\"}]}]).content\n",
    "print(test_response)\n",
    "assert test_response"
   ]
  },
  {
   "cell_type": "code",
   "execution_count": 3,
   "id": "80984aec",
   "metadata": {},
   "outputs": [
    {
     "name": "stderr",
     "output_type": "stream",
     "text": [
      "\u001b[32m2025-04-20 08:38:05.644\u001b[0m | \u001b[1mINFO    \u001b[0m | \u001b[36mtravel_agent.retrieval.smolagents.tool\u001b[0m:\u001b[36m__init__\u001b[0m:\u001b[36m38\u001b[0m - \u001b[1mUsing device: mps\u001b[0m\n",
      "No sentence-transformers model found with name intfloat/multilingual-e5-base. Creating a new one with mean pooling.\n"
     ]
    }
   ],
   "source": [
    "embed_model_name = \"intfloat/multilingual-e5-base\"\n",
    "collection_name = \"moskva_intfloat_multilingual_e5_base\"\n",
    "\n",
    "\n",
    "review_search_tool = TravelReviewQueryTool(embed_model_name, qdrant_client, collection_name)\n",
    "\n",
    "\n",
    "agent = ToolCallingAgent(tools=[review_search_tool], model=model, max_steps=3, verbosity_level=2)"
   ]
  },
  {
   "cell_type": "code",
   "execution_count": 4,
   "id": "d0dbf3d5",
   "metadata": {},
   "outputs": [
    {
     "name": "stdout",
     "output_type": "stream",
     "text": [
      "You are an expert assistant who can solve any task using tool calls. You will be given a task to solve as best you can.\n",
      "To do so, you have been given access to some tools.\n",
      "\n",
      "The tool call you write is an action: after the tool is executed, you will get the result of the tool call as an \"observation\".\n",
      "This Action/Observation can repeat N times, you should take several steps when needed.\n",
      "\n",
      "You can use the result of the previous action as input for the next action.\n",
      "The observation will always be a string: it can represent a file, like \"image_1.jpg\".\n",
      "Then you can use it as input for the next action. You can do it for instance as follows:\n",
      "\n",
      "Observation: \"image_1.jpg\"\n",
      "\n",
      "Action:\n",
      "{\n",
      "  \"name\": \"image_transformer\",\n",
      "  \"arguments\": {\"image\": \"image_1.jpg\"}\n",
      "}\n",
      "\n",
      "To provide the final answer to the task, use an action blob with \"name\": \"final_answer\" tool. It is the only way to complete the task, else you will be stuck on a loop. So your final output should look like this:\n",
      "Action:\n",
      "{\n",
      "  \"name\": \"final_answer\",\n",
      "  \"arguments\": {\"answer\": \"insert your final answer here\"}\n",
      "}\n",
      "\n",
      "\n",
      "Here are a few examples using notional tools:\n",
      "---\n",
      "Task: \"Generate an image of the oldest person in this document.\"\n",
      "\n",
      "Action:\n",
      "{\n",
      "  \"name\": \"document_qa\",\n",
      "  \"arguments\": {\"document\": \"document.pdf\", \"question\": \"Who is the oldest person mentioned?\"}\n",
      "}\n",
      "Observation: \"The oldest person in the document is John Doe, a 55 year old lumberjack living in Newfoundland.\"\n",
      "\n",
      "Action:\n",
      "{\n",
      "  \"name\": \"image_generator\",\n",
      "  \"arguments\": {\"prompt\": \"A portrait of John Doe, a 55-year-old man living in Canada.\"}\n",
      "}\n",
      "Observation: \"image.png\"\n",
      "\n",
      "Action:\n",
      "{\n",
      "  \"name\": \"final_answer\",\n",
      "  \"arguments\": \"image.png\"\n",
      "}\n",
      "\n",
      "---\n",
      "Task: \"What is the result of the following operation: 5 + 3 + 1294.678?\"\n",
      "\n",
      "Action:\n",
      "{\n",
      "    \"name\": \"python_interpreter\",\n",
      "    \"arguments\": {\"code\": \"5 + 3 + 1294.678\"}\n",
      "}\n",
      "Observation: 1302.678\n",
      "\n",
      "Action:\n",
      "{\n",
      "  \"name\": \"final_answer\",\n",
      "  \"arguments\": \"1302.678\"\n",
      "}\n",
      "\n",
      "---\n",
      "Task: \"Which city has the highest population , Guangzhou or Shanghai?\"\n",
      "\n",
      "Action:\n",
      "{\n",
      "    \"name\": \"search\",\n",
      "    \"arguments\": \"Population Guangzhou\"\n",
      "}\n",
      "Observation: ['Guangzhou has a population of 15 million inhabitants as of 2021.']\n",
      "\n",
      "\n",
      "Action:\n",
      "{\n",
      "    \"name\": \"search\",\n",
      "    \"arguments\": \"Population Shanghai\"\n",
      "}\n",
      "Observation: '26 million (2019)'\n",
      "\n",
      "Action:\n",
      "{\n",
      "  \"name\": \"final_answer\",\n",
      "  \"arguments\": \"Shanghai\"\n",
      "}\n",
      "\n",
      "Above example were using notional tools that might not exist for you. You only have access to these tools:\n",
      "- travel_review_query: Использует семантический поиск для извлечения отзывов о местах только в Москве.\n",
      "    Takes inputs: {'query': {'type': 'string', 'description': \"Запрос для поиска отзыва. Должен быть семантически близок к искомым отзывам, например: посоветуй хорошую кофейню в Москве.\\nВажно: не упоминайте весь текст отзыва в ответе. Разрешено использовать только смысл содержания, например: 'Посетители отмечают, что в заведении чисто и комфортно'\"}}\n",
      "    Returns an output of type: string\n",
      "- final_answer: Provides a final answer to the given problem.\n",
      "    Takes inputs: {'answer': {'type': 'any', 'description': 'The final answer to the problem'}}\n",
      "    Returns an output of type: any\n",
      "\n",
      "Here are the rules you should always follow to solve your task:\n",
      "1. ALWAYS provide a tool call, else you will fail.\n",
      "2. Always use the right arguments for the tools. Never use variable names as the action arguments, use the value instead.\n",
      "3. Call a tool only when needed: do not call the search agent if you do not need information, try to solve the task yourself.\n",
      "If no tool call is needed, use final_answer tool to return your answer.\n",
      "4. Never re-do a tool call that you previously did with the exact same parameters.\n",
      "\n",
      "Now Begin!\n"
     ]
    }
   ],
   "source": [
    "print(agent.system_prompt)"
   ]
  },
  {
   "cell_type": "code",
   "execution_count": 5,
   "id": "09c78b79",
   "metadata": {},
   "outputs": [
    {
     "data": {
      "text/html": [
       "<pre style=\"white-space:pre;overflow-x:auto;line-height:normal;font-family:Menlo,'DejaVu Sans Mono',consolas,'Courier New',monospace\"><span style=\"color: #d4b702; text-decoration-color: #d4b702\">╭──────────────────────────────────────────────────── </span><span style=\"color: #d4b702; text-decoration-color: #d4b702; font-weight: bold\">New run</span><span style=\"color: #d4b702; text-decoration-color: #d4b702\"> ────────────────────────────────────────────────────╮</span>\n",
       "<span style=\"color: #d4b702; text-decoration-color: #d4b702\">│</span>                                                                                                                 <span style=\"color: #d4b702; text-decoration-color: #d4b702\">│</span>\n",
       "<span style=\"color: #d4b702; text-decoration-color: #d4b702\">│</span> <span style=\"font-weight: bold\">Что ты думаешь о римской империи?</span>                                                                               <span style=\"color: #d4b702; text-decoration-color: #d4b702\">│</span>\n",
       "<span style=\"color: #d4b702; text-decoration-color: #d4b702\">│</span>                                                                                                                 <span style=\"color: #d4b702; text-decoration-color: #d4b702\">│</span>\n",
       "<span style=\"color: #d4b702; text-decoration-color: #d4b702\">╰─ LiteLLMModel - ollama_chat/hf.co/IlyaGusev/saiga_nemo_12b_gguf:Q4_0 ───────────────────────────────────────────╯</span>\n",
       "</pre>\n"
      ],
      "text/plain": [
       "\u001b[38;2;212;183;2m╭─\u001b[0m\u001b[38;2;212;183;2m───────────────────────────────────────────────────\u001b[0m\u001b[38;2;212;183;2m \u001b[0m\u001b[1;38;2;212;183;2mNew run\u001b[0m\u001b[38;2;212;183;2m \u001b[0m\u001b[38;2;212;183;2m───────────────────────────────────────────────────\u001b[0m\u001b[38;2;212;183;2m─╮\u001b[0m\n",
       "\u001b[38;2;212;183;2m│\u001b[0m                                                                                                                 \u001b[38;2;212;183;2m│\u001b[0m\n",
       "\u001b[38;2;212;183;2m│\u001b[0m \u001b[1mЧто ты думаешь о римской империи?\u001b[0m                                                                               \u001b[38;2;212;183;2m│\u001b[0m\n",
       "\u001b[38;2;212;183;2m│\u001b[0m                                                                                                                 \u001b[38;2;212;183;2m│\u001b[0m\n",
       "\u001b[38;2;212;183;2m╰─\u001b[0m\u001b[38;2;212;183;2m LiteLLMModel - ollama_chat/hf.co/IlyaGusev/saiga_nemo_12b_gguf:Q4_0 \u001b[0m\u001b[38;2;212;183;2m──────────────────────────────────────────\u001b[0m\u001b[38;2;212;183;2m─╯\u001b[0m\n"
      ]
     },
     "metadata": {},
     "output_type": "display_data"
    },
    {
     "data": {
      "text/html": [
       "<pre style=\"white-space:pre;overflow-x:auto;line-height:normal;font-family:Menlo,'DejaVu Sans Mono',consolas,'Courier New',monospace\"><span style=\"color: #d4b702; text-decoration-color: #d4b702\">━━━━━━━━━━━━━━━━━━━━━━━━━━━━━━━━━━━━━━━━━━━━━━━━━━━━━ </span><span style=\"font-weight: bold\">Step </span><span style=\"color: #008080; text-decoration-color: #008080; font-weight: bold\">1</span><span style=\"color: #d4b702; text-decoration-color: #d4b702\"> ━━━━━━━━━━━━━━━━━━━━━━━━━━━━━━━━━━━━━━━━━━━━━━━━━━━━━━</span>\n",
       "</pre>\n"
      ],
      "text/plain": [
       "\u001b[38;2;212;183;2m━━━━━━━━━━━━━━━━━━━━━━━━━━━━━━━━━━━━━━━━━━━━━━━━━━━━━ \u001b[0m\u001b[1mStep \u001b[0m\u001b[1;36m1\u001b[0m\u001b[38;2;212;183;2m ━━━━━━━━━━━━━━━━━━━━━━━━━━━━━━━━━━━━━━━━━━━━━━━━━━━━━━\u001b[0m\n"
      ]
     },
     "metadata": {},
     "output_type": "display_data"
    },
    {
     "data": {
      "text/html": [
       "<pre style=\"white-space:pre;overflow-x:auto;line-height:normal;font-family:Menlo,'DejaVu Sans Mono',consolas,'Courier New',monospace\"><span style=\"font-weight: bold; font-style: italic\">Output message of the LLM:</span> <span style=\"color: #d4b702; text-decoration-color: #d4b702\">────────────────────────────────────────────────────────────────────────────────────────</span>\n",
       "<span style=\"color: #e6edf3; text-decoration-color: #e6edf3; background-color: #0d1117\">{</span><span style=\"background-color: #0d1117\">                                                                                                                  </span>\n",
       "<span style=\"color: #e6edf3; text-decoration-color: #e6edf3; background-color: #0d1117\">\"name\": \"final_answer\",</span><span style=\"background-color: #0d1117\">                                                                                            </span>\n",
       "<span style=\"color: #e6edf3; text-decoration-color: #e6edf3; background-color: #0d1117\">\"arguments\": {\"answer\": \"Римская империя была одним из величайших государственных образований в истории </span><span style=\"background-color: #0d1117\">           </span>\n",
       "<span style=\"color: #e6edf3; text-decoration-color: #e6edf3; background-color: #0d1117\">человечества. Вот краткий обзор её основных аспектов:\\n- Просуществовала более тысячи лет (примерно с 27 до н.э. по</span>\n",
       "<span style=\"color: #e6edf3; text-decoration-color: #e6edf3; background-color: #0d1117\">476 н.э.)\\n- Объединила под своим управлением огромные территории, включая большую часть Европы и Ближнего </span><span style=\"background-color: #0d1117\">        </span>\n",
       "<span style=\"color: #e6edf3; text-decoration-color: #e6edf3; background-color: #0d1117\">Востока\\n- Была центром искусства, архитектуры, права и литературы\\n- Развивала сложную административную систему и </span>\n",
       "<span style=\"color: #e6edf3; text-decoration-color: #e6edf3; background-color: #0d1117\">правовую основу (право Рима оказало значительное влияние на современное право)\\n- Внесла вклад в развитие </span><span style=\"background-color: #0d1117\">         </span>\n",
       "<span style=\"color: #e6edf3; text-decoration-color: #e6edf3; background-color: #0d1117\">инфраструктуры через строительство дорог и водопроводных систем\\n- Прошла через периоды расцвета и кризиса, </span><span style=\"background-color: #0d1117\">       </span>\n",
       "<span style=\"color: #e6edf3; text-decoration-color: #e6edf3; background-color: #0d1117\">завершив свое существование разделением на Западную и Восточную Римскую империи.\"}</span><span style=\"background-color: #0d1117\">                                 </span>\n",
       "<span style=\"color: #e6edf3; text-decoration-color: #e6edf3; background-color: #0d1117\">}</span><span style=\"background-color: #0d1117\">                                                                                                                  </span>\n",
       "</pre>\n"
      ],
      "text/plain": [
       "\u001b[1;3mOutput message of the LLM:\u001b[0m \u001b[38;2;212;183;2m────────────────────────────────────────────────────────────────────────────────────────\u001b[0m\n",
       "\u001b[38;2;230;237;243;48;2;13;17;23m{\u001b[0m\u001b[48;2;13;17;23m                                                                                                                  \u001b[0m\n",
       "\u001b[38;2;230;237;243;48;2;13;17;23m\"name\":\u001b[0m\u001b[38;2;230;237;243;48;2;13;17;23m \u001b[0m\u001b[38;2;230;237;243;48;2;13;17;23m\"final_answer\",\u001b[0m\u001b[48;2;13;17;23m                                                                                            \u001b[0m\n",
       "\u001b[38;2;230;237;243;48;2;13;17;23m\"arguments\":\u001b[0m\u001b[38;2;230;237;243;48;2;13;17;23m \u001b[0m\u001b[38;2;230;237;243;48;2;13;17;23m{\"answer\":\u001b[0m\u001b[38;2;230;237;243;48;2;13;17;23m \u001b[0m\u001b[38;2;230;237;243;48;2;13;17;23m\"Римская\u001b[0m\u001b[38;2;230;237;243;48;2;13;17;23m \u001b[0m\u001b[38;2;230;237;243;48;2;13;17;23mимперия\u001b[0m\u001b[38;2;230;237;243;48;2;13;17;23m \u001b[0m\u001b[38;2;230;237;243;48;2;13;17;23mбыла\u001b[0m\u001b[38;2;230;237;243;48;2;13;17;23m \u001b[0m\u001b[38;2;230;237;243;48;2;13;17;23mодним\u001b[0m\u001b[38;2;230;237;243;48;2;13;17;23m \u001b[0m\u001b[38;2;230;237;243;48;2;13;17;23mиз\u001b[0m\u001b[38;2;230;237;243;48;2;13;17;23m \u001b[0m\u001b[38;2;230;237;243;48;2;13;17;23mвеличайших\u001b[0m\u001b[38;2;230;237;243;48;2;13;17;23m \u001b[0m\u001b[38;2;230;237;243;48;2;13;17;23mгосударственных\u001b[0m\u001b[38;2;230;237;243;48;2;13;17;23m \u001b[0m\u001b[38;2;230;237;243;48;2;13;17;23mобразований\u001b[0m\u001b[38;2;230;237;243;48;2;13;17;23m \u001b[0m\u001b[38;2;230;237;243;48;2;13;17;23mв\u001b[0m\u001b[38;2;230;237;243;48;2;13;17;23m \u001b[0m\u001b[38;2;230;237;243;48;2;13;17;23mистории\u001b[0m\u001b[38;2;230;237;243;48;2;13;17;23m \u001b[0m\u001b[48;2;13;17;23m           \u001b[0m\n",
       "\u001b[38;2;230;237;243;48;2;13;17;23mчеловечества.\u001b[0m\u001b[38;2;230;237;243;48;2;13;17;23m \u001b[0m\u001b[38;2;230;237;243;48;2;13;17;23mВот\u001b[0m\u001b[38;2;230;237;243;48;2;13;17;23m \u001b[0m\u001b[38;2;230;237;243;48;2;13;17;23mкраткий\u001b[0m\u001b[38;2;230;237;243;48;2;13;17;23m \u001b[0m\u001b[38;2;230;237;243;48;2;13;17;23mобзор\u001b[0m\u001b[38;2;230;237;243;48;2;13;17;23m \u001b[0m\u001b[38;2;230;237;243;48;2;13;17;23mеё\u001b[0m\u001b[38;2;230;237;243;48;2;13;17;23m \u001b[0m\u001b[38;2;230;237;243;48;2;13;17;23mосновных\u001b[0m\u001b[38;2;230;237;243;48;2;13;17;23m \u001b[0m\u001b[38;2;230;237;243;48;2;13;17;23mаспектов:\u001b[0m\u001b[38;2;230;237;243;48;2;13;17;23m\\n\u001b[0m\u001b[38;2;230;237;243;48;2;13;17;23m-\u001b[0m\u001b[38;2;230;237;243;48;2;13;17;23m \u001b[0m\u001b[38;2;230;237;243;48;2;13;17;23mПросуществовала\u001b[0m\u001b[38;2;230;237;243;48;2;13;17;23m \u001b[0m\u001b[38;2;230;237;243;48;2;13;17;23mболее\u001b[0m\u001b[38;2;230;237;243;48;2;13;17;23m \u001b[0m\u001b[38;2;230;237;243;48;2;13;17;23mтысячи\u001b[0m\u001b[38;2;230;237;243;48;2;13;17;23m \u001b[0m\u001b[38;2;230;237;243;48;2;13;17;23mлет\u001b[0m\u001b[38;2;230;237;243;48;2;13;17;23m \u001b[0m\u001b[38;2;230;237;243;48;2;13;17;23m(примерно\u001b[0m\u001b[38;2;230;237;243;48;2;13;17;23m \u001b[0m\u001b[38;2;230;237;243;48;2;13;17;23mс\u001b[0m\u001b[38;2;230;237;243;48;2;13;17;23m \u001b[0m\u001b[38;2;230;237;243;48;2;13;17;23m27\u001b[0m\u001b[38;2;230;237;243;48;2;13;17;23m \u001b[0m\u001b[38;2;230;237;243;48;2;13;17;23mдо\u001b[0m\u001b[38;2;230;237;243;48;2;13;17;23m \u001b[0m\u001b[38;2;230;237;243;48;2;13;17;23mн.э.\u001b[0m\u001b[38;2;230;237;243;48;2;13;17;23m \u001b[0m\u001b[38;2;230;237;243;48;2;13;17;23mпо\u001b[0m\n",
       "\u001b[38;2;230;237;243;48;2;13;17;23m476\u001b[0m\u001b[38;2;230;237;243;48;2;13;17;23m \u001b[0m\u001b[38;2;230;237;243;48;2;13;17;23mн.э.)\u001b[0m\u001b[38;2;230;237;243;48;2;13;17;23m\\n\u001b[0m\u001b[38;2;230;237;243;48;2;13;17;23m-\u001b[0m\u001b[38;2;230;237;243;48;2;13;17;23m \u001b[0m\u001b[38;2;230;237;243;48;2;13;17;23mОбъединила\u001b[0m\u001b[38;2;230;237;243;48;2;13;17;23m \u001b[0m\u001b[38;2;230;237;243;48;2;13;17;23mпод\u001b[0m\u001b[38;2;230;237;243;48;2;13;17;23m \u001b[0m\u001b[38;2;230;237;243;48;2;13;17;23mсвоим\u001b[0m\u001b[38;2;230;237;243;48;2;13;17;23m \u001b[0m\u001b[38;2;230;237;243;48;2;13;17;23mуправлением\u001b[0m\u001b[38;2;230;237;243;48;2;13;17;23m \u001b[0m\u001b[38;2;230;237;243;48;2;13;17;23mогромные\u001b[0m\u001b[38;2;230;237;243;48;2;13;17;23m \u001b[0m\u001b[38;2;230;237;243;48;2;13;17;23mтерритории,\u001b[0m\u001b[38;2;230;237;243;48;2;13;17;23m \u001b[0m\u001b[38;2;230;237;243;48;2;13;17;23mвключая\u001b[0m\u001b[38;2;230;237;243;48;2;13;17;23m \u001b[0m\u001b[38;2;230;237;243;48;2;13;17;23mбольшую\u001b[0m\u001b[38;2;230;237;243;48;2;13;17;23m \u001b[0m\u001b[38;2;230;237;243;48;2;13;17;23mчасть\u001b[0m\u001b[38;2;230;237;243;48;2;13;17;23m \u001b[0m\u001b[38;2;230;237;243;48;2;13;17;23mЕвропы\u001b[0m\u001b[38;2;230;237;243;48;2;13;17;23m \u001b[0m\u001b[38;2;230;237;243;48;2;13;17;23mи\u001b[0m\u001b[38;2;230;237;243;48;2;13;17;23m \u001b[0m\u001b[38;2;230;237;243;48;2;13;17;23mБлижнего\u001b[0m\u001b[38;2;230;237;243;48;2;13;17;23m \u001b[0m\u001b[48;2;13;17;23m        \u001b[0m\n",
       "\u001b[38;2;230;237;243;48;2;13;17;23mВостока\u001b[0m\u001b[38;2;230;237;243;48;2;13;17;23m\\n\u001b[0m\u001b[38;2;230;237;243;48;2;13;17;23m-\u001b[0m\u001b[38;2;230;237;243;48;2;13;17;23m \u001b[0m\u001b[38;2;230;237;243;48;2;13;17;23mБыла\u001b[0m\u001b[38;2;230;237;243;48;2;13;17;23m \u001b[0m\u001b[38;2;230;237;243;48;2;13;17;23mцентром\u001b[0m\u001b[38;2;230;237;243;48;2;13;17;23m \u001b[0m\u001b[38;2;230;237;243;48;2;13;17;23mискусства,\u001b[0m\u001b[38;2;230;237;243;48;2;13;17;23m \u001b[0m\u001b[38;2;230;237;243;48;2;13;17;23mархитектуры,\u001b[0m\u001b[38;2;230;237;243;48;2;13;17;23m \u001b[0m\u001b[38;2;230;237;243;48;2;13;17;23mправа\u001b[0m\u001b[38;2;230;237;243;48;2;13;17;23m \u001b[0m\u001b[38;2;230;237;243;48;2;13;17;23mи\u001b[0m\u001b[38;2;230;237;243;48;2;13;17;23m \u001b[0m\u001b[38;2;230;237;243;48;2;13;17;23mлитературы\u001b[0m\u001b[38;2;230;237;243;48;2;13;17;23m\\n\u001b[0m\u001b[38;2;230;237;243;48;2;13;17;23m-\u001b[0m\u001b[38;2;230;237;243;48;2;13;17;23m \u001b[0m\u001b[38;2;230;237;243;48;2;13;17;23mРазвивала\u001b[0m\u001b[38;2;230;237;243;48;2;13;17;23m \u001b[0m\u001b[38;2;230;237;243;48;2;13;17;23mсложную\u001b[0m\u001b[38;2;230;237;243;48;2;13;17;23m \u001b[0m\u001b[38;2;230;237;243;48;2;13;17;23mадминистративную\u001b[0m\u001b[38;2;230;237;243;48;2;13;17;23m \u001b[0m\u001b[38;2;230;237;243;48;2;13;17;23mсистему\u001b[0m\u001b[38;2;230;237;243;48;2;13;17;23m \u001b[0m\u001b[38;2;230;237;243;48;2;13;17;23mи\u001b[0m\u001b[38;2;230;237;243;48;2;13;17;23m \u001b[0m\n",
       "\u001b[38;2;230;237;243;48;2;13;17;23mправовую\u001b[0m\u001b[38;2;230;237;243;48;2;13;17;23m \u001b[0m\u001b[38;2;230;237;243;48;2;13;17;23mоснову\u001b[0m\u001b[38;2;230;237;243;48;2;13;17;23m \u001b[0m\u001b[38;2;230;237;243;48;2;13;17;23m(право\u001b[0m\u001b[38;2;230;237;243;48;2;13;17;23m \u001b[0m\u001b[38;2;230;237;243;48;2;13;17;23mРима\u001b[0m\u001b[38;2;230;237;243;48;2;13;17;23m \u001b[0m\u001b[38;2;230;237;243;48;2;13;17;23mоказало\u001b[0m\u001b[38;2;230;237;243;48;2;13;17;23m \u001b[0m\u001b[38;2;230;237;243;48;2;13;17;23mзначительное\u001b[0m\u001b[38;2;230;237;243;48;2;13;17;23m \u001b[0m\u001b[38;2;230;237;243;48;2;13;17;23mвлияние\u001b[0m\u001b[38;2;230;237;243;48;2;13;17;23m \u001b[0m\u001b[38;2;230;237;243;48;2;13;17;23mна\u001b[0m\u001b[38;2;230;237;243;48;2;13;17;23m \u001b[0m\u001b[38;2;230;237;243;48;2;13;17;23mсовременное\u001b[0m\u001b[38;2;230;237;243;48;2;13;17;23m \u001b[0m\u001b[38;2;230;237;243;48;2;13;17;23mправо)\u001b[0m\u001b[38;2;230;237;243;48;2;13;17;23m\\n\u001b[0m\u001b[38;2;230;237;243;48;2;13;17;23m-\u001b[0m\u001b[38;2;230;237;243;48;2;13;17;23m \u001b[0m\u001b[38;2;230;237;243;48;2;13;17;23mВнесла\u001b[0m\u001b[38;2;230;237;243;48;2;13;17;23m \u001b[0m\u001b[38;2;230;237;243;48;2;13;17;23mвклад\u001b[0m\u001b[38;2;230;237;243;48;2;13;17;23m \u001b[0m\u001b[38;2;230;237;243;48;2;13;17;23mв\u001b[0m\u001b[38;2;230;237;243;48;2;13;17;23m \u001b[0m\u001b[38;2;230;237;243;48;2;13;17;23mразвитие\u001b[0m\u001b[38;2;230;237;243;48;2;13;17;23m \u001b[0m\u001b[48;2;13;17;23m         \u001b[0m\n",
       "\u001b[38;2;230;237;243;48;2;13;17;23mинфраструктуры\u001b[0m\u001b[38;2;230;237;243;48;2;13;17;23m \u001b[0m\u001b[38;2;230;237;243;48;2;13;17;23mчерез\u001b[0m\u001b[38;2;230;237;243;48;2;13;17;23m \u001b[0m\u001b[38;2;230;237;243;48;2;13;17;23mстроительство\u001b[0m\u001b[38;2;230;237;243;48;2;13;17;23m \u001b[0m\u001b[38;2;230;237;243;48;2;13;17;23mдорог\u001b[0m\u001b[38;2;230;237;243;48;2;13;17;23m \u001b[0m\u001b[38;2;230;237;243;48;2;13;17;23mи\u001b[0m\u001b[38;2;230;237;243;48;2;13;17;23m \u001b[0m\u001b[38;2;230;237;243;48;2;13;17;23mводопроводных\u001b[0m\u001b[38;2;230;237;243;48;2;13;17;23m \u001b[0m\u001b[38;2;230;237;243;48;2;13;17;23mсистем\u001b[0m\u001b[38;2;230;237;243;48;2;13;17;23m\\n\u001b[0m\u001b[38;2;230;237;243;48;2;13;17;23m-\u001b[0m\u001b[38;2;230;237;243;48;2;13;17;23m \u001b[0m\u001b[38;2;230;237;243;48;2;13;17;23mПрошла\u001b[0m\u001b[38;2;230;237;243;48;2;13;17;23m \u001b[0m\u001b[38;2;230;237;243;48;2;13;17;23mчерез\u001b[0m\u001b[38;2;230;237;243;48;2;13;17;23m \u001b[0m\u001b[38;2;230;237;243;48;2;13;17;23mпериоды\u001b[0m\u001b[38;2;230;237;243;48;2;13;17;23m \u001b[0m\u001b[38;2;230;237;243;48;2;13;17;23mрасцвета\u001b[0m\u001b[38;2;230;237;243;48;2;13;17;23m \u001b[0m\u001b[38;2;230;237;243;48;2;13;17;23mи\u001b[0m\u001b[38;2;230;237;243;48;2;13;17;23m \u001b[0m\u001b[38;2;230;237;243;48;2;13;17;23mкризиса,\u001b[0m\u001b[38;2;230;237;243;48;2;13;17;23m \u001b[0m\u001b[48;2;13;17;23m       \u001b[0m\n",
       "\u001b[38;2;230;237;243;48;2;13;17;23mзавершив\u001b[0m\u001b[38;2;230;237;243;48;2;13;17;23m \u001b[0m\u001b[38;2;230;237;243;48;2;13;17;23mсвое\u001b[0m\u001b[38;2;230;237;243;48;2;13;17;23m \u001b[0m\u001b[38;2;230;237;243;48;2;13;17;23mсуществование\u001b[0m\u001b[38;2;230;237;243;48;2;13;17;23m \u001b[0m\u001b[38;2;230;237;243;48;2;13;17;23mразделением\u001b[0m\u001b[38;2;230;237;243;48;2;13;17;23m \u001b[0m\u001b[38;2;230;237;243;48;2;13;17;23mна\u001b[0m\u001b[38;2;230;237;243;48;2;13;17;23m \u001b[0m\u001b[38;2;230;237;243;48;2;13;17;23mЗападную\u001b[0m\u001b[38;2;230;237;243;48;2;13;17;23m \u001b[0m\u001b[38;2;230;237;243;48;2;13;17;23mи\u001b[0m\u001b[38;2;230;237;243;48;2;13;17;23m \u001b[0m\u001b[38;2;230;237;243;48;2;13;17;23mВосточную\u001b[0m\u001b[38;2;230;237;243;48;2;13;17;23m \u001b[0m\u001b[38;2;230;237;243;48;2;13;17;23mРимскую\u001b[0m\u001b[38;2;230;237;243;48;2;13;17;23m \u001b[0m\u001b[38;2;230;237;243;48;2;13;17;23mимперии.\"}\u001b[0m\u001b[48;2;13;17;23m                                 \u001b[0m\n",
       "\u001b[38;2;230;237;243;48;2;13;17;23m}\u001b[0m\u001b[48;2;13;17;23m                                                                                                                  \u001b[0m\n"
      ]
     },
     "metadata": {},
     "output_type": "display_data"
    },
    {
     "data": {
      "text/html": [
       "<pre style=\"white-space:pre;overflow-x:auto;line-height:normal;font-family:Menlo,'DejaVu Sans Mono',consolas,'Courier New',monospace\">╭─────────────────────────────────────────────────────────────────────────────────────────────────────────────────╮\n",
       "│ Calling tool: 'final_answer' with arguments: {'answer': 'Римская империя была одним из величайших               │\n",
       "│ государственных образований в истории человечества. Вот краткий обзор её основных аспектов:\\n- Просуществовала  │\n",
       "│ более тысячи лет (примерно с 27 до н.э. по 476 н.э.)\\n- Объединила под своим управлением огромные территории,   │\n",
       "│ включая большую часть Европы и Ближнего Востока\\n- Была центром искусства, архитектуры, права и литературы\\n-   │\n",
       "│ Развивала сложную административную систему и правовую основу (право Рима оказало значительное влияние на        │\n",
       "│ современное право)\\n- Внесла вклад в развитие инфраструктуры через строительство дорог и водопроводных          │\n",
       "│ систем\\n- Прошла через периоды расцвета и кризиса, завершив свое существование разделением на Западную и        │\n",
       "│ Восточную Римскую империи.'}                                                                                    │\n",
       "╰─────────────────────────────────────────────────────────────────────────────────────────────────────────────────╯\n",
       "</pre>\n"
      ],
      "text/plain": [
       "╭─────────────────────────────────────────────────────────────────────────────────────────────────────────────────╮\n",
       "│ Calling tool: 'final_answer' with arguments: {'answer': 'Римская империя была одним из величайших               │\n",
       "│ государственных образований в истории человечества. Вот краткий обзор её основных аспектов:\\n- Просуществовала  │\n",
       "│ более тысячи лет (примерно с 27 до н.э. по 476 н.э.)\\n- Объединила под своим управлением огромные территории,   │\n",
       "│ включая большую часть Европы и Ближнего Востока\\n- Была центром искусства, архитектуры, права и литературы\\n-   │\n",
       "│ Развивала сложную административную систему и правовую основу (право Рима оказало значительное влияние на        │\n",
       "│ современное право)\\n- Внесла вклад в развитие инфраструктуры через строительство дорог и водопроводных          │\n",
       "│ систем\\n- Прошла через периоды расцвета и кризиса, завершив свое существование разделением на Западную и        │\n",
       "│ Восточную Римскую империи.'}                                                                                    │\n",
       "╰─────────────────────────────────────────────────────────────────────────────────────────────────────────────────╯\n"
      ]
     },
     "metadata": {},
     "output_type": "display_data"
    },
    {
     "data": {
      "text/html": [
       "<pre style=\"white-space:pre;overflow-x:auto;line-height:normal;font-family:Menlo,'DejaVu Sans Mono',consolas,'Courier New',monospace\"><span style=\"color: #d4b702; text-decoration-color: #d4b702; font-weight: bold\">Final answer: Римская империя была одним из величайших государственных образований в истории человечества. Вот </span>\n",
       "<span style=\"color: #d4b702; text-decoration-color: #d4b702; font-weight: bold\">краткий обзор её основных аспектов:</span>\n",
       "<span style=\"color: #d4b702; text-decoration-color: #d4b702; font-weight: bold\">- Просуществовала более тысячи лет (примерно с 27 до н.э. по 476 н.э.)</span>\n",
       "<span style=\"color: #d4b702; text-decoration-color: #d4b702; font-weight: bold\">- Объединила под своим управлением огромные территории, включая большую часть Европы и Ближнего Востока</span>\n",
       "<span style=\"color: #d4b702; text-decoration-color: #d4b702; font-weight: bold\">- Была центром искусства, архитектуры, права и литературы</span>\n",
       "<span style=\"color: #d4b702; text-decoration-color: #d4b702; font-weight: bold\">- Развивала сложную административную систему и правовую основу (право Рима оказало значительное влияние на </span>\n",
       "<span style=\"color: #d4b702; text-decoration-color: #d4b702; font-weight: bold\">современное право)</span>\n",
       "<span style=\"color: #d4b702; text-decoration-color: #d4b702; font-weight: bold\">- Внесла вклад в развитие инфраструктуры через строительство дорог и водопроводных систем</span>\n",
       "<span style=\"color: #d4b702; text-decoration-color: #d4b702; font-weight: bold\">- Прошла через периоды расцвета и кризиса, завершив свое существование разделением на Западную и Восточную Римскую </span>\n",
       "<span style=\"color: #d4b702; text-decoration-color: #d4b702; font-weight: bold\">империи.</span>\n",
       "</pre>\n"
      ],
      "text/plain": [
       "\u001b[1;38;2;212;183;2mFinal answer: Римская империя была одним из величайших государственных образований в истории человечества. Вот \u001b[0m\n",
       "\u001b[1;38;2;212;183;2mкраткий обзор её основных аспектов:\u001b[0m\n",
       "\u001b[1;38;2;212;183;2m- Просуществовала более тысячи лет (примерно с 27 до н.э. по 476 н.э.)\u001b[0m\n",
       "\u001b[1;38;2;212;183;2m- Объединила под своим управлением огромные территории, включая большую часть Европы и Ближнего Востока\u001b[0m\n",
       "\u001b[1;38;2;212;183;2m- Была центром искусства, архитектуры, права и литературы\u001b[0m\n",
       "\u001b[1;38;2;212;183;2m- Развивала сложную административную систему и правовую основу (право Рима оказало значительное влияние на \u001b[0m\n",
       "\u001b[1;38;2;212;183;2mсовременное право)\u001b[0m\n",
       "\u001b[1;38;2;212;183;2m- Внесла вклад в развитие инфраструктуры через строительство дорог и водопроводных систем\u001b[0m\n",
       "\u001b[1;38;2;212;183;2m- Прошла через периоды расцвета и кризиса, завершив свое существование разделением на Западную и Восточную Римскую \u001b[0m\n",
       "\u001b[1;38;2;212;183;2mимперии.\u001b[0m\n"
      ]
     },
     "metadata": {},
     "output_type": "display_data"
    },
    {
     "data": {
      "text/html": [
       "<pre style=\"white-space:pre;overflow-x:auto;line-height:normal;font-family:Menlo,'DejaVu Sans Mono',consolas,'Courier New',monospace\"><span style=\"color: #7f7f7f; text-decoration-color: #7f7f7f\">[Step 1: Duration 37.36 seconds| Input tokens: 1,252 | Output tokens: 207]</span>\n",
       "</pre>\n"
      ],
      "text/plain": [
       "\u001b[2m[Step 1: Duration 37.36 seconds| Input tokens: 1,252 | Output tokens: 207]\u001b[0m\n"
      ]
     },
     "metadata": {},
     "output_type": "display_data"
    },
    {
     "data": {
      "text/plain": [
       "'Римская империя была одним из величайших государственных образований в истории человечества. Вот краткий обзор её основных аспектов:\\n- Просуществовала более тысячи лет (примерно с 27 до н.э. по 476 н.э.)\\n- Объединила под своим управлением огромные территории, включая большую часть Европы и Ближнего Востока\\n- Была центром искусства, архитектуры, права и литературы\\n- Развивала сложную административную систему и правовую основу (право Рима оказало значительное влияние на современное право)\\n- Внесла вклад в развитие инфраструктуры через строительство дорог и водопроводных систем\\n- Прошла через периоды расцвета и кризиса, завершив свое существование разделением на Западную и Восточную Римскую империи.'"
      ]
     },
     "execution_count": 5,
     "metadata": {},
     "output_type": "execute_result"
    }
   ],
   "source": [
    "# Sanity check\n",
    "agent.run(\"Что ты думаешь о римской империи?\")"
   ]
  },
  {
   "cell_type": "code",
   "execution_count": 6,
   "id": "3c8b695d",
   "metadata": {},
   "outputs": [
    {
     "data": {
      "text/html": [
       "<pre style=\"white-space:pre;overflow-x:auto;line-height:normal;font-family:Menlo,'DejaVu Sans Mono',consolas,'Courier New',monospace\"><span style=\"color: #d4b702; text-decoration-color: #d4b702\">╭──────────────────────────────────────────────────── </span><span style=\"color: #d4b702; text-decoration-color: #d4b702; font-weight: bold\">New run</span><span style=\"color: #d4b702; text-decoration-color: #d4b702\"> ────────────────────────────────────────────────────╮</span>\n",
       "<span style=\"color: #d4b702; text-decoration-color: #d4b702\">│</span>                                                                                                                 <span style=\"color: #d4b702; text-decoration-color: #d4b702\">│</span>\n",
       "<span style=\"color: #d4b702; text-decoration-color: #d4b702\">│</span> <span style=\"font-weight: bold\">Я бы хотел посетить японский ресторан. Можешь ли посоветовать хороший в Москве?</span>                                 <span style=\"color: #d4b702; text-decoration-color: #d4b702\">│</span>\n",
       "<span style=\"color: #d4b702; text-decoration-color: #d4b702\">│</span>                                                                                                                 <span style=\"color: #d4b702; text-decoration-color: #d4b702\">│</span>\n",
       "<span style=\"color: #d4b702; text-decoration-color: #d4b702\">╰─ LiteLLMModel - ollama_chat/hf.co/IlyaGusev/saiga_nemo_12b_gguf:Q4_0 ───────────────────────────────────────────╯</span>\n",
       "</pre>\n"
      ],
      "text/plain": [
       "\u001b[38;2;212;183;2m╭─\u001b[0m\u001b[38;2;212;183;2m───────────────────────────────────────────────────\u001b[0m\u001b[38;2;212;183;2m \u001b[0m\u001b[1;38;2;212;183;2mNew run\u001b[0m\u001b[38;2;212;183;2m \u001b[0m\u001b[38;2;212;183;2m───────────────────────────────────────────────────\u001b[0m\u001b[38;2;212;183;2m─╮\u001b[0m\n",
       "\u001b[38;2;212;183;2m│\u001b[0m                                                                                                                 \u001b[38;2;212;183;2m│\u001b[0m\n",
       "\u001b[38;2;212;183;2m│\u001b[0m \u001b[1mЯ бы хотел посетить японский ресторан. Можешь ли посоветовать хороший в Москве?\u001b[0m                                 \u001b[38;2;212;183;2m│\u001b[0m\n",
       "\u001b[38;2;212;183;2m│\u001b[0m                                                                                                                 \u001b[38;2;212;183;2m│\u001b[0m\n",
       "\u001b[38;2;212;183;2m╰─\u001b[0m\u001b[38;2;212;183;2m LiteLLMModel - ollama_chat/hf.co/IlyaGusev/saiga_nemo_12b_gguf:Q4_0 \u001b[0m\u001b[38;2;212;183;2m──────────────────────────────────────────\u001b[0m\u001b[38;2;212;183;2m─╯\u001b[0m\n"
      ]
     },
     "metadata": {},
     "output_type": "display_data"
    },
    {
     "data": {
      "text/html": [
       "<pre style=\"white-space:pre;overflow-x:auto;line-height:normal;font-family:Menlo,'DejaVu Sans Mono',consolas,'Courier New',monospace\"><span style=\"color: #d4b702; text-decoration-color: #d4b702\">━━━━━━━━━━━━━━━━━━━━━━━━━━━━━━━━━━━━━━━━━━━━━━━━━━━━━ </span><span style=\"font-weight: bold\">Step </span><span style=\"color: #008080; text-decoration-color: #008080; font-weight: bold\">1</span><span style=\"color: #d4b702; text-decoration-color: #d4b702\"> ━━━━━━━━━━━━━━━━━━━━━━━━━━━━━━━━━━━━━━━━━━━━━━━━━━━━━━</span>\n",
       "</pre>\n"
      ],
      "text/plain": [
       "\u001b[38;2;212;183;2m━━━━━━━━━━━━━━━━━━━━━━━━━━━━━━━━━━━━━━━━━━━━━━━━━━━━━ \u001b[0m\u001b[1mStep \u001b[0m\u001b[1;36m1\u001b[0m\u001b[38;2;212;183;2m ━━━━━━━━━━━━━━━━━━━━━━━━━━━━━━━━━━━━━━━━━━━━━━━━━━━━━━\u001b[0m\n"
      ]
     },
     "metadata": {},
     "output_type": "display_data"
    },
    {
     "data": {
      "text/html": [
       "<pre style=\"white-space:pre;overflow-x:auto;line-height:normal;font-family:Menlo,'DejaVu Sans Mono',consolas,'Courier New',monospace\"><span style=\"font-weight: bold; font-style: italic\">Output message of the LLM:</span> <span style=\"color: #d4b702; text-decoration-color: #d4b702\">────────────────────────────────────────────────────────────────────────────────────────</span>\n",
       "<span style=\"color: #e6edf3; text-decoration-color: #e6edf3; background-color: #0d1117\">{</span><span style=\"background-color: #0d1117\">                                                                                                                  </span>\n",
       "<span style=\"color: #e6edf3; text-decoration-color: #e6edf3; background-color: #0d1117\">  \"name\": \"travel_review_query\",</span><span style=\"background-color: #0d1117\">                                                                                   </span>\n",
       "<span style=\"color: #e6edf3; text-decoration-color: #e6edf3; background-color: #0d1117\">  \"arguments\": {\"query\": \"посоветуй хороший японский ресторан в Москве\"}</span><span style=\"background-color: #0d1117\">                                           </span>\n",
       "<span style=\"color: #e6edf3; text-decoration-color: #e6edf3; background-color: #0d1117\">}</span><span style=\"background-color: #0d1117\">                                                                                                                  </span>\n",
       "</pre>\n"
      ],
      "text/plain": [
       "\u001b[1;3mOutput message of the LLM:\u001b[0m \u001b[38;2;212;183;2m────────────────────────────────────────────────────────────────────────────────────────\u001b[0m\n",
       "\u001b[38;2;230;237;243;48;2;13;17;23m{\u001b[0m\u001b[48;2;13;17;23m                                                                                                                  \u001b[0m\n",
       "\u001b[38;2;230;237;243;48;2;13;17;23m \u001b[0m\u001b[38;2;230;237;243;48;2;13;17;23m \u001b[0m\u001b[38;2;230;237;243;48;2;13;17;23m\"name\":\u001b[0m\u001b[38;2;230;237;243;48;2;13;17;23m \u001b[0m\u001b[38;2;230;237;243;48;2;13;17;23m\"travel_review_query\",\u001b[0m\u001b[48;2;13;17;23m                                                                                   \u001b[0m\n",
       "\u001b[38;2;230;237;243;48;2;13;17;23m \u001b[0m\u001b[38;2;230;237;243;48;2;13;17;23m \u001b[0m\u001b[38;2;230;237;243;48;2;13;17;23m\"arguments\":\u001b[0m\u001b[38;2;230;237;243;48;2;13;17;23m \u001b[0m\u001b[38;2;230;237;243;48;2;13;17;23m{\"query\":\u001b[0m\u001b[38;2;230;237;243;48;2;13;17;23m \u001b[0m\u001b[38;2;230;237;243;48;2;13;17;23m\"посоветуй\u001b[0m\u001b[38;2;230;237;243;48;2;13;17;23m \u001b[0m\u001b[38;2;230;237;243;48;2;13;17;23mхороший\u001b[0m\u001b[38;2;230;237;243;48;2;13;17;23m \u001b[0m\u001b[38;2;230;237;243;48;2;13;17;23mяпонский\u001b[0m\u001b[38;2;230;237;243;48;2;13;17;23m \u001b[0m\u001b[38;2;230;237;243;48;2;13;17;23mресторан\u001b[0m\u001b[38;2;230;237;243;48;2;13;17;23m \u001b[0m\u001b[38;2;230;237;243;48;2;13;17;23mв\u001b[0m\u001b[38;2;230;237;243;48;2;13;17;23m \u001b[0m\u001b[38;2;230;237;243;48;2;13;17;23mМоскве\"}\u001b[0m\u001b[48;2;13;17;23m                                           \u001b[0m\n",
       "\u001b[38;2;230;237;243;48;2;13;17;23m}\u001b[0m\u001b[48;2;13;17;23m                                                                                                                  \u001b[0m\n"
      ]
     },
     "metadata": {},
     "output_type": "display_data"
    },
    {
     "data": {
      "text/html": [
       "<pre style=\"white-space:pre;overflow-x:auto;line-height:normal;font-family:Menlo,'DejaVu Sans Mono',consolas,'Courier New',monospace\">╭─────────────────────────────────────────────────────────────────────────────────────────────────────────────────╮\n",
       "│ Calling tool: 'travel_review_query' with arguments: {'query': 'посоветуй хороший японский ресторан в Москве'}   │\n",
       "╰─────────────────────────────────────────────────────────────────────────────────────────────────────────────────╯\n",
       "</pre>\n"
      ],
      "text/plain": [
       "╭─────────────────────────────────────────────────────────────────────────────────────────────────────────────────╮\n",
       "│ Calling tool: 'travel_review_query' with arguments: {'query': 'посоветуй хороший японский ресторан в Москве'}   │\n",
       "╰─────────────────────────────────────────────────────────────────────────────────────────────────────────────────╯\n"
      ]
     },
     "metadata": {},
     "output_type": "display_data"
    },
    {
     "name": "stderr",
     "output_type": "stream",
     "text": [
      "huggingface/tokenizers: The current process just got forked, after parallelism has already been used. Disabling parallelism to avoid deadlocks...\n",
      "To disable this warning, you can either:\n",
      "\t- Avoid using `tokenizers` before the fork if possible\n",
      "\t- Explicitly set the environment variable TOKENIZERS_PARALLELISM=(true | false)\n"
     ]
    },
    {
     "data": {
      "text/html": [
       "<pre style=\"white-space:pre;overflow-x:auto;line-height:normal;font-family:Menlo,'DejaVu Sans Mono',consolas,'Courier New',monospace\">Observations: Найденные отзывы о местах:\n",
       "\n",
       "=== Отзыв на Izumi ===\n",
       "Адрес: Москва, Мясницкая улица, 38с1\n",
       "Рейтинг: <span style=\"color: #008080; text-decoration-color: #008080; font-weight: bold\">5.0</span>\n",
       "Категории: Ресторан;Бар, паб;Караоке-клуб\n",
       "Текст: Одно из самых любимых заведений японской кухни в Москве!  За адекватную цену вы получите действительно \n",
       "вкусное, похожее на настоящее, японское блюдо. Разнообразное меню и изобилие различных видов саке. Приятный \n",
       "интерьер. Отдельно хочется отметить удобную функцию вызова официанта с помощью кнопочки на столе :<span style=\"font-weight: bold\">)</span> \n",
       "\n",
       "=== Отзыв на Tsunami Sushi &amp; Cocktails ===\n",
       "Адрес: Москва, Благовещенский переулок, 1А\n",
       "Рейтинг: <span style=\"color: #008080; text-decoration-color: #008080; font-weight: bold\">5.0</span>\n",
       "Категории: Ресторан;Бар, паб;Суши-бар\n",
       "Текст: Бомбически! Хотела поесть действительно вкусных роллов и не прогадала с выбором места. Приятный интерьер в \n",
       "стиле неонового Токио, техно/хаус музыка, которая не отвлекает от ужина, а только добавляет атмосферы. Посадка \n",
       "практически полная, но разговоры не мешали, шумно не было.  Брали роллы Мега Лосось, Радуга, Нигири с лососем и оши\n",
       "с гребешком. Очень вкусно и очень сытно. Рыба свежая, сочетания вкусов потрясающие. Муж брал коктейли и тоже \n",
       "остался доволен.  UPD <span style=\"color: #008080; text-decoration-color: #008080; font-weight: bold\">17</span> июня <span style=\"color: #008080; text-decoration-color: #008080; font-weight: bold\">2023</span>: Выбрала Tsunami, чтобы вдвоём с мужем отпраздновать мой день рождения. Как \n",
       "всегда безукаризненное обслуживание, наивкуснейшая еда, шикарная атмосфера. Пока люимое заведение японской кухни в \n",
       "Москве, куда действительно хочется возвращаться. \n",
       "\n",
       "=== Отзыв на Тануки ===\n",
       "Адрес: Москва, Новокосинская улица, <span style=\"color: #008080; text-decoration-color: #008080; font-weight: bold\">36</span>\n",
       "Рейтинг: <span style=\"color: #008080; text-decoration-color: #008080; font-weight: bold\">4.0</span>\n",
       "Категории: Ресторан;Суши-бар;Доставка еды и обедов\n",
       "Текст: Всем привет! Идём в <span style=\"color: #008000; text-decoration-color: #008000\">\"Тануки\"</span><span style=\"font-weight: bold\">)</span>: роллы и суши да, вкусно, качественно, порции конечно уменьшились, но в целом \n",
       "приемлимо. С детьми там можно отдохнуть, есть детская комната, в сбб и вс работают аниматоры, шум и гам стоит \n",
       "знатный!<span style=\"font-weight: bold\">))</span>. Если идти туда  без детей  на любителя,  было бы другое приличное место, хоть маленький ресторанчик, в \n",
       "Новокосино, я бы выбрала другое, без детских воплей и криков. А так  добро пожаловать, выпейте побольше пива, или \n",
       "что покрепче и шум вам ни почём!<span style=\"font-weight: bold\">)</span>😂 Обслуживание, сервис  хорошие, но не сказать, что бы впечатляющие🤷‍♂️ Вобщем, в \n",
       "Новокосино у вас всего <span style=\"color: #008080; text-decoration-color: #008080; font-weight: bold\">2</span> варианта приличного кафе <span style=\"font-weight: bold\">(</span>на ресторан это не тянет, хоть как посмотри<span style=\"font-weight: bold\">)</span> либо японская кухня\n",
       "и это <span style=\"color: #008000; text-decoration-color: #008000\">\"Тануки\"</span>, либо узбекская и это <span style=\"color: #008000; text-decoration-color: #008000\">\"Чайхона\"</span>,  удивительно, что в столице России приходится делать такой выбор! \n",
       "Если отзыв прочитает какойлибо ресторатор, то  прямо обращаюсь: <span style=\"color: #008000; text-decoration-color: #008000\">\"Откройте пожалуйста в Новокосино   кафе, с  </span>\n",
       "<span style=\"color: #008000; text-decoration-color: #008000\">привычной нам всем русской кухней!\"</span> \n",
       "\n",
       "=== Отзыв на Izumi ===\n",
       "Адрес: Москва, Мясницкая улица, 38с1\n",
       "Рейтинг: <span style=\"color: #008080; text-decoration-color: #008080; font-weight: bold\">5.0</span>\n",
       "Категории: Ресторан;Бар, паб;Караоке-клуб\n",
       "Текст: Прекрасное место с великолепным тихим антуражем. Был днём, с друзьями. Еда от японского шефа на любой вкус, \n",
       "и для тех кто не любит рыбу и морепродукты и для тех кто их обожает. Я лично ел Тонкацу Рамен, мне очень \n",
       "понравилось, в отличии от большинства мест в Москве где всëтаки готовится под ожидания русских, тут именно что \n",
       "необычный вкус явно не из того  тех что можно попробовать в други местах.   Именно тут я пожалуй понял что именно \n",
       "японцы имеют ввиду по умами вкусом, реально очень плотный и при этом совершенно нежирный бульон просто пропитан \n",
       "вкусом который в других кухнях встречается довольно редко даже при самом поедании мяса. Однозначно рекомендую, \n",
       "однако предупреждаю что напитки как алко так и без состоят изо льда на <span style=\"color: #008080; text-decoration-color: #008080; font-weight: bold\">80</span>%. \n",
       "\n",
       "=== Отзыв на Якитория ===\n",
       "Адрес: Москва, улица Маршала Полубоярова, <span style=\"color: #008080; text-decoration-color: #008080; font-weight: bold\">1</span>\n",
       "Рейтинг: <span style=\"color: #008080; text-decoration-color: #008080; font-weight: bold\">5.0</span>\n",
       "Категории: Суши-бар;Ресторан;Доставка еды и обедов\n",
       "Текст: Очень хороший  ресторанчик японской кухни. Заказываю всегда отсюда если хочется роллов. Очень вкусные \n",
       "горячие роллы. Детям также будет интересно перекусить тут.\n",
       "</pre>\n"
      ],
      "text/plain": [
       "Observations: Найденные отзывы о местах:\n",
       "\n",
       "=== Отзыв на Izumi ===\n",
       "Адрес: Москва, Мясницкая улица, 38с1\n",
       "Рейтинг: \u001b[1;36m5.0\u001b[0m\n",
       "Категории: Ресторан;Бар, паб;Караоке-клуб\n",
       "Текст: Одно из самых любимых заведений японской кухни в Москве!  За адекватную цену вы получите действительно \n",
       "вкусное, похожее на настоящее, японское блюдо. Разнообразное меню и изобилие различных видов саке. Приятный \n",
       "интерьер. Отдельно хочется отметить удобную функцию вызова официанта с помощью кнопочки на столе :\u001b[1m)\u001b[0m \n",
       "\n",
       "=== Отзыв на Tsunami Sushi & Cocktails ===\n",
       "Адрес: Москва, Благовещенский переулок, 1А\n",
       "Рейтинг: \u001b[1;36m5.0\u001b[0m\n",
       "Категории: Ресторан;Бар, паб;Суши-бар\n",
       "Текст: Бомбически! Хотела поесть действительно вкусных роллов и не прогадала с выбором места. Приятный интерьер в \n",
       "стиле неонового Токио, техно/хаус музыка, которая не отвлекает от ужина, а только добавляет атмосферы. Посадка \n",
       "практически полная, но разговоры не мешали, шумно не было.  Брали роллы Мега Лосось, Радуга, Нигири с лососем и оши\n",
       "с гребешком. Очень вкусно и очень сытно. Рыба свежая, сочетания вкусов потрясающие. Муж брал коктейли и тоже \n",
       "остался доволен.  UPD \u001b[1;36m17\u001b[0m июня \u001b[1;36m2023\u001b[0m: Выбрала Tsunami, чтобы вдвоём с мужем отпраздновать мой день рождения. Как \n",
       "всегда безукаризненное обслуживание, наивкуснейшая еда, шикарная атмосфера. Пока люимое заведение японской кухни в \n",
       "Москве, куда действительно хочется возвращаться. \n",
       "\n",
       "=== Отзыв на Тануки ===\n",
       "Адрес: Москва, Новокосинская улица, \u001b[1;36m36\u001b[0m\n",
       "Рейтинг: \u001b[1;36m4.0\u001b[0m\n",
       "Категории: Ресторан;Суши-бар;Доставка еды и обедов\n",
       "Текст: Всем привет! Идём в \u001b[32m\"Тануки\"\u001b[0m\u001b[1m)\u001b[0m: роллы и суши да, вкусно, качественно, порции конечно уменьшились, но в целом \n",
       "приемлимо. С детьми там можно отдохнуть, есть детская комната, в сбб и вс работают аниматоры, шум и гам стоит \n",
       "знатный!\u001b[1m)\u001b[0m\u001b[1m)\u001b[0m. Если идти туда  без детей  на любителя,  было бы другое приличное место, хоть маленький ресторанчик, в \n",
       "Новокосино, я бы выбрала другое, без детских воплей и криков. А так  добро пожаловать, выпейте побольше пива, или \n",
       "что покрепче и шум вам ни почём!\u001b[1m)\u001b[0m😂 Обслуживание, сервис  хорошие, но не сказать, что бы впечатляющие🤷‍♂️ Вобщем, в \n",
       "Новокосино у вас всего \u001b[1;36m2\u001b[0m варианта приличного кафе \u001b[1m(\u001b[0mна ресторан это не тянет, хоть как посмотри\u001b[1m)\u001b[0m либо японская кухня\n",
       "и это \u001b[32m\"Тануки\"\u001b[0m, либо узбекская и это \u001b[32m\"Чайхона\"\u001b[0m,  удивительно, что в столице России приходится делать такой выбор! \n",
       "Если отзыв прочитает какойлибо ресторатор, то  прямо обращаюсь: \u001b[32m\"Откройте пожалуйста в Новокосино   кафе, с  \u001b[0m\n",
       "\u001b[32mпривычной нам всем русской кухней!\"\u001b[0m \n",
       "\n",
       "=== Отзыв на Izumi ===\n",
       "Адрес: Москва, Мясницкая улица, 38с1\n",
       "Рейтинг: \u001b[1;36m5.0\u001b[0m\n",
       "Категории: Ресторан;Бар, паб;Караоке-клуб\n",
       "Текст: Прекрасное место с великолепным тихим антуражем. Был днём, с друзьями. Еда от японского шефа на любой вкус, \n",
       "и для тех кто не любит рыбу и морепродукты и для тех кто их обожает. Я лично ел Тонкацу Рамен, мне очень \n",
       "понравилось, в отличии от большинства мест в Москве где всëтаки готовится под ожидания русских, тут именно что \n",
       "необычный вкус явно не из того  тех что можно попробовать в други местах.   Именно тут я пожалуй понял что именно \n",
       "японцы имеют ввиду по умами вкусом, реально очень плотный и при этом совершенно нежирный бульон просто пропитан \n",
       "вкусом который в других кухнях встречается довольно редко даже при самом поедании мяса. Однозначно рекомендую, \n",
       "однако предупреждаю что напитки как алко так и без состоят изо льда на \u001b[1;36m80\u001b[0m%. \n",
       "\n",
       "=== Отзыв на Якитория ===\n",
       "Адрес: Москва, улица Маршала Полубоярова, \u001b[1;36m1\u001b[0m\n",
       "Рейтинг: \u001b[1;36m5.0\u001b[0m\n",
       "Категории: Суши-бар;Ресторан;Доставка еды и обедов\n",
       "Текст: Очень хороший  ресторанчик японской кухни. Заказываю всегда отсюда если хочется роллов. Очень вкусные \n",
       "горячие роллы. Детям также будет интересно перекусить тут.\n"
      ]
     },
     "metadata": {},
     "output_type": "display_data"
    },
    {
     "data": {
      "text/html": [
       "<pre style=\"white-space:pre;overflow-x:auto;line-height:normal;font-family:Menlo,'DejaVu Sans Mono',consolas,'Courier New',monospace\"><span style=\"color: #7f7f7f; text-decoration-color: #7f7f7f\">[Step 1: Duration 21.77 seconds| Input tokens: 1,266 | Output tokens: 37]</span>\n",
       "</pre>\n"
      ],
      "text/plain": [
       "\u001b[2m[Step 1: Duration 21.77 seconds| Input tokens: 1,266 | Output tokens: 37]\u001b[0m\n"
      ]
     },
     "metadata": {},
     "output_type": "display_data"
    },
    {
     "data": {
      "text/html": [
       "<pre style=\"white-space:pre;overflow-x:auto;line-height:normal;font-family:Menlo,'DejaVu Sans Mono',consolas,'Courier New',monospace\"><span style=\"color: #d4b702; text-decoration-color: #d4b702\">━━━━━━━━━━━━━━━━━━━━━━━━━━━━━━━━━━━━━━━━━━━━━━━━━━━━━ </span><span style=\"font-weight: bold\">Step </span><span style=\"color: #008080; text-decoration-color: #008080; font-weight: bold\">2</span><span style=\"color: #d4b702; text-decoration-color: #d4b702\"> ━━━━━━━━━━━━━━━━━━━━━━━━━━━━━━━━━━━━━━━━━━━━━━━━━━━━━━</span>\n",
       "</pre>\n"
      ],
      "text/plain": [
       "\u001b[38;2;212;183;2m━━━━━━━━━━━━━━━━━━━━━━━━━━━━━━━━━━━━━━━━━━━━━━━━━━━━━ \u001b[0m\u001b[1mStep \u001b[0m\u001b[1;36m2\u001b[0m\u001b[38;2;212;183;2m ━━━━━━━━━━━━━━━━━━━━━━━━━━━━━━━━━━━━━━━━━━━━━━━━━━━━━━\u001b[0m\n"
      ]
     },
     "metadata": {},
     "output_type": "display_data"
    },
    {
     "data": {
      "text/html": [
       "<pre style=\"white-space:pre;overflow-x:auto;line-height:normal;font-family:Menlo,'DejaVu Sans Mono',consolas,'Courier New',monospace\"><span style=\"font-weight: bold; font-style: italic\">Output message of the LLM:</span> <span style=\"color: #d4b702; text-decoration-color: #d4b702\">────────────────────────────────────────────────────────────────────────────────────────</span>\n",
       "<span style=\"color: #e6edf3; text-decoration-color: #e6edf3; background-color: #0d1117\">{ </span><span style=\"background-color: #0d1117\">                                                                                                                 </span>\n",
       "<span style=\"color: #e6edf3; text-decoration-color: #e6edf3; background-color: #0d1117\">    \"name\": \"final_answer\",</span><span style=\"background-color: #0d1117\">                                                                                        </span>\n",
       "<span style=\"color: #e6edf3; text-decoration-color: #e6edf3; background-color: #0d1117\">    \"arguments\": {</span><span style=\"background-color: #0d1117\">                                                                                                 </span>\n",
       "<span style=\"color: #e6edf3; text-decoration-color: #e6edf3; background-color: #0d1117\">        \"answer\": \"Основываясь на полученных отзывах, рекомендую посетить ресторан 'Izumi' по адресу Мясницкая </span><span style=\"background-color: #0d1117\">    </span>\n",
       "<span style=\"color: #e6edf3; text-decoration-color: #e6edf3; background-color: #0d1117\">улица, д.38с1 в Москве. Отзывы отмечают разнообразие блюд, качественное обслуживание и приятную атмосферу. Также </span><span style=\"background-color: #0d1117\">  </span>\n",
       "<span style=\"color: #e6edf3; text-decoration-color: #e6edf3; background-color: #0d1117\">стоит обратить внимание на 'Tsunami Sushi &amp; Cocktails', расположенный по адресу Благовещенский переулок, д.1А, </span><span style=\"background-color: #0d1117\">    </span>\n",
       "<span style=\"color: #e6edf3; text-decoration-color: #e6edf3; background-color: #0d1117\">особенно если вы цените не только еду, но и современную атмосферу.\"</span><span style=\"background-color: #0d1117\">                                                </span>\n",
       "<span style=\"color: #e6edf3; text-decoration-color: #e6edf3; background-color: #0d1117\">    }</span><span style=\"background-color: #0d1117\">                                                                                                              </span>\n",
       "<span style=\"color: #e6edf3; text-decoration-color: #e6edf3; background-color: #0d1117\">}</span><span style=\"background-color: #0d1117\">                                                                                                                  </span>\n",
       "</pre>\n"
      ],
      "text/plain": [
       "\u001b[1;3mOutput message of the LLM:\u001b[0m \u001b[38;2;212;183;2m────────────────────────────────────────────────────────────────────────────────────────\u001b[0m\n",
       "\u001b[38;2;230;237;243;48;2;13;17;23m{\u001b[0m\u001b[38;2;230;237;243;48;2;13;17;23m \u001b[0m\u001b[48;2;13;17;23m                                                                                                                 \u001b[0m\n",
       "\u001b[38;2;230;237;243;48;2;13;17;23m \u001b[0m\u001b[38;2;230;237;243;48;2;13;17;23m \u001b[0m\u001b[38;2;230;237;243;48;2;13;17;23m \u001b[0m\u001b[38;2;230;237;243;48;2;13;17;23m \u001b[0m\u001b[38;2;230;237;243;48;2;13;17;23m\"name\":\u001b[0m\u001b[38;2;230;237;243;48;2;13;17;23m \u001b[0m\u001b[38;2;230;237;243;48;2;13;17;23m\"final_answer\",\u001b[0m\u001b[48;2;13;17;23m                                                                                        \u001b[0m\n",
       "\u001b[38;2;230;237;243;48;2;13;17;23m \u001b[0m\u001b[38;2;230;237;243;48;2;13;17;23m \u001b[0m\u001b[38;2;230;237;243;48;2;13;17;23m \u001b[0m\u001b[38;2;230;237;243;48;2;13;17;23m \u001b[0m\u001b[38;2;230;237;243;48;2;13;17;23m\"arguments\":\u001b[0m\u001b[38;2;230;237;243;48;2;13;17;23m \u001b[0m\u001b[38;2;230;237;243;48;2;13;17;23m{\u001b[0m\u001b[48;2;13;17;23m                                                                                                 \u001b[0m\n",
       "\u001b[38;2;230;237;243;48;2;13;17;23m \u001b[0m\u001b[38;2;230;237;243;48;2;13;17;23m \u001b[0m\u001b[38;2;230;237;243;48;2;13;17;23m \u001b[0m\u001b[38;2;230;237;243;48;2;13;17;23m \u001b[0m\u001b[38;2;230;237;243;48;2;13;17;23m \u001b[0m\u001b[38;2;230;237;243;48;2;13;17;23m \u001b[0m\u001b[38;2;230;237;243;48;2;13;17;23m \u001b[0m\u001b[38;2;230;237;243;48;2;13;17;23m \u001b[0m\u001b[38;2;230;237;243;48;2;13;17;23m\"answer\":\u001b[0m\u001b[38;2;230;237;243;48;2;13;17;23m \u001b[0m\u001b[38;2;230;237;243;48;2;13;17;23m\"Основываясь\u001b[0m\u001b[38;2;230;237;243;48;2;13;17;23m \u001b[0m\u001b[38;2;230;237;243;48;2;13;17;23mна\u001b[0m\u001b[38;2;230;237;243;48;2;13;17;23m \u001b[0m\u001b[38;2;230;237;243;48;2;13;17;23mполученных\u001b[0m\u001b[38;2;230;237;243;48;2;13;17;23m \u001b[0m\u001b[38;2;230;237;243;48;2;13;17;23mотзывах,\u001b[0m\u001b[38;2;230;237;243;48;2;13;17;23m \u001b[0m\u001b[38;2;230;237;243;48;2;13;17;23mрекомендую\u001b[0m\u001b[38;2;230;237;243;48;2;13;17;23m \u001b[0m\u001b[38;2;230;237;243;48;2;13;17;23mпосетить\u001b[0m\u001b[38;2;230;237;243;48;2;13;17;23m \u001b[0m\u001b[38;2;230;237;243;48;2;13;17;23mресторан\u001b[0m\u001b[38;2;230;237;243;48;2;13;17;23m \u001b[0m\u001b[38;2;230;237;243;48;2;13;17;23m'Izumi'\u001b[0m\u001b[38;2;230;237;243;48;2;13;17;23m \u001b[0m\u001b[38;2;230;237;243;48;2;13;17;23mпо\u001b[0m\u001b[38;2;230;237;243;48;2;13;17;23m \u001b[0m\u001b[38;2;230;237;243;48;2;13;17;23mадресу\u001b[0m\u001b[38;2;230;237;243;48;2;13;17;23m \u001b[0m\u001b[38;2;230;237;243;48;2;13;17;23mМясницкая\u001b[0m\u001b[38;2;230;237;243;48;2;13;17;23m \u001b[0m\u001b[48;2;13;17;23m    \u001b[0m\n",
       "\u001b[38;2;230;237;243;48;2;13;17;23mулица,\u001b[0m\u001b[38;2;230;237;243;48;2;13;17;23m \u001b[0m\u001b[38;2;230;237;243;48;2;13;17;23mд.38с1\u001b[0m\u001b[38;2;230;237;243;48;2;13;17;23m \u001b[0m\u001b[38;2;230;237;243;48;2;13;17;23mв\u001b[0m\u001b[38;2;230;237;243;48;2;13;17;23m \u001b[0m\u001b[38;2;230;237;243;48;2;13;17;23mМоскве.\u001b[0m\u001b[38;2;230;237;243;48;2;13;17;23m \u001b[0m\u001b[38;2;230;237;243;48;2;13;17;23mОтзывы\u001b[0m\u001b[38;2;230;237;243;48;2;13;17;23m \u001b[0m\u001b[38;2;230;237;243;48;2;13;17;23mотмечают\u001b[0m\u001b[38;2;230;237;243;48;2;13;17;23m \u001b[0m\u001b[38;2;230;237;243;48;2;13;17;23mразнообразие\u001b[0m\u001b[38;2;230;237;243;48;2;13;17;23m \u001b[0m\u001b[38;2;230;237;243;48;2;13;17;23mблюд,\u001b[0m\u001b[38;2;230;237;243;48;2;13;17;23m \u001b[0m\u001b[38;2;230;237;243;48;2;13;17;23mкачественное\u001b[0m\u001b[38;2;230;237;243;48;2;13;17;23m \u001b[0m\u001b[38;2;230;237;243;48;2;13;17;23mобслуживание\u001b[0m\u001b[38;2;230;237;243;48;2;13;17;23m \u001b[0m\u001b[38;2;230;237;243;48;2;13;17;23mи\u001b[0m\u001b[38;2;230;237;243;48;2;13;17;23m \u001b[0m\u001b[38;2;230;237;243;48;2;13;17;23mприятную\u001b[0m\u001b[38;2;230;237;243;48;2;13;17;23m \u001b[0m\u001b[38;2;230;237;243;48;2;13;17;23mатмосферу.\u001b[0m\u001b[38;2;230;237;243;48;2;13;17;23m \u001b[0m\u001b[38;2;230;237;243;48;2;13;17;23mТакже\u001b[0m\u001b[38;2;230;237;243;48;2;13;17;23m \u001b[0m\u001b[48;2;13;17;23m  \u001b[0m\n",
       "\u001b[38;2;230;237;243;48;2;13;17;23mстоит\u001b[0m\u001b[38;2;230;237;243;48;2;13;17;23m \u001b[0m\u001b[38;2;230;237;243;48;2;13;17;23mобратить\u001b[0m\u001b[38;2;230;237;243;48;2;13;17;23m \u001b[0m\u001b[38;2;230;237;243;48;2;13;17;23mвнимание\u001b[0m\u001b[38;2;230;237;243;48;2;13;17;23m \u001b[0m\u001b[38;2;230;237;243;48;2;13;17;23mна\u001b[0m\u001b[38;2;230;237;243;48;2;13;17;23m \u001b[0m\u001b[38;2;230;237;243;48;2;13;17;23m'Tsunami\u001b[0m\u001b[38;2;230;237;243;48;2;13;17;23m \u001b[0m\u001b[38;2;230;237;243;48;2;13;17;23mSushi\u001b[0m\u001b[38;2;230;237;243;48;2;13;17;23m \u001b[0m\u001b[38;2;230;237;243;48;2;13;17;23m&\u001b[0m\u001b[38;2;230;237;243;48;2;13;17;23m \u001b[0m\u001b[38;2;230;237;243;48;2;13;17;23mCocktails',\u001b[0m\u001b[38;2;230;237;243;48;2;13;17;23m \u001b[0m\u001b[38;2;230;237;243;48;2;13;17;23mрасположенный\u001b[0m\u001b[38;2;230;237;243;48;2;13;17;23m \u001b[0m\u001b[38;2;230;237;243;48;2;13;17;23mпо\u001b[0m\u001b[38;2;230;237;243;48;2;13;17;23m \u001b[0m\u001b[38;2;230;237;243;48;2;13;17;23mадресу\u001b[0m\u001b[38;2;230;237;243;48;2;13;17;23m \u001b[0m\u001b[38;2;230;237;243;48;2;13;17;23mБлаговещенский\u001b[0m\u001b[38;2;230;237;243;48;2;13;17;23m \u001b[0m\u001b[38;2;230;237;243;48;2;13;17;23mпереулок,\u001b[0m\u001b[38;2;230;237;243;48;2;13;17;23m \u001b[0m\u001b[38;2;230;237;243;48;2;13;17;23mд.1А,\u001b[0m\u001b[38;2;230;237;243;48;2;13;17;23m \u001b[0m\u001b[48;2;13;17;23m    \u001b[0m\n",
       "\u001b[38;2;230;237;243;48;2;13;17;23mособенно\u001b[0m\u001b[38;2;230;237;243;48;2;13;17;23m \u001b[0m\u001b[38;2;230;237;243;48;2;13;17;23mесли\u001b[0m\u001b[38;2;230;237;243;48;2;13;17;23m \u001b[0m\u001b[38;2;230;237;243;48;2;13;17;23mвы\u001b[0m\u001b[38;2;230;237;243;48;2;13;17;23m \u001b[0m\u001b[38;2;230;237;243;48;2;13;17;23mцените\u001b[0m\u001b[38;2;230;237;243;48;2;13;17;23m \u001b[0m\u001b[38;2;230;237;243;48;2;13;17;23mне\u001b[0m\u001b[38;2;230;237;243;48;2;13;17;23m \u001b[0m\u001b[38;2;230;237;243;48;2;13;17;23mтолько\u001b[0m\u001b[38;2;230;237;243;48;2;13;17;23m \u001b[0m\u001b[38;2;230;237;243;48;2;13;17;23mеду,\u001b[0m\u001b[38;2;230;237;243;48;2;13;17;23m \u001b[0m\u001b[38;2;230;237;243;48;2;13;17;23mно\u001b[0m\u001b[38;2;230;237;243;48;2;13;17;23m \u001b[0m\u001b[38;2;230;237;243;48;2;13;17;23mи\u001b[0m\u001b[38;2;230;237;243;48;2;13;17;23m \u001b[0m\u001b[38;2;230;237;243;48;2;13;17;23mсовременную\u001b[0m\u001b[38;2;230;237;243;48;2;13;17;23m \u001b[0m\u001b[38;2;230;237;243;48;2;13;17;23mатмосферу.\"\u001b[0m\u001b[48;2;13;17;23m                                                \u001b[0m\n",
       "\u001b[38;2;230;237;243;48;2;13;17;23m \u001b[0m\u001b[38;2;230;237;243;48;2;13;17;23m \u001b[0m\u001b[38;2;230;237;243;48;2;13;17;23m \u001b[0m\u001b[38;2;230;237;243;48;2;13;17;23m \u001b[0m\u001b[38;2;230;237;243;48;2;13;17;23m}\u001b[0m\u001b[48;2;13;17;23m                                                                                                              \u001b[0m\n",
       "\u001b[38;2;230;237;243;48;2;13;17;23m}\u001b[0m\u001b[48;2;13;17;23m                                                                                                                  \u001b[0m\n"
      ]
     },
     "metadata": {},
     "output_type": "display_data"
    },
    {
     "data": {
      "text/html": [
       "<pre style=\"white-space:pre;overflow-x:auto;line-height:normal;font-family:Menlo,'DejaVu Sans Mono',consolas,'Courier New',monospace\">╭─────────────────────────────────────────────────────────────────────────────────────────────────────────────────╮\n",
       "│ Calling tool: 'final_answer' with arguments: {'answer': \"Основываясь на полученных отзывах, рекомендую посетить │\n",
       "│ ресторан 'Izumi' по адресу Мясницкая улица, д.38с1 в Москве. Отзывы отмечают разнообразие блюд, качественное    │\n",
       "│ обслуживание и приятную атмосферу. Также стоит обратить внимание на 'Tsunami Sushi &amp; Cocktails', расположенный  │\n",
       "│ по адресу Благовещенский переулок, д.1А, особенно если вы цените не только еду, но и современную атмосферу.\"}   │\n",
       "╰─────────────────────────────────────────────────────────────────────────────────────────────────────────────────╯\n",
       "</pre>\n"
      ],
      "text/plain": [
       "╭─────────────────────────────────────────────────────────────────────────────────────────────────────────────────╮\n",
       "│ Calling tool: 'final_answer' with arguments: {'answer': \"Основываясь на полученных отзывах, рекомендую посетить │\n",
       "│ ресторан 'Izumi' по адресу Мясницкая улица, д.38с1 в Москве. Отзывы отмечают разнообразие блюд, качественное    │\n",
       "│ обслуживание и приятную атмосферу. Также стоит обратить внимание на 'Tsunami Sushi & Cocktails', расположенный  │\n",
       "│ по адресу Благовещенский переулок, д.1А, особенно если вы цените не только еду, но и современную атмосферу.\"}   │\n",
       "╰─────────────────────────────────────────────────────────────────────────────────────────────────────────────────╯\n"
      ]
     },
     "metadata": {},
     "output_type": "display_data"
    },
    {
     "data": {
      "text/html": [
       "<pre style=\"white-space:pre;overflow-x:auto;line-height:normal;font-family:Menlo,'DejaVu Sans Mono',consolas,'Courier New',monospace\"><span style=\"color: #d4b702; text-decoration-color: #d4b702; font-weight: bold\">Final answer: Основываясь на полученных отзывах, рекомендую посетить ресторан 'Izumi' по адресу Мясницкая улица, </span>\n",
       "<span style=\"color: #d4b702; text-decoration-color: #d4b702; font-weight: bold\">д.38с1 в Москве. Отзывы отмечают разнообразие блюд, качественное обслуживание и приятную атмосферу. Также стоит </span>\n",
       "<span style=\"color: #d4b702; text-decoration-color: #d4b702; font-weight: bold\">обратить внимание на 'Tsunami Sushi &amp; Cocktails', расположенный по адресу Благовещенский переулок, д.1А, особенно </span>\n",
       "<span style=\"color: #d4b702; text-decoration-color: #d4b702; font-weight: bold\">если вы цените не только еду, но и современную атмосферу.</span>\n",
       "</pre>\n"
      ],
      "text/plain": [
       "\u001b[1;38;2;212;183;2mFinal answer: Основываясь на полученных отзывах, рекомендую посетить ресторан 'Izumi' по адресу Мясницкая улица, \u001b[0m\n",
       "\u001b[1;38;2;212;183;2mд.38с1 в Москве. Отзывы отмечают разнообразие блюд, качественное обслуживание и приятную атмосферу. Также стоит \u001b[0m\n",
       "\u001b[1;38;2;212;183;2mобратить внимание на 'Tsunami Sushi & Cocktails', расположенный по адресу Благовещенский переулок, д.1А, особенно \u001b[0m\n",
       "\u001b[1;38;2;212;183;2mесли вы цените не только еду, но и современную атмосферу.\u001b[0m\n"
      ]
     },
     "metadata": {},
     "output_type": "display_data"
    },
    {
     "data": {
      "text/html": [
       "<pre style=\"white-space:pre;overflow-x:auto;line-height:normal;font-family:Menlo,'DejaVu Sans Mono',consolas,'Courier New',monospace\"><span style=\"color: #7f7f7f; text-decoration-color: #7f7f7f\">[Step 2: Duration 37.34 seconds| Input tokens: 3,964 | Output tokens: 185]</span>\n",
       "</pre>\n"
      ],
      "text/plain": [
       "\u001b[2m[Step 2: Duration 37.34 seconds| Input tokens: 3,964 | Output tokens: 185]\u001b[0m\n"
      ]
     },
     "metadata": {},
     "output_type": "display_data"
    }
   ],
   "source": [
    "resp = agent.run(\"Я бы хотел посетить японский ресторан. Можешь ли посоветовать хороший в Москве?\")"
   ]
  },
  {
   "cell_type": "code",
   "execution_count": 7,
   "id": "0be50146",
   "metadata": {},
   "outputs": [
    {
     "name": "stdout",
     "output_type": "stream",
     "text": [
      "Основываясь на полученных отзывах, рекомендую посетить ресторан 'Izumi' по адресу Мясницкая улица, д.38с1 в Москве. Отзывы отмечают разнообразие блюд, качественное обслуживание и приятную атмосферу. Также стоит обратить внимание на 'Tsunami Sushi & Cocktails', расположенный по адресу Благовещенский переулок, д.1А, особенно если вы цените не только еду, но и современную атмосферу.\n"
     ]
    }
   ],
   "source": [
    "print(resp)"
   ]
  },
  {
   "cell_type": "code",
   "execution_count": 8,
   "id": "82dafa86",
   "metadata": {},
   "outputs": [
    {
     "data": {
      "text/plain": [
       "[TaskStep(task='Я бы хотел посетить японский ресторан. Можешь ли посоветовать хороший в Москве?', task_images=None),\n",
       " ActionStep(model_input_messages=[{'role': <MessageRole.SYSTEM: 'system'>, 'content': [{'type': 'text', 'text': 'You are an expert assistant who can solve any task using tool calls. You will be given a task to solve as best you can.\\nTo do so, you have been given access to some tools.\\n\\nThe tool call you write is an action: after the tool is executed, you will get the result of the tool call as an \"observation\".\\nThis Action/Observation can repeat N times, you should take several steps when needed.\\n\\nYou can use the result of the previous action as input for the next action.\\nThe observation will always be a string: it can represent a file, like \"image_1.jpg\".\\nThen you can use it as input for the next action. You can do it for instance as follows:\\n\\nObservation: \"image_1.jpg\"\\n\\nAction:\\n{\\n  \"name\": \"image_transformer\",\\n  \"arguments\": {\"image\": \"image_1.jpg\"}\\n}\\n\\nTo provide the final answer to the task, use an action blob with \"name\": \"final_answer\" tool. It is the only way to complete the task, else you will be stuck on a loop. So your final output should look like this:\\nAction:\\n{\\n  \"name\": \"final_answer\",\\n  \"arguments\": {\"answer\": \"insert your final answer here\"}\\n}\\n\\n\\nHere are a few examples using notional tools:\\n---\\nTask: \"Generate an image of the oldest person in this document.\"\\n\\nAction:\\n{\\n  \"name\": \"document_qa\",\\n  \"arguments\": {\"document\": \"document.pdf\", \"question\": \"Who is the oldest person mentioned?\"}\\n}\\nObservation: \"The oldest person in the document is John Doe, a 55 year old lumberjack living in Newfoundland.\"\\n\\nAction:\\n{\\n  \"name\": \"image_generator\",\\n  \"arguments\": {\"prompt\": \"A portrait of John Doe, a 55-year-old man living in Canada.\"}\\n}\\nObservation: \"image.png\"\\n\\nAction:\\n{\\n  \"name\": \"final_answer\",\\n  \"arguments\": \"image.png\"\\n}\\n\\n---\\nTask: \"What is the result of the following operation: 5 + 3 + 1294.678?\"\\n\\nAction:\\n{\\n    \"name\": \"python_interpreter\",\\n    \"arguments\": {\"code\": \"5 + 3 + 1294.678\"}\\n}\\nObservation: 1302.678\\n\\nAction:\\n{\\n  \"name\": \"final_answer\",\\n  \"arguments\": \"1302.678\"\\n}\\n\\n---\\nTask: \"Which city has the highest population , Guangzhou or Shanghai?\"\\n\\nAction:\\n{\\n    \"name\": \"search\",\\n    \"arguments\": \"Population Guangzhou\"\\n}\\nObservation: [\\'Guangzhou has a population of 15 million inhabitants as of 2021.\\']\\n\\n\\nAction:\\n{\\n    \"name\": \"search\",\\n    \"arguments\": \"Population Shanghai\"\\n}\\nObservation: \\'26 million (2019)\\'\\n\\nAction:\\n{\\n  \"name\": \"final_answer\",\\n  \"arguments\": \"Shanghai\"\\n}\\n\\nAbove example were using notional tools that might not exist for you. You only have access to these tools:\\n- travel_review_query: Использует семантический поиск для извлечения отзывов о местах только в Москве.\\n    Takes inputs: {\\'query\\': {\\'type\\': \\'string\\', \\'description\\': \"Запрос для поиска отзыва. Должен быть семантически близок к искомым отзывам, например: посоветуй хорошую кофейню в Москве.\\\\nВажно: не упоминайте весь текст отзыва в ответе. Разрешено использовать только смысл содержания, например: \\'Посетители отмечают, что в заведении чисто и комфортно\\'\"}}\\n    Returns an output of type: string\\n- final_answer: Provides a final answer to the given problem.\\n    Takes inputs: {\\'answer\\': {\\'type\\': \\'any\\', \\'description\\': \\'The final answer to the problem\\'}}\\n    Returns an output of type: any\\n\\nHere are the rules you should always follow to solve your task:\\n1. ALWAYS provide a tool call, else you will fail.\\n2. Always use the right arguments for the tools. Never use variable names as the action arguments, use the value instead.\\n3. Call a tool only when needed: do not call the search agent if you do not need information, try to solve the task yourself.\\nIf no tool call is needed, use final_answer tool to return your answer.\\n4. Never re-do a tool call that you previously did with the exact same parameters.\\n\\nNow Begin!'}]}, {'role': <MessageRole.USER: 'user'>, 'content': [{'type': 'text', 'text': 'New task:\\nЯ бы хотел посетить японский ресторан. Можешь ли посоветовать хороший в Москве?'}]}], tool_calls=[ToolCall(name='travel_review_query', arguments={'query': 'посоветуй хороший японский ресторан в Москве'}, id='2741be7a-2699-400a-8526-669e97e26b41')], start_time=1745127527.5328681, end_time=1745127549.30443, step_number=1, error=None, duration=21.771561861038208, model_output_message=ChatMessage(role=<MessageRole.ASSISTANT: 'assistant'>, content='{\\n  \"name\": \"travel_review_query\",\\n  \"arguments\": {\"query\": \"посоветуй хороший японский ресторан в Москве\"}\\n}', tool_calls=[ChatMessageToolCall(function=ChatMessageToolCallDefinition(arguments={'query': 'посоветуй хороший японский ресторан в Москве'}, name='travel_review_query', description=None), id='2741be7a-2699-400a-8526-669e97e26b41', type='function')], raw=ModelResponse(id='chatcmpl-de815578-f647-458d-89d3-6a11ff7bb4c6', created=1745127536, model='ollama_chat/hf.co/IlyaGusev/saiga_nemo_12b_gguf:Q4_0', object='chat.completion', system_fingerprint=None, choices=[Choices(finish_reason='stop', index=0, message=Message(content='{\\n  \"name\": \"travel_review_query\",\\n  \"arguments\": {\"query\": \"посоветуй хороший японский ресторан в Москве\"}\\n}', role='assistant', tool_calls=None, function_call=None, provider_specific_fields=None))], usage=Usage(completion_tokens=37, prompt_tokens=1266, total_tokens=1303, completion_tokens_details=None, prompt_tokens_details=None))), model_output=\"Called Tool: 'travel_review_query' with arguments: {'query': 'посоветуй хороший японский ресторан в Москве'}\", observations='Найденные отзывы о местах:\\n\\n=== Отзыв на Izumi ===\\nАдрес: Москва, Мясницкая улица, 38с1\\nРейтинг: 5.0\\nКатегории: Ресторан;Бар, паб;Караоке-клуб\\nТекст: Одно из самых любимых заведений японской кухни в Москве!  За адекватную цену вы получите действительно вкусное, похожее на настоящее, японское блюдо. Разнообразное меню и изобилие различных видов саке. Приятный интерьер. Отдельно хочется отметить удобную функцию вызова официанта с помощью кнопочки на столе :) \\n\\n=== Отзыв на Tsunami Sushi & Cocktails ===\\nАдрес: Москва, Благовещенский переулок, 1А\\nРейтинг: 5.0\\nКатегории: Ресторан;Бар, паб;Суши-бар\\nТекст: Бомбически! Хотела поесть действительно вкусных роллов и не прогадала с выбором места. Приятный интерьер в стиле неонового Токио, техно/хаус музыка, которая не отвлекает от ужина, а только добавляет атмосферы. Посадка практически полная, но разговоры не мешали, шумно не было.  Брали роллы Мега Лосось, Радуга, Нигири с лососем и оши с гребешком. Очень вкусно и очень сытно. Рыба свежая, сочетания вкусов потрясающие. Муж брал коктейли и тоже остался доволен.  UPD 17 июня 2023: Выбрала Tsunami, чтобы вдвоём с мужем отпраздновать мой день рождения. Как всегда безукаризненное обслуживание, наивкуснейшая еда, шикарная атмосфера. Пока люимое заведение японской кухни в Москве, куда действительно хочется возвращаться. \\n\\n=== Отзыв на Тануки ===\\nАдрес: Москва, Новокосинская улица, 36\\nРейтинг: 4.0\\nКатегории: Ресторан;Суши-бар;Доставка еды и обедов\\nТекст: Всем привет! Идём в \"Тануки\"): роллы и суши да, вкусно, качественно, порции конечно уменьшились, но в целом  приемлимо. С детьми там можно отдохнуть, есть детская комната, в сбб и вс работают аниматоры, шум и гам стоит знатный!)). Если идти туда  без детей  на любителя,  было бы другое приличное место, хоть маленький ресторанчик, в Новокосино, я бы выбрала другое, без детских воплей и криков. А так  добро пожаловать, выпейте побольше пива, или что покрепче и шум вам ни почём!)😂 Обслуживание, сервис  хорошие, но не сказать, что бы впечатляющие🤷\\u200d♂️ Вобщем, в Новокосино у вас всего 2 варианта приличного кафе (на ресторан это не тянет, хоть как посмотри) либо японская кухня и это \"Тануки\", либо узбекская и это \"Чайхона\",  удивительно, что в столице России приходится делать такой выбор! Если отзыв прочитает какойлибо ресторатор, то  прямо обращаюсь: \"Откройте пожалуйста в Новокосино   кафе, с  привычной нам всем русской кухней!\" \\n\\n=== Отзыв на Izumi ===\\nАдрес: Москва, Мясницкая улица, 38с1\\nРейтинг: 5.0\\nКатегории: Ресторан;Бар, паб;Караоке-клуб\\nТекст: Прекрасное место с великолепным тихим антуражем. Был днём, с друзьями. Еда от японского шефа на любой вкус, и для тех кто не любит рыбу и морепродукты и для тех кто их обожает. Я лично ел Тонкацу Рамен, мне очень понравилось, в отличии от большинства мест в Москве где всëтаки готовится под ожидания русских, тут именно что необычный вкус явно не из того  тех что можно попробовать в други местах.   Именно тут я пожалуй понял что именно японцы имеют ввиду по умами вкусом, реально очень плотный и при этом совершенно нежирный бульон просто пропитан вкусом который в других кухнях встречается довольно редко даже при самом поедании мяса. Однозначно рекомендую, однако предупреждаю что напитки как алко так и без состоят изо льда на 80%. \\n\\n=== Отзыв на Якитория ===\\nАдрес: Москва, улица Маршала Полубоярова, 1\\nРейтинг: 5.0\\nКатегории: Суши-бар;Ресторан;Доставка еды и обедов\\nТекст: Очень хороший  ресторанчик японской кухни. Заказываю всегда отсюда если хочется роллов. Очень вкусные горячие роллы. Детям также будет интересно перекусить тут.', observations_images=None, action_output=None),\n",
       " ActionStep(model_input_messages=[{'role': <MessageRole.SYSTEM: 'system'>, 'content': [{'type': 'text', 'text': 'You are an expert assistant who can solve any task using tool calls. You will be given a task to solve as best you can.\\nTo do so, you have been given access to some tools.\\n\\nThe tool call you write is an action: after the tool is executed, you will get the result of the tool call as an \"observation\".\\nThis Action/Observation can repeat N times, you should take several steps when needed.\\n\\nYou can use the result of the previous action as input for the next action.\\nThe observation will always be a string: it can represent a file, like \"image_1.jpg\".\\nThen you can use it as input for the next action. You can do it for instance as follows:\\n\\nObservation: \"image_1.jpg\"\\n\\nAction:\\n{\\n  \"name\": \"image_transformer\",\\n  \"arguments\": {\"image\": \"image_1.jpg\"}\\n}\\n\\nTo provide the final answer to the task, use an action blob with \"name\": \"final_answer\" tool. It is the only way to complete the task, else you will be stuck on a loop. So your final output should look like this:\\nAction:\\n{\\n  \"name\": \"final_answer\",\\n  \"arguments\": {\"answer\": \"insert your final answer here\"}\\n}\\n\\n\\nHere are a few examples using notional tools:\\n---\\nTask: \"Generate an image of the oldest person in this document.\"\\n\\nAction:\\n{\\n  \"name\": \"document_qa\",\\n  \"arguments\": {\"document\": \"document.pdf\", \"question\": \"Who is the oldest person mentioned?\"}\\n}\\nObservation: \"The oldest person in the document is John Doe, a 55 year old lumberjack living in Newfoundland.\"\\n\\nAction:\\n{\\n  \"name\": \"image_generator\",\\n  \"arguments\": {\"prompt\": \"A portrait of John Doe, a 55-year-old man living in Canada.\"}\\n}\\nObservation: \"image.png\"\\n\\nAction:\\n{\\n  \"name\": \"final_answer\",\\n  \"arguments\": \"image.png\"\\n}\\n\\n---\\nTask: \"What is the result of the following operation: 5 + 3 + 1294.678?\"\\n\\nAction:\\n{\\n    \"name\": \"python_interpreter\",\\n    \"arguments\": {\"code\": \"5 + 3 + 1294.678\"}\\n}\\nObservation: 1302.678\\n\\nAction:\\n{\\n  \"name\": \"final_answer\",\\n  \"arguments\": \"1302.678\"\\n}\\n\\n---\\nTask: \"Which city has the highest population , Guangzhou or Shanghai?\"\\n\\nAction:\\n{\\n    \"name\": \"search\",\\n    \"arguments\": \"Population Guangzhou\"\\n}\\nObservation: [\\'Guangzhou has a population of 15 million inhabitants as of 2021.\\']\\n\\n\\nAction:\\n{\\n    \"name\": \"search\",\\n    \"arguments\": \"Population Shanghai\"\\n}\\nObservation: \\'26 million (2019)\\'\\n\\nAction:\\n{\\n  \"name\": \"final_answer\",\\n  \"arguments\": \"Shanghai\"\\n}\\n\\nAbove example were using notional tools that might not exist for you. You only have access to these tools:\\n- travel_review_query: Использует семантический поиск для извлечения отзывов о местах только в Москве.\\n    Takes inputs: {\\'query\\': {\\'type\\': \\'string\\', \\'description\\': \"Запрос для поиска отзыва. Должен быть семантически близок к искомым отзывам, например: посоветуй хорошую кофейню в Москве.\\\\nВажно: не упоминайте весь текст отзыва в ответе. Разрешено использовать только смысл содержания, например: \\'Посетители отмечают, что в заведении чисто и комфортно\\'\"}}\\n    Returns an output of type: string\\n- final_answer: Provides a final answer to the given problem.\\n    Takes inputs: {\\'answer\\': {\\'type\\': \\'any\\', \\'description\\': \\'The final answer to the problem\\'}}\\n    Returns an output of type: any\\n\\nHere are the rules you should always follow to solve your task:\\n1. ALWAYS provide a tool call, else you will fail.\\n2. Always use the right arguments for the tools. Never use variable names as the action arguments, use the value instead.\\n3. Call a tool only when needed: do not call the search agent if you do not need information, try to solve the task yourself.\\nIf no tool call is needed, use final_answer tool to return your answer.\\n4. Never re-do a tool call that you previously did with the exact same parameters.\\n\\nNow Begin!'}]}, {'role': <MessageRole.USER: 'user'>, 'content': [{'type': 'text', 'text': 'New task:\\nЯ бы хотел посетить японский ресторан. Можешь ли посоветовать хороший в Москве?'}]}, {'role': <MessageRole.ASSISTANT: 'assistant'>, 'content': [{'type': 'text', 'text': \"Called Tool: 'travel_review_query' with arguments: {'query': 'посоветуй хороший японский ресторан в Москве'}\"}]}, {'role': <MessageRole.TOOL_CALL: 'tool-call'>, 'content': [{'type': 'text', 'text': \"Calling tools:\\n[{'id': '2741be7a-2699-400a-8526-669e97e26b41', 'type': 'function', 'function': {'name': 'travel_review_query', 'arguments': {'query': 'посоветуй хороший японский ресторан в Москве'}}}]\"}]}, {'role': <MessageRole.TOOL_RESPONSE: 'tool-response'>, 'content': [{'type': 'text', 'text': 'Observation:\\nНайденные отзывы о местах:\\n\\n=== Отзыв на Izumi ===\\nАдрес: Москва, Мясницкая улица, 38с1\\nРейтинг: 5.0\\nКатегории: Ресторан;Бар, паб;Караоке-клуб\\nТекст: Одно из самых любимых заведений японской кухни в Москве!  За адекватную цену вы получите действительно вкусное, похожее на настоящее, японское блюдо. Разнообразное меню и изобилие различных видов саке. Приятный интерьер. Отдельно хочется отметить удобную функцию вызова официанта с помощью кнопочки на столе :) \\n\\n=== Отзыв на Tsunami Sushi & Cocktails ===\\nАдрес: Москва, Благовещенский переулок, 1А\\nРейтинг: 5.0\\nКатегории: Ресторан;Бар, паб;Суши-бар\\nТекст: Бомбически! Хотела поесть действительно вкусных роллов и не прогадала с выбором места. Приятный интерьер в стиле неонового Токио, техно/хаус музыка, которая не отвлекает от ужина, а только добавляет атмосферы. Посадка практически полная, но разговоры не мешали, шумно не было.  Брали роллы Мега Лосось, Радуга, Нигири с лососем и оши с гребешком. Очень вкусно и очень сытно. Рыба свежая, сочетания вкусов потрясающие. Муж брал коктейли и тоже остался доволен.  UPD 17 июня 2023: Выбрала Tsunami, чтобы вдвоём с мужем отпраздновать мой день рождения. Как всегда безукаризненное обслуживание, наивкуснейшая еда, шикарная атмосфера. Пока люимое заведение японской кухни в Москве, куда действительно хочется возвращаться. \\n\\n=== Отзыв на Тануки ===\\nАдрес: Москва, Новокосинская улица, 36\\nРейтинг: 4.0\\nКатегории: Ресторан;Суши-бар;Доставка еды и обедов\\nТекст: Всем привет! Идём в \"Тануки\"): роллы и суши да, вкусно, качественно, порции конечно уменьшились, но в целом  приемлимо. С детьми там можно отдохнуть, есть детская комната, в сбб и вс работают аниматоры, шум и гам стоит знатный!)). Если идти туда  без детей  на любителя,  было бы другое приличное место, хоть маленький ресторанчик, в Новокосино, я бы выбрала другое, без детских воплей и криков. А так  добро пожаловать, выпейте побольше пива, или что покрепче и шум вам ни почём!)😂 Обслуживание, сервис  хорошие, но не сказать, что бы впечатляющие🤷\\u200d♂️ Вобщем, в Новокосино у вас всего 2 варианта приличного кафе (на ресторан это не тянет, хоть как посмотри) либо японская кухня и это \"Тануки\", либо узбекская и это \"Чайхона\",  удивительно, что в столице России приходится делать такой выбор! Если отзыв прочитает какойлибо ресторатор, то  прямо обращаюсь: \"Откройте пожалуйста в Новокосино   кафе, с  привычной нам всем русской кухней!\" \\n\\n=== Отзыв на Izumi ===\\nАдрес: Москва, Мясницкая улица, 38с1\\nРейтинг: 5.0\\nКатегории: Ресторан;Бар, паб;Караоке-клуб\\nТекст: Прекрасное место с великолепным тихим антуражем. Был днём, с друзьями. Еда от японского шефа на любой вкус, и для тех кто не любит рыбу и морепродукты и для тех кто их обожает. Я лично ел Тонкацу Рамен, мне очень понравилось, в отличии от большинства мест в Москве где всëтаки готовится под ожидания русских, тут именно что необычный вкус явно не из того  тех что можно попробовать в други местах.   Именно тут я пожалуй понял что именно японцы имеют ввиду по умами вкусом, реально очень плотный и при этом совершенно нежирный бульон просто пропитан вкусом который в других кухнях встречается довольно редко даже при самом поедании мяса. Однозначно рекомендую, однако предупреждаю что напитки как алко так и без состоят изо льда на 80%. \\n\\n=== Отзыв на Якитория ===\\nАдрес: Москва, улица Маршала Полубоярова, 1\\nРейтинг: 5.0\\nКатегории: Суши-бар;Ресторан;Доставка еды и обедов\\nТекст: Очень хороший  ресторанчик японской кухни. Заказываю всегда отсюда если хочется роллов. Очень вкусные горячие роллы. Детям также будет интересно перекусить тут.'}]}], tool_calls=[ToolCall(name='final_answer', arguments={'answer': \"Основываясь на полученных отзывах, рекомендую посетить ресторан 'Izumi' по адресу Мясницкая улица, д.38с1 в Москве. Отзывы отмечают разнообразие блюд, качественное обслуживание и приятную атмосферу. Также стоит обратить внимание на 'Tsunami Sushi & Cocktails', расположенный по адресу Благовещенский переулок, д.1А, особенно если вы цените не только еду, но и современную атмосферу.\"}, id='3301de5c-fb5f-4a11-a42d-3be24d4ed2d4')], start_time=1745127549.3054411, end_time=1745127586.645851, step_number=2, error=None, duration=37.34040975570679, model_output_message=ChatMessage(role=<MessageRole.ASSISTANT: 'assistant'>, content='{ \\n    \"name\": \"final_answer\",\\n    \"arguments\": {\\n        \"answer\": \"Основываясь на полученных отзывах, рекомендую посетить ресторан \\'Izumi\\' по адресу Мясницкая улица, д.38с1 в Москве. Отзывы отмечают разнообразие блюд, качественное обслуживание и приятную атмосферу. Также стоит обратить внимание на \\'Tsunami Sushi & Cocktails\\', расположенный по адресу Благовещенский переулок, д.1А, особенно если вы цените не только еду, но и современную атмосферу.\"\\n    }\\n}', tool_calls=[ChatMessageToolCall(function=ChatMessageToolCallDefinition(arguments={'answer': \"Основываясь на полученных отзывах, рекомендую посетить ресторан 'Izumi' по адресу Мясницкая улица, д.38с1 в Москве. Отзывы отмечают разнообразие блюд, качественное обслуживание и приятную атмосферу. Также стоит обратить внимание на 'Tsunami Sushi & Cocktails', расположенный по адресу Благовещенский переулок, д.1А, особенно если вы цените не только еду, но и современную атмосферу.\"}, name='final_answer', description=None), id='3301de5c-fb5f-4a11-a42d-3be24d4ed2d4', type='function')], raw=ModelResponse(id='chatcmpl-40ca9ce5-e8a5-44c4-a851-bb08a783201f', created=1745127574, model='ollama_chat/hf.co/IlyaGusev/saiga_nemo_12b_gguf:Q4_0', object='chat.completion', system_fingerprint=None, choices=[Choices(finish_reason='stop', index=0, message=Message(content='{ \\n    \"name\": \"final_answer\",\\n    \"arguments\": {\\n        \"answer\": \"Основываясь на полученных отзывах, рекомендую посетить ресторан \\'Izumi\\' по адресу Мясницкая улица, д.38с1 в Москве. Отзывы отмечают разнообразие блюд, качественное обслуживание и приятную атмосферу. Также стоит обратить внимание на \\'Tsunami Sushi & Cocktails\\', расположенный по адресу Благовещенский переулок, д.1А, особенно если вы цените не только еду, но и современную атмосферу.\"\\n    }\\n}', role='assistant', tool_calls=None, function_call=None, provider_specific_fields=None))], usage=Usage(completion_tokens=148, prompt_tokens=2698, total_tokens=2846, completion_tokens_details=None, prompt_tokens_details=None))), model_output='Called Tool: \\'final_answer\\' with arguments: {\\'answer\\': \"Основываясь на полученных отзывах, рекомендую посетить ресторан \\'Izumi\\' по адресу Мясницкая улица, д.38с1 в Москве. Отзывы отмечают разнообразие блюд, качественное обслуживание и приятную атмосферу. Также стоит обратить внимание на \\'Tsunami Sushi & Cocktails\\', расположенный по адресу Благовещенский переулок, д.1А, особенно если вы цените не только еду, но и современную атмосферу.\"}', observations=None, observations_images=None, action_output=\"Основываясь на полученных отзывах, рекомендую посетить ресторан 'Izumi' по адресу Мясницкая улица, д.38с1 в Москве. Отзывы отмечают разнообразие блюд, качественное обслуживание и приятную атмосферу. Также стоит обратить внимание на 'Tsunami Sushi & Cocktails', расположенный по адресу Благовещенский переулок, д.1А, особенно если вы цените не только еду, но и современную атмосферу.\")]"
      ]
     },
     "execution_count": 8,
     "metadata": {},
     "output_type": "execute_result"
    }
   ],
   "source": [
    "agent.memory.steps"
   ]
  },
  {
   "cell_type": "code",
   "execution_count": null,
   "id": "e4502c51",
   "metadata": {},
   "outputs": [
    {
     "name": "stdout",
     "output_type": "stream",
     "text": [
      "Вы — эксперт-ассистент, который может решать любые задачи с использованием вызовов инструментов. Вам будет дана задача, которую вы должны решить наилучшим образом.\n",
      "Для этого вам предоставлен доступ к некоторым инструментам.\n",
      "Вызов инструмента, который вы пишете, является действием: после выполнения инструмента вы получите результат вызова инструмента как \"наблюдение\".\n",
      "Эта последовательность Действие/Наблюдение может повторяться N раз, вам следует выполнять несколько шагов, когда это необходимо.\n",
      "Вы можете использовать результат предыдущего действия как ввод для следующего действия.\n",
      "Наблюдение всегда будет строкой: она может представлять файл, например \"image_1.jpg\".\n",
      "Затем вы можете использовать его как ввод для следующего действия. Вы можете сделать это, например, следующим образом:\n",
      "\n",
      "Наблюдение: \"image_1.jpg\"\n",
      "\n",
      "Действие:\n",
      "{\n",
      "  \"name\": \"image_transformer\",\n",
      "  \"arguments\": {\"image\": \"image_1.jpg\"}\n",
      "}\n",
      "Чтобы предоставить окончательный ответ на задачу, используйте блок действия с \"name\": \"final_answer\". Это единственный способ завершить задачу, иначе вы застрянете в цикле. Поэтому ваш итоговый вывод должен выглядеть так:\n",
      "Действие:\n",
      "{\n",
      "  \"name\": \"final_answer\",\n",
      "  \"arguments\": {\"answer\": \"окончательный ответ здесь\"}\n",
      "}\n",
      "\n",
      "\n",
      "Вот несколько примеров с условными инструментами:\n",
      "---\n",
      "Задача: \"Сгенерировать изображение самого старого человека в этом документе.\"\n",
      "\n",
      "Действие:\n",
      "{\n",
      "  \"name\": \"document_qa\",\n",
      "  \"arguments\": {\"document\": \"document.pdf\", \"question\": \"Кто самый старый упомянутый человек?\"}\n",
      "}\n",
      "Наблюдение: \"Самый старый человек в документе — Джон Доу, 55-летний лесоруб, проживающий в Ньюфаундленде.\"\n",
      "\n",
      "Действие:\n",
      "{\n",
      "  \"name\": \"image_generator\",\n",
      "  \"arguments\": {\"prompt\": \"Портрет Джона Доу, 55-летнего мужчины, живущего в Канаде.\"}\n",
      "}\n",
      "Наблюдение: \"image.png\"\n",
      "\n",
      "Действие:\n",
      "{\n",
      "  \"name\": \"final_answer\",\n",
      "  \"arguments\": \"image.png\"\n",
      "}\n",
      "\n",
      "---\n",
      "Задача: \"Какой город имеет наибольшее население, Гуанчжоу или Шанхай?\"\n",
      "\n",
      "Действие:\n",
      "{\n",
      "    \"name\": \"search\",\n",
      "    \"arguments\": \"Население Гуанчжоу\"\n",
      "}\n",
      "Наблюдение: ['Гуанчжоу имеет население 15 миллионов жителей по данным на 2021 год.']\n",
      "\n",
      "Действие:\n",
      "{\n",
      "    \"name\": \"search\",\n",
      "    \"arguments\": \"Население Шанхая\"\n",
      "}\n",
      "Наблюдение: '26 million (2019)'\n",
      "\n",
      "Действие:\n",
      "{\n",
      "  \"name\": \"final_answer\",\n",
      "  \"arguments\": \"Шанхай\"\n",
      "}\n",
      "\n",
      "Вышеприведенные примеры использовали условные инструменты, которые могут не существовать для вас. У вас есть доступ только к этим инструментам:\n",
      "- travel_review_query: Использует семантический поиск для извлечения отзывов о местах только в Москве.\n",
      "    Принимает входные данные: {'query': {'type': 'string', 'description': \"Запрос для поиска отзыва. Должен быть семантически близок к искомым отзывам, например: посоветуй хорошую кофейню в Москве.\\nВажно: не упоминайте весь текст отзыва в ответе. Разрешено использовать только смысл содержания, например: 'Посетители отмечают, что в заведении чисто и комфортно'\"}}\n",
      "    Возвращает результат типа: string\n",
      "- final_answer: Provides a final answer to the given problem.\n",
      "    Принимает входные данные: {'answer': {'type': 'any', 'description': 'The final answer to the problem'}}\n",
      "    Возвращает результат типа: any\n",
      "\n",
      "Вот правила, которым вы всегда должны следовать для решения своей задачи:\n",
      "1. ВСЕГДА предоставляйте вызов инструмента, иначе вы потерпите неудачу.\n",
      "2. Всегда используйте правильные аргументы для инструментов. Никогда не используйте имена переменных в качестве аргументов действия, используйте вместо этого значение.\n",
      "3. Вызывайте инструмент только при необходимости: не вызывайте поискового агента, если вам не нужна информация, попробуйте решить задачу самостоятельно.\n",
      "4. Если вызов инструмента не требуется, используйте инструмент final_answer для возврата вашего ответа.\n",
      "5. Никогда не повторяйте вызов инструмента с теми же параметрами, которые вы уже использовали.\n",
      "\n",
      "Теперь начинайте!\n"
     ]
    }
   ],
   "source": [
    "# translated prompts\n",
    "\n",
    "agent = ToolCallingAgent(\n",
    "    tools=[review_search_tool], model=model, prompt_templates=RUS_PROMPT_TEMPLATES, max_steps=3, verbosity_level=2\n",
    ")\n",
    "\n",
    "print(agent.system_prompt)"
   ]
  },
  {
   "cell_type": "code",
   "execution_count": 11,
   "id": "1ead9c4c",
   "metadata": {},
   "outputs": [
    {
     "data": {
      "text/html": [
       "<pre style=\"white-space:pre;overflow-x:auto;line-height:normal;font-family:Menlo,'DejaVu Sans Mono',consolas,'Courier New',monospace\"><span style=\"color: #d4b702; text-decoration-color: #d4b702\">╭──────────────────────────────────────────────────── </span><span style=\"color: #d4b702; text-decoration-color: #d4b702; font-weight: bold\">New run</span><span style=\"color: #d4b702; text-decoration-color: #d4b702\"> ────────────────────────────────────────────────────╮</span>\n",
       "<span style=\"color: #d4b702; text-decoration-color: #d4b702\">│</span>                                                                                                                 <span style=\"color: #d4b702; text-decoration-color: #d4b702\">│</span>\n",
       "<span style=\"color: #d4b702; text-decoration-color: #d4b702\">│</span> <span style=\"font-weight: bold\">Я бы хотел посетить японский ресторан. Можешь ли посоветовать хороший в Москве?</span>                                 <span style=\"color: #d4b702; text-decoration-color: #d4b702\">│</span>\n",
       "<span style=\"color: #d4b702; text-decoration-color: #d4b702\">│</span>                                                                                                                 <span style=\"color: #d4b702; text-decoration-color: #d4b702\">│</span>\n",
       "<span style=\"color: #d4b702; text-decoration-color: #d4b702\">╰─ LiteLLMModel - ollama_chat/hf.co/IlyaGusev/saiga_nemo_12b_gguf:Q4_0 ───────────────────────────────────────────╯</span>\n",
       "</pre>\n"
      ],
      "text/plain": [
       "\u001b[38;2;212;183;2m╭─\u001b[0m\u001b[38;2;212;183;2m───────────────────────────────────────────────────\u001b[0m\u001b[38;2;212;183;2m \u001b[0m\u001b[1;38;2;212;183;2mNew run\u001b[0m\u001b[38;2;212;183;2m \u001b[0m\u001b[38;2;212;183;2m───────────────────────────────────────────────────\u001b[0m\u001b[38;2;212;183;2m─╮\u001b[0m\n",
       "\u001b[38;2;212;183;2m│\u001b[0m                                                                                                                 \u001b[38;2;212;183;2m│\u001b[0m\n",
       "\u001b[38;2;212;183;2m│\u001b[0m \u001b[1mЯ бы хотел посетить японский ресторан. Можешь ли посоветовать хороший в Москве?\u001b[0m                                 \u001b[38;2;212;183;2m│\u001b[0m\n",
       "\u001b[38;2;212;183;2m│\u001b[0m                                                                                                                 \u001b[38;2;212;183;2m│\u001b[0m\n",
       "\u001b[38;2;212;183;2m╰─\u001b[0m\u001b[38;2;212;183;2m LiteLLMModel - ollama_chat/hf.co/IlyaGusev/saiga_nemo_12b_gguf:Q4_0 \u001b[0m\u001b[38;2;212;183;2m──────────────────────────────────────────\u001b[0m\u001b[38;2;212;183;2m─╯\u001b[0m\n"
      ]
     },
     "metadata": {},
     "output_type": "display_data"
    },
    {
     "data": {
      "text/html": [
       "<pre style=\"white-space:pre;overflow-x:auto;line-height:normal;font-family:Menlo,'DejaVu Sans Mono',consolas,'Courier New',monospace\"><span style=\"color: #d4b702; text-decoration-color: #d4b702\">━━━━━━━━━━━━━━━━━━━━━━━━━━━━━━━━━━━━━━━━━━━━━━━━━━━━━ </span><span style=\"font-weight: bold\">Step </span><span style=\"color: #008080; text-decoration-color: #008080; font-weight: bold\">1</span><span style=\"color: #d4b702; text-decoration-color: #d4b702\"> ━━━━━━━━━━━━━━━━━━━━━━━━━━━━━━━━━━━━━━━━━━━━━━━━━━━━━━</span>\n",
       "</pre>\n"
      ],
      "text/plain": [
       "\u001b[38;2;212;183;2m━━━━━━━━━━━━━━━━━━━━━━━━━━━━━━━━━━━━━━━━━━━━━━━━━━━━━ \u001b[0m\u001b[1mStep \u001b[0m\u001b[1;36m1\u001b[0m\u001b[38;2;212;183;2m ━━━━━━━━━━━━━━━━━━━━━━━━━━━━━━━━━━━━━━━━━━━━━━━━━━━━━━\u001b[0m\n"
      ]
     },
     "metadata": {},
     "output_type": "display_data"
    },
    {
     "data": {
      "text/html": [
       "<pre style=\"white-space:pre;overflow-x:auto;line-height:normal;font-family:Menlo,'DejaVu Sans Mono',consolas,'Courier New',monospace\"><span style=\"font-weight: bold; font-style: italic\">Output message of the LLM:</span> <span style=\"color: #d4b702; text-decoration-color: #d4b702\">────────────────────────────────────────────────────────────────────────────────────────</span>\n",
       "<span style=\"color: #e6edf3; text-decoration-color: #e6edf3; background-color: #0d1117\">{\"name\": \"travel_review_query\", \"arguments\": {\"query\": \"Посоветуй хороший японский ресторан в Москве.\"}}</span><span style=\"background-color: #0d1117\">           </span>\n",
       "</pre>\n"
      ],
      "text/plain": [
       "\u001b[1;3mOutput message of the LLM:\u001b[0m \u001b[38;2;212;183;2m────────────────────────────────────────────────────────────────────────────────────────\u001b[0m\n",
       "\u001b[38;2;230;237;243;48;2;13;17;23m{\"name\":\u001b[0m\u001b[38;2;230;237;243;48;2;13;17;23m \u001b[0m\u001b[38;2;230;237;243;48;2;13;17;23m\"travel_review_query\",\u001b[0m\u001b[38;2;230;237;243;48;2;13;17;23m \u001b[0m\u001b[38;2;230;237;243;48;2;13;17;23m\"arguments\":\u001b[0m\u001b[38;2;230;237;243;48;2;13;17;23m \u001b[0m\u001b[38;2;230;237;243;48;2;13;17;23m{\"query\":\u001b[0m\u001b[38;2;230;237;243;48;2;13;17;23m \u001b[0m\u001b[38;2;230;237;243;48;2;13;17;23m\"Посоветуй\u001b[0m\u001b[38;2;230;237;243;48;2;13;17;23m \u001b[0m\u001b[38;2;230;237;243;48;2;13;17;23mхороший\u001b[0m\u001b[38;2;230;237;243;48;2;13;17;23m \u001b[0m\u001b[38;2;230;237;243;48;2;13;17;23mяпонский\u001b[0m\u001b[38;2;230;237;243;48;2;13;17;23m \u001b[0m\u001b[38;2;230;237;243;48;2;13;17;23mресторан\u001b[0m\u001b[38;2;230;237;243;48;2;13;17;23m \u001b[0m\u001b[38;2;230;237;243;48;2;13;17;23mв\u001b[0m\u001b[38;2;230;237;243;48;2;13;17;23m \u001b[0m\u001b[38;2;230;237;243;48;2;13;17;23mМоскве.\"}}\u001b[0m\u001b[48;2;13;17;23m           \u001b[0m\n"
      ]
     },
     "metadata": {},
     "output_type": "display_data"
    },
    {
     "data": {
      "text/html": [
       "<pre style=\"white-space:pre;overflow-x:auto;line-height:normal;font-family:Menlo,'DejaVu Sans Mono',consolas,'Courier New',monospace\">╭─────────────────────────────────────────────────────────────────────────────────────────────────────────────────╮\n",
       "│ Calling tool: 'travel_review_query' with arguments: {'query': 'Посоветуй хороший японский ресторан в Москве.'}  │\n",
       "╰─────────────────────────────────────────────────────────────────────────────────────────────────────────────────╯\n",
       "</pre>\n"
      ],
      "text/plain": [
       "╭─────────────────────────────────────────────────────────────────────────────────────────────────────────────────╮\n",
       "│ Calling tool: 'travel_review_query' with arguments: {'query': 'Посоветуй хороший японский ресторан в Москве.'}  │\n",
       "╰─────────────────────────────────────────────────────────────────────────────────────────────────────────────────╯\n"
      ]
     },
     "metadata": {},
     "output_type": "display_data"
    },
    {
     "data": {
      "text/html": [
       "<pre style=\"white-space:pre;overflow-x:auto;line-height:normal;font-family:Menlo,'DejaVu Sans Mono',consolas,'Courier New',monospace\">Observations: Найденные отзывы о местах:\n",
       "\n",
       "=== Отзыв на Izumi ===\n",
       "Адрес: Москва, Мясницкая улица, 38с1\n",
       "Рейтинг: <span style=\"color: #008080; text-decoration-color: #008080; font-weight: bold\">5.0</span>\n",
       "Категории: Ресторан;Бар, паб;Караоке-клуб\n",
       "Текст: Одно из самых любимых заведений японской кухни в Москве!  За адекватную цену вы получите действительно \n",
       "вкусное, похожее на настоящее, японское блюдо. Разнообразное меню и изобилие различных видов саке. Приятный \n",
       "интерьер. Отдельно хочется отметить удобную функцию вызова официанта с помощью кнопочки на столе :<span style=\"font-weight: bold\">)</span> \n",
       "\n",
       "=== Отзыв на Tsunami Sushi &amp; Cocktails ===\n",
       "Адрес: Москва, Благовещенский переулок, 1А\n",
       "Рейтинг: <span style=\"color: #008080; text-decoration-color: #008080; font-weight: bold\">5.0</span>\n",
       "Категории: Ресторан;Бар, паб;Суши-бар\n",
       "Текст: Бомбически! Хотела поесть действительно вкусных роллов и не прогадала с выбором места. Приятный интерьер в \n",
       "стиле неонового Токио, техно/хаус музыка, которая не отвлекает от ужина, а только добавляет атмосферы. Посадка \n",
       "практически полная, но разговоры не мешали, шумно не было.  Брали роллы Мега Лосось, Радуга, Нигири с лососем и оши\n",
       "с гребешком. Очень вкусно и очень сытно. Рыба свежая, сочетания вкусов потрясающие. Муж брал коктейли и тоже \n",
       "остался доволен.  UPD <span style=\"color: #008080; text-decoration-color: #008080; font-weight: bold\">17</span> июня <span style=\"color: #008080; text-decoration-color: #008080; font-weight: bold\">2023</span>: Выбрала Tsunami, чтобы вдвоём с мужем отпраздновать мой день рождения. Как \n",
       "всегда безукаризненное обслуживание, наивкуснейшая еда, шикарная атмосфера. Пока люимое заведение японской кухни в \n",
       "Москве, куда действительно хочется возвращаться. \n",
       "\n",
       "=== Отзыв на Якитория ===\n",
       "Адрес: Москва, улица Маршала Полубоярова, <span style=\"color: #008080; text-decoration-color: #008080; font-weight: bold\">1</span>\n",
       "Рейтинг: <span style=\"color: #008080; text-decoration-color: #008080; font-weight: bold\">5.0</span>\n",
       "Категории: Суши-бар;Ресторан;Доставка еды и обедов\n",
       "Текст: Очень хороший  ресторанчик японской кухни. Заказываю всегда отсюда если хочется роллов. Очень вкусные \n",
       "горячие роллы. Детям также будет интересно перекусить тут. \n",
       "\n",
       "=== Отзыв на Izumi ===\n",
       "Адрес: Москва, Мясницкая улица, 38с1\n",
       "Рейтинг: <span style=\"color: #008080; text-decoration-color: #008080; font-weight: bold\">5.0</span>\n",
       "Категории: Ресторан;Бар, паб;Караоке-клуб\n",
       "Текст: Прекрасное место с великолепным тихим антуражем. Был днём, с друзьями. Еда от японского шефа на любой вкус, \n",
       "и для тех кто не любит рыбу и морепродукты и для тех кто их обожает. Я лично ел Тонкацу Рамен, мне очень \n",
       "понравилось, в отличии от большинства мест в Москве где всëтаки готовится под ожидания русских, тут именно что \n",
       "необычный вкус явно не из того  тех что можно попробовать в други местах.   Именно тут я пожалуй понял что именно \n",
       "японцы имеют ввиду по умами вкусом, реально очень плотный и при этом совершенно нежирный бульон просто пропитан \n",
       "вкусом который в других кухнях встречается довольно редко даже при самом поедании мяса. Однозначно рекомендую, \n",
       "однако предупреждаю что напитки как алко так и без состоят изо льда на <span style=\"color: #008080; text-decoration-color: #008080; font-weight: bold\">80</span>%. \n",
       "\n",
       "=== Отзыв на Каппо Хироки Аракава ===\n",
       "Адрес: Москва, улица Охотный Ряд, <span style=\"color: #008080; text-decoration-color: #008080; font-weight: bold\">2</span>\n",
       "Рейтинг: <span style=\"color: #008080; text-decoration-color: #008080; font-weight: bold\">5.0</span>\n",
       "Категории: Ресторан;Суши-бар\n",
       "Текст: С точки зрения продукта и еды, что ты получаешь это абсолютное качество. Мало того что все свежее, так ещё и\n",
       "вкус каждого блюда просто отточен. Водоросли настоящие, а не то что обычно в японских ресторанах приносят. За \n",
       "маринованный имбирь, который приносят к суши просто душу можно отдать, моти нежнейшее от и до<span style=\"color: #808000; text-decoration-color: #808000\">...</span> Реально как в \n",
       "Токио сгонял, только все ближе <span style=\"font-weight: bold\">)))</span> Обслуживание если вас будет обслуживать Эльвира будет высочайшим. Официант \n",
       "который был ещё что называется не але <span style=\"font-weight: bold\">)))</span> В общем отличный настоящий японский ресторан, после которого почти всем \n",
       "японским модным ресторанам Москвы должно быть стыдно<span style=\"color: #808000; text-decoration-color: #808000\">...</span> Единственная некрасивая мелочь это заваленная бумагами и \n",
       "всякой канцелярщиной барная стойка. Но я так, докопаться Однозначно рекомендую. Я в следующий раз на омакасе сэт \n",
       "пойду<span style=\"color: #808000; text-decoration-color: #808000\">...</span>\n",
       "</pre>\n"
      ],
      "text/plain": [
       "Observations: Найденные отзывы о местах:\n",
       "\n",
       "=== Отзыв на Izumi ===\n",
       "Адрес: Москва, Мясницкая улица, 38с1\n",
       "Рейтинг: \u001b[1;36m5.0\u001b[0m\n",
       "Категории: Ресторан;Бар, паб;Караоке-клуб\n",
       "Текст: Одно из самых любимых заведений японской кухни в Москве!  За адекватную цену вы получите действительно \n",
       "вкусное, похожее на настоящее, японское блюдо. Разнообразное меню и изобилие различных видов саке. Приятный \n",
       "интерьер. Отдельно хочется отметить удобную функцию вызова официанта с помощью кнопочки на столе :\u001b[1m)\u001b[0m \n",
       "\n",
       "=== Отзыв на Tsunami Sushi & Cocktails ===\n",
       "Адрес: Москва, Благовещенский переулок, 1А\n",
       "Рейтинг: \u001b[1;36m5.0\u001b[0m\n",
       "Категории: Ресторан;Бар, паб;Суши-бар\n",
       "Текст: Бомбически! Хотела поесть действительно вкусных роллов и не прогадала с выбором места. Приятный интерьер в \n",
       "стиле неонового Токио, техно/хаус музыка, которая не отвлекает от ужина, а только добавляет атмосферы. Посадка \n",
       "практически полная, но разговоры не мешали, шумно не было.  Брали роллы Мега Лосось, Радуга, Нигири с лососем и оши\n",
       "с гребешком. Очень вкусно и очень сытно. Рыба свежая, сочетания вкусов потрясающие. Муж брал коктейли и тоже \n",
       "остался доволен.  UPD \u001b[1;36m17\u001b[0m июня \u001b[1;36m2023\u001b[0m: Выбрала Tsunami, чтобы вдвоём с мужем отпраздновать мой день рождения. Как \n",
       "всегда безукаризненное обслуживание, наивкуснейшая еда, шикарная атмосфера. Пока люимое заведение японской кухни в \n",
       "Москве, куда действительно хочется возвращаться. \n",
       "\n",
       "=== Отзыв на Якитория ===\n",
       "Адрес: Москва, улица Маршала Полубоярова, \u001b[1;36m1\u001b[0m\n",
       "Рейтинг: \u001b[1;36m5.0\u001b[0m\n",
       "Категории: Суши-бар;Ресторан;Доставка еды и обедов\n",
       "Текст: Очень хороший  ресторанчик японской кухни. Заказываю всегда отсюда если хочется роллов. Очень вкусные \n",
       "горячие роллы. Детям также будет интересно перекусить тут. \n",
       "\n",
       "=== Отзыв на Izumi ===\n",
       "Адрес: Москва, Мясницкая улица, 38с1\n",
       "Рейтинг: \u001b[1;36m5.0\u001b[0m\n",
       "Категории: Ресторан;Бар, паб;Караоке-клуб\n",
       "Текст: Прекрасное место с великолепным тихим антуражем. Был днём, с друзьями. Еда от японского шефа на любой вкус, \n",
       "и для тех кто не любит рыбу и морепродукты и для тех кто их обожает. Я лично ел Тонкацу Рамен, мне очень \n",
       "понравилось, в отличии от большинства мест в Москве где всëтаки готовится под ожидания русских, тут именно что \n",
       "необычный вкус явно не из того  тех что можно попробовать в други местах.   Именно тут я пожалуй понял что именно \n",
       "японцы имеют ввиду по умами вкусом, реально очень плотный и при этом совершенно нежирный бульон просто пропитан \n",
       "вкусом который в других кухнях встречается довольно редко даже при самом поедании мяса. Однозначно рекомендую, \n",
       "однако предупреждаю что напитки как алко так и без состоят изо льда на \u001b[1;36m80\u001b[0m%. \n",
       "\n",
       "=== Отзыв на Каппо Хироки Аракава ===\n",
       "Адрес: Москва, улица Охотный Ряд, \u001b[1;36m2\u001b[0m\n",
       "Рейтинг: \u001b[1;36m5.0\u001b[0m\n",
       "Категории: Ресторан;Суши-бар\n",
       "Текст: С точки зрения продукта и еды, что ты получаешь это абсолютное качество. Мало того что все свежее, так ещё и\n",
       "вкус каждого блюда просто отточен. Водоросли настоящие, а не то что обычно в японских ресторанах приносят. За \n",
       "маринованный имбирь, который приносят к суши просто душу можно отдать, моти нежнейшее от и до\u001b[33m...\u001b[0m Реально как в \n",
       "Токио сгонял, только все ближе \u001b[1m)\u001b[0m\u001b[1m)\u001b[0m\u001b[1m)\u001b[0m Обслуживание если вас будет обслуживать Эльвира будет высочайшим. Официант \n",
       "который был ещё что называется не але \u001b[1m)\u001b[0m\u001b[1m)\u001b[0m\u001b[1m)\u001b[0m В общем отличный настоящий японский ресторан, после которого почти всем \n",
       "японским модным ресторанам Москвы должно быть стыдно\u001b[33m...\u001b[0m Единственная некрасивая мелочь это заваленная бумагами и \n",
       "всякой канцелярщиной барная стойка. Но я так, докопаться Однозначно рекомендую. Я в следующий раз на омакасе сэт \n",
       "пойду\u001b[33m...\u001b[0m\n"
      ]
     },
     "metadata": {},
     "output_type": "display_data"
    },
    {
     "data": {
      "text/html": [
       "<pre style=\"white-space:pre;overflow-x:auto;line-height:normal;font-family:Menlo,'DejaVu Sans Mono',consolas,'Courier New',monospace\"><span style=\"color: #7f7f7f; text-decoration-color: #7f7f7f\">[Step 1: Duration 21.90 seconds| Input tokens: 1,366 | Output tokens: 34]</span>\n",
       "</pre>\n"
      ],
      "text/plain": [
       "\u001b[2m[Step 1: Duration 21.90 seconds| Input tokens: 1,366 | Output tokens: 34]\u001b[0m\n"
      ]
     },
     "metadata": {},
     "output_type": "display_data"
    },
    {
     "data": {
      "text/html": [
       "<pre style=\"white-space:pre;overflow-x:auto;line-height:normal;font-family:Menlo,'DejaVu Sans Mono',consolas,'Courier New',monospace\"><span style=\"color: #d4b702; text-decoration-color: #d4b702\">━━━━━━━━━━━━━━━━━━━━━━━━━━━━━━━━━━━━━━━━━━━━━━━━━━━━━ </span><span style=\"font-weight: bold\">Step </span><span style=\"color: #008080; text-decoration-color: #008080; font-weight: bold\">2</span><span style=\"color: #d4b702; text-decoration-color: #d4b702\"> ━━━━━━━━━━━━━━━━━━━━━━━━━━━━━━━━━━━━━━━━━━━━━━━━━━━━━━</span>\n",
       "</pre>\n"
      ],
      "text/plain": [
       "\u001b[38;2;212;183;2m━━━━━━━━━━━━━━━━━━━━━━━━━━━━━━━━━━━━━━━━━━━━━━━━━━━━━ \u001b[0m\u001b[1mStep \u001b[0m\u001b[1;36m2\u001b[0m\u001b[38;2;212;183;2m ━━━━━━━━━━━━━━━━━━━━━━━━━━━━━━━━━━━━━━━━━━━━━━━━━━━━━━\u001b[0m\n"
      ]
     },
     "metadata": {},
     "output_type": "display_data"
    },
    {
     "data": {
      "text/html": [
       "<pre style=\"white-space:pre;overflow-x:auto;line-height:normal;font-family:Menlo,'DejaVu Sans Mono',consolas,'Courier New',monospace\"><span style=\"font-weight: bold; font-style: italic\">Output message of the LLM:</span> <span style=\"color: #d4b702; text-decoration-color: #d4b702\">────────────────────────────────────────────────────────────────────────────────────────</span>\n",
       "<span style=\"color: #e6edf3; text-decoration-color: #e6edf3; background-color: #0d1117\">{ \"name\": \"final_answer\", \"arguments\": {\"answer\": \"На основе отзывов рекомендуется посетить следующие японские </span><span style=\"background-color: #0d1117\">    </span>\n",
       "<span style=\"color: #e6edf3; text-decoration-color: #e6edf3; background-color: #0d1117\">рестораны в Москве:\\n\\n- </span><span style=\"color: #e6edf3; text-decoration-color: #e6edf3; background-color: #0d1117; font-weight: bold\">**Izumi**</span><span style=\"color: #e6edf3; text-decoration-color: #e6edf3; background-color: #0d1117\">\\n• Адрес: Москва, Мясницкая улица, 38с1\\n• Рейтинг: 5.0\\n• Особенности: Одно из </span>\n",
       "<span style=\"color: #e6edf3; text-decoration-color: #e6edf3; background-color: #0d1117\">самых любимых мест с разнообразным меню и удобной системой вызова официантов.\\n\\n- </span><span style=\"color: #e6edf3; text-decoration-color: #e6edf3; background-color: #0d1117; font-weight: bold\">**Tsunami Sushi &amp; Cocktails**</span><span style=\"color: #e6edf3; text-decoration-color: #e6edf3; background-color: #0d1117\">\\n•</span>\n",
       "<span style=\"color: #e6edf3; text-decoration-color: #e6edf3; background-color: #0d1117\">Адрес: Москва, Благовещенский переулок, 1А\\n• Рейтинг: 5.0\\n• Особенности: Отличное место с атмосферным интерьером </span>\n",
       "<span style=\"color: #e6edf3; text-decoration-color: #e6edf3; background-color: #0d1117\">и вкусными роллами.\\n\\n- </span><span style=\"color: #e6edf3; text-decoration-color: #e6edf3; background-color: #0d1117; font-weight: bold\">**Якитория**</span><span style=\"color: #e6edf3; text-decoration-color: #e6edf3; background-color: #0d1117\">\\n• Адрес: Москва, улица Маршала Полубоярова, 1\\n• Рейтинг: 5.0\\n• </span><span style=\"background-color: #0d1117\">           </span>\n",
       "<span style=\"color: #e6edf3; text-decoration-color: #e6edf3; background-color: #0d1117\">Особенности: Хороший выбор для любителей горячих роллов и детских семейных посещений.\\n\\nВыбирайте на свой вкус!\"} </span>\n",
       "<span style=\"color: #e6edf3; text-decoration-color: #e6edf3; background-color: #0d1117\">}</span><span style=\"background-color: #0d1117\">                                                                                                                  </span>\n",
       "</pre>\n"
      ],
      "text/plain": [
       "\u001b[1;3mOutput message of the LLM:\u001b[0m \u001b[38;2;212;183;2m────────────────────────────────────────────────────────────────────────────────────────\u001b[0m\n",
       "\u001b[38;2;230;237;243;48;2;13;17;23m{\u001b[0m\u001b[38;2;230;237;243;48;2;13;17;23m \u001b[0m\u001b[38;2;230;237;243;48;2;13;17;23m\"name\":\u001b[0m\u001b[38;2;230;237;243;48;2;13;17;23m \u001b[0m\u001b[38;2;230;237;243;48;2;13;17;23m\"final_answer\",\u001b[0m\u001b[38;2;230;237;243;48;2;13;17;23m \u001b[0m\u001b[38;2;230;237;243;48;2;13;17;23m\"arguments\":\u001b[0m\u001b[38;2;230;237;243;48;2;13;17;23m \u001b[0m\u001b[38;2;230;237;243;48;2;13;17;23m{\"answer\":\u001b[0m\u001b[38;2;230;237;243;48;2;13;17;23m \u001b[0m\u001b[38;2;230;237;243;48;2;13;17;23m\"На\u001b[0m\u001b[38;2;230;237;243;48;2;13;17;23m \u001b[0m\u001b[38;2;230;237;243;48;2;13;17;23mоснове\u001b[0m\u001b[38;2;230;237;243;48;2;13;17;23m \u001b[0m\u001b[38;2;230;237;243;48;2;13;17;23mотзывов\u001b[0m\u001b[38;2;230;237;243;48;2;13;17;23m \u001b[0m\u001b[38;2;230;237;243;48;2;13;17;23mрекомендуется\u001b[0m\u001b[38;2;230;237;243;48;2;13;17;23m \u001b[0m\u001b[38;2;230;237;243;48;2;13;17;23mпосетить\u001b[0m\u001b[38;2;230;237;243;48;2;13;17;23m \u001b[0m\u001b[38;2;230;237;243;48;2;13;17;23mследующие\u001b[0m\u001b[38;2;230;237;243;48;2;13;17;23m \u001b[0m\u001b[38;2;230;237;243;48;2;13;17;23mяпонские\u001b[0m\u001b[38;2;230;237;243;48;2;13;17;23m \u001b[0m\u001b[48;2;13;17;23m    \u001b[0m\n",
       "\u001b[38;2;230;237;243;48;2;13;17;23mрестораны\u001b[0m\u001b[38;2;230;237;243;48;2;13;17;23m \u001b[0m\u001b[38;2;230;237;243;48;2;13;17;23mв\u001b[0m\u001b[38;2;230;237;243;48;2;13;17;23m \u001b[0m\u001b[38;2;230;237;243;48;2;13;17;23mМоскве:\u001b[0m\u001b[38;2;230;237;243;48;2;13;17;23m\\n\u001b[0m\u001b[38;2;230;237;243;48;2;13;17;23m\\n\u001b[0m\u001b[38;2;230;237;243;48;2;13;17;23m-\u001b[0m\u001b[38;2;230;237;243;48;2;13;17;23m \u001b[0m\u001b[1;38;2;230;237;243;48;2;13;17;23m**Izumi**\u001b[0m\u001b[38;2;230;237;243;48;2;13;17;23m\\n\u001b[0m\u001b[38;2;230;237;243;48;2;13;17;23m•\u001b[0m\u001b[38;2;230;237;243;48;2;13;17;23m \u001b[0m\u001b[38;2;230;237;243;48;2;13;17;23mАдрес:\u001b[0m\u001b[38;2;230;237;243;48;2;13;17;23m \u001b[0m\u001b[38;2;230;237;243;48;2;13;17;23mМосква,\u001b[0m\u001b[38;2;230;237;243;48;2;13;17;23m \u001b[0m\u001b[38;2;230;237;243;48;2;13;17;23mМясницкая\u001b[0m\u001b[38;2;230;237;243;48;2;13;17;23m \u001b[0m\u001b[38;2;230;237;243;48;2;13;17;23mулица,\u001b[0m\u001b[38;2;230;237;243;48;2;13;17;23m \u001b[0m\u001b[38;2;230;237;243;48;2;13;17;23m38с1\u001b[0m\u001b[38;2;230;237;243;48;2;13;17;23m\\n\u001b[0m\u001b[38;2;230;237;243;48;2;13;17;23m•\u001b[0m\u001b[38;2;230;237;243;48;2;13;17;23m \u001b[0m\u001b[38;2;230;237;243;48;2;13;17;23mРейтинг:\u001b[0m\u001b[38;2;230;237;243;48;2;13;17;23m \u001b[0m\u001b[38;2;230;237;243;48;2;13;17;23m5.0\u001b[0m\u001b[38;2;230;237;243;48;2;13;17;23m\\n\u001b[0m\u001b[38;2;230;237;243;48;2;13;17;23m•\u001b[0m\u001b[38;2;230;237;243;48;2;13;17;23m \u001b[0m\u001b[38;2;230;237;243;48;2;13;17;23mОсобенности:\u001b[0m\u001b[38;2;230;237;243;48;2;13;17;23m \u001b[0m\u001b[38;2;230;237;243;48;2;13;17;23mОдно\u001b[0m\u001b[38;2;230;237;243;48;2;13;17;23m \u001b[0m\u001b[38;2;230;237;243;48;2;13;17;23mиз\u001b[0m\u001b[38;2;230;237;243;48;2;13;17;23m \u001b[0m\n",
       "\u001b[38;2;230;237;243;48;2;13;17;23mсамых\u001b[0m\u001b[38;2;230;237;243;48;2;13;17;23m \u001b[0m\u001b[38;2;230;237;243;48;2;13;17;23mлюбимых\u001b[0m\u001b[38;2;230;237;243;48;2;13;17;23m \u001b[0m\u001b[38;2;230;237;243;48;2;13;17;23mмест\u001b[0m\u001b[38;2;230;237;243;48;2;13;17;23m \u001b[0m\u001b[38;2;230;237;243;48;2;13;17;23mс\u001b[0m\u001b[38;2;230;237;243;48;2;13;17;23m \u001b[0m\u001b[38;2;230;237;243;48;2;13;17;23mразнообразным\u001b[0m\u001b[38;2;230;237;243;48;2;13;17;23m \u001b[0m\u001b[38;2;230;237;243;48;2;13;17;23mменю\u001b[0m\u001b[38;2;230;237;243;48;2;13;17;23m \u001b[0m\u001b[38;2;230;237;243;48;2;13;17;23mи\u001b[0m\u001b[38;2;230;237;243;48;2;13;17;23m \u001b[0m\u001b[38;2;230;237;243;48;2;13;17;23mудобной\u001b[0m\u001b[38;2;230;237;243;48;2;13;17;23m \u001b[0m\u001b[38;2;230;237;243;48;2;13;17;23mсистемой\u001b[0m\u001b[38;2;230;237;243;48;2;13;17;23m \u001b[0m\u001b[38;2;230;237;243;48;2;13;17;23mвызова\u001b[0m\u001b[38;2;230;237;243;48;2;13;17;23m \u001b[0m\u001b[38;2;230;237;243;48;2;13;17;23mофициантов.\u001b[0m\u001b[38;2;230;237;243;48;2;13;17;23m\\n\u001b[0m\u001b[38;2;230;237;243;48;2;13;17;23m\\n\u001b[0m\u001b[38;2;230;237;243;48;2;13;17;23m-\u001b[0m\u001b[38;2;230;237;243;48;2;13;17;23m \u001b[0m\u001b[1;38;2;230;237;243;48;2;13;17;23m**Tsunami Sushi & Cocktails**\u001b[0m\u001b[38;2;230;237;243;48;2;13;17;23m\\n\u001b[0m\u001b[38;2;230;237;243;48;2;13;17;23m•\u001b[0m\n",
       "\u001b[38;2;230;237;243;48;2;13;17;23mАдрес:\u001b[0m\u001b[38;2;230;237;243;48;2;13;17;23m \u001b[0m\u001b[38;2;230;237;243;48;2;13;17;23mМосква,\u001b[0m\u001b[38;2;230;237;243;48;2;13;17;23m \u001b[0m\u001b[38;2;230;237;243;48;2;13;17;23mБлаговещенский\u001b[0m\u001b[38;2;230;237;243;48;2;13;17;23m \u001b[0m\u001b[38;2;230;237;243;48;2;13;17;23mпереулок,\u001b[0m\u001b[38;2;230;237;243;48;2;13;17;23m \u001b[0m\u001b[38;2;230;237;243;48;2;13;17;23m1А\u001b[0m\u001b[38;2;230;237;243;48;2;13;17;23m\\n\u001b[0m\u001b[38;2;230;237;243;48;2;13;17;23m•\u001b[0m\u001b[38;2;230;237;243;48;2;13;17;23m \u001b[0m\u001b[38;2;230;237;243;48;2;13;17;23mРейтинг:\u001b[0m\u001b[38;2;230;237;243;48;2;13;17;23m \u001b[0m\u001b[38;2;230;237;243;48;2;13;17;23m5.0\u001b[0m\u001b[38;2;230;237;243;48;2;13;17;23m\\n\u001b[0m\u001b[38;2;230;237;243;48;2;13;17;23m•\u001b[0m\u001b[38;2;230;237;243;48;2;13;17;23m \u001b[0m\u001b[38;2;230;237;243;48;2;13;17;23mОсобенности:\u001b[0m\u001b[38;2;230;237;243;48;2;13;17;23m \u001b[0m\u001b[38;2;230;237;243;48;2;13;17;23mОтличное\u001b[0m\u001b[38;2;230;237;243;48;2;13;17;23m \u001b[0m\u001b[38;2;230;237;243;48;2;13;17;23mместо\u001b[0m\u001b[38;2;230;237;243;48;2;13;17;23m \u001b[0m\u001b[38;2;230;237;243;48;2;13;17;23mс\u001b[0m\u001b[38;2;230;237;243;48;2;13;17;23m \u001b[0m\u001b[38;2;230;237;243;48;2;13;17;23mатмосферным\u001b[0m\u001b[38;2;230;237;243;48;2;13;17;23m \u001b[0m\u001b[38;2;230;237;243;48;2;13;17;23mинтерьером\u001b[0m\u001b[38;2;230;237;243;48;2;13;17;23m \u001b[0m\n",
       "\u001b[38;2;230;237;243;48;2;13;17;23mи\u001b[0m\u001b[38;2;230;237;243;48;2;13;17;23m \u001b[0m\u001b[38;2;230;237;243;48;2;13;17;23mвкусными\u001b[0m\u001b[38;2;230;237;243;48;2;13;17;23m \u001b[0m\u001b[38;2;230;237;243;48;2;13;17;23mроллами.\u001b[0m\u001b[38;2;230;237;243;48;2;13;17;23m\\n\u001b[0m\u001b[38;2;230;237;243;48;2;13;17;23m\\n\u001b[0m\u001b[38;2;230;237;243;48;2;13;17;23m-\u001b[0m\u001b[38;2;230;237;243;48;2;13;17;23m \u001b[0m\u001b[1;38;2;230;237;243;48;2;13;17;23m**Якитория**\u001b[0m\u001b[38;2;230;237;243;48;2;13;17;23m\\n\u001b[0m\u001b[38;2;230;237;243;48;2;13;17;23m•\u001b[0m\u001b[38;2;230;237;243;48;2;13;17;23m \u001b[0m\u001b[38;2;230;237;243;48;2;13;17;23mАдрес:\u001b[0m\u001b[38;2;230;237;243;48;2;13;17;23m \u001b[0m\u001b[38;2;230;237;243;48;2;13;17;23mМосква,\u001b[0m\u001b[38;2;230;237;243;48;2;13;17;23m \u001b[0m\u001b[38;2;230;237;243;48;2;13;17;23mулица\u001b[0m\u001b[38;2;230;237;243;48;2;13;17;23m \u001b[0m\u001b[38;2;230;237;243;48;2;13;17;23mМаршала\u001b[0m\u001b[38;2;230;237;243;48;2;13;17;23m \u001b[0m\u001b[38;2;230;237;243;48;2;13;17;23mПолубоярова,\u001b[0m\u001b[38;2;230;237;243;48;2;13;17;23m \u001b[0m\u001b[38;2;230;237;243;48;2;13;17;23m1\u001b[0m\u001b[38;2;230;237;243;48;2;13;17;23m\\n\u001b[0m\u001b[38;2;230;237;243;48;2;13;17;23m•\u001b[0m\u001b[38;2;230;237;243;48;2;13;17;23m \u001b[0m\u001b[38;2;230;237;243;48;2;13;17;23mРейтинг:\u001b[0m\u001b[38;2;230;237;243;48;2;13;17;23m \u001b[0m\u001b[38;2;230;237;243;48;2;13;17;23m5.0\u001b[0m\u001b[38;2;230;237;243;48;2;13;17;23m\\n\u001b[0m\u001b[38;2;230;237;243;48;2;13;17;23m•\u001b[0m\u001b[38;2;230;237;243;48;2;13;17;23m \u001b[0m\u001b[48;2;13;17;23m           \u001b[0m\n",
       "\u001b[38;2;230;237;243;48;2;13;17;23mОсобенности:\u001b[0m\u001b[38;2;230;237;243;48;2;13;17;23m \u001b[0m\u001b[38;2;230;237;243;48;2;13;17;23mХороший\u001b[0m\u001b[38;2;230;237;243;48;2;13;17;23m \u001b[0m\u001b[38;2;230;237;243;48;2;13;17;23mвыбор\u001b[0m\u001b[38;2;230;237;243;48;2;13;17;23m \u001b[0m\u001b[38;2;230;237;243;48;2;13;17;23mдля\u001b[0m\u001b[38;2;230;237;243;48;2;13;17;23m \u001b[0m\u001b[38;2;230;237;243;48;2;13;17;23mлюбителей\u001b[0m\u001b[38;2;230;237;243;48;2;13;17;23m \u001b[0m\u001b[38;2;230;237;243;48;2;13;17;23mгорячих\u001b[0m\u001b[38;2;230;237;243;48;2;13;17;23m \u001b[0m\u001b[38;2;230;237;243;48;2;13;17;23mроллов\u001b[0m\u001b[38;2;230;237;243;48;2;13;17;23m \u001b[0m\u001b[38;2;230;237;243;48;2;13;17;23mи\u001b[0m\u001b[38;2;230;237;243;48;2;13;17;23m \u001b[0m\u001b[38;2;230;237;243;48;2;13;17;23mдетских\u001b[0m\u001b[38;2;230;237;243;48;2;13;17;23m \u001b[0m\u001b[38;2;230;237;243;48;2;13;17;23mсемейных\u001b[0m\u001b[38;2;230;237;243;48;2;13;17;23m \u001b[0m\u001b[38;2;230;237;243;48;2;13;17;23mпосещений.\u001b[0m\u001b[38;2;230;237;243;48;2;13;17;23m\\n\u001b[0m\u001b[38;2;230;237;243;48;2;13;17;23m\\n\u001b[0m\u001b[38;2;230;237;243;48;2;13;17;23mВыбирайте\u001b[0m\u001b[38;2;230;237;243;48;2;13;17;23m \u001b[0m\u001b[38;2;230;237;243;48;2;13;17;23mна\u001b[0m\u001b[38;2;230;237;243;48;2;13;17;23m \u001b[0m\u001b[38;2;230;237;243;48;2;13;17;23mсвой\u001b[0m\u001b[38;2;230;237;243;48;2;13;17;23m \u001b[0m\u001b[38;2;230;237;243;48;2;13;17;23mвкус!\"}\u001b[0m\u001b[38;2;230;237;243;48;2;13;17;23m \u001b[0m\n",
       "\u001b[38;2;230;237;243;48;2;13;17;23m}\u001b[0m\u001b[48;2;13;17;23m                                                                                                                  \u001b[0m\n"
      ]
     },
     "metadata": {},
     "output_type": "display_data"
    },
    {
     "data": {
      "text/html": [
       "<pre style=\"white-space:pre;overflow-x:auto;line-height:normal;font-family:Menlo,'DejaVu Sans Mono',consolas,'Courier New',monospace\">╭─────────────────────────────────────────────────────────────────────────────────────────────────────────────────╮\n",
       "│ Calling tool: 'final_answer' with arguments: {'answer': 'На основе отзывов рекомендуется посетить следующие     │\n",
       "│ японские рестораны в Москве:\\n\\n- **Izumi**\\n• Адрес: Москва, Мясницкая улица, 38с1\\n• Рейтинг: 5.0\\n•          │\n",
       "│ Особенности: Одно из самых любимых мест с разнообразным меню и удобной системой вызова официантов.\\n\\n-         │\n",
       "│ **Tsunami Sushi &amp; Cocktails**\\n• Адрес: Москва, Благовещенский переулок, 1А\\n• Рейтинг: 5.0\\n• Особенности:     │\n",
       "│ Отличное место с атмосферным интерьером и вкусными роллами.\\n\\n- **Якитория**\\n• Адрес: Москва, улица Маршала   │\n",
       "│ Полубоярова, 1\\n• Рейтинг: 5.0\\n• Особенности: Хороший выбор для любителей горячих роллов и детских семейных    │\n",
       "│ посещений.\\n\\nВыбирайте на свой вкус!'}                                                                         │\n",
       "╰─────────────────────────────────────────────────────────────────────────────────────────────────────────────────╯\n",
       "</pre>\n"
      ],
      "text/plain": [
       "╭─────────────────────────────────────────────────────────────────────────────────────────────────────────────────╮\n",
       "│ Calling tool: 'final_answer' with arguments: {'answer': 'На основе отзывов рекомендуется посетить следующие     │\n",
       "│ японские рестораны в Москве:\\n\\n- **Izumi**\\n• Адрес: Москва, Мясницкая улица, 38с1\\n• Рейтинг: 5.0\\n•          │\n",
       "│ Особенности: Одно из самых любимых мест с разнообразным меню и удобной системой вызова официантов.\\n\\n-         │\n",
       "│ **Tsunami Sushi & Cocktails**\\n• Адрес: Москва, Благовещенский переулок, 1А\\n• Рейтинг: 5.0\\n• Особенности:     │\n",
       "│ Отличное место с атмосферным интерьером и вкусными роллами.\\n\\n- **Якитория**\\n• Адрес: Москва, улица Маршала   │\n",
       "│ Полубоярова, 1\\n• Рейтинг: 5.0\\n• Особенности: Хороший выбор для любителей горячих роллов и детских семейных    │\n",
       "│ посещений.\\n\\nВыбирайте на свой вкус!'}                                                                         │\n",
       "╰─────────────────────────────────────────────────────────────────────────────────────────────────────────────────╯\n"
      ]
     },
     "metadata": {},
     "output_type": "display_data"
    },
    {
     "data": {
      "text/html": [
       "<pre style=\"white-space:pre;overflow-x:auto;line-height:normal;font-family:Menlo,'DejaVu Sans Mono',consolas,'Courier New',monospace\"><span style=\"color: #d4b702; text-decoration-color: #d4b702; font-weight: bold\">Final answer: На основе отзывов рекомендуется посетить следующие японские рестораны в Москве:</span>\n",
       "\n",
       "<span style=\"color: #d4b702; text-decoration-color: #d4b702; font-weight: bold\">- **Izumi**</span>\n",
       "<span style=\"color: #d4b702; text-decoration-color: #d4b702; font-weight: bold\">• Адрес: Москва, Мясницкая улица, 38с1</span>\n",
       "<span style=\"color: #d4b702; text-decoration-color: #d4b702; font-weight: bold\">• Рейтинг: 5.0</span>\n",
       "<span style=\"color: #d4b702; text-decoration-color: #d4b702; font-weight: bold\">• Особенности: Одно из самых любимых мест с разнообразным меню и удобной системой вызова официантов.</span>\n",
       "\n",
       "<span style=\"color: #d4b702; text-decoration-color: #d4b702; font-weight: bold\">- **Tsunami Sushi &amp; Cocktails**</span>\n",
       "<span style=\"color: #d4b702; text-decoration-color: #d4b702; font-weight: bold\">• Адрес: Москва, Благовещенский переулок, 1А</span>\n",
       "<span style=\"color: #d4b702; text-decoration-color: #d4b702; font-weight: bold\">• Рейтинг: 5.0</span>\n",
       "<span style=\"color: #d4b702; text-decoration-color: #d4b702; font-weight: bold\">• Особенности: Отличное место с атмосферным интерьером и вкусными роллами.</span>\n",
       "\n",
       "<span style=\"color: #d4b702; text-decoration-color: #d4b702; font-weight: bold\">- **Якитория**</span>\n",
       "<span style=\"color: #d4b702; text-decoration-color: #d4b702; font-weight: bold\">• Адрес: Москва, улица Маршала Полубоярова, 1</span>\n",
       "<span style=\"color: #d4b702; text-decoration-color: #d4b702; font-weight: bold\">• Рейтинг: 5.0</span>\n",
       "<span style=\"color: #d4b702; text-decoration-color: #d4b702; font-weight: bold\">• Особенности: Хороший выбор для любителей горячих роллов и детских семейных посещений.</span>\n",
       "\n",
       "<span style=\"color: #d4b702; text-decoration-color: #d4b702; font-weight: bold\">Выбирайте на свой вкус!</span>\n",
       "</pre>\n"
      ],
      "text/plain": [
       "\u001b[1;38;2;212;183;2mFinal answer: На основе отзывов рекомендуется посетить следующие японские рестораны в Москве:\u001b[0m\n",
       "\n",
       "\u001b[1;38;2;212;183;2m- **Izumi**\u001b[0m\n",
       "\u001b[1;38;2;212;183;2m• Адрес: Москва, Мясницкая улица, 38с1\u001b[0m\n",
       "\u001b[1;38;2;212;183;2m• Рейтинг: 5.0\u001b[0m\n",
       "\u001b[1;38;2;212;183;2m• Особенности: Одно из самых любимых мест с разнообразным меню и удобной системой вызова официантов.\u001b[0m\n",
       "\n",
       "\u001b[1;38;2;212;183;2m- **Tsunami Sushi & Cocktails**\u001b[0m\n",
       "\u001b[1;38;2;212;183;2m• Адрес: Москва, Благовещенский переулок, 1А\u001b[0m\n",
       "\u001b[1;38;2;212;183;2m• Рейтинг: 5.0\u001b[0m\n",
       "\u001b[1;38;2;212;183;2m• Особенности: Отличное место с атмосферным интерьером и вкусными роллами.\u001b[0m\n",
       "\n",
       "\u001b[1;38;2;212;183;2m- **Якитория**\u001b[0m\n",
       "\u001b[1;38;2;212;183;2m• Адрес: Москва, улица Маршала Полубоярова, 1\u001b[0m\n",
       "\u001b[1;38;2;212;183;2m• Рейтинг: 5.0\u001b[0m\n",
       "\u001b[1;38;2;212;183;2m• Особенности: Хороший выбор для любителей горячих роллов и детских семейных посещений.\u001b[0m\n",
       "\n",
       "\u001b[1;38;2;212;183;2mВыбирайте на свой вкус!\u001b[0m\n"
      ]
     },
     "metadata": {},
     "output_type": "display_data"
    },
    {
     "data": {
      "text/html": [
       "<pre style=\"white-space:pre;overflow-x:auto;line-height:normal;font-family:Menlo,'DejaVu Sans Mono',consolas,'Courier New',monospace\"><span style=\"color: #7f7f7f; text-decoration-color: #7f7f7f\">[Step 2: Duration 42.88 seconds| Input tokens: 4,072 | Output tokens: 282]</span>\n",
       "</pre>\n"
      ],
      "text/plain": [
       "\u001b[2m[Step 2: Duration 42.88 seconds| Input tokens: 4,072 | Output tokens: 282]\u001b[0m\n"
      ]
     },
     "metadata": {},
     "output_type": "display_data"
    }
   ],
   "source": [
    "resp = agent.run(\"Я бы хотел посетить японский ресторан. Можешь ли посоветовать хороший в Москве?\")"
   ]
  },
  {
   "cell_type": "code",
   "execution_count": null,
   "id": "f532b98c",
   "metadata": {},
   "outputs": [
    {
     "name": "stdout",
     "output_type": "stream",
     "text": [
      "С учетом мнений посетителей, могу порекомендовать следующие японские рестораны в Москве:\n",
      "\n",
      "- **Tsunami Sushi & Cocktails**\n",
      "Адрес: Москва, Благовещенский переулок, 1А\n",
      "Рейтинг: 5.0\n",
      "Отзыв: Уютное место с неоновой атмосферой Токио и отличными роллами.\n",
      "- **Izumi** (Мясницкая улица, 38с1)\n",
      "Рейтинг: 5.0\n",
      "Отзыв: Предлагает разнообразное меню при адекватной цене с акцентом на аутентичность японской кухни.\n",
      "- **Якитория** (угол Маршала Полубоярова, д.1)\n",
      "Рейтинг: 5.0\n",
      "Отзыв: Рекомендуется для любителей роллов и горячих блюд с детским меню.\n"
     ]
    }
   ],
   "source": [
    "print(resp)"
   ]
  }
 ],
 "metadata": {
  "kernelspec": {
   "display_name": ".venv",
   "language": "python",
   "name": "python3"
  },
  "language_info": {
   "codemirror_mode": {
    "name": "ipython",
    "version": 3
   },
   "file_extension": ".py",
   "mimetype": "text/x-python",
   "name": "python",
   "nbconvert_exporter": "python",
   "pygments_lexer": "ipython3",
   "version": "3.13.3"
  }
 },
 "nbformat": 4,
 "nbformat_minor": 5
}
